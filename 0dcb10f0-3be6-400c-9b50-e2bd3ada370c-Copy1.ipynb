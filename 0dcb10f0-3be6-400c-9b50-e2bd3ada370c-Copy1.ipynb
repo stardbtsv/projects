{
 "cells": [
  {
   "cell_type": "code",
   "execution_count": 1,
   "id": "0017f8e7",
   "metadata": {},
   "outputs": [],
   "source": [
    "import os\n",
    "import pandas as pd\n",
    "from sqlalchemy import create_engine\n",
    "\n",
    "# путь к БД на вашем компьютере (например, в той же папке, что и тетрадь)\n",
    "path_to_db_local = 'telecomm_csi.db'\n",
    "# путь к БД на платформе\n",
    "path_to_db_platform = '/datasets/telecomm_csi.db'\n",
    "# итоговый путь к БД\n",
    "path_to_db = None\n",
    "\n",
    "# если путь на вашем компьютере ведёт к БД, то он становится итоговым\n",
    "if os.path.exists(path_to_db_local):\n",
    "    path_to_db = path_to_db_local\n",
    "# иначе: если путь на платформе ведёт к БД, то он становится итоговым\n",
    "elif os.path.exists(path_to_db_platform):\n",
    "    path_to_db = path_to_db_platform\n",
    "# иначе выводится сообщение о том, что файл не найден\n",
    "else:\n",
    "    raise Exception('Файл с базой данных SQLite не найден!')\n",
    "\n",
    "# если итоговый путь не пустой\n",
    "if path_to_db:\n",
    "    # то создаём подключение к базе\n",
    "    engine = create_engine(f'sqlite:///{path_to_db}', echo=False)\n",
    "    \n",
    "    # пример запроса\n",
    "    query = \"\"\"\n",
    "    SELECT u.user_id,\n",
    "    u.lt_day,\n",
    "    CASE \n",
    "           WHEN u.lt_day <= 365 THEN 'новый'\n",
    "           WHEN u.lt_day > 365 THEN 'старый' \n",
    "       END AS is_new,\n",
    "    u.age,\n",
    "    CASE \n",
    "           WHEN u.gender_segment = 1.0 THEN 'женщина'\n",
    "           WHEN u.gender_segment = 0.0 THEN 'мужчина'\n",
    "       END AS gender_segment,\n",
    "    u.os_name,\n",
    "    u.cpe_type_name,\n",
    "    l.country,\n",
    "    l.city,\n",
    "    SUBSTRING(a.title,4) AS age_segment,\n",
    "    SUBSTRING(t.title,4) AS traffic_segment, \n",
    "    SUBSTRING(l.title,4) AS lifetime_segment,\n",
    "    u.nps_score,\n",
    "    CASE \n",
    "           WHEN u.nps_score <= 6 THEN 'критики'\n",
    "           WHEN u.nps_score >= 9 THEN 'сторонники' \n",
    "           ELSE 'нейтралы'\n",
    "       END AS nps_group\n",
    "    FROM user AS u\n",
    "    LEFT JOIN location AS l ON u.location_id = l.location_id\n",
    "    LEFT JOIN age_segment AS a ON u.age_gr_id = a.age_gr_id\n",
    "    LEFT JOIN traffic_segment AS t ON u.tr_gr_id = t.tr_gr_id\n",
    "    LEFT JOIN lifetime_segment AS l ON u.lt_gr_id = l.lt_gr_id;\n",
    "    \"\"\"\n",
    "    \n",
    "    # создаём датафрейм по данным запроса\n",
    "    df = pd.read_sql(query, engine)"
   ]
  },
  {
   "cell_type": "code",
   "execution_count": 2,
   "id": "3965faf2",
   "metadata": {},
   "outputs": [
    {
     "data": {
      "text/html": [
       "<div>\n",
       "<style scoped>\n",
       "    .dataframe tbody tr th:only-of-type {\n",
       "        vertical-align: middle;\n",
       "    }\n",
       "\n",
       "    .dataframe tbody tr th {\n",
       "        vertical-align: top;\n",
       "    }\n",
       "\n",
       "    .dataframe thead th {\n",
       "        text-align: right;\n",
       "    }\n",
       "</style>\n",
       "<table border=\"1\" class=\"dataframe\">\n",
       "  <thead>\n",
       "    <tr style=\"text-align: right;\">\n",
       "      <th></th>\n",
       "      <th>user_id</th>\n",
       "      <th>lt_day</th>\n",
       "      <th>is_new</th>\n",
       "      <th>age</th>\n",
       "      <th>gender_segment</th>\n",
       "      <th>os_name</th>\n",
       "      <th>cpe_type_name</th>\n",
       "      <th>country</th>\n",
       "      <th>city</th>\n",
       "      <th>age_segment</th>\n",
       "      <th>traffic_segment</th>\n",
       "      <th>lifetime_segment</th>\n",
       "      <th>nps_score</th>\n",
       "      <th>nps_group</th>\n",
       "    </tr>\n",
       "  </thead>\n",
       "  <tbody>\n",
       "    <tr>\n",
       "      <th>0</th>\n",
       "      <td>A001A2</td>\n",
       "      <td>2320</td>\n",
       "      <td>старый</td>\n",
       "      <td>45.0</td>\n",
       "      <td>женщина</td>\n",
       "      <td>ANDROID</td>\n",
       "      <td>SMARTPHONE</td>\n",
       "      <td>Россия</td>\n",
       "      <td>Уфа</td>\n",
       "      <td>45-54</td>\n",
       "      <td>1-5</td>\n",
       "      <td>36+</td>\n",
       "      <td>10</td>\n",
       "      <td>сторонники</td>\n",
       "    </tr>\n",
       "    <tr>\n",
       "      <th>1</th>\n",
       "      <td>A001WF</td>\n",
       "      <td>2344</td>\n",
       "      <td>старый</td>\n",
       "      <td>53.0</td>\n",
       "      <td>мужчина</td>\n",
       "      <td>ANDROID</td>\n",
       "      <td>SMARTPHONE</td>\n",
       "      <td>Россия</td>\n",
       "      <td>Киров</td>\n",
       "      <td>45-54</td>\n",
       "      <td>1-5</td>\n",
       "      <td>36+</td>\n",
       "      <td>10</td>\n",
       "      <td>сторонники</td>\n",
       "    </tr>\n",
       "    <tr>\n",
       "      <th>2</th>\n",
       "      <td>A003Q7</td>\n",
       "      <td>467</td>\n",
       "      <td>старый</td>\n",
       "      <td>57.0</td>\n",
       "      <td>мужчина</td>\n",
       "      <td>ANDROID</td>\n",
       "      <td>SMARTPHONE</td>\n",
       "      <td>Россия</td>\n",
       "      <td>Москва</td>\n",
       "      <td>55-64</td>\n",
       "      <td>20-25</td>\n",
       "      <td>13-24</td>\n",
       "      <td>10</td>\n",
       "      <td>сторонники</td>\n",
       "    </tr>\n",
       "  </tbody>\n",
       "</table>\n",
       "</div>"
      ],
      "text/plain": [
       "  user_id  lt_day  is_new   age gender_segment  os_name cpe_type_name country  \\\n",
       "0  A001A2    2320  старый  45.0        женщина  ANDROID    SMARTPHONE  Россия   \n",
       "1  A001WF    2344  старый  53.0        мужчина  ANDROID    SMARTPHONE  Россия   \n",
       "2  A003Q7     467  старый  57.0        мужчина  ANDROID    SMARTPHONE  Россия   \n",
       "\n",
       "     city age_segment traffic_segment lifetime_segment  nps_score   nps_group  \n",
       "0     Уфа       45-54             1-5              36+         10  сторонники  \n",
       "1   Киров       45-54             1-5              36+         10  сторонники  \n",
       "2  Москва       55-64           20-25            13-24         10  сторонники  "
      ]
     },
     "execution_count": 2,
     "metadata": {},
     "output_type": "execute_result"
    }
   ],
   "source": [
    "df.head(3)"
   ]
  },
  {
   "cell_type": "code",
   "execution_count": 3,
   "id": "9db04858",
   "metadata": {},
   "outputs": [],
   "source": [
    "df.to_csv('telecomm_csi_tableau.csv', index=False)"
   ]
  },
  {
   "cell_type": "markdown",
   "id": "7865ceb2",
   "metadata": {},
   "source": [
    "### Дашборд ###"
   ]
  },
  {
   "cell_type": "markdown",
   "id": "794dd9d5",
   "metadata": {},
   "source": [
    "https://public.tableau.com/app/profile/alexey3476/viz/NPS_16764700610680/Dashboard1"
   ]
  },
  {
   "cell_type": "code",
   "execution_count": 4,
   "id": "aca23254",
   "metadata": {
    "scrolled": true
   },
   "outputs": [
    {
     "data": {
      "text/html": [
       "<div>\n",
       "<style scoped>\n",
       "    .dataframe tbody tr th:only-of-type {\n",
       "        vertical-align: middle;\n",
       "    }\n",
       "\n",
       "    .dataframe tbody tr th {\n",
       "        vertical-align: top;\n",
       "    }\n",
       "\n",
       "    .dataframe thead th {\n",
       "        text-align: right;\n",
       "    }\n",
       "</style>\n",
       "<table border=\"1\" class=\"dataframe\">\n",
       "  <thead>\n",
       "    <tr style=\"text-align: right;\">\n",
       "      <th></th>\n",
       "      <th>lifetime_segment</th>\n",
       "      <th>1</th>\n",
       "      <th>13-24</th>\n",
       "      <th>2</th>\n",
       "      <th>25-36</th>\n",
       "      <th>3</th>\n",
       "      <th>36+</th>\n",
       "      <th>4-6</th>\n",
       "      <th>7-12</th>\n",
       "    </tr>\n",
       "    <tr>\n",
       "      <th>gender_segment</th>\n",
       "      <th>age_segment</th>\n",
       "      <th></th>\n",
       "      <th></th>\n",
       "      <th></th>\n",
       "      <th></th>\n",
       "      <th></th>\n",
       "      <th></th>\n",
       "      <th></th>\n",
       "      <th></th>\n",
       "    </tr>\n",
       "  </thead>\n",
       "  <tbody>\n",
       "    <tr>\n",
       "      <th rowspan=\"8\" valign=\"top\">женщина</th>\n",
       "      <th>16-24</th>\n",
       "      <td>NaN</td>\n",
       "      <td>0.087361</td>\n",
       "      <td>0.245045</td>\n",
       "      <td>0.019798</td>\n",
       "      <td>0.236111</td>\n",
       "      <td>-0.065762</td>\n",
       "      <td>0.271100</td>\n",
       "      <td>0.164977</td>\n",
       "    </tr>\n",
       "    <tr>\n",
       "      <th>25-34</th>\n",
       "      <td>1.000000</td>\n",
       "      <td>0.214059</td>\n",
       "      <td>0.316308</td>\n",
       "      <td>0.145153</td>\n",
       "      <td>0.359766</td>\n",
       "      <td>0.027744</td>\n",
       "      <td>0.319668</td>\n",
       "      <td>0.291300</td>\n",
       "    </tr>\n",
       "    <tr>\n",
       "      <th>35-44</th>\n",
       "      <td>0.333333</td>\n",
       "      <td>0.332435</td>\n",
       "      <td>0.450846</td>\n",
       "      <td>0.277917</td>\n",
       "      <td>0.431775</td>\n",
       "      <td>0.175038</td>\n",
       "      <td>0.449479</td>\n",
       "      <td>0.390759</td>\n",
       "    </tr>\n",
       "    <tr>\n",
       "      <th>45-54</th>\n",
       "      <td>1.000000</td>\n",
       "      <td>0.438341</td>\n",
       "      <td>0.516770</td>\n",
       "      <td>0.360275</td>\n",
       "      <td>0.584877</td>\n",
       "      <td>0.300104</td>\n",
       "      <td>0.546698</td>\n",
       "      <td>0.484736</td>\n",
       "    </tr>\n",
       "    <tr>\n",
       "      <th>55-64</th>\n",
       "      <td>NaN</td>\n",
       "      <td>0.518766</td>\n",
       "      <td>0.644828</td>\n",
       "      <td>0.475520</td>\n",
       "      <td>0.555066</td>\n",
       "      <td>0.417602</td>\n",
       "      <td>0.584660</td>\n",
       "      <td>0.583396</td>\n",
       "    </tr>\n",
       "    <tr>\n",
       "      <th>66 +</th>\n",
       "      <td>NaN</td>\n",
       "      <td>0.565394</td>\n",
       "      <td>0.540000</td>\n",
       "      <td>0.559633</td>\n",
       "      <td>0.531915</td>\n",
       "      <td>0.536269</td>\n",
       "      <td>0.537143</td>\n",
       "      <td>0.640898</td>\n",
       "    </tr>\n",
       "    <tr>\n",
       "      <th>n/a</th>\n",
       "      <td>1.000000</td>\n",
       "      <td>0.500000</td>\n",
       "      <td>NaN</td>\n",
       "      <td>-0.333333</td>\n",
       "      <td>NaN</td>\n",
       "      <td>-0.285714</td>\n",
       "      <td>NaN</td>\n",
       "      <td>1.000000</td>\n",
       "    </tr>\n",
       "    <tr>\n",
       "      <th>до 16</th>\n",
       "      <td>NaN</td>\n",
       "      <td>0.017857</td>\n",
       "      <td>0.500000</td>\n",
       "      <td>0.076923</td>\n",
       "      <td>0.111111</td>\n",
       "      <td>-0.106383</td>\n",
       "      <td>0.222222</td>\n",
       "      <td>0.200000</td>\n",
       "    </tr>\n",
       "    <tr>\n",
       "      <th rowspan=\"8\" valign=\"top\">мужчина</th>\n",
       "      <th>16-24</th>\n",
       "      <td>NaN</td>\n",
       "      <td>0.059398</td>\n",
       "      <td>0.182390</td>\n",
       "      <td>-0.030520</td>\n",
       "      <td>0.211240</td>\n",
       "      <td>-0.104258</td>\n",
       "      <td>0.205832</td>\n",
       "      <td>0.186634</td>\n",
       "    </tr>\n",
       "    <tr>\n",
       "      <th>25-34</th>\n",
       "      <td>0.000000</td>\n",
       "      <td>0.153785</td>\n",
       "      <td>0.285943</td>\n",
       "      <td>0.087561</td>\n",
       "      <td>0.291468</td>\n",
       "      <td>-0.042019</td>\n",
       "      <td>0.274569</td>\n",
       "      <td>0.237321</td>\n",
       "    </tr>\n",
       "    <tr>\n",
       "      <th>35-44</th>\n",
       "      <td>0.333333</td>\n",
       "      <td>0.308812</td>\n",
       "      <td>0.371588</td>\n",
       "      <td>0.217884</td>\n",
       "      <td>0.400000</td>\n",
       "      <td>0.100904</td>\n",
       "      <td>0.375661</td>\n",
       "      <td>0.368573</td>\n",
       "    </tr>\n",
       "    <tr>\n",
       "      <th>45-54</th>\n",
       "      <td>1.000000</td>\n",
       "      <td>0.376032</td>\n",
       "      <td>0.536913</td>\n",
       "      <td>0.311503</td>\n",
       "      <td>0.493590</td>\n",
       "      <td>0.223342</td>\n",
       "      <td>0.417763</td>\n",
       "      <td>0.448566</td>\n",
       "    </tr>\n",
       "    <tr>\n",
       "      <th>55-64</th>\n",
       "      <td>1.000000</td>\n",
       "      <td>0.427167</td>\n",
       "      <td>0.393548</td>\n",
       "      <td>0.392430</td>\n",
       "      <td>0.540146</td>\n",
       "      <td>0.334850</td>\n",
       "      <td>0.572482</td>\n",
       "      <td>0.469546</td>\n",
       "    </tr>\n",
       "    <tr>\n",
       "      <th>66 +</th>\n",
       "      <td>NaN</td>\n",
       "      <td>0.473451</td>\n",
       "      <td>0.673913</td>\n",
       "      <td>0.387205</td>\n",
       "      <td>0.696970</td>\n",
       "      <td>0.437282</td>\n",
       "      <td>0.573913</td>\n",
       "      <td>0.544444</td>\n",
       "    </tr>\n",
       "    <tr>\n",
       "      <th>n/a</th>\n",
       "      <td>0.000000</td>\n",
       "      <td>-0.333333</td>\n",
       "      <td>-1.000000</td>\n",
       "      <td>-1.000000</td>\n",
       "      <td>NaN</td>\n",
       "      <td>-0.538462</td>\n",
       "      <td>-0.500000</td>\n",
       "      <td>-1.000000</td>\n",
       "    </tr>\n",
       "    <tr>\n",
       "      <th>до 16</th>\n",
       "      <td>NaN</td>\n",
       "      <td>0.041096</td>\n",
       "      <td>0.000000</td>\n",
       "      <td>-0.092308</td>\n",
       "      <td>0.357143</td>\n",
       "      <td>-0.286765</td>\n",
       "      <td>0.058824</td>\n",
       "      <td>0.000000</td>\n",
       "    </tr>\n",
       "  </tbody>\n",
       "</table>\n",
       "</div>"
      ],
      "text/plain": [
       "lifetime_segment                   1     13-24         2     25-36         3  \\\n",
       "gender_segment age_segment                                                     \n",
       "женщина        16-24             NaN  0.087361  0.245045  0.019798  0.236111   \n",
       "               25-34        1.000000  0.214059  0.316308  0.145153  0.359766   \n",
       "               35-44        0.333333  0.332435  0.450846  0.277917  0.431775   \n",
       "               45-54        1.000000  0.438341  0.516770  0.360275  0.584877   \n",
       "               55-64             NaN  0.518766  0.644828  0.475520  0.555066   \n",
       "               66 +              NaN  0.565394  0.540000  0.559633  0.531915   \n",
       "               n/a          1.000000  0.500000       NaN -0.333333       NaN   \n",
       "               до 16             NaN  0.017857  0.500000  0.076923  0.111111   \n",
       "мужчина        16-24             NaN  0.059398  0.182390 -0.030520  0.211240   \n",
       "               25-34        0.000000  0.153785  0.285943  0.087561  0.291468   \n",
       "               35-44        0.333333  0.308812  0.371588  0.217884  0.400000   \n",
       "               45-54        1.000000  0.376032  0.536913  0.311503  0.493590   \n",
       "               55-64        1.000000  0.427167  0.393548  0.392430  0.540146   \n",
       "               66 +              NaN  0.473451  0.673913  0.387205  0.696970   \n",
       "               n/a          0.000000 -0.333333 -1.000000 -1.000000       NaN   \n",
       "               до 16             NaN  0.041096  0.000000 -0.092308  0.357143   \n",
       "\n",
       "lifetime_segment                 36+       4-6      7-12  \n",
       "gender_segment age_segment                                \n",
       "женщина        16-24       -0.065762  0.271100  0.164977  \n",
       "               25-34        0.027744  0.319668  0.291300  \n",
       "               35-44        0.175038  0.449479  0.390759  \n",
       "               45-54        0.300104  0.546698  0.484736  \n",
       "               55-64        0.417602  0.584660  0.583396  \n",
       "               66 +         0.536269  0.537143  0.640898  \n",
       "               n/a         -0.285714       NaN  1.000000  \n",
       "               до 16       -0.106383  0.222222  0.200000  \n",
       "мужчина        16-24       -0.104258  0.205832  0.186634  \n",
       "               25-34       -0.042019  0.274569  0.237321  \n",
       "               35-44        0.100904  0.375661  0.368573  \n",
       "               45-54        0.223342  0.417763  0.448566  \n",
       "               55-64        0.334850  0.572482  0.469546  \n",
       "               66 +         0.437282  0.573913  0.544444  \n",
       "               n/a         -0.538462 -0.500000 -1.000000  \n",
       "               до 16       -0.286765  0.058824  0.000000  "
      ]
     },
     "metadata": {},
     "output_type": "display_data"
    },
    {
     "data": {
      "image/png": "[encoded data removed]",
      "text/plain": [
       "<Figure size 1080x576 with 2 Axes>"
      ]
     },
     "metadata": {
      "needs_background": "light"
     },
     "output_type": "display_data"
    }
   ],
   "source": [
    "# Код ревьюера\n",
    "import seaborn as sns\n",
    "import matplotlib.pyplot as plt\n",
    "d = df.assign(total_nps=lambda row: row['nps_group'].map({'сторонники': 1, 'нейтралы': 0, 'критики': -1}))\\\n",
    "  .pivot_table(index=['gender_segment', 'age_segment'], columns=['lifetime_segment'], values='total_nps', aggfunc='mean')\n",
    "display(d)\n",
    "plt.figure(figsize=(15,8))\n",
    "sns.heatmap(d, annot=True);"
   ]
  },
  {
   "cell_type": "markdown",
   "id": "9e13847b",
   "metadata": {},
   "source": [
    "### Презентация ##"
   ]
  },
  {
   "cell_type": "markdown",
   "id": "eba38614",
   "metadata": {},
   "source": [
    "https://disk.yandex.ru/i/XUMk0EPq2GcY9w"
   ]
  }
 ],
 "metadata": {
  "ExecuteTimeLog": [
   {
    "duration": 521,
    "start_time": "2023-02-15T18:20:52.757Z"
   },
   {
    "duration": 72,
    "start_time": "2023-02-15T18:20:53.279Z"
   },
   {
    "duration": 50,
    "start_time": "2023-02-15T18:20:53.353Z"
   },
   {
    "duration": 0,
    "start_time": "2023-02-15T18:20:53.404Z"
   },
   {
    "duration": 0,
    "start_time": "2023-02-15T18:20:53.405Z"
   },
   {
    "duration": 445,
    "start_time": "2023-02-15T18:21:03.006Z"
   },
   {
    "duration": 49,
    "start_time": "2023-02-15T18:21:03.452Z"
   },
   {
    "duration": 3,
    "start_time": "2023-02-15T18:21:03.503Z"
   },
   {
    "duration": 420,
    "start_time": "2023-02-15T18:21:03.508Z"
   },
   {
    "duration": 0,
    "start_time": "2023-02-15T18:21:03.929Z"
   },
   {
    "duration": 567,
    "start_time": "2023-02-15T18:23:17.838Z"
   },
   {
    "duration": 361,
    "start_time": "2023-02-15T18:23:18.407Z"
   },
   {
    "duration": 0,
    "start_time": "2023-02-15T18:23:18.770Z"
   },
   {
    "duration": 0,
    "start_time": "2023-02-15T18:23:18.771Z"
   },
   {
    "duration": 614,
    "start_time": "2023-02-16T18:52:18.478Z"
   },
   {
    "duration": 540,
    "start_time": "2023-02-16T18:52:19.094Z"
   },
   {
    "duration": 0,
    "start_time": "2023-02-16T18:52:19.640Z"
   },
   {
    "duration": 0,
    "start_time": "2023-02-16T18:52:19.641Z"
   },
   {
    "duration": 49,
    "start_time": "2023-02-16T18:53:31.018Z"
   },
   {
    "duration": 409,
    "start_time": "2023-02-16T18:53:32.292Z"
   },
   {
    "duration": 442,
    "start_time": "2023-02-16T18:54:05.093Z"
   },
   {
    "duration": 44,
    "start_time": "2023-02-16T18:55:39.924Z"
   },
   {
    "duration": 428,
    "start_time": "2023-02-16T18:55:40.881Z"
   },
   {
    "duration": 581,
    "start_time": "2023-02-16T18:56:53.817Z"
   },
   {
    "duration": 494,
    "start_time": "2023-02-16T18:56:54.400Z"
   },
   {
    "duration": 0,
    "start_time": "2023-02-16T18:56:54.896Z"
   },
   {
    "duration": 0,
    "start_time": "2023-02-16T18:56:54.899Z"
   },
   {
    "duration": 560,
    "start_time": "2023-02-17T13:24:26.250Z"
   },
   {
    "duration": 350,
    "start_time": "2023-02-17T13:24:26.812Z"
   },
   {
    "duration": 0,
    "start_time": "2023-02-17T13:24:27.164Z"
   },
   {
    "duration": 0,
    "start_time": "2023-02-17T13:24:27.166Z"
   },
   {
    "duration": 838,
    "start_time": "2023-02-17T13:29:33.196Z"
   },
   {
    "duration": 0,
    "start_time": "2023-02-17T13:29:34.037Z"
   },
   {
    "duration": 0,
    "start_time": "2023-02-17T13:29:34.038Z"
   },
   {
    "duration": 5814,
    "start_time": "2023-02-17T13:31:03.136Z"
   },
   {
    "duration": 18,
    "start_time": "2023-02-17T13:31:08.952Z"
   },
   {
    "duration": 4570,
    "start_time": "2023-02-17T13:31:08.972Z"
   },
   {
    "duration": 6327,
    "start_time": "2023-02-18T06:40:54.588Z"
   },
   {
    "duration": 21,
    "start_time": "2023-02-18T06:41:00.917Z"
   },
   {
    "duration": 4412,
    "start_time": "2023-02-18T06:41:00.940Z"
   },
   {
    "duration": 3113,
    "start_time": "2023-02-18T06:54:41.969Z"
   },
   {
    "duration": 6636,
    "start_time": "2023-02-18T10:32:03.481Z"
   },
   {
    "duration": 17,
    "start_time": "2023-02-18T10:32:10.119Z"
   },
   {
    "duration": 4617,
    "start_time": "2023-02-18T10:32:10.137Z"
   },
   {
    "duration": 3694,
    "start_time": "2023-02-18T10:32:14.756Z"
   }
  ],
  "kernelspec": {
   "display_name": "Python 3 (ipykernel)",
   "language": "python",
   "name": "python3"
  },
  "language_info": {
   "codemirror_mode": {
    "name": "ipython",
    "version": 3
   },
   "file_extension": ".py",
   "mimetype": "text/x-python",
   "name": "python",
   "nbconvert_exporter": "python",
   "pygments_lexer": "ipython3",
   "version": "3.9.5"
  },
  "toc": {
   "base_numbering": 1,
   "nav_menu": {},
   "number_sections": true,
   "sideBar": true,
   "skip_h1_title": true,
   "title_cell": "Table of Contents",
   "title_sidebar": "Contents",
   "toc_cell": false,
   "toc_position": {},
   "toc_section_display": true,
   "toc_window_display": false
  }
 },
 "nbformat": 4,
 "nbformat_minor": 5
}
