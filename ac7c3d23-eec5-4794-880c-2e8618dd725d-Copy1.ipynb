{
 "cells": [
  {
   "cell_type": "markdown",
   "metadata": {
    "id": "sIfNaMOxgFyK"
   },
   "source": [
    "## Исследование данных о российском кинопрокате\n",
    "\n"
   ]
  },
  {
   "cell_type": "markdown",
   "metadata": {
    "id": "3bSlkCsbgFyL"
   },
   "source": [
    "### Шаг 1. Откройте файлы с данными и объедините их в один датафрейм. \n",
    "\n",
    "Объедините данные таким образом, чтобы все объекты из датасета `mkrf_movies` обязательно вошли в получившийся датафрейм. \n",
    "\n",
    "<div id=\"accordion\">\n",
    "    <div class=\"card\">\n",
    "        <div class=\"card-header\" id=\"headingThree\">\n",
    "            <button class=\"btn btn-link collapsed\" data-toggle=\"collapse\" data-target=\"#collapseHint_0\" aria-expanded=\"false\" aria-controls=\"collapseHint_0\">Подсказка</button>\n",
    "        </div>\n",
    "        <div id=\"collapseHint_0\" class=\"collapse\" aria-labelledby=\"headingThree\" data-parent=\"#accordion\">\n",
    "            <div class=\"card-body\">\n",
    "Обратите внимание на тип данных столбца, по которому будете соединять датафреймы. Тип данных этих столбцов должен быть одинаковым в обоих датафреймах.\n",
    "            </div>\n",
    "        </div>\n",
    "    </div>\n",
    "</div>"
   ]
  },
  {
   "cell_type": "code",
   "execution_count": 1,
   "metadata": {
    "id": "dw87FlzMgFyM",
    "scrolled": true
   },
   "outputs": [],
   "source": [
    "import pandas as pd\n",
    "import matplotlib.pyplot as plt\n",
    "\n",
    "data = pd.read_csv('/datasets/mkrf_movies.csv')"
   ]
  },
  {
   "cell_type": "markdown",
   "metadata": {},
   "source": [
    "**Выведем основную информацию о данных**"
   ]
  },
  {
   "cell_type": "code",
   "execution_count": 2,
   "metadata": {
    "scrolled": false
   },
   "outputs": [
    {
     "name": "stdout",
     "output_type": "stream",
     "text": [
      "<class 'pandas.core.frame.DataFrame'>\n",
      "RangeIndex: 7486 entries, 0 to 7485\n",
      "Data columns (total 15 columns):\n",
      " #   Column                 Non-Null Count  Dtype  \n",
      "---  ------                 --------------  -----  \n",
      " 0   title                  7486 non-null   object \n",
      " 1   puNumber               7486 non-null   object \n",
      " 2   show_start_date        7486 non-null   object \n",
      " 3   type                   7486 non-null   object \n",
      " 4   film_studio            7468 non-null   object \n",
      " 5   production_country     7484 non-null   object \n",
      " 6   director               7477 non-null   object \n",
      " 7   producer               6918 non-null   object \n",
      " 8   age_restriction        7486 non-null   object \n",
      " 9   refundable_support     332 non-null    float64\n",
      " 10  nonrefundable_support  332 non-null    float64\n",
      " 11  budget                 332 non-null    float64\n",
      " 12  financing_source       332 non-null    object \n",
      " 13  ratings                6519 non-null   object \n",
      " 14  genres                 6510 non-null   object \n",
      "dtypes: float64(3), object(12)\n",
      "memory usage: 877.4+ KB\n"
     ]
    }
   ],
   "source": [
    "data.info()"
   ]
  },
  {
   "cell_type": "markdown",
   "metadata": {},
   "source": []
  },
  {
   "cell_type": "markdown",
   "metadata": {},
   "source": [
    "**Удалим строковое значение в столбце 'puNumber', чтобы избежать ошибки при объединении таблиц.**"
   ]
  },
  {
   "cell_type": "code",
   "execution_count": 3,
   "metadata": {},
   "outputs": [
    {
     "name": "stdout",
     "output_type": "stream",
     "text": [
      "                                  title puNumber           show_start_date  \\\n",
      "1797  Курбан-роман. (История с жертвой)      нет  2014-05-15T12:00:00.000Z   \n",
      "\n",
      "                type       film_studio production_country director  \\\n",
      "1797  Художественный  ФОНД \"ИННОВАЦИЯ\"             Россия  С.Юзеев   \n",
      "\n",
      "        producer                  age_restriction  refundable_support  \\\n",
      "1797  М.Галицкая  «12+» - для детей старше 12 лет                 NaN   \n",
      "\n",
      "      nonrefundable_support  budget financing_source ratings genres  \n",
      "1797                    NaN     NaN              NaN     NaN    NaN  \n"
     ]
    }
   ],
   "source": [
    "print(data.query('puNumber == \"нет\"')) "
   ]
  },
  {
   "cell_type": "code",
   "execution_count": 4,
   "metadata": {},
   "outputs": [],
   "source": [
    "data = data.query('puNumber != \"нет\"')"
   ]
  },
  {
   "cell_type": "code",
   "execution_count": 5,
   "metadata": {},
   "outputs": [],
   "source": [
    "data['puNumber'] = data['puNumber'].astype('int')"
   ]
  },
  {
   "cell_type": "markdown",
   "metadata": {},
   "source": [
    "**Откроем данные data_box_office**"
   ]
  },
  {
   "cell_type": "code",
   "execution_count": 6,
   "metadata": {
    "scrolled": true
   },
   "outputs": [
    {
     "name": "stdout",
     "output_type": "stream",
     "text": [
      "    puNumber    box_office\n",
      "0  111000113  2.450000e+03\n",
      "1  111000115  6.104000e+04\n",
      "2  111000116  1.530300e+08\n",
      "3  111000117  1.226096e+07\n",
      "4  111000118  1.636841e+08\n",
      "5  111000119  4.293650e+06\n",
      "6  111000212  2.000000e+02\n",
      "7  111000216  3.555670e+05\n",
      "8  111000313  7.100000e+02\n",
      "9  111000314  1.607970e+06\n"
     ]
    }
   ],
   "source": [
    "data_box_office = pd.read_csv('/datasets/mkrf_shows.csv')\n",
    "print(data_box_office.head(10))"
   ]
  },
  {
   "cell_type": "code",
   "execution_count": 7,
   "metadata": {},
   "outputs": [
    {
     "name": "stdout",
     "output_type": "stream",
     "text": [
      "<class 'pandas.core.frame.DataFrame'>\n",
      "RangeIndex: 3158 entries, 0 to 3157\n",
      "Data columns (total 2 columns):\n",
      " #   Column      Non-Null Count  Dtype  \n",
      "---  ------      --------------  -----  \n",
      " 0   puNumber    3158 non-null   int64  \n",
      " 1   box_office  3158 non-null   float64\n",
      "dtypes: float64(1), int64(1)\n",
      "memory usage: 49.5 KB\n"
     ]
    }
   ],
   "source": [
    "data_box_office.info()"
   ]
  },
  {
   "cell_type": "markdown",
   "metadata": {},
   "source": [
    "**Добавим данные data_box_office по общему столбцу 'puNumber'**"
   ]
  },
  {
   "cell_type": "code",
   "execution_count": 8,
   "metadata": {},
   "outputs": [],
   "source": [
    "data = data.merge(data_box_office, on='puNumber', how = 'left')"
   ]
  },
  {
   "cell_type": "code",
   "execution_count": 9,
   "metadata": {
    "scrolled": true
   },
   "outputs": [
    {
     "name": "stdout",
     "output_type": "stream",
     "text": [
      "                                             title   puNumber  \\\n",
      "0                                 Открытый простор  221048915   \n",
      "1                             Особо важное задание  111013716   \n",
      "2                                     Особо опасен  221038416   \n",
      "3                                     Особо опасен  221026916   \n",
      "4                                     Особо опасен  221030815   \n",
      "...                                            ...        ...   \n",
      "7480     Сад художника: Американский импрессионизм  126008019   \n",
      "7481                               Звериная ярость  121037819   \n",
      "7482     Щенячий патруль: Скорей спешим на помощь!  124010819   \n",
      "7483      Машины песенки. Серия \"Испанские мотивы\"  124010619   \n",
      "7484  Машины песенки. Серия \"Когда цветут кактусы\"  124010719   \n",
      "\n",
      "               show_start_date             type  \\\n",
      "0     2015-11-27T12:00:00.000Z   Художественный   \n",
      "1     2016-09-13T12:00:00.000Z   Художественный   \n",
      "2     2016-10-10T12:00:00.000Z   Художественный   \n",
      "3     2016-06-10T12:00:00.000Z   Художественный   \n",
      "4     2015-07-29T12:00:00.000Z   Художественный   \n",
      "...                        ...              ...   \n",
      "7480  2019-12-23T12:00:00.000Z           Прочие   \n",
      "7481  2019-12-24T12:00:00.000Z   Художественный   \n",
      "7482  2019-12-28T12:00:00.000Z   Художественный   \n",
      "7483  2019-12-30T12:00:00.000Z     Анимационный   \n",
      "7484  2019-12-30T12:00:00.000Z     Анимационный   \n",
      "\n",
      "                                            film_studio  \\\n",
      "0     Тачстоун Пикчерз, Кобальт Пикчерз, Бикон Пикче...   \n",
      "1                                 Киностудия \"Мосфильм\"   \n",
      "2     Юниверсал Пикчерз, Кикстарт Продакшнз, Марк Пл...   \n",
      "3     Юниверсал Пикчерз, Кикстарт Продакшнз, Марк Пл...   \n",
      "4     Юниверсал Пикчерз, Кикстарт Продакшнз, Марк Пл...   \n",
      "...                                                 ...   \n",
      "7480                               Севен Артс Продакшнз   \n",
      "7481  Дэниел Гродник Продакшнз, Вандерфилм Медиа Кор...   \n",
      "7482           Никелодеон Анимейшн Студиос, Спин Мастер   \n",
      "7483           Анимаккорд Лтд., ООО Студия \"АНИМАККОРД\"   \n",
      "7484           Анимаккорд Лтд., ООО Студия \"АНИМАККОРД\"   \n",
      "\n",
      "           production_country           director  \\\n",
      "0                         США      Кевин Костнер   \n",
      "1                        СССР          Е.Матвеев   \n",
      "2                         США  Тимур Бекмамбетов   \n",
      "3                         США  Тимур Бекмамбетов   \n",
      "4                         США  Тимур Бекмамбетов   \n",
      "...                       ...                ...   \n",
      "7480           Великобритания        Фил Грабски   \n",
      "7481                      США         Ник Пауэлл   \n",
      "7482             США - Канада   Чарльз Е.Бастьен   \n",
      "7483  Республика Кипр, Россия           А.Беляев   \n",
      "7484  Республика Кипр, Россия           И.Трусов   \n",
      "\n",
      "                                               producer  \\\n",
      "0             Дэвид Валдес, Кевин Костнер, Джейк Эбертс   \n",
      "1                                                   NaN   \n",
      "2     Джим Лемли, Джейсон Нетер, Марк Е.Платт, Яйн Смит   \n",
      "3     Джим Лемли, Джейсон Нетер, Марк Е.Платт, Яйн Смит   \n",
      "4     Джим Лемли, Джейсон Нетер, Марк Е.Платт, Яйн Смит   \n",
      "...                                                 ...   \n",
      "7480                                        Фил Грабски   \n",
      "7481  Джефф Боулер, Дэниэл Гродник, Луильо Руис, Брэ...   \n",
      "7482                                     Дженнифер Додж   \n",
      "7483                                          Д.Ловейко   \n",
      "7484                                          Д.Ловейко   \n",
      "\n",
      "                             age_restriction  refundable_support  \\\n",
      "0                «18+» - запрещено для детей                 NaN   \n",
      "1              «6+» - для детей старше 6 лет                 NaN   \n",
      "2                «18+» - запрещено для детей                 NaN   \n",
      "3                «18+» - запрещено для детей                 NaN   \n",
      "4                «18+» - запрещено для детей                 NaN   \n",
      "...                                      ...                 ...   \n",
      "7480         «12+» - для детей старше 12 лет                 NaN   \n",
      "7481         «16+» - для детей старше 16 лет                 NaN   \n",
      "7482  «0+» - для любой зрительской аудитории                 NaN   \n",
      "7483  «0+» - для любой зрительской аудитории                 NaN   \n",
      "7484  «0+» - для любой зрительской аудитории                 NaN   \n",
      "\n",
      "      nonrefundable_support  budget financing_source ratings  \\\n",
      "0                       NaN     NaN              NaN     7.2   \n",
      "1                       NaN     NaN              NaN     6.6   \n",
      "2                       NaN     NaN              NaN     6.8   \n",
      "3                       NaN     NaN              NaN     6.8   \n",
      "4                       NaN     NaN              NaN     6.8   \n",
      "...                     ...     ...              ...     ...   \n",
      "7480                    NaN     NaN              NaN     NaN   \n",
      "7481                    NaN     NaN              NaN     5.4   \n",
      "7482                    NaN     NaN              NaN     NaN   \n",
      "7483                    NaN     NaN              NaN     NaN   \n",
      "7484                    NaN     NaN              NaN     6.3   \n",
      "\n",
      "                         genres  box_office  \n",
      "0        боевик,драма,мелодрама         NaN  \n",
      "1                 драма,военный         NaN  \n",
      "2     фантастика,боевик,триллер         NaN  \n",
      "3     фантастика,боевик,триллер         NaN  \n",
      "4     фантастика,боевик,триллер         NaN  \n",
      "...                         ...         ...  \n",
      "7480                        NaN         NaN  \n",
      "7481             боевик,триллер         NaN  \n",
      "7482                        NaN         NaN  \n",
      "7483                        NaN         NaN  \n",
      "7484            комедия,вестерн         NaN  \n",
      "\n",
      "[7485 rows x 16 columns]\n"
     ]
    }
   ],
   "source": [
    "print(data)"
   ]
  },
  {
   "cell_type": "code",
   "execution_count": 10,
   "metadata": {},
   "outputs": [
    {
     "name": "stdout",
     "output_type": "stream",
     "text": [
      "<class 'pandas.core.frame.DataFrame'>\n",
      "Int64Index: 7485 entries, 0 to 7484\n",
      "Data columns (total 16 columns):\n",
      " #   Column                 Non-Null Count  Dtype  \n",
      "---  ------                 --------------  -----  \n",
      " 0   title                  7485 non-null   object \n",
      " 1   puNumber               7485 non-null   int64  \n",
      " 2   show_start_date        7485 non-null   object \n",
      " 3   type                   7485 non-null   object \n",
      " 4   film_studio            7467 non-null   object \n",
      " 5   production_country     7483 non-null   object \n",
      " 6   director               7476 non-null   object \n",
      " 7   producer               6917 non-null   object \n",
      " 8   age_restriction        7485 non-null   object \n",
      " 9   refundable_support     332 non-null    float64\n",
      " 10  nonrefundable_support  332 non-null    float64\n",
      " 11  budget                 332 non-null    float64\n",
      " 12  financing_source       332 non-null    object \n",
      " 13  ratings                6519 non-null   object \n",
      " 14  genres                 6510 non-null   object \n",
      " 15  box_office             3158 non-null   float64\n",
      "dtypes: float64(4), int64(1), object(11)\n",
      "memory usage: 994.1+ KB\n"
     ]
    }
   ],
   "source": [
    "data.info()"
   ]
  },
  {
   "cell_type": "markdown",
   "metadata": {},
   "source": [
    "**Вывод:** Кроме одной удалённой ручным образом строки, никаких потерь при переносе не произошло"
   ]
  },
  {
   "cell_type": "markdown",
   "metadata": {
    "id": "KLDGpPG0gFyM"
   },
   "source": [
    "### Шаг 2. Предобработка данных"
   ]
  },
  {
   "cell_type": "markdown",
   "metadata": {
    "id": "ssWwKXsxgFyO"
   },
   "source": [
    "#### Шаг 2.1. Проверьте типы данных\n",
    "\n",
    "- Проверьте типы данных в датафрейме и преобразуйте их там, где это необходимо."
   ]
  },
  {
   "cell_type": "code",
   "execution_count": 11,
   "metadata": {
    "id": "kVGSplJOgFyO"
   },
   "outputs": [
    {
     "name": "stdout",
     "output_type": "stream",
     "text": [
      "<class 'pandas.core.frame.DataFrame'>\n",
      "Int64Index: 7485 entries, 0 to 7484\n",
      "Data columns (total 16 columns):\n",
      " #   Column                 Non-Null Count  Dtype  \n",
      "---  ------                 --------------  -----  \n",
      " 0   title                  7485 non-null   object \n",
      " 1   puNumber               7485 non-null   int64  \n",
      " 2   show_start_date        7485 non-null   object \n",
      " 3   type                   7485 non-null   object \n",
      " 4   film_studio            7467 non-null   object \n",
      " 5   production_country     7483 non-null   object \n",
      " 6   director               7476 non-null   object \n",
      " 7   producer               6917 non-null   object \n",
      " 8   age_restriction        7485 non-null   object \n",
      " 9   refundable_support     332 non-null    float64\n",
      " 10  nonrefundable_support  332 non-null    float64\n",
      " 11  budget                 332 non-null    float64\n",
      " 12  financing_source       332 non-null    object \n",
      " 13  ratings                6519 non-null   object \n",
      " 14  genres                 6510 non-null   object \n",
      " 15  box_office             3158 non-null   float64\n",
      "dtypes: float64(4), int64(1), object(11)\n",
      "memory usage: 994.1+ KB\n"
     ]
    }
   ],
   "source": [
    "data.info()"
   ]
  },
  {
   "cell_type": "markdown",
   "metadata": {},
   "source": [
    "**Обязательному изменению типа данных требуют столбцы:**\n",
    "\n",
    "1) 'show_start_date' (*datetime*)\n",
    "\n",
    "2) 'ratings' (*float*)"
   ]
  },
  {
   "cell_type": "code",
   "execution_count": 12,
   "metadata": {},
   "outputs": [],
   "source": [
    "data['show_start_date']= pd.to_datetime(data['show_start_date'], format='%Y-%m-%dT%H:%M:%S')"
   ]
  },
  {
   "cell_type": "code",
   "execution_count": 13,
   "metadata": {},
   "outputs": [
    {
     "name": "stdout",
     "output_type": "stream",
     "text": [
      "['7.2' '6.6' '6.8' '7.7' '8.3' '8.0' '7.8' '8.1' '7.1' '6.0' '7.4' '5.8'\n",
      " '8.7' '6.3' '6.9' '5.0' '4.3' '7.3' '7.0' '6.4' nan '8.2' '7.5' '6.7'\n",
      " '7.9' '5.9' '6.2' '5.6' '6.5' '2.4' '7.6' '6.1' '8.6' '8.5' '8.8' '5.5'\n",
      " '5.1' '5.7' '5.4' '99%' '4.4' '4.5' '5.3' '4.1' '8.4' '2.6' '3.8' '4.6'\n",
      " '4.8' '4.0' '3.0' '1.6' '4.2' '5.2' '4.7' '4.9' '3.9' '2.7' '3.3' '2.9'\n",
      " '28%' '3.7' '1.4' '3.1' '97%' '3.5' '3.2' '2.8' '1.5' '2.1' '2.5' '9.2'\n",
      " '3.4' '1.1' '3.6' '83%' '64%' '91%' '94%' '62%' '79%' '90%' '19%' '88%'\n",
      " '1.0' '89%' '1.3' '1.9' '1.8' '1.2' '1.7' '9.0' '98%' '8.9' '9.1']\n"
     ]
    }
   ],
   "source": [
    "print(data['ratings'].unique())"
   ]
  },
  {
   "cell_type": "code",
   "execution_count": 14,
   "metadata": {
    "scrolled": true
   },
   "outputs": [
    {
     "name": "stdout",
     "output_type": "stream",
     "text": [
      "['7.2' '6.6' '6.8' '7.7' '8.3' '8.0' '7.8' '8.1' '7.1' '6.0' '7.4' '5.8'\n",
      " '8.7' '6.3' '6.9' '5.0' '4.3' '7.3' '7.0' '6.4' nan '8.2' '7.5' '6.7'\n",
      " '7.9' '5.9' '6.2' '5.6' '6.5' '2.4' '7.6' '6.1' '8.6' '8.5' '8.8' '5.5'\n",
      " '5.1' '5.7' '5.4' '9.9' '4.4' '4.5' '5.3' '4.1' '8.4' '2.6' '3.8' '4.6'\n",
      " '4.8' '4.0' '3.0' '1.6' '4.2' '5.2' '4.7' '4.9' '3.9' '2.7' '3.3' '2.9'\n",
      " '2.8' '3.7' '1.4' '3.1' '9.7' '3.5' '3.2' '1.5' '2.1' '2.5' '9.2' '3.4'\n",
      " '1.1' '3.6' '9.1' '9.4' '9.0' '1.9' '1.0' '8.9' '1.3' '1.8' '1.2' '1.7'\n",
      " '9.8']\n"
     ]
    }
   ],
   "source": [
    "data['ratings'] = data['ratings'].str.replace('28%', '2.8') \n",
    "data['ratings'] = data['ratings'].str.replace('99%', '9.9') \n",
    "data['ratings'] = data['ratings'].str.replace('83%', '8.3') \n",
    "data['ratings'] = data['ratings'].str.replace('64%', '6.4') \n",
    "data['ratings'] = data['ratings'].str.replace('91%', '9.1') \n",
    "data['ratings'] = data['ratings'].str.replace('94%', '9.4') \n",
    "data['ratings'] = data['ratings'].str.replace('90%', '9.0') \n",
    "data['ratings'] = data['ratings'].str.replace('19%', '1.9') \n",
    "data['ratings'] = data['ratings'].str.replace('88%', '8.8')\n",
    "data['ratings'] = data['ratings'].str.replace('89%', '8.9') \n",
    "data['ratings'] = data['ratings'].str.replace('98%', '9.8') \n",
    "data['ratings'] = data['ratings'].str.replace('79%', '7.9')\n",
    "data['ratings'] = data['ratings'].str.replace('97%', '9.7') \n",
    "data['ratings'] = data['ratings'].str.replace('62%', '6.2')\n",
    "print(data['ratings'].unique())"
   ]
  },
  {
   "cell_type": "code",
   "execution_count": 15,
   "metadata": {},
   "outputs": [],
   "source": [
    "data['ratings'] = data['ratings'].astype('float')"
   ]
  },
  {
   "cell_type": "code",
   "execution_count": 16,
   "metadata": {
    "scrolled": true
   },
   "outputs": [
    {
     "name": "stdout",
     "output_type": "stream",
     "text": [
      "<class 'pandas.core.frame.DataFrame'>\n",
      "Int64Index: 7485 entries, 0 to 7484\n",
      "Data columns (total 16 columns):\n",
      " #   Column                 Non-Null Count  Dtype              \n",
      "---  ------                 --------------  -----              \n",
      " 0   title                  7485 non-null   object             \n",
      " 1   puNumber               7485 non-null   int64              \n",
      " 2   show_start_date        7485 non-null   datetime64[ns, UTC]\n",
      " 3   type                   7485 non-null   object             \n",
      " 4   film_studio            7467 non-null   object             \n",
      " 5   production_country     7483 non-null   object             \n",
      " 6   director               7476 non-null   object             \n",
      " 7   producer               6917 non-null   object             \n",
      " 8   age_restriction        7485 non-null   object             \n",
      " 9   refundable_support     332 non-null    float64            \n",
      " 10  nonrefundable_support  332 non-null    float64            \n",
      " 11  budget                 332 non-null    float64            \n",
      " 12  financing_source       332 non-null    object             \n",
      " 13  ratings                6519 non-null   float64            \n",
      " 14  genres                 6510 non-null   object             \n",
      " 15  box_office             3158 non-null   float64            \n",
      "dtypes: datetime64[ns, UTC](1), float64(5), int64(1), object(9)\n",
      "memory usage: 994.1+ KB\n"
     ]
    }
   ],
   "source": [
    "data.info()"
   ]
  },
  {
   "cell_type": "markdown",
   "metadata": {
    "id": "i0MOLbF-gFyP"
   },
   "source": [
    "#### Шаг 2.2. Изучите пропуски в датафрейме\n",
    "\n",
    "- Объясните, почему заполнили пропуски определённым образом или почему не стали этого делать."
   ]
  },
  {
   "cell_type": "code",
   "execution_count": 17,
   "metadata": {},
   "outputs": [
    {
     "name": "stdout",
     "output_type": "stream",
     "text": [
      "title                       0\n",
      "puNumber                    0\n",
      "show_start_date             0\n",
      "type                        0\n",
      "film_studio                18\n",
      "production_country          2\n",
      "director                    9\n",
      "producer                  568\n",
      "age_restriction             0\n",
      "refundable_support       7153\n",
      "nonrefundable_support    7153\n",
      "budget                   7153\n",
      "financing_source         7153\n",
      "ratings                   966\n",
      "genres                    975\n",
      "box_office               4327\n",
      "dtype: int64\n"
     ]
    }
   ],
   "source": [
    "print(data.isna().sum())"
   ]
  },
  {
   "cell_type": "markdown",
   "metadata": {},
   "source": [
    "**Заполнение пропусками в данном массиве данных представляется затруднительным и не особо имеющим смысл, тк большинство данных составляют категориальные значения. Заполнение в пропусках количественных данных не требуется. На аналитическую часть исследования существующие пропуски не повлияют.**\n"
   ]
  },
  {
   "cell_type": "markdown",
   "metadata": {},
   "source": [
    "*Можно заполнить два пропуска в стране производства*."
   ]
  },
  {
   "cell_type": "code",
   "execution_count": 18,
   "metadata": {},
   "outputs": [
    {
     "data": {
      "text/html": [
       "<div>\n",
       "<style scoped>\n",
       "    .dataframe tbody tr th:only-of-type {\n",
       "        vertical-align: middle;\n",
       "    }\n",
       "\n",
       "    .dataframe tbody tr th {\n",
       "        vertical-align: top;\n",
       "    }\n",
       "\n",
       "    .dataframe thead th {\n",
       "        text-align: right;\n",
       "    }\n",
       "</style>\n",
       "<table border=\"1\" class=\"dataframe\">\n",
       "  <thead>\n",
       "    <tr style=\"text-align: right;\">\n",
       "      <th></th>\n",
       "      <th>title</th>\n",
       "      <th>puNumber</th>\n",
       "      <th>show_start_date</th>\n",
       "      <th>type</th>\n",
       "      <th>film_studio</th>\n",
       "      <th>production_country</th>\n",
       "      <th>director</th>\n",
       "      <th>producer</th>\n",
       "      <th>age_restriction</th>\n",
       "      <th>refundable_support</th>\n",
       "      <th>nonrefundable_support</th>\n",
       "      <th>budget</th>\n",
       "      <th>financing_source</th>\n",
       "      <th>ratings</th>\n",
       "      <th>genres</th>\n",
       "      <th>box_office</th>\n",
       "    </tr>\n",
       "  </thead>\n",
       "  <tbody>\n",
       "    <tr>\n",
       "      <th>3185</th>\n",
       "      <td>Детский юмористический киножурнал \"Ералаш. Ну ...</td>\n",
       "      <td>111001216</td>\n",
       "      <td>2016-02-09 12:00:00+00:00</td>\n",
       "      <td>Художественный</td>\n",
       "      <td>ООО \"Продюсерский центр ЕРАЛАШ\"</td>\n",
       "      <td>NaN</td>\n",
       "      <td>Р.Светлов, И.Магитон, А.Арутюнян, Л.Мирский, А...</td>\n",
       "      <td>ООО \"Продюсерский центр ЕРАЛАШ\"</td>\n",
       "      <td>«0+» - для любой зрительской аудитории</td>\n",
       "      <td>NaN</td>\n",
       "      <td>NaN</td>\n",
       "      <td>NaN</td>\n",
       "      <td>NaN</td>\n",
       "      <td>7.2</td>\n",
       "      <td>детский,комедия</td>\n",
       "      <td>194527.0</td>\n",
       "    </tr>\n",
       "    <tr>\n",
       "      <th>4440</th>\n",
       "      <td>Мульт личности. Выпуск 5</td>\n",
       "      <td>214000410</td>\n",
       "      <td>2010-01-25 12:00:00+00:00</td>\n",
       "      <td>Художественный</td>\n",
       "      <td>NaN</td>\n",
       "      <td>NaN</td>\n",
       "      <td>NaN</td>\n",
       "      <td>NaN</td>\n",
       "      <td>«0+» - для любой зрительской аудитории</td>\n",
       "      <td>NaN</td>\n",
       "      <td>NaN</td>\n",
       "      <td>NaN</td>\n",
       "      <td>NaN</td>\n",
       "      <td>4.0</td>\n",
       "      <td>мультфильм,комедия</td>\n",
       "      <td>NaN</td>\n",
       "    </tr>\n",
       "  </tbody>\n",
       "</table>\n",
       "</div>"
      ],
      "text/plain": [
       "                                                  title   puNumber  \\\n",
       "3185  Детский юмористический киножурнал \"Ералаш. Ну ...  111001216   \n",
       "4440                           Мульт личности. Выпуск 5  214000410   \n",
       "\n",
       "               show_start_date            type  \\\n",
       "3185 2016-02-09 12:00:00+00:00  Художественный   \n",
       "4440 2010-01-25 12:00:00+00:00  Художественный   \n",
       "\n",
       "                          film_studio production_country  \\\n",
       "3185  ООО \"Продюсерский центр ЕРАЛАШ\"                NaN   \n",
       "4440                              NaN                NaN   \n",
       "\n",
       "                                               director  \\\n",
       "3185  Р.Светлов, И.Магитон, А.Арутюнян, Л.Мирский, А...   \n",
       "4440                                                NaN   \n",
       "\n",
       "                             producer                         age_restriction  \\\n",
       "3185  ООО \"Продюсерский центр ЕРАЛАШ\"  «0+» - для любой зрительской аудитории   \n",
       "4440                              NaN  «0+» - для любой зрительской аудитории   \n",
       "\n",
       "      refundable_support  nonrefundable_support  budget financing_source  \\\n",
       "3185                 NaN                    NaN     NaN              NaN   \n",
       "4440                 NaN                    NaN     NaN              NaN   \n",
       "\n",
       "      ratings              genres  box_office  \n",
       "3185      7.2     детский,комедия    194527.0  \n",
       "4440      4.0  мультфильм,комедия         NaN  "
      ]
     },
     "execution_count": 18,
     "metadata": {},
     "output_type": "execute_result"
    }
   ],
   "source": [
    "data[data['production_country'].isna()]"
   ]
  },
  {
   "cell_type": "code",
   "execution_count": 19,
   "metadata": {},
   "outputs": [],
   "source": [
    "data['film_studio'] = data['film_studio'].fillna('unknown')\n",
    "data['production_country'] = data['production_country'].fillna('unknown')\n",
    "data['director'] = data['director'].fillna('unknown')\n",
    "data['producer'] = data['producer'].fillna('unknown')\n",
    "data['genres'] = data['genres'].fillna('unknown')\n",
    "data['budget'] = data['budget'].fillna(0.0)"
   ]
  },
  {
   "cell_type": "markdown",
   "metadata": {
    "id": "4c6k1t9ygFyQ"
   },
   "source": [
    "#### Шаг 2.3. Изучите дубликаты в датафрейме\n",
    "- Проверьте, есть ли в данных дубликаты. Опишите причины, которые могли повлиять на появление дублей."
   ]
  },
  {
   "cell_type": "code",
   "execution_count": 20,
   "metadata": {
    "scrolled": false
   },
   "outputs": [
    {
     "name": "stdout",
     "output_type": "stream",
     "text": [
      "<class 'pandas.core.frame.DataFrame'>\n",
      "Int64Index: 7485 entries, 0 to 7484\n",
      "Data columns (total 16 columns):\n",
      " #   Column                 Non-Null Count  Dtype              \n",
      "---  ------                 --------------  -----              \n",
      " 0   title                  7485 non-null   object             \n",
      " 1   puNumber               7485 non-null   int64              \n",
      " 2   show_start_date        7485 non-null   datetime64[ns, UTC]\n",
      " 3   type                   7485 non-null   object             \n",
      " 4   film_studio            7485 non-null   object             \n",
      " 5   production_country     7485 non-null   object             \n",
      " 6   director               7485 non-null   object             \n",
      " 7   producer               7485 non-null   object             \n",
      " 8   age_restriction        7485 non-null   object             \n",
      " 9   refundable_support     332 non-null    float64            \n",
      " 10  nonrefundable_support  332 non-null    float64            \n",
      " 11  budget                 7485 non-null   float64            \n",
      " 12  financing_source       332 non-null    object             \n",
      " 13  ratings                6519 non-null   float64            \n",
      " 14  genres                 7485 non-null   object             \n",
      " 15  box_office             3158 non-null   float64            \n",
      "dtypes: datetime64[ns, UTC](1), float64(5), int64(1), object(9)\n",
      "memory usage: 994.1+ KB\n"
     ]
    }
   ],
   "source": [
    "data.info()"
   ]
  },
  {
   "cell_type": "code",
   "execution_count": 21,
   "metadata": {},
   "outputs": [
    {
     "data": {
      "text/plain": [
       "0"
      ]
     },
     "execution_count": 21,
     "metadata": {},
     "output_type": "execute_result"
    }
   ],
   "source": [
    "data.duplicated().sum()"
   ]
  },
  {
   "cell_type": "markdown",
   "metadata": {},
   "source": [
    "**Вывод:** Явных дубликатов в данных нет"
   ]
  },
  {
   "cell_type": "code",
   "execution_count": 22,
   "metadata": {},
   "outputs": [
    {
     "data": {
      "text/plain": [
       "714"
      ]
     },
     "execution_count": 22,
     "metadata": {},
     "output_type": "execute_result"
    }
   ],
   "source": [
    "data['title'].duplicated().sum()"
   ]
  },
  {
   "cell_type": "code",
   "execution_count": 23,
   "metadata": {},
   "outputs": [
    {
     "name": "stdout",
     "output_type": "stream",
     "text": [
      "                 title   puNumber           show_start_date          type  \\\n",
      "936  Волшебная страна.  124003016 2016-06-07 12:00:00+00:00  Анимационный   \n",
      "937  Волшебная страна.  124001113 2013-04-15 12:00:00+00:00  Анимационный   \n",
      "\n",
      "                              film_studio  \\\n",
      "936  Брейктру Филмз, Эс Эм Бэ Инвестментс   \n",
      "937  Брейктру Филмз, Эс Эм Бэ Инвестментс   \n",
      "\n",
      "                                   production_country  \\\n",
      "936  Великобритания - Польша - КНР - Индия - Норвегия   \n",
      "937  Великобритания - Польша - КНР - Индия - Норвегия   \n",
      "\n",
      "                                      director                       producer  \\\n",
      "936  Мартин Клэпп, Дорота Кобеля, Джофф Линдси  Магдалена Баргел, Хью Велчман   \n",
      "937  Мартин Клэпп, Дорота Кобеля, Джофф Линдси  Магдалена Баргел, Хью Велчман   \n",
      "\n",
      "                 age_restriction  refundable_support  nonrefundable_support  \\\n",
      "936  «18+» - запрещено для детей                 NaN                    NaN   \n",
      "937  «18+» - запрещено для детей                 NaN                    NaN   \n",
      "\n",
      "     budget financing_source  ratings                    genres  box_office  \n",
      "936     0.0              NaN      7.9  драма,семейный,биография      3750.0  \n",
      "937     0.0              NaN      7.9  драма,семейный,биография     20260.0  \n"
     ]
    }
   ],
   "source": [
    "print(data.query('title == \"Волшебная страна.\"'))"
   ]
  },
  {
   "cell_type": "markdown",
   "metadata": {},
   "source": [
    "**Вывод:** Есть дубликаты в столбце **'title'**, но это не является аномальным явлением. Дубликаты в названии объясняются выспуском киноремейков, получением прокатного удостоверения  в разные сроки и для разных прокатных целей."
   ]
  },
  {
   "cell_type": "code",
   "execution_count": 24,
   "metadata": {
    "scrolled": true
   },
   "outputs": [
    {
     "data": {
      "text/plain": [
       "2"
      ]
     },
     "execution_count": 24,
     "metadata": {},
     "output_type": "execute_result"
    }
   ],
   "source": [
    "data['puNumber'].duplicated().sum()"
   ]
  },
  {
   "cell_type": "code",
   "execution_count": 25,
   "metadata": {},
   "outputs": [
    {
     "data": {
      "text/html": [
       "<div>\n",
       "<style scoped>\n",
       "    .dataframe tbody tr th:only-of-type {\n",
       "        vertical-align: middle;\n",
       "    }\n",
       "\n",
       "    .dataframe tbody tr th {\n",
       "        vertical-align: top;\n",
       "    }\n",
       "\n",
       "    .dataframe thead th {\n",
       "        text-align: right;\n",
       "    }\n",
       "</style>\n",
       "<table border=\"1\" class=\"dataframe\">\n",
       "  <thead>\n",
       "    <tr style=\"text-align: right;\">\n",
       "      <th></th>\n",
       "      <th>title</th>\n",
       "      <th>puNumber</th>\n",
       "      <th>show_start_date</th>\n",
       "      <th>type</th>\n",
       "      <th>film_studio</th>\n",
       "      <th>production_country</th>\n",
       "      <th>director</th>\n",
       "      <th>producer</th>\n",
       "      <th>age_restriction</th>\n",
       "      <th>refundable_support</th>\n",
       "      <th>nonrefundable_support</th>\n",
       "      <th>budget</th>\n",
       "      <th>financing_source</th>\n",
       "      <th>ratings</th>\n",
       "      <th>genres</th>\n",
       "      <th>box_office</th>\n",
       "    </tr>\n",
       "  </thead>\n",
       "  <tbody>\n",
       "    <tr>\n",
       "      <th>4637</th>\n",
       "      <td>Как жениться и остаться холостым</td>\n",
       "      <td>221154310</td>\n",
       "      <td>2010-12-17 12:00:00+00:00</td>\n",
       "      <td>Художественный</td>\n",
       "      <td>Ше Вам, Скрипт Ассосье, Тэ Фэ 1 Фильм Продюксь...</td>\n",
       "      <td>Франция</td>\n",
       "      <td>Эрик Лартиго</td>\n",
       "      <td>Амандин Било, Алан Шаба</td>\n",
       "      <td>«16+» - для детей старше 16 лет</td>\n",
       "      <td>NaN</td>\n",
       "      <td>NaN</td>\n",
       "      <td>0.0</td>\n",
       "      <td>NaN</td>\n",
       "      <td>7.0</td>\n",
       "      <td>мелодрама,комедия</td>\n",
       "      <td>NaN</td>\n",
       "    </tr>\n",
       "    <tr>\n",
       "      <th>4638</th>\n",
       "      <td>Иоанна - женщина на папском престоле /По роман...</td>\n",
       "      <td>221154310</td>\n",
       "      <td>2010-12-17 12:00:00+00:00</td>\n",
       "      <td>Художественный</td>\n",
       "      <td>Константин Фильм, А Эр Ди Дегето Фильм, Дюне ...</td>\n",
       "      <td>Германия - Великобритания - Италия - Испания</td>\n",
       "      <td>Зенке Вортманн</td>\n",
       "      <td>Оливер Бербен, Дорис Д.Хайнце, Фарук Элтан</td>\n",
       "      <td>«16+» - для детей старше 16 лет</td>\n",
       "      <td>NaN</td>\n",
       "      <td>NaN</td>\n",
       "      <td>0.0</td>\n",
       "      <td>NaN</td>\n",
       "      <td>7.6</td>\n",
       "      <td>драма,мелодрама,история</td>\n",
       "      <td>NaN</td>\n",
       "    </tr>\n",
       "  </tbody>\n",
       "</table>\n",
       "</div>"
      ],
      "text/plain": [
       "                                                  title   puNumber  \\\n",
       "4637                   Как жениться и остаться холостым  221154310   \n",
       "4638  Иоанна - женщина на папском престоле /По роман...  221154310   \n",
       "\n",
       "               show_start_date            type  \\\n",
       "4637 2010-12-17 12:00:00+00:00  Художественный   \n",
       "4638 2010-12-17 12:00:00+00:00  Художественный   \n",
       "\n",
       "                                            film_studio  \\\n",
       "4637  Ше Вам, Скрипт Ассосье, Тэ Фэ 1 Фильм Продюксь...   \n",
       "4638   Константин Фильм, А Эр Ди Дегето Фильм, Дюне ...   \n",
       "\n",
       "                                production_country        director  \\\n",
       "4637                                       Франция    Эрик Лартиго   \n",
       "4638  Германия - Великобритания - Италия - Испания  Зенке Вортманн   \n",
       "\n",
       "                                        producer  \\\n",
       "4637                     Амандин Било, Алан Шаба   \n",
       "4638  Оливер Бербен, Дорис Д.Хайнце, Фарук Элтан   \n",
       "\n",
       "                      age_restriction  refundable_support  \\\n",
       "4637  «16+» - для детей старше 16 лет                 NaN   \n",
       "4638  «16+» - для детей старше 16 лет                 NaN   \n",
       "\n",
       "      nonrefundable_support  budget financing_source  ratings  \\\n",
       "4637                    NaN     0.0              NaN      7.0   \n",
       "4638                    NaN     0.0              NaN      7.6   \n",
       "\n",
       "                       genres  box_office  \n",
       "4637        мелодрама,комедия         NaN  \n",
       "4638  драма,мелодрама,история         NaN  "
      ]
     },
     "execution_count": 25,
     "metadata": {},
     "output_type": "execute_result"
    }
   ],
   "source": [
    "data.query('puNumber == 221154310')"
   ]
  },
  {
   "cell_type": "markdown",
   "metadata": {},
   "source": [
    "**Посмотрим дубликаты в номерах прокатного удостоверения**"
   ]
  },
  {
   "cell_type": "code",
   "execution_count": 26,
   "metadata": {},
   "outputs": [
    {
     "name": "stdout",
     "output_type": "stream",
     "text": [
      "Количество дубликатов: 2\n",
      "4638    221154310\n",
      "5067    221054410\n",
      "Name: puNumber, dtype: int64\n"
     ]
    }
   ],
   "source": [
    "print(f'Количество дубликатов:', len(data[data['puNumber'].duplicated()]))\n",
    "print(data['puNumber'][data['puNumber'].duplicated()])"
   ]
  },
  {
   "cell_type": "code",
   "execution_count": 27,
   "metadata": {},
   "outputs": [
    {
     "data": {
      "text/html": [
       "<div>\n",
       "<style scoped>\n",
       "    .dataframe tbody tr th:only-of-type {\n",
       "        vertical-align: middle;\n",
       "    }\n",
       "\n",
       "    .dataframe tbody tr th {\n",
       "        vertical-align: top;\n",
       "    }\n",
       "\n",
       "    .dataframe thead th {\n",
       "        text-align: right;\n",
       "    }\n",
       "</style>\n",
       "<table border=\"1\" class=\"dataframe\">\n",
       "  <thead>\n",
       "    <tr style=\"text-align: right;\">\n",
       "      <th></th>\n",
       "      <th>title</th>\n",
       "      <th>puNumber</th>\n",
       "      <th>show_start_date</th>\n",
       "      <th>type</th>\n",
       "      <th>film_studio</th>\n",
       "      <th>production_country</th>\n",
       "      <th>director</th>\n",
       "      <th>producer</th>\n",
       "      <th>age_restriction</th>\n",
       "      <th>refundable_support</th>\n",
       "      <th>nonrefundable_support</th>\n",
       "      <th>budget</th>\n",
       "      <th>financing_source</th>\n",
       "      <th>ratings</th>\n",
       "      <th>genres</th>\n",
       "      <th>box_office</th>\n",
       "    </tr>\n",
       "  </thead>\n",
       "  <tbody>\n",
       "    <tr>\n",
       "      <th>4637</th>\n",
       "      <td>Как жениться и остаться холостым</td>\n",
       "      <td>221154310</td>\n",
       "      <td>2010-12-17 12:00:00+00:00</td>\n",
       "      <td>Художественный</td>\n",
       "      <td>Ше Вам, Скрипт Ассосье, Тэ Фэ 1 Фильм Продюксь...</td>\n",
       "      <td>Франция</td>\n",
       "      <td>Эрик Лартиго</td>\n",
       "      <td>Амандин Било, Алан Шаба</td>\n",
       "      <td>«16+» - для детей старше 16 лет</td>\n",
       "      <td>NaN</td>\n",
       "      <td>NaN</td>\n",
       "      <td>0.0</td>\n",
       "      <td>NaN</td>\n",
       "      <td>7.0</td>\n",
       "      <td>мелодрама,комедия</td>\n",
       "      <td>NaN</td>\n",
       "    </tr>\n",
       "    <tr>\n",
       "      <th>4638</th>\n",
       "      <td>Иоанна - женщина на папском престоле /По роман...</td>\n",
       "      <td>221154310</td>\n",
       "      <td>2010-12-17 12:00:00+00:00</td>\n",
       "      <td>Художественный</td>\n",
       "      <td>Константин Фильм, А Эр Ди Дегето Фильм, Дюне ...</td>\n",
       "      <td>Германия - Великобритания - Италия - Испания</td>\n",
       "      <td>Зенке Вортманн</td>\n",
       "      <td>Оливер Бербен, Дорис Д.Хайнце, Фарук Элтан</td>\n",
       "      <td>«16+» - для детей старше 16 лет</td>\n",
       "      <td>NaN</td>\n",
       "      <td>NaN</td>\n",
       "      <td>0.0</td>\n",
       "      <td>NaN</td>\n",
       "      <td>7.6</td>\n",
       "      <td>драма,мелодрама,история</td>\n",
       "      <td>NaN</td>\n",
       "    </tr>\n",
       "  </tbody>\n",
       "</table>\n",
       "</div>"
      ],
      "text/plain": [
       "                                                  title   puNumber  \\\n",
       "4637                   Как жениться и остаться холостым  221154310   \n",
       "4638  Иоанна - женщина на папском престоле /По роман...  221154310   \n",
       "\n",
       "               show_start_date            type  \\\n",
       "4637 2010-12-17 12:00:00+00:00  Художественный   \n",
       "4638 2010-12-17 12:00:00+00:00  Художественный   \n",
       "\n",
       "                                            film_studio  \\\n",
       "4637  Ше Вам, Скрипт Ассосье, Тэ Фэ 1 Фильм Продюксь...   \n",
       "4638   Константин Фильм, А Эр Ди Дегето Фильм, Дюне ...   \n",
       "\n",
       "                                production_country        director  \\\n",
       "4637                                       Франция    Эрик Лартиго   \n",
       "4638  Германия - Великобритания - Италия - Испания  Зенке Вортманн   \n",
       "\n",
       "                                        producer  \\\n",
       "4637                     Амандин Било, Алан Шаба   \n",
       "4638  Оливер Бербен, Дорис Д.Хайнце, Фарук Элтан   \n",
       "\n",
       "                      age_restriction  refundable_support  \\\n",
       "4637  «16+» - для детей старше 16 лет                 NaN   \n",
       "4638  «16+» - для детей старше 16 лет                 NaN   \n",
       "\n",
       "      nonrefundable_support  budget financing_source  ratings  \\\n",
       "4637                    NaN     0.0              NaN      7.0   \n",
       "4638                    NaN     0.0              NaN      7.6   \n",
       "\n",
       "                       genres  box_office  \n",
       "4637        мелодрама,комедия         NaN  \n",
       "4638  драма,мелодрама,история         NaN  "
      ]
     },
     "execution_count": 27,
     "metadata": {},
     "output_type": "execute_result"
    }
   ],
   "source": [
    "data.query('puNumber == 221154310')"
   ]
  },
  {
   "cell_type": "code",
   "execution_count": 28,
   "metadata": {},
   "outputs": [
    {
     "data": {
      "text/html": [
       "<div>\n",
       "<style scoped>\n",
       "    .dataframe tbody tr th:only-of-type {\n",
       "        vertical-align: middle;\n",
       "    }\n",
       "\n",
       "    .dataframe tbody tr th {\n",
       "        vertical-align: top;\n",
       "    }\n",
       "\n",
       "    .dataframe thead th {\n",
       "        text-align: right;\n",
       "    }\n",
       "</style>\n",
       "<table border=\"1\" class=\"dataframe\">\n",
       "  <thead>\n",
       "    <tr style=\"text-align: right;\">\n",
       "      <th></th>\n",
       "      <th>title</th>\n",
       "      <th>puNumber</th>\n",
       "      <th>show_start_date</th>\n",
       "      <th>type</th>\n",
       "      <th>film_studio</th>\n",
       "      <th>production_country</th>\n",
       "      <th>director</th>\n",
       "      <th>producer</th>\n",
       "      <th>age_restriction</th>\n",
       "      <th>refundable_support</th>\n",
       "      <th>nonrefundable_support</th>\n",
       "      <th>budget</th>\n",
       "      <th>financing_source</th>\n",
       "      <th>ratings</th>\n",
       "      <th>genres</th>\n",
       "      <th>box_office</th>\n",
       "    </tr>\n",
       "  </thead>\n",
       "  <tbody>\n",
       "    <tr>\n",
       "      <th>5066</th>\n",
       "      <td>Анализируй это!</td>\n",
       "      <td>221054410</td>\n",
       "      <td>2010-05-25 12:00:00+00:00</td>\n",
       "      <td>Художественный</td>\n",
       "      <td>Уорнер Бразерс, Вилладж Роудшоу Филмз ЛТД</td>\n",
       "      <td>США-Австралия</td>\n",
       "      <td>ХЭрольд Рэмис</td>\n",
       "      <td>Джейн Розенталь, Пола Уейнстейн</td>\n",
       "      <td>«16+» - для детей старше 16 лет</td>\n",
       "      <td>NaN</td>\n",
       "      <td>NaN</td>\n",
       "      <td>0.0</td>\n",
       "      <td>NaN</td>\n",
       "      <td>7.4</td>\n",
       "      <td>комедия,криминал</td>\n",
       "      <td>NaN</td>\n",
       "    </tr>\n",
       "    <tr>\n",
       "      <th>5067</th>\n",
       "      <td>Анализируй то!</td>\n",
       "      <td>221054410</td>\n",
       "      <td>2010-05-25 12:00:00+00:00</td>\n",
       "      <td>Художественный</td>\n",
       "      <td>Уорнер Бразерс, Виллидж Роадшоу Пикчерз, Эн-Пи...</td>\n",
       "      <td>США</td>\n",
       "      <td>Гарольд Реймис</td>\n",
       "      <td>Джейн Розенталь, Паул Уэйнстейн</td>\n",
       "      <td>«12+» - для детей старше 12 лет</td>\n",
       "      <td>NaN</td>\n",
       "      <td>NaN</td>\n",
       "      <td>0.0</td>\n",
       "      <td>NaN</td>\n",
       "      <td>6.8</td>\n",
       "      <td>комедия,криминал</td>\n",
       "      <td>NaN</td>\n",
       "    </tr>\n",
       "  </tbody>\n",
       "</table>\n",
       "</div>"
      ],
      "text/plain": [
       "                title   puNumber           show_start_date            type  \\\n",
       "5066  Анализируй это!  221054410 2010-05-25 12:00:00+00:00  Художественный   \n",
       "5067   Анализируй то!  221054410 2010-05-25 12:00:00+00:00  Художественный   \n",
       "\n",
       "                                            film_studio production_country  \\\n",
       "5066          Уорнер Бразерс, Вилладж Роудшоу Филмз ЛТД      США-Австралия   \n",
       "5067  Уорнер Бразерс, Виллидж Роадшоу Пикчерз, Эн-Пи...                США   \n",
       "\n",
       "            director                         producer  \\\n",
       "5066   ХЭрольд Рэмис  Джейн Розенталь, Пола Уейнстейн   \n",
       "5067  Гарольд Реймис  Джейн Розенталь, Паул Уэйнстейн   \n",
       "\n",
       "                      age_restriction  refundable_support  \\\n",
       "5066  «16+» - для детей старше 16 лет                 NaN   \n",
       "5067  «12+» - для детей старше 12 лет                 NaN   \n",
       "\n",
       "      nonrefundable_support  budget financing_source  ratings  \\\n",
       "5066                    NaN     0.0              NaN      7.4   \n",
       "5067                    NaN     0.0              NaN      6.8   \n",
       "\n",
       "                genres  box_office  \n",
       "5066  комедия,криминал         NaN  \n",
       "5067  комедия,криминал         NaN  "
      ]
     },
     "execution_count": 28,
     "metadata": {},
     "output_type": "execute_result"
    }
   ],
   "source": [
    "data.query('puNumber == 221054410')"
   ]
  },
  {
   "cell_type": "markdown",
   "metadata": {},
   "source": [
    "**Вывод:** Несмотря на одинаковые номера прокатного удостоверения, фильмы настоящие, поэтому их можно оставить в датафрейме."
   ]
  },
  {
   "cell_type": "markdown",
   "metadata": {
    "id": "52fOPrEBgFyQ"
   },
   "source": [
    "#### Шаг 2.4. Изучите категориальные значения\n",
    "\n",
    "- Посмотрите, какая общая проблема встречается почти во всех категориальных столбцах;\n",
    "- Исправьте проблемные значения в поле `type`.\n",
    "\n",
    "<div id=\"accordion\">\n",
    "    <div class=\"card\">\n",
    "        <div class=\"card-header\" id=\"headingThree\">\n",
    "            <button class=\"btn btn-link collapsed\" data-toggle=\"collapse\" data-target=\"#collapseHint_1\" aria-expanded=\"false\" aria-controls=\"collapseHint_1\">Подсказка</button>\n",
    "        </div>\n",
    "        <div id=\"collapseHint_1\" class=\"collapse\" aria-labelledby=\"headingThree\" data-parent=\"#accordion\">\n",
    "            <div class=\"card-body\">\n",
    "В поле <code>type</code> есть несколько значений, у которых появился пробел в начале строки. Самый простой способ их «починить» -- использовать метод <a href=\"https://pandas.pydata.org/docs/reference/api/pandas.Series.str.strip.html#pandas.Series.str.strip\">.str.strip</a>. Этот метод удаляет все пробелы, которые встречаются в начале и в конце строки. Применяют его таким образом:<br>\n",
    "<code>df['type'].str.strip()</code>\n",
    "            </div>\n",
    "        </div>\n",
    "    </div>\n",
    "</div>"
   ]
  },
  {
   "cell_type": "markdown",
   "metadata": {},
   "source": [
    "**Общая проблема**, которая была выделена ещё на прошлых этапах, заключается в конкретных значениях и большом количестве таких значений для отдельной характеристики объекта данных. Большинство фильмов сняты в условиях совместного производства разными странами, студиями, режиссёрами, продюссерами. Также фильмы могут иметь разные значения жанров и других характеристик, что, в сокупности всех этих элементов, значительно затрудняет их категоризацию, при условии необходимости её проведения.\n",
    "\n",
    "При необходимости проведения масштабного исследования с изучением зависмостей между определёнными категориями фильмов, могло потребоваться создание различных функций для категоризации таких данных. Например, для выделения фильмов по студии-производителю, придётся учитывать фильмы не только снятые студией-производителем самостоятельно, но и при совместном участии с другими студиями."
   ]
  },
  {
   "cell_type": "markdown",
   "metadata": {},
   "source": [
    "**Исправим проблемные значения в поле *type***"
   ]
  },
  {
   "cell_type": "code",
   "execution_count": 29,
   "metadata": {},
   "outputs": [
    {
     "name": "stdout",
     "output_type": "stream",
     "text": [
      "['Художественный' 'Анимационный' 'Прочие' 'Документальный'\n",
      " 'Научно-популярный' ' Художественный' ' Анимационный'\n",
      " 'Музыкально-развлекательный']\n"
     ]
    }
   ],
   "source": [
    "print(data['type'].unique())"
   ]
  },
  {
   "cell_type": "code",
   "execution_count": 30,
   "metadata": {
    "id": "PnXKIVdFgFyR"
   },
   "outputs": [],
   "source": [
    "data['type'] = data['type'].str.strip()"
   ]
  },
  {
   "cell_type": "code",
   "execution_count": 31,
   "metadata": {},
   "outputs": [
    {
     "name": "stdout",
     "output_type": "stream",
     "text": [
      "['Художественный' 'Анимационный' 'Прочие' 'Документальный'\n",
      " 'Научно-популярный' 'Музыкально-развлекательный']\n"
     ]
    }
   ],
   "source": [
    "print(data['type'].unique())"
   ]
  },
  {
   "cell_type": "markdown",
   "metadata": {},
   "source": [
    "**Также можно сократить значения в столбце 'age_restriction'**"
   ]
  },
  {
   "cell_type": "code",
   "execution_count": 32,
   "metadata": {},
   "outputs": [],
   "source": [
    "data['age_restriction'] = data['age_restriction'].str.split(' ',1).str[0]"
   ]
  },
  {
   "cell_type": "code",
   "execution_count": 33,
   "metadata": {},
   "outputs": [
    {
     "name": "stdout",
     "output_type": "stream",
     "text": [
      "['«18+»' '«6+»' '«12+»' '«16+»' '«0+»']\n"
     ]
    }
   ],
   "source": [
    "print(data['age_restriction'].unique())"
   ]
  },
  {
   "cell_type": "markdown",
   "metadata": {
    "id": "XFSN5lrEgFyR"
   },
   "source": [
    "#### Шаг 2.5. Проверьте количественные значения\n",
    "\n",
    "- Проверьте, обнаружились ли в таких столбцах подозрительные данные. Как с такими данными лучше поступить?\n",
    "\n",
    "<div id=\"accordion\">\n",
    "    <div class=\"card\">\n",
    "        <div class=\"card-header\" id=\"headingThree\">\n",
    "            <button class=\"btn btn-link collapsed\" data-toggle=\"collapse\" data-target=\"#collapseHint_budget\" aria-expanded=\"false\" aria-controls=\"collapseHint_budget\">Подсказка</button>\n",
    "        </div>\n",
    "        <div id=\"collapseHint_budget\" class=\"collapse\" aria-labelledby=\"headingThree\" data-parent=\"#accordion\">\n",
    "            <div class=\"card-body\">\n",
    "Обратите внимание на описание столбца <code>budget</code>. Как этот столбец соотносится с двумя другими: <code>refundable_support</code> и <code>nonrefundable_support</code>?\n",
    "            </div>\n",
    "        </div>\n",
    "    </div>\n",
    "</div>"
   ]
  },
  {
   "cell_type": "code",
   "execution_count": 34,
   "metadata": {
    "scrolled": true
   },
   "outputs": [
    {
     "name": "stdout",
     "output_type": "stream",
     "text": [
      "                     title   puNumber           show_start_date  \\\n",
      "5436              Матильда  111005717 2017-08-17 12:00:00+00:00   \n",
      "7113  Тайна Печати Дракона  111012819 2019-09-12 12:00:00+00:00   \n",
      "\n",
      "                type                                        film_studio  \\\n",
      "5436  Художественный                     ООО \"ТПО \"РОК\", ООО \"Матильда\"   \n",
      "7113  Художественный  ООО \"Кинокомпания \"СТВ\"; ООО \"РФГ Корп\"; ООО \"...   \n",
      "\n",
      "     production_country     director                         producer  \\\n",
      "5436             Россия    А.Учитель  А.Учитель, А.Достман, В.Винокур   \n",
      "7113       Россия-Китай  О.Степченко           С.Сельянов, А.Петрухин   \n",
      "\n",
      "     age_restriction  refundable_support  nonrefundable_support        budget  \\\n",
      "5436           «16+»         110000000.0            190000000.0  1.032906e+09   \n",
      "7113            «6+»         180000000.0             90000000.0  2.305074e+09   \n",
      "\n",
      "     financing_source  ratings                    genres    box_office  \n",
      "5436        Фонд кино      7.7  фэнтези,комедия,семейный  5.117755e+08  \n",
      "7113        Фонд кино      5.8       приключения,фэнтези  3.335971e+08  \n"
     ]
    },
    {
     "data": {
      "image/png": "[encoded data removed]",
      "text/plain": [
       "<Figure size 432x288 with 1 Axes>"
      ]
     },
     "metadata": {
      "needs_background": "light"
     },
     "output_type": "display_data"
    }
   ],
   "source": [
    "data.boxplot(column='budget')\n",
    "print(data.query('budget > 1000000000'))"
   ]
  },
  {
   "cell_type": "code",
   "execution_count": 35,
   "metadata": {},
   "outputs": [
    {
     "data": {
      "text/plain": [
       "<AxesSubplot:>"
      ]
     },
     "execution_count": 35,
     "metadata": {},
     "output_type": "execute_result"
    },
    {
     "data": {
      "image/png": "[encoded data removed]",
      "text/plain": [
       "<Figure size 432x288 with 1 Axes>"
      ]
     },
     "metadata": {
      "needs_background": "light"
     },
     "output_type": "display_data"
    }
   ],
   "source": [
    "data.boxplot(column='refundable_support')"
   ]
  },
  {
   "cell_type": "code",
   "execution_count": 36,
   "metadata": {},
   "outputs": [
    {
     "data": {
      "text/plain": [
       "<AxesSubplot:>"
      ]
     },
     "execution_count": 36,
     "metadata": {},
     "output_type": "execute_result"
    },
    {
     "data": {
      "image/png": "[encoded data removed]",
      "text/plain": [
       "<Figure size 432x288 with 1 Axes>"
      ]
     },
     "metadata": {
      "needs_background": "light"
     },
     "output_type": "display_data"
    }
   ],
   "source": [
    "data.boxplot(column='nonrefundable_support')"
   ]
  },
  {
   "cell_type": "code",
   "execution_count": 37,
   "metadata": {
    "scrolled": true
   },
   "outputs": [
    {
     "data": {
      "image/png": "[encoded data removed]",
      "text/plain": [
       "<Figure size 432x288 with 1 Axes>"
      ]
     },
     "metadata": {
      "needs_background": "light"
     },
     "output_type": "display_data"
    }
   ],
   "source": [
    "data.boxplot(column='box_office')\n",
    "plt.show()\n",
    "data = data.query('box_office.isna() | box_office > 0')"
   ]
  },
  {
   "cell_type": "markdown",
   "metadata": {},
   "source": [
    "**Вывод:** На первый взгляд, благодаря визуализации диаграмм рассеивания, можно сделать вывод о наличии подозрительных данных. При этом нужно учитывать тему исследования и изучаемых данных. В контексте изучения показателей кинофильмов и их кассовых сборов, выделяющиеся из общей выборки значения свидетельствуют о разной степени финансирования и разном уровне успешности фильмов на российском рынке. Следовательно, такие данные не представляют собой аномалии и не требут удаления."
   ]
  },
  {
   "cell_type": "markdown",
   "metadata": {},
   "source": [
    "Сделаем проверку возможности превышения суммы госдураственной поддержки над показателем общего бюджета. "
   ]
  },
  {
   "cell_type": "code",
   "execution_count": 38,
   "metadata": {},
   "outputs": [
    {
     "name": "stdout",
     "output_type": "stream",
     "text": [
      "                       title   puNumber           show_start_date  \\\n",
      "2052                     14+  111023614 2014-12-19 12:00:00+00:00   \n",
      "2057               Дуxless 2  111000415 2015-01-26 12:00:00+00:00   \n",
      "2471             Воин (2015)  111017315 2015-09-28 12:00:00+00:00   \n",
      "2531                 Бармен.  111009615 2015-05-26 12:00:00+00:00   \n",
      "2614     Савва. Сердце воина  114001715 2015-07-21 12:00:00+00:00   \n",
      "2683          Тряпичный союз  111010215 2015-06-08 12:00:00+00:00   \n",
      "2787      Срочно выйду замуж  111017115 2015-09-30 12:00:00+00:00   \n",
      "2873       Помню - не помню!  111004916 2016-03-01 12:00:00+00:00   \n",
      "3046  Любовь с ограничениями  111008216 2016-04-29 12:00:00+00:00   \n",
      "3564       Притяжение (2016)  111018116 2016-12-16 12:00:00+00:00   \n",
      "3674                Чудо-юдо  114001817 2017-06-27 12:00:00+00:00   \n",
      "3738                    Мифы  111004317 2017-06-07 12:00:00+00:00   \n",
      "5672                   Селфи  111012117 2018-02-01 12:00:00+00:00   \n",
      "5805              Два хвоста  114001018 2018-05-31 12:00:00+00:00   \n",
      "6007      Принцесса и дракон  114003018 2018-08-23 12:00:00+00:00   \n",
      "6322                Баба Яга  114006518 2018-11-08 12:00:00+00:00   \n",
      "6822     Большое путешествие  114002419 2019-04-20 12:00:00+00:00   \n",
      "\n",
      "                type                                        film_studio  \\\n",
      "2052  Художественный                         ООО Киностудия  \"Сентябрь\"   \n",
      "2057  Художественный  ООО \"Киностудия \"Слово\", ООО \"Арт Пикчерс Студия\"   \n",
      "2471  Художественный   ООО \"Форпост Продакшн\", ООО \"Арт Пикчерс Студия\"   \n",
      "2531  Художественный          АО \"ВайТ Медиа\", ООО \"Арт Пикчерс Студия\"   \n",
      "2614    Анимационный   ООО \"Глюкоза Продакшн\", ООО \"Арт Пикчерс Студия\"   \n",
      "2683  Художественный                      ООО \"Кинокомпания \"КОКТЕБЕЛЬ\"   \n",
      "2787  Художественный          АО \"ВайТ Медиа\", ООО \"Арт Пикчерс Студия\"   \n",
      "2873  Художественный                                    ООО \"КиноФирма\"   \n",
      "3046  Художественный          АО \"ВайТ Медиа\", ООО \"Арт Пикчерс Студия\"   \n",
      "3564  Художественный      ООО \"Водород 2011\",  ООО \"Арт Пикчерс Студия\"   \n",
      "3674    Анимационный                                    ООО \"КиноФирма\"   \n",
      "3738  Художественный           ООО \"ХАЙПФИЛМ\", ООО \"Арт Пикчерс Студия\"   \n",
      "5672  Художественный  ООО \"Киностудия \"Слово\", ООО \"Арт Пикчерс Студия\"   \n",
      "5805    Анимационный                          ООО \"ЛИЦЕНЗИОННЫЕ БРЕНДЫ\"   \n",
      "6007    Анимационный                          ООО \"ЛИЦЕНЗИОННЫЕ БРЕНДЫ\"   \n",
      "6322    Анимационный                           ООО \"Арт Пикчерс Студия\"   \n",
      "6822    Анимационный                          ООО \"ЛИЦЕНЗИОННЫЕ БРЕНДЫ\"   \n",
      "\n",
      "     production_country                        director  \\\n",
      "2052             Россия                        А.Зайцев   \n",
      "2057             Россия                      Р.Прыгунов   \n",
      "2471             Россия                     А.Андрианов   \n",
      "2531             Россия                    Д.Штурманова   \n",
      "2614             Россия                        М.Фадеев   \n",
      "2683             Россия                     М.Местецкий   \n",
      "2787             Россия                       С Чекалов   \n",
      "2873             Россия                     В.Ровенский   \n",
      "3046             Россия                         Д.Тюрин   \n",
      "3564             Россия                     Ф.Бондарчук   \n",
      "3674             Россия                       А.Лукичев   \n",
      "3738             Россия                    А.Молочников   \n",
      "5672             Россия                      Н.Хомерики   \n",
      "5805             Россия  В.Ровенский, Н.Лопато, В.Азеев   \n",
      "6007             Россия                      М.Нефедова   \n",
      "6322             Россия                         В.Саков   \n",
      "6822             Россия           Н.Лопато, В.Ровенский   \n",
      "\n",
      "                                               producer age_restriction  \\\n",
      "2052                                О.Гранина, А.Зайцев           «16+»   \n",
      "2057                 П.Ануров, Ф.Бондарчук, Д.Рудовский           «16+»   \n",
      "2471                           ООО \"Арт Пикчерс Студия\"           «12+»   \n",
      "2531                                        Т.Вайнштейн           «16+»   \n",
      "2614                                         А.Чистяков            «6+»   \n",
      "2683                              Р.Борисевич, А.Кушаев           «18+»   \n",
      "2787              Ф.Бондарчук, Т.Вайнштейн, Д.Рудовский           «16+»   \n",
      "2873                                    ООО \"КиноФирма\"           «12+»   \n",
      "3046              Ф.Бондарчук, Т.Вайнштейн, Д.Рудовский           «16+»   \n",
      "3564                           ООО \"Арт Пикчерс Студия\"           «12+»   \n",
      "3674                                    ООО \"КиноФирма\"            «6+»   \n",
      "3738  Ф.Бондарчук, Д.Рудовский, И.Стюарт, М.Османн, ...           «16+»   \n",
      "5672                 П.Ануров, Ф.Бондарчук, Д.Рудовский           «16+»   \n",
      "5805                          ООО \"ЛИЦЕНЗИОННЫЕ БРЕНДЫ\"            «6+»   \n",
      "6007                          ООО \"ЛИЦЕНЗИОННЫЕ БРЕНДЫ\"            «6+»   \n",
      "6322  ООО \"Арт Пикчерс Студия\", ООО \"КРИЭЙТИВ АНИМЭЙ...            «6+»   \n",
      "6822                          ООО \"ЛИЦЕНЗИОННЫЕ БРЕНДЫ\"            «6+»   \n",
      "\n",
      "      refundable_support  nonrefundable_support  budget  \\\n",
      "2052                 0.0             23000000.0     0.0   \n",
      "2057                 0.0             75000000.0     0.0   \n",
      "2471          10000000.0             70000000.0     0.0   \n",
      "2531          20000000.0                    0.0     0.0   \n",
      "2614          60000000.0            100000000.0     0.0   \n",
      "2683                 0.0             59000000.0     0.0   \n",
      "2787                 0.0             35000000.0     0.0   \n",
      "2873                 0.0              6000000.0     0.0   \n",
      "3046          19000000.0             51000000.0     0.0   \n",
      "3564                 0.0            250000000.0     0.0   \n",
      "3674          20000000.0             20000000.0     0.0   \n",
      "3738          25000000.0             20000000.0     0.0   \n",
      "5672          20000000.0             40000000.0     0.0   \n",
      "5805          10000000.0             60000000.0     0.0   \n",
      "6007          40000000.0             40000000.0     0.0   \n",
      "6322                 0.0            138969465.0     0.0   \n",
      "6822          60000000.0            120000000.0     0.0   \n",
      "\n",
      "                      financing_source  ratings  \\\n",
      "2052  Министерство культуры, Фонд кино      6.6   \n",
      "2057                         Фонд кино      6.6   \n",
      "2471                         Фонд кино      7.8   \n",
      "2531                         Фонд кино      6.2   \n",
      "2614                         Фонд кино      4.6   \n",
      "2683                         Фонд кино      6.3   \n",
      "2787                         Фонд кино      5.1   \n",
      "2873             Министерство культуры      4.3   \n",
      "3046                         Фонд кино      6.3   \n",
      "3564                         Фонд кино      5.6   \n",
      "3674                         Фонд кино      5.2   \n",
      "3738                         Фонд кино      4.8   \n",
      "5672                         Фонд кино      5.8   \n",
      "5805                         Фонд кино      5.0   \n",
      "6007                         Фонд кино      5.2   \n",
      "6322                         Фонд кино      NaN   \n",
      "6822                         Фонд кино      6.2   \n",
      "\n",
      "                              genres    box_office  total_support  \n",
      "2052                       мелодрама  1.023402e+07     23000000.0  \n",
      "2057                           драма  4.461635e+08     75000000.0  \n",
      "2471           боевик,драма,криминал  1.965724e+08     80000000.0  \n",
      "2531                 комедия,фэнтези  6.741897e+07     20000000.0  \n",
      "2614  мультфильм,приключения,фэнтези  1.844876e+08    160000000.0  \n",
      "2683                   комедия,драма  1.957739e+06     59000000.0  \n",
      "2787               комедия,мелодрама  7.293778e+07     35000000.0  \n",
      "2873                         комедия  1.536293e+07      6000000.0  \n",
      "3046               комедия,мелодрама  7.029905e+07     70000000.0  \n",
      "3564                      фантастика  1.038321e+09    250000000.0  \n",
      "3674     мультфильм,фэнтези,семейный  5.510801e+07     40000000.0  \n",
      "3738                         комедия  5.045195e+07     45000000.0  \n",
      "5672                   триллер,драма  2.251964e+08     60000000.0  \n",
      "5805              мультфильм,детский  1.065143e+08     70000000.0  \n",
      "6007      мультфильм,фэнтези,детский  8.336633e+07     80000000.0  \n",
      "6322                         unknown  1.334699e+06    138969465.0  \n",
      "6822  мультфильм,комедия,приключения  1.476068e+08    180000000.0  \n"
     ]
    }
   ],
   "source": [
    "data['total_support'] = data['refundable_support'] + data['nonrefundable_support']\n",
    "print(data[(data['budget'])<(data['total_support'])])"
   ]
  },
  {
   "cell_type": "markdown",
   "metadata": {},
   "source": [
    "Можно подтвердить, что такие строчки существуют, т.к. в 17 строках значение общего бюджета не заполнено и равно 0. Заменим нулевые значения указанными значениями объёма средств государственной поддержки. "
   ]
  },
  {
   "cell_type": "code",
   "execution_count": 39,
   "metadata": {},
   "outputs": [],
   "source": [
    "def budget_null (row):\n",
    "    budget = row['budget']\n",
    "    support = row['total_support']\n",
    "    if budget == 0.0: \n",
    "        return support\n",
    "    return budget\n",
    "\n",
    "data['budget'] =  data.apply(budget_null, axis=1)"
   ]
  },
  {
   "cell_type": "code",
   "execution_count": 40,
   "metadata": {},
   "outputs": [
    {
     "name": "stdout",
     "output_type": "stream",
     "text": [
      "Empty DataFrame\n",
      "Columns: [title, puNumber, show_start_date, type, film_studio, production_country, director, producer, age_restriction, refundable_support, nonrefundable_support, budget, financing_source, ratings, genres, box_office, total_support]\n",
      "Index: []\n"
     ]
    }
   ],
   "source": [
    "print(data[(data['budget'])<(data['total_support'])])"
   ]
  },
  {
   "cell_type": "code",
   "execution_count": 41,
   "metadata": {},
   "outputs": [
    {
     "name": "stdout",
     "output_type": "stream",
     "text": [
      "Фильмы с бюджетом более миллиарда рублей:\n",
      "5436                Матильда\n",
      "7113    Тайна Печати Дракона\n",
      "Name: title, dtype: object\n"
     ]
    },
    {
     "data": {
      "image/png": "[encoded data removed]",
      "text/plain": [
       "<Figure size 432x288 with 1 Axes>"
      ]
     },
     "metadata": {
      "needs_background": "light"
     },
     "output_type": "display_data"
    }
   ],
   "source": [
    "data.boxplot(column='budget')\n",
    "films_with_top_budget = data.query('budget > 1000000000')\n",
    "print('Фильмы с бюджетом более миллиарда рублей:')\n",
    "print(films_with_top_budget['title'])"
   ]
  },
  {
   "cell_type": "code",
   "execution_count": 42,
   "metadata": {},
   "outputs": [
    {
     "name": "stdout",
     "output_type": "stream",
     "text": [
      "Фильмы с объёмом возвратных средств государственной поддержки более 100 миллионов:\n",
      "3163                          Герой (2015)\n",
      "3350                               Дуэлянт\n",
      "5436                              Матильда\n",
      "6471    Три богатыря и наследница престола\n",
      "7113                  Тайна Печати Дракона\n",
      "Name: title, dtype: object\n"
     ]
    },
    {
     "data": {
      "image/png": "[encoded data removed]",
      "text/plain": [
       "<Figure size 432x288 with 1 Axes>"
      ]
     },
     "metadata": {
      "needs_background": "light"
     },
     "output_type": "display_data"
    }
   ],
   "source": [
    "data.boxplot(column='refundable_support')\n",
    "films_with_top_refundable_support = data.query('refundable_support > 100000000')\n",
    "print('Фильмы с объёмом возвратных средств государственной поддержки более 100 миллионов:')\n",
    "print(films_with_top_refundable_support['title'])"
   ]
  },
  {
   "cell_type": "code",
   "execution_count": 43,
   "metadata": {},
   "outputs": [
    {
     "name": "stdout",
     "output_type": "stream",
     "text": [
      "Фильмы с объёмом невозвратных средств государственной поддержки более 100 миллионов:\n",
      "2698                Он - Дракон\n",
      "2919                   Экипаж .\n",
      "3254        Время первых (2017)\n",
      "3350                    Дуэлянт\n",
      "3452                    Ледокол\n",
      "3564          Притяжение (2016)\n",
      "3626                    БОЛЬШОЙ\n",
      "5436                   Матильда\n",
      "5501                    Салют-7\n",
      "5568        Легенда о Коловрате\n",
      "5652             Движение вверх\n",
      "5689                      Рубеж\n",
      "5825                     Тренер\n",
      "6886                    Девятая\n",
      "7289    Урфин Джюс возвращается\n",
      "7463              Союз спасения\n",
      "7473                  Вторжение\n",
      "Name: title, dtype: object\n"
     ]
    },
    {
     "data": {
      "image/png": "[encoded data removed]",
      "text/plain": [
       "<Figure size 432x288 with 1 Axes>"
      ]
     },
     "metadata": {
      "needs_background": "light"
     },
     "output_type": "display_data"
    }
   ],
   "source": [
    "data.boxplot(column='nonrefundable_support')\n",
    "films_with_top_nonrefundable_support = data.query('nonrefundable_support > 150000000')\n",
    "print('Фильмы с объёмом невозвратных средств государственной поддержки более 100 миллионов:')\n",
    "print(films_with_top_nonrefundable_support['title'])"
   ]
  },
  {
   "cell_type": "code",
   "execution_count": 44,
   "metadata": {
    "scrolled": false
   },
   "outputs": [
    {
     "name": "stdout",
     "output_type": "stream",
     "text": [
      "Фильмы с денежными сборами более 2 миллиардов:\n",
      "2858                                           Зверополис\n",
      "3487    Пираты Карибского моря: Мертвецы не рассказыва...\n",
      "5652                                       Движение вверх\n",
      "6548                                                 Т-34\n",
      "6819                                      Мстители: Финал\n",
      "7455                                                Холоп\n",
      "Name: title, dtype: object\n"
     ]
    },
    {
     "data": {
      "image/png": "[encoded data removed]",
      "text/plain": [
       "<Figure size 432x288 with 1 Axes>"
      ]
     },
     "metadata": {
      "needs_background": "light"
     },
     "output_type": "display_data"
    }
   ],
   "source": [
    "data.boxplot(column='box_office')\n",
    "films_with_top_box_office = data.query('box_office > 2000000000')\n",
    "print('Фильмы с денежными сборами более 2 миллиардов:')\n",
    "print(films_with_top_box_office['title'])"
   ]
  },
  {
   "cell_type": "markdown",
   "metadata": {},
   "source": [
    "**Вывод:** На боксплотах множество значений, находящихся вне \"усов\" диаграммы размаха, но они не являются аномалиями."
   ]
  },
  {
   "cell_type": "markdown",
   "metadata": {
    "id": "Eu6oWp2CgFyS"
   },
   "source": [
    "#### Шаг 2.6. Добавьте новые столбцы\n",
    "\n",
    "\n",
    "\n"
   ]
  },
  {
   "cell_type": "markdown",
   "metadata": {
    "id": "7GgW-UpAgFyS"
   },
   "source": [
    "- Создайте столбец с информацией о годе проката. Выделите год из даты премьеры фильма."
   ]
  },
  {
   "cell_type": "code",
   "execution_count": 45,
   "metadata": {
    "id": "I-yd1DkWgFyT"
   },
   "outputs": [],
   "source": [
    "data['year'] = data['show_start_date'].dt.year"
   ]
  },
  {
   "cell_type": "markdown",
   "metadata": {
    "id": "nFTDLDYOgFyT"
   },
   "source": [
    "- Создайте два столбца: с именем и фамилией главного режиссёра и основным жанром фильма. В столбцы войдут первые значения из списка режиссёров и жанров соответственно.\n",
    "\n",
    "<div id=\"accordion\">\n",
    "    <div class=\"card\">\n",
    "        <div class=\"card-header\" id=\"headingThree\">\n",
    "            <button class=\"btn btn-link collapsed\" data-toggle=\"collapse\" data-target=\"#collapseHint_2\" aria-expanded=\"false\" aria-controls=\"collapseHint_2\">Подсказка</button>\n",
    "        </div>\n",
    "        <div id=\"collapseHint_2\" class=\"collapse\" aria-labelledby=\"headingThree\" data-parent=\"#accordion\">\n",
    "            <div class=\"card-body\">\n",
    "Чтобы создать такие столбцы, лучше всего использовать собственную функцию. Эту функцию можно применить к двум столбцам сразу. \n",
    "            </div>\n",
    "        </div>\n",
    "    </div>\n",
    "</div>"
   ]
  },
  {
   "cell_type": "code",
   "execution_count": 46,
   "metadata": {},
   "outputs": [],
   "source": [
    "data['main_director'] = data['director'].str.split(',',1).str[0]"
   ]
  },
  {
   "cell_type": "code",
   "execution_count": 47,
   "metadata": {
    "id": "LSbRZKbMgFyU"
   },
   "outputs": [],
   "source": [
    "data['main_genre'] = data['genres'].str.split(',',1).str[0]"
   ]
  },
  {
   "cell_type": "markdown",
   "metadata": {
    "id": "1FsCXHwdgFyU"
   },
   "source": [
    "- Посчитайте, какую долю от общего бюджета фильма составляет государственная поддержка."
   ]
  },
  {
   "cell_type": "code",
   "execution_count": 48,
   "metadata": {
    "id": "LV6qFuZLgFyV"
   },
   "outputs": [],
   "source": [
    "data['ratio_budget'] = round((data['refundable_support'] + data['nonrefundable_support']) / data['budget'],2)"
   ]
  },
  {
   "cell_type": "markdown",
   "metadata": {
    "id": "6t4EukPLgFyV"
   },
   "source": [
    "### Шаг 3. Проведите исследовательский анализ данных\n"
   ]
  },
  {
   "cell_type": "markdown",
   "metadata": {
    "id": "vAH8WCzugFyV"
   },
   "source": [
    "- Посмотрите, сколько фильмов выходило в прокат каждый год. Обратите внимание, что данные о прокате в кинотеатрах известны не для всех фильмов. Посчитайте, какую долю составляют фильмы с указанной информацией о прокате в кинотеатрах."
   ]
  },
  {
   "cell_type": "code",
   "execution_count": 49,
   "metadata": {
    "id": "ABeV47y7gFyW"
   },
   "outputs": [
    {
     "name": "stdout",
     "output_type": "stream",
     "text": [
      "10\n",
      "7461\n",
      "2017    505\n",
      "2012    588\n",
      "2011    622\n",
      "2013    625\n",
      "2015    702\n",
      "2014    800\n",
      "2016    817\n",
      "2018    891\n",
      "2019    930\n",
      "2010    981\n",
      "Name: year, dtype: int64\n"
     ]
    }
   ],
   "source": [
    "years = data['year'].value_counts()\n",
    "print(len(years))\n",
    "print(len(data))\n",
    "print(years.sort_values())"
   ]
  },
  {
   "cell_type": "code",
   "execution_count": 50,
   "metadata": {
    "scrolled": false
   },
   "outputs": [
    {
     "data": {
      "image/png": "[encoded data removed]",
      "text/plain": [
       "<Figure size 1080x216 with 1 Axes>"
      ]
     },
     "metadata": {
      "needs_background": "light"
     },
     "output_type": "display_data"
    }
   ],
   "source": [
    "data.hist('year', bins = 10, figsize = (15,3))\n",
    "plt.show()"
   ]
  },
  {
   "cell_type": "markdown",
   "metadata": {},
   "source": [
    "**Вывод:** 2017 год оказался наименее продуктивным по числу фильмов в прокате. После пика количества вышедших в прокат фильмов в 2010 году, наблюдаются плавные и переменные скачки показателя."
   ]
  },
  {
   "cell_type": "markdown",
   "metadata": {},
   "source": [
    "Посмотрим долю фильмов с указанной информацией о сборах в кинотетарах по каждому году (**2010-2019гг.**)"
   ]
  },
  {
   "cell_type": "code",
   "execution_count": 51,
   "metadata": {},
   "outputs": [
    {
     "name": "stdout",
     "output_type": "stream",
     "text": [
      "В 2010 году доля фильмов с указанной информацией о сборах в кинотетарах составила: 0.1\n"
     ]
    }
   ],
   "source": [
    "films_2010 = data.query('year == 2010')\n",
    "films_2010_box_office = films_2010[films_2010['box_office'].notna()]\n",
    "print(f'В 2010 году доля фильмов с указанной информацией о сборах в кинотетарах составила:', \n",
    "      round(len(films_2010_box_office)/len(films_2010),2))"
   ]
  },
  {
   "cell_type": "code",
   "execution_count": 52,
   "metadata": {},
   "outputs": [
    {
     "name": "stdout",
     "output_type": "stream",
     "text": [
      "В 2011 году доля фильмов с указанной информацией о сборах в кинотетарах составила: 0.18\n"
     ]
    }
   ],
   "source": [
    "films_2011 = data.query('year == 2011')\n",
    "films_2011_box_office = films_2011[films_2011['box_office'].notna()]\n",
    "print(f'В 2011 году доля фильмов с указанной информацией о сборах в кинотетарах составила:', \n",
    "      round(len(films_2011_box_office)/len(films_2011),2))"
   ]
  },
  {
   "cell_type": "code",
   "execution_count": 53,
   "metadata": {},
   "outputs": [
    {
     "name": "stdout",
     "output_type": "stream",
     "text": [
      "В 2012 году доля фильмов с указанной информацией о сборах в кинотетарах составила: 0.21\n"
     ]
    }
   ],
   "source": [
    "films_2012 = data.query('year == 2012')\n",
    "films_2012_box_office = films_2012[films_2012['box_office'].notna()]\n",
    "print(f'В 2012 году доля фильмов с указанной информацией о сборах в кинотетарах составила:', \n",
    "      round(len(films_2012_box_office)/len(films_2012),2))"
   ]
  },
  {
   "cell_type": "code",
   "execution_count": 54,
   "metadata": {},
   "outputs": [
    {
     "name": "stdout",
     "output_type": "stream",
     "text": [
      "В 2013 году доля фильмов с указанной информацией о сборах в кинотетарах составила: 0.29\n"
     ]
    }
   ],
   "source": [
    "films_2013 = data.query('year == 2013')\n",
    "films_2013_box_office = films_2013[films_2013['box_office'].notna()]\n",
    "print(f'В 2013 году доля фильмов с указанной информацией о сборах в кинотетарах составила:', \n",
    "      round(len(films_2013_box_office)/len(films_2013),2))"
   ]
  },
  {
   "cell_type": "code",
   "execution_count": 55,
   "metadata": {},
   "outputs": [
    {
     "name": "stdout",
     "output_type": "stream",
     "text": [
      "В 2014 году доля фильмов с указанной информацией о сборах в кинотетарах составила: 0.34\n"
     ]
    }
   ],
   "source": [
    "films_2014 = data.query('year == 2014')\n",
    "films_2014_box_office = films_2014[films_2014['box_office'].notna()]\n",
    "print(f'В 2014 году доля фильмов с указанной информацией о сборах в кинотетарах составила:', \n",
    "      round(len(films_2014_box_office)/len(films_2014),2))"
   ]
  },
  {
   "cell_type": "code",
   "execution_count": 56,
   "metadata": {},
   "outputs": [
    {
     "name": "stdout",
     "output_type": "stream",
     "text": [
      "В 2015 году доля фильмов с указанной информацией о сборах в кинотетарах составила: 0.66\n"
     ]
    }
   ],
   "source": [
    "films_2015 = data.query('year == 2015')\n",
    "films_2015_box_office = films_2015[films_2015['box_office'].notna()]\n",
    "print(f'В 2015 году доля фильмов с указанной информацией о сборах в кинотетарах составила:', \n",
    "      round(len(films_2015_box_office)/len(films_2015),2))"
   ]
  },
  {
   "cell_type": "code",
   "execution_count": 57,
   "metadata": {},
   "outputs": [
    {
     "name": "stdout",
     "output_type": "stream",
     "text": [
      "В 2016 году доля фильмов с указанной информацией о сборах в кинотетарах составила: 0.64\n"
     ]
    }
   ],
   "source": [
    "films_2016 = data.query('year == 2016')\n",
    "films_2016_box_office = films_2016[films_2016['box_office'].notna()]\n",
    "print(f'В 2016 году доля фильмов с указанной информацией о сборах в кинотетарах составила:', \n",
    "      round(len(films_2016_box_office)/len(films_2016),2))"
   ]
  },
  {
   "cell_type": "code",
   "execution_count": 58,
   "metadata": {},
   "outputs": [
    {
     "name": "stdout",
     "output_type": "stream",
     "text": [
      "В 2017 году доля фильмов с указанной информацией о сборах в кинотетарах составила: 0.71\n"
     ]
    }
   ],
   "source": [
    "films_2017 = data.query('year == 2017')\n",
    "films_2017_box_office = films_2017[films_2017['box_office'].notna()]\n",
    "print(f'В 2017 году доля фильмов с указанной информацией о сборах в кинотетарах составила:', \n",
    "      round(len(films_2017_box_office)/len(films_2017),2))"
   ]
  },
  {
   "cell_type": "code",
   "execution_count": 59,
   "metadata": {},
   "outputs": [
    {
     "name": "stdout",
     "output_type": "stream",
     "text": [
      "В 2018 году доля фильмов с указанной информацией о сборах в кинотетарах составила: 0.53\n"
     ]
    }
   ],
   "source": [
    "films_2018 = data.query('year == 2018')\n",
    "films_2018_box_office = films_2018[films_2018['box_office'].notna()]\n",
    "print(f'В 2018 году доля фильмов с указанной информацией о сборах в кинотетарах составила:', \n",
    "      round(len(films_2018_box_office)/len(films_2018),2))"
   ]
  },
  {
   "cell_type": "code",
   "execution_count": 60,
   "metadata": {},
   "outputs": [
    {
     "name": "stdout",
     "output_type": "stream",
     "text": [
      "В 2019 году доля фильмов с указанной информацией о сборах в кинотетарах составила: 0.57\n"
     ]
    }
   ],
   "source": [
    "films_2019 = data.query('year == 2019')\n",
    "films_2019_box_office = films_2019[films_2019['box_office'].notna()]\n",
    "print(f'В 2019 году доля фильмов с указанной информацией о сборах в кинотетарах составила:', \n",
    "      round(len(films_2019_box_office)/len(films_2019),2))"
   ]
  },
  {
   "cell_type": "markdown",
   "metadata": {},
   "source": [
    "**Вывод:** Можно видеть, что с каждым годом, несмотря на небольшое снижение в **2018-2019гг.**, доля фильмов с указанной информацией о сборах в кинотетарах увеличивается."
   ]
  },
  {
   "cell_type": "markdown",
   "metadata": {
    "id": "BEOdcIrIgFyW"
   },
   "source": [
    "- Изучите, как менялась динамика проката по годам. В каком году сумма сборов была минимальной? А максимальной?"
   ]
  },
  {
   "cell_type": "code",
   "execution_count": 61,
   "metadata": {
    "id": "tfEhofYvgFyX",
    "scrolled": true
   },
   "outputs": [
    {
     "name": "stdout",
     "output_type": "stream",
     "text": [
      "year\n",
      "2010    2.428654e+06\n",
      "2012    6.955423e+06\n",
      "2011    1.410276e+07\n",
      "2013    2.979971e+07\n",
      "2014    7.444952e+09\n",
      "2015    3.949737e+10\n",
      "2016    4.786630e+10\n",
      "2019    4.842571e+10\n",
      "2017    4.856371e+10\n",
      "2018    4.966840e+10\n",
      "Name: box_office, dtype: float64\n"
     ]
    }
   ],
   "source": [
    "data_box_office = data.groupby('year')['box_office'].sum()\n",
    "print(data_box_office.sort_values())"
   ]
  },
  {
   "cell_type": "markdown",
   "metadata": {},
   "source": [
    "**Вывод:** В 2010 году сумма сборов была минимальной. В 2018 году сумма сборов была максимальной. Из представленного для изучения массива данных можно видеть общую тенденцию увелечения суммы сборов."
   ]
  },
  {
   "cell_type": "markdown",
   "metadata": {
    "id": "G-7qS-N-gFyY"
   },
   "source": [
    "- С помощью сводной таблицы посчитайте среднюю и медианную сумму сборов для каждого года."
   ]
  },
  {
   "cell_type": "code",
   "execution_count": 62,
   "metadata": {
    "id": "jmp-rgg9gFyY"
   },
   "outputs": [
    {
     "name": "stdout",
     "output_type": "stream",
     "text": [
      "           median          mean\n",
      "       box_office    box_office\n",
      "year                           \n",
      "2010     1710.000  2.404608e+04\n",
      "2011     3000.000  1.293832e+05\n",
      "2012     6220.000  5.654815e+04\n",
      "2013     3580.000  1.664788e+05\n",
      "2014    20400.000  2.727089e+07\n",
      "2015  5003450.150  8.549213e+07\n",
      "2016  3915041.020  9.117390e+07\n",
      "2017  9968340.000  1.360328e+08\n",
      "2018  8891102.210  1.045651e+08\n",
      "2019  4627798.345  9.136926e+07\n"
     ]
    }
   ],
   "source": [
    "mean_med_years = data.pivot_table(index = 'year', values = 'box_office', aggfunc = (['median','mean']))\n",
    "                                  \n",
    "print(mean_med_years)"
   ]
  },
  {
   "cell_type": "markdown",
   "metadata": {},
   "source": [
    "**Вывод:** Медианные и средние значения еще раз показывают, почему на прошлом этапе изучения динамики проката и показателей сбора были получены такие значения. До 2015 года данные содержат большое количество фильмов, спонсируемых государством, но в то же время не выходивишие в массовый прокат. "
   ]
  },
  {
   "cell_type": "markdown",
   "metadata": {
    "id": "Ok89WFwJgFyZ"
   },
   "source": [
    "- Определите, влияет ли возрастное ограничение аудитории («6+», «12+», «16+», «18+» и т. д.) на сборы фильма в прокате в период с 2015 по 2019 год? Фильмы с каким возрастным ограничением собрали больше всего денег в прокате? Меняется ли картина в зависимости от года? Если да, предположите, с чем это может быть связано."
   ]
  },
  {
   "cell_type": "code",
   "execution_count": 63,
   "metadata": {
    "id": "jsSbEqfjgFya",
    "scrolled": true
   },
   "outputs": [
    {
     "name": "stdout",
     "output_type": "stream",
     "text": [
      "                   box_office\n",
      "age_restriction              \n",
      "«0+»             3.790546e+08\n",
      "«18+»            5.432308e+09\n",
      "«6+»             8.701799e+09\n",
      "«16+»            1.136812e+10\n",
      "«12+»            1.361608e+10\n"
     ]
    },
    {
     "data": {
      "text/plain": [
       "<AxesSubplot:xlabel='age_restriction'>"
      ]
     },
     "execution_count": 63,
     "metadata": {},
     "output_type": "execute_result"
    },
    {
     "data": {
      "image/png": "[encoded data removed]",
      "text/plain": [
       "<Figure size 432x288 with 1 Axes>"
      ]
     },
     "metadata": {
      "needs_background": "light"
     },
     "output_type": "display_data"
    }
   ],
   "source": [
    "age_restriction_2015 = films_2015.pivot_table(index = 'age_restriction', values = 'box_office', aggfunc = 'sum')\n",
    "\n",
    "print(age_restriction_2015.sort_values(by = 'box_office'))\n",
    "\n",
    "age_restriction_2015.plot(style='o-')"
   ]
  },
  {
   "cell_type": "code",
   "execution_count": 64,
   "metadata": {},
   "outputs": [
    {
     "name": "stdout",
     "output_type": "stream",
     "text": [
      "                   box_office\n",
      "age_restriction              \n",
      "«0+»             1.502288e+08\n",
      "«18+»            6.793930e+09\n",
      "«6+»             1.205315e+10\n",
      "«12+»            1.220445e+10\n",
      "«16+»            1.666455e+10\n"
     ]
    },
    {
     "data": {
      "text/plain": [
       "<AxesSubplot:xlabel='age_restriction'>"
      ]
     },
     "execution_count": 64,
     "metadata": {},
     "output_type": "execute_result"
    },
    {
     "data": {
      "image/png": "[encoded data removed]",
      "text/plain": [
       "<Figure size 432x288 with 1 Axes>"
      ]
     },
     "metadata": {
      "needs_background": "light"
     },
     "output_type": "display_data"
    }
   ],
   "source": [
    "age_restriction_2016 = films_2016.pivot_table(index = 'age_restriction', values = 'box_office', aggfunc = 'sum')\n",
    "\n",
    "print(age_restriction_2016.sort_values(by = 'box_office'))\n",
    "\n",
    "age_restriction_2016.plot(style='o-')"
   ]
  },
  {
   "cell_type": "code",
   "execution_count": 65,
   "metadata": {},
   "outputs": [
    {
     "name": "stdout",
     "output_type": "stream",
     "text": [
      "                   box_office\n",
      "age_restriction              \n",
      "«0+»             2.295989e+08\n",
      "«12+»            7.851428e+09\n",
      "«18+»            9.651496e+09\n",
      "«6+»             1.208614e+10\n",
      "«16+»            1.874504e+10\n"
     ]
    },
    {
     "data": {
      "text/plain": [
       "<AxesSubplot:xlabel='age_restriction'>"
      ]
     },
     "execution_count": 65,
     "metadata": {},
     "output_type": "execute_result"
    },
    {
     "data": {
      "image/png": "[encoded data removed]",
      "text/plain": [
       "<Figure size 432x288 with 1 Axes>"
      ]
     },
     "metadata": {
      "needs_background": "light"
     },
     "output_type": "display_data"
    }
   ],
   "source": [
    "age_restriction_2017 = films_2017.pivot_table(index = 'age_restriction', values = 'box_office', aggfunc = 'sum')\n",
    "\n",
    "print(age_restriction_2017.sort_values(by = 'box_office'))\n",
    "\n",
    "age_restriction_2017.plot(style='o-')"
   ]
  },
  {
   "cell_type": "code",
   "execution_count": 66,
   "metadata": {},
   "outputs": [
    {
     "name": "stdout",
     "output_type": "stream",
     "text": [
      "                   box_office\n",
      "age_restriction              \n",
      "«0+»             3.244900e+07\n",
      "«18+»            8.760086e+09\n",
      "«6+»             1.010497e+10\n",
      "«12+»            1.426729e+10\n",
      "«16+»            1.650360e+10\n"
     ]
    },
    {
     "data": {
      "text/plain": [
       "<AxesSubplot:xlabel='age_restriction'>"
      ]
     },
     "execution_count": 66,
     "metadata": {},
     "output_type": "execute_result"
    },
    {
     "data": {
      "image/png": "[encoded data removed]",
      "text/plain": [
       "<Figure size 432x288 with 1 Axes>"
      ]
     },
     "metadata": {
      "needs_background": "light"
     },
     "output_type": "display_data"
    }
   ],
   "source": [
    "age_restriction_2018 = films_2018.pivot_table(index = 'age_restriction', values = 'box_office', aggfunc = 'sum')\n",
    "\n",
    "print(age_restriction_2018.sort_values(by = 'box_office'))\n",
    "\n",
    "age_restriction_2018.plot(style='o-')"
   ]
  },
  {
   "cell_type": "code",
   "execution_count": 67,
   "metadata": {},
   "outputs": [
    {
     "name": "stdout",
     "output_type": "stream",
     "text": [
      "                   box_office\n",
      "age_restriction              \n",
      "«0+»             1.774607e+07\n",
      "«18+»            1.012180e+10\n",
      "«12+»            1.268020e+10\n",
      "«16+»            1.275342e+10\n",
      "«6+»             1.285255e+10\n"
     ]
    },
    {
     "data": {
      "text/plain": [
       "<AxesSubplot:xlabel='age_restriction'>"
      ]
     },
     "execution_count": 67,
     "metadata": {},
     "output_type": "execute_result"
    },
    {
     "data": {
      "image/png": "[encoded data removed]",
      "text/plain": [
       "<Figure size 432x288 with 1 Axes>"
      ]
     },
     "metadata": {
      "needs_background": "light"
     },
     "output_type": "display_data"
    }
   ],
   "source": [
    "age_restriction_2019 = films_2019.pivot_table(index = 'age_restriction', values = 'box_office', aggfunc = 'sum')\n",
    "\n",
    "print(age_restriction_2019.sort_values(by = 'box_office'))\n",
    "\n",
    "age_restriction_2019.plot(style='o-')"
   ]
  },
  {
   "cell_type": "markdown",
   "metadata": {},
   "source": [
    "**Вывод:** За период 2015-2019 гг. можно видеть, что фильмы с ограничением 12+ и 16+, расчитанные на массовую аудиторию, собирают больше всего денег в прокате. В то же время фильмы с ограничением 18+ и, особенно, 0+, расчитанные на более конкретную аудиторию, набирают значительно меньше. График по годам практически не меняется, а отдельные наблюдаемые пики объяснимы отдельными успешными фильмами. "
   ]
  },
  {
   "cell_type": "markdown",
   "metadata": {
    "id": "l_Kg6Ku4gFya"
   },
   "source": [
    "### Шаг 4. Исследуйте фильмы, которые получили государственную поддержку\n",
    "\n",
    "На этом этапе нет конкретных инструкций и заданий — поищите интересные закономерности в данных. Посмотрите, сколько выделяют средств на поддержку кино. Проверьте, хорошо ли окупаются такие фильмы, какой у них рейтинг."
   ]
  },
  {
   "cell_type": "markdown",
   "metadata": {},
   "source": [
    "**Посмотрим сколько выделяет денежных средств Фонд кино и Министерство культуры** "
   ]
  },
  {
   "cell_type": "code",
   "execution_count": 68,
   "metadata": {
    "id": "W9QKpjUdgFyb"
   },
   "outputs": [],
   "source": [
    "fond_kino = data.query('financing_source == \"Фонд кино\"')\n",
    "\n",
    "fond_kino_total_support = pd.DataFrame()\n",
    "fond_kino_max_film_support = pd.DataFrame()\n",
    "\n",
    "ministry = data.query('financing_source == \"Министерство культуры\"')\n",
    "\n",
    "ministry_total_support = pd.DataFrame()\n",
    "ministry_max_film_support = pd.DataFrame()"
   ]
  },
  {
   "cell_type": "markdown",
   "metadata": {},
   "source": [
    "**Посчитаем все выделенные Фондом кино денежные средства за 2010-2019 гг.**"
   ]
  },
  {
   "cell_type": "code",
   "execution_count": 69,
   "metadata": {
    "scrolled": true
   },
   "outputs": [
    {
     "name": "stdout",
     "output_type": "stream",
     "text": [
      "Объём возвратных средств Фонда Кино: 3613500000.0\n",
      "Объём невозвратных средств Фонда Кино: 10565095958.0\n",
      "Объём всех выделенных средств Фонда Кино: 14178595958.0\n",
      "Доля невозвратных средств Фонда Кино: 0.75\n"
     ]
    }
   ],
   "source": [
    "print(f'Объём возвратных средств Фонда Кино:', fond_kino['refundable_support'].sum())\n",
    "\n",
    "print(f'Объём невозвратных средств Фонда Кино:', fond_kino['nonrefundable_support'].sum())      \n",
    "      \n",
    "print(f'Объём всех выделенных средств Фонда Кино:', fond_kino['total_support'].sum())\n",
    "\n",
    "print(f'Доля невозвратных средств Фонда Кино:', round((fond_kino['nonrefundable_support'].sum())/(fond_kino['total_support'].sum()),2))"
   ]
  },
  {
   "cell_type": "markdown",
   "metadata": {},
   "source": [
    "**Вывод:** Процент невозвратных средств Фонда Кино за период 2010-2019 гг. составил **75%**"
   ]
  },
  {
   "cell_type": "code",
   "execution_count": 70,
   "metadata": {},
   "outputs": [
    {
     "name": "stdout",
     "output_type": "stream",
     "text": [
      "Объём возвратных средств Министерства культуры: 0.0\n",
      "Объём невозвратных средств Министерства культуры: 4836661000.0\n",
      "Объём всех выделенных средств Фонда Кино: 4836661000.0\n"
     ]
    }
   ],
   "source": [
    "print(f'Объём возвратных средств Министерства культуры:', ministry['refundable_support'].sum())\n",
    "\n",
    "print(f'Объём невозвратных средств Министерства культуры:', ministry['nonrefundable_support'].sum())      \n",
    "      \n",
    "print(f'Объём всех выделенных средств Фонда Кино:', ministry['total_support'].sum())"
   ]
  },
  {
   "cell_type": "markdown",
   "metadata": {},
   "source": [
    "**Вывод:** Министерство культуры выделяет средства только на безвозмедной основе."
   ]
  },
  {
   "cell_type": "code",
   "execution_count": 71,
   "metadata": {},
   "outputs": [
    {
     "name": "stdout",
     "output_type": "stream",
     "text": [
      "               total_support   ratings\n",
      "total_support       1.000000  0.253291\n",
      "ratings             0.253291  1.000000\n"
     ]
    }
   ],
   "source": [
    "corr_rating_support_fond_kino = fond_kino[['total_support', 'ratings']]\n",
    "print(corr_rating_support_fond_kino.corr())"
   ]
  },
  {
   "cell_type": "markdown",
   "metadata": {},
   "source": [
    "**Вывод:** Слабая положительная корреляция между объёмом выделяемых Фондом Кино денежных средств поддержки и рейтингом фильмов."
   ]
  },
  {
   "cell_type": "code",
   "execution_count": 72,
   "metadata": {},
   "outputs": [
    {
     "name": "stdout",
     "output_type": "stream",
     "text": [
      "               total_support   ratings\n",
      "total_support       1.000000 -0.009291\n",
      "ratings            -0.009291  1.000000\n"
     ]
    }
   ],
   "source": [
    "corr_rating_support_ministry = ministry[['total_support', 'ratings']]\n",
    "print(corr_rating_support_ministry.corr())"
   ]
  },
  {
   "cell_type": "markdown",
   "metadata": {},
   "source": [
    "**Вывод:** Корреляция ниже и отсутствует между объёмом выделяемых Министерством культуры денежных средств поддержки и рейтингом фильмов."
   ]
  },
  {
   "cell_type": "code",
   "execution_count": 73,
   "metadata": {},
   "outputs": [
    {
     "name": "stdout",
     "output_type": "stream",
     "text": [
      "               total_support  box_office\n",
      "total_support       1.000000    0.420953\n",
      "box_office          0.420953    1.000000\n"
     ]
    }
   ],
   "source": [
    "corr_box_support_fond_kino = fond_kino[['total_support', 'box_office']]\n",
    "print(corr_box_support_fond_kino.corr())"
   ]
  },
  {
   "cell_type": "markdown",
   "metadata": {},
   "source": [
    "**Вывод:** Умеренная положительная корреляция между объёмом выделяемых Фондом Кино денежных средств поддержки и сборами в прокате."
   ]
  },
  {
   "cell_type": "code",
   "execution_count": 74,
   "metadata": {},
   "outputs": [
    {
     "name": "stdout",
     "output_type": "stream",
     "text": [
      "               total_support  box_office\n",
      "total_support       1.000000    0.211749\n",
      "box_office          0.211749    1.000000\n"
     ]
    }
   ],
   "source": [
    "corr_box_support_ministry = ministry[['total_support', 'box_office']]\n",
    "print(corr_box_support_ministry.corr())"
   ]
  },
  {
   "cell_type": "markdown",
   "metadata": {},
   "source": [
    "**Вывод:** Слабая положительная корреляция между объёмом выделяемых Министерством денежных средств поддержки и сборами в прокате."
   ]
  },
  {
   "cell_type": "markdown",
   "metadata": {},
   "source": [
    "**Изучим сумму выделенных Фондом кино средств поддержки по каждому году и наиболее спонсируемые фильмы в определённый год (2010-2019 гг.)** "
   ]
  },
  {
   "cell_type": "code",
   "execution_count": 75,
   "metadata": {
    "scrolled": true
   },
   "outputs": [
    {
     "name": "stdout",
     "output_type": "stream",
     "text": [
      "Общая сумма выделенных Фондом кино средств в 2010 году составило: 0.0\n"
     ]
    }
   ],
   "source": [
    "fond_kino_2010 = fond_kino.query('year == 2010')   \n",
    "      \n",
    "print('Общая сумма выделенных Фондом кино средств в 2010 году составило:',\n",
    "      fond_kino_2010['total_support'].sum())"
   ]
  },
  {
   "cell_type": "code",
   "execution_count": 76,
   "metadata": {},
   "outputs": [
    {
     "name": "stdout",
     "output_type": "stream",
     "text": [
      "Общая сумма выделенных Фондом кино средств в 2011 году составило: 0.0\n"
     ]
    }
   ],
   "source": [
    "fond_kino_2011 = fond_kino.query('year == 2011')   \n",
    "      \n",
    "print('Общая сумма выделенных Фондом кино средств в 2011 году составило:',\n",
    "      fond_kino_2011['total_support'].sum())"
   ]
  },
  {
   "cell_type": "code",
   "execution_count": 77,
   "metadata": {},
   "outputs": [
    {
     "name": "stdout",
     "output_type": "stream",
     "text": [
      "Общая сумма выделенных Фондом кино средств в 2012 году составило: 0.0\n"
     ]
    }
   ],
   "source": [
    "fond_kino_2012 = fond_kino.query('year == 2012')   \n",
    "      \n",
    "print('Общая сумма выделенных Фондом кино средств в 2012 году составило:',\n",
    "      fond_kino_2012['total_support'].sum())"
   ]
  },
  {
   "cell_type": "code",
   "execution_count": 78,
   "metadata": {
    "scrolled": false
   },
   "outputs": [
    {
     "name": "stdout",
     "output_type": "stream",
     "text": [
      "Общая сумма выделенных Фондом кино средств в 2013 году составило: year\n",
      "2013    107847945.0\n",
      "Name: total_support, dtype: float64\n",
      "\n",
      "Наиболее спонсируемый фильм:\n",
      "1498    Невидимки\n",
      "Name: title, dtype: object\n"
     ]
    }
   ],
   "source": [
    "fond_kino_2013 = fond_kino.query('year == 2013')   \n",
    "\n",
    "fond_kino_2013_total_support = fond_kino_2013.pivot_table(index = 'year', values = 'total_support', aggfunc = 'sum')\n",
    "\n",
    "print('Общая сумма выделенных Фондом кино средств в 2013 году составило:',\n",
    "      fond_kino_2013_total_support.loc[:,'total_support'])\n",
    "\n",
    "fond_kino_total_support = fond_kino_total_support.append(fond_kino_2013_total_support)\n",
    "\n",
    "print('')\n",
    "\n",
    "fond_kino_max_film_support_2013 = fond_kino_2013[fond_kino_2013['total_support']==fond_kino_2013['total_support'].max()]\n",
    "\n",
    "fond_kino_max_film_support = fond_kino_max_film_support.append(fond_kino_max_film_support_2013)  \n",
    "\n",
    "print('Наиболее спонсируемый фильм:')\n",
    "print(fond_kino_max_film_support_2013['title'])"
   ]
  },
  {
   "cell_type": "code",
   "execution_count": 79,
   "metadata": {},
   "outputs": [
    {
     "name": "stdout",
     "output_type": "stream",
     "text": [
      "Общая сумма выделенных Фондом кино средств в 2014 году составило: year\n",
      "2014    201000000.0\n",
      "Name: total_support, dtype: float64\n",
      "\n",
      "Наиболее спонсируемый фильм:\n",
      "2004    Снежная Королева 2: Перезаморозка\n",
      "Name: title, dtype: object\n"
     ]
    }
   ],
   "source": [
    "fond_kino_2014 = fond_kino.query('year == 2014')   \n",
    "\n",
    "fond_kino_2014_total_support = fond_kino_2014.pivot_table(index = 'year', values = 'total_support', aggfunc = 'sum')\n",
    "\n",
    "print('Общая сумма выделенных Фондом кино средств в 2014 году составило:',\n",
    "      fond_kino_2014_total_support.loc[:,'total_support'])\n",
    "\n",
    "fond_kino_total_support = fond_kino_total_support.append(fond_kino_2014_total_support)\n",
    "\n",
    "print('')\n",
    "\n",
    "fond_kino_max_film_support_2014 = fond_kino_2014[fond_kino_2014['total_support']==fond_kino_2014['total_support'].max()]\n",
    "\n",
    "fond_kino_max_film_support = fond_kino_max_film_support.append(fond_kino_max_film_support_2014)  \n",
    "\n",
    "print('Наиболее спонсируемый фильм:')\n",
    "\n",
    "print(fond_kino_max_film_support_2014['title'])"
   ]
  },
  {
   "cell_type": "code",
   "execution_count": 80,
   "metadata": {},
   "outputs": [
    {
     "name": "stdout",
     "output_type": "stream",
     "text": [
      "Общая сумма выделенных Фондом кино средств в 2015 году составило: year\n",
      "2015    2.236049e+09\n",
      "Name: total_support, dtype: float64\n",
      "\n",
      "Наиболее спонсируемый фильм:\n",
      "2698    Он - Дракон\n",
      "Name: title, dtype: object\n"
     ]
    }
   ],
   "source": [
    "fond_kino_2015 = fond_kino.query('year == 2015')   \n",
    "\n",
    "fond_kino_2015_total_support = fond_kino_2015.pivot_table(index = 'year', values = 'total_support', aggfunc = 'sum')\n",
    "\n",
    "print('Общая сумма выделенных Фондом кино средств в 2015 году составило:',\n",
    "      fond_kino_2015_total_support.loc[:,'total_support'])\n",
    "\n",
    "fond_kino_total_support = fond_kino_total_support.append(fond_kino_2015_total_support)\n",
    "\n",
    "print('')\n",
    "\n",
    "fond_kino_max_film_support_2015 = fond_kino_2015[fond_kino_2015['total_support']==fond_kino_2015['total_support'].max()]\n",
    "\n",
    "fond_kino_max_film_support = fond_kino_max_film_support.append(fond_kino_max_film_support_2015)  \n",
    "\n",
    "print('Наиболее спонсируемый фильм:')\n",
    "\n",
    "print(fond_kino_max_film_support_2015['title'])"
   ]
  },
  {
   "cell_type": "code",
   "execution_count": 81,
   "metadata": {},
   "outputs": [
    {
     "name": "stdout",
     "output_type": "stream",
     "text": [
      "Общая сумма выделенных Фондом кино средств в 2016 году составило: year\n",
      "2016    3.084104e+09\n",
      "Name: total_support, dtype: float64\n",
      "\n",
      "Наиболее спонсируемый фильм:\n",
      "3350    Дуэлянт\n",
      "Name: title, dtype: object\n"
     ]
    }
   ],
   "source": [
    "fond_kino_2016 = fond_kino.query('year == 2016')   \n",
    "\n",
    "fond_kino_2016_total_support = fond_kino_2016.pivot_table(index = 'year', values = 'total_support', aggfunc = 'sum')\n",
    "\n",
    "print('Общая сумма выделенных Фондом кино средств в 2016 году составило:',\n",
    "      fond_kino_2016_total_support.loc[:,'total_support'])\n",
    "\n",
    "fond_kino_total_support = fond_kino_total_support.append(fond_kino_2016_total_support)\n",
    "\n",
    "print('')\n",
    "\n",
    "fond_kino_max_film_support_2016 = fond_kino_2016[fond_kino_2016['total_support']==fond_kino_2016['total_support'].max()]\n",
    "\n",
    "fond_kino_max_film_support = fond_kino_max_film_support.append(fond_kino_max_film_support_2016)  \n",
    "\n",
    "print('Наиболее спонсируемый фильм:')\n",
    "\n",
    "print(fond_kino_max_film_support_2016['title'])"
   ]
  },
  {
   "cell_type": "code",
   "execution_count": 82,
   "metadata": {},
   "outputs": [
    {
     "name": "stdout",
     "output_type": "stream",
     "text": [
      "Общая сумма выделенных Фондом кино средств в 2017 году составило: year\n",
      "2017    2.768625e+09\n",
      "Name: total_support, dtype: float64\n",
      "\n",
      "Наиболее спонсируемый фильм:\n",
      "5652    Движение вверх\n",
      "Name: title, dtype: object\n"
     ]
    }
   ],
   "source": [
    "fond_kino_2017 = fond_kino.query('year == 2017')   \n",
    "\n",
    "fond_kino_2017_total_support = fond_kino_2017.pivot_table(index = 'year', values = 'total_support', aggfunc = 'sum')\n",
    "\n",
    "print('Общая сумма выделенных Фондом кино средств в 2017 году составило:',\n",
    "      fond_kino_2017_total_support.loc[:,'total_support'])\n",
    "\n",
    "fond_kino_total_support = fond_kino_total_support.append(fond_kino_2017_total_support)\n",
    "\n",
    "print('')\n",
    "\n",
    "fond_kino_max_film_support_2017 = fond_kino_2017[fond_kino_2017['total_support']==fond_kino_2017['total_support'].max()]\n",
    "\n",
    "fond_kino_max_film_support = fond_kino_max_film_support.append(fond_kino_max_film_support_2017)  \n",
    "\n",
    "print('Наиболее спонсируемый фильм:')\n",
    "\n",
    "print(fond_kino_max_film_support_2017['title'])"
   ]
  },
  {
   "cell_type": "code",
   "execution_count": 83,
   "metadata": {},
   "outputs": [
    {
     "name": "stdout",
     "output_type": "stream",
     "text": [
      "Общая сумма выделенных Фондом кино средств в 2018 году составило: year\n",
      "2018    2.465969e+09\n",
      "Name: total_support, dtype: float64\n",
      "\n",
      "Наиболее спонсируемый фильм:\n",
      "5825    Тренер\n",
      "Name: title, dtype: object\n"
     ]
    }
   ],
   "source": [
    "fond_kino_2018 = fond_kino.query('year == 2018')   \n",
    "\n",
    "fond_kino_2018_total_support = fond_kino_2018.pivot_table(index = 'year', values = 'total_support', aggfunc = 'sum')\n",
    "\n",
    "print('Общая сумма выделенных Фондом кино средств в 2018 году составило:',\n",
    "      fond_kino_2018_total_support.loc[:,'total_support'])\n",
    "\n",
    "fond_kino_total_support = fond_kino_total_support.append(fond_kino_2018_total_support)\n",
    "\n",
    "print('')\n",
    "\n",
    "fond_kino_max_film_support_2018 = fond_kino_2018[fond_kino_2018['total_support']==fond_kino_2018['total_support'].max()]\n",
    "\n",
    "fond_kino_max_film_support = fond_kino_max_film_support.append(fond_kino_max_film_support_2018)  \n",
    "\n",
    "print('Наиболее спонсируемый фильм:')\n",
    "\n",
    "print(fond_kino_max_film_support_2018['title'])"
   ]
  },
  {
   "cell_type": "code",
   "execution_count": 84,
   "metadata": {},
   "outputs": [
    {
     "name": "stdout",
     "output_type": "stream",
     "text": [
      "Общая сумма выделенных Фондом кино средств в 2019 году составило: year\n",
      "2019    3.315000e+09\n",
      "Name: total_support, dtype: float64\n",
      "\n",
      "Наиболее спонсируемые фильмы:\n",
      "7463    Союз спасения\n",
      "7473        Вторжение\n",
      "Name: title, dtype: object\n"
     ]
    }
   ],
   "source": [
    "fond_kino_2019 = fond_kino.query('year == 2019')   \n",
    "\n",
    "fond_kino_2019_total_support = fond_kino_2019.pivot_table(index = 'year', values = 'total_support', aggfunc = 'sum')\n",
    "\n",
    "print('Общая сумма выделенных Фондом кино средств в 2019 году составило:',\n",
    "      fond_kino_2019_total_support.loc[:,'total_support'])\n",
    "\n",
    "fond_kino_total_support = fond_kino_total_support.append(fond_kino_2019_total_support)\n",
    "\n",
    "print('')\n",
    "\n",
    "fond_kino_max_film_support_2019 = fond_kino_2019[fond_kino_2019['total_support']==fond_kino_2019['total_support'].max()]\n",
    "\n",
    "fond_kino_max_film_support = fond_kino_max_film_support.append(fond_kino_max_film_support_2019)  \n",
    "\n",
    "print('Наиболее спонсируемые фильмы:')\n",
    "\n",
    "print(fond_kino_max_film_support_2019['title'])"
   ]
  },
  {
   "cell_type": "code",
   "execution_count": 85,
   "metadata": {},
   "outputs": [
    {
     "name": "stdout",
     "output_type": "stream",
     "text": [
      "      total_support\n",
      "year               \n",
      "2013   1.078479e+08\n",
      "2014   2.010000e+08\n",
      "2015   2.236049e+09\n",
      "2016   3.084104e+09\n",
      "2017   2.768625e+09\n",
      "2018   2.465969e+09\n",
      "2019   3.315000e+09\n"
     ]
    },
    {
     "data": {
      "text/plain": [
       "<AxesSubplot:xlabel='year'>"
      ]
     },
     "execution_count": 85,
     "metadata": {},
     "output_type": "execute_result"
    },
    {
     "data": {
      "image/png": "[encoded data removed]",
      "text/plain": [
       "<Figure size 432x288 with 1 Axes>"
      ]
     },
     "metadata": {
      "needs_background": "light"
     },
     "output_type": "display_data"
    }
   ],
   "source": [
    "print(fond_kino_total_support)\n",
    "fond_kino_total_support.plot(style='o-')"
   ]
  },
  {
   "cell_type": "markdown",
   "metadata": {},
   "source": [
    "**Вывод:** Можно видеть, что сумма веделенных Фондом Кино денежных средств поддержки имеют тенденцию к увелечению, несмотря на наблюдаемое падение в 2017-2018 гг."
   ]
  },
  {
   "cell_type": "code",
   "execution_count": 86,
   "metadata": {},
   "outputs": [
    {
     "name": "stdout",
     "output_type": "stream",
     "text": [
      "                                  title  ratings  year  total_support\n",
      "1498                          Невидимки      5.3  2013    107847945.0\n",
      "7473                          Вторжение      5.7  2019    500000000.0\n",
      "7463                      Союз спасения      6.0  2019    500000000.0\n",
      "2004  Снежная Королева 2: Перезаморозка      6.5  2014     70000000.0\n",
      "3350                            Дуэлянт      6.6  2016    450000000.0\n",
      "2698                        Он - Дракон      6.8  2015    250000000.0\n",
      "5825                             Тренер      6.8  2018    260000000.0\n",
      "5652                     Движение вверх      7.5  2017    400000000.0\n"
     ]
    }
   ],
   "source": [
    "print(fond_kino_max_film_support[['title','ratings','year','total_support']].sort_values(by = 'ratings'))"
   ]
  },
  {
   "cell_type": "markdown",
   "metadata": {},
   "source": [
    "**Вывод:** Из всех наиболее спонсируемых Фондом кино фильмов по годам только один фильм имеет рейтинг выше 7.0"
   ]
  },
  {
   "cell_type": "markdown",
   "metadata": {},
   "source": [
    "**Изучим сумму выделенных Министерством культуры средств поддержки по каждому году и наиболее спонсируемые фильмы в определённый год (2010-2019 гг.)**"
   ]
  },
  {
   "cell_type": "code",
   "execution_count": 87,
   "metadata": {},
   "outputs": [
    {
     "name": "stdout",
     "output_type": "stream",
     "text": [
      "Данных о выделенных Министерством культуры средств в 2010 году: 0\n"
     ]
    }
   ],
   "source": [
    "ministry_2010 = ministry.query('year == 2010')   \n",
    "\n",
    "ministry_2010_total_support = ministry_2010.pivot_table(index = 'year', values = 'total_support', aggfunc = 'sum')\n",
    "\n",
    "print('Данных о выделенных Министерством культуры средств в 2010 году:',\n",
    "      len(ministry_2010_total_support))"
   ]
  },
  {
   "cell_type": "code",
   "execution_count": 88,
   "metadata": {},
   "outputs": [
    {
     "name": "stdout",
     "output_type": "stream",
     "text": [
      "Данных о выделенных Министерством культуры средств в 2011 году: 0\n"
     ]
    }
   ],
   "source": [
    "ministry_2011 = ministry.query('year == 2011')   \n",
    "\n",
    "ministry_2011_total_support = ministry_2011.pivot_table(index = 'year', values = 'total_support', aggfunc = 'sum')\n",
    "\n",
    "print('Данных о выделенных Министерством культуры средств в 2011 году:',\n",
    "      len(ministry_2011_total_support))"
   ]
  },
  {
   "cell_type": "code",
   "execution_count": 89,
   "metadata": {},
   "outputs": [
    {
     "name": "stdout",
     "output_type": "stream",
     "text": [
      "Данных о выделенных Министерством культуры средств в 2012 году: 0\n"
     ]
    }
   ],
   "source": [
    "ministry_2012 = ministry.query('year == 2012')   \n",
    "\n",
    "ministry_2012_total_support = ministry_2012.pivot_table(index = 'year', values = 'total_support', aggfunc = 'sum')\n",
    "\n",
    "print('Данных о выделенных Министерством культуры средств в 2012 году:',\n",
    "      len(ministry_2012_total_support))"
   ]
  },
  {
   "cell_type": "code",
   "execution_count": 90,
   "metadata": {},
   "outputs": [
    {
     "name": "stdout",
     "output_type": "stream",
     "text": [
      "Общая сумма выделенных Министерством культуры средств в 2013 году составило: year\n",
      "2013    26500000.0\n",
      "Name: total_support, dtype: float64\n",
      "\n",
      "Наиболее спонсируемый фильм:\n",
      "1281    Пока еще жива\n",
      "Name: title, dtype: object\n"
     ]
    }
   ],
   "source": [
    "ministry_2013 = ministry.query('year == 2013')   \n",
    "\n",
    "ministry_2013_total_support = ministry_2013.pivot_table(index = 'year', values = 'total_support', aggfunc = 'sum')\n",
    "\n",
    "print('Общая сумма выделенных Министерством культуры средств в 2013 году составило:',\n",
    "      ministry_2013_total_support.loc[:,'total_support'])\n",
    "\n",
    "ministry_total_support = ministry_total_support.append(ministry_2013_total_support)\n",
    "\n",
    "print('')\n",
    "\n",
    "ministry_max_film_support_2013 = ministry_2013[ministry_2013['total_support']==ministry_2013['total_support'].max()]\n",
    "\n",
    "ministry_max_film_support = ministry_max_film_support.append(ministry_max_film_support_2013)  \n",
    "\n",
    "print('Наиболее спонсируемый фильм:')\n",
    "\n",
    "print(ministry_max_film_support_2013['title'])"
   ]
  },
  {
   "cell_type": "code",
   "execution_count": 91,
   "metadata": {},
   "outputs": [
    {
     "name": "stdout",
     "output_type": "stream",
     "text": [
      "Общая сумма выделенных Фондом кино средств в 2014 году составило: year\n",
      "2014    211500000.0\n",
      "Name: total_support, dtype: float64\n",
      "\n",
      "Наиболее спонсируемые фильмы:\n",
      "1524                 БЕРЦЫ\n",
      "2013    Дедушка моей мечты\n",
      "2379      Ангелы Революции\n",
      "Name: title, dtype: object\n"
     ]
    }
   ],
   "source": [
    "ministry_2014 = ministry.query('year == 2014')   \n",
    "\n",
    "ministry_2014_total_support = ministry_2014.pivot_table(index = 'year', values = 'total_support', aggfunc = 'sum')\n",
    "\n",
    "print('Общая сумма выделенных Фондом кино средств в 2014 году составило:',\n",
    "      ministry_2014_total_support.loc[:,'total_support'])\n",
    "\n",
    "ministry_total_support = ministry_total_support.append(ministry_2014_total_support)\n",
    "\n",
    "print('')\n",
    "\n",
    "ministry_max_film_support_2014 = ministry_2014[ministry_2014['total_support']==ministry_2014['total_support'].max()]\n",
    "\n",
    "ministry_max_film_support = ministry_max_film_support.append(ministry_max_film_support_2014)  \n",
    "\n",
    "print('Наиболее спонсируемые фильмы:')\n",
    "\n",
    "print(ministry_max_film_support_2014['title'])"
   ]
  },
  {
   "cell_type": "code",
   "execution_count": 92,
   "metadata": {},
   "outputs": [
    {
     "name": "stdout",
     "output_type": "stream",
     "text": [
      "Общая сумма выделенных Фондом кино средств в 2015 году составило: year\n",
      "2015    1.100810e+09\n",
      "Name: total_support, dtype: float64\n",
      "\n",
      "Наиболее спонсируемый фильм:\n",
      "2568    Единичка.\n",
      "Name: title, dtype: object\n"
     ]
    }
   ],
   "source": [
    "ministry_2015 = ministry.query('year == 2015')   \n",
    "\n",
    "ministry_2015_total_support = ministry_2015.pivot_table(index = 'year', values = 'total_support', aggfunc = 'sum')\n",
    "\n",
    "print('Общая сумма выделенных Фондом кино средств в 2015 году составило:',\n",
    "      ministry_2015_total_support.loc[:,'total_support'])\n",
    "\n",
    "ministry_total_support = ministry_total_support.append(ministry_2015_total_support)\n",
    "\n",
    "print('')\n",
    "\n",
    "ministry_max_film_support_2015 = ministry_2015[ministry_2015['total_support']==ministry_2015['total_support'].max()]\n",
    "\n",
    "ministry_max_film_support = ministry_max_film_support.append(ministry_max_film_support_2015)  \n",
    "\n",
    "print('Наиболее спонсируемый фильм:')\n",
    "\n",
    "print(ministry_max_film_support_2015['title'])"
   ]
  },
  {
   "cell_type": "code",
   "execution_count": 93,
   "metadata": {},
   "outputs": [
    {
     "name": "stdout",
     "output_type": "stream",
     "text": [
      "Общая сумма выделенных Фондом кино средств в 2016 году составило: year\n",
      "2016    749851000.0\n",
      "Name: total_support, dtype: float64\n",
      "\n",
      "Наиболее спонсируемый фильм:\n",
      "3045    Опасные каникулы\n",
      "Name: title, dtype: object\n"
     ]
    }
   ],
   "source": [
    "ministry_2016 = ministry.query('year == 2016')   \n",
    "\n",
    "ministry_2016_total_support = ministry_2016.pivot_table(index = 'year', values = 'total_support', aggfunc = 'sum')\n",
    "\n",
    "print('Общая сумма выделенных Фондом кино средств в 2016 году составило:',\n",
    "      ministry_2016_total_support.loc[:,'total_support'])\n",
    "\n",
    "ministry_total_support = ministry_total_support.append(ministry_2016_total_support)\n",
    "\n",
    "print('')\n",
    "\n",
    "ministry_max_film_support_2016 = ministry_2016[ministry_2016['total_support']==ministry_2016['total_support'].max()]\n",
    "\n",
    "ministry_max_film_support = ministry_max_film_support.append(ministry_max_film_support_2016)  \n",
    "\n",
    "print('Наиболее спонсируемый фильм:')\n",
    "\n",
    "print(ministry_max_film_support_2016['title'])"
   ]
  },
  {
   "cell_type": "code",
   "execution_count": 94,
   "metadata": {},
   "outputs": [
    {
     "name": "stdout",
     "output_type": "stream",
     "text": [
      "Общая сумма выделенных Фондом кино средств в 2017 году составило: year\n",
      "2017    351000000.0\n",
      "Name: total_support, dtype: float64\n",
      "\n",
      "Наиболее спонсируемый фильм:\n",
      "3708    Спасти Пушкина\n",
      "Name: title, dtype: object\n"
     ]
    }
   ],
   "source": [
    "ministry_2017 = ministry.query('year == 2017')   \n",
    "\n",
    "ministry_2017_total_support = ministry_2017.pivot_table(index = 'year', values = 'total_support', aggfunc = 'sum')\n",
    "\n",
    "print('Общая сумма выделенных Фондом кино средств в 2017 году составило:',\n",
    "      ministry_2017_total_support.loc[:,'total_support'])\n",
    "\n",
    "ministry_total_support = ministry_total_support.append(ministry_2017_total_support)\n",
    "\n",
    "print('')\n",
    "\n",
    "ministry_max_film_support_2017 = ministry_2017[ministry_2017['total_support']==ministry_2017['total_support'].max()]\n",
    "\n",
    "ministry_max_film_support = ministry_max_film_support.append(ministry_max_film_support_2017)  \n",
    "\n",
    "print('Наиболее спонсируемый фильм:')\n",
    "\n",
    "print(ministry_max_film_support_2017['title'])"
   ]
  },
  {
   "cell_type": "code",
   "execution_count": 95,
   "metadata": {},
   "outputs": [
    {
     "name": "stdout",
     "output_type": "stream",
     "text": [
      "Общая сумма выделенных Фондом кино средств в 2018 году составило: year\n",
      "2018    926000000.0\n",
      "Name: total_support, dtype: float64\n",
      "\n",
      "Наиболее спонсируемые фильмы:\n",
      "5803                Танки\n",
      "5807     ДВА БИЛЕТА ДОМОЙ\n",
      "5851    СОБИБОР (SOBIBOR)\n",
      "Name: title, dtype: object\n"
     ]
    }
   ],
   "source": [
    "ministry_2018 = ministry.query('year == 2018')   \n",
    "\n",
    "ministry_2018_total_support = ministry_2018.pivot_table(index = 'year', values = 'total_support', aggfunc = 'sum')\n",
    "\n",
    "print('Общая сумма выделенных Фондом кино средств в 2018 году составило:',\n",
    "      ministry_2018_total_support.loc[:,'total_support'])\n",
    "\n",
    "ministry_total_support = ministry_total_support.append(ministry_2018_total_support)\n",
    "\n",
    "print('')\n",
    "\n",
    "ministry_max_film_support_2018 = ministry_2018[ministry_2018['total_support']==ministry_2018['total_support'].max()]\n",
    "\n",
    "ministry_max_film_support = ministry_max_film_support.append(ministry_max_film_support_2018)  \n",
    "\n",
    "print('Наиболее спонсируемые фильмы:')\n",
    "\n",
    "print(ministry_max_film_support_2018['title'])"
   ]
  },
  {
   "cell_type": "code",
   "execution_count": 96,
   "metadata": {},
   "outputs": [
    {
     "name": "stdout",
     "output_type": "stream",
     "text": [
      "Общая сумма выделенных Фондом кино средств в 2019 году составило: year\n",
      "2019    1.471000e+09\n",
      "Name: total_support, dtype: float64\n",
      "\n",
      "Наиболее спонсируемый фильм:\n",
      "6988    Одесса\n",
      "Name: title, dtype: object\n"
     ]
    }
   ],
   "source": [
    "ministry_2019 = ministry.query('year == 2019')   \n",
    "\n",
    "ministry_2019_total_support = ministry_2019.pivot_table(index = 'year', values = 'total_support', aggfunc = 'sum')\n",
    "\n",
    "print('Общая сумма выделенных Фондом кино средств в 2019 году составило:',\n",
    "      ministry_2019_total_support.loc[:,'total_support'])\n",
    "\n",
    "ministry_total_support = ministry_total_support.append(ministry_2019_total_support)\n",
    "\n",
    "print('')\n",
    "\n",
    "ministry_max_film_support_2019 = ministry_2019[ministry_2019['total_support']==ministry_2019['total_support'].max()]\n",
    "\n",
    "ministry_max_film_support = ministry_max_film_support.append(ministry_max_film_support_2019)  \n",
    "\n",
    "print('Наиболее спонсируемый фильм:')\n",
    "\n",
    "print(ministry_max_film_support_2019['title'])"
   ]
  },
  {
   "cell_type": "code",
   "execution_count": 97,
   "metadata": {},
   "outputs": [
    {
     "name": "stdout",
     "output_type": "stream",
     "text": [
      "      total_support\n",
      "year               \n",
      "2013   2.650000e+07\n",
      "2014   2.115000e+08\n",
      "2015   1.100810e+09\n",
      "2016   7.498510e+08\n",
      "2017   3.510000e+08\n",
      "2018   9.260000e+08\n",
      "2019   1.471000e+09\n"
     ]
    },
    {
     "data": {
      "text/plain": [
       "<AxesSubplot:xlabel='year'>"
      ]
     },
     "execution_count": 97,
     "metadata": {},
     "output_type": "execute_result"
    },
    {
     "data": {
      "image/png": "[encoded data removed]",
      "text/plain": [
       "<Figure size 432x288 with 1 Axes>"
      ]
     },
     "metadata": {
      "needs_background": "light"
     },
     "output_type": "display_data"
    }
   ],
   "source": [
    "print(ministry_total_support)\n",
    "ministry_total_support.plot(style='o-')"
   ]
  },
  {
   "cell_type": "markdown",
   "metadata": {},
   "source": [
    "**Вывод:** Можно видеть, что сумма веделенных Министерством культуры денежных средств поддержки имеют тенденцию к увелечению, несмотря на наблюдаемое падение в 2016-2017 гг."
   ]
  },
  {
   "cell_type": "code",
   "execution_count": 98,
   "metadata": {},
   "outputs": [
    {
     "name": "stdout",
     "output_type": "stream",
     "text": [
      "                   title  ratings  year  total_support\n",
      "3708      Спасти Пушкина      2.9  2017     40000000.0\n",
      "1524               БЕРЦЫ      4.2  2014     28000000.0\n",
      "3045    Опасные каникулы      4.8  2016     40000000.0\n",
      "2013  Дедушка моей мечты      5.7  2014     28000000.0\n",
      "5803               Танки      5.7  2018     60000000.0\n",
      "2379    Ангелы Революции      6.4  2014     28000000.0\n",
      "5851   СОБИБОР (SOBIBOR)      6.4  2018     60000000.0\n",
      "6988              Одесса      6.4  2019     70000000.0\n",
      "5807    ДВА БИЛЕТА ДОМОЙ      6.5  2018     60000000.0\n",
      "2568           Единичка.      6.7  2015     50000000.0\n",
      "1281       Пока еще жива      8.1  2013     26500000.0\n"
     ]
    }
   ],
   "source": [
    "print(ministry_max_film_support[['title','ratings','year','total_support']].sort_values(by = 'ratings'))"
   ]
  },
  {
   "cell_type": "markdown",
   "metadata": {},
   "source": [
    "**Вывод:** Из всех наиболее спонсируемых Министерством культуры фильмов по годам только один фильм имеет рейтинг выше 7.0"
   ]
  },
  {
   "cell_type": "markdown",
   "metadata": {},
   "source": [
    "**Совместное финансирование фильмов Фондом кино и Министерством культуры**"
   ]
  },
  {
   "cell_type": "code",
   "execution_count": 99,
   "metadata": {},
   "outputs": [
    {
     "name": "stdout",
     "output_type": "stream",
     "text": [
      "Совместно спонсируемых Министерством культуры и Фондом кино фильмов: 22\n"
     ]
    }
   ],
   "source": [
    "ministry_fond_kino = data.query('financing_source == \"Министерство культуры, Фонд кино\"')\n",
    "print(f'Совместно спонсируемых Министерством культуры и Фондом кино фильмов:', len(ministry_fond_kino))\n"
   ]
  },
  {
   "cell_type": "code",
   "execution_count": 100,
   "metadata": {},
   "outputs": [
    {
     "name": "stdout",
     "output_type": "stream",
     "text": [
      "Объём возвратных средств поддержки: 325500000.0\n",
      "Объём невозвратных средств поддержки: 859931354.0\n",
      "Объём всех выделенных средств поддержки: 1185431354.0\n",
      "Доля невозвратных средств: 0.73\n"
     ]
    }
   ],
   "source": [
    "print(f'Объём возвратных средств поддержки:', ministry_fond_kino['refundable_support'].sum())\n",
    "\n",
    "print(f'Объём невозвратных средств поддержки:', ministry_fond_kino['nonrefundable_support'].sum())      \n",
    "      \n",
    "print(f'Объём всех выделенных средств поддержки:',ministry_fond_kino['total_support'].sum())\n",
    "\n",
    "print(f'Доля невозвратных средств:', round((ministry_fond_kino['nonrefundable_support'].sum())/(ministry_fond_kino['total_support'].sum()),2))"
   ]
  },
  {
   "cell_type": "code",
   "execution_count": 101,
   "metadata": {},
   "outputs": [
    {
     "name": "stdout",
     "output_type": "stream",
     "text": [
      "               total_support   ratings\n",
      "total_support       1.000000  0.030646\n",
      "ratings             0.030646  1.000000\n"
     ]
    }
   ],
   "source": [
    "corr_rating_support_ministry_fond_kino = ministry_fond_kino[['total_support', 'ratings']]\n",
    "print(corr_rating_support_ministry_fond_kino.corr())"
   ]
  },
  {
   "cell_type": "markdown",
   "metadata": {},
   "source": [
    "**Вывод:** Слабая положительная корреляция между объёмом выделяемых денежных средств поддержки и рейтингом фильмов."
   ]
  },
  {
   "cell_type": "code",
   "execution_count": 102,
   "metadata": {
    "scrolled": true
   },
   "outputs": [
    {
     "name": "stdout",
     "output_type": "stream",
     "text": [
      "               total_support  box_office\n",
      "total_support       1.000000    0.201703\n",
      "box_office          0.201703    1.000000\n"
     ]
    }
   ],
   "source": [
    "corr_rating_support_ministry_fond_kino = ministry_fond_kino[['total_support', 'box_office']]\n",
    "print(corr_rating_support_ministry_fond_kino.corr())"
   ]
  },
  {
   "cell_type": "markdown",
   "metadata": {},
   "source": [
    "**Вывод:** Слабая положительная корреляция между объёмом выделяемых денежных средств поддержки и сборами в прокате."
   ]
  },
  {
   "cell_type": "markdown",
   "metadata": {
    "id": "V2gYwMcPgFyd"
   },
   "source": [
    "### Шаг 5. Напишите общий вывод"
   ]
  },
  {
   "cell_type": "markdown",
   "metadata": {},
   "source": [
    "Было проведёно исследование данных, опубликованных на портале открытых данных Министерства культуры РФ.\n",
    "\n",
    "На ***первом этапе исследования*** были проанализированы первоначальные, необработанные данные и объединены в один общий датафрейм. \n",
    "\n",
    "\n",
    "На ***втором этапе исследования*** была проведена предобработка данных. Проведена предобработка данных, в ходе которой были изменены типы данных в столбцах **'show_start_date'** (datetime) и **'ratings'** (float). \n",
    "\n",
    "Изучены пропуски в датафрейме, но заполнение пропусками в данном массиве данных представляется затруднительным и не особо имеющим смысл, т.к. большинство данных составляют категориальные значения. На аналитическую часть исследования существующие пропуски не повлияли.\n",
    "\n",
    "При проверке на дубликаты явных дубликатов-строк не было обнаружно. Обнаруженны дубликаты в названии фильмов и номерах прокатного удостоверения не имеют аномальную природу и обсуловлены, скорее всего, человеческим фактором.\n",
    "\n",
    "При изучении категориальных значений были исправлены проблемные значения в **'type'**, **'age_restriction'** и была выделена общая проблема, заключающаяся в конкретных значениях и большом количестве таких значений для отдельной характеристики объекта данных. Большинство фильмов сняты в условиях совместного производства разными странами, студиями, режиссёрами, продюссерами. Также фильмы могут иметь разные значения жанров и других характеристик, что, в сокупности всех этих элементов, значительно затрудняет их категоризацию, при условии необходимости её проведения.\n",
    "\n",
    "При необходимости проведения масштабного исследования с изучением зависмостей между определёнными категориями фильмов, могло потребоваться создание различных функций для категоризации таких данных. Например, для выделения фильмов по студии-производителю, придётся учитывать фильмы не только снятые студией-производителем самостоятельно, но и при совместном участии с другими студиями. В данном исследовании такая категоризация не потребовалась. \n",
    "\n",
    "При проверке количественных значений не было обнаружено подозрительных данных, т.к. в контексте изучения показателей кинофильмов и их кассовых сборов, выделяющиеся из общей выборки значения свидетельствуют о разной степени финансирования и разном уровне успешности фильмов на российском рынке. Следовательно, такие данные не представляют собой аномалии и не требовали удаления.\n",
    "\n",
    "На ***третьем этапе исследования*** было проведено улучшение данных и добавлены новые столбцы. На основе ранее обработанных данных посчитаны значения и добавлены следующие столбцы: столбцы с информацией о годе проката, именем и фамилией главного режиссёра, основным жанром фильма и долей государственной поддержки от общего бюджета фильма\n",
    "\n",
    "На ***четвёртом этапе исследования*** был проведён исследовательский анализ обработанных данных. \n",
    "\n",
    "При изучении параметров зарегестрированных и выпущенных в прокат фильмов (2010-2019 гг.) выявлены и определены следующие ****особенности и тренды рынка российского кинопроката****:\n",
    "\n",
    "- **2017** год оказался наименее продуктивным по числу фильмов в прокате. C **2011** года, после пика количества вышедших в прокат фильмов в **2010** году, наблюдается тенденция по увелечению числа фильмов в прокате.\n",
    "- C каждым годом, несмотря на небольшое снижение в **2018-2019гг.**, доля фильмов с указанной информацией о сборах в кинотетарах увеличивается.\n",
    "- В **2010** году сумма сборов была минимальной. В **2018** году сумма сборов была максимальной. Наблюдается общая тенденция увелечения суммы сборов.\n",
    "- Фильмы с ограничением **12+** и **16+**, расчитанные на массовую аудиторию, собирают больше всего денег в прокате. В то же время фильмы с ограничением **18+** и, особенно, **0+**, расчитанные на более конкретную аудиторию, набирают значительно меньше.\n",
    "\n",
    "****Особенности государственной поддержки российского кинематографа**** \n",
    "\n",
    "*Фонд кино:*\n",
    "- Процент невозвратных средств Фонда Кино за период **2010-2019 гг.** составляет **75%**.\n",
    "- Слабая положительная корреляция между объёмом выделяемых Фондом Кино денежных средств поддержки и рейтингом фильмов (**corr: 0.25**).\n",
    "- Умеренная положительная корреляция между объёмом выделяемых Фондом Кино денежных средств поддержки и сборами в прокате (**corr: 0.42**).\n",
    "- С **2013** года сумма веделенных Фондом Кино денежных средств поддержки имеют тенденцию к увелечению, несмотря на наблюдаемое падение в **2017-2018 гг**.\n",
    "- Из всех наиболее спонсируемых Фондом кино фильмов по годам только один фильм (**'Движение вверх'**) имеет рейтинг выше **7.0**.\n",
    "\n",
    "*Министерство культуры:*\n",
    "- Министерство культуры выделяет средства только на безвозмедной основе.\n",
    "- Отсутствуе корреляции между объёмом выделяемых Министерством культуры денежных средств поддержки и рейтингом фильмов (**corr: -0.009**).\n",
    "- Слабая положительная корреляция между объёмом выделяемых Министерством денежных средств поддержки и сборами в прокате (**corr: 0.21**).\n",
    "- C **2013** года сумма веделенных Министерством культуры денежных средств поддержки имеют тенденцию к увелечению, несмотря на наблюдаемое падение в **2016-2017 гг.**\n",
    "- Из всех наиболее спонсируемых Министерством культуры фильмов по годам только один фильм (**'Пока еще жива'**) имеет рейтинг выше **7.0**.\n",
    "\n",
    "*Совместное финансирование фильмов Фондом кино и Министерством культуры*\n",
    "- По такой схеме проспонсировано только **22 фильма**.\n",
    "- Процент невозвратных средств при таком финансировании за период **2010-2019 гг.** составляет **73%**.\n",
    "- Отсутствует корреляция между объёмом выделяемых денежных средств поддержки и рейтингом фильмов.\n",
    "- Слабая положительная корреляция между объёмом выделяемых денежных средств поддержки и сборами в прокате.\n",
    "\n",
    "**Основной вывод**: Были изучены особенности и тренды развития рынка российского кинопроката. Рынок активно развивается, и наблюдается соразмерное развитие российского кинопроизводства и выделяемых на него средств государственной поддержки со стороны двух основных государственных структур: **Фонд кино** и **Миниситерство культуры РФ**. Несмотря на увеличение финансирования и направляемых денежных средств на создание отдельных кинолент обнаруживается проблема их низкой отдачи и эффективности. Увеличенное финансирование не отображается в улучшении качества фильмов, отношении российского зрителя к ним и увелечении денежных сборов от них. Результаты исследования свидетельствуют о необходимости предпринятия мер по повышению эффективности и улучшения текущего контроля за расходованием выделяемых средств. В качестве одной из мер можно предложить, опираясь на представленные в открытом доступе данные, создать **сводный рейтинг студий-производителей**, на основе которого будет определяться, стоит ли выделять им государственные средства поддержки или нет."
   ]
  }
 ],
 "metadata": {
  "ExecuteTimeLog": [
   {
    "duration": 537,
    "start_time": "2021-07-07T10:12:08.634Z"
   },
   {
    "duration": 206,
    "start_time": "2021-07-07T10:12:30.191Z"
   },
   {
    "duration": 227,
    "start_time": "2021-07-07T10:12:33.078Z"
   },
   {
    "duration": 153,
    "start_time": "2021-07-07T10:13:42.146Z"
   },
   {
    "duration": 233,
    "start_time": "2021-07-07T10:30:09.252Z"
   },
   {
    "duration": 19,
    "start_time": "2021-07-07T10:30:15.577Z"
   },
   {
    "duration": 18,
    "start_time": "2021-07-07T10:30:57.348Z"
   },
   {
    "duration": 19,
    "start_time": "2021-07-07T10:31:17.452Z"
   },
   {
    "duration": 21,
    "start_time": "2021-07-07T10:31:32.227Z"
   },
   {
    "duration": 27,
    "start_time": "2021-07-07T10:32:06.588Z"
   },
   {
    "duration": 23,
    "start_time": "2021-07-07T10:32:43.645Z"
   },
   {
    "duration": 24,
    "start_time": "2021-07-07T10:33:06.948Z"
   },
   {
    "duration": 7,
    "start_time": "2021-07-07T10:33:28.558Z"
   },
   {
    "duration": 23,
    "start_time": "2021-07-07T10:33:43.761Z"
   },
   {
    "duration": 28,
    "start_time": "2021-07-07T10:34:13.466Z"
   },
   {
    "duration": 23,
    "start_time": "2021-07-07T10:35:56.187Z"
   },
   {
    "duration": 6,
    "start_time": "2021-07-07T10:36:48.182Z"
   },
   {
    "duration": 14,
    "start_time": "2021-07-07T10:37:49.641Z"
   },
   {
    "duration": 6,
    "start_time": "2021-07-07T10:38:06.694Z"
   },
   {
    "duration": 6,
    "start_time": "2021-07-07T10:38:13.493Z"
   },
   {
    "duration": 19,
    "start_time": "2021-07-07T10:38:44.056Z"
   },
   {
    "duration": 186,
    "start_time": "2021-07-07T10:48:35.618Z"
   },
   {
    "duration": 24,
    "start_time": "2021-07-07T10:48:51.498Z"
   },
   {
    "duration": 20,
    "start_time": "2021-07-07T10:48:59.415Z"
   },
   {
    "duration": 20,
    "start_time": "2021-07-07T10:53:02.195Z"
   },
   {
    "duration": 188,
    "start_time": "2021-07-07T10:54:40.486Z"
   },
   {
    "duration": 115,
    "start_time": "2021-07-07T10:54:52.552Z"
   },
   {
    "duration": 214,
    "start_time": "2021-07-07T10:54:56.354Z"
   },
   {
    "duration": 47,
    "start_time": "2021-07-07T10:54:58.282Z"
   },
   {
    "duration": 217,
    "start_time": "2021-07-07T10:59:16.075Z"
   },
   {
    "duration": 51,
    "start_time": "2021-07-07T10:59:16.243Z"
   },
   {
    "duration": 578,
    "start_time": "2021-07-07T10:59:18.774Z"
   },
   {
    "duration": 161,
    "start_time": "2021-07-07T10:59:21.238Z"
   },
   {
    "duration": 59,
    "start_time": "2021-07-07T10:59:21.453Z"
   },
   {
    "duration": 3,
    "start_time": "2021-07-07T11:02:10.786Z"
   },
   {
    "duration": 13,
    "start_time": "2021-07-07T11:07:07.722Z"
   },
   {
    "duration": 26,
    "start_time": "2021-07-07T11:07:17.958Z"
   },
   {
    "duration": 22,
    "start_time": "2021-07-07T11:08:17.939Z"
   },
   {
    "duration": 212,
    "start_time": "2021-07-07T11:08:19.665Z"
   },
   {
    "duration": 21,
    "start_time": "2021-07-07T11:08:29.945Z"
   },
   {
    "duration": 31,
    "start_time": "2021-07-07T11:08:38.899Z"
   },
   {
    "duration": 23,
    "start_time": "2021-07-07T11:08:54.527Z"
   },
   {
    "duration": 8,
    "start_time": "2021-07-07T11:18:55.974Z"
   },
   {
    "duration": 7,
    "start_time": "2021-07-07T11:19:03.639Z"
   },
   {
    "duration": 7,
    "start_time": "2021-07-07T11:19:06.444Z"
   },
   {
    "duration": 578,
    "start_time": "2021-07-07T12:09:59.576Z"
   },
   {
    "duration": 195,
    "start_time": "2021-07-07T12:10:00.156Z"
   },
   {
    "duration": 115,
    "start_time": "2021-07-07T12:10:00.353Z"
   },
   {
    "duration": 3,
    "start_time": "2021-07-07T12:10:00.470Z"
   },
   {
    "duration": 32,
    "start_time": "2021-07-07T12:10:00.474Z"
   },
   {
    "duration": 23,
    "start_time": "2021-07-07T12:10:00.508Z"
   },
   {
    "duration": 19,
    "start_time": "2021-07-07T12:10:00.533Z"
   },
   {
    "duration": 44,
    "start_time": "2021-07-07T12:10:00.553Z"
   },
   {
    "duration": 7,
    "start_time": "2021-07-07T12:10:00.600Z"
   },
   {
    "duration": 7,
    "start_time": "2021-07-07T12:19:45.761Z"
   },
   {
    "duration": 21,
    "start_time": "2021-07-07T12:21:35.482Z"
   },
   {
    "duration": 21,
    "start_time": "2021-07-07T12:29:23.569Z"
   },
   {
    "duration": 525,
    "start_time": "2021-07-07T12:29:44.542Z"
   },
   {
    "duration": 214,
    "start_time": "2021-07-07T12:29:45.069Z"
   },
   {
    "duration": 92,
    "start_time": "2021-07-07T12:29:45.285Z"
   },
   {
    "duration": 3,
    "start_time": "2021-07-07T12:29:45.379Z"
   },
   {
    "duration": 28,
    "start_time": "2021-07-07T12:29:45.384Z"
   },
   {
    "duration": 23,
    "start_time": "2021-07-07T12:29:45.413Z"
   },
   {
    "duration": 21,
    "start_time": "2021-07-07T12:29:45.437Z"
   },
   {
    "duration": 41,
    "start_time": "2021-07-07T12:29:45.460Z"
   },
   {
    "duration": 7,
    "start_time": "2021-07-07T12:29:45.502Z"
   },
   {
    "duration": 20,
    "start_time": "2021-07-07T12:29:45.511Z"
   },
   {
    "duration": 12,
    "start_time": "2021-07-07T12:34:02.800Z"
   },
   {
    "duration": 7,
    "start_time": "2021-07-07T12:35:10.479Z"
   },
   {
    "duration": 8,
    "start_time": "2021-07-07T12:35:22.440Z"
   },
   {
    "duration": 6,
    "start_time": "2021-07-07T12:35:35.649Z"
   },
   {
    "duration": 6,
    "start_time": "2021-07-07T12:35:43.107Z"
   },
   {
    "duration": 22,
    "start_time": "2021-07-07T12:38:03.029Z"
   },
   {
    "duration": 10,
    "start_time": "2021-07-07T12:38:06.592Z"
   },
   {
    "duration": 563,
    "start_time": "2021-07-07T12:38:46.493Z"
   },
   {
    "duration": 265,
    "start_time": "2021-07-07T12:38:47.058Z"
   },
   {
    "duration": 94,
    "start_time": "2021-07-07T12:38:47.325Z"
   },
   {
    "duration": 3,
    "start_time": "2021-07-07T12:38:47.422Z"
   },
   {
    "duration": 30,
    "start_time": "2021-07-07T12:38:47.427Z"
   },
   {
    "duration": 16,
    "start_time": "2021-07-07T12:38:53.305Z"
   },
   {
    "duration": 10,
    "start_time": "2021-07-07T12:38:53.499Z"
   },
   {
    "duration": 8,
    "start_time": "2021-07-07T12:39:48.161Z"
   },
   {
    "duration": 27,
    "start_time": "2021-07-07T12:41:17.629Z"
   },
   {
    "duration": 17,
    "start_time": "2021-07-07T12:41:17.867Z"
   },
   {
    "duration": 21,
    "start_time": "2021-07-07T12:41:19.310Z"
   },
   {
    "duration": 7,
    "start_time": "2021-07-07T12:41:19.544Z"
   },
   {
    "duration": 20,
    "start_time": "2021-07-07T12:41:20.504Z"
   },
   {
    "duration": 554,
    "start_time": "2021-07-07T12:56:23.696Z"
   },
   {
    "duration": 200,
    "start_time": "2021-07-07T12:56:25.234Z"
   },
   {
    "duration": 119,
    "start_time": "2021-07-07T12:56:25.480Z"
   },
   {
    "duration": 4,
    "start_time": "2021-07-07T12:56:25.762Z"
   },
   {
    "duration": 26,
    "start_time": "2021-07-07T12:56:27.172Z"
   },
   {
    "duration": 12,
    "start_time": "2021-07-07T12:56:29.051Z"
   },
   {
    "duration": 10,
    "start_time": "2021-07-07T12:56:29.291Z"
   },
   {
    "duration": 8,
    "start_time": "2021-07-07T12:56:29.623Z"
   },
   {
    "duration": 28,
    "start_time": "2021-07-07T12:56:32.137Z"
   },
   {
    "duration": 19,
    "start_time": "2021-07-07T12:56:39.785Z"
   },
   {
    "duration": 20,
    "start_time": "2021-07-07T12:56:44.297Z"
   },
   {
    "duration": 7,
    "start_time": "2021-07-07T12:56:45.392Z"
   },
   {
    "duration": 23,
    "start_time": "2021-07-07T12:56:46.615Z"
   },
   {
    "duration": 4,
    "start_time": "2021-07-07T12:57:06.625Z"
   },
   {
    "duration": 32,
    "start_time": "2021-07-07T12:57:36.690Z"
   },
   {
    "duration": 18,
    "start_time": "2021-07-07T12:58:00.149Z"
   },
   {
    "duration": 15,
    "start_time": "2021-07-07T12:59:16.793Z"
   },
   {
    "duration": 7,
    "start_time": "2021-07-07T13:19:22.624Z"
   },
   {
    "duration": 6,
    "start_time": "2021-07-07T14:17:33.527Z"
   },
   {
    "duration": 9,
    "start_time": "2021-07-07T14:17:48.409Z"
   },
   {
    "duration": 8,
    "start_time": "2021-07-07T14:20:13.060Z"
   },
   {
    "duration": 8,
    "start_time": "2021-07-07T14:20:37.957Z"
   },
   {
    "duration": 8,
    "start_time": "2021-07-07T14:20:47.470Z"
   },
   {
    "duration": 9,
    "start_time": "2021-07-07T14:20:54.503Z"
   },
   {
    "duration": 10,
    "start_time": "2021-07-07T14:28:57.763Z"
   },
   {
    "duration": 3,
    "start_time": "2021-07-07T14:30:23.377Z"
   },
   {
    "duration": 3,
    "start_time": "2021-07-07T14:30:36.489Z"
   },
   {
    "duration": 103,
    "start_time": "2021-07-07T14:30:52.351Z"
   },
   {
    "duration": 8,
    "start_time": "2021-07-07T14:30:54.763Z"
   },
   {
    "duration": 8,
    "start_time": "2021-07-07T14:31:29.301Z"
   },
   {
    "duration": 13,
    "start_time": "2021-07-07T14:31:44.516Z"
   },
   {
    "duration": 7,
    "start_time": "2021-07-07T14:33:10.972Z"
   },
   {
    "duration": 11,
    "start_time": "2021-07-07T14:33:27.780Z"
   },
   {
    "duration": 8,
    "start_time": "2021-07-07T14:34:44.588Z"
   },
   {
    "duration": 57,
    "start_time": "2021-07-07T14:35:59.042Z"
   },
   {
    "duration": 3,
    "start_time": "2021-07-07T14:36:28.168Z"
   },
   {
    "duration": 5,
    "start_time": "2021-07-07T14:36:46.254Z"
   },
   {
    "duration": 4,
    "start_time": "2021-07-07T14:36:52.714Z"
   },
   {
    "duration": 3,
    "start_time": "2021-07-07T14:36:56.612Z"
   },
   {
    "duration": 4,
    "start_time": "2021-07-07T14:36:57.049Z"
   },
   {
    "duration": 3,
    "start_time": "2021-07-07T14:39:21.214Z"
   },
   {
    "duration": 7,
    "start_time": "2021-07-07T14:39:52.406Z"
   },
   {
    "duration": 11,
    "start_time": "2021-07-07T14:39:58.576Z"
   },
   {
    "duration": 9,
    "start_time": "2021-07-07T14:40:26.301Z"
   },
   {
    "duration": 10,
    "start_time": "2021-07-07T14:40:31.704Z"
   },
   {
    "duration": 11,
    "start_time": "2021-07-07T14:40:36.249Z"
   },
   {
    "duration": 10,
    "start_time": "2021-07-07T14:40:39.783Z"
   },
   {
    "duration": 9,
    "start_time": "2021-07-07T14:40:48.558Z"
   },
   {
    "duration": 10,
    "start_time": "2021-07-07T14:40:57.143Z"
   },
   {
    "duration": 9,
    "start_time": "2021-07-07T14:41:06.074Z"
   },
   {
    "duration": 4324,
    "start_time": "2021-07-07T14:41:22.004Z"
   },
   {
    "duration": 11,
    "start_time": "2021-07-07T14:41:33.392Z"
   },
   {
    "duration": 9,
    "start_time": "2021-07-07T14:41:39.288Z"
   },
   {
    "duration": 569,
    "start_time": "2021-07-07T14:42:14.387Z"
   },
   {
    "duration": 197,
    "start_time": "2021-07-07T14:42:14.959Z"
   },
   {
    "duration": 84,
    "start_time": "2021-07-07T14:42:16.052Z"
   },
   {
    "duration": 4,
    "start_time": "2021-07-07T14:42:16.900Z"
   },
   {
    "duration": 27,
    "start_time": "2021-07-07T14:42:19.898Z"
   },
   {
    "duration": 12,
    "start_time": "2021-07-07T14:42:21.577Z"
   },
   {
    "duration": 9,
    "start_time": "2021-07-07T14:42:21.813Z"
   },
   {
    "duration": 9,
    "start_time": "2021-07-07T14:42:22.569Z"
   },
   {
    "duration": 29,
    "start_time": "2021-07-07T14:42:25.837Z"
   },
   {
    "duration": 20,
    "start_time": "2021-07-07T14:42:27.003Z"
   },
   {
    "duration": 21,
    "start_time": "2021-07-07T14:42:28.767Z"
   },
   {
    "duration": 7,
    "start_time": "2021-07-07T14:42:29.838Z"
   },
   {
    "duration": 4,
    "start_time": "2021-07-07T14:43:25.493Z"
   },
   {
    "duration": 7,
    "start_time": "2021-07-07T14:43:26.573Z"
   },
   {
    "duration": 10,
    "start_time": "2021-07-07T14:43:31.639Z"
   },
   {
    "duration": 9,
    "start_time": "2021-07-07T14:43:32.046Z"
   },
   {
    "duration": 10,
    "start_time": "2021-07-07T14:43:33.301Z"
   },
   {
    "duration": 12,
    "start_time": "2021-07-07T14:43:33.658Z"
   },
   {
    "duration": 8,
    "start_time": "2021-07-07T14:43:34.552Z"
   },
   {
    "duration": 9,
    "start_time": "2021-07-07T14:43:35.058Z"
   },
   {
    "duration": 12,
    "start_time": "2021-07-07T14:43:35.914Z"
   },
   {
    "duration": 17,
    "start_time": "2021-07-07T14:45:34.368Z"
   },
   {
    "duration": 512,
    "start_time": "2021-07-07T14:51:58.236Z"
   },
   {
    "duration": 223,
    "start_time": "2021-07-07T14:51:58.750Z"
   },
   {
    "duration": 93,
    "start_time": "2021-07-07T14:51:58.977Z"
   },
   {
    "duration": 4,
    "start_time": "2021-07-07T14:51:59.071Z"
   },
   {
    "duration": 37,
    "start_time": "2021-07-07T14:51:59.077Z"
   },
   {
    "duration": 18,
    "start_time": "2021-07-07T14:51:59.116Z"
   },
   {
    "duration": 10,
    "start_time": "2021-07-07T14:51:59.137Z"
   },
   {
    "duration": 8,
    "start_time": "2021-07-07T14:51:59.149Z"
   },
   {
    "duration": 54,
    "start_time": "2021-07-07T14:51:59.158Z"
   },
   {
    "duration": 18,
    "start_time": "2021-07-07T14:51:59.213Z"
   },
   {
    "duration": 22,
    "start_time": "2021-07-07T14:51:59.232Z"
   },
   {
    "duration": 36,
    "start_time": "2021-07-07T14:51:59.255Z"
   },
   {
    "duration": 7,
    "start_time": "2021-07-07T14:51:59.293Z"
   },
   {
    "duration": 10,
    "start_time": "2021-07-07T14:51:59.302Z"
   },
   {
    "duration": 9,
    "start_time": "2021-07-07T14:51:59.313Z"
   },
   {
    "duration": 11,
    "start_time": "2021-07-07T14:51:59.324Z"
   },
   {
    "duration": 8,
    "start_time": "2021-07-07T14:51:59.337Z"
   },
   {
    "duration": 46,
    "start_time": "2021-07-07T14:51:59.347Z"
   },
   {
    "duration": 22,
    "start_time": "2021-07-07T14:51:59.395Z"
   },
   {
    "duration": 24,
    "start_time": "2021-07-07T14:57:32.911Z"
   },
   {
    "duration": 7,
    "start_time": "2021-07-07T14:58:22.070Z"
   },
   {
    "duration": 4,
    "start_time": "2021-07-07T14:59:11.239Z"
   },
   {
    "duration": 25,
    "start_time": "2021-07-07T15:07:22.208Z"
   },
   {
    "duration": 16,
    "start_time": "2021-07-07T15:08:25.560Z"
   },
   {
    "duration": 15,
    "start_time": "2021-07-07T15:08:40.647Z"
   },
   {
    "duration": 14,
    "start_time": "2021-07-07T15:08:46.669Z"
   },
   {
    "duration": 533,
    "start_time": "2021-07-07T15:18:07.440Z"
   },
   {
    "duration": 173,
    "start_time": "2021-07-07T15:18:07.974Z"
   },
   {
    "duration": 84,
    "start_time": "2021-07-07T15:18:08.149Z"
   },
   {
    "duration": 3,
    "start_time": "2021-07-07T15:18:08.235Z"
   },
   {
    "duration": 30,
    "start_time": "2021-07-07T15:18:08.240Z"
   },
   {
    "duration": 22,
    "start_time": "2021-07-07T15:18:08.272Z"
   },
   {
    "duration": 11,
    "start_time": "2021-07-07T15:18:08.295Z"
   },
   {
    "duration": 11,
    "start_time": "2021-07-07T15:18:08.309Z"
   },
   {
    "duration": 40,
    "start_time": "2021-07-07T15:18:08.322Z"
   },
   {
    "duration": 42,
    "start_time": "2021-07-07T15:18:08.364Z"
   },
   {
    "duration": 22,
    "start_time": "2021-07-07T15:18:08.408Z"
   },
   {
    "duration": 5,
    "start_time": "2021-07-07T15:18:08.432Z"
   },
   {
    "duration": 13,
    "start_time": "2021-07-07T15:18:08.439Z"
   },
   {
    "duration": 9,
    "start_time": "2021-07-07T15:18:08.454Z"
   },
   {
    "duration": 32,
    "start_time": "2021-07-07T15:18:08.465Z"
   },
   {
    "duration": 10,
    "start_time": "2021-07-07T15:18:08.501Z"
   },
   {
    "duration": 7,
    "start_time": "2021-07-07T15:18:08.513Z"
   },
   {
    "duration": 11,
    "start_time": "2021-07-07T15:18:08.521Z"
   },
   {
    "duration": 17,
    "start_time": "2021-07-07T15:18:08.534Z"
   },
   {
    "duration": 44,
    "start_time": "2021-07-07T15:18:08.553Z"
   },
   {
    "duration": 22,
    "start_time": "2021-07-07T15:18:08.599Z"
   },
   {
    "duration": 61,
    "start_time": "2021-07-07T15:18:08.622Z"
   },
   {
    "duration": 7,
    "start_time": "2021-07-07T15:18:39.457Z"
   },
   {
    "duration": 5,
    "start_time": "2021-07-07T16:05:17.020Z"
   },
   {
    "duration": 5,
    "start_time": "2021-07-07T16:51:28.794Z"
   },
   {
    "duration": 546,
    "start_time": "2021-07-07T16:52:26.306Z"
   },
   {
    "duration": 203,
    "start_time": "2021-07-07T16:52:27.523Z"
   },
   {
    "duration": 85,
    "start_time": "2021-07-07T16:52:27.736Z"
   },
   {
    "duration": 4,
    "start_time": "2021-07-07T16:52:27.899Z"
   },
   {
    "duration": 25,
    "start_time": "2021-07-07T16:52:28.674Z"
   },
   {
    "duration": 8,
    "start_time": "2021-07-07T16:52:32.956Z"
   },
   {
    "duration": 18,
    "start_time": "2021-07-07T16:52:35.616Z"
   },
   {
    "duration": 6,
    "start_time": "2021-07-07T16:52:36.913Z"
   },
   {
    "duration": 11,
    "start_time": "2021-07-07T16:52:40.258Z"
   },
   {
    "duration": 10,
    "start_time": "2021-07-07T16:52:46.251Z"
   },
   {
    "duration": 8,
    "start_time": "2021-07-07T16:52:47.182Z"
   },
   {
    "duration": 27,
    "start_time": "2021-07-07T16:53:20.391Z"
   },
   {
    "duration": 20,
    "start_time": "2021-07-07T16:53:22.022Z"
   },
   {
    "duration": 23,
    "start_time": "2021-07-07T16:53:23.690Z"
   },
   {
    "duration": 8,
    "start_time": "2021-07-07T16:53:24.261Z"
   },
   {
    "duration": 4,
    "start_time": "2021-07-07T16:53:38.733Z"
   },
   {
    "duration": 7,
    "start_time": "2021-07-07T16:53:40.445Z"
   },
   {
    "duration": 11,
    "start_time": "2021-07-07T16:53:41.348Z"
   },
   {
    "duration": 13,
    "start_time": "2021-07-07T16:53:45.250Z"
   },
   {
    "duration": 12,
    "start_time": "2021-07-07T16:53:45.467Z"
   },
   {
    "duration": 4,
    "start_time": "2021-07-07T16:55:32.704Z"
   },
   {
    "duration": 12,
    "start_time": "2021-07-07T16:55:49.012Z"
   },
   {
    "duration": 18,
    "start_time": "2021-07-07T16:55:49.547Z"
   },
   {
    "duration": 611,
    "start_time": "2021-07-07T16:58:35.156Z"
   },
   {
    "duration": 200,
    "start_time": "2021-07-07T16:58:35.770Z"
   },
   {
    "duration": 86,
    "start_time": "2021-07-07T16:58:35.972Z"
   },
   {
    "duration": 3,
    "start_time": "2021-07-07T16:58:36.060Z"
   },
   {
    "duration": 27,
    "start_time": "2021-07-07T16:58:36.065Z"
   },
   {
    "duration": 8,
    "start_time": "2021-07-07T16:58:36.094Z"
   },
   {
    "duration": 17,
    "start_time": "2021-07-07T16:58:36.103Z"
   },
   {
    "duration": 5,
    "start_time": "2021-07-07T16:58:36.123Z"
   },
   {
    "duration": 11,
    "start_time": "2021-07-07T16:58:36.130Z"
   },
   {
    "duration": 7,
    "start_time": "2021-07-07T16:58:36.143Z"
   },
   {
    "duration": 37,
    "start_time": "2021-07-07T16:58:36.152Z"
   },
   {
    "duration": 27,
    "start_time": "2021-07-07T16:58:36.191Z"
   },
   {
    "duration": 19,
    "start_time": "2021-07-07T16:58:36.219Z"
   },
   {
    "duration": 49,
    "start_time": "2021-07-07T16:58:36.240Z"
   },
   {
    "duration": 6,
    "start_time": "2021-07-07T16:58:36.291Z"
   },
   {
    "duration": 3,
    "start_time": "2021-07-07T16:58:36.299Z"
   },
   {
    "duration": 13,
    "start_time": "2021-07-07T16:58:36.304Z"
   },
   {
    "duration": 10,
    "start_time": "2021-07-07T16:58:36.319Z"
   },
   {
    "duration": 10,
    "start_time": "2021-07-07T16:58:36.331Z"
   },
   {
    "duration": 44,
    "start_time": "2021-07-07T16:58:36.343Z"
   },
   {
    "duration": 4,
    "start_time": "2021-07-07T16:58:36.388Z"
   },
   {
    "duration": 13,
    "start_time": "2021-07-07T16:58:36.394Z"
   },
   {
    "duration": 16,
    "start_time": "2021-07-07T16:58:36.410Z"
   },
   {
    "duration": 8,
    "start_time": "2021-07-07T17:02:31.629Z"
   },
   {
    "duration": 8,
    "start_time": "2021-07-07T17:02:34.308Z"
   },
   {
    "duration": 6,
    "start_time": "2021-07-07T17:05:13.483Z"
   },
   {
    "duration": 17,
    "start_time": "2021-07-07T17:05:20.606Z"
   },
   {
    "duration": 7,
    "start_time": "2021-07-07T17:05:34.638Z"
   },
   {
    "duration": 3,
    "start_time": "2021-07-07T17:06:31.883Z"
   },
   {
    "duration": 570,
    "start_time": "2021-07-07T17:06:37.165Z"
   },
   {
    "duration": 174,
    "start_time": "2021-07-07T17:06:37.737Z"
   },
   {
    "duration": 47,
    "start_time": "2021-07-07T17:06:37.913Z"
   },
   {
    "duration": 3,
    "start_time": "2021-07-07T17:06:37.962Z"
   },
   {
    "duration": 27,
    "start_time": "2021-07-07T17:06:37.967Z"
   },
   {
    "duration": 7,
    "start_time": "2021-07-07T17:06:37.996Z"
   },
   {
    "duration": 16,
    "start_time": "2021-07-07T17:06:38.005Z"
   },
   {
    "duration": 6,
    "start_time": "2021-07-07T17:06:38.024Z"
   },
   {
    "duration": 12,
    "start_time": "2021-07-07T17:06:38.031Z"
   },
   {
    "duration": 41,
    "start_time": "2021-07-07T17:06:38.045Z"
   },
   {
    "duration": 8,
    "start_time": "2021-07-07T17:06:38.088Z"
   },
   {
    "duration": 26,
    "start_time": "2021-07-07T17:06:38.098Z"
   },
   {
    "duration": 17,
    "start_time": "2021-07-07T17:06:38.126Z"
   },
   {
    "duration": 43,
    "start_time": "2021-07-07T17:06:38.144Z"
   },
   {
    "duration": 6,
    "start_time": "2021-07-07T17:06:38.188Z"
   },
   {
    "duration": 5,
    "start_time": "2021-07-07T17:06:38.195Z"
   },
   {
    "duration": 9,
    "start_time": "2021-07-07T17:06:38.201Z"
   },
   {
    "duration": 12,
    "start_time": "2021-07-07T17:06:38.212Z"
   },
   {
    "duration": 11,
    "start_time": "2021-07-07T17:06:38.226Z"
   },
   {
    "duration": 47,
    "start_time": "2021-07-07T17:06:38.239Z"
   },
   {
    "duration": 4,
    "start_time": "2021-07-07T17:06:38.288Z"
   },
   {
    "duration": 13,
    "start_time": "2021-07-07T17:06:38.293Z"
   },
   {
    "duration": 5,
    "start_time": "2021-07-07T17:06:38.309Z"
   },
   {
    "duration": 18,
    "start_time": "2021-07-07T17:06:38.325Z"
   },
   {
    "duration": 20,
    "start_time": "2021-07-07T17:07:02.805Z"
   },
   {
    "duration": 19,
    "start_time": "2021-07-07T17:07:08.527Z"
   },
   {
    "duration": 19,
    "start_time": "2021-07-07T17:07:12.758Z"
   },
   {
    "duration": 22,
    "start_time": "2021-07-07T17:07:17.497Z"
   },
   {
    "duration": 19,
    "start_time": "2021-07-07T17:07:19.645Z"
   },
   {
    "duration": 10,
    "start_time": "2021-07-07T17:07:34.239Z"
   },
   {
    "duration": 17,
    "start_time": "2021-07-07T17:07:54.144Z"
   },
   {
    "duration": 14,
    "start_time": "2021-07-07T17:08:14.357Z"
   },
   {
    "duration": 616,
    "start_time": "2021-07-07T17:08:45.254Z"
   },
   {
    "duration": 178,
    "start_time": "2021-07-07T17:08:45.872Z"
   },
   {
    "duration": 60,
    "start_time": "2021-07-07T17:08:46.054Z"
   },
   {
    "duration": 3,
    "start_time": "2021-07-07T17:08:46.116Z"
   },
   {
    "duration": 26,
    "start_time": "2021-07-07T17:08:46.121Z"
   },
   {
    "duration": 7,
    "start_time": "2021-07-07T17:08:46.149Z"
   },
   {
    "duration": 17,
    "start_time": "2021-07-07T17:08:46.158Z"
   },
   {
    "duration": 14,
    "start_time": "2021-07-07T17:08:46.176Z"
   },
   {
    "duration": 17,
    "start_time": "2021-07-07T17:08:46.193Z"
   },
   {
    "duration": 9,
    "start_time": "2021-07-07T17:08:46.211Z"
   },
   {
    "duration": 21,
    "start_time": "2021-07-07T17:08:46.221Z"
   },
   {
    "duration": 49,
    "start_time": "2021-07-07T17:08:46.244Z"
   },
   {
    "duration": 24,
    "start_time": "2021-07-07T17:08:46.295Z"
   },
   {
    "duration": 22,
    "start_time": "2021-07-07T17:08:46.321Z"
   },
   {
    "duration": 6,
    "start_time": "2021-07-07T17:08:46.345Z"
   },
   {
    "duration": 5,
    "start_time": "2021-07-07T17:08:46.353Z"
   },
   {
    "duration": 13,
    "start_time": "2021-07-07T17:08:46.386Z"
   },
   {
    "duration": 12,
    "start_time": "2021-07-07T17:08:46.402Z"
   },
   {
    "duration": 10,
    "start_time": "2021-07-07T17:08:46.415Z"
   },
   {
    "duration": 7,
    "start_time": "2021-07-07T17:08:46.427Z"
   },
   {
    "duration": 8,
    "start_time": "2021-07-07T17:08:46.435Z"
   },
   {
    "duration": 68,
    "start_time": "2021-07-07T17:08:46.446Z"
   },
   {
    "duration": 13,
    "start_time": "2021-07-07T17:08:46.516Z"
   },
   {
    "duration": 78,
    "start_time": "2021-07-07T17:08:46.530Z"
   },
   {
    "duration": 40,
    "start_time": "2021-07-07T17:09:08.185Z"
   },
   {
    "duration": 16,
    "start_time": "2021-07-07T17:09:19.324Z"
   },
   {
    "duration": 21,
    "start_time": "2021-07-07T17:09:23.290Z"
   },
   {
    "duration": 13,
    "start_time": "2021-07-07T17:09:54.812Z"
   },
   {
    "duration": 13,
    "start_time": "2021-07-07T17:10:02.039Z"
   },
   {
    "duration": 10,
    "start_time": "2021-07-07T17:10:29.632Z"
   },
   {
    "duration": 13,
    "start_time": "2021-07-07T17:10:52.372Z"
   },
   {
    "duration": 13,
    "start_time": "2021-07-07T17:11:17.270Z"
   },
   {
    "duration": 13,
    "start_time": "2021-07-07T17:14:59.284Z"
   },
   {
    "duration": 547,
    "start_time": "2021-07-07T17:18:52.403Z"
   },
   {
    "duration": 163,
    "start_time": "2021-07-07T17:18:52.952Z"
   },
   {
    "duration": 44,
    "start_time": "2021-07-07T17:18:53.117Z"
   },
   {
    "duration": 3,
    "start_time": "2021-07-07T17:18:53.162Z"
   },
   {
    "duration": 26,
    "start_time": "2021-07-07T17:18:53.167Z"
   },
   {
    "duration": 6,
    "start_time": "2021-07-07T17:18:53.195Z"
   },
   {
    "duration": 15,
    "start_time": "2021-07-07T17:18:53.203Z"
   },
   {
    "duration": 5,
    "start_time": "2021-07-07T17:18:53.220Z"
   },
   {
    "duration": 11,
    "start_time": "2021-07-07T17:18:53.228Z"
   },
   {
    "duration": 9,
    "start_time": "2021-07-07T17:18:53.241Z"
   },
   {
    "duration": 41,
    "start_time": "2021-07-07T17:18:53.252Z"
   },
   {
    "duration": 33,
    "start_time": "2021-07-07T17:18:53.295Z"
   },
   {
    "duration": 19,
    "start_time": "2021-07-07T17:18:53.330Z"
   },
   {
    "duration": 49,
    "start_time": "2021-07-07T17:18:53.350Z"
   },
   {
    "duration": 5,
    "start_time": "2021-07-07T17:18:53.401Z"
   },
   {
    "duration": 5,
    "start_time": "2021-07-07T17:18:53.408Z"
   },
   {
    "duration": 11,
    "start_time": "2021-07-07T17:18:53.414Z"
   },
   {
    "duration": 9,
    "start_time": "2021-07-07T17:18:53.427Z"
   },
   {
    "duration": 10,
    "start_time": "2021-07-07T17:18:53.437Z"
   },
   {
    "duration": 39,
    "start_time": "2021-07-07T17:18:53.448Z"
   },
   {
    "duration": 26,
    "start_time": "2021-07-07T17:18:55.799Z"
   },
   {
    "duration": 598,
    "start_time": "2021-07-07T17:20:17.862Z"
   },
   {
    "duration": 161,
    "start_time": "2021-07-07T17:20:18.462Z"
   },
   {
    "duration": 45,
    "start_time": "2021-07-07T17:20:18.626Z"
   },
   {
    "duration": 4,
    "start_time": "2021-07-07T17:20:18.673Z"
   },
   {
    "duration": 38,
    "start_time": "2021-07-07T17:20:26.877Z"
   },
   {
    "duration": 7,
    "start_time": "2021-07-07T17:20:37.405Z"
   },
   {
    "duration": 19,
    "start_time": "2021-07-07T17:20:51.534Z"
   },
   {
    "duration": 5,
    "start_time": "2021-07-07T17:20:57.228Z"
   },
   {
    "duration": 7,
    "start_time": "2021-07-07T17:21:08.235Z"
   },
   {
    "duration": 19,
    "start_time": "2021-07-07T17:21:42.158Z"
   },
   {
    "duration": 14,
    "start_time": "2021-07-07T17:21:50.225Z"
   },
   {
    "duration": 22,
    "start_time": "2021-07-07T17:22:54.104Z"
   },
   {
    "duration": 5,
    "start_time": "2021-07-07T17:22:56.371Z"
   },
   {
    "duration": 14,
    "start_time": "2021-07-07T17:22:58.316Z"
   },
   {
    "duration": 5,
    "start_time": "2021-07-07T17:22:58.493Z"
   },
   {
    "duration": 35,
    "start_time": "2021-07-07T17:22:59.666Z"
   },
   {
    "duration": 6,
    "start_time": "2021-07-07T17:23:02.410Z"
   },
   {
    "duration": 611,
    "start_time": "2021-07-07T17:24:59.664Z"
   },
   {
    "duration": 178,
    "start_time": "2021-07-07T17:25:01.945Z"
   },
   {
    "duration": 47,
    "start_time": "2021-07-07T17:25:02.125Z"
   },
   {
    "duration": 2,
    "start_time": "2021-07-07T17:25:07.903Z"
   },
   {
    "duration": 254,
    "start_time": "2021-07-07T17:25:08.232Z"
   },
   {
    "duration": 182,
    "start_time": "2021-07-07T17:25:08.671Z"
   },
   {
    "duration": 6,
    "start_time": "2021-07-07T17:25:13.104Z"
   },
   {
    "duration": 36,
    "start_time": "2021-07-07T17:25:13.662Z"
   },
   {
    "duration": 7,
    "start_time": "2021-07-07T17:25:14.528Z"
   },
   {
    "duration": 24,
    "start_time": "2021-07-07T17:25:27.982Z"
   },
   {
    "duration": 3,
    "start_time": "2021-07-07T17:25:48.982Z"
   },
   {
    "duration": 165,
    "start_time": "2021-07-07T17:25:48.987Z"
   },
   {
    "duration": 50,
    "start_time": "2021-07-07T17:25:49.154Z"
   },
   {
    "duration": 4,
    "start_time": "2021-07-07T17:25:49.206Z"
   },
   {
    "duration": 26,
    "start_time": "2021-07-07T17:25:49.212Z"
   },
   {
    "duration": 7,
    "start_time": "2021-07-07T17:25:49.240Z"
   },
   {
    "duration": 16,
    "start_time": "2021-07-07T17:25:49.249Z"
   },
   {
    "duration": 22,
    "start_time": "2021-07-07T17:25:49.266Z"
   },
   {
    "duration": 16,
    "start_time": "2021-07-07T17:25:49.291Z"
   },
   {
    "duration": 9,
    "start_time": "2021-07-07T17:25:49.309Z"
   },
   {
    "duration": 7,
    "start_time": "2021-07-07T17:25:49.319Z"
   },
   {
    "duration": 28,
    "start_time": "2021-07-07T17:25:49.328Z"
   },
   {
    "duration": 44,
    "start_time": "2021-07-07T17:25:49.357Z"
   },
   {
    "duration": 22,
    "start_time": "2021-07-07T17:25:49.403Z"
   },
   {
    "duration": 7,
    "start_time": "2021-07-07T17:25:49.427Z"
   },
   {
    "duration": 3,
    "start_time": "2021-07-07T17:25:49.436Z"
   },
   {
    "duration": 44,
    "start_time": "2021-07-07T17:25:49.441Z"
   },
   {
    "duration": 12,
    "start_time": "2021-07-07T17:25:49.488Z"
   },
   {
    "duration": 13,
    "start_time": "2021-07-07T17:25:49.502Z"
   },
   {
    "duration": 10,
    "start_time": "2021-07-07T17:25:49.516Z"
   },
   {
    "duration": 62,
    "start_time": "2021-07-07T17:25:49.527Z"
   },
   {
    "duration": 26,
    "start_time": "2021-07-07T17:26:51.809Z"
   },
   {
    "duration": 26,
    "start_time": "2021-07-07T17:26:55.759Z"
   },
   {
    "duration": 26,
    "start_time": "2021-07-07T17:27:04.501Z"
   },
   {
    "duration": 25,
    "start_time": "2021-07-07T17:28:24.859Z"
   },
   {
    "duration": 21,
    "start_time": "2021-07-07T17:28:55.250Z"
   },
   {
    "duration": 21,
    "start_time": "2021-07-07T17:28:58.885Z"
   },
   {
    "duration": 7,
    "start_time": "2021-07-07T17:45:40.972Z"
   },
   {
    "duration": 13,
    "start_time": "2021-07-07T17:45:42.529Z"
   },
   {
    "duration": 27,
    "start_time": "2021-07-07T17:45:51.026Z"
   },
   {
    "duration": 518,
    "start_time": "2021-07-07T17:46:15.532Z"
   },
   {
    "duration": 235,
    "start_time": "2021-07-07T17:46:16.053Z"
   },
   {
    "duration": 80,
    "start_time": "2021-07-07T17:46:16.292Z"
   },
   {
    "duration": 5,
    "start_time": "2021-07-07T17:46:16.373Z"
   },
   {
    "duration": 26,
    "start_time": "2021-07-07T17:46:16.380Z"
   },
   {
    "duration": 7,
    "start_time": "2021-07-07T17:46:16.408Z"
   },
   {
    "duration": 16,
    "start_time": "2021-07-07T17:46:16.418Z"
   },
   {
    "duration": 5,
    "start_time": "2021-07-07T17:46:16.436Z"
   },
   {
    "duration": 13,
    "start_time": "2021-07-07T17:46:16.442Z"
   },
   {
    "duration": 35,
    "start_time": "2021-07-07T17:46:16.456Z"
   },
   {
    "duration": 8,
    "start_time": "2021-07-07T17:46:16.493Z"
   },
   {
    "duration": 28,
    "start_time": "2021-07-07T17:46:16.502Z"
   },
   {
    "duration": 17,
    "start_time": "2021-07-07T17:46:16.532Z"
   },
   {
    "duration": 44,
    "start_time": "2021-07-07T17:46:16.551Z"
   },
   {
    "duration": 6,
    "start_time": "2021-07-07T17:46:16.597Z"
   },
   {
    "duration": 4,
    "start_time": "2021-07-07T17:46:16.605Z"
   },
   {
    "duration": 9,
    "start_time": "2021-07-07T17:46:16.610Z"
   },
   {
    "duration": 9,
    "start_time": "2021-07-07T17:46:16.621Z"
   },
   {
    "duration": 10,
    "start_time": "2021-07-07T17:46:16.632Z"
   },
   {
    "duration": 43,
    "start_time": "2021-07-07T17:46:16.644Z"
   },
   {
    "duration": 26,
    "start_time": "2021-07-07T17:46:16.689Z"
   },
   {
    "duration": 19,
    "start_time": "2021-07-07T17:46:16.718Z"
   },
   {
    "duration": 8,
    "start_time": "2021-07-07T17:46:16.738Z"
   },
   {
    "duration": 43,
    "start_time": "2021-07-07T17:46:16.747Z"
   },
   {
    "duration": 19,
    "start_time": "2021-07-07T17:46:16.791Z"
   },
   {
    "duration": 9,
    "start_time": "2021-07-07T17:46:16.812Z"
   },
   {
    "duration": 60,
    "start_time": "2021-07-07T17:46:16.822Z"
   },
   {
    "duration": -8,
    "start_time": "2021-07-07T17:46:16.892Z"
   },
   {
    "duration": 12,
    "start_time": "2021-07-07T17:48:47.707Z"
   },
   {
    "duration": 553,
    "start_time": "2021-07-07T18:10:09.350Z"
   },
   {
    "duration": 230,
    "start_time": "2021-07-07T18:10:09.905Z"
   },
   {
    "duration": 97,
    "start_time": "2021-07-07T18:10:10.137Z"
   },
   {
    "duration": 5,
    "start_time": "2021-07-07T18:10:10.236Z"
   },
   {
    "duration": 29,
    "start_time": "2021-07-07T18:10:10.242Z"
   },
   {
    "duration": 7,
    "start_time": "2021-07-07T18:10:10.272Z"
   },
   {
    "duration": 15,
    "start_time": "2021-07-07T18:10:10.281Z"
   },
   {
    "duration": 4,
    "start_time": "2021-07-07T18:10:10.299Z"
   },
   {
    "duration": 14,
    "start_time": "2021-07-07T18:10:10.305Z"
   },
   {
    "duration": 8,
    "start_time": "2021-07-07T18:10:10.321Z"
   },
   {
    "duration": 8,
    "start_time": "2021-07-07T18:10:10.331Z"
   },
   {
    "duration": 56,
    "start_time": "2021-07-07T18:10:10.341Z"
   },
   {
    "duration": 19,
    "start_time": "2021-07-07T18:10:10.399Z"
   },
   {
    "duration": 23,
    "start_time": "2021-07-07T18:10:10.419Z"
   },
   {
    "duration": 6,
    "start_time": "2021-07-07T18:10:10.444Z"
   },
   {
    "duration": 9,
    "start_time": "2021-07-07T18:10:10.451Z"
   },
   {
    "duration": 30,
    "start_time": "2021-07-07T18:10:10.462Z"
   },
   {
    "duration": 9,
    "start_time": "2021-07-07T18:10:10.494Z"
   },
   {
    "duration": 14,
    "start_time": "2021-07-07T18:10:10.505Z"
   },
   {
    "duration": 7,
    "start_time": "2021-07-07T18:10:10.521Z"
   },
   {
    "duration": 26,
    "start_time": "2021-07-07T18:10:10.530Z"
   },
   {
    "duration": 44,
    "start_time": "2021-07-07T18:10:10.558Z"
   },
   {
    "duration": 7,
    "start_time": "2021-07-07T18:10:10.605Z"
   },
   {
    "duration": 11,
    "start_time": "2021-07-07T18:10:10.614Z"
   },
   {
    "duration": 19,
    "start_time": "2021-07-07T18:10:10.626Z"
   },
   {
    "duration": 44,
    "start_time": "2021-07-07T18:10:10.646Z"
   },
   {
    "duration": 516,
    "start_time": "2021-07-07T18:14:00.826Z"
   },
   {
    "duration": 230,
    "start_time": "2021-07-07T18:14:01.344Z"
   },
   {
    "duration": 105,
    "start_time": "2021-07-07T18:14:01.576Z"
   },
   {
    "duration": 5,
    "start_time": "2021-07-07T18:14:01.683Z"
   },
   {
    "duration": 46,
    "start_time": "2021-07-07T18:14:01.690Z"
   },
   {
    "duration": 7,
    "start_time": "2021-07-07T18:14:01.738Z"
   },
   {
    "duration": 20,
    "start_time": "2021-07-07T18:14:01.747Z"
   },
   {
    "duration": 16,
    "start_time": "2021-07-07T18:14:01.769Z"
   },
   {
    "duration": 14,
    "start_time": "2021-07-07T18:14:01.787Z"
   },
   {
    "duration": 15,
    "start_time": "2021-07-07T18:14:01.803Z"
   },
   {
    "duration": 12,
    "start_time": "2021-07-07T18:14:01.820Z"
   },
   {
    "duration": 35,
    "start_time": "2021-07-07T18:14:01.833Z"
   },
   {
    "duration": 31,
    "start_time": "2021-07-07T18:14:01.869Z"
   },
   {
    "duration": 37,
    "start_time": "2021-07-07T18:14:01.902Z"
   },
   {
    "duration": 8,
    "start_time": "2021-07-07T18:14:01.942Z"
   },
   {
    "duration": 16,
    "start_time": "2021-07-07T18:14:01.952Z"
   },
   {
    "duration": 13,
    "start_time": "2021-07-07T18:14:01.970Z"
   },
   {
    "duration": 32,
    "start_time": "2021-07-07T18:14:01.985Z"
   },
   {
    "duration": 11,
    "start_time": "2021-07-07T18:14:02.019Z"
   },
   {
    "duration": 22,
    "start_time": "2021-07-07T18:14:02.031Z"
   },
   {
    "duration": 27,
    "start_time": "2021-07-07T18:14:02.055Z"
   },
   {
    "duration": 18,
    "start_time": "2021-07-07T18:14:02.084Z"
   },
   {
    "duration": 18,
    "start_time": "2021-07-07T18:14:02.106Z"
   },
   {
    "duration": 11,
    "start_time": "2021-07-07T18:14:02.126Z"
   },
   {
    "duration": 21,
    "start_time": "2021-07-07T18:14:02.138Z"
   },
   {
    "duration": 32,
    "start_time": "2021-07-07T18:14:02.161Z"
   },
   {
    "duration": 28,
    "start_time": "2021-07-07T18:14:44.295Z"
   },
   {
    "duration": 6,
    "start_time": "2021-07-07T18:15:05.834Z"
   },
   {
    "duration": 511,
    "start_time": "2021-07-07T18:15:41.541Z"
   },
   {
    "duration": 183,
    "start_time": "2021-07-07T18:15:42.054Z"
   },
   {
    "duration": 50,
    "start_time": "2021-07-07T18:15:42.239Z"
   },
   {
    "duration": 5,
    "start_time": "2021-07-07T18:15:42.291Z"
   },
   {
    "duration": 48,
    "start_time": "2021-07-07T18:15:42.297Z"
   },
   {
    "duration": 8,
    "start_time": "2021-07-07T18:15:42.346Z"
   },
   {
    "duration": 17,
    "start_time": "2021-07-07T18:15:42.356Z"
   },
   {
    "duration": 15,
    "start_time": "2021-07-07T18:15:42.375Z"
   },
   {
    "duration": 12,
    "start_time": "2021-07-07T18:15:42.392Z"
   },
   {
    "duration": 7,
    "start_time": "2021-07-07T18:15:42.406Z"
   },
   {
    "duration": 7,
    "start_time": "2021-07-07T18:15:42.415Z"
   },
   {
    "duration": 29,
    "start_time": "2021-07-07T18:15:42.423Z"
   },
   {
    "duration": 43,
    "start_time": "2021-07-07T18:15:42.453Z"
   },
   {
    "duration": 18,
    "start_time": "2021-07-07T18:15:42.497Z"
   },
   {
    "duration": 6,
    "start_time": "2021-07-07T18:15:42.516Z"
   },
   {
    "duration": 3,
    "start_time": "2021-07-07T18:15:42.523Z"
   },
   {
    "duration": 18,
    "start_time": "2021-07-07T18:15:42.528Z"
   },
   {
    "duration": 10,
    "start_time": "2021-07-07T18:15:42.547Z"
   },
   {
    "duration": 36,
    "start_time": "2021-07-07T18:15:42.559Z"
   },
   {
    "duration": 8,
    "start_time": "2021-07-07T18:15:42.597Z"
   },
   {
    "duration": 28,
    "start_time": "2021-07-07T18:15:42.606Z"
   },
   {
    "duration": 52,
    "start_time": "2021-07-07T18:15:42.635Z"
   },
   {
    "duration": 7,
    "start_time": "2021-07-07T18:15:42.690Z"
   },
   {
    "duration": 10,
    "start_time": "2021-07-07T18:15:42.699Z"
   },
   {
    "duration": 19,
    "start_time": "2021-07-07T18:15:42.711Z"
   },
   {
    "duration": 9,
    "start_time": "2021-07-07T18:15:42.732Z"
   },
   {
    "duration": 5,
    "start_time": "2021-07-07T18:15:42.743Z"
   },
   {
    "duration": 1450,
    "start_time": "2021-07-07T18:15:51.984Z"
   },
   {
    "duration": 161,
    "start_time": "2021-07-07T18:15:53.435Z"
   },
   {
    "duration": 124,
    "start_time": "2021-07-07T18:15:53.598Z"
   },
   {
    "duration": 5,
    "start_time": "2021-07-07T18:15:53.724Z"
   },
   {
    "duration": 34,
    "start_time": "2021-07-07T18:15:53.730Z"
   },
   {
    "duration": 7,
    "start_time": "2021-07-07T18:15:53.765Z"
   },
   {
    "duration": 15,
    "start_time": "2021-07-07T18:15:53.773Z"
   },
   {
    "duration": 5,
    "start_time": "2021-07-07T18:15:53.791Z"
   },
   {
    "duration": 19,
    "start_time": "2021-07-07T18:15:53.798Z"
   },
   {
    "duration": 9,
    "start_time": "2021-07-07T18:15:53.818Z"
   },
   {
    "duration": 19,
    "start_time": "2021-07-07T18:15:53.828Z"
   },
   {
    "duration": 27,
    "start_time": "2021-07-07T18:15:53.848Z"
   },
   {
    "duration": 16,
    "start_time": "2021-07-07T18:15:53.884Z"
   },
   {
    "duration": 29,
    "start_time": "2021-07-07T18:15:53.901Z"
   },
   {
    "duration": 5,
    "start_time": "2021-07-07T18:15:53.932Z"
   },
   {
    "duration": 15,
    "start_time": "2021-07-07T18:15:53.939Z"
   },
   {
    "duration": 13,
    "start_time": "2021-07-07T18:15:53.956Z"
   },
   {
    "duration": 20,
    "start_time": "2021-07-07T18:15:53.971Z"
   },
   {
    "duration": 14,
    "start_time": "2021-07-07T18:15:53.992Z"
   },
   {
    "duration": 9,
    "start_time": "2021-07-07T18:15:54.009Z"
   },
   {
    "duration": 28,
    "start_time": "2021-07-07T18:15:54.020Z"
   },
   {
    "duration": 50,
    "start_time": "2021-07-07T18:15:54.051Z"
   },
   {
    "duration": 8,
    "start_time": "2021-07-07T18:15:54.105Z"
   },
   {
    "duration": 11,
    "start_time": "2021-07-07T18:15:54.115Z"
   },
   {
    "duration": 20,
    "start_time": "2021-07-07T18:15:54.128Z"
   },
   {
    "duration": 13,
    "start_time": "2021-07-07T18:15:54.184Z"
   },
   {
    "duration": 7,
    "start_time": "2021-07-07T18:15:54.199Z"
   },
   {
    "duration": 7,
    "start_time": "2021-07-07T18:17:08.042Z"
   },
   {
    "duration": 8,
    "start_time": "2021-07-07T18:17:21.008Z"
   },
   {
    "duration": 7,
    "start_time": "2021-07-07T18:17:29.003Z"
   },
   {
    "duration": 8,
    "start_time": "2021-07-07T18:17:32.492Z"
   },
   {
    "duration": 9,
    "start_time": "2021-07-07T18:17:41.758Z"
   },
   {
    "duration": 255,
    "start_time": "2021-07-07T18:20:20.897Z"
   },
   {
    "duration": 173,
    "start_time": "2021-07-07T18:20:26.636Z"
   },
   {
    "duration": 7,
    "start_time": "2021-07-07T18:21:47.164Z"
   },
   {
    "duration": 254,
    "start_time": "2021-07-07T18:23:08.703Z"
   },
   {
    "duration": 21,
    "start_time": "2021-07-07T18:23:22.506Z"
   },
   {
    "duration": 315,
    "start_time": "2021-07-07T18:25:54.801Z"
   },
   {
    "duration": 34,
    "start_time": "2021-07-07T18:26:51.817Z"
   },
   {
    "duration": 327,
    "start_time": "2021-07-07T18:26:56.147Z"
   },
   {
    "duration": 342,
    "start_time": "2021-07-07T18:27:15.887Z"
   },
   {
    "duration": 302,
    "start_time": "2021-07-07T18:28:18.569Z"
   },
   {
    "duration": 226,
    "start_time": "2021-07-07T18:29:20.879Z"
   },
   {
    "duration": 207,
    "start_time": "2021-07-07T18:29:58.114Z"
   },
   {
    "duration": 140,
    "start_time": "2021-07-07T18:32:04.372Z"
   },
   {
    "duration": 158,
    "start_time": "2021-07-07T18:32:32.508Z"
   },
   {
    "duration": 145,
    "start_time": "2021-07-07T18:32:41.365Z"
   },
   {
    "duration": 132,
    "start_time": "2021-07-07T18:32:45.199Z"
   },
   {
    "duration": 11,
    "start_time": "2021-07-07T18:35:24.679Z"
   },
   {
    "duration": 268,
    "start_time": "2021-07-07T18:36:16.145Z"
   },
   {
    "duration": 227,
    "start_time": "2021-07-07T18:37:04.918Z"
   },
   {
    "duration": 3,
    "start_time": "2021-07-07T18:37:33.012Z"
   },
   {
    "duration": 671,
    "start_time": "2021-07-07T18:37:38.295Z"
   },
   {
    "duration": 54,
    "start_time": "2021-07-07T18:37:53.406Z"
   },
   {
    "duration": 631,
    "start_time": "2021-07-07T18:37:56.463Z"
   },
   {
    "duration": 19,
    "start_time": "2021-07-07T18:39:40.535Z"
   },
   {
    "duration": 20,
    "start_time": "2021-07-07T18:40:12.236Z"
   },
   {
    "duration": 633,
    "start_time": "2021-07-07T18:42:00.398Z"
   },
   {
    "duration": 218,
    "start_time": "2021-07-07T18:42:01.033Z"
   },
   {
    "duration": 49,
    "start_time": "2021-07-07T18:42:01.253Z"
   },
   {
    "duration": 5,
    "start_time": "2021-07-07T18:42:01.303Z"
   },
   {
    "duration": 27,
    "start_time": "2021-07-07T18:42:01.310Z"
   },
   {
    "duration": 8,
    "start_time": "2021-07-07T18:42:01.339Z"
   },
   {
    "duration": 20,
    "start_time": "2021-07-07T18:42:01.348Z"
   },
   {
    "duration": 6,
    "start_time": "2021-07-07T18:42:01.386Z"
   },
   {
    "duration": 16,
    "start_time": "2021-07-07T18:42:01.394Z"
   },
   {
    "duration": 9,
    "start_time": "2021-07-07T18:42:01.411Z"
   },
   {
    "duration": 11,
    "start_time": "2021-07-07T18:42:01.421Z"
   },
   {
    "duration": 31,
    "start_time": "2021-07-07T18:42:01.434Z"
   },
   {
    "duration": 18,
    "start_time": "2021-07-07T18:42:01.485Z"
   },
   {
    "duration": 23,
    "start_time": "2021-07-07T18:42:01.505Z"
   },
   {
    "duration": 6,
    "start_time": "2021-07-07T18:42:01.530Z"
   },
   {
    "duration": 10,
    "start_time": "2021-07-07T18:42:01.538Z"
   },
   {
    "duration": 13,
    "start_time": "2021-07-07T18:42:01.550Z"
   },
   {
    "duration": 24,
    "start_time": "2021-07-07T18:42:01.564Z"
   },
   {
    "duration": 20,
    "start_time": "2021-07-07T18:42:01.590Z"
   },
   {
    "duration": 8,
    "start_time": "2021-07-07T18:42:01.611Z"
   },
   {
    "duration": 31,
    "start_time": "2021-07-07T18:42:01.620Z"
   },
   {
    "duration": 39,
    "start_time": "2021-07-07T18:42:01.653Z"
   },
   {
    "duration": 8,
    "start_time": "2021-07-07T18:42:01.696Z"
   },
   {
    "duration": 13,
    "start_time": "2021-07-07T18:42:01.705Z"
   },
   {
    "duration": 20,
    "start_time": "2021-07-07T18:42:01.720Z"
   },
   {
    "duration": 12,
    "start_time": "2021-07-07T18:42:01.741Z"
   },
   {
    "duration": 35,
    "start_time": "2021-07-07T18:42:01.755Z"
   },
   {
    "duration": 14,
    "start_time": "2021-07-07T18:42:01.792Z"
   },
   {
    "duration": 188,
    "start_time": "2021-07-07T18:42:01.808Z"
   },
   {
    "duration": 19,
    "start_time": "2021-07-07T18:42:01.998Z"
   },
   {
    "duration": 175,
    "start_time": "2021-07-07T18:42:02.019Z"
   },
   {
    "duration": 134,
    "start_time": "2021-07-07T18:42:02.196Z"
   },
   {
    "duration": 10,
    "start_time": "2021-07-07T18:42:02.331Z"
   },
   {
    "duration": 19,
    "start_time": "2021-07-07T18:42:02.343Z"
   },
   {
    "duration": 628,
    "start_time": "2021-07-07T18:46:30.701Z"
   },
   {
    "duration": 183,
    "start_time": "2021-07-07T18:46:31.331Z"
   },
   {
    "duration": 48,
    "start_time": "2021-07-07T18:46:31.516Z"
   },
   {
    "duration": 5,
    "start_time": "2021-07-07T18:46:31.566Z"
   },
   {
    "duration": 28,
    "start_time": "2021-07-07T18:46:31.572Z"
   },
   {
    "duration": 8,
    "start_time": "2021-07-07T18:46:31.602Z"
   },
   {
    "duration": 19,
    "start_time": "2021-07-07T18:46:31.611Z"
   },
   {
    "duration": 6,
    "start_time": "2021-07-07T18:46:31.633Z"
   },
   {
    "duration": 17,
    "start_time": "2021-07-07T18:46:31.642Z"
   },
   {
    "duration": 10,
    "start_time": "2021-07-07T18:46:31.684Z"
   },
   {
    "duration": 9,
    "start_time": "2021-07-07T18:46:31.695Z"
   },
   {
    "duration": 28,
    "start_time": "2021-07-07T18:46:31.705Z"
   },
   {
    "duration": 18,
    "start_time": "2021-07-07T18:46:31.735Z"
   },
   {
    "duration": 48,
    "start_time": "2021-07-07T18:46:31.755Z"
   },
   {
    "duration": 6,
    "start_time": "2021-07-07T18:46:31.804Z"
   },
   {
    "duration": 4,
    "start_time": "2021-07-07T18:46:31.812Z"
   },
   {
    "duration": 9,
    "start_time": "2021-07-07T18:46:31.817Z"
   },
   {
    "duration": 10,
    "start_time": "2021-07-07T18:46:31.827Z"
   },
   {
    "duration": 12,
    "start_time": "2021-07-07T18:46:31.838Z"
   },
   {
    "duration": 39,
    "start_time": "2021-07-07T18:46:31.851Z"
   },
   {
    "duration": 24,
    "start_time": "2021-07-07T18:46:31.892Z"
   },
   {
    "duration": 15,
    "start_time": "2021-07-07T18:46:31.918Z"
   },
   {
    "duration": 7,
    "start_time": "2021-07-07T18:46:31.936Z"
   },
   {
    "duration": 8,
    "start_time": "2021-07-07T18:46:31.944Z"
   },
   {
    "duration": 19,
    "start_time": "2021-07-07T18:46:31.984Z"
   },
   {
    "duration": 10,
    "start_time": "2021-07-07T18:46:32.004Z"
   },
   {
    "duration": 5,
    "start_time": "2021-07-07T18:46:32.016Z"
   },
   {
    "duration": 9,
    "start_time": "2021-07-07T18:46:32.023Z"
   },
   {
    "duration": 199,
    "start_time": "2021-07-07T18:46:32.033Z"
   },
   {
    "duration": 19,
    "start_time": "2021-07-07T18:46:32.234Z"
   },
   {
    "duration": 159,
    "start_time": "2021-07-07T18:46:32.255Z"
   },
   {
    "duration": 134,
    "start_time": "2021-07-07T18:46:32.416Z"
   },
   {
    "duration": 10,
    "start_time": "2021-07-07T18:46:32.552Z"
   },
   {
    "duration": 34,
    "start_time": "2021-07-07T18:46:32.563Z"
   },
   {
    "duration": 1039,
    "start_time": "2021-07-08T08:41:09.419Z"
   },
   {
    "duration": 333,
    "start_time": "2021-07-08T08:41:10.459Z"
   },
   {
    "duration": 173,
    "start_time": "2021-07-08T08:41:10.794Z"
   },
   {
    "duration": 5,
    "start_time": "2021-07-08T08:41:10.968Z"
   },
   {
    "duration": 25,
    "start_time": "2021-07-08T08:41:10.975Z"
   },
   {
    "duration": 9,
    "start_time": "2021-07-08T08:41:11.002Z"
   },
   {
    "duration": 18,
    "start_time": "2021-07-08T08:41:11.013Z"
   },
   {
    "duration": 6,
    "start_time": "2021-07-08T08:41:11.033Z"
   },
   {
    "duration": 44,
    "start_time": "2021-07-08T08:41:11.042Z"
   },
   {
    "duration": 10,
    "start_time": "2021-07-08T08:41:11.088Z"
   },
   {
    "duration": 9,
    "start_time": "2021-07-08T08:41:11.100Z"
   },
   {
    "duration": 27,
    "start_time": "2021-07-08T08:41:11.111Z"
   },
   {
    "duration": 46,
    "start_time": "2021-07-08T08:41:11.140Z"
   },
   {
    "duration": 17,
    "start_time": "2021-07-08T08:41:11.187Z"
   },
   {
    "duration": 6,
    "start_time": "2021-07-08T08:41:11.206Z"
   },
   {
    "duration": 5,
    "start_time": "2021-07-08T08:41:11.213Z"
   },
   {
    "duration": 10,
    "start_time": "2021-07-08T08:41:11.219Z"
   },
   {
    "duration": 9,
    "start_time": "2021-07-08T08:41:11.230Z"
   },
   {
    "duration": 45,
    "start_time": "2021-07-08T08:41:11.241Z"
   },
   {
    "duration": 7,
    "start_time": "2021-07-08T08:41:11.287Z"
   },
   {
    "duration": 24,
    "start_time": "2021-07-08T08:41:11.296Z"
   },
   {
    "duration": 16,
    "start_time": "2021-07-08T08:41:11.322Z"
   },
   {
    "duration": 7,
    "start_time": "2021-07-08T08:41:11.341Z"
   },
   {
    "duration": 41,
    "start_time": "2021-07-08T08:41:11.349Z"
   },
   {
    "duration": 17,
    "start_time": "2021-07-08T08:41:11.391Z"
   },
   {
    "duration": 9,
    "start_time": "2021-07-08T08:41:11.410Z"
   },
   {
    "duration": 5,
    "start_time": "2021-07-08T08:41:11.421Z"
   },
   {
    "duration": 6,
    "start_time": "2021-07-08T08:41:11.428Z"
   },
   {
    "duration": 198,
    "start_time": "2021-07-08T08:41:11.435Z"
   },
   {
    "duration": 18,
    "start_time": "2021-07-08T08:41:11.635Z"
   },
   {
    "duration": 155,
    "start_time": "2021-07-08T08:41:11.655Z"
   },
   {
    "duration": 138,
    "start_time": "2021-07-08T08:41:11.811Z"
   },
   {
    "duration": 10,
    "start_time": "2021-07-08T08:41:11.950Z"
   },
   {
    "duration": 29,
    "start_time": "2021-07-08T08:41:11.961Z"
   },
   {
    "duration": 171,
    "start_time": "2021-07-08T08:47:44.522Z"
   },
   {
    "duration": 124,
    "start_time": "2021-07-08T08:47:46.872Z"
   },
   {
    "duration": 191,
    "start_time": "2021-07-08T08:47:58.148Z"
   },
   {
    "duration": 191,
    "start_time": "2021-07-08T08:48:07.412Z"
   },
   {
    "duration": 261,
    "start_time": "2021-07-08T08:48:10.385Z"
   },
   {
    "duration": 255,
    "start_time": "2021-07-08T08:48:14.494Z"
   },
   {
    "duration": 219,
    "start_time": "2021-07-08T08:48:22.752Z"
   },
   {
    "duration": 173,
    "start_time": "2021-07-08T08:49:06.395Z"
   },
   {
    "duration": 180,
    "start_time": "2021-07-08T08:49:21.011Z"
   },
   {
    "duration": 6,
    "start_time": "2021-07-08T08:50:31.697Z"
   },
   {
    "duration": 10,
    "start_time": "2021-07-08T08:50:47.394Z"
   },
   {
    "duration": 11,
    "start_time": "2021-07-08T08:53:49.332Z"
   },
   {
    "duration": 171,
    "start_time": "2021-07-08T08:54:28.408Z"
   },
   {
    "duration": 636,
    "start_time": "2021-07-08T09:02:48.385Z"
   },
   {
    "duration": 227,
    "start_time": "2021-07-08T09:02:49.023Z"
   },
   {
    "duration": 104,
    "start_time": "2021-07-08T09:02:49.252Z"
   },
   {
    "duration": 5,
    "start_time": "2021-07-08T09:02:49.358Z"
   },
   {
    "duration": 27,
    "start_time": "2021-07-08T09:02:49.365Z"
   },
   {
    "duration": 8,
    "start_time": "2021-07-08T09:02:49.394Z"
   },
   {
    "duration": 18,
    "start_time": "2021-07-08T09:02:49.404Z"
   },
   {
    "duration": 6,
    "start_time": "2021-07-08T09:02:49.424Z"
   },
   {
    "duration": 11,
    "start_time": "2021-07-08T09:02:49.433Z"
   },
   {
    "duration": 13,
    "start_time": "2021-07-08T09:02:49.485Z"
   },
   {
    "duration": 9,
    "start_time": "2021-07-08T09:02:49.500Z"
   },
   {
    "duration": 38,
    "start_time": "2021-07-08T09:02:49.511Z"
   },
   {
    "duration": 42,
    "start_time": "2021-07-08T09:02:49.551Z"
   },
   {
    "duration": 21,
    "start_time": "2021-07-08T09:02:49.594Z"
   },
   {
    "duration": 6,
    "start_time": "2021-07-08T09:02:49.616Z"
   },
   {
    "duration": 3,
    "start_time": "2021-07-08T09:02:49.623Z"
   },
   {
    "duration": 9,
    "start_time": "2021-07-08T09:02:49.628Z"
   },
   {
    "duration": 52,
    "start_time": "2021-07-08T09:02:49.638Z"
   },
   {
    "duration": 11,
    "start_time": "2021-07-08T09:02:49.692Z"
   },
   {
    "duration": 8,
    "start_time": "2021-07-08T09:02:49.704Z"
   },
   {
    "duration": 27,
    "start_time": "2021-07-08T09:02:49.713Z"
   },
   {
    "duration": 59,
    "start_time": "2021-07-08T09:02:49.741Z"
   },
   {
    "duration": 8,
    "start_time": "2021-07-08T09:02:49.803Z"
   },
   {
    "duration": 14,
    "start_time": "2021-07-08T09:02:49.813Z"
   },
   {
    "duration": 20,
    "start_time": "2021-07-08T09:02:49.829Z"
   },
   {
    "duration": 44,
    "start_time": "2021-07-08T09:02:49.851Z"
   },
   {
    "duration": 14,
    "start_time": "2021-07-08T09:02:49.896Z"
   },
   {
    "duration": 221,
    "start_time": "2021-07-08T09:02:49.912Z"
   },
   {
    "duration": 6,
    "start_time": "2021-07-08T09:02:50.134Z"
   },
   {
    "duration": 206,
    "start_time": "2021-07-08T09:02:50.142Z"
   },
   {
    "duration": 19,
    "start_time": "2021-07-08T09:02:50.350Z"
   },
   {
    "duration": 21,
    "start_time": "2021-07-08T09:02:50.370Z"
   },
   {
    "duration": 20,
    "start_time": "2021-07-08T09:02:50.393Z"
   },
   {
    "duration": 5,
    "start_time": "2021-07-08T09:02:50.414Z"
   },
   {
    "duration": 5,
    "start_time": "2021-07-08T09:03:34.173Z"
   },
   {
    "duration": 6,
    "start_time": "2021-07-08T09:04:49.062Z"
   },
   {
    "duration": 9,
    "start_time": "2021-07-08T09:04:50.118Z"
   },
   {
    "duration": 14,
    "start_time": "2021-07-08T09:04:58.512Z"
   },
   {
    "duration": 9,
    "start_time": "2021-07-08T09:05:10.988Z"
   },
   {
    "duration": 11,
    "start_time": "2021-07-08T09:05:11.743Z"
   },
   {
    "duration": 7,
    "start_time": "2021-07-08T09:05:25.677Z"
   },
   {
    "duration": 13,
    "start_time": "2021-07-08T09:05:47.189Z"
   },
   {
    "duration": 13,
    "start_time": "2021-07-08T09:05:54.755Z"
   },
   {
    "duration": 4,
    "start_time": "2021-07-08T09:06:29.189Z"
   },
   {
    "duration": 244,
    "start_time": "2021-07-08T09:06:29.195Z"
   },
   {
    "duration": 91,
    "start_time": "2021-07-08T09:06:29.441Z"
   },
   {
    "duration": 4,
    "start_time": "2021-07-08T09:06:29.534Z"
   },
   {
    "duration": 28,
    "start_time": "2021-07-08T09:06:29.540Z"
   },
   {
    "duration": 6,
    "start_time": "2021-07-08T09:06:29.570Z"
   },
   {
    "duration": 18,
    "start_time": "2021-07-08T09:06:29.578Z"
   },
   {
    "duration": 5,
    "start_time": "2021-07-08T09:06:29.597Z"
   },
   {
    "duration": 13,
    "start_time": "2021-07-08T09:06:29.605Z"
   },
   {
    "duration": 8,
    "start_time": "2021-07-08T09:06:29.620Z"
   },
   {
    "duration": 7,
    "start_time": "2021-07-08T09:06:29.630Z"
   },
   {
    "duration": 63,
    "start_time": "2021-07-08T09:06:29.639Z"
   },
   {
    "duration": 17,
    "start_time": "2021-07-08T09:06:29.704Z"
   },
   {
    "duration": 20,
    "start_time": "2021-07-08T09:06:29.723Z"
   },
   {
    "duration": 6,
    "start_time": "2021-07-08T09:06:29.745Z"
   },
   {
    "duration": 3,
    "start_time": "2021-07-08T09:06:29.752Z"
   },
   {
    "duration": 7,
    "start_time": "2021-07-08T09:06:29.785Z"
   },
   {
    "duration": 11,
    "start_time": "2021-07-08T09:06:29.794Z"
   },
   {
    "duration": 15,
    "start_time": "2021-07-08T09:06:29.807Z"
   },
   {
    "duration": 8,
    "start_time": "2021-07-08T09:06:29.823Z"
   },
   {
    "duration": 70,
    "start_time": "2021-07-08T09:06:29.832Z"
   },
   {
    "duration": 17,
    "start_time": "2021-07-08T09:06:29.903Z"
   },
   {
    "duration": 9,
    "start_time": "2021-07-08T09:06:29.921Z"
   },
   {
    "duration": 9,
    "start_time": "2021-07-08T09:06:29.932Z"
   },
   {
    "duration": 57,
    "start_time": "2021-07-08T09:06:29.942Z"
   },
   {
    "duration": 11,
    "start_time": "2021-07-08T09:06:30.001Z"
   },
   {
    "duration": 19,
    "start_time": "2021-07-08T09:06:30.016Z"
   },
   {
    "duration": 217,
    "start_time": "2021-07-08T09:06:30.037Z"
   },
   {
    "duration": 6,
    "start_time": "2021-07-08T09:06:30.255Z"
   },
   {
    "duration": 205,
    "start_time": "2021-07-08T09:06:30.263Z"
   },
   {
    "duration": 27,
    "start_time": "2021-07-08T09:06:30.470Z"
   },
   {
    "duration": 11,
    "start_time": "2021-07-08T09:06:30.500Z"
   },
   {
    "duration": 31,
    "start_time": "2021-07-08T09:06:30.513Z"
   },
   {
    "duration": 18,
    "start_time": "2021-07-08T09:06:30.546Z"
   },
   {
    "duration": 11,
    "start_time": "2021-07-08T09:06:30.566Z"
   },
   {
    "duration": 19,
    "start_time": "2021-07-08T09:06:30.579Z"
   },
   {
    "duration": 20,
    "start_time": "2021-07-08T09:06:49.466Z"
   },
   {
    "duration": 9,
    "start_time": "2021-07-08T09:06:51.994Z"
   },
   {
    "duration": 20,
    "start_time": "2021-07-08T09:06:52.273Z"
   },
   {
    "duration": 246,
    "start_time": "2021-07-08T09:10:21.272Z"
   },
   {
    "duration": 84,
    "start_time": "2021-07-08T09:10:21.436Z"
   },
   {
    "duration": 7,
    "start_time": "2021-07-08T09:10:37.608Z"
   },
   {
    "duration": 189,
    "start_time": "2021-07-08T09:10:38.573Z"
   },
   {
    "duration": 185,
    "start_time": "2021-07-08T09:10:53.181Z"
   },
   {
    "duration": 11,
    "start_time": "2021-07-08T09:10:59.549Z"
   },
   {
    "duration": 42,
    "start_time": "2021-07-08T09:10:59.709Z"
   },
   {
    "duration": 12,
    "start_time": "2021-07-08T09:11:02.857Z"
   },
   {
    "duration": 28,
    "start_time": "2021-07-08T09:11:10.062Z"
   },
   {
    "duration": 249,
    "start_time": "2021-07-08T09:11:37.388Z"
   },
   {
    "duration": 232,
    "start_time": "2021-07-08T09:11:49.485Z"
   },
   {
    "duration": 453,
    "start_time": "2021-07-08T09:12:01.546Z"
   },
   {
    "duration": 440,
    "start_time": "2021-07-08T09:12:12.347Z"
   },
   {
    "duration": 213,
    "start_time": "2021-07-08T09:13:32.196Z"
   },
   {
    "duration": 172,
    "start_time": "2021-07-08T09:14:07.400Z"
   },
   {
    "duration": 185,
    "start_time": "2021-07-08T09:14:14.905Z"
   },
   {
    "duration": 209,
    "start_time": "2021-07-08T09:14:40.109Z"
   },
   {
    "duration": 201,
    "start_time": "2021-07-08T09:14:54.506Z"
   },
   {
    "duration": 622,
    "start_time": "2021-07-08T09:18:14.497Z"
   },
   {
    "duration": 220,
    "start_time": "2021-07-08T09:18:15.121Z"
   },
   {
    "duration": 79,
    "start_time": "2021-07-08T09:18:15.343Z"
   },
   {
    "duration": 4,
    "start_time": "2021-07-08T09:18:15.425Z"
   },
   {
    "duration": 24,
    "start_time": "2021-07-08T09:18:15.431Z"
   },
   {
    "duration": 8,
    "start_time": "2021-07-08T09:18:15.457Z"
   },
   {
    "duration": 16,
    "start_time": "2021-07-08T09:18:15.466Z"
   },
   {
    "duration": 5,
    "start_time": "2021-07-08T09:18:15.484Z"
   },
   {
    "duration": 10,
    "start_time": "2021-07-08T09:18:15.493Z"
   },
   {
    "duration": 8,
    "start_time": "2021-07-08T09:18:15.504Z"
   },
   {
    "duration": 7,
    "start_time": "2021-07-08T09:18:15.513Z"
   },
   {
    "duration": 26,
    "start_time": "2021-07-08T09:18:15.522Z"
   },
   {
    "duration": 49,
    "start_time": "2021-07-08T09:18:15.550Z"
   },
   {
    "duration": 21,
    "start_time": "2021-07-08T09:18:15.601Z"
   },
   {
    "duration": 8,
    "start_time": "2021-07-08T09:18:15.624Z"
   },
   {
    "duration": 3,
    "start_time": "2021-07-08T09:18:15.634Z"
   },
   {
    "duration": 8,
    "start_time": "2021-07-08T09:18:15.639Z"
   },
   {
    "duration": 45,
    "start_time": "2021-07-08T09:18:15.649Z"
   },
   {
    "duration": 13,
    "start_time": "2021-07-08T09:18:15.696Z"
   },
   {
    "duration": 10,
    "start_time": "2021-07-08T09:18:15.711Z"
   },
   {
    "duration": 64,
    "start_time": "2021-07-08T09:18:15.722Z"
   },
   {
    "duration": 19,
    "start_time": "2021-07-08T09:18:15.788Z"
   },
   {
    "duration": 9,
    "start_time": "2021-07-08T09:18:15.809Z"
   },
   {
    "duration": 9,
    "start_time": "2021-07-08T09:18:15.820Z"
   },
   {
    "duration": 18,
    "start_time": "2021-07-08T09:18:15.831Z"
   },
   {
    "duration": 43,
    "start_time": "2021-07-08T09:18:15.851Z"
   },
   {
    "duration": 12,
    "start_time": "2021-07-08T09:18:15.897Z"
   },
   {
    "duration": 219,
    "start_time": "2021-07-08T09:18:15.911Z"
   },
   {
    "duration": 8,
    "start_time": "2021-07-08T09:18:16.132Z"
   },
   {
    "duration": 199,
    "start_time": "2021-07-08T09:18:16.141Z"
   },
   {
    "duration": 18,
    "start_time": "2021-07-08T09:18:16.341Z"
   },
   {
    "duration": 24,
    "start_time": "2021-07-08T09:18:16.361Z"
   },
   {
    "duration": 24,
    "start_time": "2021-07-08T09:18:16.387Z"
   },
   {
    "duration": 211,
    "start_time": "2021-07-08T09:18:16.413Z"
   },
   {
    "duration": 18,
    "start_time": "2021-07-08T09:18:16.626Z"
   },
   {
    "duration": 596,
    "start_time": "2021-07-08T10:06:33.623Z"
   },
   {
    "duration": 181,
    "start_time": "2021-07-08T10:06:34.221Z"
   },
   {
    "duration": 176,
    "start_time": "2021-07-08T10:06:34.635Z"
   },
   {
    "duration": 239,
    "start_time": "2021-07-08T10:06:55.572Z"
   },
   {
    "duration": 6,
    "start_time": "2021-07-08T10:06:57.687Z"
   },
   {
    "duration": 4,
    "start_time": "2021-07-08T10:07:03.956Z"
   },
   {
    "duration": 4,
    "start_time": "2021-07-08T10:07:10.376Z"
   },
   {
    "duration": 4,
    "start_time": "2021-07-08T10:17:19.889Z"
   },
   {
    "duration": 3,
    "start_time": "2021-07-08T10:19:19.407Z"
   },
   {
    "duration": 197,
    "start_time": "2021-07-08T10:19:19.412Z"
   },
   {
    "duration": 127,
    "start_time": "2021-07-08T10:19:19.611Z"
   },
   {
    "duration": 4,
    "start_time": "2021-07-08T10:19:19.740Z"
   },
   {
    "duration": 27,
    "start_time": "2021-07-08T10:19:19.746Z"
   },
   {
    "duration": 7,
    "start_time": "2021-07-08T10:19:19.775Z"
   },
   {
    "duration": 30,
    "start_time": "2021-07-08T10:19:19.784Z"
   },
   {
    "duration": 7,
    "start_time": "2021-07-08T10:19:19.817Z"
   },
   {
    "duration": 26,
    "start_time": "2021-07-08T10:19:19.826Z"
   },
   {
    "duration": 18,
    "start_time": "2021-07-08T10:19:19.854Z"
   },
   {
    "duration": 14,
    "start_time": "2021-07-08T10:19:19.874Z"
   },
   {
    "duration": 48,
    "start_time": "2021-07-08T10:19:19.890Z"
   },
   {
    "duration": 17,
    "start_time": "2021-07-08T10:19:19.940Z"
   },
   {
    "duration": 38,
    "start_time": "2021-07-08T10:19:19.959Z"
   },
   {
    "duration": 8,
    "start_time": "2021-07-08T10:19:19.999Z"
   },
   {
    "duration": 15,
    "start_time": "2021-07-08T10:19:20.009Z"
   },
   {
    "duration": 22,
    "start_time": "2021-07-08T10:19:20.026Z"
   },
   {
    "duration": 10,
    "start_time": "2021-07-08T10:19:20.050Z"
   },
   {
    "duration": 10,
    "start_time": "2021-07-08T10:19:20.062Z"
   },
   {
    "duration": 20,
    "start_time": "2021-07-08T10:19:20.073Z"
   },
   {
    "duration": 29,
    "start_time": "2021-07-08T10:19:20.095Z"
   },
   {
    "duration": 17,
    "start_time": "2021-07-08T10:19:20.126Z"
   },
   {
    "duration": 40,
    "start_time": "2021-07-08T10:19:20.146Z"
   },
   {
    "duration": 15,
    "start_time": "2021-07-08T10:19:20.189Z"
   },
   {
    "duration": 19,
    "start_time": "2021-07-08T10:19:20.206Z"
   },
   {
    "duration": 10,
    "start_time": "2021-07-08T10:19:20.226Z"
   },
   {
    "duration": 11,
    "start_time": "2021-07-08T10:19:20.238Z"
   },
   {
    "duration": 297,
    "start_time": "2021-07-08T10:19:20.250Z"
   },
   {
    "duration": 6,
    "start_time": "2021-07-08T10:19:20.549Z"
   },
   {
    "duration": 191,
    "start_time": "2021-07-08T10:19:20.557Z"
   },
   {
    "duration": 19,
    "start_time": "2021-07-08T10:19:20.750Z"
   },
   {
    "duration": 20,
    "start_time": "2021-07-08T10:19:20.771Z"
   },
   {
    "duration": 15,
    "start_time": "2021-07-08T10:19:20.793Z"
   },
   {
    "duration": 222,
    "start_time": "2021-07-08T10:19:20.809Z"
   },
   {
    "duration": 20,
    "start_time": "2021-07-08T10:19:21.033Z"
   },
   {
    "duration": 27,
    "start_time": "2021-07-08T10:45:04.055Z"
   },
   {
    "duration": 8,
    "start_time": "2021-07-08T10:45:08.478Z"
   },
   {
    "duration": 8,
    "start_time": "2021-07-08T10:45:31.982Z"
   },
   {
    "duration": 10,
    "start_time": "2021-07-08T10:46:01.221Z"
   },
   {
    "duration": 17,
    "start_time": "2021-07-08T10:46:40.011Z"
   },
   {
    "duration": 193,
    "start_time": "2021-07-08T10:48:19.471Z"
   },
   {
    "duration": 225,
    "start_time": "2021-07-08T10:49:26.480Z"
   },
   {
    "duration": 204,
    "start_time": "2021-07-08T10:49:59.992Z"
   },
   {
    "duration": 435,
    "start_time": "2021-07-08T10:50:06.779Z"
   },
   {
    "duration": 199,
    "start_time": "2021-07-08T10:50:14.891Z"
   },
   {
    "duration": 204,
    "start_time": "2021-07-08T10:50:18.501Z"
   },
   {
    "duration": 244,
    "start_time": "2021-07-08T10:50:23.359Z"
   },
   {
    "duration": 192,
    "start_time": "2021-07-08T10:50:29.135Z"
   },
   {
    "duration": 218,
    "start_time": "2021-07-08T10:50:33.092Z"
   },
   {
    "duration": 207,
    "start_time": "2021-07-08T10:52:45.381Z"
   },
   {
    "duration": 5,
    "start_time": "2021-07-08T10:53:34.641Z"
   },
   {
    "duration": 196,
    "start_time": "2021-07-08T10:53:41.478Z"
   },
   {
    "duration": 43,
    "start_time": "2021-07-08T10:53:50.335Z"
   },
   {
    "duration": 32,
    "start_time": "2021-07-08T10:53:55.294Z"
   },
   {
    "duration": 55,
    "start_time": "2021-07-08T10:54:09.675Z"
   },
   {
    "duration": 16,
    "start_time": "2021-07-08T10:54:12.260Z"
   },
   {
    "duration": 15,
    "start_time": "2021-07-08T10:54:49.150Z"
   },
   {
    "duration": 20,
    "start_time": "2021-07-08T10:56:07.596Z"
   },
   {
    "duration": 16,
    "start_time": "2021-07-08T10:58:26.276Z"
   },
   {
    "duration": 22,
    "start_time": "2021-07-08T10:59:00.486Z"
   },
   {
    "duration": 18,
    "start_time": "2021-07-08T11:02:09.653Z"
   },
   {
    "duration": 10,
    "start_time": "2021-07-08T11:03:44.331Z"
   },
   {
    "duration": 10,
    "start_time": "2021-07-08T11:03:54.055Z"
   },
   {
    "duration": 12,
    "start_time": "2021-07-08T11:04:41.967Z"
   },
   {
    "duration": 24,
    "start_time": "2021-07-08T11:07:30.732Z"
   },
   {
    "duration": 6,
    "start_time": "2021-07-08T11:07:37.364Z"
   },
   {
    "duration": 16,
    "start_time": "2021-07-08T11:08:01.819Z"
   },
   {
    "duration": 17,
    "start_time": "2021-07-08T11:09:47.488Z"
   },
   {
    "duration": 246,
    "start_time": "2021-07-08T11:10:00.830Z"
   },
   {
    "duration": 18,
    "start_time": "2021-07-08T11:13:55.195Z"
   },
   {
    "duration": 204,
    "start_time": "2021-07-08T11:14:04.951Z"
   },
   {
    "duration": 19,
    "start_time": "2021-07-08T11:15:10.613Z"
   },
   {
    "duration": 680,
    "start_time": "2021-07-08T11:16:25.793Z"
   },
   {
    "duration": 451,
    "start_time": "2021-07-08T11:16:40.313Z"
   },
   {
    "duration": 469,
    "start_time": "2021-07-08T11:17:21.286Z"
   },
   {
    "duration": 20,
    "start_time": "2021-07-08T11:19:12.554Z"
   },
   {
    "duration": 35,
    "start_time": "2021-07-08T11:20:05.484Z"
   },
   {
    "duration": 53,
    "start_time": "2021-07-08T11:21:40.050Z"
   },
   {
    "duration": 13,
    "start_time": "2021-07-08T11:22:26.059Z"
   },
   {
    "duration": 19,
    "start_time": "2021-07-08T11:22:47.419Z"
   },
   {
    "duration": 25,
    "start_time": "2021-07-08T11:23:19.958Z"
   },
   {
    "duration": 29,
    "start_time": "2021-07-08T11:23:25.415Z"
   },
   {
    "duration": 10,
    "start_time": "2021-07-08T11:24:45.138Z"
   },
   {
    "duration": 19,
    "start_time": "2021-07-08T11:24:54.498Z"
   },
   {
    "duration": 12,
    "start_time": "2021-07-08T11:25:32.225Z"
   },
   {
    "duration": 19,
    "start_time": "2021-07-08T11:25:37.092Z"
   },
   {
    "duration": 17,
    "start_time": "2021-07-08T11:25:58.116Z"
   },
   {
    "duration": 15,
    "start_time": "2021-07-08T11:26:02.258Z"
   },
   {
    "duration": 8,
    "start_time": "2021-07-08T11:26:59.682Z"
   },
   {
    "duration": 184,
    "start_time": "2021-07-08T11:27:21.894Z"
   },
   {
    "duration": 8,
    "start_time": "2021-07-08T11:27:23.824Z"
   },
   {
    "duration": 202,
    "start_time": "2021-07-08T11:27:23.962Z"
   },
   {
    "duration": 360,
    "start_time": "2021-07-08T11:28:33.215Z"
   },
   {
    "duration": 231,
    "start_time": "2021-07-08T11:32:05.542Z"
   },
   {
    "duration": 607,
    "start_time": "2021-07-08T11:36:27.854Z"
   },
   {
    "duration": 241,
    "start_time": "2021-07-08T11:36:28.463Z"
   },
   {
    "duration": 67,
    "start_time": "2021-07-08T11:36:28.709Z"
   },
   {
    "duration": 5,
    "start_time": "2021-07-08T11:36:28.778Z"
   },
   {
    "duration": 32,
    "start_time": "2021-07-08T11:36:28.784Z"
   },
   {
    "duration": 11,
    "start_time": "2021-07-08T11:36:28.819Z"
   },
   {
    "duration": 20,
    "start_time": "2021-07-08T11:36:28.834Z"
   },
   {
    "duration": 36,
    "start_time": "2021-07-08T11:36:28.857Z"
   },
   {
    "duration": 16,
    "start_time": "2021-07-08T11:36:28.895Z"
   },
   {
    "duration": 14,
    "start_time": "2021-07-08T11:36:28.913Z"
   },
   {
    "duration": 9,
    "start_time": "2021-07-08T11:36:28.930Z"
   },
   {
    "duration": 55,
    "start_time": "2021-07-08T11:36:28.941Z"
   },
   {
    "duration": 27,
    "start_time": "2021-07-08T11:36:28.999Z"
   },
   {
    "duration": 30,
    "start_time": "2021-07-08T11:36:29.028Z"
   },
   {
    "duration": 31,
    "start_time": "2021-07-08T11:36:29.060Z"
   },
   {
    "duration": 3,
    "start_time": "2021-07-08T11:36:29.093Z"
   },
   {
    "duration": 12,
    "start_time": "2021-07-08T11:36:29.099Z"
   },
   {
    "duration": 11,
    "start_time": "2021-07-08T11:36:29.112Z"
   },
   {
    "duration": 12,
    "start_time": "2021-07-08T11:36:29.125Z"
   },
   {
    "duration": 9,
    "start_time": "2021-07-08T11:36:29.139Z"
   },
   {
    "duration": 31,
    "start_time": "2021-07-08T11:36:29.191Z"
   },
   {
    "duration": 17,
    "start_time": "2021-07-08T11:36:29.226Z"
   },
   {
    "duration": 7,
    "start_time": "2021-07-08T11:36:29.245Z"
   },
   {
    "duration": 10,
    "start_time": "2021-07-08T11:36:29.254Z"
   },
   {
    "duration": 30,
    "start_time": "2021-07-08T11:36:29.292Z"
   },
   {
    "duration": 11,
    "start_time": "2021-07-08T11:36:29.324Z"
   },
   {
    "duration": 11,
    "start_time": "2021-07-08T11:36:29.337Z"
   },
   {
    "duration": 230,
    "start_time": "2021-07-08T11:36:29.349Z"
   },
   {
    "duration": 13,
    "start_time": "2021-07-08T11:36:29.588Z"
   },
   {
    "duration": 205,
    "start_time": "2021-07-08T11:36:29.603Z"
   },
   {
    "duration": 20,
    "start_time": "2021-07-08T11:36:29.810Z"
   },
   {
    "duration": 9,
    "start_time": "2021-07-08T11:36:29.832Z"
   },
   {
    "duration": 16,
    "start_time": "2021-07-08T11:36:29.843Z"
   },
   {
    "duration": 283,
    "start_time": "2021-07-08T11:36:29.861Z"
   },
   {
    "duration": 50,
    "start_time": "2021-07-08T11:36:30.146Z"
   },
   {
    "duration": 14,
    "start_time": "2021-07-08T11:36:30.198Z"
   },
   {
    "duration": 11,
    "start_time": "2021-07-08T11:36:30.214Z"
   },
   {
    "duration": 245,
    "start_time": "2021-07-08T11:36:30.227Z"
   },
   {
    "duration": 439,
    "start_time": "2021-07-08T11:36:30.474Z"
   },
   {
    "duration": 210,
    "start_time": "2021-07-08T11:36:30.915Z"
   },
   {
    "duration": 15,
    "start_time": "2021-07-08T11:36:31.127Z"
   },
   {
    "duration": 17,
    "start_time": "2021-07-08T11:38:20.451Z"
   },
   {
    "duration": 642,
    "start_time": "2021-07-08T11:46:17.881Z"
   },
   {
    "duration": 210,
    "start_time": "2021-07-08T11:46:18.525Z"
   },
   {
    "duration": 104,
    "start_time": "2021-07-08T11:46:18.741Z"
   },
   {
    "duration": 8,
    "start_time": "2021-07-08T11:46:18.847Z"
   },
   {
    "duration": 25,
    "start_time": "2021-07-08T11:46:18.857Z"
   },
   {
    "duration": 14,
    "start_time": "2021-07-08T11:46:18.884Z"
   },
   {
    "duration": 22,
    "start_time": "2021-07-08T11:46:18.900Z"
   },
   {
    "duration": 5,
    "start_time": "2021-07-08T11:46:18.924Z"
   },
   {
    "duration": 13,
    "start_time": "2021-07-08T11:46:18.931Z"
   },
   {
    "duration": 45,
    "start_time": "2021-07-08T11:46:18.946Z"
   },
   {
    "duration": 12,
    "start_time": "2021-07-08T11:46:18.993Z"
   },
   {
    "duration": 38,
    "start_time": "2021-07-08T11:46:19.006Z"
   },
   {
    "duration": 50,
    "start_time": "2021-07-08T11:46:19.046Z"
   },
   {
    "duration": 29,
    "start_time": "2021-07-08T11:46:19.099Z"
   },
   {
    "duration": 7,
    "start_time": "2021-07-08T11:46:19.130Z"
   },
   {
    "duration": 3,
    "start_time": "2021-07-08T11:46:19.139Z"
   },
   {
    "duration": 11,
    "start_time": "2021-07-08T11:46:19.144Z"
   },
   {
    "duration": 40,
    "start_time": "2021-07-08T11:46:19.157Z"
   },
   {
    "duration": 15,
    "start_time": "2021-07-08T11:46:19.199Z"
   },
   {
    "duration": 10,
    "start_time": "2021-07-08T11:46:19.217Z"
   },
   {
    "duration": 68,
    "start_time": "2021-07-08T11:46:19.230Z"
   },
   {
    "duration": 17,
    "start_time": "2021-07-08T11:46:19.301Z"
   },
   {
    "duration": 7,
    "start_time": "2021-07-08T11:46:19.321Z"
   },
   {
    "duration": 11,
    "start_time": "2021-07-08T11:46:19.330Z"
   },
   {
    "duration": 59,
    "start_time": "2021-07-08T11:46:19.343Z"
   },
   {
    "duration": 17,
    "start_time": "2021-07-08T11:46:19.405Z"
   },
   {
    "duration": 16,
    "start_time": "2021-07-08T11:46:19.424Z"
   },
   {
    "duration": 252,
    "start_time": "2021-07-08T11:46:19.443Z"
   },
   {
    "duration": 9,
    "start_time": "2021-07-08T11:46:19.697Z"
   },
   {
    "duration": 224,
    "start_time": "2021-07-08T11:46:19.708Z"
   },
   {
    "duration": 21,
    "start_time": "2021-07-08T11:46:19.934Z"
   },
   {
    "duration": 9,
    "start_time": "2021-07-08T11:46:19.956Z"
   },
   {
    "duration": 32,
    "start_time": "2021-07-08T11:46:19.967Z"
   },
   {
    "duration": 288,
    "start_time": "2021-07-08T11:46:20.004Z"
   },
   {
    "duration": 23,
    "start_time": "2021-07-08T11:46:20.300Z"
   },
   {
    "duration": 11,
    "start_time": "2021-07-08T11:46:20.325Z"
   },
   {
    "duration": 11,
    "start_time": "2021-07-08T11:46:20.339Z"
   },
   {
    "duration": 259,
    "start_time": "2021-07-08T11:46:20.352Z"
   },
   {
    "duration": 438,
    "start_time": "2021-07-08T11:46:20.613Z"
   },
   {
    "duration": 207,
    "start_time": "2021-07-08T11:46:21.054Z"
   },
   {
    "duration": 27,
    "start_time": "2021-07-08T11:46:21.262Z"
   },
   {
    "duration": 19,
    "start_time": "2021-07-08T11:46:21.291Z"
   },
   {
    "duration": 820,
    "start_time": "2021-07-08T11:49:01.655Z"
   },
   {
    "duration": 372,
    "start_time": "2021-07-08T11:49:02.478Z"
   },
   {
    "duration": 98,
    "start_time": "2021-07-08T11:49:02.853Z"
   },
   {
    "duration": 6,
    "start_time": "2021-07-08T11:49:02.953Z"
   },
   {
    "duration": 39,
    "start_time": "2021-07-08T11:49:02.960Z"
   },
   {
    "duration": 9,
    "start_time": "2021-07-08T11:49:03.003Z"
   },
   {
    "duration": 23,
    "start_time": "2021-07-08T11:49:03.014Z"
   },
   {
    "duration": 6,
    "start_time": "2021-07-08T11:49:03.041Z"
   },
   {
    "duration": 20,
    "start_time": "2021-07-08T11:49:03.049Z"
   },
   {
    "duration": 18,
    "start_time": "2021-07-08T11:49:03.084Z"
   },
   {
    "duration": 14,
    "start_time": "2021-07-08T11:49:03.104Z"
   },
   {
    "duration": 39,
    "start_time": "2021-07-08T11:49:03.119Z"
   },
   {
    "duration": 38,
    "start_time": "2021-07-08T11:49:03.160Z"
   },
   {
    "duration": 26,
    "start_time": "2021-07-08T11:49:03.200Z"
   },
   {
    "duration": 7,
    "start_time": "2021-07-08T11:49:03.227Z"
   },
   {
    "duration": 4,
    "start_time": "2021-07-08T11:49:03.236Z"
   },
   {
    "duration": 15,
    "start_time": "2021-07-08T11:49:03.243Z"
   },
   {
    "duration": 21,
    "start_time": "2021-07-08T11:49:03.285Z"
   },
   {
    "duration": 17,
    "start_time": "2021-07-08T11:49:03.309Z"
   },
   {
    "duration": 10,
    "start_time": "2021-07-08T11:49:03.328Z"
   },
   {
    "duration": 65,
    "start_time": "2021-07-08T11:49:03.340Z"
   },
   {
    "duration": 18,
    "start_time": "2021-07-08T11:49:03.407Z"
   },
   {
    "duration": 8,
    "start_time": "2021-07-08T11:49:03.428Z"
   },
   {
    "duration": 15,
    "start_time": "2021-07-08T11:49:03.438Z"
   },
   {
    "duration": 40,
    "start_time": "2021-07-08T11:49:03.455Z"
   },
   {
    "duration": 12,
    "start_time": "2021-07-08T11:49:03.497Z"
   },
   {
    "duration": 29,
    "start_time": "2021-07-08T11:49:03.511Z"
   },
   {
    "duration": 285,
    "start_time": "2021-07-08T11:49:03.542Z"
   },
   {
    "duration": 8,
    "start_time": "2021-07-08T11:49:03.829Z"
   },
   {
    "duration": 227,
    "start_time": "2021-07-08T11:49:03.838Z"
   },
   {
    "duration": 40,
    "start_time": "2021-07-08T11:49:04.066Z"
   },
   {
    "duration": 10,
    "start_time": "2021-07-08T11:49:04.108Z"
   },
   {
    "duration": 26,
    "start_time": "2021-07-08T11:49:04.121Z"
   },
   {
    "duration": 290,
    "start_time": "2021-07-08T11:49:04.149Z"
   },
   {
    "duration": 26,
    "start_time": "2021-07-08T11:49:04.441Z"
   },
   {
    "duration": 31,
    "start_time": "2021-07-08T11:49:04.470Z"
   },
   {
    "duration": 14,
    "start_time": "2021-07-08T11:49:04.503Z"
   },
   {
    "duration": 259,
    "start_time": "2021-07-08T11:49:04.521Z"
   },
   {
    "duration": 480,
    "start_time": "2021-07-08T11:49:04.782Z"
   },
   {
    "duration": 225,
    "start_time": "2021-07-08T11:49:05.264Z"
   },
   {
    "duration": 22,
    "start_time": "2021-07-08T11:49:05.491Z"
   },
   {
    "duration": 24,
    "start_time": "2021-07-08T11:49:05.515Z"
   },
   {
    "duration": 634,
    "start_time": "2021-07-08T11:52:24.960Z"
   },
   {
    "duration": 199,
    "start_time": "2021-07-08T11:52:25.599Z"
   },
   {
    "duration": 106,
    "start_time": "2021-07-08T11:52:25.803Z"
   },
   {
    "duration": 7,
    "start_time": "2021-07-08T11:52:25.911Z"
   },
   {
    "duration": 29,
    "start_time": "2021-07-08T11:52:25.920Z"
   },
   {
    "duration": 7,
    "start_time": "2021-07-08T11:52:25.951Z"
   },
   {
    "duration": 26,
    "start_time": "2021-07-08T11:52:25.961Z"
   },
   {
    "duration": 11,
    "start_time": "2021-07-08T11:52:25.990Z"
   },
   {
    "duration": 29,
    "start_time": "2021-07-08T11:52:26.005Z"
   },
   {
    "duration": 9,
    "start_time": "2021-07-08T11:52:26.036Z"
   },
   {
    "duration": 8,
    "start_time": "2021-07-08T11:52:26.047Z"
   },
   {
    "duration": 63,
    "start_time": "2021-07-08T11:52:26.057Z"
   },
   {
    "duration": 17,
    "start_time": "2021-07-08T11:52:26.122Z"
   },
   {
    "duration": 43,
    "start_time": "2021-07-08T11:52:26.142Z"
   },
   {
    "duration": 17,
    "start_time": "2021-07-08T11:52:26.187Z"
   },
   {
    "duration": 5,
    "start_time": "2021-07-08T11:52:26.206Z"
   },
   {
    "duration": 12,
    "start_time": "2021-07-08T11:52:26.212Z"
   },
   {
    "duration": 11,
    "start_time": "2021-07-08T11:52:26.226Z"
   },
   {
    "duration": 12,
    "start_time": "2021-07-08T11:52:26.238Z"
   },
   {
    "duration": 38,
    "start_time": "2021-07-08T11:52:26.252Z"
   },
   {
    "duration": 40,
    "start_time": "2021-07-08T11:52:26.292Z"
   },
   {
    "duration": 17,
    "start_time": "2021-07-08T11:52:26.336Z"
   },
   {
    "duration": 39,
    "start_time": "2021-07-08T11:52:26.355Z"
   },
   {
    "duration": 11,
    "start_time": "2021-07-08T11:52:26.395Z"
   },
   {
    "duration": 23,
    "start_time": "2021-07-08T11:52:26.408Z"
   },
   {
    "duration": 12,
    "start_time": "2021-07-08T11:52:26.432Z"
   },
   {
    "duration": 41,
    "start_time": "2021-07-08T11:52:26.446Z"
   },
   {
    "duration": 215,
    "start_time": "2021-07-08T11:52:26.493Z"
   },
   {
    "duration": 8,
    "start_time": "2021-07-08T11:52:26.710Z"
   },
   {
    "duration": 228,
    "start_time": "2021-07-08T11:52:26.720Z"
   },
   {
    "duration": 18,
    "start_time": "2021-07-08T11:52:26.950Z"
   },
   {
    "duration": 35,
    "start_time": "2021-07-08T11:52:26.969Z"
   },
   {
    "duration": 23,
    "start_time": "2021-07-08T11:52:27.006Z"
   },
   {
    "duration": 258,
    "start_time": "2021-07-08T11:52:27.030Z"
   },
   {
    "duration": 24,
    "start_time": "2021-07-08T11:52:27.290Z"
   },
   {
    "duration": 12,
    "start_time": "2021-07-08T11:52:27.316Z"
   },
   {
    "duration": 10,
    "start_time": "2021-07-08T11:52:27.329Z"
   },
   {
    "duration": 298,
    "start_time": "2021-07-08T11:52:27.341Z"
   },
   {
    "duration": 436,
    "start_time": "2021-07-08T11:52:27.641Z"
   },
   {
    "duration": 216,
    "start_time": "2021-07-08T11:52:28.079Z"
   },
   {
    "duration": 20,
    "start_time": "2021-07-08T11:52:28.297Z"
   },
   {
    "duration": 17,
    "start_time": "2021-07-08T11:52:28.319Z"
   },
   {
    "duration": 622,
    "start_time": "2022-11-18T10:46:25.822Z"
   },
   {
    "duration": 94,
    "start_time": "2022-11-18T10:46:36.506Z"
   },
   {
    "duration": 110,
    "start_time": "2022-11-18T10:49:56.018Z"
   },
   {
    "duration": 47,
    "start_time": "2022-11-18T10:50:01.472Z"
   },
   {
    "duration": 63,
    "start_time": "2022-11-18T11:21:33.049Z"
   },
   {
    "duration": 475,
    "start_time": "2022-11-18T11:21:47.201Z"
   },
   {
    "duration": 41,
    "start_time": "2022-11-18T11:21:47.678Z"
   },
   {
    "duration": 65,
    "start_time": "2022-11-18T11:21:47.721Z"
   },
   {
    "duration": 0,
    "start_time": "2022-11-18T11:21:47.787Z"
   },
   {
    "duration": 15,
    "start_time": "2022-11-18T11:23:02.645Z"
   },
   {
    "duration": 10,
    "start_time": "2022-11-18T11:23:46.105Z"
   },
   {
    "duration": 48,
    "start_time": "2022-11-18T11:23:53.219Z"
   },
   {
    "duration": 6,
    "start_time": "2022-11-18T11:24:22.879Z"
   },
   {
    "duration": 4,
    "start_time": "2022-11-18T11:24:36.595Z"
   },
   {
    "duration": 509,
    "start_time": "2022-11-18T11:25:09.512Z"
   },
   {
    "duration": 18,
    "start_time": "2022-11-18T11:25:10.023Z"
   },
   {
    "duration": 6,
    "start_time": "2022-11-18T11:25:10.042Z"
   },
   {
    "duration": 48,
    "start_time": "2022-11-18T11:25:10.050Z"
   },
   {
    "duration": 70,
    "start_time": "2022-11-18T11:25:10.099Z"
   },
   {
    "duration": 0,
    "start_time": "2022-11-18T11:25:10.170Z"
   },
   {
    "duration": 206,
    "start_time": "2022-11-18T11:26:29.650Z"
   },
   {
    "duration": 20,
    "start_time": "2022-11-18T11:28:44.468Z"
   },
   {
    "duration": 6,
    "start_time": "2022-11-18T11:29:26.841Z"
   },
   {
    "duration": 10,
    "start_time": "2022-11-18T11:29:30.239Z"
   },
   {
    "duration": 462,
    "start_time": "2022-11-18T11:32:00.771Z"
   },
   {
    "duration": 14,
    "start_time": "2022-11-18T11:32:01.235Z"
   },
   {
    "duration": 27,
    "start_time": "2022-11-18T11:32:01.250Z"
   },
   {
    "duration": 14,
    "start_time": "2022-11-18T11:32:01.279Z"
   },
   {
    "duration": 24,
    "start_time": "2022-11-18T11:32:01.294Z"
   },
   {
    "duration": 56,
    "start_time": "2022-11-18T11:32:01.320Z"
   },
   {
    "duration": 10,
    "start_time": "2022-11-18T11:32:01.378Z"
   },
   {
    "duration": 14,
    "start_time": "2022-11-18T11:32:14.692Z"
   },
   {
    "duration": 13,
    "start_time": "2022-11-18T11:34:43.800Z"
   },
   {
    "duration": 10,
    "start_time": "2022-11-18T11:36:10.507Z"
   },
   {
    "duration": 11,
    "start_time": "2022-11-18T11:36:48.122Z"
   },
   {
    "duration": 14,
    "start_time": "2022-11-18T11:36:49.872Z"
   },
   {
    "duration": 14,
    "start_time": "2022-11-18T11:36:55.295Z"
   },
   {
    "duration": 436,
    "start_time": "2022-11-18T11:37:02.982Z"
   },
   {
    "duration": 15,
    "start_time": "2022-11-18T11:37:03.420Z"
   },
   {
    "duration": 19,
    "start_time": "2022-11-18T11:37:03.437Z"
   },
   {
    "duration": 8,
    "start_time": "2022-11-18T11:37:03.458Z"
   },
   {
    "duration": 14,
    "start_time": "2022-11-18T11:37:03.469Z"
   },
   {
    "duration": 50,
    "start_time": "2022-11-18T11:37:03.484Z"
   },
   {
    "duration": 10,
    "start_time": "2022-11-18T11:37:03.536Z"
   },
   {
    "duration": 19,
    "start_time": "2022-11-18T11:37:03.548Z"
   },
   {
    "duration": 18,
    "start_time": "2022-11-18T11:37:03.568Z"
   },
   {
    "duration": 25,
    "start_time": "2022-11-18T11:37:03.588Z"
   },
   {
    "duration": 51,
    "start_time": "2022-11-19T10:21:38.889Z"
   },
   {
    "duration": 784,
    "start_time": "2022-11-19T10:21:54.069Z"
   },
   {
    "duration": 18,
    "start_time": "2022-11-19T10:21:54.855Z"
   },
   {
    "duration": 65,
    "start_time": "2022-11-19T10:21:54.875Z"
   },
   {
    "duration": 20,
    "start_time": "2022-11-19T10:21:54.943Z"
   },
   {
    "duration": 17,
    "start_time": "2022-11-19T10:21:54.965Z"
   },
   {
    "duration": 115,
    "start_time": "2022-11-19T10:21:54.984Z"
   },
   {
    "duration": 10,
    "start_time": "2022-11-19T10:21:55.102Z"
   },
   {
    "duration": 29,
    "start_time": "2022-11-19T10:21:55.114Z"
   },
   {
    "duration": 16,
    "start_time": "2022-11-19T10:21:55.145Z"
   },
   {
    "duration": 13,
    "start_time": "2022-11-19T10:21:55.163Z"
   },
   {
    "duration": 8,
    "start_time": "2022-11-19T10:23:08.651Z"
   },
   {
    "duration": 6,
    "start_time": "2022-11-19T10:23:54.393Z"
   },
   {
    "duration": 5,
    "start_time": "2022-11-19T10:26:01.623Z"
   },
   {
    "duration": 67,
    "start_time": "2022-11-19T10:31:35.078Z"
   },
   {
    "duration": 452,
    "start_time": "2022-11-19T10:31:49.520Z"
   },
   {
    "duration": 16,
    "start_time": "2022-11-19T10:31:49.974Z"
   },
   {
    "duration": 13,
    "start_time": "2022-11-19T10:31:49.991Z"
   },
   {
    "duration": 7,
    "start_time": "2022-11-19T10:31:50.007Z"
   },
   {
    "duration": 10,
    "start_time": "2022-11-19T10:31:50.015Z"
   },
   {
    "duration": 47,
    "start_time": "2022-11-19T10:31:50.026Z"
   },
   {
    "duration": 10,
    "start_time": "2022-11-19T10:31:50.075Z"
   },
   {
    "duration": 13,
    "start_time": "2022-11-19T10:31:50.086Z"
   },
   {
    "duration": 13,
    "start_time": "2022-11-19T10:31:50.101Z"
   },
   {
    "duration": 13,
    "start_time": "2022-11-19T10:31:50.116Z"
   },
   {
    "duration": 8,
    "start_time": "2022-11-19T10:31:50.131Z"
   },
   {
    "duration": 10,
    "start_time": "2022-11-19T10:31:50.141Z"
   },
   {
    "duration": 69,
    "start_time": "2022-11-19T10:31:50.177Z"
   },
   {
    "duration": 0,
    "start_time": "2022-11-19T10:31:50.247Z"
   },
   {
    "duration": 10,
    "start_time": "2022-11-19T10:33:39.682Z"
   },
   {
    "duration": 12,
    "start_time": "2022-11-19T10:33:55.227Z"
   },
   {
    "duration": 6,
    "start_time": "2022-11-19T10:36:20.225Z"
   },
   {
    "duration": 6,
    "start_time": "2022-11-19T10:36:49.871Z"
   },
   {
    "duration": 8,
    "start_time": "2022-11-19T10:39:30.628Z"
   },
   {
    "duration": 6,
    "start_time": "2022-11-19T10:41:07.399Z"
   },
   {
    "duration": 5,
    "start_time": "2022-11-19T10:41:24.526Z"
   },
   {
    "duration": 33,
    "start_time": "2022-11-19T10:41:42.303Z"
   },
   {
    "duration": 27,
    "start_time": "2022-11-19T10:42:49.980Z"
   },
   {
    "duration": 43,
    "start_time": "2022-11-19T10:46:10.611Z"
   },
   {
    "duration": 39,
    "start_time": "2022-11-19T10:46:18.533Z"
   },
   {
    "duration": 6,
    "start_time": "2022-11-19T10:46:22.106Z"
   },
   {
    "duration": 15,
    "start_time": "2022-11-19T10:46:42.776Z"
   },
   {
    "duration": 16,
    "start_time": "2022-11-19T10:46:55.977Z"
   },
   {
    "duration": 3,
    "start_time": "2022-11-19T10:47:21.939Z"
   },
   {
    "duration": 2118,
    "start_time": "2022-11-19T10:48:57.675Z"
   },
   {
    "duration": 5,
    "start_time": "2022-11-19T10:49:07.443Z"
   },
   {
    "duration": 435,
    "start_time": "2022-11-19T10:49:27.111Z"
   },
   {
    "duration": 18,
    "start_time": "2022-11-19T10:49:27.548Z"
   },
   {
    "duration": 27,
    "start_time": "2022-11-19T10:49:27.568Z"
   },
   {
    "duration": 7,
    "start_time": "2022-11-19T10:49:27.597Z"
   },
   {
    "duration": 7,
    "start_time": "2022-11-19T10:49:27.605Z"
   },
   {
    "duration": 43,
    "start_time": "2022-11-19T10:49:27.614Z"
   },
   {
    "duration": 12,
    "start_time": "2022-11-19T10:49:27.659Z"
   },
   {
    "duration": 9,
    "start_time": "2022-11-19T10:49:27.672Z"
   },
   {
    "duration": 12,
    "start_time": "2022-11-19T10:49:27.682Z"
   },
   {
    "duration": 18,
    "start_time": "2022-11-19T10:49:27.696Z"
   },
   {
    "duration": 7,
    "start_time": "2022-11-19T10:49:27.716Z"
   },
   {
    "duration": 7,
    "start_time": "2022-11-19T10:49:27.724Z"
   },
   {
    "duration": 12,
    "start_time": "2022-11-19T10:49:27.732Z"
   },
   {
    "duration": 12,
    "start_time": "2022-11-19T10:49:27.746Z"
   },
   {
    "duration": 19,
    "start_time": "2022-11-19T10:49:27.759Z"
   },
   {
    "duration": 5,
    "start_time": "2022-11-19T10:49:27.780Z"
   },
   {
    "duration": 63,
    "start_time": "2022-11-19T10:50:07.437Z"
   },
   {
    "duration": 7,
    "start_time": "2022-11-19T10:50:20.113Z"
   },
   {
    "duration": 9,
    "start_time": "2022-11-19T10:52:18.196Z"
   },
   {
    "duration": 52,
    "start_time": "2022-11-19T10:52:26.232Z"
   },
   {
    "duration": 52,
    "start_time": "2022-11-19T10:52:30.108Z"
   },
   {
    "duration": 11,
    "start_time": "2022-11-19T10:52:32.916Z"
   },
   {
    "duration": 10,
    "start_time": "2022-11-19T10:53:36.558Z"
   },
   {
    "duration": 9,
    "start_time": "2022-11-19T10:53:48.277Z"
   },
   {
    "duration": 11,
    "start_time": "2022-11-19T10:54:05.626Z"
   },
   {
    "duration": 486,
    "start_time": "2022-11-19T10:54:28.881Z"
   },
   {
    "duration": 14,
    "start_time": "2022-11-19T10:54:29.370Z"
   },
   {
    "duration": 20,
    "start_time": "2022-11-19T10:54:29.386Z"
   },
   {
    "duration": 31,
    "start_time": "2022-11-19T10:54:29.408Z"
   },
   {
    "duration": 27,
    "start_time": "2022-11-19T10:54:29.440Z"
   },
   {
    "duration": 46,
    "start_time": "2022-11-19T10:54:29.468Z"
   },
   {
    "duration": 10,
    "start_time": "2022-11-19T10:54:29.516Z"
   },
   {
    "duration": 23,
    "start_time": "2022-11-19T10:54:29.528Z"
   },
   {
    "duration": 20,
    "start_time": "2022-11-19T10:54:29.553Z"
   },
   {
    "duration": 12,
    "start_time": "2022-11-19T10:54:29.576Z"
   },
   {
    "duration": 8,
    "start_time": "2022-11-19T10:54:29.589Z"
   },
   {
    "duration": 6,
    "start_time": "2022-11-19T10:54:29.599Z"
   },
   {
    "duration": 12,
    "start_time": "2022-11-19T10:54:29.607Z"
   },
   {
    "duration": 10,
    "start_time": "2022-11-19T10:54:29.620Z"
   },
   {
    "duration": 18,
    "start_time": "2022-11-19T10:54:29.631Z"
   },
   {
    "duration": 31,
    "start_time": "2022-11-19T10:54:29.651Z"
   },
   {
    "duration": 70,
    "start_time": "2022-11-19T10:54:55.338Z"
   },
   {
    "duration": 474,
    "start_time": "2022-11-19T10:56:06.107Z"
   },
   {
    "duration": 16,
    "start_time": "2022-11-19T10:56:06.583Z"
   },
   {
    "duration": 12,
    "start_time": "2022-11-19T10:56:06.601Z"
   },
   {
    "duration": 7,
    "start_time": "2022-11-19T10:56:06.615Z"
   },
   {
    "duration": 10,
    "start_time": "2022-11-19T10:56:06.624Z"
   },
   {
    "duration": 50,
    "start_time": "2022-11-19T10:56:06.636Z"
   },
   {
    "duration": 10,
    "start_time": "2022-11-19T10:56:06.688Z"
   },
   {
    "duration": 13,
    "start_time": "2022-11-19T10:56:06.699Z"
   },
   {
    "duration": 13,
    "start_time": "2022-11-19T10:56:06.714Z"
   },
   {
    "duration": 19,
    "start_time": "2022-11-19T10:56:06.730Z"
   },
   {
    "duration": 26,
    "start_time": "2022-11-19T10:56:06.751Z"
   },
   {
    "duration": 7,
    "start_time": "2022-11-19T10:56:06.779Z"
   },
   {
    "duration": 10,
    "start_time": "2022-11-19T10:56:06.788Z"
   },
   {
    "duration": 8,
    "start_time": "2022-11-19T10:56:06.800Z"
   },
   {
    "duration": 9,
    "start_time": "2022-11-19T10:56:06.810Z"
   },
   {
    "duration": 6,
    "start_time": "2022-11-19T10:56:06.821Z"
   },
   {
    "duration": 438,
    "start_time": "2022-11-19T10:56:22.135Z"
   },
   {
    "duration": 15,
    "start_time": "2022-11-19T10:56:22.576Z"
   },
   {
    "duration": 23,
    "start_time": "2022-11-19T10:56:22.593Z"
   },
   {
    "duration": 11,
    "start_time": "2022-11-19T10:56:22.618Z"
   },
   {
    "duration": 20,
    "start_time": "2022-11-19T10:56:22.631Z"
   },
   {
    "duration": 59,
    "start_time": "2022-11-19T10:56:22.652Z"
   },
   {
    "duration": 9,
    "start_time": "2022-11-19T10:56:22.713Z"
   },
   {
    "duration": 41,
    "start_time": "2022-11-19T10:56:22.723Z"
   },
   {
    "duration": 23,
    "start_time": "2022-11-19T10:56:22.765Z"
   },
   {
    "duration": 25,
    "start_time": "2022-11-19T10:56:22.789Z"
   },
   {
    "duration": 13,
    "start_time": "2022-11-19T10:56:22.815Z"
   },
   {
    "duration": 13,
    "start_time": "2022-11-19T10:56:22.829Z"
   },
   {
    "duration": 33,
    "start_time": "2022-11-19T10:56:22.843Z"
   },
   {
    "duration": 18,
    "start_time": "2022-11-19T10:56:22.878Z"
   },
   {
    "duration": 33,
    "start_time": "2022-11-19T10:56:22.897Z"
   },
   {
    "duration": 16,
    "start_time": "2022-11-19T10:56:22.931Z"
   },
   {
    "duration": 8,
    "start_time": "2022-11-19T10:56:58.173Z"
   },
   {
    "duration": 5,
    "start_time": "2022-11-19T10:58:28.343Z"
   },
   {
    "duration": 4,
    "start_time": "2022-11-19T10:58:36.723Z"
   },
   {
    "duration": 448,
    "start_time": "2022-11-19T10:58:43.921Z"
   },
   {
    "duration": 14,
    "start_time": "2022-11-19T10:58:44.371Z"
   },
   {
    "duration": 12,
    "start_time": "2022-11-19T10:58:44.387Z"
   },
   {
    "duration": 7,
    "start_time": "2022-11-19T10:58:44.400Z"
   },
   {
    "duration": 5,
    "start_time": "2022-11-19T10:58:44.409Z"
   },
   {
    "duration": 46,
    "start_time": "2022-11-19T10:58:44.415Z"
   },
   {
    "duration": 9,
    "start_time": "2022-11-19T10:58:44.462Z"
   },
   {
    "duration": 12,
    "start_time": "2022-11-19T10:58:44.472Z"
   },
   {
    "duration": 11,
    "start_time": "2022-11-19T10:58:44.486Z"
   },
   {
    "duration": 12,
    "start_time": "2022-11-19T10:58:44.498Z"
   },
   {
    "duration": 12,
    "start_time": "2022-11-19T10:58:44.512Z"
   },
   {
    "duration": 9,
    "start_time": "2022-11-19T10:58:44.525Z"
   },
   {
    "duration": 14,
    "start_time": "2022-11-19T10:58:44.537Z"
   },
   {
    "duration": 29,
    "start_time": "2022-11-19T10:58:44.554Z"
   },
   {
    "duration": 7,
    "start_time": "2022-11-19T10:58:44.585Z"
   },
   {
    "duration": 9,
    "start_time": "2022-11-19T10:58:44.594Z"
   },
   {
    "duration": 812,
    "start_time": "2022-11-19T10:58:52.792Z"
   },
   {
    "duration": 677,
    "start_time": "2022-11-19T10:59:05.516Z"
   },
   {
    "duration": 46,
    "start_time": "2022-11-19T11:02:18.786Z"
   },
   {
    "duration": 54,
    "start_time": "2022-11-19T11:02:23.243Z"
   },
   {
    "duration": 10,
    "start_time": "2022-11-19T11:03:23.870Z"
   },
   {
    "duration": 9,
    "start_time": "2022-11-19T11:04:22.147Z"
   },
   {
    "duration": 10,
    "start_time": "2022-11-19T11:04:33.088Z"
   },
   {
    "duration": 18,
    "start_time": "2022-11-19T11:05:04.277Z"
   },
   {
    "duration": 3,
    "start_time": "2022-11-19T11:07:17.316Z"
   },
   {
    "duration": 65,
    "start_time": "2022-11-19T11:07:37.454Z"
   },
   {
    "duration": 8,
    "start_time": "2022-11-19T11:07:41.552Z"
   },
   {
    "duration": 3,
    "start_time": "2022-11-19T11:08:30.447Z"
   },
   {
    "duration": 17,
    "start_time": "2022-11-19T11:09:48.103Z"
   },
   {
    "duration": 8,
    "start_time": "2022-11-19T11:10:16.388Z"
   },
   {
    "duration": 7,
    "start_time": "2022-11-19T11:10:49.037Z"
   },
   {
    "duration": 7,
    "start_time": "2022-11-19T11:11:16.912Z"
   },
   {
    "duration": 14,
    "start_time": "2022-11-19T11:15:34.113Z"
   },
   {
    "duration": 575,
    "start_time": "2022-11-19T11:15:48.980Z"
   },
   {
    "duration": 21,
    "start_time": "2022-11-19T11:15:49.558Z"
   },
   {
    "duration": 14,
    "start_time": "2022-11-19T11:15:49.581Z"
   },
   {
    "duration": 7,
    "start_time": "2022-11-19T11:15:49.597Z"
   },
   {
    "duration": 6,
    "start_time": "2022-11-19T11:15:49.607Z"
   },
   {
    "duration": 49,
    "start_time": "2022-11-19T11:15:49.614Z"
   },
   {
    "duration": 10,
    "start_time": "2022-11-19T11:15:49.665Z"
   },
   {
    "duration": 12,
    "start_time": "2022-11-19T11:15:49.677Z"
   },
   {
    "duration": 12,
    "start_time": "2022-11-19T11:15:49.690Z"
   },
   {
    "duration": 21,
    "start_time": "2022-11-19T11:15:49.704Z"
   },
   {
    "duration": 10,
    "start_time": "2022-11-19T11:15:49.727Z"
   },
   {
    "duration": 22,
    "start_time": "2022-11-19T11:15:49.738Z"
   },
   {
    "duration": 9,
    "start_time": "2022-11-19T11:15:49.777Z"
   },
   {
    "duration": 7,
    "start_time": "2022-11-19T11:15:49.790Z"
   },
   {
    "duration": 90,
    "start_time": "2022-11-19T11:15:49.799Z"
   },
   {
    "duration": 0,
    "start_time": "2022-11-19T11:15:49.891Z"
   },
   {
    "duration": 12,
    "start_time": "2022-11-19T11:18:48.276Z"
   },
   {
    "duration": 31,
    "start_time": "2022-11-19T11:24:18.583Z"
   },
   {
    "duration": 27,
    "start_time": "2022-11-19T11:24:37.717Z"
   },
   {
    "duration": 536,
    "start_time": "2022-11-19T11:25:18.374Z"
   },
   {
    "duration": 15,
    "start_time": "2022-11-19T11:25:18.913Z"
   },
   {
    "duration": 10,
    "start_time": "2022-11-19T11:25:18.929Z"
   },
   {
    "duration": 7,
    "start_time": "2022-11-19T11:25:18.941Z"
   },
   {
    "duration": 30,
    "start_time": "2022-11-19T11:25:18.949Z"
   },
   {
    "duration": 55,
    "start_time": "2022-11-19T11:25:18.982Z"
   },
   {
    "duration": 12,
    "start_time": "2022-11-19T11:25:19.039Z"
   },
   {
    "duration": 95,
    "start_time": "2022-11-19T11:25:19.053Z"
   },
   {
    "duration": 67,
    "start_time": "2022-11-19T11:25:19.150Z"
   },
   {
    "duration": 55,
    "start_time": "2022-11-19T11:25:19.221Z"
   },
   {
    "duration": 53,
    "start_time": "2022-11-19T11:25:19.278Z"
   },
   {
    "duration": 75,
    "start_time": "2022-11-19T11:25:19.333Z"
   },
   {
    "duration": 65,
    "start_time": "2022-11-19T11:25:19.409Z"
   },
   {
    "duration": 103,
    "start_time": "2022-11-19T11:25:19.476Z"
   },
   {
    "duration": 4,
    "start_time": "2022-11-19T11:27:28.891Z"
   },
   {
    "duration": 534,
    "start_time": "2022-11-19T11:27:35.568Z"
   },
   {
    "duration": 14,
    "start_time": "2022-11-19T11:27:36.104Z"
   },
   {
    "duration": 10,
    "start_time": "2022-11-19T11:27:36.120Z"
   },
   {
    "duration": 6,
    "start_time": "2022-11-19T11:27:36.131Z"
   },
   {
    "duration": 18,
    "start_time": "2022-11-19T11:27:36.139Z"
   },
   {
    "duration": 47,
    "start_time": "2022-11-19T11:27:36.158Z"
   },
   {
    "duration": 9,
    "start_time": "2022-11-19T11:27:36.207Z"
   },
   {
    "duration": 13,
    "start_time": "2022-11-19T11:27:36.217Z"
   },
   {
    "duration": 14,
    "start_time": "2022-11-19T11:27:36.231Z"
   },
   {
    "duration": 13,
    "start_time": "2022-11-19T11:27:36.246Z"
   },
   {
    "duration": 10,
    "start_time": "2022-11-19T11:27:36.260Z"
   },
   {
    "duration": 20,
    "start_time": "2022-11-19T11:27:36.271Z"
   },
   {
    "duration": 12,
    "start_time": "2022-11-19T11:27:36.293Z"
   },
   {
    "duration": 31,
    "start_time": "2022-11-19T11:27:36.307Z"
   },
   {
    "duration": 7,
    "start_time": "2022-11-19T11:27:36.340Z"
   },
   {
    "duration": 19,
    "start_time": "2022-11-19T11:27:54.834Z"
   },
   {
    "duration": 69,
    "start_time": "2022-11-19T11:30:01.862Z"
   },
   {
    "duration": 6,
    "start_time": "2022-11-19T11:30:12.646Z"
   },
   {
    "duration": 9,
    "start_time": "2022-11-19T11:30:22.908Z"
   },
   {
    "duration": 8,
    "start_time": "2022-11-19T11:30:48.224Z"
   },
   {
    "duration": 9,
    "start_time": "2022-11-19T11:30:49.028Z"
   },
   {
    "duration": 9,
    "start_time": "2022-11-19T11:31:00.125Z"
   },
   {
    "duration": 13,
    "start_time": "2022-11-19T11:31:01.646Z"
   },
   {
    "duration": 42,
    "start_time": "2022-11-19T11:36:08.112Z"
   },
   {
    "duration": 9,
    "start_time": "2022-11-19T11:36:08.658Z"
   },
   {
    "duration": 604,
    "start_time": "2022-11-19T18:52:27.005Z"
   },
   {
    "duration": 15,
    "start_time": "2022-11-19T18:52:27.611Z"
   },
   {
    "duration": 10,
    "start_time": "2022-11-19T18:52:27.627Z"
   },
   {
    "duration": 6,
    "start_time": "2022-11-19T18:52:27.639Z"
   },
   {
    "duration": 5,
    "start_time": "2022-11-19T18:52:27.646Z"
   },
   {
    "duration": 85,
    "start_time": "2022-11-19T18:52:27.652Z"
   },
   {
    "duration": 9,
    "start_time": "2022-11-19T18:52:27.738Z"
   },
   {
    "duration": 17,
    "start_time": "2022-11-19T18:52:27.749Z"
   },
   {
    "duration": 25,
    "start_time": "2022-11-19T18:52:27.767Z"
   },
   {
    "duration": 22,
    "start_time": "2022-11-19T18:52:27.794Z"
   },
   {
    "duration": 13,
    "start_time": "2022-11-19T18:52:27.817Z"
   },
   {
    "duration": 11,
    "start_time": "2022-11-19T18:52:27.831Z"
   },
   {
    "duration": 14,
    "start_time": "2022-11-19T18:52:27.844Z"
   },
   {
    "duration": 9,
    "start_time": "2022-11-19T18:52:27.859Z"
   },
   {
    "duration": 21,
    "start_time": "2022-11-19T18:52:27.869Z"
   },
   {
    "duration": 37,
    "start_time": "2022-11-19T18:52:27.891Z"
   },
   {
    "duration": 9,
    "start_time": "2022-11-19T18:52:27.929Z"
   },
   {
    "duration": 17,
    "start_time": "2022-11-19T18:52:27.939Z"
   },
   {
    "duration": 70,
    "start_time": "2022-11-19T19:02:22.550Z"
   },
   {
    "duration": 7,
    "start_time": "2022-11-19T19:09:40.615Z"
   },
   {
    "duration": 8,
    "start_time": "2022-11-19T19:09:51.856Z"
   },
   {
    "duration": 7,
    "start_time": "2022-11-19T19:11:46.712Z"
   },
   {
    "duration": 448,
    "start_time": "2022-11-19T19:12:06.828Z"
   },
   {
    "duration": 14,
    "start_time": "2022-11-19T19:12:07.278Z"
   },
   {
    "duration": 11,
    "start_time": "2022-11-19T19:12:07.294Z"
   },
   {
    "duration": 7,
    "start_time": "2022-11-19T19:12:07.307Z"
   },
   {
    "duration": 6,
    "start_time": "2022-11-19T19:12:07.315Z"
   },
   {
    "duration": 47,
    "start_time": "2022-11-19T19:12:07.323Z"
   },
   {
    "duration": 10,
    "start_time": "2022-11-19T19:12:07.372Z"
   },
   {
    "duration": 12,
    "start_time": "2022-11-19T19:12:07.383Z"
   },
   {
    "duration": 12,
    "start_time": "2022-11-19T19:12:07.397Z"
   },
   {
    "duration": 12,
    "start_time": "2022-11-19T19:12:07.411Z"
   },
   {
    "duration": 9,
    "start_time": "2022-11-19T19:12:07.424Z"
   },
   {
    "duration": 10,
    "start_time": "2022-11-19T19:12:07.434Z"
   },
   {
    "duration": 8,
    "start_time": "2022-11-19T19:12:07.446Z"
   },
   {
    "duration": 8,
    "start_time": "2022-11-19T19:12:07.456Z"
   },
   {
    "duration": 34,
    "start_time": "2022-11-19T19:12:07.465Z"
   },
   {
    "duration": 6,
    "start_time": "2022-11-19T19:12:07.501Z"
   },
   {
    "duration": 11,
    "start_time": "2022-11-19T19:12:07.509Z"
   },
   {
    "duration": 10,
    "start_time": "2022-11-19T19:12:07.521Z"
   },
   {
    "duration": 9,
    "start_time": "2022-11-19T19:12:07.532Z"
   },
   {
    "duration": 56,
    "start_time": "2022-11-19T19:12:07.543Z"
   },
   {
    "duration": 4,
    "start_time": "2022-11-19T19:12:07.600Z"
   },
   {
    "duration": 21,
    "start_time": "2022-11-19T19:12:07.606Z"
   },
   {
    "duration": 5,
    "start_time": "2022-11-19T19:31:39.488Z"
   },
   {
    "duration": 8,
    "start_time": "2022-11-19T19:34:19.583Z"
   },
   {
    "duration": 7,
    "start_time": "2022-11-19T19:34:42.941Z"
   },
   {
    "duration": 26,
    "start_time": "2022-11-19T19:36:12.264Z"
   },
   {
    "duration": 6,
    "start_time": "2022-11-19T19:39:10.783Z"
   },
   {
    "duration": 8,
    "start_time": "2022-11-19T19:40:02.961Z"
   },
   {
    "duration": 6,
    "start_time": "2022-11-19T19:40:16.703Z"
   },
   {
    "duration": 6,
    "start_time": "2022-11-19T19:40:20.565Z"
   },
   {
    "duration": 7,
    "start_time": "2022-11-19T19:40:26.940Z"
   },
   {
    "duration": 75,
    "start_time": "2022-11-19T19:42:29.591Z"
   },
   {
    "duration": 5,
    "start_time": "2022-11-19T19:42:35.507Z"
   },
   {
    "duration": 5,
    "start_time": "2022-11-19T19:42:51.389Z"
   },
   {
    "duration": 8,
    "start_time": "2022-11-19T19:47:55.560Z"
   },
   {
    "duration": 8,
    "start_time": "2022-11-19T19:48:31.149Z"
   },
   {
    "duration": 17,
    "start_time": "2022-11-19T19:49:04.333Z"
   },
   {
    "duration": 51,
    "start_time": "2022-11-19T19:49:19.450Z"
   },
   {
    "duration": 19,
    "start_time": "2022-11-19T19:49:24.252Z"
   },
   {
    "duration": 7,
    "start_time": "2022-11-19T19:50:38.196Z"
   },
   {
    "duration": 5,
    "start_time": "2022-11-19T19:58:31.409Z"
   },
   {
    "duration": 15,
    "start_time": "2022-11-19T19:58:45.952Z"
   },
   {
    "duration": 7,
    "start_time": "2022-11-19T20:00:10.581Z"
   },
   {
    "duration": 16,
    "start_time": "2022-11-19T20:06:58.275Z"
   },
   {
    "duration": 47,
    "start_time": "2022-11-19T20:07:41.810Z"
   },
   {
    "duration": 6,
    "start_time": "2022-11-19T20:07:47.420Z"
   },
   {
    "duration": 4,
    "start_time": "2022-11-19T20:07:54.024Z"
   },
   {
    "duration": 10,
    "start_time": "2022-11-19T20:09:52.919Z"
   },
   {
    "duration": 513,
    "start_time": "2022-11-19T20:10:06.593Z"
   },
   {
    "duration": 14,
    "start_time": "2022-11-19T20:10:07.108Z"
   },
   {
    "duration": 16,
    "start_time": "2022-11-19T20:10:07.124Z"
   },
   {
    "duration": 7,
    "start_time": "2022-11-19T20:10:07.142Z"
   },
   {
    "duration": 5,
    "start_time": "2022-11-19T20:10:07.151Z"
   },
   {
    "duration": 46,
    "start_time": "2022-11-19T20:10:07.157Z"
   },
   {
    "duration": 9,
    "start_time": "2022-11-19T20:10:07.205Z"
   },
   {
    "duration": 14,
    "start_time": "2022-11-19T20:10:07.215Z"
   },
   {
    "duration": 13,
    "start_time": "2022-11-19T20:10:07.230Z"
   },
   {
    "duration": 11,
    "start_time": "2022-11-19T20:10:07.244Z"
   },
   {
    "duration": 7,
    "start_time": "2022-11-19T20:10:07.256Z"
   },
   {
    "duration": 41,
    "start_time": "2022-11-19T20:10:07.264Z"
   },
   {
    "duration": 14,
    "start_time": "2022-11-19T20:10:07.307Z"
   },
   {
    "duration": 10,
    "start_time": "2022-11-19T20:10:07.324Z"
   },
   {
    "duration": 7,
    "start_time": "2022-11-19T20:10:07.335Z"
   },
   {
    "duration": 8,
    "start_time": "2022-11-19T20:10:07.343Z"
   },
   {
    "duration": 21,
    "start_time": "2022-11-19T20:10:07.353Z"
   },
   {
    "duration": 22,
    "start_time": "2022-11-19T20:10:07.375Z"
   },
   {
    "duration": 15,
    "start_time": "2022-11-19T20:10:07.398Z"
   },
   {
    "duration": 11,
    "start_time": "2022-11-19T20:10:07.414Z"
   },
   {
    "duration": 34,
    "start_time": "2022-11-19T20:10:07.427Z"
   },
   {
    "duration": 9,
    "start_time": "2022-11-19T20:10:07.463Z"
   },
   {
    "duration": 17,
    "start_time": "2022-11-19T20:10:07.474Z"
   },
   {
    "duration": 13,
    "start_time": "2022-11-19T20:10:07.497Z"
   },
   {
    "duration": 4,
    "start_time": "2022-11-19T20:10:07.511Z"
   },
   {
    "duration": 7,
    "start_time": "2022-11-19T20:10:07.517Z"
   },
   {
    "duration": 5,
    "start_time": "2022-11-19T20:10:07.525Z"
   },
   {
    "duration": 78,
    "start_time": "2022-11-19T20:10:07.532Z"
   },
   {
    "duration": 0,
    "start_time": "2022-11-19T20:10:07.612Z"
   },
   {
    "duration": 479,
    "start_time": "2022-11-19T20:11:09.511Z"
   },
   {
    "duration": 14,
    "start_time": "2022-11-19T20:11:09.992Z"
   },
   {
    "duration": 11,
    "start_time": "2022-11-19T20:11:10.007Z"
   },
   {
    "duration": 8,
    "start_time": "2022-11-19T20:11:10.019Z"
   },
   {
    "duration": 18,
    "start_time": "2022-11-19T20:11:10.029Z"
   },
   {
    "duration": 50,
    "start_time": "2022-11-19T20:11:10.049Z"
   },
   {
    "duration": 13,
    "start_time": "2022-11-19T20:11:10.100Z"
   },
   {
    "duration": 15,
    "start_time": "2022-11-19T20:11:10.115Z"
   },
   {
    "duration": 16,
    "start_time": "2022-11-19T20:11:10.131Z"
   },
   {
    "duration": 14,
    "start_time": "2022-11-19T20:11:10.149Z"
   },
   {
    "duration": 9,
    "start_time": "2022-11-19T20:11:10.164Z"
   },
   {
    "duration": 9,
    "start_time": "2022-11-19T20:11:10.198Z"
   },
   {
    "duration": 15,
    "start_time": "2022-11-19T20:11:10.209Z"
   },
   {
    "duration": 9,
    "start_time": "2022-11-19T20:11:10.226Z"
   },
   {
    "duration": 8,
    "start_time": "2022-11-19T20:11:10.237Z"
   },
   {
    "duration": 13,
    "start_time": "2022-11-19T20:11:10.247Z"
   },
   {
    "duration": 15,
    "start_time": "2022-11-19T20:11:10.261Z"
   },
   {
    "duration": 20,
    "start_time": "2022-11-19T20:11:10.278Z"
   },
   {
    "duration": 9,
    "start_time": "2022-11-19T20:11:10.299Z"
   },
   {
    "duration": 18,
    "start_time": "2022-11-19T20:11:10.309Z"
   },
   {
    "duration": 34,
    "start_time": "2022-11-19T20:11:10.329Z"
   },
   {
    "duration": 13,
    "start_time": "2022-11-19T20:11:10.364Z"
   },
   {
    "duration": 29,
    "start_time": "2022-11-19T20:11:10.378Z"
   },
   {
    "duration": 8,
    "start_time": "2022-11-19T20:11:10.409Z"
   },
   {
    "duration": 50,
    "start_time": "2022-11-19T20:11:10.419Z"
   },
   {
    "duration": 55,
    "start_time": "2022-11-19T20:11:10.471Z"
   },
   {
    "duration": 23,
    "start_time": "2022-11-19T20:13:33.790Z"
   },
   {
    "duration": 7,
    "start_time": "2022-11-19T20:14:16.208Z"
   },
   {
    "duration": 6,
    "start_time": "2022-11-19T20:14:30.590Z"
   },
   {
    "duration": 14,
    "start_time": "2022-11-19T20:15:43.396Z"
   },
   {
    "duration": 3,
    "start_time": "2022-11-19T20:17:40.774Z"
   },
   {
    "duration": 887,
    "start_time": "2022-11-19T20:24:13.465Z"
   },
   {
    "duration": 477,
    "start_time": "2022-11-19T20:24:47.131Z"
   },
   {
    "duration": 473,
    "start_time": "2022-11-19T20:24:53.214Z"
   },
   {
    "duration": 15,
    "start_time": "2022-11-19T20:24:53.689Z"
   },
   {
    "duration": 11,
    "start_time": "2022-11-19T20:24:53.705Z"
   },
   {
    "duration": 6,
    "start_time": "2022-11-19T20:24:53.718Z"
   },
   {
    "duration": 12,
    "start_time": "2022-11-19T20:24:53.726Z"
   },
   {
    "duration": 49,
    "start_time": "2022-11-19T20:24:53.739Z"
   },
   {
    "duration": 10,
    "start_time": "2022-11-19T20:24:53.789Z"
   },
   {
    "duration": 19,
    "start_time": "2022-11-19T20:24:53.800Z"
   },
   {
    "duration": 12,
    "start_time": "2022-11-19T20:24:53.821Z"
   },
   {
    "duration": 11,
    "start_time": "2022-11-19T20:24:53.834Z"
   },
   {
    "duration": 9,
    "start_time": "2022-11-19T20:24:53.847Z"
   },
   {
    "duration": 13,
    "start_time": "2022-11-19T20:24:53.857Z"
   },
   {
    "duration": 38,
    "start_time": "2022-11-19T20:24:53.872Z"
   },
   {
    "duration": 8,
    "start_time": "2022-11-19T20:24:53.913Z"
   },
   {
    "duration": 5,
    "start_time": "2022-11-19T20:24:53.923Z"
   },
   {
    "duration": 11,
    "start_time": "2022-11-19T20:24:53.929Z"
   },
   {
    "duration": 12,
    "start_time": "2022-11-19T20:24:53.942Z"
   },
   {
    "duration": 14,
    "start_time": "2022-11-19T20:24:53.955Z"
   },
   {
    "duration": 25,
    "start_time": "2022-11-19T20:24:53.972Z"
   },
   {
    "duration": 7,
    "start_time": "2022-11-19T20:24:53.999Z"
   },
   {
    "duration": 31,
    "start_time": "2022-11-19T20:24:54.008Z"
   },
   {
    "duration": 3,
    "start_time": "2022-11-19T20:24:54.041Z"
   },
   {
    "duration": 18,
    "start_time": "2022-11-19T20:24:54.046Z"
   },
   {
    "duration": 7,
    "start_time": "2022-11-19T20:24:54.065Z"
   },
   {
    "duration": 35,
    "start_time": "2022-11-19T20:24:54.074Z"
   },
   {
    "duration": 14,
    "start_time": "2022-11-19T20:24:54.110Z"
   },
   {
    "duration": 7,
    "start_time": "2022-11-19T20:24:54.125Z"
   },
   {
    "duration": 573,
    "start_time": "2022-11-19T20:24:54.134Z"
   },
   {
    "duration": 0,
    "start_time": "2022-11-19T20:24:54.709Z"
   },
   {
    "duration": 513,
    "start_time": "2022-11-19T20:32:12.183Z"
   },
   {
    "duration": 489,
    "start_time": "2022-11-19T20:32:42.056Z"
   },
   {
    "duration": 480,
    "start_time": "2022-11-19T20:33:03.704Z"
   },
   {
    "duration": 14,
    "start_time": "2022-11-19T20:33:04.186Z"
   },
   {
    "duration": 12,
    "start_time": "2022-11-19T20:33:04.202Z"
   },
   {
    "duration": 6,
    "start_time": "2022-11-19T20:33:04.216Z"
   },
   {
    "duration": 8,
    "start_time": "2022-11-19T20:33:04.224Z"
   },
   {
    "duration": 50,
    "start_time": "2022-11-19T20:33:04.234Z"
   },
   {
    "duration": 10,
    "start_time": "2022-11-19T20:33:04.286Z"
   },
   {
    "duration": 14,
    "start_time": "2022-11-19T20:33:04.297Z"
   },
   {
    "duration": 13,
    "start_time": "2022-11-19T20:33:04.312Z"
   },
   {
    "duration": 13,
    "start_time": "2022-11-19T20:33:04.328Z"
   },
   {
    "duration": 7,
    "start_time": "2022-11-19T20:33:04.343Z"
   },
   {
    "duration": 11,
    "start_time": "2022-11-19T20:33:04.352Z"
   },
   {
    "duration": 34,
    "start_time": "2022-11-19T20:33:04.364Z"
   },
   {
    "duration": 7,
    "start_time": "2022-11-19T20:33:04.399Z"
   },
   {
    "duration": 9,
    "start_time": "2022-11-19T20:33:04.408Z"
   },
   {
    "duration": 8,
    "start_time": "2022-11-19T20:33:04.419Z"
   },
   {
    "duration": 11,
    "start_time": "2022-11-19T20:33:04.429Z"
   },
   {
    "duration": 11,
    "start_time": "2022-11-19T20:33:04.441Z"
   },
   {
    "duration": 11,
    "start_time": "2022-11-19T20:33:04.454Z"
   },
   {
    "duration": 9,
    "start_time": "2022-11-19T20:33:04.466Z"
   },
   {
    "duration": 39,
    "start_time": "2022-11-19T20:33:04.477Z"
   },
   {
    "duration": 5,
    "start_time": "2022-11-19T20:33:04.518Z"
   },
   {
    "duration": 15,
    "start_time": "2022-11-19T20:33:04.525Z"
   },
   {
    "duration": 6,
    "start_time": "2022-11-19T20:33:04.542Z"
   },
   {
    "duration": 15,
    "start_time": "2022-11-19T20:33:04.549Z"
   },
   {
    "duration": 33,
    "start_time": "2022-11-19T20:33:04.565Z"
   },
   {
    "duration": 3,
    "start_time": "2022-11-19T20:33:04.600Z"
   },
   {
    "duration": 645,
    "start_time": "2022-11-19T20:33:04.606Z"
   },
   {
    "duration": 9,
    "start_time": "2022-11-19T20:33:27.797Z"
   },
   {
    "duration": 483,
    "start_time": "2022-11-19T20:33:49.213Z"
   },
   {
    "duration": 22,
    "start_time": "2022-11-19T20:33:49.698Z"
   },
   {
    "duration": 19,
    "start_time": "2022-11-19T20:33:49.721Z"
   },
   {
    "duration": 21,
    "start_time": "2022-11-19T20:33:49.741Z"
   },
   {
    "duration": 27,
    "start_time": "2022-11-19T20:33:49.764Z"
   },
   {
    "duration": 64,
    "start_time": "2022-11-19T20:33:49.793Z"
   },
   {
    "duration": 10,
    "start_time": "2022-11-19T20:33:49.858Z"
   },
   {
    "duration": 49,
    "start_time": "2022-11-19T20:33:49.869Z"
   },
   {
    "duration": 54,
    "start_time": "2022-11-19T20:33:49.919Z"
   },
   {
    "duration": 51,
    "start_time": "2022-11-19T20:33:49.975Z"
   },
   {
    "duration": 52,
    "start_time": "2022-11-19T20:33:50.027Z"
   },
   {
    "duration": 41,
    "start_time": "2022-11-19T20:33:50.082Z"
   },
   {
    "duration": 38,
    "start_time": "2022-11-19T20:33:50.125Z"
   },
   {
    "duration": 18,
    "start_time": "2022-11-19T20:33:50.167Z"
   },
   {
    "duration": 45,
    "start_time": "2022-11-19T20:33:50.187Z"
   },
   {
    "duration": 25,
    "start_time": "2022-11-19T20:33:50.233Z"
   },
   {
    "duration": 18,
    "start_time": "2022-11-19T20:33:50.260Z"
   },
   {
    "duration": 21,
    "start_time": "2022-11-19T20:33:50.279Z"
   },
   {
    "duration": 50,
    "start_time": "2022-11-19T20:33:50.301Z"
   },
   {
    "duration": 27,
    "start_time": "2022-11-19T20:33:50.353Z"
   },
   {
    "duration": 37,
    "start_time": "2022-11-19T20:33:50.382Z"
   },
   {
    "duration": 7,
    "start_time": "2022-11-19T20:33:50.421Z"
   },
   {
    "duration": 14,
    "start_time": "2022-11-19T20:33:50.429Z"
   },
   {
    "duration": 7,
    "start_time": "2022-11-19T20:33:50.445Z"
   },
   {
    "duration": 16,
    "start_time": "2022-11-19T20:33:50.454Z"
   },
   {
    "duration": 37,
    "start_time": "2022-11-19T20:33:50.471Z"
   },
   {
    "duration": 8,
    "start_time": "2022-11-19T20:33:50.510Z"
   },
   {
    "duration": 14,
    "start_time": "2022-11-19T20:33:50.520Z"
   },
   {
    "duration": 5,
    "start_time": "2022-11-19T20:33:50.535Z"
   },
   {
    "duration": 7,
    "start_time": "2022-11-19T20:34:06.412Z"
   },
   {
    "duration": 6,
    "start_time": "2022-11-19T20:35:41.578Z"
   },
   {
    "duration": 11,
    "start_time": "2022-11-19T20:35:51.102Z"
   },
   {
    "duration": 497,
    "start_time": "2022-11-19T20:36:05.376Z"
   },
   {
    "duration": 14,
    "start_time": "2022-11-19T20:36:05.875Z"
   },
   {
    "duration": 15,
    "start_time": "2022-11-19T20:36:05.890Z"
   },
   {
    "duration": 19,
    "start_time": "2022-11-19T20:36:05.907Z"
   },
   {
    "duration": 12,
    "start_time": "2022-11-19T20:36:05.928Z"
   },
   {
    "duration": 65,
    "start_time": "2022-11-19T20:36:05.943Z"
   },
   {
    "duration": 11,
    "start_time": "2022-11-19T20:36:06.010Z"
   },
   {
    "duration": 13,
    "start_time": "2022-11-19T20:36:06.022Z"
   },
   {
    "duration": 13,
    "start_time": "2022-11-19T20:36:06.037Z"
   },
   {
    "duration": 13,
    "start_time": "2022-11-19T20:36:06.053Z"
   },
   {
    "duration": 31,
    "start_time": "2022-11-19T20:36:06.067Z"
   },
   {
    "duration": 23,
    "start_time": "2022-11-19T20:36:06.100Z"
   },
   {
    "duration": 18,
    "start_time": "2022-11-19T20:36:06.125Z"
   },
   {
    "duration": 18,
    "start_time": "2022-11-19T20:36:06.144Z"
   },
   {
    "duration": 6,
    "start_time": "2022-11-19T20:36:06.164Z"
   },
   {
    "duration": 9,
    "start_time": "2022-11-19T20:36:06.172Z"
   },
   {
    "duration": 11,
    "start_time": "2022-11-19T20:36:06.183Z"
   },
   {
    "duration": 27,
    "start_time": "2022-11-19T20:36:06.200Z"
   },
   {
    "duration": 10,
    "start_time": "2022-11-19T20:36:06.229Z"
   },
   {
    "duration": 7,
    "start_time": "2022-11-19T20:36:06.241Z"
   },
   {
    "duration": 30,
    "start_time": "2022-11-19T20:36:06.249Z"
   },
   {
    "duration": 7,
    "start_time": "2022-11-19T20:36:06.281Z"
   },
   {
    "duration": 28,
    "start_time": "2022-11-19T20:36:06.289Z"
   },
   {
    "duration": 11,
    "start_time": "2022-11-19T20:36:06.319Z"
   },
   {
    "duration": 25,
    "start_time": "2022-11-19T20:36:06.331Z"
   },
   {
    "duration": 14,
    "start_time": "2022-11-19T20:36:06.358Z"
   },
   {
    "duration": 28,
    "start_time": "2022-11-19T20:36:06.373Z"
   },
   {
    "duration": 23,
    "start_time": "2022-11-19T20:36:06.406Z"
   },
   {
    "duration": 6,
    "start_time": "2022-11-19T20:36:06.431Z"
   },
   {
    "duration": 7,
    "start_time": "2022-11-19T20:36:06.438Z"
   },
   {
    "duration": 7,
    "start_time": "2022-11-19T20:36:06.446Z"
   },
   {
    "duration": 8,
    "start_time": "2022-11-19T20:37:09.740Z"
   },
   {
    "duration": 10,
    "start_time": "2022-11-19T20:37:10.892Z"
   },
   {
    "duration": 9,
    "start_time": "2022-11-19T20:37:23.449Z"
   },
   {
    "duration": 7,
    "start_time": "2022-11-19T20:37:24.571Z"
   },
   {
    "duration": 7,
    "start_time": "2022-11-19T20:50:31.265Z"
   },
   {
    "duration": 476,
    "start_time": "2022-11-19T20:50:56.398Z"
   },
   {
    "duration": 13,
    "start_time": "2022-11-19T20:50:56.875Z"
   },
   {
    "duration": 9,
    "start_time": "2022-11-19T20:50:56.890Z"
   },
   {
    "duration": 6,
    "start_time": "2022-11-19T20:50:56.900Z"
   },
   {
    "duration": 5,
    "start_time": "2022-11-19T20:50:56.907Z"
   },
   {
    "duration": 45,
    "start_time": "2022-11-19T20:50:56.913Z"
   },
   {
    "duration": 9,
    "start_time": "2022-11-19T20:50:56.960Z"
   },
   {
    "duration": 9,
    "start_time": "2022-11-19T20:50:56.970Z"
   },
   {
    "duration": 11,
    "start_time": "2022-11-19T20:50:56.980Z"
   },
   {
    "duration": 12,
    "start_time": "2022-11-19T20:50:56.992Z"
   },
   {
    "duration": 9,
    "start_time": "2022-11-19T20:50:57.005Z"
   },
   {
    "duration": 10,
    "start_time": "2022-11-19T20:50:57.016Z"
   },
   {
    "duration": 7,
    "start_time": "2022-11-19T20:50:57.027Z"
   },
   {
    "duration": 6,
    "start_time": "2022-11-19T20:50:57.037Z"
   },
   {
    "duration": 7,
    "start_time": "2022-11-19T20:50:57.045Z"
   },
   {
    "duration": 8,
    "start_time": "2022-11-19T20:50:57.053Z"
   },
   {
    "duration": 9,
    "start_time": "2022-11-19T20:50:57.062Z"
   },
   {
    "duration": 7,
    "start_time": "2022-11-19T20:50:57.098Z"
   },
   {
    "duration": 8,
    "start_time": "2022-11-19T20:50:57.106Z"
   },
   {
    "duration": 5,
    "start_time": "2022-11-19T20:50:57.115Z"
   },
   {
    "duration": 26,
    "start_time": "2022-11-19T20:50:57.122Z"
   },
   {
    "duration": 7,
    "start_time": "2022-11-19T20:50:57.149Z"
   },
   {
    "duration": 14,
    "start_time": "2022-11-19T20:50:57.158Z"
   },
   {
    "duration": 29,
    "start_time": "2022-11-19T20:50:57.174Z"
   },
   {
    "duration": 16,
    "start_time": "2022-11-19T20:50:57.204Z"
   },
   {
    "duration": 12,
    "start_time": "2022-11-19T20:50:57.222Z"
   },
   {
    "duration": 6,
    "start_time": "2022-11-19T20:50:57.236Z"
   },
   {
    "duration": 14,
    "start_time": "2022-11-19T20:50:57.243Z"
   },
   {
    "duration": 5,
    "start_time": "2022-11-19T20:50:57.258Z"
   },
   {
    "duration": 31,
    "start_time": "2022-11-19T20:50:57.265Z"
   },
   {
    "duration": 6,
    "start_time": "2022-11-19T20:50:57.298Z"
   },
   {
    "duration": 9,
    "start_time": "2022-11-19T20:50:57.305Z"
   },
   {
    "duration": 10,
    "start_time": "2022-11-19T20:50:57.315Z"
   },
   {
    "duration": 8,
    "start_time": "2022-11-19T20:50:57.327Z"
   },
   {
    "duration": 7,
    "start_time": "2022-11-19T20:52:08.175Z"
   },
   {
    "duration": 7,
    "start_time": "2022-11-19T20:52:19.570Z"
   },
   {
    "duration": 11,
    "start_time": "2022-11-19T20:54:39.528Z"
   },
   {
    "duration": 495,
    "start_time": "2022-11-19T20:55:05.652Z"
   },
   {
    "duration": 14,
    "start_time": "2022-11-19T20:55:06.149Z"
   },
   {
    "duration": 10,
    "start_time": "2022-11-19T20:55:06.165Z"
   },
   {
    "duration": 6,
    "start_time": "2022-11-19T20:55:06.201Z"
   },
   {
    "duration": 13,
    "start_time": "2022-11-19T20:55:06.209Z"
   },
   {
    "duration": 46,
    "start_time": "2022-11-19T20:55:06.224Z"
   },
   {
    "duration": 8,
    "start_time": "2022-11-19T20:55:06.272Z"
   },
   {
    "duration": 13,
    "start_time": "2022-11-19T20:55:06.281Z"
   },
   {
    "duration": 12,
    "start_time": "2022-11-19T20:55:06.296Z"
   },
   {
    "duration": 14,
    "start_time": "2022-11-19T20:55:06.311Z"
   },
   {
    "duration": 7,
    "start_time": "2022-11-19T20:55:06.327Z"
   },
   {
    "duration": 9,
    "start_time": "2022-11-19T20:55:06.336Z"
   },
   {
    "duration": 13,
    "start_time": "2022-11-19T20:55:06.346Z"
   },
   {
    "duration": 10,
    "start_time": "2022-11-19T20:55:06.361Z"
   },
   {
    "duration": 25,
    "start_time": "2022-11-19T20:55:06.373Z"
   },
   {
    "duration": 10,
    "start_time": "2022-11-19T20:55:06.400Z"
   },
   {
    "duration": 14,
    "start_time": "2022-11-19T20:55:06.412Z"
   },
   {
    "duration": 14,
    "start_time": "2022-11-19T20:55:06.428Z"
   },
   {
    "duration": 7,
    "start_time": "2022-11-19T20:55:06.444Z"
   },
   {
    "duration": 5,
    "start_time": "2022-11-19T20:55:06.453Z"
   },
   {
    "duration": 65,
    "start_time": "2022-11-19T20:55:06.459Z"
   },
   {
    "duration": 4,
    "start_time": "2022-11-19T20:55:06.526Z"
   },
   {
    "duration": 18,
    "start_time": "2022-11-19T20:55:06.531Z"
   },
   {
    "duration": 7,
    "start_time": "2022-11-19T20:55:06.551Z"
   },
   {
    "duration": 16,
    "start_time": "2022-11-19T20:55:06.560Z"
   },
   {
    "duration": 13,
    "start_time": "2022-11-19T20:55:06.597Z"
   },
   {
    "duration": 12,
    "start_time": "2022-11-19T20:55:06.612Z"
   },
   {
    "duration": 13,
    "start_time": "2022-11-19T20:55:06.627Z"
   },
   {
    "duration": 6,
    "start_time": "2022-11-19T20:55:06.641Z"
   },
   {
    "duration": 13,
    "start_time": "2022-11-19T20:55:06.649Z"
   },
   {
    "duration": 8,
    "start_time": "2022-11-19T20:55:06.663Z"
   },
   {
    "duration": 7,
    "start_time": "2022-11-19T20:55:06.673Z"
   },
   {
    "duration": 20,
    "start_time": "2022-11-19T20:55:06.681Z"
   },
   {
    "duration": 6,
    "start_time": "2022-11-19T20:55:06.702Z"
   },
   {
    "duration": 8,
    "start_time": "2022-11-19T20:55:45.192Z"
   },
   {
    "duration": 7,
    "start_time": "2022-11-19T20:55:57.551Z"
   },
   {
    "duration": 7,
    "start_time": "2022-11-19T20:58:05.917Z"
   },
   {
    "duration": 7,
    "start_time": "2022-11-19T21:00:02.423Z"
   },
   {
    "duration": 8,
    "start_time": "2022-11-19T21:01:36.088Z"
   },
   {
    "duration": 8,
    "start_time": "2022-11-19T21:01:53.684Z"
   },
   {
    "duration": 7,
    "start_time": "2022-11-19T21:03:23.584Z"
   },
   {
    "duration": 7,
    "start_time": "2022-11-19T21:12:51.711Z"
   },
   {
    "duration": 8,
    "start_time": "2022-11-19T21:13:14.362Z"
   },
   {
    "duration": 5,
    "start_time": "2022-11-19T21:16:19.561Z"
   },
   {
    "duration": 233,
    "start_time": "2022-11-19T21:21:50.616Z"
   },
   {
    "duration": 471,
    "start_time": "2022-11-19T21:22:45.413Z"
   },
   {
    "duration": 14,
    "start_time": "2022-11-19T21:22:45.885Z"
   },
   {
    "duration": 13,
    "start_time": "2022-11-19T21:22:45.901Z"
   },
   {
    "duration": 6,
    "start_time": "2022-11-19T21:22:45.916Z"
   },
   {
    "duration": 9,
    "start_time": "2022-11-19T21:22:45.923Z"
   },
   {
    "duration": 46,
    "start_time": "2022-11-19T21:22:45.934Z"
   },
   {
    "duration": 9,
    "start_time": "2022-11-19T21:22:45.982Z"
   },
   {
    "duration": 12,
    "start_time": "2022-11-19T21:22:45.993Z"
   },
   {
    "duration": 13,
    "start_time": "2022-11-19T21:22:46.006Z"
   },
   {
    "duration": 12,
    "start_time": "2022-11-19T21:22:46.022Z"
   },
   {
    "duration": 8,
    "start_time": "2022-11-19T21:22:46.035Z"
   },
   {
    "duration": 10,
    "start_time": "2022-11-19T21:22:46.044Z"
   },
   {
    "duration": 11,
    "start_time": "2022-11-19T21:22:46.055Z"
   },
   {
    "duration": 30,
    "start_time": "2022-11-19T21:22:46.067Z"
   },
   {
    "duration": 3,
    "start_time": "2022-11-19T21:22:46.099Z"
   },
   {
    "duration": 9,
    "start_time": "2022-11-19T21:22:46.104Z"
   },
   {
    "duration": 11,
    "start_time": "2022-11-19T21:22:46.115Z"
   },
   {
    "duration": 13,
    "start_time": "2022-11-19T21:22:46.128Z"
   },
   {
    "duration": 8,
    "start_time": "2022-11-19T21:22:46.143Z"
   },
   {
    "duration": 6,
    "start_time": "2022-11-19T21:22:46.152Z"
   },
   {
    "duration": 47,
    "start_time": "2022-11-19T21:22:46.160Z"
   },
   {
    "duration": 3,
    "start_time": "2022-11-19T21:22:46.209Z"
   },
   {
    "duration": 14,
    "start_time": "2022-11-19T21:22:46.213Z"
   },
   {
    "duration": 7,
    "start_time": "2022-11-19T21:22:46.228Z"
   },
   {
    "duration": 17,
    "start_time": "2022-11-19T21:22:46.236Z"
   },
   {
    "duration": 12,
    "start_time": "2022-11-19T21:22:46.254Z"
   },
   {
    "duration": 31,
    "start_time": "2022-11-19T21:22:46.267Z"
   },
   {
    "duration": 12,
    "start_time": "2022-11-19T21:22:46.300Z"
   },
   {
    "duration": 5,
    "start_time": "2022-11-19T21:22:46.314Z"
   },
   {
    "duration": 8,
    "start_time": "2022-11-19T21:22:46.320Z"
   },
   {
    "duration": 10,
    "start_time": "2022-11-19T21:22:46.330Z"
   },
   {
    "duration": 7,
    "start_time": "2022-11-19T21:22:46.342Z"
   },
   {
    "duration": 7,
    "start_time": "2022-11-19T21:22:46.350Z"
   },
   {
    "duration": 8,
    "start_time": "2022-11-19T21:22:46.358Z"
   },
   {
    "duration": 34,
    "start_time": "2022-11-19T21:22:46.367Z"
   },
   {
    "duration": 8,
    "start_time": "2022-11-19T21:22:46.403Z"
   },
   {
    "duration": 8,
    "start_time": "2022-11-19T21:22:46.412Z"
   },
   {
    "duration": 295,
    "start_time": "2022-11-19T21:22:46.421Z"
   },
   {
    "duration": 5,
    "start_time": "2022-11-19T21:23:53.498Z"
   },
   {
    "duration": 4,
    "start_time": "2022-11-19T21:24:13.015Z"
   },
   {
    "duration": 435,
    "start_time": "2022-11-19T21:24:17.829Z"
   },
   {
    "duration": 14,
    "start_time": "2022-11-19T21:24:18.266Z"
   },
   {
    "duration": 13,
    "start_time": "2022-11-19T21:24:18.281Z"
   },
   {
    "duration": 5,
    "start_time": "2022-11-19T21:24:18.298Z"
   },
   {
    "duration": 7,
    "start_time": "2022-11-19T21:24:18.305Z"
   },
   {
    "duration": 48,
    "start_time": "2022-11-19T21:24:18.313Z"
   },
   {
    "duration": 9,
    "start_time": "2022-11-19T21:24:18.363Z"
   },
   {
    "duration": 10,
    "start_time": "2022-11-19T21:24:18.374Z"
   },
   {
    "duration": 12,
    "start_time": "2022-11-19T21:24:18.386Z"
   },
   {
    "duration": 13,
    "start_time": "2022-11-19T21:24:18.401Z"
   },
   {
    "duration": 9,
    "start_time": "2022-11-19T21:24:18.415Z"
   },
   {
    "duration": 8,
    "start_time": "2022-11-19T21:24:18.426Z"
   },
   {
    "duration": 9,
    "start_time": "2022-11-19T21:24:18.435Z"
   },
   {
    "duration": 8,
    "start_time": "2022-11-19T21:24:18.445Z"
   },
   {
    "duration": 5,
    "start_time": "2022-11-19T21:24:18.454Z"
   },
   {
    "duration": 8,
    "start_time": "2022-11-19T21:24:18.461Z"
   },
   {
    "duration": 7,
    "start_time": "2022-11-19T21:24:18.498Z"
   },
   {
    "duration": 18,
    "start_time": "2022-11-19T21:24:18.506Z"
   },
   {
    "duration": 9,
    "start_time": "2022-11-19T21:24:18.525Z"
   },
   {
    "duration": 5,
    "start_time": "2022-11-19T21:24:18.535Z"
   },
   {
    "duration": 26,
    "start_time": "2022-11-19T21:24:18.542Z"
   },
   {
    "duration": 3,
    "start_time": "2022-11-19T21:24:18.570Z"
   },
   {
    "duration": 31,
    "start_time": "2022-11-19T21:24:18.574Z"
   },
   {
    "duration": 6,
    "start_time": "2022-11-19T21:24:18.607Z"
   },
   {
    "duration": 16,
    "start_time": "2022-11-19T21:24:18.614Z"
   },
   {
    "duration": 12,
    "start_time": "2022-11-19T21:24:18.631Z"
   },
   {
    "duration": 6,
    "start_time": "2022-11-19T21:24:18.644Z"
   },
   {
    "duration": 13,
    "start_time": "2022-11-19T21:24:18.652Z"
   },
   {
    "duration": 5,
    "start_time": "2022-11-19T21:24:18.667Z"
   },
   {
    "duration": 6,
    "start_time": "2022-11-19T21:24:18.697Z"
   },
   {
    "duration": 5,
    "start_time": "2022-11-19T21:24:18.705Z"
   },
   {
    "duration": 5,
    "start_time": "2022-11-19T21:24:18.711Z"
   },
   {
    "duration": 12,
    "start_time": "2022-11-19T21:24:18.717Z"
   },
   {
    "duration": 7,
    "start_time": "2022-11-19T21:24:18.730Z"
   },
   {
    "duration": 9,
    "start_time": "2022-11-19T21:24:18.739Z"
   },
   {
    "duration": 8,
    "start_time": "2022-11-19T21:24:18.749Z"
   },
   {
    "duration": 12,
    "start_time": "2022-11-19T21:24:18.758Z"
   },
   {
    "duration": 30,
    "start_time": "2022-11-19T21:24:18.771Z"
   },
   {
    "duration": 11,
    "start_time": "2022-11-19T21:24:18.803Z"
   },
   {
    "duration": 7,
    "start_time": "2022-11-19T21:24:18.815Z"
   },
   {
    "duration": 10,
    "start_time": "2022-11-19T21:24:40.972Z"
   },
   {
    "duration": 7,
    "start_time": "2022-11-19T21:31:45.507Z"
   },
   {
    "duration": 7,
    "start_time": "2022-11-19T21:32:55.999Z"
   },
   {
    "duration": 7,
    "start_time": "2022-11-19T21:33:33.529Z"
   },
   {
    "duration": 134,
    "start_time": "2022-11-19T21:34:59.859Z"
   },
   {
    "duration": 65,
    "start_time": "2022-11-19T21:35:05.081Z"
   },
   {
    "duration": 5,
    "start_time": "2022-11-19T21:35:58.657Z"
   },
   {
    "duration": 5,
    "start_time": "2022-11-19T21:36:12.872Z"
   },
   {
    "duration": 4,
    "start_time": "2022-11-19T21:36:30.058Z"
   },
   {
    "duration": 7,
    "start_time": "2022-11-19T21:36:39.300Z"
   },
   {
    "duration": 4,
    "start_time": "2022-11-19T21:36:46.780Z"
   },
   {
    "duration": 42,
    "start_time": "2022-11-19T21:38:09.232Z"
   },
   {
    "duration": 718,
    "start_time": "2022-11-19T21:38:13.456Z"
   },
   {
    "duration": 4,
    "start_time": "2022-11-19T21:39:08.844Z"
   },
   {
    "duration": 5,
    "start_time": "2022-11-19T21:39:35.868Z"
   },
   {
    "duration": 46,
    "start_time": "2022-11-19T21:39:48.365Z"
   },
   {
    "duration": 4,
    "start_time": "2022-11-19T21:40:03.862Z"
   },
   {
    "duration": 5,
    "start_time": "2022-11-19T21:40:16.004Z"
   },
   {
    "duration": 4,
    "start_time": "2022-11-19T21:40:22.844Z"
   },
   {
    "duration": 10,
    "start_time": "2022-11-19T21:40:30.901Z"
   },
   {
    "duration": 5,
    "start_time": "2022-11-19T21:41:20.222Z"
   },
   {
    "duration": 5,
    "start_time": "2022-11-19T21:41:23.579Z"
   },
   {
    "duration": 472,
    "start_time": "2022-11-19T21:41:31.563Z"
   },
   {
    "duration": 13,
    "start_time": "2022-11-19T21:41:32.037Z"
   },
   {
    "duration": 9,
    "start_time": "2022-11-19T21:41:32.054Z"
   },
   {
    "duration": 12,
    "start_time": "2022-11-19T21:41:32.065Z"
   },
   {
    "duration": 20,
    "start_time": "2022-11-19T21:41:32.079Z"
   },
   {
    "duration": 44,
    "start_time": "2022-11-19T21:41:32.100Z"
   },
   {
    "duration": 9,
    "start_time": "2022-11-19T21:41:32.146Z"
   },
   {
    "duration": 15,
    "start_time": "2022-11-19T21:41:32.157Z"
   },
   {
    "duration": 16,
    "start_time": "2022-11-19T21:41:32.175Z"
   },
   {
    "duration": 16,
    "start_time": "2022-11-19T21:41:32.192Z"
   },
   {
    "duration": 14,
    "start_time": "2022-11-19T21:41:32.210Z"
   },
   {
    "duration": 14,
    "start_time": "2022-11-19T21:41:32.225Z"
   },
   {
    "duration": 11,
    "start_time": "2022-11-19T21:41:32.240Z"
   },
   {
    "duration": 9,
    "start_time": "2022-11-19T21:41:32.252Z"
   },
   {
    "duration": 9,
    "start_time": "2022-11-19T21:41:32.262Z"
   },
   {
    "duration": 11,
    "start_time": "2022-11-19T21:41:32.272Z"
   },
   {
    "duration": 13,
    "start_time": "2022-11-19T21:41:32.284Z"
   },
   {
    "duration": 12,
    "start_time": "2022-11-19T21:41:32.299Z"
   },
   {
    "duration": 16,
    "start_time": "2022-11-19T21:41:32.314Z"
   },
   {
    "duration": 14,
    "start_time": "2022-11-19T21:41:32.332Z"
   },
   {
    "duration": 32,
    "start_time": "2022-11-19T21:41:32.347Z"
   },
   {
    "duration": 12,
    "start_time": "2022-11-19T21:41:32.381Z"
   },
   {
    "duration": 17,
    "start_time": "2022-11-19T21:41:32.394Z"
   },
   {
    "duration": 7,
    "start_time": "2022-11-19T21:41:32.412Z"
   },
   {
    "duration": 16,
    "start_time": "2022-11-19T21:41:32.421Z"
   },
   {
    "duration": 13,
    "start_time": "2022-11-19T21:41:32.438Z"
   },
   {
    "duration": 4,
    "start_time": "2022-11-19T21:41:32.454Z"
   },
   {
    "duration": 38,
    "start_time": "2022-11-19T21:41:32.460Z"
   },
   {
    "duration": 6,
    "start_time": "2022-11-19T21:41:32.500Z"
   },
   {
    "duration": 8,
    "start_time": "2022-11-19T21:41:32.507Z"
   },
   {
    "duration": 4,
    "start_time": "2022-11-19T21:41:32.517Z"
   },
   {
    "duration": 5,
    "start_time": "2022-11-19T21:41:32.522Z"
   },
   {
    "duration": 9,
    "start_time": "2022-11-19T21:41:32.528Z"
   },
   {
    "duration": 8,
    "start_time": "2022-11-19T21:41:32.538Z"
   },
   {
    "duration": 9,
    "start_time": "2022-11-19T21:41:32.547Z"
   },
   {
    "duration": 7,
    "start_time": "2022-11-19T21:41:32.557Z"
   },
   {
    "duration": 11,
    "start_time": "2022-11-19T21:41:32.565Z"
   },
   {
    "duration": 11,
    "start_time": "2022-11-19T21:41:32.597Z"
   },
   {
    "duration": 37,
    "start_time": "2022-11-19T21:41:32.609Z"
   },
   {
    "duration": 9,
    "start_time": "2022-11-19T21:41:32.648Z"
   },
   {
    "duration": 8,
    "start_time": "2022-11-19T21:41:32.658Z"
   },
   {
    "duration": 7,
    "start_time": "2022-11-19T21:41:32.668Z"
   },
   {
    "duration": 23,
    "start_time": "2022-11-19T21:41:32.676Z"
   },
   {
    "duration": 12,
    "start_time": "2022-11-19T21:41:38.428Z"
   },
   {
    "duration": 229,
    "start_time": "2022-11-19T21:43:59.718Z"
   },
   {
    "duration": 10,
    "start_time": "2022-11-19T21:44:02.486Z"
   },
   {
    "duration": 10,
    "start_time": "2022-11-19T21:46:24.626Z"
   },
   {
    "duration": 7,
    "start_time": "2022-11-19T21:46:55.234Z"
   },
   {
    "duration": 78,
    "start_time": "2022-11-19T21:52:39.859Z"
   },
   {
    "duration": 10,
    "start_time": "2022-11-19T21:53:08.245Z"
   },
   {
    "duration": 12,
    "start_time": "2022-11-19T21:53:10.547Z"
   },
   {
    "duration": 7,
    "start_time": "2022-11-19T21:54:03.362Z"
   },
   {
    "duration": 6,
    "start_time": "2022-11-19T21:57:12.698Z"
   },
   {
    "duration": 11,
    "start_time": "2022-11-19T21:59:08.361Z"
   },
   {
    "duration": 7,
    "start_time": "2022-11-19T22:05:12.636Z"
   },
   {
    "duration": 6,
    "start_time": "2022-11-19T22:05:23.343Z"
   },
   {
    "duration": 450,
    "start_time": "2022-11-19T22:06:37.362Z"
   },
   {
    "duration": 13,
    "start_time": "2022-11-19T22:06:37.814Z"
   },
   {
    "duration": 12,
    "start_time": "2022-11-19T22:06:37.829Z"
   },
   {
    "duration": 6,
    "start_time": "2022-11-19T22:06:37.843Z"
   },
   {
    "duration": 8,
    "start_time": "2022-11-19T22:06:37.851Z"
   },
   {
    "duration": 48,
    "start_time": "2022-11-19T22:06:37.860Z"
   },
   {
    "duration": 8,
    "start_time": "2022-11-19T22:06:37.910Z"
   },
   {
    "duration": 19,
    "start_time": "2022-11-19T22:06:37.920Z"
   },
   {
    "duration": 14,
    "start_time": "2022-11-19T22:06:37.940Z"
   },
   {
    "duration": 14,
    "start_time": "2022-11-19T22:06:37.956Z"
   },
   {
    "duration": 27,
    "start_time": "2022-11-19T22:06:37.971Z"
   },
   {
    "duration": 11,
    "start_time": "2022-11-19T22:06:37.999Z"
   },
   {
    "duration": 8,
    "start_time": "2022-11-19T22:06:38.011Z"
   },
   {
    "duration": 7,
    "start_time": "2022-11-19T22:06:38.022Z"
   },
   {
    "duration": 7,
    "start_time": "2022-11-19T22:06:38.030Z"
   },
   {
    "duration": 7,
    "start_time": "2022-11-19T22:06:38.039Z"
   },
   {
    "duration": 10,
    "start_time": "2022-11-19T22:06:38.047Z"
   },
   {
    "duration": 11,
    "start_time": "2022-11-19T22:06:38.058Z"
   },
   {
    "duration": 28,
    "start_time": "2022-11-19T22:06:38.070Z"
   },
   {
    "duration": 7,
    "start_time": "2022-11-19T22:06:38.099Z"
   },
   {
    "duration": 26,
    "start_time": "2022-11-19T22:06:38.107Z"
   },
   {
    "duration": 4,
    "start_time": "2022-11-19T22:06:38.134Z"
   },
   {
    "duration": 21,
    "start_time": "2022-11-19T22:06:38.140Z"
   },
   {
    "duration": 9,
    "start_time": "2022-11-19T22:06:38.164Z"
   },
   {
    "duration": 34,
    "start_time": "2022-11-19T22:06:38.175Z"
   },
   {
    "duration": 12,
    "start_time": "2022-11-19T22:06:38.211Z"
   },
   {
    "duration": 5,
    "start_time": "2022-11-19T22:06:38.225Z"
   },
   {
    "duration": 14,
    "start_time": "2022-11-19T22:06:38.231Z"
   },
   {
    "duration": 6,
    "start_time": "2022-11-19T22:06:38.246Z"
   },
   {
    "duration": 10,
    "start_time": "2022-11-19T22:06:38.253Z"
   },
   {
    "duration": 6,
    "start_time": "2022-11-19T22:06:38.265Z"
   },
   {
    "duration": 24,
    "start_time": "2022-11-19T22:06:38.273Z"
   },
   {
    "duration": 6,
    "start_time": "2022-11-19T22:06:38.299Z"
   },
   {
    "duration": 8,
    "start_time": "2022-11-19T22:06:38.306Z"
   },
   {
    "duration": 7,
    "start_time": "2022-11-19T22:06:38.315Z"
   },
   {
    "duration": 7,
    "start_time": "2022-11-19T22:06:38.323Z"
   },
   {
    "duration": 6,
    "start_time": "2022-11-19T22:06:38.332Z"
   },
   {
    "duration": 9,
    "start_time": "2022-11-19T22:06:38.339Z"
   },
   {
    "duration": 66,
    "start_time": "2022-11-19T22:06:38.349Z"
   },
   {
    "duration": 10,
    "start_time": "2022-11-19T22:06:38.416Z"
   },
   {
    "duration": 5,
    "start_time": "2022-11-19T22:06:38.430Z"
   },
   {
    "duration": 8,
    "start_time": "2022-11-19T22:06:38.436Z"
   },
   {
    "duration": 10,
    "start_time": "2022-11-19T22:06:38.445Z"
   },
   {
    "duration": 18,
    "start_time": "2022-11-19T22:06:38.456Z"
   },
   {
    "duration": 423,
    "start_time": "2022-11-19T22:10:36.352Z"
   },
   {
    "duration": 13,
    "start_time": "2022-11-19T22:10:36.776Z"
   },
   {
    "duration": 10,
    "start_time": "2022-11-19T22:10:36.793Z"
   },
   {
    "duration": 8,
    "start_time": "2022-11-19T22:10:36.804Z"
   },
   {
    "duration": 6,
    "start_time": "2022-11-19T22:10:36.813Z"
   },
   {
    "duration": 85,
    "start_time": "2022-11-19T22:10:36.820Z"
   },
   {
    "duration": 9,
    "start_time": "2022-11-19T22:10:36.906Z"
   },
   {
    "duration": 23,
    "start_time": "2022-11-19T22:10:36.916Z"
   },
   {
    "duration": 25,
    "start_time": "2022-11-19T22:10:36.942Z"
   },
   {
    "duration": 40,
    "start_time": "2022-11-19T22:10:36.968Z"
   },
   {
    "duration": 14,
    "start_time": "2022-11-19T22:10:37.010Z"
   },
   {
    "duration": 30,
    "start_time": "2022-11-19T22:10:37.025Z"
   },
   {
    "duration": 23,
    "start_time": "2022-11-19T22:10:37.056Z"
   },
   {
    "duration": 23,
    "start_time": "2022-11-19T22:10:37.080Z"
   },
   {
    "duration": 5,
    "start_time": "2022-11-19T22:10:37.104Z"
   },
   {
    "duration": 6,
    "start_time": "2022-11-19T22:10:37.111Z"
   },
   {
    "duration": 8,
    "start_time": "2022-11-19T22:10:37.119Z"
   },
   {
    "duration": 9,
    "start_time": "2022-11-19T22:10:37.128Z"
   },
   {
    "duration": 9,
    "start_time": "2022-11-19T22:10:37.138Z"
   },
   {
    "duration": 9,
    "start_time": "2022-11-19T22:10:37.148Z"
   },
   {
    "duration": 42,
    "start_time": "2022-11-19T22:10:37.158Z"
   },
   {
    "duration": 3,
    "start_time": "2022-11-19T22:10:37.201Z"
   },
   {
    "duration": 15,
    "start_time": "2022-11-19T22:10:37.205Z"
   },
   {
    "duration": 8,
    "start_time": "2022-11-19T22:10:37.222Z"
   },
   {
    "duration": 14,
    "start_time": "2022-11-19T22:10:37.231Z"
   },
   {
    "duration": 12,
    "start_time": "2022-11-19T22:10:37.247Z"
   },
   {
    "duration": 3,
    "start_time": "2022-11-19T22:10:37.297Z"
   },
   {
    "duration": 21,
    "start_time": "2022-11-19T22:10:37.301Z"
   },
   {
    "duration": 6,
    "start_time": "2022-11-19T22:10:37.323Z"
   },
   {
    "duration": 10,
    "start_time": "2022-11-19T22:10:37.331Z"
   },
   {
    "duration": 7,
    "start_time": "2022-11-19T22:10:37.342Z"
   },
   {
    "duration": 5,
    "start_time": "2022-11-19T22:10:37.350Z"
   },
   {
    "duration": 9,
    "start_time": "2022-11-19T22:10:37.356Z"
   },
   {
    "duration": 7,
    "start_time": "2022-11-19T22:10:37.366Z"
   },
   {
    "duration": 7,
    "start_time": "2022-11-19T22:10:37.374Z"
   },
   {
    "duration": 8,
    "start_time": "2022-11-19T22:10:37.398Z"
   },
   {
    "duration": 7,
    "start_time": "2022-11-19T22:10:37.407Z"
   },
   {
    "duration": 7,
    "start_time": "2022-11-19T22:10:37.416Z"
   },
   {
    "duration": 11,
    "start_time": "2022-11-19T22:10:37.425Z"
   },
   {
    "duration": 9,
    "start_time": "2022-11-19T22:10:37.438Z"
   },
   {
    "duration": 10,
    "start_time": "2022-11-19T22:10:37.449Z"
   },
   {
    "duration": 27,
    "start_time": "2022-11-19T22:10:37.461Z"
   },
   {
    "duration": 101,
    "start_time": "2022-11-19T22:10:37.497Z"
   },
   {
    "duration": 51,
    "start_time": "2022-11-19T22:10:37.600Z"
   },
   {
    "duration": 6,
    "start_time": "2022-11-19T22:12:10.276Z"
   },
   {
    "duration": 500,
    "start_time": "2022-11-19T22:13:02.990Z"
   },
   {
    "duration": 14,
    "start_time": "2022-11-19T22:13:03.492Z"
   },
   {
    "duration": 11,
    "start_time": "2022-11-19T22:13:03.508Z"
   },
   {
    "duration": 7,
    "start_time": "2022-11-19T22:13:03.521Z"
   },
   {
    "duration": 7,
    "start_time": "2022-11-19T22:13:03.530Z"
   },
   {
    "duration": 46,
    "start_time": "2022-11-19T22:13:03.539Z"
   },
   {
    "duration": 11,
    "start_time": "2022-11-19T22:13:03.587Z"
   },
   {
    "duration": 14,
    "start_time": "2022-11-19T22:13:03.599Z"
   },
   {
    "duration": 24,
    "start_time": "2022-11-19T22:13:03.615Z"
   },
   {
    "duration": 12,
    "start_time": "2022-11-19T22:13:03.640Z"
   },
   {
    "duration": 13,
    "start_time": "2022-11-19T22:13:03.654Z"
   },
   {
    "duration": 14,
    "start_time": "2022-11-19T22:13:03.669Z"
   },
   {
    "duration": 11,
    "start_time": "2022-11-19T22:13:03.685Z"
   },
   {
    "duration": 9,
    "start_time": "2022-11-19T22:13:03.699Z"
   },
   {
    "duration": 12,
    "start_time": "2022-11-19T22:13:03.710Z"
   },
   {
    "duration": 13,
    "start_time": "2022-11-19T22:13:03.723Z"
   },
   {
    "duration": 16,
    "start_time": "2022-11-19T22:13:03.737Z"
   },
   {
    "duration": 14,
    "start_time": "2022-11-19T22:13:03.754Z"
   },
   {
    "duration": 10,
    "start_time": "2022-11-19T22:13:03.770Z"
   },
   {
    "duration": 13,
    "start_time": "2022-11-19T22:13:03.781Z"
   },
   {
    "duration": 27,
    "start_time": "2022-11-19T22:13:03.796Z"
   },
   {
    "duration": 6,
    "start_time": "2022-11-19T22:13:03.825Z"
   },
   {
    "duration": 16,
    "start_time": "2022-11-19T22:13:03.833Z"
   },
   {
    "duration": 7,
    "start_time": "2022-11-19T22:13:03.850Z"
   },
   {
    "duration": 20,
    "start_time": "2022-11-19T22:13:03.858Z"
   },
   {
    "duration": 31,
    "start_time": "2022-11-19T22:13:03.879Z"
   },
   {
    "duration": 6,
    "start_time": "2022-11-19T22:13:03.912Z"
   },
   {
    "duration": 18,
    "start_time": "2022-11-19T22:13:03.919Z"
   },
   {
    "duration": 7,
    "start_time": "2022-11-19T22:13:03.939Z"
   },
   {
    "duration": 14,
    "start_time": "2022-11-19T22:13:03.948Z"
   },
   {
    "duration": 10,
    "start_time": "2022-11-19T22:13:03.964Z"
   },
   {
    "duration": 16,
    "start_time": "2022-11-19T22:13:03.975Z"
   },
   {
    "duration": 18,
    "start_time": "2022-11-19T22:13:03.992Z"
   },
   {
    "duration": 10,
    "start_time": "2022-11-19T22:13:04.012Z"
   },
   {
    "duration": 10,
    "start_time": "2022-11-19T22:13:04.024Z"
   },
   {
    "duration": 11,
    "start_time": "2022-11-19T22:13:04.036Z"
   },
   {
    "duration": 34,
    "start_time": "2022-11-19T22:13:04.049Z"
   },
   {
    "duration": 54,
    "start_time": "2022-11-19T22:13:04.084Z"
   },
   {
    "duration": 8,
    "start_time": "2022-11-19T22:13:04.140Z"
   },
   {
    "duration": 8,
    "start_time": "2022-11-19T22:13:04.150Z"
   },
   {
    "duration": 7,
    "start_time": "2022-11-19T22:13:04.162Z"
   },
   {
    "duration": 29,
    "start_time": "2022-11-19T22:13:04.171Z"
   },
   {
    "duration": 14,
    "start_time": "2022-11-19T22:13:04.202Z"
   },
   {
    "duration": 19,
    "start_time": "2022-11-19T22:13:04.218Z"
   },
   {
    "duration": 7,
    "start_time": "2022-11-19T22:14:14.032Z"
   },
   {
    "duration": 463,
    "start_time": "2022-11-19T22:18:21.007Z"
   },
   {
    "duration": 13,
    "start_time": "2022-11-19T22:18:21.472Z"
   },
   {
    "duration": 8,
    "start_time": "2022-11-19T22:18:21.487Z"
   },
   {
    "duration": 5,
    "start_time": "2022-11-19T22:18:21.497Z"
   },
   {
    "duration": 8,
    "start_time": "2022-11-19T22:18:21.504Z"
   },
   {
    "duration": 46,
    "start_time": "2022-11-19T22:18:21.513Z"
   },
   {
    "duration": 8,
    "start_time": "2022-11-19T22:18:21.561Z"
   },
   {
    "duration": 10,
    "start_time": "2022-11-19T22:18:21.571Z"
   },
   {
    "duration": 12,
    "start_time": "2022-11-19T22:18:21.582Z"
   },
   {
    "duration": 11,
    "start_time": "2022-11-19T22:18:21.595Z"
   },
   {
    "duration": 8,
    "start_time": "2022-11-19T22:18:21.608Z"
   },
   {
    "duration": 8,
    "start_time": "2022-11-19T22:18:21.617Z"
   },
   {
    "duration": 8,
    "start_time": "2022-11-19T22:18:21.627Z"
   },
   {
    "duration": 9,
    "start_time": "2022-11-19T22:18:21.636Z"
   },
   {
    "duration": 5,
    "start_time": "2022-11-19T22:18:21.646Z"
   },
   {
    "duration": 7,
    "start_time": "2022-11-19T22:18:21.652Z"
   },
   {
    "duration": 9,
    "start_time": "2022-11-19T22:18:21.660Z"
   },
   {
    "duration": 7,
    "start_time": "2022-11-19T22:18:21.697Z"
   },
   {
    "duration": 9,
    "start_time": "2022-11-19T22:18:21.706Z"
   },
   {
    "duration": 7,
    "start_time": "2022-11-19T22:18:21.717Z"
   },
   {
    "duration": 26,
    "start_time": "2022-11-19T22:18:21.726Z"
   },
   {
    "duration": 5,
    "start_time": "2022-11-19T22:18:21.754Z"
   },
   {
    "duration": 13,
    "start_time": "2022-11-19T22:18:21.762Z"
   },
   {
    "duration": 7,
    "start_time": "2022-11-19T22:18:21.797Z"
   },
   {
    "duration": 15,
    "start_time": "2022-11-19T22:18:21.805Z"
   },
   {
    "duration": 13,
    "start_time": "2022-11-19T22:18:21.821Z"
   },
   {
    "duration": 7,
    "start_time": "2022-11-19T22:18:21.835Z"
   },
   {
    "duration": 14,
    "start_time": "2022-11-19T22:18:21.843Z"
   },
   {
    "duration": 7,
    "start_time": "2022-11-19T22:18:21.858Z"
   },
   {
    "duration": 35,
    "start_time": "2022-11-19T22:18:21.867Z"
   },
   {
    "duration": 6,
    "start_time": "2022-11-19T22:18:21.903Z"
   },
   {
    "duration": 6,
    "start_time": "2022-11-19T22:18:21.911Z"
   },
   {
    "duration": 7,
    "start_time": "2022-11-19T22:18:21.919Z"
   },
   {
    "duration": 9,
    "start_time": "2022-11-19T22:18:21.928Z"
   },
   {
    "duration": 17,
    "start_time": "2022-11-19T22:18:21.939Z"
   },
   {
    "duration": 13,
    "start_time": "2022-11-19T22:18:21.957Z"
   },
   {
    "duration": 5,
    "start_time": "2022-11-19T22:18:21.972Z"
   },
   {
    "duration": 9,
    "start_time": "2022-11-19T22:18:21.979Z"
   },
   {
    "duration": 12,
    "start_time": "2022-11-19T22:18:21.989Z"
   },
   {
    "duration": 10,
    "start_time": "2022-11-19T22:18:22.002Z"
   },
   {
    "duration": 8,
    "start_time": "2022-11-19T22:18:22.013Z"
   },
   {
    "duration": 8,
    "start_time": "2022-11-19T22:18:22.022Z"
   },
   {
    "duration": 13,
    "start_time": "2022-11-19T22:18:22.032Z"
   },
   {
    "duration": 19,
    "start_time": "2022-11-19T22:18:22.046Z"
   },
   {
    "duration": 7,
    "start_time": "2022-11-19T22:18:55.138Z"
   },
   {
    "duration": 6,
    "start_time": "2022-11-19T22:22:36.794Z"
   },
   {
    "duration": 6,
    "start_time": "2022-11-19T22:22:45.824Z"
   },
   {
    "duration": 6,
    "start_time": "2022-11-19T22:23:16.242Z"
   },
   {
    "duration": 7,
    "start_time": "2022-11-19T22:23:38.684Z"
   },
   {
    "duration": 7,
    "start_time": "2022-11-19T22:23:48.563Z"
   },
   {
    "duration": 6,
    "start_time": "2022-11-19T22:23:54.890Z"
   },
   {
    "duration": 489,
    "start_time": "2022-11-19T22:26:23.689Z"
   },
   {
    "duration": 13,
    "start_time": "2022-11-19T22:26:24.180Z"
   },
   {
    "duration": 11,
    "start_time": "2022-11-19T22:26:24.194Z"
   },
   {
    "duration": 5,
    "start_time": "2022-11-19T22:26:24.207Z"
   },
   {
    "duration": 5,
    "start_time": "2022-11-19T22:26:24.214Z"
   },
   {
    "duration": 45,
    "start_time": "2022-11-19T22:26:24.220Z"
   },
   {
    "duration": 8,
    "start_time": "2022-11-19T22:26:24.267Z"
   },
   {
    "duration": 13,
    "start_time": "2022-11-19T22:26:24.277Z"
   },
   {
    "duration": 11,
    "start_time": "2022-11-19T22:26:24.291Z"
   },
   {
    "duration": 13,
    "start_time": "2022-11-19T22:26:24.305Z"
   },
   {
    "duration": 8,
    "start_time": "2022-11-19T22:26:24.319Z"
   },
   {
    "duration": 8,
    "start_time": "2022-11-19T22:26:24.329Z"
   },
   {
    "duration": 8,
    "start_time": "2022-11-19T22:26:24.338Z"
   },
   {
    "duration": 7,
    "start_time": "2022-11-19T22:26:24.347Z"
   },
   {
    "duration": 5,
    "start_time": "2022-11-19T22:26:24.355Z"
   },
   {
    "duration": 8,
    "start_time": "2022-11-19T22:26:24.361Z"
   },
   {
    "duration": 29,
    "start_time": "2022-11-19T22:26:24.370Z"
   },
   {
    "duration": 21,
    "start_time": "2022-11-19T22:26:24.400Z"
   },
   {
    "duration": 20,
    "start_time": "2022-11-19T22:26:24.422Z"
   },
   {
    "duration": 7,
    "start_time": "2022-11-19T22:26:24.444Z"
   },
   {
    "duration": 27,
    "start_time": "2022-11-19T22:26:24.452Z"
   },
   {
    "duration": 10,
    "start_time": "2022-11-19T22:26:24.481Z"
   },
   {
    "duration": 16,
    "start_time": "2022-11-19T22:26:24.492Z"
   },
   {
    "duration": 8,
    "start_time": "2022-11-19T22:26:24.509Z"
   },
   {
    "duration": 17,
    "start_time": "2022-11-19T22:26:24.518Z"
   },
   {
    "duration": 18,
    "start_time": "2022-11-19T22:26:24.537Z"
   },
   {
    "duration": 29,
    "start_time": "2022-11-19T22:26:24.557Z"
   },
   {
    "duration": 30,
    "start_time": "2022-11-19T22:26:24.589Z"
   },
   {
    "duration": 7,
    "start_time": "2022-11-19T22:26:24.620Z"
   },
   {
    "duration": 16,
    "start_time": "2022-11-19T22:26:24.629Z"
   },
   {
    "duration": 12,
    "start_time": "2022-11-19T22:26:24.649Z"
   },
   {
    "duration": 5,
    "start_time": "2022-11-19T22:26:24.663Z"
   },
   {
    "duration": 15,
    "start_time": "2022-11-19T22:26:24.670Z"
   },
   {
    "duration": 14,
    "start_time": "2022-11-19T22:26:24.686Z"
   },
   {
    "duration": 18,
    "start_time": "2022-11-19T22:26:24.701Z"
   },
   {
    "duration": 19,
    "start_time": "2022-11-19T22:26:24.721Z"
   },
   {
    "duration": 13,
    "start_time": "2022-11-19T22:26:24.742Z"
   },
   {
    "duration": 8,
    "start_time": "2022-11-19T22:26:24.757Z"
   },
   {
    "duration": 11,
    "start_time": "2022-11-19T22:26:24.766Z"
   },
   {
    "duration": 10,
    "start_time": "2022-11-19T22:26:24.778Z"
   },
   {
    "duration": 15,
    "start_time": "2022-11-19T22:26:24.790Z"
   },
   {
    "duration": 7,
    "start_time": "2022-11-19T22:26:44.384Z"
   },
   {
    "duration": 6,
    "start_time": "2022-11-19T22:26:53.483Z"
   },
   {
    "duration": 9,
    "start_time": "2022-11-19T22:29:01.167Z"
   },
   {
    "duration": 445,
    "start_time": "2022-11-19T22:30:53.431Z"
   },
   {
    "duration": 14,
    "start_time": "2022-11-19T22:30:53.878Z"
   },
   {
    "duration": 12,
    "start_time": "2022-11-19T22:30:53.896Z"
   },
   {
    "duration": 24,
    "start_time": "2022-11-19T22:30:53.909Z"
   },
   {
    "duration": 8,
    "start_time": "2022-11-19T22:30:53.934Z"
   },
   {
    "duration": 48,
    "start_time": "2022-11-19T22:30:53.943Z"
   },
   {
    "duration": 9,
    "start_time": "2022-11-19T22:30:53.992Z"
   },
   {
    "duration": 24,
    "start_time": "2022-11-19T22:30:54.003Z"
   },
   {
    "duration": 15,
    "start_time": "2022-11-19T22:30:54.030Z"
   },
   {
    "duration": 11,
    "start_time": "2022-11-19T22:30:54.047Z"
   },
   {
    "duration": 7,
    "start_time": "2022-11-19T22:30:54.060Z"
   },
   {
    "duration": 9,
    "start_time": "2022-11-19T22:30:54.068Z"
   },
   {
    "duration": 20,
    "start_time": "2022-11-19T22:30:54.078Z"
   },
   {
    "duration": 7,
    "start_time": "2022-11-19T22:30:54.099Z"
   },
   {
    "duration": 3,
    "start_time": "2022-11-19T22:30:54.108Z"
   },
   {
    "duration": 7,
    "start_time": "2022-11-19T22:30:54.113Z"
   },
   {
    "duration": 10,
    "start_time": "2022-11-19T22:30:54.121Z"
   },
   {
    "duration": 11,
    "start_time": "2022-11-19T22:30:54.132Z"
   },
   {
    "duration": 8,
    "start_time": "2022-11-19T22:30:54.144Z"
   },
   {
    "duration": 5,
    "start_time": "2022-11-19T22:30:54.154Z"
   },
   {
    "duration": 54,
    "start_time": "2022-11-19T22:30:54.160Z"
   },
   {
    "duration": 11,
    "start_time": "2022-11-19T22:30:54.216Z"
   },
   {
    "duration": 14,
    "start_time": "2022-11-19T22:30:54.228Z"
   },
   {
    "duration": 7,
    "start_time": "2022-11-19T22:30:54.244Z"
   },
   {
    "duration": 16,
    "start_time": "2022-11-19T22:30:54.252Z"
   },
   {
    "duration": 29,
    "start_time": "2022-11-19T22:30:54.269Z"
   },
   {
    "duration": 3,
    "start_time": "2022-11-19T22:30:54.301Z"
   },
   {
    "duration": 17,
    "start_time": "2022-11-19T22:30:54.306Z"
   },
   {
    "duration": 6,
    "start_time": "2022-11-19T22:30:54.324Z"
   },
   {
    "duration": 10,
    "start_time": "2022-11-19T22:30:54.331Z"
   },
   {
    "duration": 9,
    "start_time": "2022-11-19T22:30:54.342Z"
   },
   {
    "duration": 14,
    "start_time": "2022-11-19T22:30:54.352Z"
   },
   {
    "duration": 5,
    "start_time": "2022-11-19T22:30:54.367Z"
   },
   {
    "duration": 13,
    "start_time": "2022-11-19T22:30:54.373Z"
   },
   {
    "duration": 7,
    "start_time": "2022-11-19T22:30:54.396Z"
   },
   {
    "duration": 8,
    "start_time": "2022-11-19T22:30:54.404Z"
   },
   {
    "duration": 5,
    "start_time": "2022-11-19T22:30:54.414Z"
   },
   {
    "duration": 8,
    "start_time": "2022-11-19T22:30:54.420Z"
   },
   {
    "duration": 9,
    "start_time": "2022-11-19T22:30:54.429Z"
   },
   {
    "duration": 10,
    "start_time": "2022-11-19T22:30:54.439Z"
   },
   {
    "duration": 10,
    "start_time": "2022-11-19T22:30:54.450Z"
   },
   {
    "duration": 12,
    "start_time": "2022-11-19T22:30:54.461Z"
   },
   {
    "duration": 483,
    "start_time": "2022-11-19T22:32:52.292Z"
   },
   {
    "duration": 13,
    "start_time": "2022-11-19T22:32:52.778Z"
   },
   {
    "duration": 9,
    "start_time": "2022-11-19T22:32:52.793Z"
   },
   {
    "duration": 6,
    "start_time": "2022-11-19T22:32:52.804Z"
   },
   {
    "duration": 4,
    "start_time": "2022-11-19T22:32:52.812Z"
   },
   {
    "duration": 45,
    "start_time": "2022-11-19T22:32:52.817Z"
   },
   {
    "duration": 9,
    "start_time": "2022-11-19T22:32:52.864Z"
   },
   {
    "duration": 11,
    "start_time": "2022-11-19T22:32:52.874Z"
   },
   {
    "duration": 11,
    "start_time": "2022-11-19T22:32:52.887Z"
   },
   {
    "duration": 10,
    "start_time": "2022-11-19T22:32:52.900Z"
   },
   {
    "duration": 8,
    "start_time": "2022-11-19T22:32:52.911Z"
   },
   {
    "duration": 8,
    "start_time": "2022-11-19T22:32:52.921Z"
   },
   {
    "duration": 8,
    "start_time": "2022-11-19T22:32:52.930Z"
   },
   {
    "duration": 7,
    "start_time": "2022-11-19T22:32:52.939Z"
   },
   {
    "duration": 6,
    "start_time": "2022-11-19T22:32:52.947Z"
   },
   {
    "duration": 10,
    "start_time": "2022-11-19T22:32:52.954Z"
   },
   {
    "duration": 15,
    "start_time": "2022-11-19T22:32:52.966Z"
   },
   {
    "duration": 8,
    "start_time": "2022-11-19T22:32:52.997Z"
   },
   {
    "duration": 10,
    "start_time": "2022-11-19T22:32:53.007Z"
   },
   {
    "duration": 6,
    "start_time": "2022-11-19T22:32:53.018Z"
   },
   {
    "duration": 27,
    "start_time": "2022-11-19T22:32:53.025Z"
   },
   {
    "duration": 3,
    "start_time": "2022-11-19T22:32:53.053Z"
   },
   {
    "duration": 15,
    "start_time": "2022-11-19T22:32:53.057Z"
   },
   {
    "duration": 27,
    "start_time": "2022-11-19T22:32:53.074Z"
   },
   {
    "duration": 16,
    "start_time": "2022-11-19T22:32:53.102Z"
   },
   {
    "duration": 12,
    "start_time": "2022-11-19T22:32:53.119Z"
   },
   {
    "duration": 5,
    "start_time": "2022-11-19T22:32:53.132Z"
   },
   {
    "duration": 14,
    "start_time": "2022-11-19T22:32:53.140Z"
   },
   {
    "duration": 6,
    "start_time": "2022-11-19T22:32:53.155Z"
   },
   {
    "duration": 25,
    "start_time": "2022-11-19T22:32:53.162Z"
   },
   {
    "duration": 33,
    "start_time": "2022-11-19T22:32:53.188Z"
   },
   {
    "duration": 32,
    "start_time": "2022-11-19T22:32:53.223Z"
   },
   {
    "duration": 24,
    "start_time": "2022-11-19T22:32:53.257Z"
   },
   {
    "duration": 17,
    "start_time": "2022-11-19T22:32:53.283Z"
   },
   {
    "duration": 23,
    "start_time": "2022-11-19T22:32:53.301Z"
   },
   {
    "duration": 13,
    "start_time": "2022-11-19T22:32:53.325Z"
   },
   {
    "duration": 8,
    "start_time": "2022-11-19T22:32:53.340Z"
   },
   {
    "duration": 26,
    "start_time": "2022-11-19T22:32:53.350Z"
   },
   {
    "duration": 14,
    "start_time": "2022-11-19T22:32:53.377Z"
   },
   {
    "duration": 26,
    "start_time": "2022-11-19T22:32:53.393Z"
   },
   {
    "duration": 18,
    "start_time": "2022-11-19T22:32:53.420Z"
   },
   {
    "duration": 19,
    "start_time": "2022-11-19T22:32:53.440Z"
   },
   {
    "duration": 30,
    "start_time": "2022-11-19T22:37:21.329Z"
   },
   {
    "duration": 479,
    "start_time": "2022-11-19T22:37:26.187Z"
   },
   {
    "duration": 13,
    "start_time": "2022-11-19T22:37:26.667Z"
   },
   {
    "duration": 35,
    "start_time": "2022-11-19T22:37:26.682Z"
   },
   {
    "duration": 13,
    "start_time": "2022-11-19T22:37:26.719Z"
   },
   {
    "duration": 19,
    "start_time": "2022-11-19T22:37:26.734Z"
   },
   {
    "duration": 62,
    "start_time": "2022-11-19T22:37:26.755Z"
   },
   {
    "duration": 9,
    "start_time": "2022-11-19T22:37:26.819Z"
   },
   {
    "duration": 32,
    "start_time": "2022-11-19T22:37:26.830Z"
   },
   {
    "duration": 24,
    "start_time": "2022-11-19T22:37:26.863Z"
   },
   {
    "duration": 46,
    "start_time": "2022-11-19T22:37:26.890Z"
   },
   {
    "duration": 38,
    "start_time": "2022-11-19T22:37:26.937Z"
   },
   {
    "duration": 46,
    "start_time": "2022-11-19T22:37:26.976Z"
   },
   {
    "duration": 26,
    "start_time": "2022-11-19T22:37:27.023Z"
   },
   {
    "duration": 36,
    "start_time": "2022-11-19T22:37:27.050Z"
   },
   {
    "duration": 27,
    "start_time": "2022-11-19T22:37:27.088Z"
   },
   {
    "duration": 26,
    "start_time": "2022-11-19T22:37:27.116Z"
   },
   {
    "duration": 40,
    "start_time": "2022-11-19T22:37:27.143Z"
   },
   {
    "duration": 27,
    "start_time": "2022-11-19T22:37:27.185Z"
   },
   {
    "duration": 32,
    "start_time": "2022-11-19T22:37:27.214Z"
   },
   {
    "duration": 41,
    "start_time": "2022-11-19T22:37:27.247Z"
   },
   {
    "duration": 51,
    "start_time": "2022-11-19T22:37:27.290Z"
   },
   {
    "duration": 46,
    "start_time": "2022-11-19T22:37:27.343Z"
   },
   {
    "duration": 41,
    "start_time": "2022-11-19T22:37:27.391Z"
   },
   {
    "duration": 13,
    "start_time": "2022-11-19T22:37:27.433Z"
   },
   {
    "duration": 42,
    "start_time": "2022-11-19T22:37:27.447Z"
   },
   {
    "duration": 38,
    "start_time": "2022-11-19T22:37:27.491Z"
   },
   {
    "duration": 13,
    "start_time": "2022-11-19T22:37:27.530Z"
   },
   {
    "duration": 26,
    "start_time": "2022-11-19T22:37:27.546Z"
   },
   {
    "duration": 20,
    "start_time": "2022-11-19T22:37:27.574Z"
   },
   {
    "duration": 37,
    "start_time": "2022-11-19T22:37:27.595Z"
   },
   {
    "duration": 38,
    "start_time": "2022-11-19T22:37:27.633Z"
   },
   {
    "duration": 35,
    "start_time": "2022-11-19T22:37:27.673Z"
   },
   {
    "duration": 28,
    "start_time": "2022-11-19T22:37:27.710Z"
   },
   {
    "duration": 67,
    "start_time": "2022-11-19T22:37:27.740Z"
   },
   {
    "duration": 64,
    "start_time": "2022-11-19T22:37:27.808Z"
   },
   {
    "duration": 38,
    "start_time": "2022-11-19T22:37:27.874Z"
   },
   {
    "duration": 48,
    "start_time": "2022-11-19T22:37:27.914Z"
   },
   {
    "duration": 52,
    "start_time": "2022-11-19T22:37:27.963Z"
   },
   {
    "duration": 38,
    "start_time": "2022-11-19T22:37:28.016Z"
   },
   {
    "duration": 36,
    "start_time": "2022-11-19T22:37:28.056Z"
   },
   {
    "duration": 48,
    "start_time": "2022-11-19T22:37:28.094Z"
   },
   {
    "duration": 68,
    "start_time": "2022-11-19T22:37:28.144Z"
   },
   {
    "duration": 441,
    "start_time": "2022-11-19T22:40:06.339Z"
   },
   {
    "duration": 13,
    "start_time": "2022-11-19T22:40:06.781Z"
   },
   {
    "duration": 23,
    "start_time": "2022-11-19T22:40:06.795Z"
   },
   {
    "duration": 16,
    "start_time": "2022-11-19T22:40:06.819Z"
   },
   {
    "duration": 25,
    "start_time": "2022-11-19T22:40:06.836Z"
   },
   {
    "duration": 52,
    "start_time": "2022-11-19T22:40:06.862Z"
   },
   {
    "duration": 10,
    "start_time": "2022-11-19T22:40:06.915Z"
   },
   {
    "duration": 21,
    "start_time": "2022-11-19T22:40:06.926Z"
   },
   {
    "duration": 18,
    "start_time": "2022-11-19T22:40:06.948Z"
   },
   {
    "duration": 32,
    "start_time": "2022-11-19T22:40:06.968Z"
   },
   {
    "duration": 22,
    "start_time": "2022-11-19T22:40:07.001Z"
   },
   {
    "duration": 31,
    "start_time": "2022-11-19T22:40:07.025Z"
   },
   {
    "duration": 29,
    "start_time": "2022-11-19T22:40:07.058Z"
   },
   {
    "duration": 40,
    "start_time": "2022-11-19T22:40:07.089Z"
   },
   {
    "duration": 20,
    "start_time": "2022-11-19T22:40:07.131Z"
   },
   {
    "duration": 54,
    "start_time": "2022-11-19T22:40:07.152Z"
   },
   {
    "duration": 23,
    "start_time": "2022-11-19T22:40:07.207Z"
   },
   {
    "duration": 26,
    "start_time": "2022-11-19T22:40:07.232Z"
   },
   {
    "duration": 28,
    "start_time": "2022-11-19T22:40:07.259Z"
   },
   {
    "duration": 28,
    "start_time": "2022-11-19T22:40:07.289Z"
   },
   {
    "duration": 70,
    "start_time": "2022-11-19T22:40:07.318Z"
   },
   {
    "duration": 3,
    "start_time": "2022-11-19T22:40:07.389Z"
   },
   {
    "duration": 39,
    "start_time": "2022-11-19T22:40:07.393Z"
   },
   {
    "duration": 19,
    "start_time": "2022-11-19T22:40:07.434Z"
   },
   {
    "duration": 28,
    "start_time": "2022-11-19T22:40:07.454Z"
   },
   {
    "duration": 24,
    "start_time": "2022-11-19T22:40:07.483Z"
   },
   {
    "duration": 11,
    "start_time": "2022-11-19T22:40:07.509Z"
   },
   {
    "duration": 35,
    "start_time": "2022-11-19T22:40:07.523Z"
   },
   {
    "duration": 14,
    "start_time": "2022-11-19T22:40:07.559Z"
   },
   {
    "duration": 20,
    "start_time": "2022-11-19T22:40:07.574Z"
   },
   {
    "duration": 22,
    "start_time": "2022-11-19T22:40:07.595Z"
   },
   {
    "duration": 22,
    "start_time": "2022-11-19T22:40:07.618Z"
   },
   {
    "duration": 23,
    "start_time": "2022-11-19T22:40:07.641Z"
   },
   {
    "duration": 42,
    "start_time": "2022-11-19T22:40:07.665Z"
   },
   {
    "duration": 13,
    "start_time": "2022-11-19T22:40:07.708Z"
   },
   {
    "duration": 35,
    "start_time": "2022-11-19T22:40:07.723Z"
   },
   {
    "duration": 30,
    "start_time": "2022-11-19T22:40:07.760Z"
   },
   {
    "duration": 17,
    "start_time": "2022-11-19T22:40:07.791Z"
   },
   {
    "duration": 7,
    "start_time": "2022-11-19T22:40:07.809Z"
   },
   {
    "duration": 17,
    "start_time": "2022-11-19T22:40:07.817Z"
   },
   {
    "duration": 10,
    "start_time": "2022-11-19T22:40:07.835Z"
   },
   {
    "duration": 38,
    "start_time": "2022-11-19T22:40:07.846Z"
   },
   {
    "duration": 436,
    "start_time": "2022-11-19T22:41:23.338Z"
   },
   {
    "duration": 14,
    "start_time": "2022-11-19T22:41:23.775Z"
   },
   {
    "duration": 36,
    "start_time": "2022-11-19T22:41:23.790Z"
   },
   {
    "duration": 12,
    "start_time": "2022-11-19T22:41:23.828Z"
   },
   {
    "duration": 35,
    "start_time": "2022-11-19T22:41:23.841Z"
   },
   {
    "duration": 75,
    "start_time": "2022-11-19T22:41:23.877Z"
   },
   {
    "duration": 9,
    "start_time": "2022-11-19T22:41:23.953Z"
   },
   {
    "duration": 42,
    "start_time": "2022-11-19T22:41:23.963Z"
   },
   {
    "duration": 40,
    "start_time": "2022-11-19T22:41:24.007Z"
   },
   {
    "duration": 40,
    "start_time": "2022-11-19T22:41:24.049Z"
   },
   {
    "duration": 43,
    "start_time": "2022-11-19T22:41:24.091Z"
   },
   {
    "duration": 36,
    "start_time": "2022-11-19T22:41:24.135Z"
   },
   {
    "duration": 49,
    "start_time": "2022-11-19T22:41:24.172Z"
   },
   {
    "duration": 41,
    "start_time": "2022-11-19T22:41:24.222Z"
   },
   {
    "duration": 18,
    "start_time": "2022-11-19T22:41:24.264Z"
   },
   {
    "duration": 25,
    "start_time": "2022-11-19T22:41:24.284Z"
   },
   {
    "duration": 17,
    "start_time": "2022-11-19T22:41:24.311Z"
   },
   {
    "duration": 29,
    "start_time": "2022-11-19T22:41:24.329Z"
   },
   {
    "duration": 17,
    "start_time": "2022-11-19T22:41:24.360Z"
   },
   {
    "duration": 15,
    "start_time": "2022-11-19T22:41:24.378Z"
   },
   {
    "duration": 32,
    "start_time": "2022-11-19T22:41:24.395Z"
   },
   {
    "duration": 10,
    "start_time": "2022-11-19T22:41:24.428Z"
   },
   {
    "duration": 27,
    "start_time": "2022-11-19T22:41:24.440Z"
   },
   {
    "duration": 18,
    "start_time": "2022-11-19T22:41:24.468Z"
   },
   {
    "duration": 24,
    "start_time": "2022-11-19T22:41:24.487Z"
   },
   {
    "duration": 12,
    "start_time": "2022-11-19T22:41:24.512Z"
   },
   {
    "duration": 9,
    "start_time": "2022-11-19T22:41:24.526Z"
   },
   {
    "duration": 18,
    "start_time": "2022-11-19T22:41:24.538Z"
   },
   {
    "duration": 14,
    "start_time": "2022-11-19T22:41:24.558Z"
   },
   {
    "duration": 27,
    "start_time": "2022-11-19T22:41:24.574Z"
   },
   {
    "duration": 21,
    "start_time": "2022-11-19T22:41:24.602Z"
   },
   {
    "duration": 14,
    "start_time": "2022-11-19T22:41:24.624Z"
   },
   {
    "duration": 38,
    "start_time": "2022-11-19T22:41:24.639Z"
   },
   {
    "duration": 52,
    "start_time": "2022-11-19T22:41:24.679Z"
   },
   {
    "duration": 15,
    "start_time": "2022-11-19T22:41:24.733Z"
   },
   {
    "duration": 24,
    "start_time": "2022-11-19T22:41:24.750Z"
   },
   {
    "duration": 10,
    "start_time": "2022-11-19T22:41:24.776Z"
   },
   {
    "duration": 21,
    "start_time": "2022-11-19T22:41:24.788Z"
   },
   {
    "duration": 11,
    "start_time": "2022-11-19T22:41:24.811Z"
   },
   {
    "duration": 24,
    "start_time": "2022-11-19T22:41:24.823Z"
   },
   {
    "duration": 69,
    "start_time": "2022-11-19T22:41:24.849Z"
   },
   {
    "duration": 62,
    "start_time": "2022-11-19T22:41:24.919Z"
   },
   {
    "duration": 491,
    "start_time": "2022-11-19T22:42:15.801Z"
   },
   {
    "duration": 14,
    "start_time": "2022-11-19T22:42:16.294Z"
   },
   {
    "duration": 31,
    "start_time": "2022-11-19T22:42:16.310Z"
   },
   {
    "duration": 11,
    "start_time": "2022-11-19T22:42:16.343Z"
   },
   {
    "duration": 10,
    "start_time": "2022-11-19T22:42:16.355Z"
   },
   {
    "duration": 55,
    "start_time": "2022-11-19T22:42:16.366Z"
   },
   {
    "duration": 9,
    "start_time": "2022-11-19T22:42:16.423Z"
   },
   {
    "duration": 20,
    "start_time": "2022-11-19T22:42:16.433Z"
   },
   {
    "duration": 16,
    "start_time": "2022-11-19T22:42:16.454Z"
   },
   {
    "duration": 17,
    "start_time": "2022-11-19T22:42:16.472Z"
   },
   {
    "duration": 15,
    "start_time": "2022-11-19T22:42:16.490Z"
   },
   {
    "duration": 11,
    "start_time": "2022-11-19T22:42:16.506Z"
   },
   {
    "duration": 11,
    "start_time": "2022-11-19T22:42:16.519Z"
   },
   {
    "duration": 9,
    "start_time": "2022-11-19T22:42:16.531Z"
   },
   {
    "duration": 5,
    "start_time": "2022-11-19T22:42:16.541Z"
   },
   {
    "duration": 11,
    "start_time": "2022-11-19T22:42:16.548Z"
   },
   {
    "duration": 10,
    "start_time": "2022-11-19T22:42:16.561Z"
   },
   {
    "duration": 11,
    "start_time": "2022-11-19T22:42:16.572Z"
   },
   {
    "duration": 18,
    "start_time": "2022-11-19T22:42:16.584Z"
   },
   {
    "duration": 4,
    "start_time": "2022-11-19T22:42:16.603Z"
   },
   {
    "duration": 31,
    "start_time": "2022-11-19T22:42:16.608Z"
   },
   {
    "duration": 3,
    "start_time": "2022-11-19T22:42:16.641Z"
   },
   {
    "duration": 17,
    "start_time": "2022-11-19T22:42:16.645Z"
   },
   {
    "duration": 7,
    "start_time": "2022-11-19T22:42:16.664Z"
   },
   {
    "duration": 38,
    "start_time": "2022-11-19T22:42:16.672Z"
   },
   {
    "duration": 12,
    "start_time": "2022-11-19T22:42:16.711Z"
   },
   {
    "duration": 6,
    "start_time": "2022-11-19T22:42:16.725Z"
   },
   {
    "duration": 14,
    "start_time": "2022-11-19T22:42:16.735Z"
   },
   {
    "duration": 6,
    "start_time": "2022-11-19T22:42:16.750Z"
   },
   {
    "duration": 9,
    "start_time": "2022-11-19T22:42:16.758Z"
   },
   {
    "duration": 30,
    "start_time": "2022-11-19T22:42:16.768Z"
   },
   {
    "duration": 4,
    "start_time": "2022-11-19T22:42:16.799Z"
   },
   {
    "duration": 9,
    "start_time": "2022-11-19T22:42:16.804Z"
   },
   {
    "duration": 36,
    "start_time": "2022-11-19T22:42:16.814Z"
   },
   {
    "duration": 11,
    "start_time": "2022-11-19T22:42:16.852Z"
   },
   {
    "duration": 10,
    "start_time": "2022-11-19T22:42:16.864Z"
   },
   {
    "duration": 10,
    "start_time": "2022-11-19T22:42:16.875Z"
   },
   {
    "duration": 11,
    "start_time": "2022-11-19T22:42:16.887Z"
   },
   {
    "duration": 11,
    "start_time": "2022-11-19T22:42:16.899Z"
   },
   {
    "duration": 9,
    "start_time": "2022-11-19T22:42:16.911Z"
   },
   {
    "duration": 10,
    "start_time": "2022-11-19T22:42:16.921Z"
   },
   {
    "duration": 45,
    "start_time": "2022-11-19T22:42:16.932Z"
   },
   {
    "duration": 463,
    "start_time": "2022-11-19T22:43:21.014Z"
   },
   {
    "duration": 14,
    "start_time": "2022-11-19T22:43:21.478Z"
   },
   {
    "duration": 11,
    "start_time": "2022-11-19T22:43:21.493Z"
   },
   {
    "duration": 5,
    "start_time": "2022-11-19T22:43:21.506Z"
   },
   {
    "duration": 6,
    "start_time": "2022-11-19T22:43:21.512Z"
   },
   {
    "duration": 44,
    "start_time": "2022-11-19T22:43:21.519Z"
   },
   {
    "duration": 9,
    "start_time": "2022-11-19T22:43:21.565Z"
   },
   {
    "duration": 17,
    "start_time": "2022-11-19T22:43:21.576Z"
   },
   {
    "duration": 14,
    "start_time": "2022-11-19T22:43:21.595Z"
   },
   {
    "duration": 13,
    "start_time": "2022-11-19T22:43:21.612Z"
   },
   {
    "duration": 9,
    "start_time": "2022-11-19T22:43:21.626Z"
   },
   {
    "duration": 14,
    "start_time": "2022-11-19T22:43:21.637Z"
   },
   {
    "duration": 8,
    "start_time": "2022-11-19T22:43:21.653Z"
   },
   {
    "duration": 7,
    "start_time": "2022-11-19T22:43:21.662Z"
   },
   {
    "duration": 12,
    "start_time": "2022-11-19T22:43:21.670Z"
   },
   {
    "duration": 9,
    "start_time": "2022-11-19T22:43:21.683Z"
   },
   {
    "duration": 10,
    "start_time": "2022-11-19T22:43:21.693Z"
   },
   {
    "duration": 13,
    "start_time": "2022-11-19T22:43:21.704Z"
   },
   {
    "duration": 7,
    "start_time": "2022-11-19T22:43:21.719Z"
   },
   {
    "duration": 7,
    "start_time": "2022-11-19T22:43:21.728Z"
   },
   {
    "duration": 71,
    "start_time": "2022-11-19T22:43:21.736Z"
   },
   {
    "duration": 3,
    "start_time": "2022-11-19T22:43:21.809Z"
   },
   {
    "duration": 15,
    "start_time": "2022-11-19T22:43:21.813Z"
   },
   {
    "duration": 6,
    "start_time": "2022-11-19T22:43:21.830Z"
   },
   {
    "duration": 69,
    "start_time": "2022-11-19T22:43:21.838Z"
   },
   {
    "duration": 13,
    "start_time": "2022-11-19T22:43:21.909Z"
   },
   {
    "duration": 6,
    "start_time": "2022-11-19T22:43:21.924Z"
   },
   {
    "duration": 22,
    "start_time": "2022-11-19T22:43:21.933Z"
   },
   {
    "duration": 6,
    "start_time": "2022-11-19T22:43:21.956Z"
   },
   {
    "duration": 10,
    "start_time": "2022-11-19T22:43:21.963Z"
   },
   {
    "duration": 11,
    "start_time": "2022-11-19T22:43:21.996Z"
   },
   {
    "duration": 6,
    "start_time": "2022-11-19T22:43:22.008Z"
   },
   {
    "duration": 5,
    "start_time": "2022-11-19T22:43:22.016Z"
   },
   {
    "duration": 77,
    "start_time": "2022-11-19T22:43:22.022Z"
   },
   {
    "duration": 6,
    "start_time": "2022-11-19T22:43:22.101Z"
   },
   {
    "duration": 8,
    "start_time": "2022-11-19T22:43:22.108Z"
   },
   {
    "duration": 7,
    "start_time": "2022-11-19T22:43:22.117Z"
   },
   {
    "duration": 7,
    "start_time": "2022-11-19T22:43:22.126Z"
   },
   {
    "duration": 6,
    "start_time": "2022-11-19T22:43:22.134Z"
   },
   {
    "duration": 58,
    "start_time": "2022-11-19T22:43:22.141Z"
   },
   {
    "duration": 6,
    "start_time": "2022-11-19T22:43:22.200Z"
   },
   {
    "duration": 40,
    "start_time": "2022-11-19T22:43:22.207Z"
   },
   {
    "duration": 4,
    "start_time": "2022-11-19T22:44:24.383Z"
   },
   {
    "duration": 536,
    "start_time": "2022-11-19T22:44:48.463Z"
   },
   {
    "duration": 487,
    "start_time": "2022-11-19T22:45:15.364Z"
   },
   {
    "duration": 15,
    "start_time": "2022-11-19T22:45:15.853Z"
   },
   {
    "duration": 24,
    "start_time": "2022-11-19T22:45:15.870Z"
   },
   {
    "duration": 6,
    "start_time": "2022-11-19T22:45:15.898Z"
   },
   {
    "duration": 5,
    "start_time": "2022-11-19T22:45:15.906Z"
   },
   {
    "duration": 48,
    "start_time": "2022-11-19T22:45:15.913Z"
   },
   {
    "duration": 10,
    "start_time": "2022-11-19T22:45:15.963Z"
   },
   {
    "duration": 12,
    "start_time": "2022-11-19T22:45:15.975Z"
   },
   {
    "duration": 13,
    "start_time": "2022-11-19T22:45:15.988Z"
   },
   {
    "duration": 14,
    "start_time": "2022-11-19T22:45:16.005Z"
   },
   {
    "duration": 8,
    "start_time": "2022-11-19T22:45:16.020Z"
   },
   {
    "duration": 9,
    "start_time": "2022-11-19T22:45:16.030Z"
   },
   {
    "duration": 8,
    "start_time": "2022-11-19T22:45:16.041Z"
   },
   {
    "duration": 16,
    "start_time": "2022-11-19T22:45:16.050Z"
   },
   {
    "duration": 30,
    "start_time": "2022-11-19T22:45:16.067Z"
   },
   {
    "duration": 6,
    "start_time": "2022-11-19T22:45:16.099Z"
   },
   {
    "duration": 23,
    "start_time": "2022-11-19T22:45:16.106Z"
   },
   {
    "duration": 13,
    "start_time": "2022-11-19T22:45:16.131Z"
   },
   {
    "duration": 17,
    "start_time": "2022-11-19T22:45:16.145Z"
   },
   {
    "duration": 13,
    "start_time": "2022-11-19T22:45:16.163Z"
   },
   {
    "duration": 29,
    "start_time": "2022-11-19T22:45:16.177Z"
   },
   {
    "duration": 3,
    "start_time": "2022-11-19T22:45:16.207Z"
   },
   {
    "duration": 16,
    "start_time": "2022-11-19T22:45:16.211Z"
   },
   {
    "duration": 7,
    "start_time": "2022-11-19T22:45:16.228Z"
   },
   {
    "duration": 20,
    "start_time": "2022-11-19T22:45:16.236Z"
   },
   {
    "duration": 14,
    "start_time": "2022-11-19T22:45:16.258Z"
   },
   {
    "duration": 25,
    "start_time": "2022-11-19T22:45:16.274Z"
   },
   {
    "duration": 14,
    "start_time": "2022-11-19T22:45:16.302Z"
   },
   {
    "duration": 7,
    "start_time": "2022-11-19T22:45:16.317Z"
   },
   {
    "duration": 10,
    "start_time": "2022-11-19T22:45:16.326Z"
   },
   {
    "duration": 9,
    "start_time": "2022-11-19T22:45:16.338Z"
   },
   {
    "duration": 9,
    "start_time": "2022-11-19T22:45:16.348Z"
   },
   {
    "duration": 6,
    "start_time": "2022-11-19T22:45:16.358Z"
   },
   {
    "duration": 60,
    "start_time": "2022-11-19T22:45:16.365Z"
   },
   {
    "duration": 5,
    "start_time": "2022-11-19T22:45:16.426Z"
   },
   {
    "duration": 9,
    "start_time": "2022-11-19T22:45:16.432Z"
   },
   {
    "duration": 9,
    "start_time": "2022-11-19T22:45:16.443Z"
   },
   {
    "duration": 8,
    "start_time": "2022-11-19T22:45:16.453Z"
   },
   {
    "duration": 6,
    "start_time": "2022-11-19T22:45:16.462Z"
   },
   {
    "duration": 10,
    "start_time": "2022-11-19T22:45:16.469Z"
   },
   {
    "duration": 21,
    "start_time": "2022-11-19T22:45:16.480Z"
   },
   {
    "duration": 41,
    "start_time": "2022-11-19T22:45:16.502Z"
   },
   {
    "duration": 8,
    "start_time": "2022-11-19T22:45:16.545Z"
   },
   {
    "duration": 6,
    "start_time": "2022-11-19T22:45:16.554Z"
   },
   {
    "duration": 4,
    "start_time": "2022-11-19T22:47:28.459Z"
   },
   {
    "duration": 449,
    "start_time": "2022-11-19T22:47:36.030Z"
   },
   {
    "duration": 13,
    "start_time": "2022-11-19T22:47:36.481Z"
   },
   {
    "duration": 22,
    "start_time": "2022-11-19T22:47:36.495Z"
   },
   {
    "duration": 25,
    "start_time": "2022-11-19T22:47:36.519Z"
   },
   {
    "duration": 32,
    "start_time": "2022-11-19T22:47:36.545Z"
   },
   {
    "duration": 74,
    "start_time": "2022-11-19T22:47:36.579Z"
   },
   {
    "duration": 9,
    "start_time": "2022-11-19T22:47:36.655Z"
   },
   {
    "duration": 33,
    "start_time": "2022-11-19T22:47:36.666Z"
   },
   {
    "duration": 20,
    "start_time": "2022-11-19T22:47:36.701Z"
   },
   {
    "duration": 22,
    "start_time": "2022-11-19T22:47:36.723Z"
   },
   {
    "duration": 20,
    "start_time": "2022-11-19T22:47:36.747Z"
   },
   {
    "duration": 40,
    "start_time": "2022-11-19T22:47:36.768Z"
   },
   {
    "duration": 55,
    "start_time": "2022-11-19T22:47:36.809Z"
   },
   {
    "duration": 37,
    "start_time": "2022-11-19T22:47:36.866Z"
   },
   {
    "duration": 16,
    "start_time": "2022-11-19T22:47:36.904Z"
   },
   {
    "duration": 24,
    "start_time": "2022-11-19T22:47:36.922Z"
   },
   {
    "duration": 19,
    "start_time": "2022-11-19T22:47:36.947Z"
   },
   {
    "duration": 46,
    "start_time": "2022-11-19T22:47:36.967Z"
   },
   {
    "duration": 30,
    "start_time": "2022-11-19T22:47:37.015Z"
   },
   {
    "duration": 25,
    "start_time": "2022-11-19T22:47:37.047Z"
   },
   {
    "duration": 9,
    "start_time": "2022-11-19T22:47:37.074Z"
   },
   {
    "duration": 21,
    "start_time": "2022-11-19T22:47:37.084Z"
   },
   {
    "duration": 14,
    "start_time": "2022-11-19T22:47:37.106Z"
   },
   {
    "duration": 5,
    "start_time": "2022-11-19T22:47:37.122Z"
   },
   {
    "duration": 13,
    "start_time": "2022-11-19T22:47:37.128Z"
   },
   {
    "duration": 6,
    "start_time": "2022-11-19T22:47:37.143Z"
   },
   {
    "duration": 8,
    "start_time": "2022-11-19T22:47:37.150Z"
   },
   {
    "duration": 10,
    "start_time": "2022-11-19T22:47:37.161Z"
   },
   {
    "duration": 25,
    "start_time": "2022-11-19T22:47:37.173Z"
   },
   {
    "duration": 3,
    "start_time": "2022-11-19T22:47:37.200Z"
   },
   {
    "duration": 35,
    "start_time": "2022-11-19T22:47:37.204Z"
   },
   {
    "duration": 5,
    "start_time": "2022-11-19T22:47:37.240Z"
   },
   {
    "duration": 8,
    "start_time": "2022-11-19T22:47:37.246Z"
   },
   {
    "duration": 8,
    "start_time": "2022-11-19T22:47:37.255Z"
   },
   {
    "duration": 10,
    "start_time": "2022-11-19T22:47:37.265Z"
   },
   {
    "duration": 29,
    "start_time": "2022-11-19T22:47:37.276Z"
   },
   {
    "duration": 15,
    "start_time": "2022-11-19T22:47:37.306Z"
   },
   {
    "duration": 8,
    "start_time": "2022-11-19T22:47:37.323Z"
   },
   {
    "duration": 11,
    "start_time": "2022-11-19T22:47:37.333Z"
   },
   {
    "duration": 13,
    "start_time": "2022-11-19T22:47:37.346Z"
   },
   {
    "duration": 7,
    "start_time": "2022-11-19T22:47:37.360Z"
   },
   {
    "duration": 5,
    "start_time": "2022-11-19T22:47:37.368Z"
   },
   {
    "duration": 61,
    "start_time": "2022-11-20T04:13:18.280Z"
   },
   {
    "duration": 433,
    "start_time": "2022-11-20T04:13:33.837Z"
   },
   {
    "duration": 14,
    "start_time": "2022-11-20T04:13:34.272Z"
   },
   {
    "duration": 11,
    "start_time": "2022-11-20T04:13:34.287Z"
   },
   {
    "duration": 6,
    "start_time": "2022-11-20T04:13:34.299Z"
   },
   {
    "duration": 6,
    "start_time": "2022-11-20T04:13:34.307Z"
   },
   {
    "duration": 43,
    "start_time": "2022-11-20T04:13:34.315Z"
   },
   {
    "duration": 8,
    "start_time": "2022-11-20T04:13:34.360Z"
   },
   {
    "duration": 14,
    "start_time": "2022-11-20T04:13:34.369Z"
   },
   {
    "duration": 13,
    "start_time": "2022-11-20T04:13:34.384Z"
   },
   {
    "duration": 14,
    "start_time": "2022-11-20T04:13:34.399Z"
   },
   {
    "duration": 9,
    "start_time": "2022-11-20T04:13:34.415Z"
   },
   {
    "duration": 16,
    "start_time": "2022-11-20T04:13:34.425Z"
   },
   {
    "duration": 11,
    "start_time": "2022-11-20T04:13:34.442Z"
   },
   {
    "duration": 10,
    "start_time": "2022-11-20T04:13:34.455Z"
   },
   {
    "duration": 9,
    "start_time": "2022-11-20T04:13:34.466Z"
   },
   {
    "duration": 27,
    "start_time": "2022-11-20T04:13:34.476Z"
   },
   {
    "duration": 10,
    "start_time": "2022-11-20T04:13:34.505Z"
   },
   {
    "duration": 35,
    "start_time": "2022-11-20T04:13:34.517Z"
   },
   {
    "duration": 13,
    "start_time": "2022-11-20T04:13:34.554Z"
   },
   {
    "duration": 24,
    "start_time": "2022-11-20T04:13:34.569Z"
   },
   {
    "duration": 8,
    "start_time": "2022-11-20T04:13:34.595Z"
   },
   {
    "duration": 20,
    "start_time": "2022-11-20T04:13:34.605Z"
   },
   {
    "duration": 13,
    "start_time": "2022-11-20T04:13:34.626Z"
   },
   {
    "duration": 5,
    "start_time": "2022-11-20T04:13:34.640Z"
   },
   {
    "duration": 12,
    "start_time": "2022-11-20T04:13:34.647Z"
   },
   {
    "duration": 5,
    "start_time": "2022-11-20T04:13:34.661Z"
   },
   {
    "duration": 35,
    "start_time": "2022-11-20T04:13:34.668Z"
   },
   {
    "duration": 9,
    "start_time": "2022-11-20T04:13:34.706Z"
   },
   {
    "duration": 6,
    "start_time": "2022-11-20T04:13:34.716Z"
   },
   {
    "duration": 5,
    "start_time": "2022-11-20T04:13:34.724Z"
   },
   {
    "duration": 31,
    "start_time": "2022-11-20T04:13:34.730Z"
   },
   {
    "duration": 5,
    "start_time": "2022-11-20T04:13:34.762Z"
   },
   {
    "duration": 9,
    "start_time": "2022-11-20T04:13:34.769Z"
   },
   {
    "duration": 6,
    "start_time": "2022-11-20T04:13:34.797Z"
   },
   {
    "duration": 7,
    "start_time": "2022-11-20T04:13:34.805Z"
   },
   {
    "duration": 6,
    "start_time": "2022-11-20T04:13:34.814Z"
   },
   {
    "duration": 10,
    "start_time": "2022-11-20T04:13:34.821Z"
   },
   {
    "duration": 9,
    "start_time": "2022-11-20T04:13:34.833Z"
   },
   {
    "duration": 11,
    "start_time": "2022-11-20T04:13:34.843Z"
   },
   {
    "duration": 84,
    "start_time": "2022-11-20T04:13:34.856Z"
   },
   {
    "duration": 0,
    "start_time": "2022-11-20T04:13:34.941Z"
   },
   {
    "duration": 0,
    "start_time": "2022-11-20T04:13:34.942Z"
   },
   {
    "duration": 0,
    "start_time": "2022-11-20T04:13:34.943Z"
   },
   {
    "duration": 7,
    "start_time": "2022-11-20T04:13:46.668Z"
   },
   {
    "duration": 11,
    "start_time": "2022-11-20T04:14:59.085Z"
   },
   {
    "duration": 11,
    "start_time": "2022-11-20T04:16:06.672Z"
   },
   {
    "duration": 6,
    "start_time": "2022-11-20T04:17:25.463Z"
   },
   {
    "duration": 5,
    "start_time": "2022-11-20T04:17:35.538Z"
   },
   {
    "duration": 12,
    "start_time": "2022-11-20T04:21:23.393Z"
   },
   {
    "duration": 12,
    "start_time": "2022-11-20T04:21:53.096Z"
   },
   {
    "duration": 15,
    "start_time": "2022-11-20T04:23:15.135Z"
   },
   {
    "duration": 4,
    "start_time": "2022-11-20T04:23:41.640Z"
   },
   {
    "duration": 4,
    "start_time": "2022-11-20T04:24:19.778Z"
   },
   {
    "duration": 6,
    "start_time": "2022-11-20T04:24:48.485Z"
   },
   {
    "duration": 14,
    "start_time": "2022-11-20T04:24:55.797Z"
   },
   {
    "duration": 8,
    "start_time": "2022-11-20T04:25:20.689Z"
   },
   {
    "duration": 14,
    "start_time": "2022-11-20T04:25:32.829Z"
   },
   {
    "duration": 8,
    "start_time": "2022-11-20T04:26:01.232Z"
   },
   {
    "duration": 6,
    "start_time": "2022-11-20T04:26:31.407Z"
   },
   {
    "duration": 10,
    "start_time": "2022-11-20T04:27:40.321Z"
   },
   {
    "duration": 11,
    "start_time": "2022-11-20T04:28:39.166Z"
   },
   {
    "duration": 11,
    "start_time": "2022-11-20T04:31:46.551Z"
   },
   {
    "duration": 6,
    "start_time": "2022-11-20T04:41:50.047Z"
   },
   {
    "duration": 10,
    "start_time": "2022-11-20T04:42:00.899Z"
   },
   {
    "duration": 431,
    "start_time": "2022-11-20T04:44:20.443Z"
   },
   {
    "duration": 14,
    "start_time": "2022-11-20T04:44:20.876Z"
   },
   {
    "duration": 13,
    "start_time": "2022-11-20T04:44:20.892Z"
   },
   {
    "duration": 5,
    "start_time": "2022-11-20T04:44:20.907Z"
   },
   {
    "duration": 7,
    "start_time": "2022-11-20T04:44:20.914Z"
   },
   {
    "duration": 46,
    "start_time": "2022-11-20T04:44:20.922Z"
   },
   {
    "duration": 9,
    "start_time": "2022-11-20T04:44:20.969Z"
   },
   {
    "duration": 12,
    "start_time": "2022-11-20T04:44:20.979Z"
   },
   {
    "duration": 12,
    "start_time": "2022-11-20T04:44:20.992Z"
   },
   {
    "duration": 12,
    "start_time": "2022-11-20T04:44:21.006Z"
   },
   {
    "duration": 8,
    "start_time": "2022-11-20T04:44:21.019Z"
   },
   {
    "duration": 15,
    "start_time": "2022-11-20T04:44:21.028Z"
   },
   {
    "duration": 13,
    "start_time": "2022-11-20T04:44:21.045Z"
   },
   {
    "duration": 8,
    "start_time": "2022-11-20T04:44:21.060Z"
   },
   {
    "duration": 5,
    "start_time": "2022-11-20T04:44:21.069Z"
   },
   {
    "duration": 8,
    "start_time": "2022-11-20T04:44:21.075Z"
   },
   {
    "duration": 18,
    "start_time": "2022-11-20T04:44:21.084Z"
   },
   {
    "duration": 27,
    "start_time": "2022-11-20T04:44:21.103Z"
   },
   {
    "duration": 3,
    "start_time": "2022-11-20T04:44:21.131Z"
   },
   {
    "duration": 14,
    "start_time": "2022-11-20T04:44:21.135Z"
   },
   {
    "duration": 6,
    "start_time": "2022-11-20T04:44:21.150Z"
   },
   {
    "duration": 40,
    "start_time": "2022-11-20T04:44:21.158Z"
   },
   {
    "duration": 13,
    "start_time": "2022-11-20T04:44:21.199Z"
   },
   {
    "duration": 3,
    "start_time": "2022-11-20T04:44:21.214Z"
   },
   {
    "duration": 16,
    "start_time": "2022-11-20T04:44:21.218Z"
   },
   {
    "duration": 10,
    "start_time": "2022-11-20T04:44:21.235Z"
   },
   {
    "duration": 3,
    "start_time": "2022-11-20T04:44:21.247Z"
   },
   {
    "duration": 9,
    "start_time": "2022-11-20T04:44:21.253Z"
   },
   {
    "duration": 36,
    "start_time": "2022-11-20T04:44:21.264Z"
   },
   {
    "duration": 4,
    "start_time": "2022-11-20T04:44:21.301Z"
   },
   {
    "duration": 7,
    "start_time": "2022-11-20T04:44:21.307Z"
   },
   {
    "duration": 8,
    "start_time": "2022-11-20T04:44:21.316Z"
   },
   {
    "duration": 10,
    "start_time": "2022-11-20T04:44:21.325Z"
   },
   {
    "duration": 76,
    "start_time": "2022-11-20T04:44:21.336Z"
   },
   {
    "duration": 0,
    "start_time": "2022-11-20T04:44:21.414Z"
   },
   {
    "duration": 0,
    "start_time": "2022-11-20T04:44:21.415Z"
   },
   {
    "duration": 0,
    "start_time": "2022-11-20T04:44:21.416Z"
   },
   {
    "duration": 0,
    "start_time": "2022-11-20T04:44:21.417Z"
   },
   {
    "duration": 0,
    "start_time": "2022-11-20T04:44:21.418Z"
   },
   {
    "duration": 0,
    "start_time": "2022-11-20T04:44:21.419Z"
   },
   {
    "duration": 0,
    "start_time": "2022-11-20T04:44:21.420Z"
   },
   {
    "duration": 0,
    "start_time": "2022-11-20T04:44:21.421Z"
   },
   {
    "duration": 0,
    "start_time": "2022-11-20T04:44:21.422Z"
   },
   {
    "duration": 0,
    "start_time": "2022-11-20T04:44:21.423Z"
   },
   {
    "duration": 0,
    "start_time": "2022-11-20T04:44:21.424Z"
   },
   {
    "duration": 0,
    "start_time": "2022-11-20T04:44:21.425Z"
   },
   {
    "duration": 0,
    "start_time": "2022-11-20T04:44:21.426Z"
   },
   {
    "duration": 10,
    "start_time": "2022-11-20T04:45:29.046Z"
   },
   {
    "duration": 452,
    "start_time": "2022-11-20T04:45:33.616Z"
   },
   {
    "duration": 12,
    "start_time": "2022-11-20T04:45:34.070Z"
   },
   {
    "duration": 14,
    "start_time": "2022-11-20T04:45:34.083Z"
   },
   {
    "duration": 6,
    "start_time": "2022-11-20T04:45:34.098Z"
   },
   {
    "duration": 5,
    "start_time": "2022-11-20T04:45:34.105Z"
   },
   {
    "duration": 47,
    "start_time": "2022-11-20T04:45:34.111Z"
   },
   {
    "duration": 9,
    "start_time": "2022-11-20T04:45:34.160Z"
   },
   {
    "duration": 14,
    "start_time": "2022-11-20T04:45:34.170Z"
   },
   {
    "duration": 10,
    "start_time": "2022-11-20T04:45:34.185Z"
   },
   {
    "duration": 12,
    "start_time": "2022-11-20T04:45:34.197Z"
   },
   {
    "duration": 8,
    "start_time": "2022-11-20T04:45:34.210Z"
   },
   {
    "duration": 12,
    "start_time": "2022-11-20T04:45:34.220Z"
   },
   {
    "duration": 7,
    "start_time": "2022-11-20T04:45:34.233Z"
   },
   {
    "duration": 12,
    "start_time": "2022-11-20T04:45:34.241Z"
   },
   {
    "duration": 4,
    "start_time": "2022-11-20T04:45:34.254Z"
   },
   {
    "duration": 65,
    "start_time": "2022-11-20T04:45:34.259Z"
   },
   {
    "duration": 14,
    "start_time": "2022-11-20T04:45:34.326Z"
   },
   {
    "duration": 45,
    "start_time": "2022-11-20T04:45:34.341Z"
   },
   {
    "duration": 70,
    "start_time": "2022-11-20T04:45:34.387Z"
   },
   {
    "duration": 0,
    "start_time": "2022-11-20T04:45:34.459Z"
   },
   {
    "duration": 0,
    "start_time": "2022-11-20T04:45:34.460Z"
   },
   {
    "duration": 0,
    "start_time": "2022-11-20T04:45:34.461Z"
   },
   {
    "duration": 0,
    "start_time": "2022-11-20T04:45:34.462Z"
   },
   {
    "duration": 0,
    "start_time": "2022-11-20T04:45:34.463Z"
   },
   {
    "duration": 0,
    "start_time": "2022-11-20T04:45:34.464Z"
   },
   {
    "duration": 0,
    "start_time": "2022-11-20T04:45:34.465Z"
   },
   {
    "duration": 0,
    "start_time": "2022-11-20T04:45:34.466Z"
   },
   {
    "duration": 0,
    "start_time": "2022-11-20T04:45:34.467Z"
   },
   {
    "duration": 0,
    "start_time": "2022-11-20T04:45:34.467Z"
   },
   {
    "duration": 0,
    "start_time": "2022-11-20T04:45:34.469Z"
   },
   {
    "duration": 0,
    "start_time": "2022-11-20T04:45:34.469Z"
   },
   {
    "duration": 0,
    "start_time": "2022-11-20T04:45:34.471Z"
   },
   {
    "duration": 0,
    "start_time": "2022-11-20T04:45:34.471Z"
   },
   {
    "duration": 0,
    "start_time": "2022-11-20T04:45:34.472Z"
   },
   {
    "duration": 0,
    "start_time": "2022-11-20T04:45:34.473Z"
   },
   {
    "duration": 0,
    "start_time": "2022-11-20T04:45:34.497Z"
   },
   {
    "duration": 0,
    "start_time": "2022-11-20T04:45:34.498Z"
   },
   {
    "duration": 0,
    "start_time": "2022-11-20T04:45:34.499Z"
   },
   {
    "duration": 0,
    "start_time": "2022-11-20T04:45:34.500Z"
   },
   {
    "duration": 0,
    "start_time": "2022-11-20T04:45:34.501Z"
   },
   {
    "duration": 0,
    "start_time": "2022-11-20T04:45:34.502Z"
   },
   {
    "duration": 0,
    "start_time": "2022-11-20T04:45:34.503Z"
   },
   {
    "duration": 0,
    "start_time": "2022-11-20T04:45:34.504Z"
   },
   {
    "duration": 0,
    "start_time": "2022-11-20T04:45:34.505Z"
   },
   {
    "duration": 0,
    "start_time": "2022-11-20T04:45:34.505Z"
   },
   {
    "duration": 0,
    "start_time": "2022-11-20T04:45:34.506Z"
   },
   {
    "duration": 0,
    "start_time": "2022-11-20T04:45:34.507Z"
   },
   {
    "duration": 50,
    "start_time": "2022-11-20T04:47:45.838Z"
   },
   {
    "duration": 3,
    "start_time": "2022-11-20T04:47:47.535Z"
   },
   {
    "duration": 433,
    "start_time": "2022-11-20T04:47:52.252Z"
   },
   {
    "duration": 14,
    "start_time": "2022-11-20T04:47:52.687Z"
   },
   {
    "duration": 13,
    "start_time": "2022-11-20T04:47:52.703Z"
   },
   {
    "duration": 7,
    "start_time": "2022-11-20T04:47:52.717Z"
   },
   {
    "duration": 7,
    "start_time": "2022-11-20T04:47:52.726Z"
   },
   {
    "duration": 46,
    "start_time": "2022-11-20T04:47:52.734Z"
   },
   {
    "duration": 10,
    "start_time": "2022-11-20T04:47:52.782Z"
   },
   {
    "duration": 13,
    "start_time": "2022-11-20T04:47:52.793Z"
   },
   {
    "duration": 12,
    "start_time": "2022-11-20T04:47:52.807Z"
   },
   {
    "duration": 13,
    "start_time": "2022-11-20T04:47:52.820Z"
   },
   {
    "duration": 7,
    "start_time": "2022-11-20T04:47:52.834Z"
   },
   {
    "duration": 11,
    "start_time": "2022-11-20T04:47:52.842Z"
   },
   {
    "duration": 7,
    "start_time": "2022-11-20T04:47:52.854Z"
   },
   {
    "duration": 37,
    "start_time": "2022-11-20T04:47:52.864Z"
   },
   {
    "duration": 4,
    "start_time": "2022-11-20T04:47:52.902Z"
   },
   {
    "duration": 39,
    "start_time": "2022-11-20T04:47:52.907Z"
   },
   {
    "duration": 9,
    "start_time": "2022-11-20T04:47:52.947Z"
   },
   {
    "duration": 76,
    "start_time": "2022-11-20T04:47:52.958Z"
   },
   {
    "duration": 5,
    "start_time": "2022-11-20T04:47:53.035Z"
   },
   {
    "duration": 15,
    "start_time": "2022-11-20T04:47:53.041Z"
   },
   {
    "duration": 9,
    "start_time": "2022-11-20T04:47:53.058Z"
   },
   {
    "duration": 46,
    "start_time": "2022-11-20T04:47:53.069Z"
   },
   {
    "duration": 13,
    "start_time": "2022-11-20T04:47:53.117Z"
   },
   {
    "duration": 6,
    "start_time": "2022-11-20T04:47:53.131Z"
   },
   {
    "duration": 19,
    "start_time": "2022-11-20T04:47:53.139Z"
   },
   {
    "duration": 15,
    "start_time": "2022-11-20T04:47:53.160Z"
   },
   {
    "duration": 22,
    "start_time": "2022-11-20T04:47:53.176Z"
   },
   {
    "duration": 10,
    "start_time": "2022-11-20T04:47:53.200Z"
   },
   {
    "duration": 6,
    "start_time": "2022-11-20T04:47:53.211Z"
   },
   {
    "duration": 7,
    "start_time": "2022-11-20T04:47:53.218Z"
   },
   {
    "duration": 9,
    "start_time": "2022-11-20T04:47:53.226Z"
   },
   {
    "duration": 8,
    "start_time": "2022-11-20T04:47:53.236Z"
   },
   {
    "duration": 8,
    "start_time": "2022-11-20T04:47:53.245Z"
   },
   {
    "duration": 99,
    "start_time": "2022-11-20T04:47:53.255Z"
   },
   {
    "duration": 0,
    "start_time": "2022-11-20T04:47:53.356Z"
   },
   {
    "duration": 0,
    "start_time": "2022-11-20T04:47:53.357Z"
   },
   {
    "duration": 0,
    "start_time": "2022-11-20T04:47:53.358Z"
   },
   {
    "duration": 0,
    "start_time": "2022-11-20T04:47:53.359Z"
   },
   {
    "duration": 0,
    "start_time": "2022-11-20T04:47:53.360Z"
   },
   {
    "duration": 0,
    "start_time": "2022-11-20T04:47:53.361Z"
   },
   {
    "duration": 0,
    "start_time": "2022-11-20T04:47:53.362Z"
   },
   {
    "duration": 0,
    "start_time": "2022-11-20T04:47:53.363Z"
   },
   {
    "duration": 0,
    "start_time": "2022-11-20T04:47:53.364Z"
   },
   {
    "duration": 0,
    "start_time": "2022-11-20T04:47:53.365Z"
   },
   {
    "duration": 0,
    "start_time": "2022-11-20T04:47:53.366Z"
   },
   {
    "duration": 0,
    "start_time": "2022-11-20T04:47:53.367Z"
   },
   {
    "duration": 0,
    "start_time": "2022-11-20T04:47:53.368Z"
   },
   {
    "duration": 9,
    "start_time": "2022-11-20T04:50:44.488Z"
   },
   {
    "duration": 9,
    "start_time": "2022-11-20T04:51:14.247Z"
   },
   {
    "duration": 5,
    "start_time": "2022-11-20T04:51:20.547Z"
   },
   {
    "duration": 9,
    "start_time": "2022-11-20T04:52:42.830Z"
   },
   {
    "duration": 11,
    "start_time": "2022-11-20T04:53:11.592Z"
   },
   {
    "duration": 10,
    "start_time": "2022-11-20T04:53:22.734Z"
   },
   {
    "duration": 15,
    "start_time": "2022-11-20T04:53:33.474Z"
   },
   {
    "duration": 12,
    "start_time": "2022-11-20T04:54:44.293Z"
   },
   {
    "duration": 15,
    "start_time": "2022-11-20T04:54:47.872Z"
   },
   {
    "duration": 14,
    "start_time": "2022-11-20T04:54:59.869Z"
   },
   {
    "duration": 15,
    "start_time": "2022-11-20T04:55:19.662Z"
   },
   {
    "duration": 8,
    "start_time": "2022-11-20T04:58:32.097Z"
   },
   {
    "duration": 9,
    "start_time": "2022-11-20T04:58:36.498Z"
   },
   {
    "duration": 10,
    "start_time": "2022-11-20T04:58:39.069Z"
   },
   {
    "duration": 5,
    "start_time": "2022-11-20T04:58:40.523Z"
   },
   {
    "duration": 4,
    "start_time": "2022-11-20T04:58:43.607Z"
   },
   {
    "duration": 470,
    "start_time": "2022-11-20T04:59:21.001Z"
   },
   {
    "duration": 14,
    "start_time": "2022-11-20T04:59:21.474Z"
   },
   {
    "duration": 9,
    "start_time": "2022-11-20T04:59:21.489Z"
   },
   {
    "duration": 6,
    "start_time": "2022-11-20T04:59:21.499Z"
   },
   {
    "duration": 4,
    "start_time": "2022-11-20T04:59:21.507Z"
   },
   {
    "duration": 47,
    "start_time": "2022-11-20T04:59:21.512Z"
   },
   {
    "duration": 8,
    "start_time": "2022-11-20T04:59:21.561Z"
   },
   {
    "duration": 13,
    "start_time": "2022-11-20T04:59:21.570Z"
   },
   {
    "duration": 10,
    "start_time": "2022-11-20T04:59:21.585Z"
   },
   {
    "duration": 13,
    "start_time": "2022-11-20T04:59:21.597Z"
   },
   {
    "duration": 7,
    "start_time": "2022-11-20T04:59:21.611Z"
   },
   {
    "duration": 9,
    "start_time": "2022-11-20T04:59:21.620Z"
   },
   {
    "duration": 7,
    "start_time": "2022-11-20T04:59:21.630Z"
   },
   {
    "duration": 11,
    "start_time": "2022-11-20T04:59:21.638Z"
   },
   {
    "duration": 3,
    "start_time": "2022-11-20T04:59:21.650Z"
   },
   {
    "duration": 75,
    "start_time": "2022-11-20T04:59:21.655Z"
   },
   {
    "duration": 10,
    "start_time": "2022-11-20T04:59:21.731Z"
   },
   {
    "duration": 50,
    "start_time": "2022-11-20T04:59:21.742Z"
   },
   {
    "duration": 4,
    "start_time": "2022-11-20T04:59:21.796Z"
   },
   {
    "duration": 19,
    "start_time": "2022-11-20T04:59:21.801Z"
   },
   {
    "duration": 7,
    "start_time": "2022-11-20T04:59:21.822Z"
   },
   {
    "duration": 30,
    "start_time": "2022-11-20T04:59:21.830Z"
   },
   {
    "duration": 13,
    "start_time": "2022-11-20T04:59:21.862Z"
   },
   {
    "duration": 22,
    "start_time": "2022-11-20T04:59:21.876Z"
   },
   {
    "duration": 16,
    "start_time": "2022-11-20T04:59:21.899Z"
   },
   {
    "duration": 21,
    "start_time": "2022-11-20T04:59:21.916Z"
   },
   {
    "duration": 4,
    "start_time": "2022-11-20T04:59:21.939Z"
   },
   {
    "duration": 53,
    "start_time": "2022-11-20T04:59:21.947Z"
   },
   {
    "duration": 8,
    "start_time": "2022-11-20T04:59:22.001Z"
   },
   {
    "duration": 7,
    "start_time": "2022-11-20T04:59:22.010Z"
   },
   {
    "duration": 16,
    "start_time": "2022-11-20T04:59:22.019Z"
   },
   {
    "duration": 9,
    "start_time": "2022-11-20T04:59:22.036Z"
   },
   {
    "duration": 61,
    "start_time": "2022-11-20T04:59:22.047Z"
   },
   {
    "duration": 13,
    "start_time": "2022-11-20T04:59:22.109Z"
   },
   {
    "duration": 11,
    "start_time": "2022-11-20T04:59:22.124Z"
   },
   {
    "duration": 9,
    "start_time": "2022-11-20T04:59:22.136Z"
   },
   {
    "duration": 10,
    "start_time": "2022-11-20T04:59:22.197Z"
   },
   {
    "duration": 9,
    "start_time": "2022-11-20T04:59:22.208Z"
   },
   {
    "duration": 9,
    "start_time": "2022-11-20T04:59:22.218Z"
   },
   {
    "duration": 9,
    "start_time": "2022-11-20T04:59:22.229Z"
   },
   {
    "duration": 5,
    "start_time": "2022-11-20T04:59:22.239Z"
   },
   {
    "duration": 84,
    "start_time": "2022-11-20T04:59:22.245Z"
   },
   {
    "duration": 8,
    "start_time": "2022-11-20T04:59:22.331Z"
   },
   {
    "duration": 10,
    "start_time": "2022-11-20T04:59:22.340Z"
   },
   {
    "duration": 10,
    "start_time": "2022-11-20T04:59:22.352Z"
   },
   {
    "duration": 17,
    "start_time": "2022-11-20T04:59:22.363Z"
   },
   {
    "duration": 8,
    "start_time": "2022-11-20T04:59:22.397Z"
   },
   {
    "duration": 4,
    "start_time": "2022-11-20T04:59:22.406Z"
   },
   {
    "duration": 7,
    "start_time": "2022-11-20T04:59:22.411Z"
   },
   {
    "duration": 7,
    "start_time": "2022-11-20T04:59:22.419Z"
   },
   {
    "duration": 475,
    "start_time": "2022-11-20T05:02:15.016Z"
   },
   {
    "duration": 14,
    "start_time": "2022-11-20T05:02:15.494Z"
   },
   {
    "duration": 12,
    "start_time": "2022-11-20T05:02:15.509Z"
   },
   {
    "duration": 9,
    "start_time": "2022-11-20T05:02:15.522Z"
   },
   {
    "duration": 12,
    "start_time": "2022-11-20T05:02:15.533Z"
   },
   {
    "duration": 58,
    "start_time": "2022-11-20T05:02:15.547Z"
   },
   {
    "duration": 11,
    "start_time": "2022-11-20T05:02:15.607Z"
   },
   {
    "duration": 22,
    "start_time": "2022-11-20T05:02:15.620Z"
   },
   {
    "duration": 12,
    "start_time": "2022-11-20T05:02:15.644Z"
   },
   {
    "duration": 16,
    "start_time": "2022-11-20T05:02:15.658Z"
   },
   {
    "duration": 32,
    "start_time": "2022-11-20T05:02:15.676Z"
   },
   {
    "duration": 15,
    "start_time": "2022-11-20T05:02:15.710Z"
   },
   {
    "duration": 8,
    "start_time": "2022-11-20T05:02:15.727Z"
   },
   {
    "duration": 11,
    "start_time": "2022-11-20T05:02:15.738Z"
   },
   {
    "duration": 6,
    "start_time": "2022-11-20T05:02:15.751Z"
   },
   {
    "duration": 71,
    "start_time": "2022-11-20T05:02:15.758Z"
   },
   {
    "duration": 9,
    "start_time": "2022-11-20T05:02:15.831Z"
   },
   {
    "duration": 66,
    "start_time": "2022-11-20T05:02:15.842Z"
   },
   {
    "duration": 4,
    "start_time": "2022-11-20T05:02:15.910Z"
   },
   {
    "duration": 19,
    "start_time": "2022-11-20T05:02:15.915Z"
   },
   {
    "duration": 11,
    "start_time": "2022-11-20T05:02:15.936Z"
   },
   {
    "duration": 54,
    "start_time": "2022-11-20T05:02:15.949Z"
   },
   {
    "duration": 16,
    "start_time": "2022-11-20T05:02:16.005Z"
   },
   {
    "duration": 6,
    "start_time": "2022-11-20T05:02:16.022Z"
   },
   {
    "duration": 16,
    "start_time": "2022-11-20T05:02:16.030Z"
   },
   {
    "duration": 18,
    "start_time": "2022-11-20T05:02:16.047Z"
   },
   {
    "duration": 5,
    "start_time": "2022-11-20T05:02:16.066Z"
   },
   {
    "duration": 11,
    "start_time": "2022-11-20T05:02:16.097Z"
   },
   {
    "duration": 10,
    "start_time": "2022-11-20T05:02:16.110Z"
   },
   {
    "duration": 4,
    "start_time": "2022-11-20T05:02:16.122Z"
   },
   {
    "duration": 18,
    "start_time": "2022-11-20T05:02:16.128Z"
   },
   {
    "duration": 8,
    "start_time": "2022-11-20T05:02:16.147Z"
   },
   {
    "duration": 49,
    "start_time": "2022-11-20T05:02:16.157Z"
   },
   {
    "duration": 16,
    "start_time": "2022-11-20T05:02:16.207Z"
   },
   {
    "duration": 12,
    "start_time": "2022-11-20T05:02:16.224Z"
   },
   {
    "duration": 11,
    "start_time": "2022-11-20T05:02:16.238Z"
   },
   {
    "duration": 10,
    "start_time": "2022-11-20T05:02:16.251Z"
   },
   {
    "duration": 37,
    "start_time": "2022-11-20T05:02:16.262Z"
   },
   {
    "duration": 12,
    "start_time": "2022-11-20T05:02:16.301Z"
   },
   {
    "duration": 12,
    "start_time": "2022-11-20T05:02:16.314Z"
   },
   {
    "duration": 9,
    "start_time": "2022-11-20T05:02:16.329Z"
   },
   {
    "duration": 62,
    "start_time": "2022-11-20T05:02:16.340Z"
   },
   {
    "duration": 8,
    "start_time": "2022-11-20T05:02:16.404Z"
   },
   {
    "duration": 10,
    "start_time": "2022-11-20T05:02:16.414Z"
   },
   {
    "duration": 9,
    "start_time": "2022-11-20T05:02:16.425Z"
   },
   {
    "duration": 21,
    "start_time": "2022-11-20T05:02:16.435Z"
   },
   {
    "duration": 12,
    "start_time": "2022-11-20T05:02:16.458Z"
   },
   {
    "duration": 3,
    "start_time": "2022-11-20T05:02:16.497Z"
   },
   {
    "duration": 7,
    "start_time": "2022-11-20T05:02:16.502Z"
   },
   {
    "duration": 6,
    "start_time": "2022-11-20T05:02:16.511Z"
   },
   {
    "duration": 423,
    "start_time": "2022-11-20T05:03:41.148Z"
   },
   {
    "duration": 14,
    "start_time": "2022-11-20T05:03:41.572Z"
   },
   {
    "duration": 12,
    "start_time": "2022-11-20T05:03:41.587Z"
   },
   {
    "duration": 6,
    "start_time": "2022-11-20T05:03:41.601Z"
   },
   {
    "duration": 5,
    "start_time": "2022-11-20T05:03:41.608Z"
   },
   {
    "duration": 44,
    "start_time": "2022-11-20T05:03:41.614Z"
   },
   {
    "duration": 8,
    "start_time": "2022-11-20T05:03:41.660Z"
   },
   {
    "duration": 12,
    "start_time": "2022-11-20T05:03:41.670Z"
   },
   {
    "duration": 11,
    "start_time": "2022-11-20T05:03:41.684Z"
   },
   {
    "duration": 12,
    "start_time": "2022-11-20T05:03:41.697Z"
   },
   {
    "duration": 7,
    "start_time": "2022-11-20T05:03:41.711Z"
   },
   {
    "duration": 12,
    "start_time": "2022-11-20T05:03:41.720Z"
   },
   {
    "duration": 7,
    "start_time": "2022-11-20T05:03:41.734Z"
   },
   {
    "duration": 10,
    "start_time": "2022-11-20T05:03:41.743Z"
   },
   {
    "duration": 3,
    "start_time": "2022-11-20T05:03:41.755Z"
   },
   {
    "duration": 62,
    "start_time": "2022-11-20T05:03:41.760Z"
   },
   {
    "duration": 9,
    "start_time": "2022-11-20T05:03:41.824Z"
   },
   {
    "duration": 63,
    "start_time": "2022-11-20T05:03:41.834Z"
   },
   {
    "duration": 3,
    "start_time": "2022-11-20T05:03:41.899Z"
   },
   {
    "duration": 14,
    "start_time": "2022-11-20T05:03:41.904Z"
   },
   {
    "duration": 10,
    "start_time": "2022-11-20T05:03:41.920Z"
   },
   {
    "duration": 28,
    "start_time": "2022-11-20T05:03:41.932Z"
   },
   {
    "duration": 38,
    "start_time": "2022-11-20T05:03:41.961Z"
   },
   {
    "duration": 7,
    "start_time": "2022-11-20T05:03:42.000Z"
   },
   {
    "duration": 17,
    "start_time": "2022-11-20T05:03:42.008Z"
   },
   {
    "duration": 17,
    "start_time": "2022-11-20T05:03:42.026Z"
   },
   {
    "duration": 5,
    "start_time": "2022-11-20T05:03:42.044Z"
   },
   {
    "duration": 9,
    "start_time": "2022-11-20T05:03:42.051Z"
   },
   {
    "duration": 36,
    "start_time": "2022-11-20T05:03:42.062Z"
   },
   {
    "duration": 4,
    "start_time": "2022-11-20T05:03:42.100Z"
   },
   {
    "duration": 18,
    "start_time": "2022-11-20T05:03:42.105Z"
   },
   {
    "duration": 8,
    "start_time": "2022-11-20T05:03:42.124Z"
   },
   {
    "duration": 18,
    "start_time": "2022-11-20T05:03:42.134Z"
   },
   {
    "duration": 14,
    "start_time": "2022-11-20T05:03:42.154Z"
   },
   {
    "duration": 34,
    "start_time": "2022-11-20T05:03:42.170Z"
   },
   {
    "duration": 10,
    "start_time": "2022-11-20T05:03:42.206Z"
   },
   {
    "duration": 9,
    "start_time": "2022-11-20T05:03:42.217Z"
   },
   {
    "duration": 8,
    "start_time": "2022-11-20T05:03:42.227Z"
   },
   {
    "duration": 9,
    "start_time": "2022-11-20T05:03:42.236Z"
   },
   {
    "duration": 10,
    "start_time": "2022-11-20T05:03:42.246Z"
   },
   {
    "duration": 5,
    "start_time": "2022-11-20T05:03:42.257Z"
   },
   {
    "duration": 89,
    "start_time": "2022-11-20T05:03:42.263Z"
   },
   {
    "duration": 6,
    "start_time": "2022-11-20T05:03:42.355Z"
   },
   {
    "duration": 22,
    "start_time": "2022-11-20T05:03:42.363Z"
   },
   {
    "duration": 9,
    "start_time": "2022-11-20T05:03:42.397Z"
   },
   {
    "duration": 5,
    "start_time": "2022-11-20T05:03:42.407Z"
   },
   {
    "duration": 8,
    "start_time": "2022-11-20T05:03:42.413Z"
   },
   {
    "duration": 8,
    "start_time": "2022-11-20T05:03:42.423Z"
   },
   {
    "duration": 20,
    "start_time": "2022-11-20T05:05:17.603Z"
   },
   {
    "duration": 19,
    "start_time": "2022-11-20T05:06:01.599Z"
   },
   {
    "duration": 18,
    "start_time": "2022-11-20T05:06:12.414Z"
   },
   {
    "duration": 19,
    "start_time": "2022-11-20T05:08:39.024Z"
   },
   {
    "duration": 485,
    "start_time": "2022-11-20T05:09:43.878Z"
   },
   {
    "duration": 13,
    "start_time": "2022-11-20T05:09:44.365Z"
   },
   {
    "duration": 17,
    "start_time": "2022-11-20T05:09:44.380Z"
   },
   {
    "duration": 8,
    "start_time": "2022-11-20T05:09:44.399Z"
   },
   {
    "duration": 29,
    "start_time": "2022-11-20T05:09:44.409Z"
   },
   {
    "duration": 44,
    "start_time": "2022-11-20T05:09:44.439Z"
   },
   {
    "duration": 9,
    "start_time": "2022-11-20T05:09:44.485Z"
   },
   {
    "duration": 37,
    "start_time": "2022-11-20T05:09:44.495Z"
   },
   {
    "duration": 20,
    "start_time": "2022-11-20T05:09:44.533Z"
   },
   {
    "duration": 30,
    "start_time": "2022-11-20T05:09:44.556Z"
   },
   {
    "duration": 19,
    "start_time": "2022-11-20T05:09:44.588Z"
   },
   {
    "duration": 25,
    "start_time": "2022-11-20T05:09:44.609Z"
   },
   {
    "duration": 18,
    "start_time": "2022-11-20T05:09:44.635Z"
   },
   {
    "duration": 28,
    "start_time": "2022-11-20T05:09:44.654Z"
   },
   {
    "duration": 3,
    "start_time": "2022-11-20T05:09:44.683Z"
   },
   {
    "duration": 51,
    "start_time": "2022-11-20T05:09:44.688Z"
   },
   {
    "duration": 17,
    "start_time": "2022-11-20T05:09:44.740Z"
   },
   {
    "duration": 59,
    "start_time": "2022-11-20T05:09:44.758Z"
   },
   {
    "duration": 3,
    "start_time": "2022-11-20T05:09:44.819Z"
   },
   {
    "duration": 17,
    "start_time": "2022-11-20T05:09:44.824Z"
   },
   {
    "duration": 20,
    "start_time": "2022-11-20T05:09:44.844Z"
   },
   {
    "duration": 37,
    "start_time": "2022-11-20T05:09:44.865Z"
   },
   {
    "duration": 13,
    "start_time": "2022-11-20T05:09:44.903Z"
   },
   {
    "duration": 10,
    "start_time": "2022-11-20T05:09:44.917Z"
   },
   {
    "duration": 18,
    "start_time": "2022-11-20T05:09:44.929Z"
   },
   {
    "duration": 16,
    "start_time": "2022-11-20T05:09:44.948Z"
   },
   {
    "duration": 4,
    "start_time": "2022-11-20T05:09:44.966Z"
   },
   {
    "duration": 32,
    "start_time": "2022-11-20T05:09:44.973Z"
   },
   {
    "duration": 29,
    "start_time": "2022-11-20T05:09:45.006Z"
   },
   {
    "duration": 19,
    "start_time": "2022-11-20T05:09:45.037Z"
   },
   {
    "duration": 28,
    "start_time": "2022-11-20T05:09:45.057Z"
   },
   {
    "duration": 14,
    "start_time": "2022-11-20T05:09:45.087Z"
   },
   {
    "duration": 23,
    "start_time": "2022-11-20T05:09:45.102Z"
   },
   {
    "duration": 28,
    "start_time": "2022-11-20T05:09:45.126Z"
   },
   {
    "duration": 9,
    "start_time": "2022-11-20T05:09:45.155Z"
   },
   {
    "duration": 47,
    "start_time": "2022-11-20T05:09:45.165Z"
   },
   {
    "duration": 36,
    "start_time": "2022-11-20T05:09:45.213Z"
   },
   {
    "duration": 29,
    "start_time": "2022-11-20T05:09:45.250Z"
   },
   {
    "duration": 21,
    "start_time": "2022-11-20T05:09:45.280Z"
   },
   {
    "duration": 44,
    "start_time": "2022-11-20T05:09:45.303Z"
   },
   {
    "duration": 17,
    "start_time": "2022-11-20T05:09:45.349Z"
   },
   {
    "duration": 93,
    "start_time": "2022-11-20T05:09:45.368Z"
   },
   {
    "duration": 6,
    "start_time": "2022-11-20T05:09:45.462Z"
   },
   {
    "duration": 33,
    "start_time": "2022-11-20T05:09:45.470Z"
   },
   {
    "duration": 29,
    "start_time": "2022-11-20T05:09:45.504Z"
   },
   {
    "duration": 17,
    "start_time": "2022-11-20T05:09:45.535Z"
   },
   {
    "duration": 37,
    "start_time": "2022-11-20T05:09:45.554Z"
   },
   {
    "duration": 13,
    "start_time": "2022-11-20T05:11:01.547Z"
   },
   {
    "duration": 476,
    "start_time": "2022-11-20T05:13:20.664Z"
   },
   {
    "duration": 87,
    "start_time": "2022-11-20T05:13:39.818Z"
   },
   {
    "duration": 140,
    "start_time": "2022-11-20T05:14:01.578Z"
   },
   {
    "duration": 98,
    "start_time": "2022-11-20T05:15:31.575Z"
   },
   {
    "duration": 92,
    "start_time": "2022-11-20T05:16:11.924Z"
   },
   {
    "duration": 90,
    "start_time": "2022-11-20T05:17:12.884Z"
   },
   {
    "duration": 88,
    "start_time": "2022-11-20T05:17:16.946Z"
   },
   {
    "duration": 89,
    "start_time": "2022-11-20T05:17:44.665Z"
   },
   {
    "duration": 3,
    "start_time": "2022-11-20T05:18:02.845Z"
   },
   {
    "duration": 84,
    "start_time": "2022-11-20T05:18:06.712Z"
   },
   {
    "duration": 82,
    "start_time": "2022-11-20T05:18:19.217Z"
   },
   {
    "duration": 90,
    "start_time": "2022-11-20T05:19:06.750Z"
   },
   {
    "duration": 82,
    "start_time": "2022-11-20T05:20:43.143Z"
   },
   {
    "duration": 104,
    "start_time": "2022-11-20T05:21:07.839Z"
   },
   {
    "duration": 151,
    "start_time": "2022-11-20T05:21:37.116Z"
   },
   {
    "duration": 5,
    "start_time": "2022-11-20T05:22:27.346Z"
   },
   {
    "duration": 89,
    "start_time": "2022-11-20T05:23:36.751Z"
   },
   {
    "duration": 88,
    "start_time": "2022-11-20T05:23:43.058Z"
   },
   {
    "duration": 12,
    "start_time": "2022-11-20T05:26:09.346Z"
   },
   {
    "duration": 11,
    "start_time": "2022-11-20T05:26:26.591Z"
   },
   {
    "duration": 674,
    "start_time": "2022-11-20T05:27:31.085Z"
   },
   {
    "duration": 14,
    "start_time": "2022-11-20T05:27:31.761Z"
   },
   {
    "duration": 23,
    "start_time": "2022-11-20T05:27:31.776Z"
   },
   {
    "duration": 6,
    "start_time": "2022-11-20T05:27:31.801Z"
   },
   {
    "duration": 6,
    "start_time": "2022-11-20T05:27:31.808Z"
   },
   {
    "duration": 48,
    "start_time": "2022-11-20T05:27:31.815Z"
   },
   {
    "duration": 9,
    "start_time": "2022-11-20T05:27:31.864Z"
   },
   {
    "duration": 14,
    "start_time": "2022-11-20T05:27:31.874Z"
   },
   {
    "duration": 11,
    "start_time": "2022-11-20T05:27:31.889Z"
   },
   {
    "duration": 13,
    "start_time": "2022-11-20T05:27:31.902Z"
   },
   {
    "duration": 7,
    "start_time": "2022-11-20T05:27:31.917Z"
   },
   {
    "duration": 8,
    "start_time": "2022-11-20T05:27:31.926Z"
   },
   {
    "duration": 14,
    "start_time": "2022-11-20T05:27:31.935Z"
   },
   {
    "duration": 12,
    "start_time": "2022-11-20T05:27:31.950Z"
   },
   {
    "duration": 4,
    "start_time": "2022-11-20T05:27:31.963Z"
   },
   {
    "duration": 39,
    "start_time": "2022-11-20T05:27:31.968Z"
   },
   {
    "duration": 11,
    "start_time": "2022-11-20T05:27:32.008Z"
   },
   {
    "duration": 50,
    "start_time": "2022-11-20T05:27:32.020Z"
   },
   {
    "duration": 3,
    "start_time": "2022-11-20T05:27:32.072Z"
   },
   {
    "duration": 30,
    "start_time": "2022-11-20T05:27:32.077Z"
   },
   {
    "duration": 8,
    "start_time": "2022-11-20T05:27:32.109Z"
   },
   {
    "duration": 24,
    "start_time": "2022-11-20T05:27:32.118Z"
   },
   {
    "duration": 14,
    "start_time": "2022-11-20T05:27:32.144Z"
   },
   {
    "duration": 40,
    "start_time": "2022-11-20T05:27:32.159Z"
   },
   {
    "duration": 39,
    "start_time": "2022-11-20T05:27:32.201Z"
   },
   {
    "duration": 59,
    "start_time": "2022-11-20T05:27:32.242Z"
   },
   {
    "duration": 28,
    "start_time": "2022-11-20T05:27:32.302Z"
   },
   {
    "duration": 26,
    "start_time": "2022-11-20T05:27:32.332Z"
   },
   {
    "duration": 49,
    "start_time": "2022-11-20T05:27:32.359Z"
   },
   {
    "duration": 37,
    "start_time": "2022-11-20T05:27:32.409Z"
   },
   {
    "duration": 33,
    "start_time": "2022-11-20T05:27:32.447Z"
   },
   {
    "duration": 34,
    "start_time": "2022-11-20T05:27:32.482Z"
   },
   {
    "duration": 40,
    "start_time": "2022-11-20T05:27:32.517Z"
   },
   {
    "duration": 32,
    "start_time": "2022-11-20T05:27:32.558Z"
   },
   {
    "duration": 24,
    "start_time": "2022-11-20T05:27:32.591Z"
   },
   {
    "duration": 25,
    "start_time": "2022-11-20T05:27:32.616Z"
   },
   {
    "duration": 34,
    "start_time": "2022-11-20T05:27:32.642Z"
   },
   {
    "duration": 38,
    "start_time": "2022-11-20T05:27:32.677Z"
   },
   {
    "duration": 15,
    "start_time": "2022-11-20T05:27:32.717Z"
   },
   {
    "duration": 27,
    "start_time": "2022-11-20T05:27:32.733Z"
   },
   {
    "duration": 15,
    "start_time": "2022-11-20T05:27:32.762Z"
   },
   {
    "duration": 86,
    "start_time": "2022-11-20T05:27:32.778Z"
   },
   {
    "duration": 6,
    "start_time": "2022-11-20T05:27:32.866Z"
   },
   {
    "duration": 35,
    "start_time": "2022-11-20T05:27:32.873Z"
   },
   {
    "duration": 45,
    "start_time": "2022-11-20T05:27:32.909Z"
   },
   {
    "duration": 29,
    "start_time": "2022-11-20T05:27:32.955Z"
   },
   {
    "duration": 49,
    "start_time": "2022-11-20T05:27:32.986Z"
   },
   {
    "duration": 39,
    "start_time": "2022-11-20T05:27:33.037Z"
   },
   {
    "duration": 146,
    "start_time": "2022-11-20T05:27:33.078Z"
   },
   {
    "duration": 107,
    "start_time": "2022-11-20T05:27:33.226Z"
   },
   {
    "duration": 146,
    "start_time": "2022-11-20T05:27:33.335Z"
   },
   {
    "duration": 14,
    "start_time": "2022-11-20T05:27:33.483Z"
   },
   {
    "duration": 32,
    "start_time": "2022-11-20T05:27:33.498Z"
   },
   {
    "duration": 42,
    "start_time": "2022-11-20T05:27:33.531Z"
   },
   {
    "duration": 10,
    "start_time": "2022-11-20T05:29:18.155Z"
   },
   {
    "duration": 13,
    "start_time": "2022-11-20T05:29:22.317Z"
   },
   {
    "duration": 639,
    "start_time": "2022-11-20T05:29:36.948Z"
   },
   {
    "duration": 13,
    "start_time": "2022-11-20T05:29:37.589Z"
   },
   {
    "duration": 10,
    "start_time": "2022-11-20T05:29:37.603Z"
   },
   {
    "duration": 6,
    "start_time": "2022-11-20T05:29:37.614Z"
   },
   {
    "duration": 9,
    "start_time": "2022-11-20T05:29:37.621Z"
   },
   {
    "duration": 47,
    "start_time": "2022-11-20T05:29:37.631Z"
   },
   {
    "duration": 9,
    "start_time": "2022-11-20T05:29:37.679Z"
   },
   {
    "duration": 15,
    "start_time": "2022-11-20T05:29:37.689Z"
   },
   {
    "duration": 10,
    "start_time": "2022-11-20T05:29:37.705Z"
   },
   {
    "duration": 12,
    "start_time": "2022-11-20T05:29:37.717Z"
   },
   {
    "duration": 7,
    "start_time": "2022-11-20T05:29:37.730Z"
   },
   {
    "duration": 9,
    "start_time": "2022-11-20T05:29:37.739Z"
   },
   {
    "duration": 8,
    "start_time": "2022-11-20T05:29:37.749Z"
   },
   {
    "duration": 9,
    "start_time": "2022-11-20T05:29:37.758Z"
   },
   {
    "duration": 32,
    "start_time": "2022-11-20T05:29:37.769Z"
   },
   {
    "duration": 10,
    "start_time": "2022-11-20T05:29:37.802Z"
   },
   {
    "duration": 50,
    "start_time": "2022-11-20T05:29:37.814Z"
   },
   {
    "duration": 3,
    "start_time": "2022-11-20T05:29:37.866Z"
   },
   {
    "duration": 33,
    "start_time": "2022-11-20T05:29:37.871Z"
   },
   {
    "duration": 8,
    "start_time": "2022-11-20T05:29:37.906Z"
   },
   {
    "duration": 28,
    "start_time": "2022-11-20T05:29:37.916Z"
   },
   {
    "duration": 14,
    "start_time": "2022-11-20T05:29:37.946Z"
   },
   {
    "duration": 6,
    "start_time": "2022-11-20T05:29:37.962Z"
   },
   {
    "duration": 35,
    "start_time": "2022-11-20T05:29:37.969Z"
   },
   {
    "duration": 18,
    "start_time": "2022-11-20T05:29:38.006Z"
   },
   {
    "duration": 5,
    "start_time": "2022-11-20T05:29:38.026Z"
   },
   {
    "duration": 14,
    "start_time": "2022-11-20T05:29:38.033Z"
   },
   {
    "duration": 7,
    "start_time": "2022-11-20T05:29:38.052Z"
   },
   {
    "duration": 38,
    "start_time": "2022-11-20T05:29:38.060Z"
   },
   {
    "duration": 17,
    "start_time": "2022-11-20T05:29:38.100Z"
   },
   {
    "duration": 8,
    "start_time": "2022-11-20T05:29:38.118Z"
   },
   {
    "duration": 16,
    "start_time": "2022-11-20T05:29:38.127Z"
   },
   {
    "duration": 14,
    "start_time": "2022-11-20T05:29:38.144Z"
   },
   {
    "duration": 38,
    "start_time": "2022-11-20T05:29:38.159Z"
   },
   {
    "duration": 7,
    "start_time": "2022-11-20T05:29:38.199Z"
   },
   {
    "duration": 18,
    "start_time": "2022-11-20T05:29:38.208Z"
   },
   {
    "duration": 10,
    "start_time": "2022-11-20T05:29:38.227Z"
   },
   {
    "duration": 11,
    "start_time": "2022-11-20T05:29:38.238Z"
   },
   {
    "duration": 9,
    "start_time": "2022-11-20T05:29:38.250Z"
   },
   {
    "duration": 6,
    "start_time": "2022-11-20T05:29:38.261Z"
   },
   {
    "duration": 82,
    "start_time": "2022-11-20T05:29:38.268Z"
   },
   {
    "duration": 7,
    "start_time": "2022-11-20T05:29:38.352Z"
   },
   {
    "duration": 19,
    "start_time": "2022-11-20T05:29:38.360Z"
   },
   {
    "duration": 18,
    "start_time": "2022-11-20T05:29:38.381Z"
   },
   {
    "duration": 8,
    "start_time": "2022-11-20T05:29:38.401Z"
   },
   {
    "duration": 7,
    "start_time": "2022-11-20T05:29:38.410Z"
   },
   {
    "duration": 15,
    "start_time": "2022-11-20T05:29:38.418Z"
   },
   {
    "duration": 115,
    "start_time": "2022-11-20T05:29:38.435Z"
   },
   {
    "duration": 107,
    "start_time": "2022-11-20T05:29:38.552Z"
   },
   {
    "duration": 108,
    "start_time": "2022-11-20T05:29:38.660Z"
   },
   {
    "duration": 5,
    "start_time": "2022-11-20T05:29:38.770Z"
   },
   {
    "duration": 23,
    "start_time": "2022-11-20T05:29:38.777Z"
   },
   {
    "duration": 14,
    "start_time": "2022-11-20T05:29:38.801Z"
   },
   {
    "duration": 60,
    "start_time": "2022-11-20T05:29:38.817Z"
   },
   {
    "duration": 25,
    "start_time": "2022-11-20T05:29:38.879Z"
   },
   {
    "duration": 21,
    "start_time": "2022-11-20T05:32:12.347Z"
   },
   {
    "duration": 10,
    "start_time": "2022-11-20T05:33:17.679Z"
   },
   {
    "duration": 713,
    "start_time": "2022-11-20T05:33:22.870Z"
   },
   {
    "duration": 16,
    "start_time": "2022-11-20T05:33:23.585Z"
   },
   {
    "duration": 11,
    "start_time": "2022-11-20T05:33:23.603Z"
   },
   {
    "duration": 6,
    "start_time": "2022-11-20T05:33:23.617Z"
   },
   {
    "duration": 6,
    "start_time": "2022-11-20T05:33:23.624Z"
   },
   {
    "duration": 45,
    "start_time": "2022-11-20T05:33:23.632Z"
   },
   {
    "duration": 10,
    "start_time": "2022-11-20T05:33:23.679Z"
   },
   {
    "duration": 14,
    "start_time": "2022-11-20T05:33:23.690Z"
   },
   {
    "duration": 12,
    "start_time": "2022-11-20T05:33:23.706Z"
   },
   {
    "duration": 14,
    "start_time": "2022-11-20T05:33:23.722Z"
   },
   {
    "duration": 7,
    "start_time": "2022-11-20T05:33:23.737Z"
   },
   {
    "duration": 6,
    "start_time": "2022-11-20T05:33:23.746Z"
   },
   {
    "duration": 9,
    "start_time": "2022-11-20T05:33:23.754Z"
   },
   {
    "duration": 32,
    "start_time": "2022-11-20T05:33:23.765Z"
   },
   {
    "duration": 11,
    "start_time": "2022-11-20T05:33:23.799Z"
   },
   {
    "duration": 11,
    "start_time": "2022-11-20T05:33:23.811Z"
   },
   {
    "duration": 74,
    "start_time": "2022-11-20T05:33:23.823Z"
   },
   {
    "duration": 4,
    "start_time": "2022-11-20T05:33:23.899Z"
   },
   {
    "duration": 17,
    "start_time": "2022-11-20T05:33:23.904Z"
   },
   {
    "duration": 9,
    "start_time": "2022-11-20T05:33:23.922Z"
   },
   {
    "duration": 27,
    "start_time": "2022-11-20T05:33:23.933Z"
   },
   {
    "duration": 42,
    "start_time": "2022-11-20T05:33:23.961Z"
   },
   {
    "duration": 21,
    "start_time": "2022-11-20T05:33:24.005Z"
   },
   {
    "duration": 6,
    "start_time": "2022-11-20T05:33:24.027Z"
   },
   {
    "duration": 16,
    "start_time": "2022-11-20T05:33:24.035Z"
   },
   {
    "duration": 17,
    "start_time": "2022-11-20T05:33:24.053Z"
   },
   {
    "duration": 26,
    "start_time": "2022-11-20T05:33:24.072Z"
   },
   {
    "duration": 11,
    "start_time": "2022-11-20T05:33:24.101Z"
   },
   {
    "duration": 8,
    "start_time": "2022-11-20T05:33:24.113Z"
   },
   {
    "duration": 10,
    "start_time": "2022-11-20T05:33:24.123Z"
   },
   {
    "duration": 18,
    "start_time": "2022-11-20T05:33:24.134Z"
   },
   {
    "duration": 8,
    "start_time": "2022-11-20T05:33:24.154Z"
   },
   {
    "duration": 36,
    "start_time": "2022-11-20T05:33:24.164Z"
   },
   {
    "duration": 22,
    "start_time": "2022-11-20T05:33:24.202Z"
   },
   {
    "duration": 9,
    "start_time": "2022-11-20T05:33:24.225Z"
   },
   {
    "duration": 10,
    "start_time": "2022-11-20T05:33:24.235Z"
   },
   {
    "duration": 14,
    "start_time": "2022-11-20T05:33:24.246Z"
   },
   {
    "duration": 23,
    "start_time": "2022-11-20T05:33:24.262Z"
   },
   {
    "duration": 19,
    "start_time": "2022-11-20T05:33:24.287Z"
   },
   {
    "duration": 10,
    "start_time": "2022-11-20T05:33:24.307Z"
   },
   {
    "duration": 4,
    "start_time": "2022-11-20T05:33:24.319Z"
   },
   {
    "duration": 73,
    "start_time": "2022-11-20T05:33:24.325Z"
   },
   {
    "duration": 7,
    "start_time": "2022-11-20T05:33:24.400Z"
   },
   {
    "duration": 20,
    "start_time": "2022-11-20T05:33:24.408Z"
   },
   {
    "duration": 8,
    "start_time": "2022-11-20T05:33:24.429Z"
   },
   {
    "duration": 6,
    "start_time": "2022-11-20T05:33:24.439Z"
   },
   {
    "duration": 7,
    "start_time": "2022-11-20T05:33:24.446Z"
   },
   {
    "duration": 15,
    "start_time": "2022-11-20T05:33:24.454Z"
   },
   {
    "duration": 126,
    "start_time": "2022-11-20T05:33:24.497Z"
   },
   {
    "duration": 114,
    "start_time": "2022-11-20T05:33:24.624Z"
   },
   {
    "duration": 114,
    "start_time": "2022-11-20T05:33:24.740Z"
   },
   {
    "duration": 5,
    "start_time": "2022-11-20T05:33:24.855Z"
   },
   {
    "duration": 8,
    "start_time": "2022-11-20T05:33:24.862Z"
   },
   {
    "duration": 29,
    "start_time": "2022-11-20T05:33:24.871Z"
   },
   {
    "duration": 57,
    "start_time": "2022-11-20T05:33:24.902Z"
   },
   {
    "duration": 17,
    "start_time": "2022-11-20T05:33:24.961Z"
   },
   {
    "duration": 19,
    "start_time": "2022-11-20T05:33:24.979Z"
   },
   {
    "duration": 4,
    "start_time": "2022-11-20T05:36:44.843Z"
   },
   {
    "duration": 6,
    "start_time": "2022-11-20T05:37:06.076Z"
   },
   {
    "duration": 74,
    "start_time": "2022-11-20T05:38:27.414Z"
   },
   {
    "duration": 12,
    "start_time": "2022-11-20T05:38:40.536Z"
   },
   {
    "duration": 25,
    "start_time": "2022-11-20T05:38:52.464Z"
   },
   {
    "duration": 668,
    "start_time": "2022-11-20T05:41:06.872Z"
   },
   {
    "duration": 9,
    "start_time": "2022-11-20T05:41:20.559Z"
   },
   {
    "duration": 9,
    "start_time": "2022-11-20T05:41:44.672Z"
   },
   {
    "duration": 10,
    "start_time": "2022-11-20T05:42:00.363Z"
   },
   {
    "duration": 3,
    "start_time": "2022-11-20T05:45:19.566Z"
   },
   {
    "duration": 5,
    "start_time": "2022-11-20T05:45:28.794Z"
   },
   {
    "duration": 12,
    "start_time": "2022-11-20T05:45:29.756Z"
   },
   {
    "duration": 5,
    "start_time": "2022-11-20T05:46:19.911Z"
   },
   {
    "duration": 6,
    "start_time": "2022-11-20T05:46:34.491Z"
   },
   {
    "duration": 5,
    "start_time": "2022-11-20T05:46:42.209Z"
   },
   {
    "duration": 8,
    "start_time": "2022-11-20T05:47:10.518Z"
   },
   {
    "duration": 10,
    "start_time": "2022-11-20T05:48:51.084Z"
   },
   {
    "duration": 9,
    "start_time": "2022-11-20T05:48:54.721Z"
   },
   {
    "duration": 12,
    "start_time": "2022-11-20T05:49:07.055Z"
   },
   {
    "duration": 9,
    "start_time": "2022-11-20T05:49:15.244Z"
   },
   {
    "duration": 6,
    "start_time": "2022-11-20T05:49:21.204Z"
   },
   {
    "duration": 5,
    "start_time": "2022-11-20T05:51:04.488Z"
   },
   {
    "duration": 112,
    "start_time": "2022-11-20T05:51:54.095Z"
   },
   {
    "duration": 6,
    "start_time": "2022-11-20T05:53:21.085Z"
   },
   {
    "duration": 6,
    "start_time": "2022-11-20T05:54:04.990Z"
   },
   {
    "duration": 13,
    "start_time": "2022-11-20T05:54:08.356Z"
   },
   {
    "duration": 90,
    "start_time": "2022-11-20T05:59:51.395Z"
   },
   {
    "duration": 51,
    "start_time": "2022-11-20T06:00:27.723Z"
   },
   {
    "duration": 103,
    "start_time": "2022-11-20T06:00:31.300Z"
   },
   {
    "duration": 92,
    "start_time": "2022-11-20T06:01:29.181Z"
   },
   {
    "duration": 98,
    "start_time": "2022-11-20T06:01:33.064Z"
   },
   {
    "duration": 106,
    "start_time": "2022-11-20T06:01:36.585Z"
   },
   {
    "duration": 111,
    "start_time": "2022-11-20T06:02:23.102Z"
   },
   {
    "duration": 111,
    "start_time": "2022-11-20T06:03:24.429Z"
   },
   {
    "duration": 124,
    "start_time": "2022-11-20T06:04:02.713Z"
   },
   {
    "duration": 174,
    "start_time": "2022-11-20T06:04:23.339Z"
   },
   {
    "duration": 164,
    "start_time": "2022-11-20T06:04:45.430Z"
   },
   {
    "duration": 17,
    "start_time": "2022-11-20T06:05:42.662Z"
   },
   {
    "duration": 13,
    "start_time": "2022-11-20T06:05:53.617Z"
   },
   {
    "duration": 14,
    "start_time": "2022-11-20T06:05:58.227Z"
   },
   {
    "duration": 24,
    "start_time": "2022-11-20T06:06:32.328Z"
   },
   {
    "duration": 634,
    "start_time": "2022-11-20T06:06:46.930Z"
   },
   {
    "duration": 13,
    "start_time": "2022-11-20T06:06:47.566Z"
   },
   {
    "duration": 23,
    "start_time": "2022-11-20T06:06:47.580Z"
   },
   {
    "duration": 16,
    "start_time": "2022-11-20T06:06:47.604Z"
   },
   {
    "duration": 25,
    "start_time": "2022-11-20T06:06:47.622Z"
   },
   {
    "duration": 60,
    "start_time": "2022-11-20T06:06:47.648Z"
   },
   {
    "duration": 8,
    "start_time": "2022-11-20T06:06:47.709Z"
   },
   {
    "duration": 36,
    "start_time": "2022-11-20T06:06:47.719Z"
   },
   {
    "duration": 24,
    "start_time": "2022-11-20T06:06:47.757Z"
   },
   {
    "duration": 26,
    "start_time": "2022-11-20T06:06:47.784Z"
   },
   {
    "duration": 26,
    "start_time": "2022-11-20T06:06:47.812Z"
   },
   {
    "duration": 29,
    "start_time": "2022-11-20T06:06:47.840Z"
   },
   {
    "duration": 27,
    "start_time": "2022-11-20T06:06:47.870Z"
   },
   {
    "duration": 17,
    "start_time": "2022-11-20T06:06:47.899Z"
   },
   {
    "duration": 40,
    "start_time": "2022-11-20T06:06:47.918Z"
   },
   {
    "duration": 24,
    "start_time": "2022-11-20T06:06:47.959Z"
   },
   {
    "duration": 63,
    "start_time": "2022-11-20T06:06:47.984Z"
   },
   {
    "duration": 4,
    "start_time": "2022-11-20T06:06:48.049Z"
   },
   {
    "duration": 25,
    "start_time": "2022-11-20T06:06:48.055Z"
   },
   {
    "duration": 21,
    "start_time": "2022-11-20T06:06:48.081Z"
   },
   {
    "duration": 36,
    "start_time": "2022-11-20T06:06:48.104Z"
   },
   {
    "duration": 17,
    "start_time": "2022-11-20T06:06:48.142Z"
   },
   {
    "duration": 36,
    "start_time": "2022-11-20T06:06:48.161Z"
   },
   {
    "duration": 13,
    "start_time": "2022-11-20T06:06:48.199Z"
   },
   {
    "duration": 40,
    "start_time": "2022-11-20T06:06:48.213Z"
   },
   {
    "duration": 17,
    "start_time": "2022-11-20T06:06:48.254Z"
   },
   {
    "duration": 14,
    "start_time": "2022-11-20T06:06:48.272Z"
   },
   {
    "duration": 13,
    "start_time": "2022-11-20T06:06:48.289Z"
   },
   {
    "duration": 39,
    "start_time": "2022-11-20T06:06:48.303Z"
   },
   {
    "duration": 24,
    "start_time": "2022-11-20T06:06:48.344Z"
   },
   {
    "duration": 28,
    "start_time": "2022-11-20T06:06:48.369Z"
   },
   {
    "duration": 27,
    "start_time": "2022-11-20T06:06:48.398Z"
   },
   {
    "duration": 22,
    "start_time": "2022-11-20T06:06:48.427Z"
   },
   {
    "duration": 28,
    "start_time": "2022-11-20T06:06:48.451Z"
   },
   {
    "duration": 26,
    "start_time": "2022-11-20T06:06:48.480Z"
   },
   {
    "duration": 24,
    "start_time": "2022-11-20T06:06:48.507Z"
   },
   {
    "duration": 35,
    "start_time": "2022-11-20T06:06:48.532Z"
   },
   {
    "duration": 30,
    "start_time": "2022-11-20T06:06:48.568Z"
   },
   {
    "duration": 30,
    "start_time": "2022-11-20T06:06:48.599Z"
   },
   {
    "duration": 46,
    "start_time": "2022-11-20T06:06:48.630Z"
   },
   {
    "duration": 17,
    "start_time": "2022-11-20T06:06:48.677Z"
   },
   {
    "duration": 84,
    "start_time": "2022-11-20T06:06:48.696Z"
   },
   {
    "duration": 6,
    "start_time": "2022-11-20T06:06:48.782Z"
   },
   {
    "duration": 25,
    "start_time": "2022-11-20T06:06:48.789Z"
   },
   {
    "duration": 44,
    "start_time": "2022-11-20T06:06:48.815Z"
   },
   {
    "duration": 23,
    "start_time": "2022-11-20T06:06:48.860Z"
   },
   {
    "duration": 22,
    "start_time": "2022-11-20T06:06:48.885Z"
   },
   {
    "duration": 44,
    "start_time": "2022-11-20T06:06:48.909Z"
   },
   {
    "duration": 108,
    "start_time": "2022-11-20T06:06:48.954Z"
   },
   {
    "duration": 97,
    "start_time": "2022-11-20T06:06:49.063Z"
   },
   {
    "duration": 100,
    "start_time": "2022-11-20T06:06:49.162Z"
   },
   {
    "duration": 4,
    "start_time": "2022-11-20T06:06:49.264Z"
   },
   {
    "duration": 235,
    "start_time": "2022-11-20T06:06:49.269Z"
   },
   {
    "duration": 78,
    "start_time": "2022-11-20T06:06:49.506Z"
   },
   {
    "duration": 0,
    "start_time": "2022-11-20T06:06:49.586Z"
   },
   {
    "duration": 0,
    "start_time": "2022-11-20T06:06:49.597Z"
   },
   {
    "duration": 0,
    "start_time": "2022-11-20T06:06:49.598Z"
   },
   {
    "duration": 0,
    "start_time": "2022-11-20T06:06:49.598Z"
   },
   {
    "duration": 0,
    "start_time": "2022-11-20T06:06:49.599Z"
   },
   {
    "duration": 0,
    "start_time": "2022-11-20T06:06:49.600Z"
   },
   {
    "duration": 0,
    "start_time": "2022-11-20T06:06:49.601Z"
   },
   {
    "duration": 0,
    "start_time": "2022-11-20T06:06:49.601Z"
   },
   {
    "duration": 0,
    "start_time": "2022-11-20T06:06:49.602Z"
   },
   {
    "duration": 0,
    "start_time": "2022-11-20T06:06:49.603Z"
   },
   {
    "duration": 23,
    "start_time": "2022-11-20T06:06:54.151Z"
   },
   {
    "duration": 23,
    "start_time": "2022-11-20T06:07:52.981Z"
   },
   {
    "duration": 22,
    "start_time": "2022-11-20T06:07:59.449Z"
   },
   {
    "duration": 682,
    "start_time": "2022-11-20T06:10:20.278Z"
   },
   {
    "duration": 13,
    "start_time": "2022-11-20T06:10:20.962Z"
   },
   {
    "duration": 22,
    "start_time": "2022-11-20T06:10:20.976Z"
   },
   {
    "duration": 26,
    "start_time": "2022-11-20T06:10:21.000Z"
   },
   {
    "duration": 9,
    "start_time": "2022-11-20T06:10:21.028Z"
   },
   {
    "duration": 56,
    "start_time": "2022-11-20T06:10:21.039Z"
   },
   {
    "duration": 9,
    "start_time": "2022-11-20T06:10:21.096Z"
   },
   {
    "duration": 21,
    "start_time": "2022-11-20T06:10:21.106Z"
   },
   {
    "duration": 10,
    "start_time": "2022-11-20T06:10:21.129Z"
   },
   {
    "duration": 12,
    "start_time": "2022-11-20T06:10:21.141Z"
   },
   {
    "duration": 17,
    "start_time": "2022-11-20T06:10:21.154Z"
   },
   {
    "duration": 14,
    "start_time": "2022-11-20T06:10:21.172Z"
   },
   {
    "duration": 10,
    "start_time": "2022-11-20T06:10:21.187Z"
   },
   {
    "duration": 9,
    "start_time": "2022-11-20T06:10:21.199Z"
   },
   {
    "duration": 12,
    "start_time": "2022-11-20T06:10:21.209Z"
   },
   {
    "duration": 10,
    "start_time": "2022-11-20T06:10:21.223Z"
   },
   {
    "duration": 65,
    "start_time": "2022-11-20T06:10:21.235Z"
   },
   {
    "duration": 4,
    "start_time": "2022-11-20T06:10:21.301Z"
   },
   {
    "duration": 18,
    "start_time": "2022-11-20T06:10:21.306Z"
   },
   {
    "duration": 8,
    "start_time": "2022-11-20T06:10:21.325Z"
   },
   {
    "duration": 23,
    "start_time": "2022-11-20T06:10:21.334Z"
   },
   {
    "duration": 15,
    "start_time": "2022-11-20T06:10:21.359Z"
   },
   {
    "duration": 36,
    "start_time": "2022-11-20T06:10:21.375Z"
   },
   {
    "duration": 6,
    "start_time": "2022-11-20T06:10:21.412Z"
   },
   {
    "duration": 14,
    "start_time": "2022-11-20T06:10:21.419Z"
   },
   {
    "duration": 16,
    "start_time": "2022-11-20T06:10:21.434Z"
   },
   {
    "duration": 5,
    "start_time": "2022-11-20T06:10:21.451Z"
   },
   {
    "duration": 10,
    "start_time": "2022-11-20T06:10:21.459Z"
   },
   {
    "duration": 30,
    "start_time": "2022-11-20T06:10:21.470Z"
   },
   {
    "duration": 4,
    "start_time": "2022-11-20T06:10:21.502Z"
   },
   {
    "duration": 17,
    "start_time": "2022-11-20T06:10:21.507Z"
   },
   {
    "duration": 7,
    "start_time": "2022-11-20T06:10:21.525Z"
   },
   {
    "duration": 15,
    "start_time": "2022-11-20T06:10:21.533Z"
   },
   {
    "duration": 15,
    "start_time": "2022-11-20T06:10:21.549Z"
   },
   {
    "duration": 38,
    "start_time": "2022-11-20T06:10:21.565Z"
   },
   {
    "duration": 7,
    "start_time": "2022-11-20T06:10:21.605Z"
   },
   {
    "duration": 10,
    "start_time": "2022-11-20T06:10:21.613Z"
   },
   {
    "duration": 8,
    "start_time": "2022-11-20T06:10:21.624Z"
   },
   {
    "duration": 9,
    "start_time": "2022-11-20T06:10:21.633Z"
   },
   {
    "duration": 9,
    "start_time": "2022-11-20T06:10:21.643Z"
   },
   {
    "duration": 7,
    "start_time": "2022-11-20T06:10:21.653Z"
   },
   {
    "duration": 92,
    "start_time": "2022-11-20T06:10:21.661Z"
   },
   {
    "duration": 7,
    "start_time": "2022-11-20T06:10:21.754Z"
   },
   {
    "duration": 19,
    "start_time": "2022-11-20T06:10:21.762Z"
   },
   {
    "duration": 17,
    "start_time": "2022-11-20T06:10:21.782Z"
   },
   {
    "duration": 6,
    "start_time": "2022-11-20T06:10:21.800Z"
   },
   {
    "duration": 6,
    "start_time": "2022-11-20T06:10:21.807Z"
   },
   {
    "duration": 17,
    "start_time": "2022-11-20T06:10:21.814Z"
   },
   {
    "duration": 117,
    "start_time": "2022-11-20T06:10:21.833Z"
   },
   {
    "duration": 102,
    "start_time": "2022-11-20T06:10:21.952Z"
   },
   {
    "duration": 105,
    "start_time": "2022-11-20T06:10:22.055Z"
   },
   {
    "duration": 4,
    "start_time": "2022-11-20T06:10:22.162Z"
   },
   {
    "duration": 222,
    "start_time": "2022-11-20T06:10:22.167Z"
   },
   {
    "duration": 22,
    "start_time": "2022-11-20T06:10:22.397Z"
   },
   {
    "duration": 5,
    "start_time": "2022-11-20T06:10:22.421Z"
   },
   {
    "duration": 13,
    "start_time": "2022-11-20T06:10:22.428Z"
   },
   {
    "duration": 13,
    "start_time": "2022-11-20T06:10:22.442Z"
   },
   {
    "duration": 12,
    "start_time": "2022-11-20T06:10:22.456Z"
   },
   {
    "duration": 33,
    "start_time": "2022-11-20T06:10:22.470Z"
   },
   {
    "duration": 9,
    "start_time": "2022-11-20T06:10:22.505Z"
   },
   {
    "duration": 19,
    "start_time": "2022-11-20T06:10:22.515Z"
   },
   {
    "duration": 14,
    "start_time": "2022-11-20T06:10:22.536Z"
   },
   {
    "duration": 13,
    "start_time": "2022-11-20T06:10:22.551Z"
   },
   {
    "duration": 115,
    "start_time": "2022-11-20T06:10:22.565Z"
   },
   {
    "duration": 5,
    "start_time": "2022-11-20T06:13:36.590Z"
   },
   {
    "duration": 16,
    "start_time": "2022-11-20T06:15:04.694Z"
   },
   {
    "duration": 22,
    "start_time": "2022-11-20T06:15:17.678Z"
   },
   {
    "duration": 19,
    "start_time": "2022-11-20T06:15:48.443Z"
   },
   {
    "duration": 33,
    "start_time": "2022-11-20T06:16:22.751Z"
   },
   {
    "duration": 676,
    "start_time": "2022-11-20T06:16:42.890Z"
   },
   {
    "duration": 13,
    "start_time": "2022-11-20T06:16:43.567Z"
   },
   {
    "duration": 41,
    "start_time": "2022-11-20T06:16:43.582Z"
   },
   {
    "duration": 13,
    "start_time": "2022-11-20T06:16:43.625Z"
   },
   {
    "duration": 26,
    "start_time": "2022-11-20T06:16:43.639Z"
   },
   {
    "duration": 52,
    "start_time": "2022-11-20T06:16:43.666Z"
   },
   {
    "duration": 10,
    "start_time": "2022-11-20T06:16:43.719Z"
   },
   {
    "duration": 34,
    "start_time": "2022-11-20T06:16:43.730Z"
   },
   {
    "duration": 17,
    "start_time": "2022-11-20T06:16:43.766Z"
   },
   {
    "duration": 34,
    "start_time": "2022-11-20T06:16:43.785Z"
   },
   {
    "duration": 14,
    "start_time": "2022-11-20T06:16:43.821Z"
   },
   {
    "duration": 33,
    "start_time": "2022-11-20T06:16:43.837Z"
   },
   {
    "duration": 32,
    "start_time": "2022-11-20T06:16:43.871Z"
   },
   {
    "duration": 15,
    "start_time": "2022-11-20T06:16:43.904Z"
   },
   {
    "duration": 27,
    "start_time": "2022-11-20T06:16:43.920Z"
   },
   {
    "duration": 28,
    "start_time": "2022-11-20T06:16:43.949Z"
   },
   {
    "duration": 66,
    "start_time": "2022-11-20T06:16:43.978Z"
   },
   {
    "duration": 17,
    "start_time": "2022-11-20T06:16:44.045Z"
   },
   {
    "duration": 31,
    "start_time": "2022-11-20T06:16:44.064Z"
   },
   {
    "duration": 16,
    "start_time": "2022-11-20T06:16:44.096Z"
   },
   {
    "duration": 39,
    "start_time": "2022-11-20T06:16:44.113Z"
   },
   {
    "duration": 15,
    "start_time": "2022-11-20T06:16:44.154Z"
   },
   {
    "duration": 34,
    "start_time": "2022-11-20T06:16:44.171Z"
   },
   {
    "duration": 14,
    "start_time": "2022-11-20T06:16:44.206Z"
   },
   {
    "duration": 24,
    "start_time": "2022-11-20T06:16:44.222Z"
   },
   {
    "duration": 21,
    "start_time": "2022-11-20T06:16:44.248Z"
   },
   {
    "duration": 5,
    "start_time": "2022-11-20T06:16:44.270Z"
   },
   {
    "duration": 30,
    "start_time": "2022-11-20T06:16:44.278Z"
   },
   {
    "duration": 15,
    "start_time": "2022-11-20T06:16:44.309Z"
   },
   {
    "duration": 15,
    "start_time": "2022-11-20T06:16:44.326Z"
   },
   {
    "duration": 31,
    "start_time": "2022-11-20T06:16:44.343Z"
   },
   {
    "duration": 12,
    "start_time": "2022-11-20T06:16:44.376Z"
   },
   {
    "duration": 19,
    "start_time": "2022-11-20T06:16:44.389Z"
   },
   {
    "duration": 13,
    "start_time": "2022-11-20T06:16:44.410Z"
   },
   {
    "duration": 24,
    "start_time": "2022-11-20T06:16:44.425Z"
   },
   {
    "duration": 15,
    "start_time": "2022-11-20T06:16:44.450Z"
   },
   {
    "duration": 29,
    "start_time": "2022-11-20T06:16:44.466Z"
   },
   {
    "duration": 17,
    "start_time": "2022-11-20T06:16:44.497Z"
   },
   {
    "duration": 25,
    "start_time": "2022-11-20T06:16:44.516Z"
   },
   {
    "duration": 26,
    "start_time": "2022-11-20T06:16:44.543Z"
   },
   {
    "duration": 40,
    "start_time": "2022-11-20T06:16:44.571Z"
   },
   {
    "duration": 82,
    "start_time": "2022-11-20T06:16:44.612Z"
   },
   {
    "duration": 6,
    "start_time": "2022-11-20T06:16:44.696Z"
   },
   {
    "duration": 19,
    "start_time": "2022-11-20T06:16:44.703Z"
   },
   {
    "duration": 7,
    "start_time": "2022-11-20T06:16:44.724Z"
   },
   {
    "duration": 7,
    "start_time": "2022-11-20T06:16:44.732Z"
   },
   {
    "duration": 5,
    "start_time": "2022-11-20T06:16:44.740Z"
   },
   {
    "duration": 14,
    "start_time": "2022-11-20T06:16:44.746Z"
   },
   {
    "duration": 124,
    "start_time": "2022-11-20T06:16:44.761Z"
   },
   {
    "duration": 114,
    "start_time": "2022-11-20T06:16:44.887Z"
   },
   {
    "duration": 115,
    "start_time": "2022-11-20T06:16:45.003Z"
   },
   {
    "duration": 5,
    "start_time": "2022-11-20T06:16:45.120Z"
   },
   {
    "duration": 236,
    "start_time": "2022-11-20T06:16:45.127Z"
   },
   {
    "duration": 34,
    "start_time": "2022-11-20T06:16:45.365Z"
   },
   {
    "duration": 7,
    "start_time": "2022-11-20T06:16:45.400Z"
   },
   {
    "duration": 19,
    "start_time": "2022-11-20T06:16:45.409Z"
   },
   {
    "duration": 13,
    "start_time": "2022-11-20T06:16:45.430Z"
   },
   {
    "duration": 9,
    "start_time": "2022-11-20T06:16:45.445Z"
   },
   {
    "duration": 16,
    "start_time": "2022-11-20T06:16:45.456Z"
   },
   {
    "duration": 5,
    "start_time": "2022-11-20T06:16:45.473Z"
   },
   {
    "duration": 26,
    "start_time": "2022-11-20T06:16:45.479Z"
   },
   {
    "duration": 12,
    "start_time": "2022-11-20T06:16:45.507Z"
   },
   {
    "duration": 5,
    "start_time": "2022-11-20T06:16:45.520Z"
   },
   {
    "duration": 126,
    "start_time": "2022-11-20T06:16:45.526Z"
   },
   {
    "duration": 82,
    "start_time": "2022-11-20T06:16:45.654Z"
   },
   {
    "duration": 36,
    "start_time": "2022-11-20T06:17:13.340Z"
   },
   {
    "duration": 8,
    "start_time": "2022-11-20T06:17:43.561Z"
   },
   {
    "duration": 11,
    "start_time": "2022-11-20T06:20:12.255Z"
   },
   {
    "duration": 11,
    "start_time": "2022-11-20T06:21:04.805Z"
   },
   {
    "duration": 10,
    "start_time": "2022-11-20T06:21:10.193Z"
   },
   {
    "duration": 681,
    "start_time": "2022-11-20T06:21:16.394Z"
   },
   {
    "duration": 14,
    "start_time": "2022-11-20T06:21:17.077Z"
   },
   {
    "duration": 32,
    "start_time": "2022-11-20T06:21:17.093Z"
   },
   {
    "duration": 35,
    "start_time": "2022-11-20T06:21:17.127Z"
   },
   {
    "duration": 20,
    "start_time": "2022-11-20T06:21:17.164Z"
   },
   {
    "duration": 61,
    "start_time": "2022-11-20T06:21:17.186Z"
   },
   {
    "duration": 10,
    "start_time": "2022-11-20T06:21:17.248Z"
   },
   {
    "duration": 33,
    "start_time": "2022-11-20T06:21:17.260Z"
   },
   {
    "duration": 81,
    "start_time": "2022-11-20T06:21:17.295Z"
   },
   {
    "duration": 38,
    "start_time": "2022-11-20T06:21:17.379Z"
   },
   {
    "duration": 35,
    "start_time": "2022-11-20T06:21:17.418Z"
   },
   {
    "duration": 11,
    "start_time": "2022-11-20T06:21:17.455Z"
   },
   {
    "duration": 27,
    "start_time": "2022-11-20T06:21:17.467Z"
   },
   {
    "duration": 55,
    "start_time": "2022-11-20T06:21:17.496Z"
   },
   {
    "duration": 40,
    "start_time": "2022-11-20T06:21:17.553Z"
   },
   {
    "duration": 81,
    "start_time": "2022-11-20T06:21:17.594Z"
   },
   {
    "duration": 53,
    "start_time": "2022-11-20T06:21:17.677Z"
   },
   {
    "duration": 5,
    "start_time": "2022-11-20T06:21:17.732Z"
   },
   {
    "duration": 16,
    "start_time": "2022-11-20T06:21:17.738Z"
   },
   {
    "duration": 10,
    "start_time": "2022-11-20T06:21:17.756Z"
   },
   {
    "duration": 52,
    "start_time": "2022-11-20T06:21:17.767Z"
   },
   {
    "duration": 18,
    "start_time": "2022-11-20T06:21:17.821Z"
   },
   {
    "duration": 16,
    "start_time": "2022-11-20T06:21:17.841Z"
   },
   {
    "duration": 9,
    "start_time": "2022-11-20T06:21:17.858Z"
   },
   {
    "duration": 32,
    "start_time": "2022-11-20T06:21:17.869Z"
   },
   {
    "duration": 18,
    "start_time": "2022-11-20T06:21:17.903Z"
   },
   {
    "duration": 6,
    "start_time": "2022-11-20T06:21:17.922Z"
   },
   {
    "duration": 17,
    "start_time": "2022-11-20T06:21:17.932Z"
   },
   {
    "duration": 12,
    "start_time": "2022-11-20T06:21:17.950Z"
   },
   {
    "duration": 5,
    "start_time": "2022-11-20T06:21:17.963Z"
   },
   {
    "duration": 40,
    "start_time": "2022-11-20T06:21:17.970Z"
   },
   {
    "duration": 8,
    "start_time": "2022-11-20T06:21:18.011Z"
   },
   {
    "duration": 19,
    "start_time": "2022-11-20T06:21:18.021Z"
   },
   {
    "duration": 30,
    "start_time": "2022-11-20T06:21:18.041Z"
   },
   {
    "duration": 9,
    "start_time": "2022-11-20T06:21:18.072Z"
   },
   {
    "duration": 18,
    "start_time": "2022-11-20T06:21:18.082Z"
   },
   {
    "duration": 13,
    "start_time": "2022-11-20T06:21:18.101Z"
   },
   {
    "duration": 9,
    "start_time": "2022-11-20T06:21:18.116Z"
   },
   {
    "duration": 14,
    "start_time": "2022-11-20T06:21:18.126Z"
   },
   {
    "duration": 12,
    "start_time": "2022-11-20T06:21:18.142Z"
   },
   {
    "duration": 7,
    "start_time": "2022-11-20T06:21:18.155Z"
   },
   {
    "duration": 81,
    "start_time": "2022-11-20T06:21:18.163Z"
   },
   {
    "duration": 7,
    "start_time": "2022-11-20T06:21:18.246Z"
   },
   {
    "duration": 25,
    "start_time": "2022-11-20T06:21:18.254Z"
   },
   {
    "duration": 23,
    "start_time": "2022-11-20T06:21:18.281Z"
   },
   {
    "duration": 12,
    "start_time": "2022-11-20T06:21:18.305Z"
   },
   {
    "duration": 9,
    "start_time": "2022-11-20T06:21:18.318Z"
   },
   {
    "duration": 16,
    "start_time": "2022-11-20T06:21:18.328Z"
   },
   {
    "duration": 108,
    "start_time": "2022-11-20T06:21:18.346Z"
   },
   {
    "duration": 109,
    "start_time": "2022-11-20T06:21:18.455Z"
   },
   {
    "duration": 107,
    "start_time": "2022-11-20T06:21:18.565Z"
   },
   {
    "duration": 4,
    "start_time": "2022-11-20T06:21:18.674Z"
   },
   {
    "duration": 237,
    "start_time": "2022-11-20T06:21:18.680Z"
   },
   {
    "duration": 24,
    "start_time": "2022-11-20T06:21:18.918Z"
   },
   {
    "duration": 6,
    "start_time": "2022-11-20T06:21:18.943Z"
   },
   {
    "duration": 15,
    "start_time": "2022-11-20T06:21:18.950Z"
   },
   {
    "duration": 34,
    "start_time": "2022-11-20T06:21:18.966Z"
   },
   {
    "duration": 12,
    "start_time": "2022-11-20T06:21:19.002Z"
   },
   {
    "duration": 17,
    "start_time": "2022-11-20T06:21:19.016Z"
   },
   {
    "duration": 6,
    "start_time": "2022-11-20T06:21:19.035Z"
   },
   {
    "duration": 17,
    "start_time": "2022-11-20T06:21:19.042Z"
   },
   {
    "duration": 12,
    "start_time": "2022-11-20T06:21:19.061Z"
   },
   {
    "duration": 26,
    "start_time": "2022-11-20T06:21:19.075Z"
   },
   {
    "duration": 120,
    "start_time": "2022-11-20T06:21:19.102Z"
   },
   {
    "duration": 81,
    "start_time": "2022-11-20T06:21:19.224Z"
   },
   {
    "duration": 8,
    "start_time": "2022-11-20T06:22:15.430Z"
   },
   {
    "duration": 9,
    "start_time": "2022-11-20T06:22:35.934Z"
   },
   {
    "duration": 8,
    "start_time": "2022-11-20T06:22:51.530Z"
   },
   {
    "duration": 8,
    "start_time": "2022-11-20T06:23:28.319Z"
   },
   {
    "duration": 9,
    "start_time": "2022-11-20T06:23:55.994Z"
   },
   {
    "duration": 8,
    "start_time": "2022-11-20T06:24:39.676Z"
   },
   {
    "duration": 8,
    "start_time": "2022-11-20T06:25:07.015Z"
   },
   {
    "duration": 8,
    "start_time": "2022-11-20T06:25:33.603Z"
   },
   {
    "duration": 697,
    "start_time": "2022-11-20T06:27:39.491Z"
   },
   {
    "duration": 13,
    "start_time": "2022-11-20T06:27:40.190Z"
   },
   {
    "duration": 10,
    "start_time": "2022-11-20T06:27:40.205Z"
   },
   {
    "duration": 6,
    "start_time": "2022-11-20T06:27:40.216Z"
   },
   {
    "duration": 10,
    "start_time": "2022-11-20T06:27:40.224Z"
   },
   {
    "duration": 45,
    "start_time": "2022-11-20T06:27:40.235Z"
   },
   {
    "duration": 9,
    "start_time": "2022-11-20T06:27:40.281Z"
   },
   {
    "duration": 15,
    "start_time": "2022-11-20T06:27:40.291Z"
   },
   {
    "duration": 12,
    "start_time": "2022-11-20T06:27:40.307Z"
   },
   {
    "duration": 13,
    "start_time": "2022-11-20T06:27:40.321Z"
   },
   {
    "duration": 7,
    "start_time": "2022-11-20T06:27:40.335Z"
   },
   {
    "duration": 9,
    "start_time": "2022-11-20T06:27:40.343Z"
   },
   {
    "duration": 7,
    "start_time": "2022-11-20T06:27:40.354Z"
   },
   {
    "duration": 7,
    "start_time": "2022-11-20T06:27:40.363Z"
   },
   {
    "duration": 35,
    "start_time": "2022-11-20T06:27:40.371Z"
   },
   {
    "duration": 8,
    "start_time": "2022-11-20T06:27:40.408Z"
   },
   {
    "duration": 52,
    "start_time": "2022-11-20T06:27:40.418Z"
   },
   {
    "duration": 27,
    "start_time": "2022-11-20T06:27:40.471Z"
   },
   {
    "duration": 20,
    "start_time": "2022-11-20T06:27:40.499Z"
   },
   {
    "duration": 8,
    "start_time": "2022-11-20T06:27:40.521Z"
   },
   {
    "duration": 25,
    "start_time": "2022-11-20T06:27:40.530Z"
   },
   {
    "duration": 17,
    "start_time": "2022-11-20T06:27:40.556Z"
   },
   {
    "duration": 33,
    "start_time": "2022-11-20T06:27:40.575Z"
   },
   {
    "duration": 4,
    "start_time": "2022-11-20T06:27:40.610Z"
   },
   {
    "duration": 25,
    "start_time": "2022-11-20T06:27:40.617Z"
   },
   {
    "duration": 17,
    "start_time": "2022-11-20T06:27:40.644Z"
   },
   {
    "duration": 5,
    "start_time": "2022-11-20T06:27:40.662Z"
   },
   {
    "duration": 28,
    "start_time": "2022-11-20T06:27:40.670Z"
   },
   {
    "duration": 15,
    "start_time": "2022-11-20T06:27:40.700Z"
   },
   {
    "duration": 6,
    "start_time": "2022-11-20T06:27:40.716Z"
   },
   {
    "duration": 21,
    "start_time": "2022-11-20T06:27:40.723Z"
   },
   {
    "duration": 8,
    "start_time": "2022-11-20T06:27:40.745Z"
   },
   {
    "duration": 17,
    "start_time": "2022-11-20T06:27:40.754Z"
   },
   {
    "duration": 26,
    "start_time": "2022-11-20T06:27:40.772Z"
   },
   {
    "duration": 8,
    "start_time": "2022-11-20T06:27:40.799Z"
   },
   {
    "duration": 11,
    "start_time": "2022-11-20T06:27:40.808Z"
   },
   {
    "duration": 12,
    "start_time": "2022-11-20T06:27:40.820Z"
   },
   {
    "duration": 9,
    "start_time": "2022-11-20T06:27:40.833Z"
   },
   {
    "duration": 13,
    "start_time": "2022-11-20T06:27:40.843Z"
   },
   {
    "duration": 10,
    "start_time": "2022-11-20T06:27:40.857Z"
   },
   {
    "duration": 4,
    "start_time": "2022-11-20T06:27:40.868Z"
   },
   {
    "duration": 77,
    "start_time": "2022-11-20T06:27:40.874Z"
   },
   {
    "duration": 6,
    "start_time": "2022-11-20T06:27:40.953Z"
   },
   {
    "duration": 20,
    "start_time": "2022-11-20T06:27:40.960Z"
   },
   {
    "duration": 4,
    "start_time": "2022-11-20T06:27:40.996Z"
   },
   {
    "duration": 7,
    "start_time": "2022-11-20T06:27:41.001Z"
   },
   {
    "duration": 7,
    "start_time": "2022-11-20T06:27:41.010Z"
   },
   {
    "duration": 17,
    "start_time": "2022-11-20T06:27:41.019Z"
   },
   {
    "duration": 110,
    "start_time": "2022-11-20T06:27:41.037Z"
   },
   {
    "duration": 105,
    "start_time": "2022-11-20T06:27:41.149Z"
   },
   {
    "duration": 104,
    "start_time": "2022-11-20T06:27:41.256Z"
   },
   {
    "duration": 5,
    "start_time": "2022-11-20T06:27:41.361Z"
   },
   {
    "duration": 224,
    "start_time": "2022-11-20T06:27:41.367Z"
   },
   {
    "duration": 23,
    "start_time": "2022-11-20T06:27:41.597Z"
   },
   {
    "duration": 9,
    "start_time": "2022-11-20T06:27:41.622Z"
   },
   {
    "duration": 14,
    "start_time": "2022-11-20T06:27:41.633Z"
   },
   {
    "duration": 13,
    "start_time": "2022-11-20T06:27:41.649Z"
   },
   {
    "duration": 9,
    "start_time": "2022-11-20T06:27:41.664Z"
   },
   {
    "duration": 33,
    "start_time": "2022-11-20T06:27:41.675Z"
   },
   {
    "duration": 4,
    "start_time": "2022-11-20T06:27:41.709Z"
   },
   {
    "duration": 18,
    "start_time": "2022-11-20T06:27:41.714Z"
   },
   {
    "duration": 11,
    "start_time": "2022-11-20T06:27:41.734Z"
   },
   {
    "duration": 6,
    "start_time": "2022-11-20T06:27:41.747Z"
   },
   {
    "duration": 120,
    "start_time": "2022-11-20T06:27:41.754Z"
   },
   {
    "duration": 7,
    "start_time": "2022-11-20T06:27:41.876Z"
   },
   {
    "duration": 15,
    "start_time": "2022-11-20T06:27:41.884Z"
   },
   {
    "duration": 6,
    "start_time": "2022-11-20T06:27:41.900Z"
   },
   {
    "duration": 11,
    "start_time": "2022-11-20T06:27:41.908Z"
   },
   {
    "duration": 10,
    "start_time": "2022-11-20T06:27:41.920Z"
   },
   {
    "duration": 9,
    "start_time": "2022-11-20T06:27:41.931Z"
   },
   {
    "duration": 9,
    "start_time": "2022-11-20T06:27:41.941Z"
   },
   {
    "duration": 8,
    "start_time": "2022-11-20T06:27:41.951Z"
   },
   {
    "duration": 7,
    "start_time": "2022-11-20T06:27:41.960Z"
   },
   {
    "duration": 31,
    "start_time": "2022-11-20T06:27:41.968Z"
   },
   {
    "duration": 68,
    "start_time": "2022-11-20T06:30:45.285Z"
   },
   {
    "duration": 5,
    "start_time": "2022-11-20T06:30:54.635Z"
   },
   {
    "duration": 4,
    "start_time": "2022-11-20T06:30:57.118Z"
   },
   {
    "duration": 125,
    "start_time": "2022-11-20T06:31:14.661Z"
   },
   {
    "duration": 6,
    "start_time": "2022-11-20T06:31:29.892Z"
   },
   {
    "duration": 6,
    "start_time": "2022-11-20T06:31:50.128Z"
   },
   {
    "duration": 699,
    "start_time": "2022-11-20T06:32:17.465Z"
   },
   {
    "duration": 14,
    "start_time": "2022-11-20T06:32:18.166Z"
   },
   {
    "duration": 17,
    "start_time": "2022-11-20T06:32:18.181Z"
   },
   {
    "duration": 6,
    "start_time": "2022-11-20T06:32:18.201Z"
   },
   {
    "duration": 6,
    "start_time": "2022-11-20T06:32:18.209Z"
   },
   {
    "duration": 46,
    "start_time": "2022-11-20T06:32:18.216Z"
   },
   {
    "duration": 9,
    "start_time": "2022-11-20T06:32:18.263Z"
   },
   {
    "duration": 15,
    "start_time": "2022-11-20T06:32:18.273Z"
   },
   {
    "duration": 11,
    "start_time": "2022-11-20T06:32:18.289Z"
   },
   {
    "duration": 13,
    "start_time": "2022-11-20T06:32:18.302Z"
   },
   {
    "duration": 6,
    "start_time": "2022-11-20T06:32:18.317Z"
   },
   {
    "duration": 10,
    "start_time": "2022-11-20T06:32:18.325Z"
   },
   {
    "duration": 12,
    "start_time": "2022-11-20T06:32:18.336Z"
   },
   {
    "duration": 9,
    "start_time": "2022-11-20T06:32:18.350Z"
   },
   {
    "duration": 13,
    "start_time": "2022-11-20T06:32:18.360Z"
   },
   {
    "duration": 25,
    "start_time": "2022-11-20T06:32:18.374Z"
   },
   {
    "duration": 51,
    "start_time": "2022-11-20T06:32:18.400Z"
   },
   {
    "duration": 3,
    "start_time": "2022-11-20T06:32:18.452Z"
   },
   {
    "duration": 14,
    "start_time": "2022-11-20T06:32:18.457Z"
   },
   {
    "duration": 8,
    "start_time": "2022-11-20T06:32:18.472Z"
   },
   {
    "duration": 23,
    "start_time": "2022-11-20T06:32:18.497Z"
   },
   {
    "duration": 15,
    "start_time": "2022-11-20T06:32:18.521Z"
   },
   {
    "duration": 14,
    "start_time": "2022-11-20T06:32:18.537Z"
   },
   {
    "duration": 6,
    "start_time": "2022-11-20T06:32:18.553Z"
   },
   {
    "duration": 14,
    "start_time": "2022-11-20T06:32:18.560Z"
   },
   {
    "duration": 35,
    "start_time": "2022-11-20T06:32:18.575Z"
   },
   {
    "duration": 5,
    "start_time": "2022-11-20T06:32:18.611Z"
   },
   {
    "duration": 11,
    "start_time": "2022-11-20T06:32:18.619Z"
   },
   {
    "duration": 11,
    "start_time": "2022-11-20T06:32:18.632Z"
   },
   {
    "duration": 6,
    "start_time": "2022-11-20T06:32:18.644Z"
   },
   {
    "duration": 15,
    "start_time": "2022-11-20T06:32:18.651Z"
   },
   {
    "duration": 30,
    "start_time": "2022-11-20T06:32:18.668Z"
   },
   {
    "duration": 16,
    "start_time": "2022-11-20T06:32:18.699Z"
   },
   {
    "duration": 16,
    "start_time": "2022-11-20T06:32:18.717Z"
   },
   {
    "duration": 8,
    "start_time": "2022-11-20T06:32:18.734Z"
   },
   {
    "duration": 13,
    "start_time": "2022-11-20T06:32:18.744Z"
   },
   {
    "duration": 11,
    "start_time": "2022-11-20T06:32:18.758Z"
   },
   {
    "duration": 27,
    "start_time": "2022-11-20T06:32:18.770Z"
   },
   {
    "duration": 7,
    "start_time": "2022-11-20T06:32:18.799Z"
   },
   {
    "duration": 13,
    "start_time": "2022-11-20T06:32:18.807Z"
   },
   {
    "duration": 4,
    "start_time": "2022-11-20T06:32:18.822Z"
   },
   {
    "duration": 81,
    "start_time": "2022-11-20T06:32:18.828Z"
   },
   {
    "duration": 8,
    "start_time": "2022-11-20T06:32:18.910Z"
   },
   {
    "duration": 19,
    "start_time": "2022-11-20T06:32:18.920Z"
   },
   {
    "duration": 8,
    "start_time": "2022-11-20T06:32:18.941Z"
   },
   {
    "duration": 8,
    "start_time": "2022-11-20T06:32:18.951Z"
   },
   {
    "duration": 4,
    "start_time": "2022-11-20T06:32:18.960Z"
   },
   {
    "duration": 39,
    "start_time": "2022-11-20T06:32:18.965Z"
   },
   {
    "duration": 107,
    "start_time": "2022-11-20T06:32:19.006Z"
   },
   {
    "duration": 109,
    "start_time": "2022-11-20T06:32:19.115Z"
   },
   {
    "duration": 112,
    "start_time": "2022-11-20T06:32:19.226Z"
   },
   {
    "duration": 5,
    "start_time": "2022-11-20T06:32:19.340Z"
   },
   {
    "duration": 229,
    "start_time": "2022-11-20T06:32:19.347Z"
   },
   {
    "duration": 32,
    "start_time": "2022-11-20T06:32:19.578Z"
   },
   {
    "duration": 8,
    "start_time": "2022-11-20T06:32:19.611Z"
   },
   {
    "duration": 13,
    "start_time": "2022-11-20T06:32:19.620Z"
   },
   {
    "duration": 10,
    "start_time": "2022-11-20T06:32:19.635Z"
   },
   {
    "duration": 10,
    "start_time": "2022-11-20T06:32:19.646Z"
   },
   {
    "duration": 16,
    "start_time": "2022-11-20T06:32:19.658Z"
   },
   {
    "duration": 4,
    "start_time": "2022-11-20T06:32:19.697Z"
   },
   {
    "duration": 16,
    "start_time": "2022-11-20T06:32:19.702Z"
   },
   {
    "duration": 12,
    "start_time": "2022-11-20T06:32:19.720Z"
   },
   {
    "duration": 5,
    "start_time": "2022-11-20T06:32:19.733Z"
   },
   {
    "duration": 126,
    "start_time": "2022-11-20T06:32:19.739Z"
   },
   {
    "duration": 7,
    "start_time": "2022-11-20T06:32:19.867Z"
   },
   {
    "duration": 9,
    "start_time": "2022-11-20T06:32:19.876Z"
   },
   {
    "duration": 8,
    "start_time": "2022-11-20T06:32:19.897Z"
   },
   {
    "duration": 9,
    "start_time": "2022-11-20T06:32:19.906Z"
   },
   {
    "duration": 7,
    "start_time": "2022-11-20T06:32:19.917Z"
   },
   {
    "duration": 18,
    "start_time": "2022-11-20T06:32:19.925Z"
   },
   {
    "duration": 7,
    "start_time": "2022-11-20T06:32:19.945Z"
   },
   {
    "duration": 7,
    "start_time": "2022-11-20T06:32:19.954Z"
   },
   {
    "duration": 35,
    "start_time": "2022-11-20T06:32:19.963Z"
   },
   {
    "duration": 12,
    "start_time": "2022-11-20T06:32:20.000Z"
   },
   {
    "duration": 7,
    "start_time": "2022-11-20T06:32:20.013Z"
   },
   {
    "duration": 100,
    "start_time": "2022-11-20T06:35:23.650Z"
   },
   {
    "duration": 14,
    "start_time": "2022-11-20T06:36:46.638Z"
   },
   {
    "duration": 20,
    "start_time": "2022-11-20T06:37:11.986Z"
   },
   {
    "duration": 13,
    "start_time": "2022-11-20T06:42:40.773Z"
   },
   {
    "duration": 42,
    "start_time": "2022-11-20T06:47:55.363Z"
   },
   {
    "duration": 14,
    "start_time": "2022-11-20T06:48:02.675Z"
   },
   {
    "duration": 7,
    "start_time": "2022-11-20T06:50:36.003Z"
   },
   {
    "duration": 7,
    "start_time": "2022-11-20T06:51:52.506Z"
   },
   {
    "duration": 699,
    "start_time": "2022-11-20T06:51:59.709Z"
   },
   {
    "duration": 14,
    "start_time": "2022-11-20T06:52:00.410Z"
   },
   {
    "duration": 16,
    "start_time": "2022-11-20T06:52:00.425Z"
   },
   {
    "duration": 8,
    "start_time": "2022-11-20T06:52:00.443Z"
   },
   {
    "duration": 11,
    "start_time": "2022-11-20T06:52:00.453Z"
   },
   {
    "duration": 52,
    "start_time": "2022-11-20T06:52:00.465Z"
   },
   {
    "duration": 10,
    "start_time": "2022-11-20T06:52:00.519Z"
   },
   {
    "duration": 30,
    "start_time": "2022-11-20T06:52:00.530Z"
   },
   {
    "duration": 25,
    "start_time": "2022-11-20T06:52:00.562Z"
   },
   {
    "duration": 18,
    "start_time": "2022-11-20T06:52:00.591Z"
   },
   {
    "duration": 22,
    "start_time": "2022-11-20T06:52:00.611Z"
   },
   {
    "duration": 19,
    "start_time": "2022-11-20T06:52:00.635Z"
   },
   {
    "duration": 10,
    "start_time": "2022-11-20T06:52:00.656Z"
   },
   {
    "duration": 26,
    "start_time": "2022-11-20T06:52:00.667Z"
   },
   {
    "duration": 33,
    "start_time": "2022-11-20T06:52:00.694Z"
   },
   {
    "duration": 11,
    "start_time": "2022-11-20T06:52:00.728Z"
   },
   {
    "duration": 63,
    "start_time": "2022-11-20T06:52:00.740Z"
   },
   {
    "duration": 3,
    "start_time": "2022-11-20T06:52:00.805Z"
   },
   {
    "duration": 34,
    "start_time": "2022-11-20T06:52:00.809Z"
   },
   {
    "duration": 16,
    "start_time": "2022-11-20T06:52:00.845Z"
   },
   {
    "duration": 43,
    "start_time": "2022-11-20T06:52:00.862Z"
   },
   {
    "duration": 17,
    "start_time": "2022-11-20T06:52:00.906Z"
   },
   {
    "duration": 17,
    "start_time": "2022-11-20T06:52:00.925Z"
   },
   {
    "duration": 12,
    "start_time": "2022-11-20T06:52:00.943Z"
   },
   {
    "duration": 16,
    "start_time": "2022-11-20T06:52:00.957Z"
   },
   {
    "duration": 32,
    "start_time": "2022-11-20T06:52:00.974Z"
   },
   {
    "duration": 4,
    "start_time": "2022-11-20T06:52:01.008Z"
   },
   {
    "duration": 13,
    "start_time": "2022-11-20T06:52:01.016Z"
   },
   {
    "duration": 15,
    "start_time": "2022-11-20T06:52:01.030Z"
   },
   {
    "duration": 6,
    "start_time": "2022-11-20T06:52:01.046Z"
   },
   {
    "duration": 22,
    "start_time": "2022-11-20T06:52:01.054Z"
   },
   {
    "duration": 27,
    "start_time": "2022-11-20T06:52:01.077Z"
   },
   {
    "duration": 15,
    "start_time": "2022-11-20T06:52:01.105Z"
   },
   {
    "duration": 18,
    "start_time": "2022-11-20T06:52:01.121Z"
   },
   {
    "duration": 9,
    "start_time": "2022-11-20T06:52:01.140Z"
   },
   {
    "duration": 19,
    "start_time": "2022-11-20T06:52:01.150Z"
   },
   {
    "duration": 29,
    "start_time": "2022-11-20T06:52:01.171Z"
   },
   {
    "duration": 13,
    "start_time": "2022-11-20T06:52:01.202Z"
   },
   {
    "duration": 23,
    "start_time": "2022-11-20T06:52:01.216Z"
   },
   {
    "duration": 11,
    "start_time": "2022-11-20T06:52:01.241Z"
   },
   {
    "duration": 28,
    "start_time": "2022-11-20T06:52:01.254Z"
   },
   {
    "duration": 91,
    "start_time": "2022-11-20T06:52:01.284Z"
   },
   {
    "duration": 7,
    "start_time": "2022-11-20T06:52:01.377Z"
   },
   {
    "duration": 30,
    "start_time": "2022-11-20T06:52:01.386Z"
   },
   {
    "duration": 43,
    "start_time": "2022-11-20T06:52:01.417Z"
   },
   {
    "duration": 35,
    "start_time": "2022-11-20T06:52:01.462Z"
   },
   {
    "duration": 21,
    "start_time": "2022-11-20T06:52:01.498Z"
   },
   {
    "duration": 36,
    "start_time": "2022-11-20T06:52:01.521Z"
   },
   {
    "duration": 145,
    "start_time": "2022-11-20T06:52:01.559Z"
   },
   {
    "duration": 102,
    "start_time": "2022-11-20T06:52:01.706Z"
   },
   {
    "duration": 109,
    "start_time": "2022-11-20T06:52:01.809Z"
   },
   {
    "duration": 4,
    "start_time": "2022-11-20T06:52:01.919Z"
   },
   {
    "duration": 176,
    "start_time": "2022-11-20T06:52:01.925Z"
   },
   {
    "duration": 33,
    "start_time": "2022-11-20T06:52:02.103Z"
   },
   {
    "duration": 43,
    "start_time": "2022-11-20T06:52:02.138Z"
   },
   {
    "duration": 56,
    "start_time": "2022-11-20T06:52:02.183Z"
   },
   {
    "duration": 21,
    "start_time": "2022-11-20T06:52:02.240Z"
   },
   {
    "duration": 23,
    "start_time": "2022-11-20T06:52:02.262Z"
   },
   {
    "duration": 32,
    "start_time": "2022-11-20T06:52:02.286Z"
   },
   {
    "duration": 6,
    "start_time": "2022-11-20T06:52:02.320Z"
   },
   {
    "duration": 21,
    "start_time": "2022-11-20T06:52:02.327Z"
   },
   {
    "duration": 17,
    "start_time": "2022-11-20T06:52:02.350Z"
   },
   {
    "duration": 18,
    "start_time": "2022-11-20T06:52:02.369Z"
   },
   {
    "duration": 135,
    "start_time": "2022-11-20T06:52:02.388Z"
   },
   {
    "duration": 7,
    "start_time": "2022-11-20T06:52:02.525Z"
   },
   {
    "duration": 15,
    "start_time": "2022-11-20T06:52:02.533Z"
   },
   {
    "duration": 18,
    "start_time": "2022-11-20T06:52:02.549Z"
   },
   {
    "duration": 30,
    "start_time": "2022-11-20T06:52:02.568Z"
   },
   {
    "duration": 39,
    "start_time": "2022-11-20T06:52:02.600Z"
   },
   {
    "duration": 13,
    "start_time": "2022-11-20T06:52:02.640Z"
   },
   {
    "duration": 9,
    "start_time": "2022-11-20T06:52:02.655Z"
   },
   {
    "duration": 22,
    "start_time": "2022-11-20T06:52:02.665Z"
   },
   {
    "duration": 22,
    "start_time": "2022-11-20T06:52:02.689Z"
   },
   {
    "duration": 31,
    "start_time": "2022-11-20T06:52:02.712Z"
   },
   {
    "duration": 34,
    "start_time": "2022-11-20T06:52:02.744Z"
   },
   {
    "duration": 43,
    "start_time": "2022-11-20T06:52:02.779Z"
   },
   {
    "duration": 8,
    "start_time": "2022-11-20T06:52:32.334Z"
   },
   {
    "duration": 687,
    "start_time": "2022-11-20T06:52:43.864Z"
   },
   {
    "duration": 17,
    "start_time": "2022-11-20T06:52:44.553Z"
   },
   {
    "duration": 27,
    "start_time": "2022-11-20T06:52:44.572Z"
   },
   {
    "duration": 7,
    "start_time": "2022-11-20T06:52:44.601Z"
   },
   {
    "duration": 9,
    "start_time": "2022-11-20T06:52:44.609Z"
   },
   {
    "duration": 47,
    "start_time": "2022-11-20T06:52:44.619Z"
   },
   {
    "duration": 8,
    "start_time": "2022-11-20T06:52:44.668Z"
   },
   {
    "duration": 13,
    "start_time": "2022-11-20T06:52:44.678Z"
   },
   {
    "duration": 12,
    "start_time": "2022-11-20T06:52:44.692Z"
   },
   {
    "duration": 14,
    "start_time": "2022-11-20T06:52:44.707Z"
   },
   {
    "duration": 7,
    "start_time": "2022-11-20T06:52:44.723Z"
   },
   {
    "duration": 14,
    "start_time": "2022-11-20T06:52:44.731Z"
   },
   {
    "duration": 7,
    "start_time": "2022-11-20T06:52:44.747Z"
   },
   {
    "duration": 8,
    "start_time": "2022-11-20T06:52:44.756Z"
   },
   {
    "duration": 13,
    "start_time": "2022-11-20T06:52:44.765Z"
   },
   {
    "duration": 19,
    "start_time": "2022-11-20T06:52:44.780Z"
   },
   {
    "duration": 50,
    "start_time": "2022-11-20T06:52:44.800Z"
   },
   {
    "duration": 3,
    "start_time": "2022-11-20T06:52:44.852Z"
   },
   {
    "duration": 15,
    "start_time": "2022-11-20T06:52:44.856Z"
   },
   {
    "duration": 28,
    "start_time": "2022-11-20T06:52:44.873Z"
   },
   {
    "duration": 24,
    "start_time": "2022-11-20T06:52:44.903Z"
   },
   {
    "duration": 16,
    "start_time": "2022-11-20T06:52:44.928Z"
   },
   {
    "duration": 20,
    "start_time": "2022-11-20T06:52:44.946Z"
   },
   {
    "duration": 5,
    "start_time": "2022-11-20T06:52:44.967Z"
   },
   {
    "duration": 34,
    "start_time": "2022-11-20T06:52:44.973Z"
   },
   {
    "duration": 17,
    "start_time": "2022-11-20T06:52:45.009Z"
   },
   {
    "duration": 5,
    "start_time": "2022-11-20T06:52:45.027Z"
   },
   {
    "duration": 10,
    "start_time": "2022-11-20T06:52:45.035Z"
   },
   {
    "duration": 8,
    "start_time": "2022-11-20T06:52:45.047Z"
   },
   {
    "duration": 4,
    "start_time": "2022-11-20T06:52:45.057Z"
   },
   {
    "duration": 44,
    "start_time": "2022-11-20T06:52:45.063Z"
   },
   {
    "duration": 7,
    "start_time": "2022-11-20T06:52:45.109Z"
   },
   {
    "duration": 13,
    "start_time": "2022-11-20T06:52:45.118Z"
   },
   {
    "duration": 14,
    "start_time": "2022-11-20T06:52:45.133Z"
   },
   {
    "duration": 8,
    "start_time": "2022-11-20T06:52:45.149Z"
   },
   {
    "duration": 42,
    "start_time": "2022-11-20T06:52:45.158Z"
   },
   {
    "duration": 10,
    "start_time": "2022-11-20T06:52:45.201Z"
   },
   {
    "duration": 12,
    "start_time": "2022-11-20T06:52:45.212Z"
   },
   {
    "duration": 11,
    "start_time": "2022-11-20T06:52:45.226Z"
   },
   {
    "duration": 8,
    "start_time": "2022-11-20T06:52:45.239Z"
   },
   {
    "duration": 5,
    "start_time": "2022-11-20T06:52:45.248Z"
   },
   {
    "duration": 87,
    "start_time": "2022-11-20T06:52:45.254Z"
   },
   {
    "duration": 7,
    "start_time": "2022-11-20T06:52:45.343Z"
   },
   {
    "duration": 20,
    "start_time": "2022-11-20T06:52:45.352Z"
   },
   {
    "duration": 6,
    "start_time": "2022-11-20T06:52:45.373Z"
   },
   {
    "duration": 21,
    "start_time": "2022-11-20T06:52:45.380Z"
   },
   {
    "duration": 8,
    "start_time": "2022-11-20T06:52:45.403Z"
   },
   {
    "duration": 20,
    "start_time": "2022-11-20T06:52:45.413Z"
   },
   {
    "duration": 112,
    "start_time": "2022-11-20T06:52:45.434Z"
   },
   {
    "duration": 105,
    "start_time": "2022-11-20T06:52:45.548Z"
   },
   {
    "duration": 112,
    "start_time": "2022-11-20T06:52:45.654Z"
   },
   {
    "duration": 5,
    "start_time": "2022-11-20T06:52:45.767Z"
   },
   {
    "duration": 144,
    "start_time": "2022-11-20T06:52:45.773Z"
   },
   {
    "duration": 17,
    "start_time": "2022-11-20T06:52:45.918Z"
   },
   {
    "duration": 5,
    "start_time": "2022-11-20T06:52:45.937Z"
   },
   {
    "duration": 14,
    "start_time": "2022-11-20T06:52:45.944Z"
   },
   {
    "duration": 9,
    "start_time": "2022-11-20T06:52:45.959Z"
   },
   {
    "duration": 30,
    "start_time": "2022-11-20T06:52:45.969Z"
   },
   {
    "duration": 18,
    "start_time": "2022-11-20T06:52:46.000Z"
   },
   {
    "duration": 5,
    "start_time": "2022-11-20T06:52:46.019Z"
   },
   {
    "duration": 10,
    "start_time": "2022-11-20T06:52:46.026Z"
   },
   {
    "duration": 12,
    "start_time": "2022-11-20T06:52:46.038Z"
   },
   {
    "duration": 3,
    "start_time": "2022-11-20T06:52:46.052Z"
   },
   {
    "duration": 127,
    "start_time": "2022-11-20T06:52:46.056Z"
   },
   {
    "duration": 14,
    "start_time": "2022-11-20T06:52:46.184Z"
   },
   {
    "duration": 12,
    "start_time": "2022-11-20T06:52:46.199Z"
   },
   {
    "duration": 7,
    "start_time": "2022-11-20T06:52:46.213Z"
   },
   {
    "duration": 7,
    "start_time": "2022-11-20T06:52:46.221Z"
   },
   {
    "duration": 10,
    "start_time": "2022-11-20T06:52:46.230Z"
   },
   {
    "duration": 9,
    "start_time": "2022-11-20T06:52:46.242Z"
   },
   {
    "duration": 8,
    "start_time": "2022-11-20T06:52:46.252Z"
   },
   {
    "duration": 9,
    "start_time": "2022-11-20T06:52:46.261Z"
   },
   {
    "duration": 27,
    "start_time": "2022-11-20T06:52:46.271Z"
   },
   {
    "duration": 6,
    "start_time": "2022-11-20T06:52:46.299Z"
   },
   {
    "duration": 5,
    "start_time": "2022-11-20T06:52:46.307Z"
   },
   {
    "duration": 52,
    "start_time": "2022-11-20T06:52:46.313Z"
   },
   {
    "duration": 12,
    "start_time": "2022-11-20T06:55:10.596Z"
   },
   {
    "duration": 681,
    "start_time": "2022-11-20T06:55:23.569Z"
   },
   {
    "duration": 13,
    "start_time": "2022-11-20T06:55:24.252Z"
   },
   {
    "duration": 12,
    "start_time": "2022-11-20T06:55:24.266Z"
   },
   {
    "duration": 6,
    "start_time": "2022-11-20T06:55:24.279Z"
   },
   {
    "duration": 16,
    "start_time": "2022-11-20T06:55:24.286Z"
   },
   {
    "duration": 47,
    "start_time": "2022-11-20T06:55:24.303Z"
   },
   {
    "duration": 9,
    "start_time": "2022-11-20T06:55:24.351Z"
   },
   {
    "duration": 15,
    "start_time": "2022-11-20T06:55:24.361Z"
   },
   {
    "duration": 10,
    "start_time": "2022-11-20T06:55:24.377Z"
   },
   {
    "duration": 12,
    "start_time": "2022-11-20T06:55:24.390Z"
   },
   {
    "duration": 17,
    "start_time": "2022-11-20T06:55:24.403Z"
   },
   {
    "duration": 19,
    "start_time": "2022-11-20T06:55:24.421Z"
   },
   {
    "duration": 9,
    "start_time": "2022-11-20T06:55:24.442Z"
   },
   {
    "duration": 6,
    "start_time": "2022-11-20T06:55:24.453Z"
   },
   {
    "duration": 12,
    "start_time": "2022-11-20T06:55:24.460Z"
   },
   {
    "duration": 7,
    "start_time": "2022-11-20T06:55:24.474Z"
   },
   {
    "duration": 64,
    "start_time": "2022-11-20T06:55:24.482Z"
   },
   {
    "duration": 7,
    "start_time": "2022-11-20T06:55:24.547Z"
   },
   {
    "duration": 30,
    "start_time": "2022-11-20T06:55:24.555Z"
   },
   {
    "duration": 11,
    "start_time": "2022-11-20T06:55:24.587Z"
   },
   {
    "duration": 32,
    "start_time": "2022-11-20T06:55:24.599Z"
   },
   {
    "duration": 16,
    "start_time": "2022-11-20T06:55:24.633Z"
   },
   {
    "duration": 19,
    "start_time": "2022-11-20T06:55:24.650Z"
   },
   {
    "duration": 27,
    "start_time": "2022-11-20T06:55:24.670Z"
   },
   {
    "duration": 13,
    "start_time": "2022-11-20T06:55:24.698Z"
   },
   {
    "duration": 15,
    "start_time": "2022-11-20T06:55:24.713Z"
   },
   {
    "duration": 4,
    "start_time": "2022-11-20T06:55:24.730Z"
   },
   {
    "duration": 12,
    "start_time": "2022-11-20T06:55:24.737Z"
   },
   {
    "duration": 9,
    "start_time": "2022-11-20T06:55:24.750Z"
   },
   {
    "duration": 4,
    "start_time": "2022-11-20T06:55:24.760Z"
   },
   {
    "duration": 46,
    "start_time": "2022-11-20T06:55:24.765Z"
   },
   {
    "duration": 10,
    "start_time": "2022-11-20T06:55:24.812Z"
   },
   {
    "duration": 14,
    "start_time": "2022-11-20T06:55:24.823Z"
   },
   {
    "duration": 14,
    "start_time": "2022-11-20T06:55:24.838Z"
   },
   {
    "duration": 8,
    "start_time": "2022-11-20T06:55:24.853Z"
   },
   {
    "duration": 8,
    "start_time": "2022-11-20T06:55:24.863Z"
   },
   {
    "duration": 8,
    "start_time": "2022-11-20T06:55:24.897Z"
   },
   {
    "duration": 9,
    "start_time": "2022-11-20T06:55:24.907Z"
   },
   {
    "duration": 11,
    "start_time": "2022-11-20T06:55:24.917Z"
   },
   {
    "duration": 9,
    "start_time": "2022-11-20T06:55:24.929Z"
   },
   {
    "duration": 6,
    "start_time": "2022-11-20T06:55:24.939Z"
   },
   {
    "duration": 81,
    "start_time": "2022-11-20T06:55:24.946Z"
   },
   {
    "duration": 6,
    "start_time": "2022-11-20T06:55:25.028Z"
   },
   {
    "duration": 19,
    "start_time": "2022-11-20T06:55:25.036Z"
   },
   {
    "duration": 8,
    "start_time": "2022-11-20T06:55:25.057Z"
   },
   {
    "duration": 8,
    "start_time": "2022-11-20T06:55:25.066Z"
   },
   {
    "duration": 23,
    "start_time": "2022-11-20T06:55:25.075Z"
   },
   {
    "duration": 14,
    "start_time": "2022-11-20T06:55:25.099Z"
   },
   {
    "duration": 112,
    "start_time": "2022-11-20T06:55:25.114Z"
   },
   {
    "duration": 109,
    "start_time": "2022-11-20T06:55:25.228Z"
   },
   {
    "duration": 106,
    "start_time": "2022-11-20T06:55:25.338Z"
   },
   {
    "duration": 5,
    "start_time": "2022-11-20T06:55:25.445Z"
   },
   {
    "duration": 146,
    "start_time": "2022-11-20T06:55:25.451Z"
   },
   {
    "duration": 15,
    "start_time": "2022-11-20T06:55:25.599Z"
   },
   {
    "duration": 35,
    "start_time": "2022-11-20T06:55:25.616Z"
   },
   {
    "duration": 3,
    "start_time": "2022-11-20T06:55:25.653Z"
   },
   {
    "duration": 33,
    "start_time": "2022-11-20T06:55:25.658Z"
   },
   {
    "duration": 14,
    "start_time": "2022-11-20T06:55:25.692Z"
   },
   {
    "duration": 13,
    "start_time": "2022-11-20T06:55:25.707Z"
   },
   {
    "duration": 20,
    "start_time": "2022-11-20T06:55:25.721Z"
   },
   {
    "duration": 5,
    "start_time": "2022-11-20T06:55:25.742Z"
   },
   {
    "duration": 12,
    "start_time": "2022-11-20T06:55:25.749Z"
   },
   {
    "duration": 13,
    "start_time": "2022-11-20T06:55:25.762Z"
   },
   {
    "duration": 4,
    "start_time": "2022-11-20T06:55:25.776Z"
   },
   {
    "duration": 115,
    "start_time": "2022-11-20T06:55:25.782Z"
   },
   {
    "duration": 7,
    "start_time": "2022-11-20T06:55:25.898Z"
   },
   {
    "duration": 10,
    "start_time": "2022-11-20T06:55:25.907Z"
   },
   {
    "duration": 9,
    "start_time": "2022-11-20T06:55:25.918Z"
   },
   {
    "duration": 9,
    "start_time": "2022-11-20T06:55:25.928Z"
   },
   {
    "duration": 12,
    "start_time": "2022-11-20T06:55:25.939Z"
   },
   {
    "duration": 8,
    "start_time": "2022-11-20T06:55:25.953Z"
   },
   {
    "duration": 8,
    "start_time": "2022-11-20T06:55:25.962Z"
   },
   {
    "duration": 13,
    "start_time": "2022-11-20T06:55:25.997Z"
   },
   {
    "duration": 8,
    "start_time": "2022-11-20T06:55:26.012Z"
   },
   {
    "duration": 13,
    "start_time": "2022-11-20T06:55:26.022Z"
   },
   {
    "duration": 16,
    "start_time": "2022-11-20T06:55:26.037Z"
   },
   {
    "duration": 55,
    "start_time": "2022-11-20T06:55:26.055Z"
   },
   {
    "duration": 96,
    "start_time": "2022-11-20T06:56:52.111Z"
   },
   {
    "duration": 617,
    "start_time": "2022-11-20T06:56:58.246Z"
   },
   {
    "duration": 12,
    "start_time": "2022-11-20T06:56:58.864Z"
   },
   {
    "duration": 16,
    "start_time": "2022-11-20T06:56:58.878Z"
   },
   {
    "duration": 14,
    "start_time": "2022-11-20T06:56:58.896Z"
   },
   {
    "duration": 16,
    "start_time": "2022-11-20T06:56:58.911Z"
   },
   {
    "duration": 46,
    "start_time": "2022-11-20T06:56:58.929Z"
   },
   {
    "duration": 9,
    "start_time": "2022-11-20T06:56:58.976Z"
   },
   {
    "duration": 13,
    "start_time": "2022-11-20T06:56:58.986Z"
   },
   {
    "duration": 13,
    "start_time": "2022-11-20T06:56:59.000Z"
   },
   {
    "duration": 13,
    "start_time": "2022-11-20T06:56:59.015Z"
   },
   {
    "duration": 7,
    "start_time": "2022-11-20T06:56:59.030Z"
   },
   {
    "duration": 8,
    "start_time": "2022-11-20T06:56:59.039Z"
   },
   {
    "duration": 9,
    "start_time": "2022-11-20T06:56:59.048Z"
   },
   {
    "duration": 5,
    "start_time": "2022-11-20T06:56:59.059Z"
   },
   {
    "duration": 36,
    "start_time": "2022-11-20T06:56:59.066Z"
   },
   {
    "duration": 9,
    "start_time": "2022-11-20T06:56:59.103Z"
   },
   {
    "duration": 51,
    "start_time": "2022-11-20T06:56:59.114Z"
   },
   {
    "duration": 32,
    "start_time": "2022-11-20T06:56:59.167Z"
   },
   {
    "duration": 14,
    "start_time": "2022-11-20T06:56:59.201Z"
   },
   {
    "duration": 9,
    "start_time": "2022-11-20T06:56:59.216Z"
   },
   {
    "duration": 23,
    "start_time": "2022-11-20T06:56:59.227Z"
   },
   {
    "duration": 16,
    "start_time": "2022-11-20T06:56:59.252Z"
   },
   {
    "duration": 41,
    "start_time": "2022-11-20T06:56:59.269Z"
   },
   {
    "duration": 5,
    "start_time": "2022-11-20T06:56:59.311Z"
   },
   {
    "duration": 14,
    "start_time": "2022-11-20T06:56:59.317Z"
   },
   {
    "duration": 16,
    "start_time": "2022-11-20T06:56:59.333Z"
   },
   {
    "duration": 5,
    "start_time": "2022-11-20T06:56:59.351Z"
   },
   {
    "duration": 36,
    "start_time": "2022-11-20T06:56:59.361Z"
   },
   {
    "duration": 7,
    "start_time": "2022-11-20T06:56:59.399Z"
   },
   {
    "duration": 4,
    "start_time": "2022-11-20T06:56:59.408Z"
   },
   {
    "duration": 15,
    "start_time": "2022-11-20T06:56:59.414Z"
   },
   {
    "duration": 9,
    "start_time": "2022-11-20T06:56:59.430Z"
   },
   {
    "duration": 15,
    "start_time": "2022-11-20T06:56:59.441Z"
   },
   {
    "duration": 52,
    "start_time": "2022-11-20T06:56:59.457Z"
   },
   {
    "duration": 10,
    "start_time": "2022-11-20T06:56:59.511Z"
   },
   {
    "duration": 8,
    "start_time": "2022-11-20T06:56:59.522Z"
   },
   {
    "duration": 10,
    "start_time": "2022-11-20T06:56:59.532Z"
   },
   {
    "duration": 8,
    "start_time": "2022-11-20T06:56:59.543Z"
   },
   {
    "duration": 10,
    "start_time": "2022-11-20T06:56:59.553Z"
   },
   {
    "duration": 38,
    "start_time": "2022-11-20T06:56:59.564Z"
   },
   {
    "duration": 3,
    "start_time": "2022-11-20T06:56:59.603Z"
   },
   {
    "duration": 64,
    "start_time": "2022-11-20T06:56:59.607Z"
   },
   {
    "duration": 7,
    "start_time": "2022-11-20T06:56:59.673Z"
   },
   {
    "duration": 19,
    "start_time": "2022-11-20T06:56:59.697Z"
   },
   {
    "duration": 9,
    "start_time": "2022-11-20T06:56:59.717Z"
   },
   {
    "duration": 7,
    "start_time": "2022-11-20T06:56:59.727Z"
   },
   {
    "duration": 5,
    "start_time": "2022-11-20T06:56:59.735Z"
   },
   {
    "duration": 15,
    "start_time": "2022-11-20T06:56:59.742Z"
   },
   {
    "duration": 113,
    "start_time": "2022-11-20T06:56:59.758Z"
   },
   {
    "duration": 111,
    "start_time": "2022-11-20T06:56:59.873Z"
   },
   {
    "duration": 119,
    "start_time": "2022-11-20T06:56:59.998Z"
   },
   {
    "duration": 5,
    "start_time": "2022-11-20T06:57:00.118Z"
   },
   {
    "duration": 154,
    "start_time": "2022-11-20T06:57:00.124Z"
   },
   {
    "duration": 6,
    "start_time": "2022-11-20T06:57:00.280Z"
   },
   {
    "duration": 14,
    "start_time": "2022-11-20T06:57:00.296Z"
   },
   {
    "duration": 5,
    "start_time": "2022-11-20T06:57:00.312Z"
   },
   {
    "duration": 11,
    "start_time": "2022-11-20T06:57:00.318Z"
   },
   {
    "duration": 7,
    "start_time": "2022-11-20T06:57:00.331Z"
   },
   {
    "duration": 8,
    "start_time": "2022-11-20T06:57:00.339Z"
   },
   {
    "duration": 12,
    "start_time": "2022-11-20T06:57:00.349Z"
   },
   {
    "duration": 11,
    "start_time": "2022-11-20T06:57:00.362Z"
   },
   {
    "duration": 12,
    "start_time": "2022-11-20T06:57:00.375Z"
   },
   {
    "duration": 22,
    "start_time": "2022-11-20T06:57:00.388Z"
   },
   {
    "duration": 6,
    "start_time": "2022-11-20T06:57:00.412Z"
   },
   {
    "duration": 111,
    "start_time": "2022-11-20T06:57:00.419Z"
   },
   {
    "duration": 79,
    "start_time": "2022-11-20T06:57:00.531Z"
   },
   {
    "duration": 0,
    "start_time": "2022-11-20T06:57:00.612Z"
   },
   {
    "duration": 0,
    "start_time": "2022-11-20T06:57:00.613Z"
   },
   {
    "duration": 0,
    "start_time": "2022-11-20T06:57:00.614Z"
   },
   {
    "duration": 0,
    "start_time": "2022-11-20T06:57:00.615Z"
   },
   {
    "duration": 0,
    "start_time": "2022-11-20T06:57:00.616Z"
   },
   {
    "duration": 0,
    "start_time": "2022-11-20T06:57:00.617Z"
   },
   {
    "duration": 0,
    "start_time": "2022-11-20T06:57:00.618Z"
   },
   {
    "duration": 0,
    "start_time": "2022-11-20T06:57:00.619Z"
   },
   {
    "duration": 0,
    "start_time": "2022-11-20T06:57:00.620Z"
   },
   {
    "duration": 0,
    "start_time": "2022-11-20T06:57:00.620Z"
   },
   {
    "duration": 0,
    "start_time": "2022-11-20T06:57:00.621Z"
   },
   {
    "duration": 683,
    "start_time": "2022-11-20T06:57:49.175Z"
   },
   {
    "duration": 12,
    "start_time": "2022-11-20T06:57:49.860Z"
   },
   {
    "duration": 23,
    "start_time": "2022-11-20T06:57:49.874Z"
   },
   {
    "duration": 6,
    "start_time": "2022-11-20T06:57:49.899Z"
   },
   {
    "duration": 24,
    "start_time": "2022-11-20T06:57:49.907Z"
   },
   {
    "duration": 56,
    "start_time": "2022-11-20T06:57:49.933Z"
   },
   {
    "duration": 9,
    "start_time": "2022-11-20T06:57:49.990Z"
   },
   {
    "duration": 32,
    "start_time": "2022-11-20T06:57:50.001Z"
   },
   {
    "duration": 20,
    "start_time": "2022-11-20T06:57:50.035Z"
   },
   {
    "duration": 43,
    "start_time": "2022-11-20T06:57:50.057Z"
   },
   {
    "duration": 18,
    "start_time": "2022-11-20T06:57:50.102Z"
   },
   {
    "duration": 15,
    "start_time": "2022-11-20T06:57:50.121Z"
   },
   {
    "duration": 17,
    "start_time": "2022-11-20T06:57:50.138Z"
   },
   {
    "duration": 13,
    "start_time": "2022-11-20T06:57:50.158Z"
   },
   {
    "duration": 17,
    "start_time": "2022-11-20T06:57:50.172Z"
   },
   {
    "duration": 21,
    "start_time": "2022-11-20T06:57:50.190Z"
   },
   {
    "duration": 69,
    "start_time": "2022-11-20T06:57:50.213Z"
   },
   {
    "duration": 3,
    "start_time": "2022-11-20T06:57:50.284Z"
   },
   {
    "duration": 26,
    "start_time": "2022-11-20T06:57:50.288Z"
   },
   {
    "duration": 10,
    "start_time": "2022-11-20T06:57:50.315Z"
   },
   {
    "duration": 23,
    "start_time": "2022-11-20T06:57:50.326Z"
   },
   {
    "duration": 16,
    "start_time": "2022-11-20T06:57:50.351Z"
   },
   {
    "duration": 29,
    "start_time": "2022-11-20T06:57:50.368Z"
   },
   {
    "duration": 21,
    "start_time": "2022-11-20T06:57:50.399Z"
   },
   {
    "duration": 14,
    "start_time": "2022-11-20T06:57:50.421Z"
   },
   {
    "duration": 36,
    "start_time": "2022-11-20T06:57:50.436Z"
   },
   {
    "duration": 5,
    "start_time": "2022-11-20T06:57:50.473Z"
   },
   {
    "duration": 19,
    "start_time": "2022-11-20T06:57:50.479Z"
   },
   {
    "duration": 12,
    "start_time": "2022-11-20T06:57:50.499Z"
   },
   {
    "duration": 21,
    "start_time": "2022-11-20T06:57:50.512Z"
   },
   {
    "duration": 31,
    "start_time": "2022-11-20T06:57:50.534Z"
   },
   {
    "duration": 8,
    "start_time": "2022-11-20T06:57:50.567Z"
   },
   {
    "duration": 16,
    "start_time": "2022-11-20T06:57:50.576Z"
   },
   {
    "duration": 14,
    "start_time": "2022-11-20T06:57:50.593Z"
   },
   {
    "duration": 10,
    "start_time": "2022-11-20T06:57:50.608Z"
   },
   {
    "duration": 8,
    "start_time": "2022-11-20T06:57:50.620Z"
   },
   {
    "duration": 12,
    "start_time": "2022-11-20T06:57:50.629Z"
   },
   {
    "duration": 11,
    "start_time": "2022-11-20T06:57:50.642Z"
   },
   {
    "duration": 13,
    "start_time": "2022-11-20T06:57:50.654Z"
   },
   {
    "duration": 11,
    "start_time": "2022-11-20T06:57:50.668Z"
   },
   {
    "duration": 3,
    "start_time": "2022-11-20T06:57:50.697Z"
   },
   {
    "duration": 65,
    "start_time": "2022-11-20T06:57:50.701Z"
   },
   {
    "duration": 6,
    "start_time": "2022-11-20T06:57:50.767Z"
   },
   {
    "duration": 36,
    "start_time": "2022-11-20T06:57:50.775Z"
   },
   {
    "duration": 3,
    "start_time": "2022-11-20T06:57:50.812Z"
   },
   {
    "duration": 7,
    "start_time": "2022-11-20T06:57:50.816Z"
   },
   {
    "duration": 5,
    "start_time": "2022-11-20T06:57:50.825Z"
   },
   {
    "duration": 15,
    "start_time": "2022-11-20T06:57:50.832Z"
   },
   {
    "duration": 113,
    "start_time": "2022-11-20T06:57:50.848Z"
   },
   {
    "duration": 102,
    "start_time": "2022-11-20T06:57:50.962Z"
   },
   {
    "duration": 107,
    "start_time": "2022-11-20T06:57:51.066Z"
   },
   {
    "duration": 4,
    "start_time": "2022-11-20T06:57:51.174Z"
   },
   {
    "duration": 144,
    "start_time": "2022-11-20T06:57:51.179Z"
   },
   {
    "duration": 14,
    "start_time": "2022-11-20T06:57:51.325Z"
   },
   {
    "duration": 12,
    "start_time": "2022-11-20T06:57:51.340Z"
   },
   {
    "duration": 3,
    "start_time": "2022-11-20T06:57:51.353Z"
   },
   {
    "duration": 41,
    "start_time": "2022-11-20T06:57:51.357Z"
   },
   {
    "duration": 10,
    "start_time": "2022-11-20T06:57:51.399Z"
   },
   {
    "duration": 13,
    "start_time": "2022-11-20T06:57:51.410Z"
   },
   {
    "duration": 13,
    "start_time": "2022-11-20T06:57:51.425Z"
   },
   {
    "duration": 5,
    "start_time": "2022-11-20T06:57:51.439Z"
   },
   {
    "duration": 17,
    "start_time": "2022-11-20T06:57:51.446Z"
   },
   {
    "duration": 12,
    "start_time": "2022-11-20T06:57:51.464Z"
   },
   {
    "duration": 5,
    "start_time": "2022-11-20T06:57:51.496Z"
   },
   {
    "duration": 115,
    "start_time": "2022-11-20T06:57:51.502Z"
   },
   {
    "duration": 7,
    "start_time": "2022-11-20T06:57:51.618Z"
   },
   {
    "duration": 8,
    "start_time": "2022-11-20T06:57:51.626Z"
   },
   {
    "duration": 6,
    "start_time": "2022-11-20T06:57:51.635Z"
   },
   {
    "duration": 6,
    "start_time": "2022-11-20T06:57:51.643Z"
   },
   {
    "duration": 9,
    "start_time": "2022-11-20T06:57:51.650Z"
   },
   {
    "duration": 6,
    "start_time": "2022-11-20T06:57:51.660Z"
   },
   {
    "duration": 35,
    "start_time": "2022-11-20T06:57:51.667Z"
   },
   {
    "duration": 7,
    "start_time": "2022-11-20T06:57:51.703Z"
   },
   {
    "duration": 6,
    "start_time": "2022-11-20T06:57:51.711Z"
   },
   {
    "duration": 8,
    "start_time": "2022-11-20T06:57:51.718Z"
   },
   {
    "duration": 5,
    "start_time": "2022-11-20T06:57:51.727Z"
   },
   {
    "duration": 58,
    "start_time": "2022-11-20T06:57:51.733Z"
   },
   {
    "duration": 15,
    "start_time": "2022-11-20T06:58:48.711Z"
   },
   {
    "duration": 8,
    "start_time": "2022-11-20T06:59:37.323Z"
   },
   {
    "duration": 675,
    "start_time": "2022-11-20T07:03:31.295Z"
   },
   {
    "duration": 14,
    "start_time": "2022-11-20T07:03:31.972Z"
   },
   {
    "duration": 24,
    "start_time": "2022-11-20T07:03:31.988Z"
   },
   {
    "duration": 5,
    "start_time": "2022-11-20T07:03:32.014Z"
   },
   {
    "duration": 5,
    "start_time": "2022-11-20T07:03:32.021Z"
   },
   {
    "duration": 51,
    "start_time": "2022-11-20T07:03:32.028Z"
   },
   {
    "duration": 9,
    "start_time": "2022-11-20T07:03:32.080Z"
   },
   {
    "duration": 71,
    "start_time": "2022-11-20T07:03:32.091Z"
   },
   {
    "duration": 50,
    "start_time": "2022-11-20T07:03:32.164Z"
   },
   {
    "duration": 64,
    "start_time": "2022-11-20T07:03:32.217Z"
   },
   {
    "duration": 16,
    "start_time": "2022-11-20T07:03:32.282Z"
   },
   {
    "duration": 18,
    "start_time": "2022-11-20T07:03:32.299Z"
   },
   {
    "duration": 11,
    "start_time": "2022-11-20T07:03:32.319Z"
   },
   {
    "duration": 10,
    "start_time": "2022-11-20T07:03:32.332Z"
   },
   {
    "duration": 20,
    "start_time": "2022-11-20T07:03:32.343Z"
   },
   {
    "duration": 48,
    "start_time": "2022-11-20T07:03:32.365Z"
   },
   {
    "duration": 55,
    "start_time": "2022-11-20T07:03:32.414Z"
   },
   {
    "duration": 4,
    "start_time": "2022-11-20T07:03:32.470Z"
   },
   {
    "duration": 23,
    "start_time": "2022-11-20T07:03:32.475Z"
   },
   {
    "duration": 8,
    "start_time": "2022-11-20T07:03:32.500Z"
   },
   {
    "duration": 48,
    "start_time": "2022-11-20T07:03:32.509Z"
   },
   {
    "duration": 16,
    "start_time": "2022-11-20T07:03:32.559Z"
   },
   {
    "duration": 14,
    "start_time": "2022-11-20T07:03:32.577Z"
   },
   {
    "duration": 8,
    "start_time": "2022-11-20T07:03:32.593Z"
   },
   {
    "duration": 15,
    "start_time": "2022-11-20T07:03:32.603Z"
   },
   {
    "duration": 15,
    "start_time": "2022-11-20T07:03:32.620Z"
   },
   {
    "duration": 4,
    "start_time": "2022-11-20T07:03:32.637Z"
   },
   {
    "duration": 10,
    "start_time": "2022-11-20T07:03:32.644Z"
   },
   {
    "duration": 32,
    "start_time": "2022-11-20T07:03:32.655Z"
   },
   {
    "duration": 10,
    "start_time": "2022-11-20T07:03:32.688Z"
   },
   {
    "duration": 16,
    "start_time": "2022-11-20T07:03:32.699Z"
   },
   {
    "duration": 11,
    "start_time": "2022-11-20T07:03:32.716Z"
   },
   {
    "duration": 13,
    "start_time": "2022-11-20T07:03:32.729Z"
   },
   {
    "duration": 15,
    "start_time": "2022-11-20T07:03:32.744Z"
   },
   {
    "duration": 9,
    "start_time": "2022-11-20T07:03:32.760Z"
   },
   {
    "duration": 32,
    "start_time": "2022-11-20T07:03:32.770Z"
   },
   {
    "duration": 11,
    "start_time": "2022-11-20T07:03:32.804Z"
   },
   {
    "duration": 9,
    "start_time": "2022-11-20T07:03:32.817Z"
   },
   {
    "duration": 14,
    "start_time": "2022-11-20T07:03:32.827Z"
   },
   {
    "duration": 9,
    "start_time": "2022-11-20T07:03:32.843Z"
   },
   {
    "duration": 7,
    "start_time": "2022-11-20T07:03:32.853Z"
   },
   {
    "duration": 90,
    "start_time": "2022-11-20T07:03:32.862Z"
   },
   {
    "duration": 7,
    "start_time": "2022-11-20T07:03:32.953Z"
   },
   {
    "duration": 20,
    "start_time": "2022-11-20T07:03:32.961Z"
   },
   {
    "duration": 15,
    "start_time": "2022-11-20T07:03:32.983Z"
   },
   {
    "duration": 5,
    "start_time": "2022-11-20T07:03:33.000Z"
   },
   {
    "duration": 7,
    "start_time": "2022-11-20T07:03:33.006Z"
   },
   {
    "duration": 15,
    "start_time": "2022-11-20T07:03:33.014Z"
   },
   {
    "duration": 121,
    "start_time": "2022-11-20T07:03:33.030Z"
   },
   {
    "duration": 104,
    "start_time": "2022-11-20T07:03:33.153Z"
   },
   {
    "duration": 111,
    "start_time": "2022-11-20T07:03:33.258Z"
   },
   {
    "duration": 5,
    "start_time": "2022-11-20T07:03:33.370Z"
   },
   {
    "duration": 161,
    "start_time": "2022-11-20T07:03:33.376Z"
   },
   {
    "duration": 16,
    "start_time": "2022-11-20T07:03:33.538Z"
   },
   {
    "duration": 13,
    "start_time": "2022-11-20T07:03:33.555Z"
   },
   {
    "duration": 28,
    "start_time": "2022-11-20T07:03:33.570Z"
   },
   {
    "duration": 15,
    "start_time": "2022-11-20T07:03:33.599Z"
   },
   {
    "duration": 15,
    "start_time": "2022-11-20T07:03:33.615Z"
   },
   {
    "duration": 9,
    "start_time": "2022-11-20T07:03:33.632Z"
   },
   {
    "duration": 17,
    "start_time": "2022-11-20T07:03:33.642Z"
   },
   {
    "duration": 5,
    "start_time": "2022-11-20T07:03:33.661Z"
   },
   {
    "duration": 33,
    "start_time": "2022-11-20T07:03:33.668Z"
   },
   {
    "duration": 14,
    "start_time": "2022-11-20T07:03:33.703Z"
   },
   {
    "duration": 5,
    "start_time": "2022-11-20T07:03:33.718Z"
   },
   {
    "duration": 119,
    "start_time": "2022-11-20T07:03:33.724Z"
   },
   {
    "duration": 7,
    "start_time": "2022-11-20T07:03:33.844Z"
   },
   {
    "duration": 10,
    "start_time": "2022-11-20T07:03:33.853Z"
   },
   {
    "duration": 10,
    "start_time": "2022-11-20T07:03:33.864Z"
   },
   {
    "duration": 24,
    "start_time": "2022-11-20T07:03:33.875Z"
   },
   {
    "duration": 7,
    "start_time": "2022-11-20T07:03:33.901Z"
   },
   {
    "duration": 12,
    "start_time": "2022-11-20T07:03:33.909Z"
   },
   {
    "duration": 13,
    "start_time": "2022-11-20T07:03:33.922Z"
   },
   {
    "duration": 9,
    "start_time": "2022-11-20T07:03:33.936Z"
   },
   {
    "duration": 8,
    "start_time": "2022-11-20T07:03:33.946Z"
   },
   {
    "duration": 7,
    "start_time": "2022-11-20T07:03:33.955Z"
   },
   {
    "duration": 35,
    "start_time": "2022-11-20T07:03:33.963Z"
   },
   {
    "duration": 16,
    "start_time": "2022-11-20T07:03:33.999Z"
   },
   {
    "duration": 13,
    "start_time": "2022-11-20T07:05:34.102Z"
   },
   {
    "duration": 3,
    "start_time": "2022-11-20T07:05:48.135Z"
   },
   {
    "duration": 3,
    "start_time": "2022-11-20T07:06:04.931Z"
   },
   {
    "duration": 68,
    "start_time": "2022-11-20T07:06:15.885Z"
   },
   {
    "duration": 8,
    "start_time": "2022-11-20T07:07:28.613Z"
   },
   {
    "duration": 8,
    "start_time": "2022-11-20T07:07:49.302Z"
   },
   {
    "duration": 6,
    "start_time": "2022-11-20T07:08:19.982Z"
   },
   {
    "duration": 5,
    "start_time": "2022-11-20T07:08:33.709Z"
   },
   {
    "duration": 4,
    "start_time": "2022-11-20T07:08:34.365Z"
   },
   {
    "duration": 686,
    "start_time": "2022-11-20T07:13:33.124Z"
   },
   {
    "duration": 13,
    "start_time": "2022-11-20T07:13:33.812Z"
   },
   {
    "duration": 10,
    "start_time": "2022-11-20T07:13:33.826Z"
   },
   {
    "duration": 5,
    "start_time": "2022-11-20T07:13:33.838Z"
   },
   {
    "duration": 5,
    "start_time": "2022-11-20T07:13:33.845Z"
   },
   {
    "duration": 47,
    "start_time": "2022-11-20T07:13:33.851Z"
   },
   {
    "duration": 8,
    "start_time": "2022-11-20T07:13:33.900Z"
   },
   {
    "duration": 15,
    "start_time": "2022-11-20T07:13:33.910Z"
   },
   {
    "duration": 13,
    "start_time": "2022-11-20T07:13:33.926Z"
   },
   {
    "duration": 14,
    "start_time": "2022-11-20T07:13:33.941Z"
   },
   {
    "duration": 7,
    "start_time": "2022-11-20T07:13:33.956Z"
   },
   {
    "duration": 8,
    "start_time": "2022-11-20T07:13:33.996Z"
   },
   {
    "duration": 10,
    "start_time": "2022-11-20T07:13:34.005Z"
   },
   {
    "duration": 6,
    "start_time": "2022-11-20T07:13:34.017Z"
   },
   {
    "duration": 12,
    "start_time": "2022-11-20T07:13:34.024Z"
   },
   {
    "duration": 8,
    "start_time": "2022-11-20T07:13:34.037Z"
   },
   {
    "duration": 76,
    "start_time": "2022-11-20T07:13:34.046Z"
   },
   {
    "duration": 3,
    "start_time": "2022-11-20T07:13:34.124Z"
   },
   {
    "duration": 19,
    "start_time": "2022-11-20T07:13:34.129Z"
   },
   {
    "duration": 8,
    "start_time": "2022-11-20T07:13:34.149Z"
   },
   {
    "duration": 40,
    "start_time": "2022-11-20T07:13:34.158Z"
   },
   {
    "duration": 16,
    "start_time": "2022-11-20T07:13:34.200Z"
   },
   {
    "duration": 15,
    "start_time": "2022-11-20T07:13:34.218Z"
   },
   {
    "duration": 18,
    "start_time": "2022-11-20T07:13:34.235Z"
   },
   {
    "duration": 20,
    "start_time": "2022-11-20T07:13:34.254Z"
   },
   {
    "duration": 31,
    "start_time": "2022-11-20T07:13:34.275Z"
   },
   {
    "duration": 16,
    "start_time": "2022-11-20T07:13:34.307Z"
   },
   {
    "duration": 25,
    "start_time": "2022-11-20T07:13:34.327Z"
   },
   {
    "duration": 31,
    "start_time": "2022-11-20T07:13:34.354Z"
   },
   {
    "duration": 5,
    "start_time": "2022-11-20T07:13:34.387Z"
   },
   {
    "duration": 19,
    "start_time": "2022-11-20T07:13:34.393Z"
   },
   {
    "duration": 8,
    "start_time": "2022-11-20T07:13:34.414Z"
   },
   {
    "duration": 18,
    "start_time": "2022-11-20T07:13:34.424Z"
   },
   {
    "duration": 28,
    "start_time": "2022-11-20T07:13:34.443Z"
   },
   {
    "duration": 9,
    "start_time": "2022-11-20T07:13:34.473Z"
   },
   {
    "duration": 14,
    "start_time": "2022-11-20T07:13:34.483Z"
   },
   {
    "duration": 9,
    "start_time": "2022-11-20T07:13:34.498Z"
   },
   {
    "duration": 9,
    "start_time": "2022-11-20T07:13:34.508Z"
   },
   {
    "duration": 14,
    "start_time": "2022-11-20T07:13:34.518Z"
   },
   {
    "duration": 25,
    "start_time": "2022-11-20T07:13:34.534Z"
   },
   {
    "duration": 12,
    "start_time": "2022-11-20T07:13:34.561Z"
   },
   {
    "duration": 79,
    "start_time": "2022-11-20T07:13:34.575Z"
   },
   {
    "duration": 7,
    "start_time": "2022-11-20T07:13:34.655Z"
   },
   {
    "duration": 37,
    "start_time": "2022-11-20T07:13:34.663Z"
   },
   {
    "duration": 23,
    "start_time": "2022-11-20T07:13:34.702Z"
   },
   {
    "duration": 22,
    "start_time": "2022-11-20T07:13:34.727Z"
   },
   {
    "duration": 15,
    "start_time": "2022-11-20T07:13:34.751Z"
   },
   {
    "duration": 25,
    "start_time": "2022-11-20T07:13:34.767Z"
   },
   {
    "duration": 119,
    "start_time": "2022-11-20T07:13:34.794Z"
   },
   {
    "duration": 113,
    "start_time": "2022-11-20T07:13:34.914Z"
   },
   {
    "duration": 115,
    "start_time": "2022-11-20T07:13:35.029Z"
   },
   {
    "duration": 4,
    "start_time": "2022-11-20T07:13:35.146Z"
   },
   {
    "duration": 166,
    "start_time": "2022-11-20T07:13:35.151Z"
   },
   {
    "duration": 17,
    "start_time": "2022-11-20T07:13:35.318Z"
   },
   {
    "duration": 17,
    "start_time": "2022-11-20T07:13:35.336Z"
   },
   {
    "duration": 3,
    "start_time": "2022-11-20T07:13:35.354Z"
   },
   {
    "duration": 14,
    "start_time": "2022-11-20T07:13:35.359Z"
   },
   {
    "duration": 11,
    "start_time": "2022-11-20T07:13:35.397Z"
   },
   {
    "duration": 23,
    "start_time": "2022-11-20T07:13:35.409Z"
   },
   {
    "duration": 14,
    "start_time": "2022-11-20T07:13:35.434Z"
   },
   {
    "duration": 10,
    "start_time": "2022-11-20T07:13:35.449Z"
   },
   {
    "duration": 16,
    "start_time": "2022-11-20T07:13:35.460Z"
   },
   {
    "duration": 20,
    "start_time": "2022-11-20T07:13:35.478Z"
   },
   {
    "duration": 5,
    "start_time": "2022-11-20T07:13:35.499Z"
   },
   {
    "duration": 118,
    "start_time": "2022-11-20T07:13:35.505Z"
   },
   {
    "duration": 9,
    "start_time": "2022-11-20T07:13:35.625Z"
   },
   {
    "duration": 12,
    "start_time": "2022-11-20T07:13:35.635Z"
   },
   {
    "duration": 11,
    "start_time": "2022-11-20T07:13:35.648Z"
   },
   {
    "duration": 9,
    "start_time": "2022-11-20T07:13:35.661Z"
   },
   {
    "duration": 27,
    "start_time": "2022-11-20T07:13:35.673Z"
   },
   {
    "duration": 10,
    "start_time": "2022-11-20T07:13:35.701Z"
   },
   {
    "duration": 7,
    "start_time": "2022-11-20T07:13:35.712Z"
   },
   {
    "duration": 7,
    "start_time": "2022-11-20T07:13:35.720Z"
   },
   {
    "duration": 9,
    "start_time": "2022-11-20T07:13:35.728Z"
   },
   {
    "duration": 7,
    "start_time": "2022-11-20T07:13:35.739Z"
   },
   {
    "duration": 21,
    "start_time": "2022-11-20T07:13:35.747Z"
   },
   {
    "duration": 31,
    "start_time": "2022-11-20T07:13:35.770Z"
   },
   {
    "duration": 8,
    "start_time": "2022-11-20T07:13:35.803Z"
   },
   {
    "duration": 7,
    "start_time": "2022-11-20T07:13:35.813Z"
   },
   {
    "duration": 7,
    "start_time": "2022-11-20T07:13:35.821Z"
   },
   {
    "duration": 7,
    "start_time": "2022-11-20T07:13:35.829Z"
   },
   {
    "duration": 7,
    "start_time": "2022-11-20T07:13:35.841Z"
   },
   {
    "duration": 7,
    "start_time": "2022-11-20T07:13:35.849Z"
   },
   {
    "duration": 46,
    "start_time": "2022-11-20T07:13:35.858Z"
   },
   {
    "duration": 9,
    "start_time": "2022-11-20T07:13:35.905Z"
   },
   {
    "duration": 21,
    "start_time": "2022-11-20T07:13:35.915Z"
   },
   {
    "duration": 5,
    "start_time": "2022-11-20T07:13:35.938Z"
   },
   {
    "duration": 9,
    "start_time": "2022-11-20T07:13:35.945Z"
   },
   {
    "duration": 15,
    "start_time": "2022-11-20T07:13:35.955Z"
   },
   {
    "duration": 6,
    "start_time": "2022-11-20T07:15:31.813Z"
   },
   {
    "duration": 5,
    "start_time": "2022-11-20T07:15:56.646Z"
   },
   {
    "duration": 5,
    "start_time": "2022-11-20T07:17:07.810Z"
   },
   {
    "duration": 748,
    "start_time": "2022-11-20T07:17:14.180Z"
   },
   {
    "duration": 14,
    "start_time": "2022-11-20T07:17:14.930Z"
   },
   {
    "duration": 10,
    "start_time": "2022-11-20T07:17:14.946Z"
   },
   {
    "duration": 6,
    "start_time": "2022-11-20T07:17:14.957Z"
   },
   {
    "duration": 6,
    "start_time": "2022-11-20T07:17:14.965Z"
   },
   {
    "duration": 57,
    "start_time": "2022-11-20T07:17:14.973Z"
   },
   {
    "duration": 10,
    "start_time": "2022-11-20T07:17:15.032Z"
   },
   {
    "duration": 23,
    "start_time": "2022-11-20T07:17:15.043Z"
   },
   {
    "duration": 12,
    "start_time": "2022-11-20T07:17:15.068Z"
   },
   {
    "duration": 14,
    "start_time": "2022-11-20T07:17:15.083Z"
   },
   {
    "duration": 9,
    "start_time": "2022-11-20T07:17:15.098Z"
   },
   {
    "duration": 10,
    "start_time": "2022-11-20T07:17:15.108Z"
   },
   {
    "duration": 8,
    "start_time": "2022-11-20T07:17:15.119Z"
   },
   {
    "duration": 5,
    "start_time": "2022-11-20T07:17:15.129Z"
   },
   {
    "duration": 13,
    "start_time": "2022-11-20T07:17:15.136Z"
   },
   {
    "duration": 8,
    "start_time": "2022-11-20T07:17:15.150Z"
   },
   {
    "duration": 81,
    "start_time": "2022-11-20T07:17:15.160Z"
   },
   {
    "duration": 4,
    "start_time": "2022-11-20T07:17:15.242Z"
   },
   {
    "duration": 17,
    "start_time": "2022-11-20T07:17:15.247Z"
   },
   {
    "duration": 8,
    "start_time": "2022-11-20T07:17:15.266Z"
   },
   {
    "duration": 44,
    "start_time": "2022-11-20T07:17:15.276Z"
   },
   {
    "duration": 17,
    "start_time": "2022-11-20T07:17:15.321Z"
   },
   {
    "duration": 18,
    "start_time": "2022-11-20T07:17:15.339Z"
   },
   {
    "duration": 9,
    "start_time": "2022-11-20T07:17:15.359Z"
   },
   {
    "duration": 29,
    "start_time": "2022-11-20T07:17:15.369Z"
   },
   {
    "duration": 17,
    "start_time": "2022-11-20T07:17:15.399Z"
   },
   {
    "duration": 5,
    "start_time": "2022-11-20T07:17:15.418Z"
   },
   {
    "duration": 12,
    "start_time": "2022-11-20T07:17:15.426Z"
   },
   {
    "duration": 8,
    "start_time": "2022-11-20T07:17:15.439Z"
   },
   {
    "duration": 5,
    "start_time": "2022-11-20T07:17:15.448Z"
   },
   {
    "duration": 52,
    "start_time": "2022-11-20T07:17:15.454Z"
   },
   {
    "duration": 9,
    "start_time": "2022-11-20T07:17:15.507Z"
   },
   {
    "duration": 17,
    "start_time": "2022-11-20T07:17:15.518Z"
   },
   {
    "duration": 16,
    "start_time": "2022-11-20T07:17:15.537Z"
   },
   {
    "duration": 15,
    "start_time": "2022-11-20T07:17:15.554Z"
   },
   {
    "duration": 32,
    "start_time": "2022-11-20T07:17:15.570Z"
   },
   {
    "duration": 12,
    "start_time": "2022-11-20T07:17:15.603Z"
   },
   {
    "duration": 13,
    "start_time": "2022-11-20T07:17:15.617Z"
   },
   {
    "duration": 15,
    "start_time": "2022-11-20T07:17:15.632Z"
   },
   {
    "duration": 10,
    "start_time": "2022-11-20T07:17:15.648Z"
   },
   {
    "duration": 7,
    "start_time": "2022-11-20T07:17:15.660Z"
   },
   {
    "duration": 90,
    "start_time": "2022-11-20T07:17:15.669Z"
   },
   {
    "duration": 7,
    "start_time": "2022-11-20T07:17:15.761Z"
   },
   {
    "duration": 37,
    "start_time": "2022-11-20T07:17:15.769Z"
   },
   {
    "duration": 4,
    "start_time": "2022-11-20T07:17:15.808Z"
   },
   {
    "duration": 11,
    "start_time": "2022-11-20T07:17:15.813Z"
   },
   {
    "duration": 12,
    "start_time": "2022-11-20T07:17:15.826Z"
   },
   {
    "duration": 18,
    "start_time": "2022-11-20T07:17:15.839Z"
   },
   {
    "duration": 120,
    "start_time": "2022-11-20T07:17:15.858Z"
   },
   {
    "duration": 118,
    "start_time": "2022-11-20T07:17:15.980Z"
   },
   {
    "duration": 110,
    "start_time": "2022-11-20T07:17:16.100Z"
   },
   {
    "duration": 4,
    "start_time": "2022-11-20T07:17:16.212Z"
   },
   {
    "duration": 158,
    "start_time": "2022-11-20T07:17:16.218Z"
   },
   {
    "duration": 24,
    "start_time": "2022-11-20T07:17:16.377Z"
   },
   {
    "duration": 16,
    "start_time": "2022-11-20T07:17:16.402Z"
   },
   {
    "duration": 3,
    "start_time": "2022-11-20T07:17:16.420Z"
   },
   {
    "duration": 31,
    "start_time": "2022-11-20T07:17:16.424Z"
   },
   {
    "duration": 12,
    "start_time": "2022-11-20T07:17:16.457Z"
   },
   {
    "duration": 14,
    "start_time": "2022-11-20T07:17:16.471Z"
   },
   {
    "duration": 16,
    "start_time": "2022-11-20T07:17:16.486Z"
   },
   {
    "duration": 5,
    "start_time": "2022-11-20T07:17:16.503Z"
   },
   {
    "duration": 17,
    "start_time": "2022-11-20T07:17:16.510Z"
   },
   {
    "duration": 14,
    "start_time": "2022-11-20T07:17:16.529Z"
   },
   {
    "duration": 5,
    "start_time": "2022-11-20T07:17:16.544Z"
   },
   {
    "duration": 134,
    "start_time": "2022-11-20T07:17:16.550Z"
   },
   {
    "duration": 14,
    "start_time": "2022-11-20T07:17:16.686Z"
   },
   {
    "duration": 9,
    "start_time": "2022-11-20T07:17:16.702Z"
   },
   {
    "duration": 6,
    "start_time": "2022-11-20T07:17:16.713Z"
   },
   {
    "duration": 7,
    "start_time": "2022-11-20T07:17:16.720Z"
   },
   {
    "duration": 7,
    "start_time": "2022-11-20T07:17:16.729Z"
   },
   {
    "duration": 7,
    "start_time": "2022-11-20T07:17:16.737Z"
   },
   {
    "duration": 8,
    "start_time": "2022-11-20T07:17:16.745Z"
   },
   {
    "duration": 7,
    "start_time": "2022-11-20T07:17:16.755Z"
   },
   {
    "duration": 40,
    "start_time": "2022-11-20T07:17:16.763Z"
   },
   {
    "duration": 7,
    "start_time": "2022-11-20T07:17:16.805Z"
   },
   {
    "duration": 9,
    "start_time": "2022-11-20T07:17:16.813Z"
   },
   {
    "duration": 19,
    "start_time": "2022-11-20T07:17:16.823Z"
   },
   {
    "duration": 5,
    "start_time": "2022-11-20T07:17:16.843Z"
   },
   {
    "duration": 12,
    "start_time": "2022-11-20T07:17:16.850Z"
   },
   {
    "duration": 5,
    "start_time": "2022-11-20T07:17:16.864Z"
   },
   {
    "duration": 31,
    "start_time": "2022-11-20T07:17:16.870Z"
   },
   {
    "duration": 5,
    "start_time": "2022-11-20T07:17:16.906Z"
   },
   {
    "duration": 13,
    "start_time": "2022-11-20T07:17:16.913Z"
   },
   {
    "duration": 115,
    "start_time": "2022-11-20T07:20:53.357Z"
   },
   {
    "duration": 121,
    "start_time": "2022-11-20T07:21:05.630Z"
   },
   {
    "duration": 116,
    "start_time": "2022-11-20T07:23:59.688Z"
   },
   {
    "duration": 116,
    "start_time": "2022-11-20T07:24:08.245Z"
   },
   {
    "duration": 70,
    "start_time": "2022-11-20T07:24:29.822Z"
   },
   {
    "duration": 674,
    "start_time": "2022-11-20T07:24:47.294Z"
   },
   {
    "duration": 13,
    "start_time": "2022-11-20T07:24:47.970Z"
   },
   {
    "duration": 14,
    "start_time": "2022-11-20T07:24:47.984Z"
   },
   {
    "duration": 7,
    "start_time": "2022-11-20T07:24:47.999Z"
   },
   {
    "duration": 5,
    "start_time": "2022-11-20T07:24:48.007Z"
   },
   {
    "duration": 49,
    "start_time": "2022-11-20T07:24:48.013Z"
   },
   {
    "duration": 9,
    "start_time": "2022-11-20T07:24:48.063Z"
   },
   {
    "duration": 14,
    "start_time": "2022-11-20T07:24:48.073Z"
   },
   {
    "duration": 11,
    "start_time": "2022-11-20T07:24:48.089Z"
   },
   {
    "duration": 13,
    "start_time": "2022-11-20T07:24:48.103Z"
   },
   {
    "duration": 20,
    "start_time": "2022-11-20T07:24:48.117Z"
   },
   {
    "duration": 12,
    "start_time": "2022-11-20T07:24:48.139Z"
   },
   {
    "duration": 16,
    "start_time": "2022-11-20T07:24:48.152Z"
   },
   {
    "duration": 7,
    "start_time": "2022-11-20T07:24:48.169Z"
   },
   {
    "duration": 12,
    "start_time": "2022-11-20T07:24:48.177Z"
   },
   {
    "duration": 9,
    "start_time": "2022-11-20T07:24:48.196Z"
   },
   {
    "duration": 51,
    "start_time": "2022-11-20T07:24:48.206Z"
   },
   {
    "duration": 4,
    "start_time": "2022-11-20T07:24:48.258Z"
   },
   {
    "duration": 16,
    "start_time": "2022-11-20T07:24:48.263Z"
   },
   {
    "duration": 8,
    "start_time": "2022-11-20T07:24:48.297Z"
   },
   {
    "duration": 29,
    "start_time": "2022-11-20T07:24:48.306Z"
   },
   {
    "duration": 15,
    "start_time": "2022-11-20T07:24:48.337Z"
   },
   {
    "duration": 15,
    "start_time": "2022-11-20T07:24:48.353Z"
   },
   {
    "duration": 5,
    "start_time": "2022-11-20T07:24:48.369Z"
   },
   {
    "duration": 35,
    "start_time": "2022-11-20T07:24:48.375Z"
   },
   {
    "duration": 15,
    "start_time": "2022-11-20T07:24:48.411Z"
   },
   {
    "duration": 5,
    "start_time": "2022-11-20T07:24:48.427Z"
   },
   {
    "duration": 11,
    "start_time": "2022-11-20T07:24:48.435Z"
   },
   {
    "duration": 9,
    "start_time": "2022-11-20T07:24:48.447Z"
   },
   {
    "duration": 4,
    "start_time": "2022-11-20T07:24:48.457Z"
   },
   {
    "duration": 39,
    "start_time": "2022-11-20T07:24:48.463Z"
   },
   {
    "duration": 8,
    "start_time": "2022-11-20T07:24:48.503Z"
   },
   {
    "duration": 15,
    "start_time": "2022-11-20T07:24:48.512Z"
   },
   {
    "duration": 13,
    "start_time": "2022-11-20T07:24:48.529Z"
   },
   {
    "duration": 11,
    "start_time": "2022-11-20T07:24:48.543Z"
   },
   {
    "duration": 8,
    "start_time": "2022-11-20T07:24:48.555Z"
   },
   {
    "duration": 34,
    "start_time": "2022-11-20T07:24:48.564Z"
   },
   {
    "duration": 8,
    "start_time": "2022-11-20T07:24:48.599Z"
   },
   {
    "duration": 10,
    "start_time": "2022-11-20T07:24:48.608Z"
   },
   {
    "duration": 10,
    "start_time": "2022-11-20T07:24:48.619Z"
   },
   {
    "duration": 10,
    "start_time": "2022-11-20T07:24:48.631Z"
   },
   {
    "duration": 77,
    "start_time": "2022-11-20T07:24:48.643Z"
   },
   {
    "duration": 7,
    "start_time": "2022-11-20T07:24:48.721Z"
   },
   {
    "duration": 23,
    "start_time": "2022-11-20T07:24:48.729Z"
   },
   {
    "duration": 7,
    "start_time": "2022-11-20T07:24:48.753Z"
   },
   {
    "duration": 7,
    "start_time": "2022-11-20T07:24:48.761Z"
   },
   {
    "duration": 5,
    "start_time": "2022-11-20T07:24:48.770Z"
   },
   {
    "duration": 27,
    "start_time": "2022-11-20T07:24:48.777Z"
   },
   {
    "duration": 113,
    "start_time": "2022-11-20T07:24:48.806Z"
   },
   {
    "duration": 116,
    "start_time": "2022-11-20T07:24:48.920Z"
   },
   {
    "duration": 114,
    "start_time": "2022-11-20T07:24:49.038Z"
   },
   {
    "duration": 4,
    "start_time": "2022-11-20T07:24:49.154Z"
   },
   {
    "duration": 151,
    "start_time": "2022-11-20T07:24:49.159Z"
   },
   {
    "duration": 15,
    "start_time": "2022-11-20T07:24:49.311Z"
   },
   {
    "duration": 14,
    "start_time": "2022-11-20T07:24:49.328Z"
   },
   {
    "duration": 3,
    "start_time": "2022-11-20T07:24:49.343Z"
   },
   {
    "duration": 13,
    "start_time": "2022-11-20T07:24:49.347Z"
   },
   {
    "duration": 35,
    "start_time": "2022-11-20T07:24:49.362Z"
   },
   {
    "duration": 10,
    "start_time": "2022-11-20T07:24:49.399Z"
   },
   {
    "duration": 15,
    "start_time": "2022-11-20T07:24:49.411Z"
   },
   {
    "duration": 5,
    "start_time": "2022-11-20T07:24:49.428Z"
   },
   {
    "duration": 14,
    "start_time": "2022-11-20T07:24:49.434Z"
   },
   {
    "duration": 13,
    "start_time": "2022-11-20T07:24:49.450Z"
   },
   {
    "duration": 32,
    "start_time": "2022-11-20T07:24:49.465Z"
   },
   {
    "duration": 69,
    "start_time": "2022-11-20T07:24:49.499Z"
   },
   {
    "duration": 0,
    "start_time": "2022-11-20T07:24:49.570Z"
   },
   {
    "duration": 0,
    "start_time": "2022-11-20T07:24:49.572Z"
   },
   {
    "duration": 0,
    "start_time": "2022-11-20T07:24:49.573Z"
   },
   {
    "duration": 0,
    "start_time": "2022-11-20T07:24:49.574Z"
   },
   {
    "duration": 0,
    "start_time": "2022-11-20T07:24:49.576Z"
   },
   {
    "duration": 0,
    "start_time": "2022-11-20T07:24:49.597Z"
   },
   {
    "duration": 0,
    "start_time": "2022-11-20T07:24:49.598Z"
   },
   {
    "duration": 0,
    "start_time": "2022-11-20T07:24:49.600Z"
   },
   {
    "duration": 0,
    "start_time": "2022-11-20T07:24:49.601Z"
   },
   {
    "duration": 0,
    "start_time": "2022-11-20T07:24:49.604Z"
   },
   {
    "duration": 0,
    "start_time": "2022-11-20T07:24:49.605Z"
   },
   {
    "duration": 0,
    "start_time": "2022-11-20T07:24:49.606Z"
   },
   {
    "duration": 0,
    "start_time": "2022-11-20T07:24:49.607Z"
   },
   {
    "duration": 0,
    "start_time": "2022-11-20T07:24:49.609Z"
   },
   {
    "duration": 0,
    "start_time": "2022-11-20T07:24:49.610Z"
   },
   {
    "duration": 0,
    "start_time": "2022-11-20T07:24:49.611Z"
   },
   {
    "duration": 0,
    "start_time": "2022-11-20T07:24:49.613Z"
   },
   {
    "duration": 104,
    "start_time": "2022-11-20T07:25:01.515Z"
   },
   {
    "duration": 133,
    "start_time": "2022-11-20T07:25:42.655Z"
   },
   {
    "duration": 722,
    "start_time": "2022-11-20T07:26:59.866Z"
   },
   {
    "duration": 15,
    "start_time": "2022-11-20T07:27:00.590Z"
   },
   {
    "duration": 40,
    "start_time": "2022-11-20T07:27:00.607Z"
   },
   {
    "duration": 16,
    "start_time": "2022-11-20T07:27:00.649Z"
   },
   {
    "duration": 18,
    "start_time": "2022-11-20T07:27:00.666Z"
   },
   {
    "duration": 52,
    "start_time": "2022-11-20T07:27:00.686Z"
   },
   {
    "duration": 10,
    "start_time": "2022-11-20T07:27:00.740Z"
   },
   {
    "duration": 25,
    "start_time": "2022-11-20T07:27:00.751Z"
   },
   {
    "duration": 17,
    "start_time": "2022-11-20T07:27:00.778Z"
   },
   {
    "duration": 30,
    "start_time": "2022-11-20T07:27:00.798Z"
   },
   {
    "duration": 23,
    "start_time": "2022-11-20T07:27:00.830Z"
   },
   {
    "duration": 23,
    "start_time": "2022-11-20T07:27:00.854Z"
   },
   {
    "duration": 17,
    "start_time": "2022-11-20T07:27:00.878Z"
   },
   {
    "duration": 19,
    "start_time": "2022-11-20T07:27:00.896Z"
   },
   {
    "duration": 21,
    "start_time": "2022-11-20T07:27:00.917Z"
   },
   {
    "duration": 13,
    "start_time": "2022-11-20T07:27:00.939Z"
   },
   {
    "duration": 59,
    "start_time": "2022-11-20T07:27:00.954Z"
   },
   {
    "duration": 4,
    "start_time": "2022-11-20T07:27:01.015Z"
   },
   {
    "duration": 26,
    "start_time": "2022-11-20T07:27:01.020Z"
   },
   {
    "duration": 9,
    "start_time": "2022-11-20T07:27:01.047Z"
   },
   {
    "duration": 28,
    "start_time": "2022-11-20T07:27:01.058Z"
   },
   {
    "duration": 24,
    "start_time": "2022-11-20T07:27:01.087Z"
   },
   {
    "duration": 27,
    "start_time": "2022-11-20T07:27:01.113Z"
   },
   {
    "duration": 12,
    "start_time": "2022-11-20T07:27:01.141Z"
   },
   {
    "duration": 14,
    "start_time": "2022-11-20T07:27:01.155Z"
   },
   {
    "duration": 17,
    "start_time": "2022-11-20T07:27:01.171Z"
   },
   {
    "duration": 8,
    "start_time": "2022-11-20T07:27:01.190Z"
   },
   {
    "duration": 22,
    "start_time": "2022-11-20T07:27:01.201Z"
   },
   {
    "duration": 9,
    "start_time": "2022-11-20T07:27:01.225Z"
   },
   {
    "duration": 19,
    "start_time": "2022-11-20T07:27:01.235Z"
   },
   {
    "duration": 38,
    "start_time": "2022-11-20T07:27:01.256Z"
   },
   {
    "duration": 9,
    "start_time": "2022-11-20T07:27:01.295Z"
   },
   {
    "duration": 26,
    "start_time": "2022-11-20T07:27:01.305Z"
   },
   {
    "duration": 18,
    "start_time": "2022-11-20T07:27:01.333Z"
   },
   {
    "duration": 32,
    "start_time": "2022-11-20T07:27:01.353Z"
   },
   {
    "duration": 14,
    "start_time": "2022-11-20T07:27:01.387Z"
   },
   {
    "duration": 38,
    "start_time": "2022-11-20T07:27:01.403Z"
   },
   {
    "duration": 16,
    "start_time": "2022-11-20T07:27:01.443Z"
   },
   {
    "duration": 44,
    "start_time": "2022-11-20T07:27:01.460Z"
   },
   {
    "duration": 30,
    "start_time": "2022-11-20T07:27:01.505Z"
   },
   {
    "duration": 18,
    "start_time": "2022-11-20T07:27:01.537Z"
   },
   {
    "duration": 81,
    "start_time": "2022-11-20T07:27:01.557Z"
   },
   {
    "duration": 18,
    "start_time": "2022-11-20T07:27:01.639Z"
   },
   {
    "duration": 60,
    "start_time": "2022-11-20T07:27:01.658Z"
   },
   {
    "duration": 41,
    "start_time": "2022-11-20T07:27:01.719Z"
   },
   {
    "duration": 18,
    "start_time": "2022-11-20T07:27:01.761Z"
   },
   {
    "duration": 11,
    "start_time": "2022-11-20T07:27:01.781Z"
   },
   {
    "duration": 25,
    "start_time": "2022-11-20T07:27:01.793Z"
   },
   {
    "duration": 104,
    "start_time": "2022-11-20T07:27:01.820Z"
   },
   {
    "duration": 120,
    "start_time": "2022-11-20T07:27:01.925Z"
   },
   {
    "duration": 115,
    "start_time": "2022-11-20T07:27:02.046Z"
   },
   {
    "duration": 5,
    "start_time": "2022-11-20T07:27:02.162Z"
   },
   {
    "duration": 156,
    "start_time": "2022-11-20T07:27:02.168Z"
   },
   {
    "duration": 14,
    "start_time": "2022-11-20T07:27:02.326Z"
   },
   {
    "duration": 18,
    "start_time": "2022-11-20T07:27:02.342Z"
   },
   {
    "duration": 3,
    "start_time": "2022-11-20T07:27:02.362Z"
   },
   {
    "duration": 31,
    "start_time": "2022-11-20T07:27:02.367Z"
   },
   {
    "duration": 10,
    "start_time": "2022-11-20T07:27:02.400Z"
   },
   {
    "duration": 17,
    "start_time": "2022-11-20T07:27:02.412Z"
   },
   {
    "duration": 14,
    "start_time": "2022-11-20T07:27:02.431Z"
   },
   {
    "duration": 6,
    "start_time": "2022-11-20T07:27:02.447Z"
   },
   {
    "duration": 21,
    "start_time": "2022-11-20T07:27:02.455Z"
   },
   {
    "duration": 31,
    "start_time": "2022-11-20T07:27:02.477Z"
   },
   {
    "duration": 5,
    "start_time": "2022-11-20T07:27:02.510Z"
   },
   {
    "duration": 127,
    "start_time": "2022-11-20T07:27:02.517Z"
   },
   {
    "duration": 8,
    "start_time": "2022-11-20T07:27:02.646Z"
   },
   {
    "duration": 7,
    "start_time": "2022-11-20T07:27:02.656Z"
   },
   {
    "duration": 7,
    "start_time": "2022-11-20T07:27:02.664Z"
   },
   {
    "duration": 8,
    "start_time": "2022-11-20T07:27:02.698Z"
   },
   {
    "duration": 11,
    "start_time": "2022-11-20T07:27:02.707Z"
   },
   {
    "duration": 7,
    "start_time": "2022-11-20T07:27:02.720Z"
   },
   {
    "duration": 7,
    "start_time": "2022-11-20T07:27:02.729Z"
   },
   {
    "duration": 7,
    "start_time": "2022-11-20T07:27:02.738Z"
   },
   {
    "duration": 7,
    "start_time": "2022-11-20T07:27:02.747Z"
   },
   {
    "duration": 47,
    "start_time": "2022-11-20T07:27:02.756Z"
   },
   {
    "duration": 11,
    "start_time": "2022-11-20T07:27:02.805Z"
   },
   {
    "duration": 24,
    "start_time": "2022-11-20T07:27:02.818Z"
   },
   {
    "duration": 5,
    "start_time": "2022-11-20T07:27:02.845Z"
   },
   {
    "duration": 12,
    "start_time": "2022-11-20T07:27:02.852Z"
   },
   {
    "duration": 15,
    "start_time": "2022-11-20T07:27:02.866Z"
   },
   {
    "duration": 19,
    "start_time": "2022-11-20T07:27:02.883Z"
   },
   {
    "duration": 6,
    "start_time": "2022-11-20T07:27:02.906Z"
   },
   {
    "duration": 121,
    "start_time": "2022-11-20T07:27:53.335Z"
   },
   {
    "duration": 117,
    "start_time": "2022-11-20T07:29:23.323Z"
   },
   {
    "duration": 149,
    "start_time": "2022-11-20T07:30:07.636Z"
   },
   {
    "duration": 126,
    "start_time": "2022-11-20T07:31:32.398Z"
   },
   {
    "duration": 3,
    "start_time": "2022-11-20T07:32:19.758Z"
   },
   {
    "duration": 12,
    "start_time": "2022-11-20T07:32:24.225Z"
   },
   {
    "duration": 102,
    "start_time": "2022-11-20T07:33:07.266Z"
   },
   {
    "duration": 3,
    "start_time": "2022-11-20T07:34:31.291Z"
   },
   {
    "duration": 21,
    "start_time": "2022-11-20T07:34:36.864Z"
   },
   {
    "duration": 10,
    "start_time": "2022-11-20T07:35:37.123Z"
   },
   {
    "duration": 18,
    "start_time": "2022-11-20T07:35:54.531Z"
   },
   {
    "duration": 11,
    "start_time": "2022-11-20T07:36:13.668Z"
   },
   {
    "duration": 107,
    "start_time": "2022-11-20T07:36:21.362Z"
   },
   {
    "duration": 142,
    "start_time": "2022-11-20T07:36:30.069Z"
   },
   {
    "duration": 158,
    "start_time": "2022-11-20T07:36:54.421Z"
   },
   {
    "duration": 849,
    "start_time": "2022-11-20T07:37:28.782Z"
   },
   {
    "duration": 763,
    "start_time": "2022-11-20T07:40:04.846Z"
   },
   {
    "duration": 651,
    "start_time": "2022-11-20T07:40:57.365Z"
   },
   {
    "duration": 130,
    "start_time": "2022-11-20T07:41:14.356Z"
   },
   {
    "duration": 662,
    "start_time": "2022-11-20T07:42:07.720Z"
   },
   {
    "duration": 12,
    "start_time": "2022-11-20T07:42:08.384Z"
   },
   {
    "duration": 9,
    "start_time": "2022-11-20T07:42:08.398Z"
   },
   {
    "duration": 6,
    "start_time": "2022-11-20T07:42:08.409Z"
   },
   {
    "duration": 6,
    "start_time": "2022-11-20T07:42:08.416Z"
   },
   {
    "duration": 46,
    "start_time": "2022-11-20T07:42:08.423Z"
   },
   {
    "duration": 9,
    "start_time": "2022-11-20T07:42:08.471Z"
   },
   {
    "duration": 13,
    "start_time": "2022-11-20T07:42:08.482Z"
   },
   {
    "duration": 12,
    "start_time": "2022-11-20T07:42:08.497Z"
   },
   {
    "duration": 15,
    "start_time": "2022-11-20T07:42:08.512Z"
   },
   {
    "duration": 8,
    "start_time": "2022-11-20T07:42:08.529Z"
   },
   {
    "duration": 12,
    "start_time": "2022-11-20T07:42:08.538Z"
   },
   {
    "duration": 7,
    "start_time": "2022-11-20T07:42:08.552Z"
   },
   {
    "duration": 6,
    "start_time": "2022-11-20T07:42:08.561Z"
   },
   {
    "duration": 33,
    "start_time": "2022-11-20T07:42:08.568Z"
   },
   {
    "duration": 8,
    "start_time": "2022-11-20T07:42:08.602Z"
   },
   {
    "duration": 55,
    "start_time": "2022-11-20T07:42:08.611Z"
   },
   {
    "duration": 4,
    "start_time": "2022-11-20T07:42:08.667Z"
   },
   {
    "duration": 28,
    "start_time": "2022-11-20T07:42:08.672Z"
   },
   {
    "duration": 18,
    "start_time": "2022-11-20T07:42:08.701Z"
   },
   {
    "duration": 42,
    "start_time": "2022-11-20T07:42:08.721Z"
   },
   {
    "duration": 30,
    "start_time": "2022-11-20T07:42:08.764Z"
   },
   {
    "duration": 51,
    "start_time": "2022-11-20T07:42:08.796Z"
   },
   {
    "duration": 26,
    "start_time": "2022-11-20T07:42:08.848Z"
   },
   {
    "duration": 41,
    "start_time": "2022-11-20T07:42:08.875Z"
   },
   {
    "duration": 35,
    "start_time": "2022-11-20T07:42:08.917Z"
   },
   {
    "duration": 23,
    "start_time": "2022-11-20T07:42:08.954Z"
   },
   {
    "duration": 26,
    "start_time": "2022-11-20T07:42:08.980Z"
   },
   {
    "duration": 24,
    "start_time": "2022-11-20T07:42:09.008Z"
   },
   {
    "duration": 39,
    "start_time": "2022-11-20T07:42:09.033Z"
   },
   {
    "duration": 24,
    "start_time": "2022-11-20T07:42:09.073Z"
   },
   {
    "duration": 30,
    "start_time": "2022-11-20T07:42:09.099Z"
   },
   {
    "duration": 34,
    "start_time": "2022-11-20T07:42:09.130Z"
   },
   {
    "duration": 33,
    "start_time": "2022-11-20T07:42:09.166Z"
   },
   {
    "duration": 22,
    "start_time": "2022-11-20T07:42:09.200Z"
   },
   {
    "duration": 27,
    "start_time": "2022-11-20T07:42:09.223Z"
   },
   {
    "duration": 29,
    "start_time": "2022-11-20T07:42:09.251Z"
   },
   {
    "duration": 30,
    "start_time": "2022-11-20T07:42:09.281Z"
   },
   {
    "duration": 40,
    "start_time": "2022-11-20T07:42:09.313Z"
   },
   {
    "duration": 42,
    "start_time": "2022-11-20T07:42:09.355Z"
   },
   {
    "duration": 29,
    "start_time": "2022-11-20T07:42:09.398Z"
   },
   {
    "duration": 100,
    "start_time": "2022-11-20T07:42:09.428Z"
   },
   {
    "duration": 8,
    "start_time": "2022-11-20T07:42:09.529Z"
   },
   {
    "duration": 44,
    "start_time": "2022-11-20T07:42:09.539Z"
   },
   {
    "duration": 43,
    "start_time": "2022-11-20T07:42:09.585Z"
   },
   {
    "duration": 19,
    "start_time": "2022-11-20T07:42:09.631Z"
   },
   {
    "duration": 33,
    "start_time": "2022-11-20T07:42:09.651Z"
   },
   {
    "duration": 37,
    "start_time": "2022-11-20T07:42:09.686Z"
   },
   {
    "duration": 111,
    "start_time": "2022-11-20T07:42:09.724Z"
   },
   {
    "duration": 101,
    "start_time": "2022-11-20T07:42:09.837Z"
   },
   {
    "duration": 119,
    "start_time": "2022-11-20T07:42:09.940Z"
   },
   {
    "duration": 5,
    "start_time": "2022-11-20T07:42:10.060Z"
   },
   {
    "duration": 168,
    "start_time": "2022-11-20T07:42:10.067Z"
   },
   {
    "duration": 15,
    "start_time": "2022-11-20T07:42:10.236Z"
   },
   {
    "duration": 12,
    "start_time": "2022-11-20T07:42:10.253Z"
   },
   {
    "duration": 3,
    "start_time": "2022-11-20T07:42:10.266Z"
   },
   {
    "duration": 35,
    "start_time": "2022-11-20T07:42:10.270Z"
   },
   {
    "duration": 14,
    "start_time": "2022-11-20T07:42:10.306Z"
   },
   {
    "duration": 10,
    "start_time": "2022-11-20T07:42:10.321Z"
   },
   {
    "duration": 17,
    "start_time": "2022-11-20T07:42:10.333Z"
   },
   {
    "duration": 5,
    "start_time": "2022-11-20T07:42:10.351Z"
   },
   {
    "duration": 15,
    "start_time": "2022-11-20T07:42:10.358Z"
   },
   {
    "duration": 29,
    "start_time": "2022-11-20T07:42:10.375Z"
   },
   {
    "duration": 4,
    "start_time": "2022-11-20T07:42:10.406Z"
   },
   {
    "duration": 127,
    "start_time": "2022-11-20T07:42:10.411Z"
   },
   {
    "duration": 7,
    "start_time": "2022-11-20T07:42:10.539Z"
   },
   {
    "duration": 8,
    "start_time": "2022-11-20T07:42:10.548Z"
   },
   {
    "duration": 6,
    "start_time": "2022-11-20T07:42:10.557Z"
   },
   {
    "duration": 6,
    "start_time": "2022-11-20T07:42:10.564Z"
   },
   {
    "duration": 27,
    "start_time": "2022-11-20T07:42:10.572Z"
   },
   {
    "duration": 7,
    "start_time": "2022-11-20T07:42:10.600Z"
   },
   {
    "duration": 6,
    "start_time": "2022-11-20T07:42:10.608Z"
   },
   {
    "duration": 8,
    "start_time": "2022-11-20T07:42:10.615Z"
   },
   {
    "duration": 8,
    "start_time": "2022-11-20T07:42:10.624Z"
   },
   {
    "duration": 7,
    "start_time": "2022-11-20T07:42:10.633Z"
   },
   {
    "duration": 6,
    "start_time": "2022-11-20T07:42:10.642Z"
   },
   {
    "duration": 48,
    "start_time": "2022-11-20T07:42:10.650Z"
   },
   {
    "duration": 140,
    "start_time": "2022-11-20T07:42:10.699Z"
   },
   {
    "duration": 5,
    "start_time": "2022-11-20T07:42:10.841Z"
   },
   {
    "duration": 8,
    "start_time": "2022-11-20T07:42:10.847Z"
   },
   {
    "duration": 5,
    "start_time": "2022-11-20T07:42:10.856Z"
   },
   {
    "duration": 5,
    "start_time": "2022-11-20T07:42:10.865Z"
   },
   {
    "duration": 138,
    "start_time": "2022-11-20T07:42:55.089Z"
   },
   {
    "duration": 144,
    "start_time": "2022-11-20T07:43:43.666Z"
   },
   {
    "duration": 681,
    "start_time": "2022-11-20T07:45:18.597Z"
   },
   {
    "duration": 13,
    "start_time": "2022-11-20T07:45:19.279Z"
   },
   {
    "duration": 9,
    "start_time": "2022-11-20T07:45:19.294Z"
   },
   {
    "duration": 7,
    "start_time": "2022-11-20T07:45:19.305Z"
   },
   {
    "duration": 5,
    "start_time": "2022-11-20T07:45:19.313Z"
   },
   {
    "duration": 48,
    "start_time": "2022-11-20T07:45:19.319Z"
   },
   {
    "duration": 9,
    "start_time": "2022-11-20T07:45:19.368Z"
   },
   {
    "duration": 14,
    "start_time": "2022-11-20T07:45:19.378Z"
   },
   {
    "duration": 10,
    "start_time": "2022-11-20T07:45:19.393Z"
   },
   {
    "duration": 12,
    "start_time": "2022-11-20T07:45:19.405Z"
   },
   {
    "duration": 7,
    "start_time": "2022-11-20T07:45:19.418Z"
   },
   {
    "duration": 8,
    "start_time": "2022-11-20T07:45:19.427Z"
   },
   {
    "duration": 7,
    "start_time": "2022-11-20T07:45:19.437Z"
   },
   {
    "duration": 9,
    "start_time": "2022-11-20T07:45:19.445Z"
   },
   {
    "duration": 13,
    "start_time": "2022-11-20T07:45:19.455Z"
   },
   {
    "duration": 29,
    "start_time": "2022-11-20T07:45:19.469Z"
   },
   {
    "duration": 49,
    "start_time": "2022-11-20T07:45:19.499Z"
   },
   {
    "duration": 3,
    "start_time": "2022-11-20T07:45:19.550Z"
   },
   {
    "duration": 17,
    "start_time": "2022-11-20T07:45:19.554Z"
   },
   {
    "duration": 26,
    "start_time": "2022-11-20T07:45:19.573Z"
   },
   {
    "duration": 24,
    "start_time": "2022-11-20T07:45:19.600Z"
   },
   {
    "duration": 17,
    "start_time": "2022-11-20T07:45:19.625Z"
   },
   {
    "duration": 17,
    "start_time": "2022-11-20T07:45:19.643Z"
   },
   {
    "duration": 7,
    "start_time": "2022-11-20T07:45:19.662Z"
   },
   {
    "duration": 35,
    "start_time": "2022-11-20T07:45:19.670Z"
   },
   {
    "duration": 16,
    "start_time": "2022-11-20T07:45:19.706Z"
   },
   {
    "duration": 4,
    "start_time": "2022-11-20T07:45:19.723Z"
   },
   {
    "duration": 12,
    "start_time": "2022-11-20T07:45:19.730Z"
   },
   {
    "duration": 6,
    "start_time": "2022-11-20T07:45:19.743Z"
   },
   {
    "duration": 21,
    "start_time": "2022-11-20T07:45:19.751Z"
   },
   {
    "duration": 16,
    "start_time": "2022-11-20T07:45:19.773Z"
   },
   {
    "duration": 8,
    "start_time": "2022-11-20T07:45:19.797Z"
   },
   {
    "duration": 19,
    "start_time": "2022-11-20T07:45:19.806Z"
   },
   {
    "duration": 14,
    "start_time": "2022-11-20T07:45:19.826Z"
   },
   {
    "duration": 12,
    "start_time": "2022-11-20T07:45:19.841Z"
   },
   {
    "duration": 9,
    "start_time": "2022-11-20T07:45:19.854Z"
   },
   {
    "duration": 10,
    "start_time": "2022-11-20T07:45:19.864Z"
   },
   {
    "duration": 29,
    "start_time": "2022-11-20T07:45:19.875Z"
   },
   {
    "duration": 10,
    "start_time": "2022-11-20T07:45:19.905Z"
   },
   {
    "duration": 10,
    "start_time": "2022-11-20T07:45:19.917Z"
   },
   {
    "duration": 8,
    "start_time": "2022-11-20T07:45:19.928Z"
   },
   {
    "duration": 85,
    "start_time": "2022-11-20T07:45:19.938Z"
   },
   {
    "duration": 8,
    "start_time": "2022-11-20T07:45:20.025Z"
   },
   {
    "duration": 27,
    "start_time": "2022-11-20T07:45:20.034Z"
   },
   {
    "duration": 12,
    "start_time": "2022-11-20T07:45:20.063Z"
   },
   {
    "duration": 10,
    "start_time": "2022-11-20T07:45:20.076Z"
   },
   {
    "duration": 10,
    "start_time": "2022-11-20T07:45:20.097Z"
   },
   {
    "duration": 17,
    "start_time": "2022-11-20T07:45:20.109Z"
   },
   {
    "duration": 109,
    "start_time": "2022-11-20T07:45:20.127Z"
   },
   {
    "duration": 106,
    "start_time": "2022-11-20T07:45:20.237Z"
   },
   {
    "duration": 107,
    "start_time": "2022-11-20T07:45:20.345Z"
   },
   {
    "duration": 4,
    "start_time": "2022-11-20T07:45:20.454Z"
   },
   {
    "duration": 145,
    "start_time": "2022-11-20T07:45:20.459Z"
   },
   {
    "duration": 14,
    "start_time": "2022-11-20T07:45:20.606Z"
   },
   {
    "duration": 12,
    "start_time": "2022-11-20T07:45:20.622Z"
   },
   {
    "duration": 6,
    "start_time": "2022-11-20T07:45:20.635Z"
   },
   {
    "duration": 17,
    "start_time": "2022-11-20T07:45:20.642Z"
   },
   {
    "duration": 12,
    "start_time": "2022-11-20T07:45:20.660Z"
   },
   {
    "duration": 32,
    "start_time": "2022-11-20T07:45:20.673Z"
   },
   {
    "duration": 14,
    "start_time": "2022-11-20T07:45:20.706Z"
   },
   {
    "duration": 9,
    "start_time": "2022-11-20T07:45:20.722Z"
   },
   {
    "duration": 16,
    "start_time": "2022-11-20T07:45:20.732Z"
   },
   {
    "duration": 14,
    "start_time": "2022-11-20T07:45:20.749Z"
   },
   {
    "duration": 4,
    "start_time": "2022-11-20T07:45:20.765Z"
   },
   {
    "duration": 126,
    "start_time": "2022-11-20T07:45:20.797Z"
   },
   {
    "duration": 8,
    "start_time": "2022-11-20T07:45:20.924Z"
   },
   {
    "duration": 9,
    "start_time": "2022-11-20T07:45:20.933Z"
   },
   {
    "duration": 6,
    "start_time": "2022-11-20T07:45:20.943Z"
   },
   {
    "duration": 6,
    "start_time": "2022-11-20T07:45:20.951Z"
   },
   {
    "duration": 8,
    "start_time": "2022-11-20T07:45:20.959Z"
   },
   {
    "duration": 33,
    "start_time": "2022-11-20T07:45:20.968Z"
   },
   {
    "duration": 7,
    "start_time": "2022-11-20T07:45:21.003Z"
   },
   {
    "duration": 8,
    "start_time": "2022-11-20T07:45:21.011Z"
   },
   {
    "duration": 7,
    "start_time": "2022-11-20T07:45:21.020Z"
   },
   {
    "duration": 6,
    "start_time": "2022-11-20T07:45:21.028Z"
   },
   {
    "duration": 6,
    "start_time": "2022-11-20T07:45:21.036Z"
   },
   {
    "duration": 16,
    "start_time": "2022-11-20T07:45:21.044Z"
   },
   {
    "duration": 153,
    "start_time": "2022-11-20T07:45:21.061Z"
   },
   {
    "duration": 135,
    "start_time": "2022-11-20T07:45:21.215Z"
   },
   {
    "duration": 136,
    "start_time": "2022-11-20T07:45:21.351Z"
   },
   {
    "duration": 150,
    "start_time": "2022-11-20T07:45:21.489Z"
   },
   {
    "duration": 172,
    "start_time": "2022-11-20T07:45:21.643Z"
   },
   {
    "duration": 21,
    "start_time": "2022-11-20T07:55:36.013Z"
   },
   {
    "duration": 5,
    "start_time": "2022-11-20T07:56:48.189Z"
   },
   {
    "duration": 4,
    "start_time": "2022-11-20T07:58:15.029Z"
   },
   {
    "duration": 6,
    "start_time": "2022-11-20T07:58:53.547Z"
   },
   {
    "duration": 5,
    "start_time": "2022-11-20T07:59:03.749Z"
   },
   {
    "duration": 67,
    "start_time": "2022-11-20T08:01:06.809Z"
   },
   {
    "duration": 718,
    "start_time": "2022-11-20T08:01:19.574Z"
   },
   {
    "duration": 14,
    "start_time": "2022-11-20T08:01:20.293Z"
   },
   {
    "duration": 17,
    "start_time": "2022-11-20T08:01:20.308Z"
   },
   {
    "duration": 5,
    "start_time": "2022-11-20T08:01:20.327Z"
   },
   {
    "duration": 8,
    "start_time": "2022-11-20T08:01:20.333Z"
   },
   {
    "duration": 47,
    "start_time": "2022-11-20T08:01:20.343Z"
   },
   {
    "duration": 9,
    "start_time": "2022-11-20T08:01:20.391Z"
   },
   {
    "duration": 14,
    "start_time": "2022-11-20T08:01:20.401Z"
   },
   {
    "duration": 11,
    "start_time": "2022-11-20T08:01:20.416Z"
   },
   {
    "duration": 13,
    "start_time": "2022-11-20T08:01:20.429Z"
   },
   {
    "duration": 7,
    "start_time": "2022-11-20T08:01:20.444Z"
   },
   {
    "duration": 19,
    "start_time": "2022-11-20T08:01:20.452Z"
   },
   {
    "duration": 30,
    "start_time": "2022-11-20T08:01:20.472Z"
   },
   {
    "duration": 5,
    "start_time": "2022-11-20T08:01:20.504Z"
   },
   {
    "duration": 13,
    "start_time": "2022-11-20T08:01:20.510Z"
   },
   {
    "duration": 11,
    "start_time": "2022-11-20T08:01:20.524Z"
   },
   {
    "duration": 63,
    "start_time": "2022-11-20T08:01:20.536Z"
   },
   {
    "duration": 10,
    "start_time": "2022-11-20T08:01:20.600Z"
   },
   {
    "duration": 38,
    "start_time": "2022-11-20T08:01:20.612Z"
   },
   {
    "duration": 8,
    "start_time": "2022-11-20T08:01:20.652Z"
   },
   {
    "duration": 29,
    "start_time": "2022-11-20T08:01:20.661Z"
   },
   {
    "duration": 16,
    "start_time": "2022-11-20T08:01:20.691Z"
   },
   {
    "duration": 19,
    "start_time": "2022-11-20T08:01:20.708Z"
   },
   {
    "duration": 7,
    "start_time": "2022-11-20T08:01:20.728Z"
   },
   {
    "duration": 16,
    "start_time": "2022-11-20T08:01:20.736Z"
   },
   {
    "duration": 18,
    "start_time": "2022-11-20T08:01:20.753Z"
   },
   {
    "duration": 5,
    "start_time": "2022-11-20T08:01:20.772Z"
   },
   {
    "duration": 10,
    "start_time": "2022-11-20T08:01:20.801Z"
   },
   {
    "duration": 12,
    "start_time": "2022-11-20T08:01:20.813Z"
   },
   {
    "duration": 5,
    "start_time": "2022-11-20T08:01:20.826Z"
   },
   {
    "duration": 17,
    "start_time": "2022-11-20T08:01:20.833Z"
   },
   {
    "duration": 7,
    "start_time": "2022-11-20T08:01:20.852Z"
   },
   {
    "duration": 37,
    "start_time": "2022-11-20T08:01:20.861Z"
   },
   {
    "duration": 15,
    "start_time": "2022-11-20T08:01:20.899Z"
   },
   {
    "duration": 12,
    "start_time": "2022-11-20T08:01:20.915Z"
   },
   {
    "duration": 13,
    "start_time": "2022-11-20T08:01:20.928Z"
   },
   {
    "duration": 10,
    "start_time": "2022-11-20T08:01:20.942Z"
   },
   {
    "duration": 10,
    "start_time": "2022-11-20T08:01:20.953Z"
   },
   {
    "duration": 21,
    "start_time": "2022-11-20T08:01:20.964Z"
   },
   {
    "duration": 17,
    "start_time": "2022-11-20T08:01:20.987Z"
   },
   {
    "duration": 5,
    "start_time": "2022-11-20T08:01:21.006Z"
   },
   {
    "duration": 72,
    "start_time": "2022-11-20T08:01:21.012Z"
   },
   {
    "duration": 16,
    "start_time": "2022-11-20T08:01:21.086Z"
   },
   {
    "duration": 19,
    "start_time": "2022-11-20T08:01:21.103Z"
   },
   {
    "duration": 10,
    "start_time": "2022-11-20T08:01:21.123Z"
   },
   {
    "duration": 12,
    "start_time": "2022-11-20T08:01:21.134Z"
   },
   {
    "duration": 14,
    "start_time": "2022-11-20T08:01:21.147Z"
   },
   {
    "duration": 16,
    "start_time": "2022-11-20T08:01:21.162Z"
   },
   {
    "duration": 104,
    "start_time": "2022-11-20T08:01:21.179Z"
   },
   {
    "duration": 102,
    "start_time": "2022-11-20T08:01:21.284Z"
   },
   {
    "duration": 111,
    "start_time": "2022-11-20T08:01:21.387Z"
   },
   {
    "duration": 4,
    "start_time": "2022-11-20T08:01:21.500Z"
   },
   {
    "duration": 140,
    "start_time": "2022-11-20T08:01:21.505Z"
   },
   {
    "duration": 14,
    "start_time": "2022-11-20T08:01:21.647Z"
   },
   {
    "duration": 11,
    "start_time": "2022-11-20T08:01:21.663Z"
   },
   {
    "duration": 21,
    "start_time": "2022-11-20T08:01:21.676Z"
   },
   {
    "duration": 13,
    "start_time": "2022-11-20T08:01:21.698Z"
   },
   {
    "duration": 13,
    "start_time": "2022-11-20T08:01:21.712Z"
   },
   {
    "duration": 10,
    "start_time": "2022-11-20T08:01:21.726Z"
   },
   {
    "duration": 16,
    "start_time": "2022-11-20T08:01:21.737Z"
   },
   {
    "duration": 6,
    "start_time": "2022-11-20T08:01:21.754Z"
   },
   {
    "duration": 39,
    "start_time": "2022-11-20T08:01:21.762Z"
   },
   {
    "duration": 13,
    "start_time": "2022-11-20T08:01:21.802Z"
   },
   {
    "duration": 5,
    "start_time": "2022-11-20T08:01:21.817Z"
   },
   {
    "duration": 195,
    "start_time": "2022-11-20T08:01:21.823Z"
   },
   {
    "duration": 7,
    "start_time": "2022-11-20T08:01:22.020Z"
   },
   {
    "duration": 7,
    "start_time": "2022-11-20T08:01:22.028Z"
   },
   {
    "duration": 6,
    "start_time": "2022-11-20T08:01:22.037Z"
   },
   {
    "duration": 5,
    "start_time": "2022-11-20T08:01:22.045Z"
   },
   {
    "duration": 10,
    "start_time": "2022-11-20T08:01:22.052Z"
   },
   {
    "duration": 6,
    "start_time": "2022-11-20T08:01:22.063Z"
   },
   {
    "duration": 8,
    "start_time": "2022-11-20T08:01:22.070Z"
   },
   {
    "duration": 20,
    "start_time": "2022-11-20T08:01:22.080Z"
   },
   {
    "duration": 10,
    "start_time": "2022-11-20T08:01:22.102Z"
   },
   {
    "duration": 8,
    "start_time": "2022-11-20T08:01:22.114Z"
   },
   {
    "duration": 6,
    "start_time": "2022-11-20T08:01:22.123Z"
   },
   {
    "duration": 14,
    "start_time": "2022-11-20T08:01:22.130Z"
   },
   {
    "duration": 131,
    "start_time": "2022-11-20T08:01:22.146Z"
   },
   {
    "duration": 242,
    "start_time": "2022-11-20T08:01:22.278Z"
   },
   {
    "duration": 222,
    "start_time": "2022-11-20T08:01:22.522Z"
   },
   {
    "duration": 197,
    "start_time": "2022-11-20T08:01:22.745Z"
   },
   {
    "duration": 138,
    "start_time": "2022-11-20T08:01:22.947Z"
   },
   {
    "duration": 10,
    "start_time": "2022-11-20T08:01:23.087Z"
   },
   {
    "duration": 18,
    "start_time": "2022-11-20T08:01:23.099Z"
   },
   {
    "duration": 7,
    "start_time": "2022-11-20T08:01:23.119Z"
   },
   {
    "duration": 15,
    "start_time": "2022-11-20T08:01:23.127Z"
   },
   {
    "duration": 43,
    "start_time": "2022-11-20T08:01:23.143Z"
   },
   {
    "duration": 0,
    "start_time": "2022-11-20T08:01:23.187Z"
   },
   {
    "duration": 4,
    "start_time": "2022-11-20T08:01:38.946Z"
   },
   {
    "duration": 29,
    "start_time": "2022-11-20T13:55:43.424Z"
   },
   {
    "duration": 26,
    "start_time": "2022-11-20T13:55:57.414Z"
   },
   {
    "duration": 8,
    "start_time": "2022-11-20T13:56:18.795Z"
   },
   {
    "duration": 9,
    "start_time": "2022-11-20T13:59:03.925Z"
   },
   {
    "duration": 8,
    "start_time": "2022-11-20T13:59:14.048Z"
   },
   {
    "duration": 7,
    "start_time": "2022-11-20T14:00:02.704Z"
   },
   {
    "duration": 7,
    "start_time": "2022-11-20T14:00:22.420Z"
   },
   {
    "duration": 11,
    "start_time": "2022-11-20T14:00:50.459Z"
   },
   {
    "duration": 6,
    "start_time": "2022-11-20T14:01:17.090Z"
   },
   {
    "duration": 796,
    "start_time": "2022-11-20T14:04:48.923Z"
   },
   {
    "duration": 686,
    "start_time": "2022-11-20T14:04:58.103Z"
   },
   {
    "duration": 14,
    "start_time": "2022-11-20T14:04:58.790Z"
   },
   {
    "duration": 17,
    "start_time": "2022-11-20T14:04:58.805Z"
   },
   {
    "duration": 6,
    "start_time": "2022-11-20T14:04:58.824Z"
   },
   {
    "duration": 13,
    "start_time": "2022-11-20T14:04:58.831Z"
   },
   {
    "duration": 56,
    "start_time": "2022-11-20T14:04:58.845Z"
   },
   {
    "duration": 9,
    "start_time": "2022-11-20T14:04:58.902Z"
   },
   {
    "duration": 19,
    "start_time": "2022-11-20T14:04:58.912Z"
   },
   {
    "duration": 13,
    "start_time": "2022-11-20T14:04:58.932Z"
   },
   {
    "duration": 12,
    "start_time": "2022-11-20T14:04:58.948Z"
   },
   {
    "duration": 14,
    "start_time": "2022-11-20T14:04:58.962Z"
   },
   {
    "duration": 22,
    "start_time": "2022-11-20T14:04:58.977Z"
   },
   {
    "duration": 17,
    "start_time": "2022-11-20T14:04:59.000Z"
   },
   {
    "duration": 38,
    "start_time": "2022-11-20T14:04:59.019Z"
   },
   {
    "duration": 26,
    "start_time": "2022-11-20T14:04:59.059Z"
   },
   {
    "duration": 40,
    "start_time": "2022-11-20T14:04:59.086Z"
   },
   {
    "duration": 86,
    "start_time": "2022-11-20T14:04:59.127Z"
   },
   {
    "duration": 4,
    "start_time": "2022-11-20T14:04:59.215Z"
   },
   {
    "duration": 34,
    "start_time": "2022-11-20T14:04:59.221Z"
   },
   {
    "duration": 19,
    "start_time": "2022-11-20T14:04:59.256Z"
   },
   {
    "duration": 67,
    "start_time": "2022-11-20T14:04:59.276Z"
   },
   {
    "duration": 60,
    "start_time": "2022-11-20T14:04:59.344Z"
   },
   {
    "duration": 36,
    "start_time": "2022-11-20T14:04:59.406Z"
   },
   {
    "duration": 19,
    "start_time": "2022-11-20T14:04:59.444Z"
   },
   {
    "duration": 22,
    "start_time": "2022-11-20T14:04:59.465Z"
   },
   {
    "duration": 35,
    "start_time": "2022-11-20T14:04:59.488Z"
   },
   {
    "duration": 24,
    "start_time": "2022-11-20T14:04:59.525Z"
   },
   {
    "duration": 47,
    "start_time": "2022-11-20T14:04:59.552Z"
   },
   {
    "duration": 12,
    "start_time": "2022-11-20T14:04:59.601Z"
   },
   {
    "duration": 35,
    "start_time": "2022-11-20T14:04:59.615Z"
   },
   {
    "duration": 25,
    "start_time": "2022-11-20T14:04:59.652Z"
   },
   {
    "duration": 36,
    "start_time": "2022-11-20T14:04:59.678Z"
   },
   {
    "duration": 22,
    "start_time": "2022-11-20T14:04:59.716Z"
   },
   {
    "duration": 42,
    "start_time": "2022-11-20T14:04:59.740Z"
   },
   {
    "duration": 19,
    "start_time": "2022-11-20T14:04:59.783Z"
   },
   {
    "duration": 28,
    "start_time": "2022-11-20T14:04:59.804Z"
   },
   {
    "duration": 22,
    "start_time": "2022-11-20T14:04:59.834Z"
   },
   {
    "duration": 12,
    "start_time": "2022-11-20T14:04:59.858Z"
   },
   {
    "duration": 33,
    "start_time": "2022-11-20T14:04:59.871Z"
   },
   {
    "duration": 38,
    "start_time": "2022-11-20T14:04:59.906Z"
   },
   {
    "duration": 31,
    "start_time": "2022-11-20T14:04:59.945Z"
   },
   {
    "duration": 83,
    "start_time": "2022-11-20T14:04:59.977Z"
   },
   {
    "duration": 7,
    "start_time": "2022-11-20T14:05:00.062Z"
   },
   {
    "duration": 45,
    "start_time": "2022-11-20T14:05:00.071Z"
   },
   {
    "duration": 37,
    "start_time": "2022-11-20T14:05:00.117Z"
   },
   {
    "duration": 37,
    "start_time": "2022-11-20T14:05:00.155Z"
   },
   {
    "duration": 31,
    "start_time": "2022-11-20T14:05:00.194Z"
   },
   {
    "duration": 32,
    "start_time": "2022-11-20T14:05:00.226Z"
   },
   {
    "duration": 149,
    "start_time": "2022-11-20T14:05:00.260Z"
   },
   {
    "duration": 111,
    "start_time": "2022-11-20T14:05:00.410Z"
   },
   {
    "duration": 110,
    "start_time": "2022-11-20T14:05:00.522Z"
   },
   {
    "duration": 6,
    "start_time": "2022-11-20T14:05:00.633Z"
   },
   {
    "duration": 180,
    "start_time": "2022-11-20T14:05:00.641Z"
   },
   {
    "duration": 18,
    "start_time": "2022-11-20T14:05:00.823Z"
   },
   {
    "duration": 49,
    "start_time": "2022-11-20T14:05:00.842Z"
   },
   {
    "duration": 9,
    "start_time": "2022-11-20T14:05:00.893Z"
   },
   {
    "duration": 37,
    "start_time": "2022-11-20T14:05:00.904Z"
   },
   {
    "duration": 18,
    "start_time": "2022-11-20T14:05:00.943Z"
   },
   {
    "duration": 19,
    "start_time": "2022-11-20T14:05:00.963Z"
   },
   {
    "duration": 26,
    "start_time": "2022-11-20T14:05:00.983Z"
   },
   {
    "duration": 24,
    "start_time": "2022-11-20T14:05:01.011Z"
   },
   {
    "duration": 32,
    "start_time": "2022-11-20T14:05:01.036Z"
   },
   {
    "duration": 19,
    "start_time": "2022-11-20T14:05:01.069Z"
   },
   {
    "duration": 10,
    "start_time": "2022-11-20T14:05:01.090Z"
   },
   {
    "duration": 126,
    "start_time": "2022-11-20T14:05:01.102Z"
   },
   {
    "duration": 9,
    "start_time": "2022-11-20T14:05:01.230Z"
   },
   {
    "duration": 37,
    "start_time": "2022-11-20T14:05:01.241Z"
   },
   {
    "duration": 21,
    "start_time": "2022-11-20T14:05:01.280Z"
   },
   {
    "duration": 30,
    "start_time": "2022-11-20T14:05:01.303Z"
   },
   {
    "duration": 61,
    "start_time": "2022-11-20T14:05:01.334Z"
   },
   {
    "duration": 45,
    "start_time": "2022-11-20T14:05:01.397Z"
   },
   {
    "duration": 38,
    "start_time": "2022-11-20T14:05:01.443Z"
   },
   {
    "duration": 19,
    "start_time": "2022-11-20T14:05:01.482Z"
   },
   {
    "duration": 30,
    "start_time": "2022-11-20T14:05:01.503Z"
   },
   {
    "duration": 23,
    "start_time": "2022-11-20T14:05:01.535Z"
   },
   {
    "duration": 42,
    "start_time": "2022-11-20T14:05:01.560Z"
   },
   {
    "duration": 90,
    "start_time": "2022-11-20T14:05:01.603Z"
   },
   {
    "duration": 142,
    "start_time": "2022-11-20T14:05:01.694Z"
   },
   {
    "duration": 141,
    "start_time": "2022-11-20T14:05:01.838Z"
   },
   {
    "duration": 151,
    "start_time": "2022-11-20T14:05:01.981Z"
   },
   {
    "duration": 140,
    "start_time": "2022-11-20T14:05:02.134Z"
   },
   {
    "duration": 160,
    "start_time": "2022-11-20T14:05:02.280Z"
   },
   {
    "duration": 8,
    "start_time": "2022-11-20T14:05:02.442Z"
   },
   {
    "duration": 31,
    "start_time": "2022-11-20T14:05:02.452Z"
   },
   {
    "duration": 19,
    "start_time": "2022-11-20T14:05:02.485Z"
   },
   {
    "duration": 47,
    "start_time": "2022-11-20T14:05:02.506Z"
   },
   {
    "duration": 37,
    "start_time": "2022-11-20T14:05:02.555Z"
   },
   {
    "duration": 14,
    "start_time": "2022-11-20T14:05:02.593Z"
   },
   {
    "duration": 46,
    "start_time": "2022-11-20T14:05:02.609Z"
   },
   {
    "duration": 11,
    "start_time": "2022-11-20T14:05:02.656Z"
   },
   {
    "duration": 28,
    "start_time": "2022-11-20T14:05:02.668Z"
   },
   {
    "duration": 45,
    "start_time": "2022-11-20T14:05:02.697Z"
   },
   {
    "duration": 13,
    "start_time": "2022-11-20T14:05:02.743Z"
   },
   {
    "duration": 18,
    "start_time": "2022-11-20T14:05:02.757Z"
   },
   {
    "duration": 15,
    "start_time": "2022-11-20T14:05:02.777Z"
   },
   {
    "duration": 48,
    "start_time": "2022-11-20T14:05:02.793Z"
   },
   {
    "duration": 29,
    "start_time": "2022-11-20T14:05:02.842Z"
   },
   {
    "duration": 5,
    "start_time": "2022-11-20T14:05:52.959Z"
   },
   {
    "duration": 7,
    "start_time": "2022-11-20T14:06:01.949Z"
   },
   {
    "duration": 6,
    "start_time": "2022-11-20T14:06:12.402Z"
   },
   {
    "duration": 6,
    "start_time": "2022-11-20T14:06:38.085Z"
   },
   {
    "duration": 778,
    "start_time": "2022-11-20T14:07:17.433Z"
   },
   {
    "duration": 9,
    "start_time": "2022-11-20T14:07:26.987Z"
   },
   {
    "duration": 1297,
    "start_time": "2022-11-20T14:07:41.005Z"
   },
   {
    "duration": 72,
    "start_time": "2022-11-20T14:07:56.064Z"
   },
   {
    "duration": 12,
    "start_time": "2022-11-20T14:08:00.804Z"
   },
   {
    "duration": 49,
    "start_time": "2022-11-20T14:08:29.825Z"
   },
   {
    "duration": 764,
    "start_time": "2022-11-20T14:08:33.418Z"
   },
   {
    "duration": 6,
    "start_time": "2022-11-20T14:11:06.708Z"
   },
   {
    "duration": 7,
    "start_time": "2022-11-20T14:12:22.859Z"
   },
   {
    "duration": 19,
    "start_time": "2022-11-20T14:12:40.038Z"
   },
   {
    "duration": 8,
    "start_time": "2022-11-20T14:12:49.060Z"
   },
   {
    "duration": 20,
    "start_time": "2022-11-20T14:13:07.376Z"
   },
   {
    "duration": 16,
    "start_time": "2022-11-20T14:14:13.951Z"
   },
   {
    "duration": 18,
    "start_time": "2022-11-20T14:14:29.788Z"
   },
   {
    "duration": 15,
    "start_time": "2022-11-20T14:14:49.907Z"
   },
   {
    "duration": 19,
    "start_time": "2022-11-20T14:15:45.675Z"
   },
   {
    "duration": 704,
    "start_time": "2022-11-20T14:19:44.705Z"
   },
   {
    "duration": 19,
    "start_time": "2022-11-20T14:19:45.411Z"
   },
   {
    "duration": 10,
    "start_time": "2022-11-20T14:19:45.432Z"
   },
   {
    "duration": 10,
    "start_time": "2022-11-20T14:19:45.444Z"
   },
   {
    "duration": 7,
    "start_time": "2022-11-20T14:19:45.456Z"
   },
   {
    "duration": 45,
    "start_time": "2022-11-20T14:19:45.464Z"
   },
   {
    "duration": 9,
    "start_time": "2022-11-20T14:19:45.511Z"
   },
   {
    "duration": 13,
    "start_time": "2022-11-20T14:19:45.521Z"
   },
   {
    "duration": 10,
    "start_time": "2022-11-20T14:19:45.536Z"
   },
   {
    "duration": 13,
    "start_time": "2022-11-20T14:19:45.548Z"
   },
   {
    "duration": 35,
    "start_time": "2022-11-20T14:19:45.562Z"
   },
   {
    "duration": 7,
    "start_time": "2022-11-20T14:19:45.599Z"
   },
   {
    "duration": 18,
    "start_time": "2022-11-20T14:19:45.608Z"
   },
   {
    "duration": 7,
    "start_time": "2022-11-20T14:19:45.628Z"
   },
   {
    "duration": 14,
    "start_time": "2022-11-20T14:19:45.637Z"
   },
   {
    "duration": 9,
    "start_time": "2022-11-20T14:19:45.654Z"
   },
   {
    "duration": 90,
    "start_time": "2022-11-20T14:19:45.665Z"
   },
   {
    "duration": 4,
    "start_time": "2022-11-20T14:19:45.756Z"
   },
   {
    "duration": 18,
    "start_time": "2022-11-20T14:19:45.761Z"
   },
   {
    "duration": 20,
    "start_time": "2022-11-20T14:19:45.781Z"
   },
   {
    "duration": 27,
    "start_time": "2022-11-20T14:19:45.803Z"
   },
   {
    "duration": 17,
    "start_time": "2022-11-20T14:19:45.831Z"
   },
   {
    "duration": 16,
    "start_time": "2022-11-20T14:19:45.850Z"
   },
   {
    "duration": 5,
    "start_time": "2022-11-20T14:19:45.867Z"
   },
   {
    "duration": 33,
    "start_time": "2022-11-20T14:19:45.874Z"
   },
   {
    "duration": 17,
    "start_time": "2022-11-20T14:19:45.908Z"
   },
   {
    "duration": 5,
    "start_time": "2022-11-20T14:19:45.926Z"
   },
   {
    "duration": 17,
    "start_time": "2022-11-20T14:19:45.936Z"
   },
   {
    "duration": 12,
    "start_time": "2022-11-20T14:19:45.955Z"
   },
   {
    "duration": 4,
    "start_time": "2022-11-20T14:19:45.968Z"
   },
   {
    "duration": 17,
    "start_time": "2022-11-20T14:19:45.997Z"
   },
   {
    "duration": 8,
    "start_time": "2022-11-20T14:19:46.015Z"
   },
   {
    "duration": 22,
    "start_time": "2022-11-20T14:19:46.025Z"
   },
   {
    "duration": 13,
    "start_time": "2022-11-20T14:19:46.049Z"
   },
   {
    "duration": 16,
    "start_time": "2022-11-20T14:19:46.064Z"
   },
   {
    "duration": 20,
    "start_time": "2022-11-20T14:19:46.081Z"
   },
   {
    "duration": 10,
    "start_time": "2022-11-20T14:19:46.102Z"
   },
   {
    "duration": 8,
    "start_time": "2022-11-20T14:19:46.113Z"
   },
   {
    "duration": 12,
    "start_time": "2022-11-20T14:19:46.122Z"
   },
   {
    "duration": 9,
    "start_time": "2022-11-20T14:19:46.136Z"
   },
   {
    "duration": 5,
    "start_time": "2022-11-20T14:19:46.146Z"
   },
   {
    "duration": 89,
    "start_time": "2022-11-20T14:19:46.152Z"
   },
   {
    "duration": 6,
    "start_time": "2022-11-20T14:19:46.243Z"
   },
   {
    "duration": 18,
    "start_time": "2022-11-20T14:19:46.251Z"
   },
   {
    "duration": 11,
    "start_time": "2022-11-20T14:19:46.271Z"
   },
   {
    "duration": 14,
    "start_time": "2022-11-20T14:19:46.283Z"
   },
   {
    "duration": 6,
    "start_time": "2022-11-20T14:19:46.299Z"
   },
   {
    "duration": 16,
    "start_time": "2022-11-20T14:19:46.307Z"
   },
   {
    "duration": 132,
    "start_time": "2022-11-20T14:19:46.324Z"
   },
   {
    "duration": 108,
    "start_time": "2022-11-20T14:19:46.458Z"
   },
   {
    "duration": 102,
    "start_time": "2022-11-20T14:19:46.567Z"
   },
   {
    "duration": 4,
    "start_time": "2022-11-20T14:19:46.671Z"
   },
   {
    "duration": 147,
    "start_time": "2022-11-20T14:19:46.676Z"
   },
   {
    "duration": 15,
    "start_time": "2022-11-20T14:19:46.824Z"
   },
   {
    "duration": 14,
    "start_time": "2022-11-20T14:19:46.841Z"
   },
   {
    "duration": 3,
    "start_time": "2022-11-20T14:19:46.856Z"
   },
   {
    "duration": 14,
    "start_time": "2022-11-20T14:19:46.860Z"
   },
   {
    "duration": 9,
    "start_time": "2022-11-20T14:19:46.897Z"
   },
   {
    "duration": 9,
    "start_time": "2022-11-20T14:19:46.908Z"
   },
   {
    "duration": 20,
    "start_time": "2022-11-20T14:19:46.918Z"
   },
   {
    "duration": 5,
    "start_time": "2022-11-20T14:19:46.939Z"
   },
   {
    "duration": 16,
    "start_time": "2022-11-20T14:19:46.945Z"
   },
   {
    "duration": 14,
    "start_time": "2022-11-20T14:19:46.962Z"
   },
   {
    "duration": 5,
    "start_time": "2022-11-20T14:19:46.997Z"
   },
   {
    "duration": 127,
    "start_time": "2022-11-20T14:19:47.003Z"
   },
   {
    "duration": 7,
    "start_time": "2022-11-20T14:19:47.131Z"
   },
   {
    "duration": 10,
    "start_time": "2022-11-20T14:19:47.139Z"
   },
   {
    "duration": 9,
    "start_time": "2022-11-20T14:19:47.151Z"
   },
   {
    "duration": 8,
    "start_time": "2022-11-20T14:19:47.162Z"
   },
   {
    "duration": 26,
    "start_time": "2022-11-20T14:19:47.171Z"
   },
   {
    "duration": 6,
    "start_time": "2022-11-20T14:19:47.199Z"
   },
   {
    "duration": 6,
    "start_time": "2022-11-20T14:19:47.207Z"
   },
   {
    "duration": 7,
    "start_time": "2022-11-20T14:19:47.214Z"
   },
   {
    "duration": 6,
    "start_time": "2022-11-20T14:19:47.223Z"
   },
   {
    "duration": 8,
    "start_time": "2022-11-20T14:19:47.230Z"
   },
   {
    "duration": 8,
    "start_time": "2022-11-20T14:19:47.239Z"
   },
   {
    "duration": 14,
    "start_time": "2022-11-20T14:19:47.248Z"
   },
   {
    "duration": 166,
    "start_time": "2022-11-20T14:19:47.264Z"
   },
   {
    "duration": 138,
    "start_time": "2022-11-20T14:19:47.431Z"
   },
   {
    "duration": 141,
    "start_time": "2022-11-20T14:19:47.570Z"
   },
   {
    "duration": 137,
    "start_time": "2022-11-20T14:19:47.712Z"
   },
   {
    "duration": 136,
    "start_time": "2022-11-20T14:19:47.854Z"
   },
   {
    "duration": 7,
    "start_time": "2022-11-20T14:19:47.997Z"
   },
   {
    "duration": 4,
    "start_time": "2022-11-20T14:19:48.005Z"
   },
   {
    "duration": 8,
    "start_time": "2022-11-20T14:19:48.011Z"
   },
   {
    "duration": 11,
    "start_time": "2022-11-20T14:19:48.020Z"
   },
   {
    "duration": 9,
    "start_time": "2022-11-20T14:19:48.033Z"
   },
   {
    "duration": 20,
    "start_time": "2022-11-20T14:19:48.043Z"
   },
   {
    "duration": 34,
    "start_time": "2022-11-20T14:19:48.064Z"
   },
   {
    "duration": 14,
    "start_time": "2022-11-20T14:19:48.099Z"
   },
   {
    "duration": 17,
    "start_time": "2022-11-20T14:19:48.114Z"
   },
   {
    "duration": 14,
    "start_time": "2022-11-20T14:19:48.132Z"
   },
   {
    "duration": 15,
    "start_time": "2022-11-20T14:19:48.147Z"
   },
   {
    "duration": 43,
    "start_time": "2022-11-20T14:19:48.163Z"
   },
   {
    "duration": 5,
    "start_time": "2022-11-20T14:19:48.207Z"
   },
   {
    "duration": 8,
    "start_time": "2022-11-20T14:19:48.213Z"
   },
   {
    "duration": 9,
    "start_time": "2022-11-20T14:19:48.222Z"
   },
   {
    "duration": 21,
    "start_time": "2022-11-20T14:19:48.233Z"
   },
   {
    "duration": 8,
    "start_time": "2022-11-20T14:24:56.708Z"
   },
   {
    "duration": 4,
    "start_time": "2022-11-20T14:24:58.153Z"
   },
   {
    "duration": 8,
    "start_time": "2022-11-20T14:25:00.339Z"
   },
   {
    "duration": 74,
    "start_time": "2022-11-20T14:30:22.047Z"
   },
   {
    "duration": 725,
    "start_time": "2022-11-20T14:30:36.521Z"
   },
   {
    "duration": 15,
    "start_time": "2022-11-20T14:30:37.248Z"
   },
   {
    "duration": 17,
    "start_time": "2022-11-20T14:30:37.264Z"
   },
   {
    "duration": 10,
    "start_time": "2022-11-20T14:30:37.297Z"
   },
   {
    "duration": 35,
    "start_time": "2022-11-20T14:30:37.309Z"
   },
   {
    "duration": 57,
    "start_time": "2022-11-20T14:30:37.346Z"
   },
   {
    "duration": 13,
    "start_time": "2022-11-20T14:30:37.405Z"
   },
   {
    "duration": 22,
    "start_time": "2022-11-20T14:30:37.420Z"
   },
   {
    "duration": 29,
    "start_time": "2022-11-20T14:30:37.443Z"
   },
   {
    "duration": 64,
    "start_time": "2022-11-20T14:30:37.475Z"
   },
   {
    "duration": 12,
    "start_time": "2022-11-20T14:30:37.541Z"
   },
   {
    "duration": 36,
    "start_time": "2022-11-20T14:30:37.555Z"
   },
   {
    "duration": 32,
    "start_time": "2022-11-20T14:30:37.593Z"
   },
   {
    "duration": 27,
    "start_time": "2022-11-20T14:30:37.627Z"
   },
   {
    "duration": 23,
    "start_time": "2022-11-20T14:30:37.656Z"
   },
   {
    "duration": 24,
    "start_time": "2022-11-20T14:30:37.681Z"
   },
   {
    "duration": 67,
    "start_time": "2022-11-20T14:30:37.707Z"
   },
   {
    "duration": 4,
    "start_time": "2022-11-20T14:30:37.776Z"
   },
   {
    "duration": 46,
    "start_time": "2022-11-20T14:30:37.781Z"
   },
   {
    "duration": 41,
    "start_time": "2022-11-20T14:30:37.829Z"
   },
   {
    "duration": 36,
    "start_time": "2022-11-20T14:30:37.872Z"
   },
   {
    "duration": 20,
    "start_time": "2022-11-20T14:30:37.910Z"
   },
   {
    "duration": 30,
    "start_time": "2022-11-20T14:30:37.931Z"
   },
   {
    "duration": 48,
    "start_time": "2022-11-20T14:30:37.964Z"
   },
   {
    "duration": 35,
    "start_time": "2022-11-20T14:30:38.013Z"
   },
   {
    "duration": 37,
    "start_time": "2022-11-20T14:30:38.050Z"
   },
   {
    "duration": 8,
    "start_time": "2022-11-20T14:30:38.088Z"
   },
   {
    "duration": 31,
    "start_time": "2022-11-20T14:30:38.101Z"
   },
   {
    "duration": 37,
    "start_time": "2022-11-20T14:30:38.134Z"
   },
   {
    "duration": 20,
    "start_time": "2022-11-20T14:30:38.173Z"
   },
   {
    "duration": 45,
    "start_time": "2022-11-20T14:30:38.194Z"
   },
   {
    "duration": 11,
    "start_time": "2022-11-20T14:30:38.241Z"
   },
   {
    "duration": 39,
    "start_time": "2022-11-20T14:30:38.253Z"
   },
   {
    "duration": 47,
    "start_time": "2022-11-20T14:30:38.294Z"
   },
   {
    "duration": 30,
    "start_time": "2022-11-20T14:30:38.343Z"
   },
   {
    "duration": 47,
    "start_time": "2022-11-20T14:30:38.375Z"
   },
   {
    "duration": 29,
    "start_time": "2022-11-20T14:30:38.424Z"
   },
   {
    "duration": 40,
    "start_time": "2022-11-20T14:30:38.454Z"
   },
   {
    "duration": 27,
    "start_time": "2022-11-20T14:30:38.496Z"
   },
   {
    "duration": 18,
    "start_time": "2022-11-20T14:30:38.524Z"
   },
   {
    "duration": 21,
    "start_time": "2022-11-20T14:30:38.543Z"
   },
   {
    "duration": 76,
    "start_time": "2022-11-20T14:30:38.565Z"
   },
   {
    "duration": 6,
    "start_time": "2022-11-20T14:30:38.643Z"
   },
   {
    "duration": 39,
    "start_time": "2022-11-20T14:30:38.651Z"
   },
   {
    "duration": 41,
    "start_time": "2022-11-20T14:30:38.692Z"
   },
   {
    "duration": 55,
    "start_time": "2022-11-20T14:30:38.736Z"
   },
   {
    "duration": 43,
    "start_time": "2022-11-20T14:30:38.793Z"
   },
   {
    "duration": 37,
    "start_time": "2022-11-20T14:30:38.838Z"
   },
   {
    "duration": 120,
    "start_time": "2022-11-20T14:30:38.877Z"
   },
   {
    "duration": 125,
    "start_time": "2022-11-20T14:30:38.999Z"
   },
   {
    "duration": 128,
    "start_time": "2022-11-20T14:30:39.126Z"
   },
   {
    "duration": 5,
    "start_time": "2022-11-20T14:30:39.255Z"
   },
   {
    "duration": 229,
    "start_time": "2022-11-20T14:30:39.262Z"
   },
   {
    "duration": 25,
    "start_time": "2022-11-20T14:30:39.492Z"
   },
   {
    "duration": 45,
    "start_time": "2022-11-20T14:30:39.519Z"
   },
   {
    "duration": 4,
    "start_time": "2022-11-20T14:30:39.566Z"
   },
   {
    "duration": 32,
    "start_time": "2022-11-20T14:30:39.572Z"
   },
   {
    "duration": 62,
    "start_time": "2022-11-20T14:30:39.605Z"
   },
   {
    "duration": 41,
    "start_time": "2022-11-20T14:30:39.669Z"
   },
   {
    "duration": 26,
    "start_time": "2022-11-20T14:30:39.711Z"
   },
   {
    "duration": 32,
    "start_time": "2022-11-20T14:30:39.739Z"
   },
   {
    "duration": 27,
    "start_time": "2022-11-20T14:30:39.773Z"
   },
   {
    "duration": 13,
    "start_time": "2022-11-20T14:30:39.802Z"
   },
   {
    "duration": 26,
    "start_time": "2022-11-20T14:30:39.817Z"
   },
   {
    "duration": 150,
    "start_time": "2022-11-20T14:30:39.845Z"
   },
   {
    "duration": 11,
    "start_time": "2022-11-20T14:30:39.998Z"
   },
   {
    "duration": 40,
    "start_time": "2022-11-20T14:30:40.011Z"
   },
   {
    "duration": 45,
    "start_time": "2022-11-20T14:30:40.053Z"
   },
   {
    "duration": 26,
    "start_time": "2022-11-20T14:30:40.100Z"
   },
   {
    "duration": 36,
    "start_time": "2022-11-20T14:30:40.128Z"
   },
   {
    "duration": 29,
    "start_time": "2022-11-20T14:30:40.166Z"
   },
   {
    "duration": 27,
    "start_time": "2022-11-20T14:30:40.198Z"
   },
   {
    "duration": 29,
    "start_time": "2022-11-20T14:30:40.227Z"
   },
   {
    "duration": 32,
    "start_time": "2022-11-20T14:30:40.257Z"
   },
   {
    "duration": 42,
    "start_time": "2022-11-20T14:30:40.291Z"
   },
   {
    "duration": 40,
    "start_time": "2022-11-20T14:30:40.334Z"
   },
   {
    "duration": 32,
    "start_time": "2022-11-20T14:30:40.376Z"
   },
   {
    "duration": 172,
    "start_time": "2022-11-20T14:30:40.409Z"
   },
   {
    "duration": 158,
    "start_time": "2022-11-20T14:30:40.582Z"
   },
   {
    "duration": 160,
    "start_time": "2022-11-20T14:30:40.742Z"
   },
   {
    "duration": 184,
    "start_time": "2022-11-20T14:30:40.904Z"
   },
   {
    "duration": 148,
    "start_time": "2022-11-20T14:30:41.097Z"
   },
   {
    "duration": 8,
    "start_time": "2022-11-20T14:30:41.247Z"
   },
   {
    "duration": 9,
    "start_time": "2022-11-20T14:30:41.256Z"
   },
   {
    "duration": 34,
    "start_time": "2022-11-20T14:30:41.267Z"
   },
   {
    "duration": 23,
    "start_time": "2022-11-20T14:30:41.302Z"
   },
   {
    "duration": 19,
    "start_time": "2022-11-20T14:30:41.327Z"
   },
   {
    "duration": 49,
    "start_time": "2022-11-20T14:30:41.348Z"
   },
   {
    "duration": 28,
    "start_time": "2022-11-20T14:30:41.400Z"
   },
   {
    "duration": 27,
    "start_time": "2022-11-20T14:30:41.430Z"
   },
   {
    "duration": 23,
    "start_time": "2022-11-20T14:30:41.459Z"
   },
   {
    "duration": 53,
    "start_time": "2022-11-20T14:30:41.483Z"
   },
   {
    "duration": 50,
    "start_time": "2022-11-20T14:30:41.537Z"
   },
   {
    "duration": 34,
    "start_time": "2022-11-20T14:30:41.588Z"
   },
   {
    "duration": 39,
    "start_time": "2022-11-20T14:30:41.624Z"
   },
   {
    "duration": 27,
    "start_time": "2022-11-20T14:30:41.665Z"
   },
   {
    "duration": 32,
    "start_time": "2022-11-20T14:30:41.693Z"
   },
   {
    "duration": 50,
    "start_time": "2022-11-20T14:30:41.727Z"
   },
   {
    "duration": 22,
    "start_time": "2022-11-20T14:31:03.525Z"
   },
   {
    "duration": 760,
    "start_time": "2022-11-20T14:36:06.420Z"
   },
   {
    "duration": 14,
    "start_time": "2022-11-20T14:36:07.182Z"
   },
   {
    "duration": 18,
    "start_time": "2022-11-20T14:36:07.198Z"
   },
   {
    "duration": 14,
    "start_time": "2022-11-20T14:36:07.218Z"
   },
   {
    "duration": 25,
    "start_time": "2022-11-20T14:36:07.233Z"
   },
   {
    "duration": 57,
    "start_time": "2022-11-20T14:36:07.260Z"
   },
   {
    "duration": 9,
    "start_time": "2022-11-20T14:36:07.319Z"
   },
   {
    "duration": 22,
    "start_time": "2022-11-20T14:36:07.329Z"
   },
   {
    "duration": 12,
    "start_time": "2022-11-20T14:36:07.353Z"
   },
   {
    "duration": 28,
    "start_time": "2022-11-20T14:36:07.369Z"
   },
   {
    "duration": 21,
    "start_time": "2022-11-20T14:36:07.399Z"
   },
   {
    "duration": 35,
    "start_time": "2022-11-20T14:36:07.421Z"
   },
   {
    "duration": 17,
    "start_time": "2022-11-20T14:36:07.457Z"
   },
   {
    "duration": 12,
    "start_time": "2022-11-20T14:36:07.476Z"
   },
   {
    "duration": 20,
    "start_time": "2022-11-20T14:36:07.489Z"
   },
   {
    "duration": 28,
    "start_time": "2022-11-20T14:36:07.510Z"
   },
   {
    "duration": 63,
    "start_time": "2022-11-20T14:36:07.540Z"
   },
   {
    "duration": 4,
    "start_time": "2022-11-20T14:36:07.605Z"
   },
   {
    "duration": 32,
    "start_time": "2022-11-20T14:36:07.610Z"
   },
   {
    "duration": 11,
    "start_time": "2022-11-20T14:36:07.644Z"
   },
   {
    "duration": 46,
    "start_time": "2022-11-20T14:36:07.657Z"
   },
   {
    "duration": 56,
    "start_time": "2022-11-20T14:36:07.705Z"
   },
   {
    "duration": 58,
    "start_time": "2022-11-20T14:36:07.763Z"
   },
   {
    "duration": 18,
    "start_time": "2022-11-20T14:36:07.823Z"
   },
   {
    "duration": 50,
    "start_time": "2022-11-20T14:36:07.843Z"
   },
   {
    "duration": 50,
    "start_time": "2022-11-20T14:36:07.894Z"
   },
   {
    "duration": 25,
    "start_time": "2022-11-20T14:36:07.947Z"
   },
   {
    "duration": 55,
    "start_time": "2022-11-20T14:36:07.978Z"
   },
   {
    "duration": 43,
    "start_time": "2022-11-20T14:36:08.035Z"
   },
   {
    "duration": 15,
    "start_time": "2022-11-20T14:36:08.080Z"
   },
   {
    "duration": 49,
    "start_time": "2022-11-20T14:36:08.096Z"
   },
   {
    "duration": 32,
    "start_time": "2022-11-20T14:36:08.147Z"
   },
   {
    "duration": 54,
    "start_time": "2022-11-20T14:36:08.181Z"
   },
   {
    "duration": 55,
    "start_time": "2022-11-20T14:36:08.237Z"
   },
   {
    "duration": 27,
    "start_time": "2022-11-20T14:36:08.293Z"
   },
   {
    "duration": 40,
    "start_time": "2022-11-20T14:36:08.322Z"
   },
   {
    "duration": 35,
    "start_time": "2022-11-20T14:36:08.363Z"
   },
   {
    "duration": 33,
    "start_time": "2022-11-20T14:36:08.399Z"
   },
   {
    "duration": 27,
    "start_time": "2022-11-20T14:36:08.434Z"
   },
   {
    "duration": 32,
    "start_time": "2022-11-20T14:36:08.463Z"
   },
   {
    "duration": 27,
    "start_time": "2022-11-20T14:36:08.497Z"
   },
   {
    "duration": 87,
    "start_time": "2022-11-20T14:36:08.526Z"
   },
   {
    "duration": 8,
    "start_time": "2022-11-20T14:36:08.614Z"
   },
   {
    "duration": 34,
    "start_time": "2022-11-20T14:36:08.623Z"
   },
   {
    "duration": 40,
    "start_time": "2022-11-20T14:36:08.658Z"
   },
   {
    "duration": 37,
    "start_time": "2022-11-20T14:36:08.700Z"
   },
   {
    "duration": 55,
    "start_time": "2022-11-20T14:36:08.739Z"
   },
   {
    "duration": 33,
    "start_time": "2022-11-20T14:36:08.795Z"
   },
   {
    "duration": 116,
    "start_time": "2022-11-20T14:36:08.830Z"
   },
   {
    "duration": 125,
    "start_time": "2022-11-20T14:36:08.948Z"
   },
   {
    "duration": 126,
    "start_time": "2022-11-20T14:36:09.074Z"
   },
   {
    "duration": 5,
    "start_time": "2022-11-20T14:36:09.202Z"
   },
   {
    "duration": 194,
    "start_time": "2022-11-20T14:36:09.208Z"
   },
   {
    "duration": 26,
    "start_time": "2022-11-20T14:36:09.404Z"
   },
   {
    "duration": 17,
    "start_time": "2022-11-20T14:36:09.432Z"
   },
   {
    "duration": 27,
    "start_time": "2022-11-20T14:36:09.451Z"
   },
   {
    "duration": 43,
    "start_time": "2022-11-20T14:36:09.480Z"
   },
   {
    "duration": 29,
    "start_time": "2022-11-20T14:36:09.525Z"
   },
   {
    "duration": 54,
    "start_time": "2022-11-20T14:36:09.557Z"
   },
   {
    "duration": 61,
    "start_time": "2022-11-20T14:36:09.613Z"
   },
   {
    "duration": 30,
    "start_time": "2022-11-20T14:36:09.676Z"
   },
   {
    "duration": 66,
    "start_time": "2022-11-20T14:36:09.707Z"
   },
   {
    "duration": 53,
    "start_time": "2022-11-20T14:36:09.775Z"
   },
   {
    "duration": 6,
    "start_time": "2022-11-20T14:36:09.830Z"
   },
   {
    "duration": 156,
    "start_time": "2022-11-20T14:36:09.838Z"
   },
   {
    "duration": 10,
    "start_time": "2022-11-20T14:36:09.996Z"
   },
   {
    "duration": 60,
    "start_time": "2022-11-20T14:36:10.009Z"
   },
   {
    "duration": 22,
    "start_time": "2022-11-20T14:36:10.071Z"
   },
   {
    "duration": 34,
    "start_time": "2022-11-20T14:36:10.095Z"
   },
   {
    "duration": 37,
    "start_time": "2022-11-20T14:36:10.132Z"
   },
   {
    "duration": 18,
    "start_time": "2022-11-20T14:36:10.171Z"
   },
   {
    "duration": 35,
    "start_time": "2022-11-20T14:36:10.191Z"
   },
   {
    "duration": 22,
    "start_time": "2022-11-20T14:36:10.228Z"
   },
   {
    "duration": 23,
    "start_time": "2022-11-20T14:36:10.252Z"
   },
   {
    "duration": 36,
    "start_time": "2022-11-20T14:36:10.278Z"
   },
   {
    "duration": 36,
    "start_time": "2022-11-20T14:36:10.316Z"
   },
   {
    "duration": 38,
    "start_time": "2022-11-20T14:36:10.354Z"
   },
   {
    "duration": 186,
    "start_time": "2022-11-20T14:36:10.393Z"
   },
   {
    "duration": 165,
    "start_time": "2022-11-20T14:36:10.581Z"
   },
   {
    "duration": 216,
    "start_time": "2022-11-20T14:36:10.748Z"
   },
   {
    "duration": 168,
    "start_time": "2022-11-20T14:36:10.966Z"
   },
   {
    "duration": 175,
    "start_time": "2022-11-20T14:36:11.141Z"
   },
   {
    "duration": 9,
    "start_time": "2022-11-20T14:36:11.317Z"
   },
   {
    "duration": 33,
    "start_time": "2022-11-20T14:36:11.327Z"
   },
   {
    "duration": 37,
    "start_time": "2022-11-20T14:36:11.362Z"
   },
   {
    "duration": 28,
    "start_time": "2022-11-20T14:36:11.401Z"
   },
   {
    "duration": 21,
    "start_time": "2022-11-20T14:36:11.430Z"
   },
   {
    "duration": 36,
    "start_time": "2022-11-20T14:36:11.453Z"
   },
   {
    "duration": 49,
    "start_time": "2022-11-20T14:36:11.491Z"
   },
   {
    "duration": 38,
    "start_time": "2022-11-20T14:36:11.542Z"
   },
   {
    "duration": 53,
    "start_time": "2022-11-20T14:36:11.582Z"
   },
   {
    "duration": 87,
    "start_time": "2022-11-20T14:36:11.638Z"
   },
   {
    "duration": 35,
    "start_time": "2022-11-20T14:36:11.726Z"
   },
   {
    "duration": 46,
    "start_time": "2022-11-20T14:36:11.763Z"
   },
   {
    "duration": 30,
    "start_time": "2022-11-20T14:36:11.810Z"
   },
   {
    "duration": 52,
    "start_time": "2022-11-20T14:36:11.842Z"
   },
   {
    "duration": 38,
    "start_time": "2022-11-20T14:36:11.896Z"
   },
   {
    "duration": 56,
    "start_time": "2022-11-20T14:36:11.936Z"
   },
   {
    "duration": 6,
    "start_time": "2022-11-20T14:37:51.497Z"
   },
   {
    "duration": 734,
    "start_time": "2022-11-20T14:38:06.802Z"
   },
   {
    "duration": 718,
    "start_time": "2022-11-20T14:38:17.683Z"
   },
   {
    "duration": 25,
    "start_time": "2022-11-20T14:38:26.167Z"
   },
   {
    "duration": 27,
    "start_time": "2022-11-20T14:39:03.198Z"
   },
   {
    "duration": 751,
    "start_time": "2022-11-20T14:39:32.632Z"
   },
   {
    "duration": 795,
    "start_time": "2022-11-20T14:39:40.919Z"
   },
   {
    "duration": 663,
    "start_time": "2022-11-20T14:39:57.444Z"
   },
   {
    "duration": 13,
    "start_time": "2022-11-20T14:39:58.109Z"
   },
   {
    "duration": 11,
    "start_time": "2022-11-20T14:39:58.124Z"
   },
   {
    "duration": 7,
    "start_time": "2022-11-20T14:39:58.136Z"
   },
   {
    "duration": 14,
    "start_time": "2022-11-20T14:39:58.144Z"
   },
   {
    "duration": 47,
    "start_time": "2022-11-20T14:39:58.159Z"
   },
   {
    "duration": 9,
    "start_time": "2022-11-20T14:39:58.208Z"
   },
   {
    "duration": 17,
    "start_time": "2022-11-20T14:39:58.218Z"
   },
   {
    "duration": 12,
    "start_time": "2022-11-20T14:39:58.236Z"
   },
   {
    "duration": 12,
    "start_time": "2022-11-20T14:39:58.250Z"
   },
   {
    "duration": 8,
    "start_time": "2022-11-20T14:39:58.263Z"
   },
   {
    "duration": 29,
    "start_time": "2022-11-20T14:39:58.272Z"
   },
   {
    "duration": 10,
    "start_time": "2022-11-20T14:39:58.303Z"
   },
   {
    "duration": 8,
    "start_time": "2022-11-20T14:39:58.314Z"
   },
   {
    "duration": 12,
    "start_time": "2022-11-20T14:39:58.323Z"
   },
   {
    "duration": 8,
    "start_time": "2022-11-20T14:39:58.336Z"
   },
   {
    "duration": 75,
    "start_time": "2022-11-20T14:39:58.346Z"
   },
   {
    "duration": 4,
    "start_time": "2022-11-20T14:39:58.423Z"
   },
   {
    "duration": 16,
    "start_time": "2022-11-20T14:39:58.428Z"
   },
   {
    "duration": 9,
    "start_time": "2022-11-20T14:39:58.445Z"
   },
   {
    "duration": 43,
    "start_time": "2022-11-20T14:39:58.455Z"
   },
   {
    "duration": 15,
    "start_time": "2022-11-20T14:39:58.500Z"
   },
   {
    "duration": 16,
    "start_time": "2022-11-20T14:39:58.517Z"
   },
   {
    "duration": 5,
    "start_time": "2022-11-20T14:39:58.534Z"
   },
   {
    "duration": 13,
    "start_time": "2022-11-20T14:39:58.540Z"
   },
   {
    "duration": 16,
    "start_time": "2022-11-20T14:39:58.554Z"
   },
   {
    "duration": 5,
    "start_time": "2022-11-20T14:39:58.597Z"
   },
   {
    "duration": 9,
    "start_time": "2022-11-20T14:39:58.606Z"
   },
   {
    "duration": 6,
    "start_time": "2022-11-20T14:39:58.617Z"
   },
   {
    "duration": 4,
    "start_time": "2022-11-20T14:39:58.624Z"
   },
   {
    "duration": 17,
    "start_time": "2022-11-20T14:39:58.630Z"
   },
   {
    "duration": 8,
    "start_time": "2022-11-20T14:39:58.649Z"
   },
   {
    "duration": 44,
    "start_time": "2022-11-20T14:39:58.658Z"
   },
   {
    "duration": 15,
    "start_time": "2022-11-20T14:39:58.703Z"
   },
   {
    "duration": 12,
    "start_time": "2022-11-20T14:39:58.719Z"
   },
   {
    "duration": 7,
    "start_time": "2022-11-20T14:39:58.733Z"
   },
   {
    "duration": 12,
    "start_time": "2022-11-20T14:39:58.741Z"
   },
   {
    "duration": 8,
    "start_time": "2022-11-20T14:39:58.754Z"
   },
   {
    "duration": 38,
    "start_time": "2022-11-20T14:39:58.764Z"
   },
   {
    "duration": 20,
    "start_time": "2022-11-20T14:39:58.803Z"
   },
   {
    "duration": 11,
    "start_time": "2022-11-20T14:39:58.824Z"
   },
   {
    "duration": 69,
    "start_time": "2022-11-20T14:39:58.837Z"
   },
   {
    "duration": 8,
    "start_time": "2022-11-20T14:39:58.908Z"
   },
   {
    "duration": 21,
    "start_time": "2022-11-20T14:39:58.918Z"
   },
   {
    "duration": 23,
    "start_time": "2022-11-20T14:39:58.941Z"
   },
   {
    "duration": 22,
    "start_time": "2022-11-20T14:39:58.965Z"
   },
   {
    "duration": 13,
    "start_time": "2022-11-20T14:39:58.989Z"
   },
   {
    "duration": 35,
    "start_time": "2022-11-20T14:39:59.003Z"
   },
   {
    "duration": 109,
    "start_time": "2022-11-20T14:39:59.039Z"
   },
   {
    "duration": 110,
    "start_time": "2022-11-20T14:39:59.149Z"
   },
   {
    "duration": 113,
    "start_time": "2022-11-20T14:39:59.261Z"
   },
   {
    "duration": 6,
    "start_time": "2022-11-20T14:39:59.376Z"
   },
   {
    "duration": 160,
    "start_time": "2022-11-20T14:39:59.384Z"
   },
   {
    "duration": 18,
    "start_time": "2022-11-20T14:39:59.546Z"
   },
   {
    "duration": 32,
    "start_time": "2022-11-20T14:39:59.565Z"
   },
   {
    "duration": 5,
    "start_time": "2022-11-20T14:39:59.599Z"
   },
   {
    "duration": 16,
    "start_time": "2022-11-20T14:39:59.605Z"
   },
   {
    "duration": 11,
    "start_time": "2022-11-20T14:39:59.622Z"
   },
   {
    "duration": 10,
    "start_time": "2022-11-20T14:39:59.635Z"
   },
   {
    "duration": 18,
    "start_time": "2022-11-20T14:39:59.647Z"
   },
   {
    "duration": 31,
    "start_time": "2022-11-20T14:39:59.666Z"
   },
   {
    "duration": 14,
    "start_time": "2022-11-20T14:39:59.699Z"
   },
   {
    "duration": 14,
    "start_time": "2022-11-20T14:39:59.714Z"
   },
   {
    "duration": 5,
    "start_time": "2022-11-20T14:39:59.730Z"
   },
   {
    "duration": 142,
    "start_time": "2022-11-20T14:39:59.736Z"
   },
   {
    "duration": 17,
    "start_time": "2022-11-20T14:39:59.880Z"
   },
   {
    "duration": 7,
    "start_time": "2022-11-20T14:39:59.899Z"
   },
   {
    "duration": 8,
    "start_time": "2022-11-20T14:39:59.908Z"
   },
   {
    "duration": 8,
    "start_time": "2022-11-20T14:39:59.918Z"
   },
   {
    "duration": 21,
    "start_time": "2022-11-20T14:39:59.928Z"
   },
   {
    "duration": 9,
    "start_time": "2022-11-20T14:39:59.951Z"
   },
   {
    "duration": 7,
    "start_time": "2022-11-20T14:39:59.962Z"
   },
   {
    "duration": 27,
    "start_time": "2022-11-20T14:39:59.970Z"
   },
   {
    "duration": 8,
    "start_time": "2022-11-20T14:39:59.998Z"
   },
   {
    "duration": 14,
    "start_time": "2022-11-20T14:40:00.007Z"
   },
   {
    "duration": 24,
    "start_time": "2022-11-20T14:40:00.023Z"
   },
   {
    "duration": 19,
    "start_time": "2022-11-20T14:40:00.049Z"
   },
   {
    "duration": 172,
    "start_time": "2022-11-20T14:40:00.069Z"
   },
   {
    "duration": 146,
    "start_time": "2022-11-20T14:40:00.242Z"
   },
   {
    "duration": 162,
    "start_time": "2022-11-20T14:40:00.390Z"
   },
   {
    "duration": 155,
    "start_time": "2022-11-20T14:40:00.554Z"
   },
   {
    "duration": 165,
    "start_time": "2022-11-20T14:40:00.714Z"
   },
   {
    "duration": 8,
    "start_time": "2022-11-20T14:40:00.881Z"
   },
   {
    "duration": 5,
    "start_time": "2022-11-20T14:40:00.898Z"
   },
   {
    "duration": 38,
    "start_time": "2022-11-20T14:40:00.905Z"
   },
   {
    "duration": 36,
    "start_time": "2022-11-20T14:40:00.944Z"
   },
   {
    "duration": 10,
    "start_time": "2022-11-20T14:40:00.982Z"
   },
   {
    "duration": 1909,
    "start_time": "2022-11-20T14:40:00.993Z"
   },
   {
    "duration": 0,
    "start_time": "2022-11-20T14:40:02.903Z"
   },
   {
    "duration": 0,
    "start_time": "2022-11-20T14:40:02.904Z"
   },
   {
    "duration": 0,
    "start_time": "2022-11-20T14:40:02.905Z"
   },
   {
    "duration": 0,
    "start_time": "2022-11-20T14:40:02.906Z"
   },
   {
    "duration": 0,
    "start_time": "2022-11-20T14:40:02.907Z"
   },
   {
    "duration": 0,
    "start_time": "2022-11-20T14:40:02.908Z"
   },
   {
    "duration": 0,
    "start_time": "2022-11-20T14:40:02.909Z"
   },
   {
    "duration": 0,
    "start_time": "2022-11-20T14:40:02.910Z"
   },
   {
    "duration": 0,
    "start_time": "2022-11-20T14:40:02.912Z"
   },
   {
    "duration": 0,
    "start_time": "2022-11-20T14:40:02.913Z"
   },
   {
    "duration": 0,
    "start_time": "2022-11-20T14:40:02.914Z"
   },
   {
    "duration": 0,
    "start_time": "2022-11-20T14:40:02.915Z"
   },
   {
    "duration": 28,
    "start_time": "2022-11-20T14:40:43.867Z"
   },
   {
    "duration": 4,
    "start_time": "2022-11-20T14:41:49.774Z"
   },
   {
    "duration": 5,
    "start_time": "2022-11-20T14:42:03.393Z"
   },
   {
    "duration": 19,
    "start_time": "2022-11-20T14:42:17.929Z"
   },
   {
    "duration": 713,
    "start_time": "2022-11-20T14:48:50.755Z"
   },
   {
    "duration": 13,
    "start_time": "2022-11-20T14:48:51.470Z"
   },
   {
    "duration": 11,
    "start_time": "2022-11-20T14:48:51.485Z"
   },
   {
    "duration": 8,
    "start_time": "2022-11-20T14:48:51.498Z"
   },
   {
    "duration": 6,
    "start_time": "2022-11-20T14:48:51.507Z"
   },
   {
    "duration": 46,
    "start_time": "2022-11-20T14:48:51.514Z"
   },
   {
    "duration": 9,
    "start_time": "2022-11-20T14:48:51.561Z"
   },
   {
    "duration": 15,
    "start_time": "2022-11-20T14:48:51.571Z"
   },
   {
    "duration": 16,
    "start_time": "2022-11-20T14:48:51.587Z"
   },
   {
    "duration": 20,
    "start_time": "2022-11-20T14:48:51.606Z"
   },
   {
    "duration": 9,
    "start_time": "2022-11-20T14:48:51.628Z"
   },
   {
    "duration": 62,
    "start_time": "2022-11-20T14:48:51.638Z"
   },
   {
    "duration": 9,
    "start_time": "2022-11-20T14:48:51.702Z"
   },
   {
    "duration": 7,
    "start_time": "2022-11-20T14:48:51.712Z"
   },
   {
    "duration": 11,
    "start_time": "2022-11-20T14:48:51.721Z"
   },
   {
    "duration": 8,
    "start_time": "2022-11-20T14:48:51.734Z"
   },
   {
    "duration": 159,
    "start_time": "2022-11-20T14:48:51.743Z"
   },
   {
    "duration": 4,
    "start_time": "2022-11-20T14:48:51.903Z"
   },
   {
    "duration": 22,
    "start_time": "2022-11-20T14:48:51.908Z"
   },
   {
    "duration": 10,
    "start_time": "2022-11-20T14:48:51.932Z"
   },
   {
    "duration": 26,
    "start_time": "2022-11-20T14:48:51.944Z"
   },
   {
    "duration": 19,
    "start_time": "2022-11-20T14:48:51.997Z"
   },
   {
    "duration": 19,
    "start_time": "2022-11-20T14:48:52.017Z"
   },
   {
    "duration": 4,
    "start_time": "2022-11-20T14:48:52.038Z"
   },
   {
    "duration": 64,
    "start_time": "2022-11-20T14:48:52.044Z"
   },
   {
    "duration": 17,
    "start_time": "2022-11-20T14:48:52.110Z"
   },
   {
    "duration": 5,
    "start_time": "2022-11-20T14:48:52.129Z"
   },
   {
    "duration": 64,
    "start_time": "2022-11-20T14:48:52.137Z"
   },
   {
    "duration": 12,
    "start_time": "2022-11-20T14:48:52.203Z"
   },
   {
    "duration": 5,
    "start_time": "2022-11-20T14:48:52.217Z"
   },
   {
    "duration": 17,
    "start_time": "2022-11-20T14:48:52.224Z"
   },
   {
    "duration": 62,
    "start_time": "2022-11-20T14:48:52.242Z"
   },
   {
    "duration": 18,
    "start_time": "2022-11-20T14:48:52.306Z"
   },
   {
    "duration": 20,
    "start_time": "2022-11-20T14:48:52.326Z"
   },
   {
    "duration": 10,
    "start_time": "2022-11-20T14:48:52.348Z"
   },
   {
    "duration": 16,
    "start_time": "2022-11-20T14:48:52.360Z"
   },
   {
    "duration": 32,
    "start_time": "2022-11-20T14:48:52.378Z"
   },
   {
    "duration": 12,
    "start_time": "2022-11-20T14:48:52.412Z"
   },
   {
    "duration": 13,
    "start_time": "2022-11-20T14:48:52.426Z"
   },
   {
    "duration": 13,
    "start_time": "2022-11-20T14:48:52.440Z"
   },
   {
    "duration": 7,
    "start_time": "2022-11-20T14:48:52.454Z"
   },
   {
    "duration": 85,
    "start_time": "2022-11-20T14:48:52.463Z"
   },
   {
    "duration": 7,
    "start_time": "2022-11-20T14:48:52.549Z"
   },
   {
    "duration": 19,
    "start_time": "2022-11-20T14:48:52.558Z"
   },
   {
    "duration": 18,
    "start_time": "2022-11-20T14:48:52.579Z"
   },
   {
    "duration": 5,
    "start_time": "2022-11-20T14:48:52.599Z"
   },
   {
    "duration": 7,
    "start_time": "2022-11-20T14:48:52.605Z"
   },
   {
    "duration": 15,
    "start_time": "2022-11-20T14:48:52.614Z"
   },
   {
    "duration": 135,
    "start_time": "2022-11-20T14:48:52.631Z"
   },
   {
    "duration": 109,
    "start_time": "2022-11-20T14:48:52.768Z"
   },
   {
    "duration": 106,
    "start_time": "2022-11-20T14:48:52.878Z"
   },
   {
    "duration": 5,
    "start_time": "2022-11-20T14:48:52.997Z"
   },
   {
    "duration": 150,
    "start_time": "2022-11-20T14:48:53.004Z"
   },
   {
    "duration": 17,
    "start_time": "2022-11-20T14:48:53.155Z"
   },
   {
    "duration": 27,
    "start_time": "2022-11-20T14:48:53.173Z"
   },
   {
    "duration": 3,
    "start_time": "2022-11-20T14:48:53.202Z"
   },
   {
    "duration": 16,
    "start_time": "2022-11-20T14:48:53.206Z"
   },
   {
    "duration": 11,
    "start_time": "2022-11-20T14:48:53.223Z"
   },
   {
    "duration": 10,
    "start_time": "2022-11-20T14:48:53.236Z"
   },
   {
    "duration": 19,
    "start_time": "2022-11-20T14:48:53.247Z"
   },
   {
    "duration": 7,
    "start_time": "2022-11-20T14:48:53.267Z"
   },
   {
    "duration": 35,
    "start_time": "2022-11-20T14:48:53.275Z"
   },
   {
    "duration": 12,
    "start_time": "2022-11-20T14:48:53.312Z"
   },
   {
    "duration": 9,
    "start_time": "2022-11-20T14:48:53.326Z"
   },
   {
    "duration": 135,
    "start_time": "2022-11-20T14:48:53.337Z"
   },
   {
    "duration": 8,
    "start_time": "2022-11-20T14:48:53.474Z"
   },
   {
    "duration": 7,
    "start_time": "2022-11-20T14:48:53.497Z"
   },
   {
    "duration": 11,
    "start_time": "2022-11-20T14:48:53.506Z"
   },
   {
    "duration": 7,
    "start_time": "2022-11-20T14:48:53.518Z"
   },
   {
    "duration": 15,
    "start_time": "2022-11-20T14:48:53.527Z"
   },
   {
    "duration": 16,
    "start_time": "2022-11-20T14:48:53.543Z"
   },
   {
    "duration": 32,
    "start_time": "2022-11-20T14:48:53.560Z"
   },
   {
    "duration": 19,
    "start_time": "2022-11-20T14:48:53.593Z"
   },
   {
    "duration": 16,
    "start_time": "2022-11-20T14:48:53.613Z"
   },
   {
    "duration": 16,
    "start_time": "2022-11-20T14:48:53.631Z"
   },
   {
    "duration": 25,
    "start_time": "2022-11-20T14:48:53.648Z"
   },
   {
    "duration": 25,
    "start_time": "2022-11-20T14:48:53.675Z"
   },
   {
    "duration": 155,
    "start_time": "2022-11-20T14:48:53.702Z"
   },
   {
    "duration": 156,
    "start_time": "2022-11-20T14:48:53.858Z"
   },
   {
    "duration": 147,
    "start_time": "2022-11-20T14:48:54.015Z"
   },
   {
    "duration": 147,
    "start_time": "2022-11-20T14:48:54.164Z"
   },
   {
    "duration": 141,
    "start_time": "2022-11-20T14:48:54.316Z"
   },
   {
    "duration": 9,
    "start_time": "2022-11-20T14:48:54.458Z"
   },
   {
    "duration": 30,
    "start_time": "2022-11-20T14:48:54.469Z"
   },
   {
    "duration": 30,
    "start_time": "2022-11-20T14:48:54.500Z"
   },
   {
    "duration": 27,
    "start_time": "2022-11-20T14:48:54.532Z"
   },
   {
    "duration": 35,
    "start_time": "2022-11-20T14:48:54.561Z"
   },
   {
    "duration": 45,
    "start_time": "2022-11-20T14:48:54.598Z"
   },
   {
    "duration": 43,
    "start_time": "2022-11-20T14:48:54.645Z"
   },
   {
    "duration": 44,
    "start_time": "2022-11-20T14:48:54.690Z"
   },
   {
    "duration": 47,
    "start_time": "2022-11-20T14:48:54.736Z"
   },
   {
    "duration": 35,
    "start_time": "2022-11-20T14:48:54.784Z"
   },
   {
    "duration": 42,
    "start_time": "2022-11-20T14:48:54.821Z"
   },
   {
    "duration": 27,
    "start_time": "2022-11-20T14:48:54.865Z"
   },
   {
    "duration": 831,
    "start_time": "2022-11-20T14:48:54.893Z"
   },
   {
    "duration": 0,
    "start_time": "2022-11-20T14:48:55.726Z"
   },
   {
    "duration": 0,
    "start_time": "2022-11-20T14:48:55.727Z"
   },
   {
    "duration": 0,
    "start_time": "2022-11-20T14:48:55.728Z"
   },
   {
    "duration": 0,
    "start_time": "2022-11-20T14:48:55.729Z"
   },
   {
    "duration": 146,
    "start_time": "2022-11-20T14:49:31.078Z"
   },
   {
    "duration": 135,
    "start_time": "2022-11-20T14:50:09.480Z"
   },
   {
    "duration": 15,
    "start_time": "2022-11-20T14:50:30.791Z"
   },
   {
    "duration": 4,
    "start_time": "2022-11-20T14:51:11.102Z"
   },
   {
    "duration": 676,
    "start_time": "2022-11-20T14:51:26.225Z"
   },
   {
    "duration": 689,
    "start_time": "2022-11-20T14:51:36.533Z"
   },
   {
    "duration": 15,
    "start_time": "2022-11-20T14:52:19.109Z"
   },
   {
    "duration": 170,
    "start_time": "2022-11-20T14:52:49.335Z"
   },
   {
    "duration": 123,
    "start_time": "2022-11-20T14:52:57.194Z"
   },
   {
    "duration": 11,
    "start_time": "2022-11-20T14:53:01.676Z"
   },
   {
    "duration": 14,
    "start_time": "2022-11-20T14:53:09.050Z"
   },
   {
    "duration": 13,
    "start_time": "2022-11-20T14:53:55.618Z"
   },
   {
    "duration": 21,
    "start_time": "2022-11-20T14:54:23.992Z"
   },
   {
    "duration": 7,
    "start_time": "2022-11-20T14:55:17.762Z"
   },
   {
    "duration": 6,
    "start_time": "2022-11-20T14:55:38.934Z"
   },
   {
    "duration": 8,
    "start_time": "2022-11-20T14:55:52.126Z"
   },
   {
    "duration": 6,
    "start_time": "2022-11-20T14:56:08.251Z"
   },
   {
    "duration": 7,
    "start_time": "2022-11-20T14:57:17.950Z"
   },
   {
    "duration": 12,
    "start_time": "2022-11-20T15:00:05.583Z"
   },
   {
    "duration": 5,
    "start_time": "2022-11-20T15:00:11.415Z"
   },
   {
    "duration": 8,
    "start_time": "2022-11-20T15:00:25.906Z"
   },
   {
    "duration": 9,
    "start_time": "2022-11-20T15:00:49.274Z"
   },
   {
    "duration": 11,
    "start_time": "2022-11-20T15:01:54.174Z"
   },
   {
    "duration": 729,
    "start_time": "2022-11-20T15:02:32.537Z"
   },
   {
    "duration": 16,
    "start_time": "2022-11-20T15:02:33.269Z"
   },
   {
    "duration": 14,
    "start_time": "2022-11-20T15:02:33.301Z"
   },
   {
    "duration": 8,
    "start_time": "2022-11-20T15:02:33.316Z"
   },
   {
    "duration": 12,
    "start_time": "2022-11-20T15:02:33.326Z"
   },
   {
    "duration": 51,
    "start_time": "2022-11-20T15:02:33.339Z"
   },
   {
    "duration": 13,
    "start_time": "2022-11-20T15:02:33.392Z"
   },
   {
    "duration": 19,
    "start_time": "2022-11-20T15:02:33.407Z"
   },
   {
    "duration": 13,
    "start_time": "2022-11-20T15:02:33.428Z"
   },
   {
    "duration": 28,
    "start_time": "2022-11-20T15:02:33.444Z"
   },
   {
    "duration": 32,
    "start_time": "2022-11-20T15:02:33.474Z"
   },
   {
    "duration": 7,
    "start_time": "2022-11-20T15:02:33.507Z"
   },
   {
    "duration": 39,
    "start_time": "2022-11-20T15:02:33.516Z"
   },
   {
    "duration": 41,
    "start_time": "2022-11-20T15:02:33.557Z"
   },
   {
    "duration": 67,
    "start_time": "2022-11-20T15:02:33.601Z"
   },
   {
    "duration": 19,
    "start_time": "2022-11-20T15:02:33.670Z"
   },
   {
    "duration": 66,
    "start_time": "2022-11-20T15:02:33.691Z"
   },
   {
    "duration": 14,
    "start_time": "2022-11-20T15:02:33.759Z"
   },
   {
    "duration": 59,
    "start_time": "2022-11-20T15:02:33.774Z"
   },
   {
    "duration": 41,
    "start_time": "2022-11-20T15:02:33.834Z"
   },
   {
    "duration": 56,
    "start_time": "2022-11-20T15:02:33.877Z"
   },
   {
    "duration": 30,
    "start_time": "2022-11-20T15:02:33.935Z"
   },
   {
    "duration": 45,
    "start_time": "2022-11-20T15:02:33.967Z"
   },
   {
    "duration": 12,
    "start_time": "2022-11-20T15:02:34.013Z"
   },
   {
    "duration": 21,
    "start_time": "2022-11-20T15:02:34.026Z"
   },
   {
    "duration": 25,
    "start_time": "2022-11-20T15:02:34.048Z"
   },
   {
    "duration": 5,
    "start_time": "2022-11-20T15:02:34.078Z"
   },
   {
    "duration": 20,
    "start_time": "2022-11-20T15:02:34.084Z"
   },
   {
    "duration": 15,
    "start_time": "2022-11-20T15:02:34.106Z"
   },
   {
    "duration": 9,
    "start_time": "2022-11-20T15:02:34.123Z"
   },
   {
    "duration": 25,
    "start_time": "2022-11-20T15:02:34.134Z"
   },
   {
    "duration": 11,
    "start_time": "2022-11-20T15:02:34.160Z"
   },
   {
    "duration": 34,
    "start_time": "2022-11-20T15:02:34.172Z"
   },
   {
    "duration": 19,
    "start_time": "2022-11-20T15:02:34.207Z"
   },
   {
    "duration": 18,
    "start_time": "2022-11-20T15:02:34.228Z"
   },
   {
    "duration": 13,
    "start_time": "2022-11-20T15:02:34.248Z"
   },
   {
    "duration": 13,
    "start_time": "2022-11-20T15:02:34.262Z"
   },
   {
    "duration": 12,
    "start_time": "2022-11-20T15:02:34.297Z"
   },
   {
    "duration": 24,
    "start_time": "2022-11-20T15:02:34.310Z"
   },
   {
    "duration": 49,
    "start_time": "2022-11-20T15:02:34.336Z"
   },
   {
    "duration": 18,
    "start_time": "2022-11-20T15:02:34.387Z"
   },
   {
    "duration": 114,
    "start_time": "2022-11-20T15:02:34.407Z"
   },
   {
    "duration": 7,
    "start_time": "2022-11-20T15:02:34.523Z"
   },
   {
    "duration": 34,
    "start_time": "2022-11-20T15:02:34.532Z"
   },
   {
    "duration": 38,
    "start_time": "2022-11-20T15:02:34.567Z"
   },
   {
    "duration": 31,
    "start_time": "2022-11-20T15:02:34.606Z"
   },
   {
    "duration": 41,
    "start_time": "2022-11-20T15:02:34.639Z"
   },
   {
    "duration": 32,
    "start_time": "2022-11-20T15:02:34.682Z"
   },
   {
    "duration": 165,
    "start_time": "2022-11-20T15:02:34.716Z"
   },
   {
    "duration": 127,
    "start_time": "2022-11-20T15:02:34.883Z"
   },
   {
    "duration": 159,
    "start_time": "2022-11-20T15:02:35.012Z"
   },
   {
    "duration": 6,
    "start_time": "2022-11-20T15:02:35.173Z"
   },
   {
    "duration": 198,
    "start_time": "2022-11-20T15:02:35.181Z"
   },
   {
    "duration": 30,
    "start_time": "2022-11-20T15:02:35.381Z"
   },
   {
    "duration": 39,
    "start_time": "2022-11-20T15:02:35.412Z"
   },
   {
    "duration": 33,
    "start_time": "2022-11-20T15:02:35.452Z"
   },
   {
    "duration": 58,
    "start_time": "2022-11-20T15:02:35.487Z"
   },
   {
    "duration": 41,
    "start_time": "2022-11-20T15:02:35.547Z"
   },
   {
    "duration": 44,
    "start_time": "2022-11-20T15:02:35.590Z"
   },
   {
    "duration": 70,
    "start_time": "2022-11-20T15:02:35.636Z"
   },
   {
    "duration": 8,
    "start_time": "2022-11-20T15:02:35.708Z"
   },
   {
    "duration": 19,
    "start_time": "2022-11-20T15:02:35.718Z"
   },
   {
    "duration": 23,
    "start_time": "2022-11-20T15:02:35.738Z"
   },
   {
    "duration": 6,
    "start_time": "2022-11-20T15:02:35.764Z"
   },
   {
    "duration": 158,
    "start_time": "2022-11-20T15:02:35.772Z"
   },
   {
    "duration": 9,
    "start_time": "2022-11-20T15:02:35.932Z"
   },
   {
    "duration": 11,
    "start_time": "2022-11-20T15:02:35.942Z"
   },
   {
    "duration": 7,
    "start_time": "2022-11-20T15:02:35.955Z"
   },
   {
    "duration": 9,
    "start_time": "2022-11-20T15:02:35.964Z"
   },
   {
    "duration": 10,
    "start_time": "2022-11-20T15:02:35.998Z"
   },
   {
    "duration": 8,
    "start_time": "2022-11-20T15:02:36.010Z"
   },
   {
    "duration": 9,
    "start_time": "2022-11-20T15:02:36.020Z"
   },
   {
    "duration": 10,
    "start_time": "2022-11-20T15:02:36.031Z"
   },
   {
    "duration": 10,
    "start_time": "2022-11-20T15:02:36.043Z"
   },
   {
    "duration": 10,
    "start_time": "2022-11-20T15:02:36.054Z"
   },
   {
    "duration": 36,
    "start_time": "2022-11-20T15:02:36.066Z"
   },
   {
    "duration": 20,
    "start_time": "2022-11-20T15:02:36.103Z"
   },
   {
    "duration": 176,
    "start_time": "2022-11-20T15:02:36.125Z"
   },
   {
    "duration": 163,
    "start_time": "2022-11-20T15:02:36.304Z"
   },
   {
    "duration": 158,
    "start_time": "2022-11-20T15:02:36.469Z"
   },
   {
    "duration": 144,
    "start_time": "2022-11-20T15:02:36.632Z"
   },
   {
    "duration": 158,
    "start_time": "2022-11-20T15:02:36.778Z"
   },
   {
    "duration": 7,
    "start_time": "2022-11-20T15:02:36.938Z"
   },
   {
    "duration": 8,
    "start_time": "2022-11-20T15:02:36.947Z"
   },
   {
    "duration": 11,
    "start_time": "2022-11-20T15:02:36.956Z"
   },
   {
    "duration": 32,
    "start_time": "2022-11-20T15:02:36.968Z"
   },
   {
    "duration": 6,
    "start_time": "2022-11-20T15:02:37.001Z"
   },
   {
    "duration": 10,
    "start_time": "2022-11-20T15:02:37.009Z"
   },
   {
    "duration": 6,
    "start_time": "2022-11-20T15:02:37.021Z"
   },
   {
    "duration": 24,
    "start_time": "2022-11-20T15:02:37.029Z"
   },
   {
    "duration": 56,
    "start_time": "2022-11-20T15:02:37.055Z"
   },
   {
    "duration": 28,
    "start_time": "2022-11-20T15:02:37.112Z"
   },
   {
    "duration": 27,
    "start_time": "2022-11-20T15:02:37.141Z"
   },
   {
    "duration": 50,
    "start_time": "2022-11-20T15:02:37.170Z"
   },
   {
    "duration": 25,
    "start_time": "2022-11-20T15:02:37.222Z"
   },
   {
    "duration": 60,
    "start_time": "2022-11-20T15:02:37.248Z"
   },
   {
    "duration": 174,
    "start_time": "2022-11-20T15:02:37.309Z"
   },
   {
    "duration": 19,
    "start_time": "2022-11-20T15:02:37.484Z"
   },
   {
    "duration": 9,
    "start_time": "2022-11-20T15:02:37.504Z"
   },
   {
    "duration": 6,
    "start_time": "2022-11-20T15:02:37.514Z"
   },
   {
    "duration": 10,
    "start_time": "2022-11-20T15:02:37.521Z"
   },
   {
    "duration": 24,
    "start_time": "2022-11-20T15:02:37.532Z"
   },
   {
    "duration": 119,
    "start_time": "2022-11-20T15:03:23.297Z"
   },
   {
    "duration": 9,
    "start_time": "2022-11-20T15:03:31.606Z"
   },
   {
    "duration": 7,
    "start_time": "2022-11-20T15:04:23.951Z"
   },
   {
    "duration": 754,
    "start_time": "2022-11-20T15:23:22.272Z"
   },
   {
    "duration": 13,
    "start_time": "2022-11-20T15:23:23.028Z"
   },
   {
    "duration": 16,
    "start_time": "2022-11-20T15:23:23.042Z"
   },
   {
    "duration": 23,
    "start_time": "2022-11-20T15:23:23.059Z"
   },
   {
    "duration": 7,
    "start_time": "2022-11-20T15:23:23.084Z"
   },
   {
    "duration": 48,
    "start_time": "2022-11-20T15:23:23.092Z"
   },
   {
    "duration": 9,
    "start_time": "2022-11-20T15:23:23.141Z"
   },
   {
    "duration": 49,
    "start_time": "2022-11-20T15:23:23.151Z"
   },
   {
    "duration": 12,
    "start_time": "2022-11-20T15:23:23.202Z"
   },
   {
    "duration": 23,
    "start_time": "2022-11-20T15:23:23.215Z"
   },
   {
    "duration": 10,
    "start_time": "2022-11-20T15:23:23.239Z"
   },
   {
    "duration": 32,
    "start_time": "2022-11-20T15:23:23.251Z"
   },
   {
    "duration": 23,
    "start_time": "2022-11-20T15:23:23.284Z"
   },
   {
    "duration": 31,
    "start_time": "2022-11-20T15:23:23.310Z"
   },
   {
    "duration": 21,
    "start_time": "2022-11-20T15:23:23.343Z"
   },
   {
    "duration": 39,
    "start_time": "2022-11-20T15:23:23.365Z"
   },
   {
    "duration": 65,
    "start_time": "2022-11-20T15:23:23.405Z"
   },
   {
    "duration": 4,
    "start_time": "2022-11-20T15:23:23.471Z"
   },
   {
    "duration": 32,
    "start_time": "2022-11-20T15:23:23.476Z"
   },
   {
    "duration": 15,
    "start_time": "2022-11-20T15:23:23.510Z"
   },
   {
    "duration": 43,
    "start_time": "2022-11-20T15:23:23.526Z"
   },
   {
    "duration": 17,
    "start_time": "2022-11-20T15:23:23.570Z"
   },
   {
    "duration": 33,
    "start_time": "2022-11-20T15:23:23.589Z"
   },
   {
    "duration": 21,
    "start_time": "2022-11-20T15:23:23.623Z"
   },
   {
    "duration": 20,
    "start_time": "2022-11-20T15:23:23.646Z"
   },
   {
    "duration": 33,
    "start_time": "2022-11-20T15:23:23.668Z"
   },
   {
    "duration": 4,
    "start_time": "2022-11-20T15:23:23.703Z"
   },
   {
    "duration": 19,
    "start_time": "2022-11-20T15:23:23.709Z"
   },
   {
    "duration": 9,
    "start_time": "2022-11-20T15:23:23.729Z"
   },
   {
    "duration": 16,
    "start_time": "2022-11-20T15:23:23.739Z"
   },
   {
    "duration": 20,
    "start_time": "2022-11-20T15:23:23.757Z"
   },
   {
    "duration": 10,
    "start_time": "2022-11-20T15:23:23.779Z"
   },
   {
    "duration": 35,
    "start_time": "2022-11-20T15:23:23.791Z"
   },
   {
    "duration": 15,
    "start_time": "2022-11-20T15:23:23.827Z"
   },
   {
    "duration": 9,
    "start_time": "2022-11-20T15:23:23.844Z"
   },
   {
    "duration": 9,
    "start_time": "2022-11-20T15:23:23.854Z"
   },
   {
    "duration": 9,
    "start_time": "2022-11-20T15:23:23.865Z"
   },
   {
    "duration": 25,
    "start_time": "2022-11-20T15:23:23.876Z"
   },
   {
    "duration": 11,
    "start_time": "2022-11-20T15:23:23.903Z"
   },
   {
    "duration": 11,
    "start_time": "2022-11-20T15:23:23.915Z"
   },
   {
    "duration": 3,
    "start_time": "2022-11-20T15:23:23.931Z"
   },
   {
    "duration": 93,
    "start_time": "2022-11-20T15:23:23.936Z"
   },
   {
    "duration": 8,
    "start_time": "2022-11-20T15:23:24.030Z"
   },
   {
    "duration": 26,
    "start_time": "2022-11-20T15:23:24.039Z"
   },
   {
    "duration": 11,
    "start_time": "2022-11-20T15:23:24.067Z"
   },
   {
    "duration": 21,
    "start_time": "2022-11-20T15:23:24.080Z"
   },
   {
    "duration": 8,
    "start_time": "2022-11-20T15:23:24.102Z"
   },
   {
    "duration": 24,
    "start_time": "2022-11-20T15:23:24.111Z"
   },
   {
    "duration": 118,
    "start_time": "2022-11-20T15:23:24.137Z"
   },
   {
    "duration": 119,
    "start_time": "2022-11-20T15:23:24.256Z"
   },
   {
    "duration": 124,
    "start_time": "2022-11-20T15:23:24.377Z"
   },
   {
    "duration": 5,
    "start_time": "2022-11-20T15:23:24.503Z"
   },
   {
    "duration": 152,
    "start_time": "2022-11-20T15:23:24.509Z"
   },
   {
    "duration": 16,
    "start_time": "2022-11-20T15:23:24.662Z"
   },
   {
    "duration": 24,
    "start_time": "2022-11-20T15:23:24.680Z"
   },
   {
    "duration": 3,
    "start_time": "2022-11-20T15:23:24.706Z"
   },
   {
    "duration": 30,
    "start_time": "2022-11-20T15:23:24.710Z"
   },
   {
    "duration": 20,
    "start_time": "2022-11-20T15:23:24.742Z"
   },
   {
    "duration": 17,
    "start_time": "2022-11-20T15:23:24.764Z"
   },
   {
    "duration": 28,
    "start_time": "2022-11-20T15:23:24.782Z"
   },
   {
    "duration": 9,
    "start_time": "2022-11-20T15:23:24.812Z"
   },
   {
    "duration": 27,
    "start_time": "2022-11-20T15:23:24.822Z"
   },
   {
    "duration": 19,
    "start_time": "2022-11-20T15:23:24.851Z"
   },
   {
    "duration": 31,
    "start_time": "2022-11-20T15:23:24.872Z"
   },
   {
    "duration": 142,
    "start_time": "2022-11-20T15:23:24.905Z"
   },
   {
    "duration": 8,
    "start_time": "2022-11-20T15:23:25.049Z"
   },
   {
    "duration": 10,
    "start_time": "2022-11-20T15:23:25.059Z"
   },
   {
    "duration": 26,
    "start_time": "2022-11-20T15:23:25.071Z"
   },
   {
    "duration": 7,
    "start_time": "2022-11-20T15:23:25.099Z"
   },
   {
    "duration": 10,
    "start_time": "2022-11-20T15:23:25.108Z"
   },
   {
    "duration": 7,
    "start_time": "2022-11-20T15:23:25.119Z"
   },
   {
    "duration": 7,
    "start_time": "2022-11-20T15:23:25.127Z"
   },
   {
    "duration": 7,
    "start_time": "2022-11-20T15:23:25.136Z"
   },
   {
    "duration": 9,
    "start_time": "2022-11-20T15:23:25.144Z"
   },
   {
    "duration": 43,
    "start_time": "2022-11-20T15:23:25.154Z"
   },
   {
    "duration": 6,
    "start_time": "2022-11-20T15:23:25.199Z"
   },
   {
    "duration": 16,
    "start_time": "2022-11-20T15:23:25.207Z"
   },
   {
    "duration": 156,
    "start_time": "2022-11-20T15:23:25.225Z"
   },
   {
    "duration": 156,
    "start_time": "2022-11-20T15:23:25.383Z"
   },
   {
    "duration": 167,
    "start_time": "2022-11-20T15:23:25.541Z"
   },
   {
    "duration": 155,
    "start_time": "2022-11-20T15:23:25.710Z"
   },
   {
    "duration": 150,
    "start_time": "2022-11-20T15:23:25.867Z"
   },
   {
    "duration": 12,
    "start_time": "2022-11-20T15:23:26.019Z"
   },
   {
    "duration": 4,
    "start_time": "2022-11-20T15:23:26.033Z"
   },
   {
    "duration": 7,
    "start_time": "2022-11-20T15:23:26.039Z"
   },
   {
    "duration": 9,
    "start_time": "2022-11-20T15:23:26.047Z"
   },
   {
    "duration": 7,
    "start_time": "2022-11-20T15:23:26.058Z"
   },
   {
    "duration": 31,
    "start_time": "2022-11-20T15:23:26.066Z"
   },
   {
    "duration": 5,
    "start_time": "2022-11-20T15:23:26.099Z"
   },
   {
    "duration": 11,
    "start_time": "2022-11-20T15:23:26.105Z"
   },
   {
    "duration": 9,
    "start_time": "2022-11-20T15:23:26.117Z"
   },
   {
    "duration": 7,
    "start_time": "2022-11-20T15:23:26.127Z"
   },
   {
    "duration": 22,
    "start_time": "2022-11-20T15:23:26.135Z"
   },
   {
    "duration": 45,
    "start_time": "2022-11-20T15:23:26.158Z"
   },
   {
    "duration": 24,
    "start_time": "2022-11-20T15:23:26.205Z"
   },
   {
    "duration": 35,
    "start_time": "2022-11-20T15:23:26.231Z"
   },
   {
    "duration": 52,
    "start_time": "2022-11-20T15:23:26.267Z"
   },
   {
    "duration": 26,
    "start_time": "2022-11-20T15:23:26.321Z"
   },
   {
    "duration": 52,
    "start_time": "2022-11-20T15:23:26.349Z"
   },
   {
    "duration": 135,
    "start_time": "2022-11-20T15:23:26.402Z"
   },
   {
    "duration": 8,
    "start_time": "2022-11-20T15:23:26.538Z"
   },
   {
    "duration": 874,
    "start_time": "2022-11-20T15:23:26.547Z"
   },
   {
    "duration": 0,
    "start_time": "2022-11-20T15:23:27.423Z"
   },
   {
    "duration": 0,
    "start_time": "2022-11-20T15:23:27.424Z"
   },
   {
    "duration": 0,
    "start_time": "2022-11-20T15:23:27.424Z"
   },
   {
    "duration": 0,
    "start_time": "2022-11-20T15:23:27.425Z"
   },
   {
    "duration": 0,
    "start_time": "2022-11-20T15:23:27.426Z"
   },
   {
    "duration": 0,
    "start_time": "2022-11-20T15:23:27.427Z"
   },
   {
    "duration": 0,
    "start_time": "2022-11-20T15:23:27.428Z"
   },
   {
    "duration": 0,
    "start_time": "2022-11-20T15:23:27.429Z"
   },
   {
    "duration": 0,
    "start_time": "2022-11-20T15:23:27.430Z"
   },
   {
    "duration": 555,
    "start_time": "2022-11-20T15:24:43.640Z"
   },
   {
    "duration": 569,
    "start_time": "2022-11-20T15:24:55.456Z"
   },
   {
    "duration": 11,
    "start_time": "2022-11-20T15:26:41.073Z"
   },
   {
    "duration": 24,
    "start_time": "2022-11-20T15:27:18.121Z"
   },
   {
    "duration": 10,
    "start_time": "2022-11-20T15:28:03.296Z"
   },
   {
    "duration": 834,
    "start_time": "2022-11-20T15:28:39.668Z"
   },
   {
    "duration": 715,
    "start_time": "2022-11-20T15:28:45.018Z"
   },
   {
    "duration": 25,
    "start_time": "2022-11-20T15:28:50.193Z"
   },
   {
    "duration": 743,
    "start_time": "2022-11-20T15:32:09.003Z"
   },
   {
    "duration": 14,
    "start_time": "2022-11-20T15:32:09.747Z"
   },
   {
    "duration": 11,
    "start_time": "2022-11-20T15:32:09.763Z"
   },
   {
    "duration": 23,
    "start_time": "2022-11-20T15:32:09.776Z"
   },
   {
    "duration": 6,
    "start_time": "2022-11-20T15:32:09.800Z"
   },
   {
    "duration": 51,
    "start_time": "2022-11-20T15:32:09.807Z"
   },
   {
    "duration": 10,
    "start_time": "2022-11-20T15:32:09.859Z"
   },
   {
    "duration": 14,
    "start_time": "2022-11-20T15:32:09.871Z"
   },
   {
    "duration": 12,
    "start_time": "2022-11-20T15:32:09.886Z"
   },
   {
    "duration": 18,
    "start_time": "2022-11-20T15:32:09.900Z"
   },
   {
    "duration": 11,
    "start_time": "2022-11-20T15:32:09.920Z"
   },
   {
    "duration": 15,
    "start_time": "2022-11-20T15:32:09.932Z"
   },
   {
    "duration": 9,
    "start_time": "2022-11-20T15:32:09.949Z"
   },
   {
    "duration": 7,
    "start_time": "2022-11-20T15:32:09.960Z"
   },
   {
    "duration": 12,
    "start_time": "2022-11-20T15:32:09.969Z"
   },
   {
    "duration": 10,
    "start_time": "2022-11-20T15:32:09.997Z"
   },
   {
    "duration": 71,
    "start_time": "2022-11-20T15:32:10.009Z"
   },
   {
    "duration": 5,
    "start_time": "2022-11-20T15:32:10.097Z"
   },
   {
    "duration": 19,
    "start_time": "2022-11-20T15:32:10.104Z"
   },
   {
    "duration": 9,
    "start_time": "2022-11-20T15:32:10.125Z"
   },
   {
    "duration": 24,
    "start_time": "2022-11-20T15:32:10.135Z"
   },
   {
    "duration": 41,
    "start_time": "2022-11-20T15:32:10.160Z"
   },
   {
    "duration": 20,
    "start_time": "2022-11-20T15:32:10.202Z"
   },
   {
    "duration": 6,
    "start_time": "2022-11-20T15:32:10.223Z"
   },
   {
    "duration": 18,
    "start_time": "2022-11-20T15:32:10.230Z"
   },
   {
    "duration": 16,
    "start_time": "2022-11-20T15:32:10.250Z"
   },
   {
    "duration": 5,
    "start_time": "2022-11-20T15:32:10.267Z"
   },
   {
    "duration": 13,
    "start_time": "2022-11-20T15:32:10.297Z"
   },
   {
    "duration": 14,
    "start_time": "2022-11-20T15:32:10.311Z"
   },
   {
    "duration": 6,
    "start_time": "2022-11-20T15:32:10.326Z"
   },
   {
    "duration": 21,
    "start_time": "2022-11-20T15:32:10.333Z"
   },
   {
    "duration": 10,
    "start_time": "2022-11-20T15:32:10.355Z"
   },
   {
    "duration": 42,
    "start_time": "2022-11-20T15:32:10.366Z"
   },
   {
    "duration": 16,
    "start_time": "2022-11-20T15:32:10.410Z"
   },
   {
    "duration": 17,
    "start_time": "2022-11-20T15:32:10.427Z"
   },
   {
    "duration": 10,
    "start_time": "2022-11-20T15:32:10.446Z"
   },
   {
    "duration": 14,
    "start_time": "2022-11-20T15:32:10.458Z"
   },
   {
    "duration": 34,
    "start_time": "2022-11-20T15:32:10.474Z"
   },
   {
    "duration": 13,
    "start_time": "2022-11-20T15:32:10.510Z"
   },
   {
    "duration": 16,
    "start_time": "2022-11-20T15:32:10.525Z"
   },
   {
    "duration": 7,
    "start_time": "2022-11-20T15:32:10.543Z"
   },
   {
    "duration": 85,
    "start_time": "2022-11-20T15:32:10.551Z"
   },
   {
    "duration": 7,
    "start_time": "2022-11-20T15:32:10.637Z"
   },
   {
    "duration": 22,
    "start_time": "2022-11-20T15:32:10.646Z"
   },
   {
    "duration": 6,
    "start_time": "2022-11-20T15:32:10.670Z"
   },
   {
    "duration": 23,
    "start_time": "2022-11-20T15:32:10.677Z"
   },
   {
    "duration": 4,
    "start_time": "2022-11-20T15:32:10.701Z"
   },
   {
    "duration": 15,
    "start_time": "2022-11-20T15:32:10.707Z"
   },
   {
    "duration": 124,
    "start_time": "2022-11-20T15:32:10.723Z"
   },
   {
    "duration": 107,
    "start_time": "2022-11-20T15:32:10.849Z"
   },
   {
    "duration": 113,
    "start_time": "2022-11-20T15:32:10.957Z"
   },
   {
    "duration": 5,
    "start_time": "2022-11-20T15:32:11.071Z"
   },
   {
    "duration": 157,
    "start_time": "2022-11-20T15:32:11.078Z"
   },
   {
    "duration": 15,
    "start_time": "2022-11-20T15:32:11.237Z"
   },
   {
    "duration": 13,
    "start_time": "2022-11-20T15:32:11.254Z"
   },
   {
    "duration": 9,
    "start_time": "2022-11-20T15:32:11.268Z"
   },
   {
    "duration": 42,
    "start_time": "2022-11-20T15:32:11.278Z"
   },
   {
    "duration": 26,
    "start_time": "2022-11-20T15:32:11.322Z"
   },
   {
    "duration": 10,
    "start_time": "2022-11-20T15:32:11.349Z"
   },
   {
    "duration": 14,
    "start_time": "2022-11-20T15:32:11.360Z"
   },
   {
    "duration": 6,
    "start_time": "2022-11-20T15:32:11.375Z"
   },
   {
    "duration": 18,
    "start_time": "2022-11-20T15:32:11.382Z"
   },
   {
    "duration": 12,
    "start_time": "2022-11-20T15:32:11.402Z"
   },
   {
    "duration": 4,
    "start_time": "2022-11-20T15:32:11.416Z"
   },
   {
    "duration": 129,
    "start_time": "2022-11-20T15:32:11.421Z"
   },
   {
    "duration": 7,
    "start_time": "2022-11-20T15:32:11.552Z"
   },
   {
    "duration": 8,
    "start_time": "2022-11-20T15:32:11.561Z"
   },
   {
    "duration": 8,
    "start_time": "2022-11-20T15:32:11.570Z"
   },
   {
    "duration": 22,
    "start_time": "2022-11-20T15:32:11.579Z"
   },
   {
    "duration": 6,
    "start_time": "2022-11-20T15:32:11.602Z"
   },
   {
    "duration": 8,
    "start_time": "2022-11-20T15:32:11.610Z"
   },
   {
    "duration": 8,
    "start_time": "2022-11-20T15:32:11.619Z"
   },
   {
    "duration": 8,
    "start_time": "2022-11-20T15:32:11.629Z"
   },
   {
    "duration": 8,
    "start_time": "2022-11-20T15:32:11.638Z"
   },
   {
    "duration": 7,
    "start_time": "2022-11-20T15:32:11.648Z"
   },
   {
    "duration": 40,
    "start_time": "2022-11-20T15:32:11.657Z"
   },
   {
    "duration": 16,
    "start_time": "2022-11-20T15:32:11.699Z"
   },
   {
    "duration": 152,
    "start_time": "2022-11-20T15:32:11.717Z"
   },
   {
    "duration": 145,
    "start_time": "2022-11-20T15:32:11.870Z"
   },
   {
    "duration": 146,
    "start_time": "2022-11-20T15:32:12.017Z"
   },
   {
    "duration": 154,
    "start_time": "2022-11-20T15:32:12.165Z"
   },
   {
    "duration": 143,
    "start_time": "2022-11-20T15:32:12.324Z"
   },
   {
    "duration": 10,
    "start_time": "2022-11-20T15:32:12.469Z"
   },
   {
    "duration": 17,
    "start_time": "2022-11-20T15:32:12.480Z"
   },
   {
    "duration": 5,
    "start_time": "2022-11-20T15:32:12.499Z"
   },
   {
    "duration": 8,
    "start_time": "2022-11-20T15:32:12.505Z"
   },
   {
    "duration": 8,
    "start_time": "2022-11-20T15:32:12.514Z"
   },
   {
    "duration": 8,
    "start_time": "2022-11-20T15:32:12.524Z"
   },
   {
    "duration": 9,
    "start_time": "2022-11-20T15:32:12.534Z"
   },
   {
    "duration": 15,
    "start_time": "2022-11-20T15:32:12.544Z"
   },
   {
    "duration": 8,
    "start_time": "2022-11-20T15:32:12.560Z"
   },
   {
    "duration": 7,
    "start_time": "2022-11-20T15:32:12.569Z"
   },
   {
    "duration": 23,
    "start_time": "2022-11-20T15:32:12.597Z"
   },
   {
    "duration": 24,
    "start_time": "2022-11-20T15:32:12.621Z"
   },
   {
    "duration": 24,
    "start_time": "2022-11-20T15:32:12.646Z"
   },
   {
    "duration": 51,
    "start_time": "2022-11-20T15:32:12.671Z"
   },
   {
    "duration": 32,
    "start_time": "2022-11-20T15:32:12.723Z"
   },
   {
    "duration": 44,
    "start_time": "2022-11-20T15:32:12.756Z"
   },
   {
    "duration": 25,
    "start_time": "2022-11-20T15:32:12.801Z"
   },
   {
    "duration": 150,
    "start_time": "2022-11-20T15:32:12.828Z"
   },
   {
    "duration": 8,
    "start_time": "2022-11-20T15:32:12.979Z"
   },
   {
    "duration": 17,
    "start_time": "2022-11-20T15:32:12.989Z"
   },
   {
    "duration": 18,
    "start_time": "2022-11-20T15:32:13.007Z"
   },
   {
    "duration": 31,
    "start_time": "2022-11-20T15:32:13.026Z"
   },
   {
    "duration": 35,
    "start_time": "2022-11-20T15:32:13.058Z"
   },
   {
    "duration": 41,
    "start_time": "2022-11-20T15:32:13.094Z"
   },
   {
    "duration": 26,
    "start_time": "2022-11-20T15:32:13.136Z"
   },
   {
    "duration": 52,
    "start_time": "2022-11-20T15:32:13.163Z"
   },
   {
    "duration": 23,
    "start_time": "2022-11-20T15:32:13.216Z"
   },
   {
    "duration": 29,
    "start_time": "2022-11-20T15:32:13.241Z"
   },
   {
    "duration": 37,
    "start_time": "2022-11-20T15:32:13.271Z"
   },
   {
    "duration": 724,
    "start_time": "2022-11-20T15:34:35.714Z"
   },
   {
    "duration": 14,
    "start_time": "2022-11-20T15:34:36.439Z"
   },
   {
    "duration": 18,
    "start_time": "2022-11-20T15:34:36.455Z"
   },
   {
    "duration": 18,
    "start_time": "2022-11-20T15:34:36.475Z"
   },
   {
    "duration": 8,
    "start_time": "2022-11-20T15:34:36.494Z"
   },
   {
    "duration": 77,
    "start_time": "2022-11-20T15:34:36.503Z"
   },
   {
    "duration": 10,
    "start_time": "2022-11-20T15:34:36.581Z"
   },
   {
    "duration": 23,
    "start_time": "2022-11-20T15:34:36.593Z"
   },
   {
    "duration": 32,
    "start_time": "2022-11-20T15:34:36.617Z"
   },
   {
    "duration": 30,
    "start_time": "2022-11-20T15:34:36.652Z"
   },
   {
    "duration": 27,
    "start_time": "2022-11-20T15:34:36.684Z"
   },
   {
    "duration": 32,
    "start_time": "2022-11-20T15:34:36.712Z"
   },
   {
    "duration": 35,
    "start_time": "2022-11-20T15:34:36.746Z"
   },
   {
    "duration": 38,
    "start_time": "2022-11-20T15:34:36.782Z"
   },
   {
    "duration": 25,
    "start_time": "2022-11-20T15:34:36.822Z"
   },
   {
    "duration": 45,
    "start_time": "2022-11-20T15:34:36.849Z"
   },
   {
    "duration": 70,
    "start_time": "2022-11-20T15:34:36.896Z"
   },
   {
    "duration": 4,
    "start_time": "2022-11-20T15:34:36.968Z"
   },
   {
    "duration": 44,
    "start_time": "2022-11-20T15:34:36.974Z"
   },
   {
    "duration": 21,
    "start_time": "2022-11-20T15:34:37.020Z"
   },
   {
    "duration": 44,
    "start_time": "2022-11-20T15:34:37.043Z"
   },
   {
    "duration": 18,
    "start_time": "2022-11-20T15:34:37.089Z"
   },
   {
    "duration": 36,
    "start_time": "2022-11-20T15:34:37.109Z"
   },
   {
    "duration": 28,
    "start_time": "2022-11-20T15:34:37.147Z"
   },
   {
    "duration": 38,
    "start_time": "2022-11-20T15:34:37.177Z"
   },
   {
    "duration": 30,
    "start_time": "2022-11-20T15:34:37.217Z"
   },
   {
    "duration": 14,
    "start_time": "2022-11-20T15:34:37.249Z"
   },
   {
    "duration": 23,
    "start_time": "2022-11-20T15:34:37.267Z"
   },
   {
    "duration": 27,
    "start_time": "2022-11-20T15:34:37.292Z"
   },
   {
    "duration": 19,
    "start_time": "2022-11-20T15:34:37.321Z"
   },
   {
    "duration": 45,
    "start_time": "2022-11-20T15:34:37.342Z"
   },
   {
    "duration": 27,
    "start_time": "2022-11-20T15:34:37.389Z"
   },
   {
    "duration": 55,
    "start_time": "2022-11-20T15:34:37.418Z"
   },
   {
    "duration": 56,
    "start_time": "2022-11-20T15:34:37.475Z"
   },
   {
    "duration": 53,
    "start_time": "2022-11-20T15:34:37.533Z"
   },
   {
    "duration": 33,
    "start_time": "2022-11-20T15:34:37.587Z"
   },
   {
    "duration": 35,
    "start_time": "2022-11-20T15:34:37.621Z"
   },
   {
    "duration": 38,
    "start_time": "2022-11-20T15:34:37.657Z"
   },
   {
    "duration": 52,
    "start_time": "2022-11-20T15:34:37.697Z"
   },
   {
    "duration": 38,
    "start_time": "2022-11-20T15:34:37.750Z"
   },
   {
    "duration": 47,
    "start_time": "2022-11-20T15:34:37.789Z"
   },
   {
    "duration": 99,
    "start_time": "2022-11-20T15:34:37.838Z"
   },
   {
    "duration": 8,
    "start_time": "2022-11-20T15:34:37.939Z"
   },
   {
    "duration": 60,
    "start_time": "2022-11-20T15:34:37.949Z"
   },
   {
    "duration": 45,
    "start_time": "2022-11-20T15:34:38.011Z"
   },
   {
    "duration": 33,
    "start_time": "2022-11-20T15:34:38.058Z"
   },
   {
    "duration": 25,
    "start_time": "2022-11-20T15:34:38.092Z"
   },
   {
    "duration": 41,
    "start_time": "2022-11-20T15:34:38.119Z"
   },
   {
    "duration": 172,
    "start_time": "2022-11-20T15:34:38.162Z"
   },
   {
    "duration": 122,
    "start_time": "2022-11-20T15:34:38.336Z"
   },
   {
    "duration": 110,
    "start_time": "2022-11-20T15:34:38.460Z"
   },
   {
    "duration": 5,
    "start_time": "2022-11-20T15:34:38.572Z"
   },
   {
    "duration": 175,
    "start_time": "2022-11-20T15:34:38.578Z"
   },
   {
    "duration": 16,
    "start_time": "2022-11-20T15:34:38.755Z"
   },
   {
    "duration": 27,
    "start_time": "2022-11-20T15:34:38.772Z"
   },
   {
    "duration": 18,
    "start_time": "2022-11-20T15:34:38.800Z"
   },
   {
    "duration": 42,
    "start_time": "2022-11-20T15:34:38.819Z"
   },
   {
    "duration": 34,
    "start_time": "2022-11-20T15:34:38.862Z"
   },
   {
    "duration": 28,
    "start_time": "2022-11-20T15:34:38.898Z"
   },
   {
    "duration": 20,
    "start_time": "2022-11-20T15:34:38.928Z"
   },
   {
    "duration": 6,
    "start_time": "2022-11-20T15:34:38.950Z"
   },
   {
    "duration": 15,
    "start_time": "2022-11-20T15:34:38.957Z"
   },
   {
    "duration": 15,
    "start_time": "2022-11-20T15:34:38.974Z"
   },
   {
    "duration": 5,
    "start_time": "2022-11-20T15:34:38.998Z"
   },
   {
    "duration": 140,
    "start_time": "2022-11-20T15:34:39.005Z"
   },
   {
    "duration": 8,
    "start_time": "2022-11-20T15:34:39.146Z"
   },
   {
    "duration": 15,
    "start_time": "2022-11-20T15:34:39.155Z"
   },
   {
    "duration": 8,
    "start_time": "2022-11-20T15:34:39.171Z"
   },
   {
    "duration": 22,
    "start_time": "2022-11-20T15:34:39.180Z"
   },
   {
    "duration": 9,
    "start_time": "2022-11-20T15:34:39.204Z"
   },
   {
    "duration": 10,
    "start_time": "2022-11-20T15:34:39.214Z"
   },
   {
    "duration": 9,
    "start_time": "2022-11-20T15:34:39.225Z"
   },
   {
    "duration": 9,
    "start_time": "2022-11-20T15:34:39.235Z"
   },
   {
    "duration": 8,
    "start_time": "2022-11-20T15:34:39.245Z"
   },
   {
    "duration": 11,
    "start_time": "2022-11-20T15:34:39.255Z"
   },
   {
    "duration": 6,
    "start_time": "2022-11-20T15:34:39.298Z"
   },
   {
    "duration": 28,
    "start_time": "2022-11-20T15:34:39.305Z"
   },
   {
    "duration": 151,
    "start_time": "2022-11-20T15:34:39.334Z"
   },
   {
    "duration": 166,
    "start_time": "2022-11-20T15:34:39.487Z"
   },
   {
    "duration": 154,
    "start_time": "2022-11-20T15:34:39.655Z"
   },
   {
    "duration": 164,
    "start_time": "2022-11-20T15:34:39.811Z"
   },
   {
    "duration": 179,
    "start_time": "2022-11-20T15:34:39.981Z"
   },
   {
    "duration": 14,
    "start_time": "2022-11-20T15:34:40.162Z"
   },
   {
    "duration": 20,
    "start_time": "2022-11-20T15:34:40.178Z"
   },
   {
    "duration": 8,
    "start_time": "2022-11-20T15:34:40.200Z"
   },
   {
    "duration": 12,
    "start_time": "2022-11-20T15:34:40.210Z"
   },
   {
    "duration": 12,
    "start_time": "2022-11-20T15:34:40.224Z"
   },
   {
    "duration": 8,
    "start_time": "2022-11-20T15:34:40.237Z"
   },
   {
    "duration": 13,
    "start_time": "2022-11-20T15:34:40.247Z"
   },
   {
    "duration": 21,
    "start_time": "2022-11-20T15:34:40.262Z"
   },
   {
    "duration": 7,
    "start_time": "2022-11-20T15:34:40.298Z"
   },
   {
    "duration": 10,
    "start_time": "2022-11-20T15:34:40.307Z"
   },
   {
    "duration": 33,
    "start_time": "2022-11-20T15:34:40.318Z"
   },
   {
    "duration": 52,
    "start_time": "2022-11-20T15:34:40.353Z"
   },
   {
    "duration": 29,
    "start_time": "2022-11-20T15:34:40.407Z"
   },
   {
    "duration": 36,
    "start_time": "2022-11-20T15:34:40.438Z"
   },
   {
    "duration": 51,
    "start_time": "2022-11-20T15:34:40.476Z"
   },
   {
    "duration": 30,
    "start_time": "2022-11-20T15:34:40.529Z"
   },
   {
    "duration": 62,
    "start_time": "2022-11-20T15:34:40.561Z"
   },
   {
    "duration": 176,
    "start_time": "2022-11-20T15:34:40.625Z"
   },
   {
    "duration": 9,
    "start_time": "2022-11-20T15:34:40.803Z"
   },
   {
    "duration": 30,
    "start_time": "2022-11-20T15:34:40.814Z"
   },
   {
    "duration": 13,
    "start_time": "2022-11-20T15:34:40.847Z"
   },
   {
    "duration": 11,
    "start_time": "2022-11-20T15:34:40.862Z"
   },
   {
    "duration": 43,
    "start_time": "2022-11-20T15:34:40.875Z"
   },
   {
    "duration": 28,
    "start_time": "2022-11-20T15:34:40.920Z"
   },
   {
    "duration": 54,
    "start_time": "2022-11-20T15:34:40.950Z"
   },
   {
    "duration": 49,
    "start_time": "2022-11-20T15:34:41.006Z"
   },
   {
    "duration": 41,
    "start_time": "2022-11-20T15:34:41.057Z"
   },
   {
    "duration": 28,
    "start_time": "2022-11-20T15:34:41.100Z"
   },
   {
    "duration": 30,
    "start_time": "2022-11-20T15:34:41.130Z"
   },
   {
    "duration": 193,
    "start_time": "2022-11-20T15:34:41.162Z"
   },
   {
    "duration": 9,
    "start_time": "2022-11-20T15:34:41.357Z"
   },
   {
    "duration": 813,
    "start_time": "2022-11-20T15:36:09.476Z"
   },
   {
    "duration": 15,
    "start_time": "2022-11-20T15:36:10.291Z"
   },
   {
    "duration": 26,
    "start_time": "2022-11-20T15:36:10.308Z"
   },
   {
    "duration": 16,
    "start_time": "2022-11-20T15:36:10.336Z"
   },
   {
    "duration": 37,
    "start_time": "2022-11-20T15:36:10.353Z"
   },
   {
    "duration": 63,
    "start_time": "2022-11-20T15:36:10.391Z"
   },
   {
    "duration": 10,
    "start_time": "2022-11-20T15:36:10.455Z"
   },
   {
    "duration": 24,
    "start_time": "2022-11-20T15:36:10.467Z"
   },
   {
    "duration": 18,
    "start_time": "2022-11-20T15:36:10.493Z"
   },
   {
    "duration": 49,
    "start_time": "2022-11-20T15:36:10.514Z"
   },
   {
    "duration": 21,
    "start_time": "2022-11-20T15:36:10.565Z"
   },
   {
    "duration": 28,
    "start_time": "2022-11-20T15:36:10.588Z"
   },
   {
    "duration": 18,
    "start_time": "2022-11-20T15:36:10.617Z"
   },
   {
    "duration": 26,
    "start_time": "2022-11-20T15:36:10.637Z"
   },
   {
    "duration": 45,
    "start_time": "2022-11-20T15:36:10.665Z"
   },
   {
    "duration": 23,
    "start_time": "2022-11-20T15:36:10.712Z"
   },
   {
    "duration": 110,
    "start_time": "2022-11-20T15:36:10.737Z"
   },
   {
    "duration": 5,
    "start_time": "2022-11-20T15:36:10.849Z"
   },
   {
    "duration": 44,
    "start_time": "2022-11-20T15:36:10.855Z"
   },
   {
    "duration": 29,
    "start_time": "2022-11-20T15:36:10.901Z"
   },
   {
    "duration": 56,
    "start_time": "2022-11-20T15:36:10.932Z"
   },
   {
    "duration": 20,
    "start_time": "2022-11-20T15:36:10.990Z"
   },
   {
    "duration": 45,
    "start_time": "2022-11-20T15:36:11.012Z"
   },
   {
    "duration": 12,
    "start_time": "2022-11-20T15:36:11.059Z"
   },
   {
    "duration": 34,
    "start_time": "2022-11-20T15:36:11.074Z"
   },
   {
    "duration": 31,
    "start_time": "2022-11-20T15:36:11.110Z"
   },
   {
    "duration": 8,
    "start_time": "2022-11-20T15:36:11.143Z"
   },
   {
    "duration": 23,
    "start_time": "2022-11-20T15:36:11.155Z"
   },
   {
    "duration": 17,
    "start_time": "2022-11-20T15:36:11.179Z"
   },
   {
    "duration": 36,
    "start_time": "2022-11-20T15:36:11.197Z"
   },
   {
    "duration": 56,
    "start_time": "2022-11-20T15:36:11.234Z"
   },
   {
    "duration": 10,
    "start_time": "2022-11-20T15:36:11.291Z"
   },
   {
    "duration": 44,
    "start_time": "2022-11-20T15:36:11.302Z"
   },
   {
    "duration": 25,
    "start_time": "2022-11-20T15:36:11.348Z"
   },
   {
    "duration": 20,
    "start_time": "2022-11-20T15:36:11.375Z"
   },
   {
    "duration": 38,
    "start_time": "2022-11-20T15:36:11.397Z"
   },
   {
    "duration": 22,
    "start_time": "2022-11-20T15:36:11.436Z"
   },
   {
    "duration": 57,
    "start_time": "2022-11-20T15:36:11.459Z"
   },
   {
    "duration": 78,
    "start_time": "2022-11-20T15:36:11.518Z"
   },
   {
    "duration": 26,
    "start_time": "2022-11-20T15:36:11.598Z"
   },
   {
    "duration": 43,
    "start_time": "2022-11-20T15:36:11.626Z"
   },
   {
    "duration": 80,
    "start_time": "2022-11-20T15:36:11.671Z"
   },
   {
    "duration": 7,
    "start_time": "2022-11-20T15:36:11.753Z"
   },
   {
    "duration": 55,
    "start_time": "2022-11-20T15:36:11.761Z"
   },
   {
    "duration": 46,
    "start_time": "2022-11-20T15:36:11.818Z"
   },
   {
    "duration": 25,
    "start_time": "2022-11-20T15:36:11.866Z"
   },
   {
    "duration": 32,
    "start_time": "2022-11-20T15:36:11.893Z"
   },
   {
    "duration": 37,
    "start_time": "2022-11-20T15:36:11.927Z"
   },
   {
    "duration": 157,
    "start_time": "2022-11-20T15:36:11.965Z"
   },
   {
    "duration": 116,
    "start_time": "2022-11-20T15:36:12.124Z"
   },
   {
    "duration": 127,
    "start_time": "2022-11-20T15:36:12.241Z"
   },
   {
    "duration": 5,
    "start_time": "2022-11-20T15:36:12.370Z"
   },
   {
    "duration": 179,
    "start_time": "2022-11-20T15:36:12.377Z"
   },
   {
    "duration": 17,
    "start_time": "2022-11-20T15:36:12.557Z"
   },
   {
    "duration": 43,
    "start_time": "2022-11-20T15:36:12.575Z"
   },
   {
    "duration": 20,
    "start_time": "2022-11-20T15:36:12.620Z"
   },
   {
    "duration": 29,
    "start_time": "2022-11-20T15:36:12.642Z"
   },
   {
    "duration": 29,
    "start_time": "2022-11-20T15:36:12.673Z"
   },
   {
    "duration": 13,
    "start_time": "2022-11-20T15:36:12.704Z"
   },
   {
    "duration": 28,
    "start_time": "2022-11-20T15:36:12.719Z"
   },
   {
    "duration": 7,
    "start_time": "2022-11-20T15:36:12.748Z"
   },
   {
    "duration": 23,
    "start_time": "2022-11-20T15:36:12.756Z"
   },
   {
    "duration": 35,
    "start_time": "2022-11-20T15:36:12.781Z"
   },
   {
    "duration": 24,
    "start_time": "2022-11-20T15:36:12.818Z"
   },
   {
    "duration": 155,
    "start_time": "2022-11-20T15:36:12.843Z"
   },
   {
    "duration": 9,
    "start_time": "2022-11-20T15:36:13.000Z"
   },
   {
    "duration": 11,
    "start_time": "2022-11-20T15:36:13.011Z"
   },
   {
    "duration": 8,
    "start_time": "2022-11-20T15:36:13.025Z"
   },
   {
    "duration": 8,
    "start_time": "2022-11-20T15:36:13.035Z"
   },
   {
    "duration": 12,
    "start_time": "2022-11-20T15:36:13.044Z"
   },
   {
    "duration": 40,
    "start_time": "2022-11-20T15:36:13.058Z"
   },
   {
    "duration": 24,
    "start_time": "2022-11-20T15:36:13.101Z"
   },
   {
    "duration": 13,
    "start_time": "2022-11-20T15:36:13.126Z"
   },
   {
    "duration": 13,
    "start_time": "2022-11-20T15:36:13.140Z"
   },
   {
    "duration": 9,
    "start_time": "2022-11-20T15:36:13.154Z"
   },
   {
    "duration": 13,
    "start_time": "2022-11-20T15:36:13.164Z"
   },
   {
    "duration": 30,
    "start_time": "2022-11-20T15:36:13.179Z"
   },
   {
    "duration": 181,
    "start_time": "2022-11-20T15:36:13.211Z"
   },
   {
    "duration": 164,
    "start_time": "2022-11-20T15:36:13.396Z"
   },
   {
    "duration": 174,
    "start_time": "2022-11-20T15:36:13.561Z"
   },
   {
    "duration": 187,
    "start_time": "2022-11-20T15:36:13.738Z"
   },
   {
    "duration": 178,
    "start_time": "2022-11-20T15:36:13.931Z"
   },
   {
    "duration": 15,
    "start_time": "2022-11-20T15:36:14.111Z"
   },
   {
    "duration": 14,
    "start_time": "2022-11-20T15:36:14.128Z"
   },
   {
    "duration": 6,
    "start_time": "2022-11-20T15:36:14.144Z"
   },
   {
    "duration": 7,
    "start_time": "2022-11-20T15:36:14.152Z"
   },
   {
    "duration": 9,
    "start_time": "2022-11-20T15:36:14.160Z"
   },
   {
    "duration": 36,
    "start_time": "2022-11-20T15:36:14.171Z"
   },
   {
    "duration": 8,
    "start_time": "2022-11-20T15:36:14.209Z"
   },
   {
    "duration": 14,
    "start_time": "2022-11-20T15:36:14.219Z"
   },
   {
    "duration": 14,
    "start_time": "2022-11-20T15:36:14.234Z"
   },
   {
    "duration": 8,
    "start_time": "2022-11-20T15:36:14.250Z"
   },
   {
    "duration": 26,
    "start_time": "2022-11-20T15:36:14.260Z"
   },
   {
    "duration": 34,
    "start_time": "2022-11-20T15:36:14.287Z"
   },
   {
    "duration": 35,
    "start_time": "2022-11-20T15:36:14.323Z"
   },
   {
    "duration": 49,
    "start_time": "2022-11-20T15:36:14.360Z"
   },
   {
    "duration": 30,
    "start_time": "2022-11-20T15:36:14.411Z"
   },
   {
    "duration": 27,
    "start_time": "2022-11-20T15:36:14.443Z"
   },
   {
    "duration": 53,
    "start_time": "2022-11-20T15:36:14.471Z"
   },
   {
    "duration": 176,
    "start_time": "2022-11-20T15:36:14.526Z"
   },
   {
    "duration": 8,
    "start_time": "2022-11-20T15:36:14.704Z"
   },
   {
    "duration": 18,
    "start_time": "2022-11-20T15:36:14.713Z"
   },
   {
    "duration": 45,
    "start_time": "2022-11-20T15:36:14.733Z"
   },
   {
    "duration": 15,
    "start_time": "2022-11-20T15:36:14.779Z"
   },
   {
    "duration": 38,
    "start_time": "2022-11-20T15:36:14.796Z"
   },
   {
    "duration": 38,
    "start_time": "2022-11-20T15:36:14.836Z"
   },
   {
    "duration": 43,
    "start_time": "2022-11-20T15:36:14.876Z"
   },
   {
    "duration": 34,
    "start_time": "2022-11-20T15:36:14.920Z"
   },
   {
    "duration": 60,
    "start_time": "2022-11-20T15:36:14.956Z"
   },
   {
    "duration": 58,
    "start_time": "2022-11-20T15:36:15.018Z"
   },
   {
    "duration": 61,
    "start_time": "2022-11-20T15:36:15.078Z"
   },
   {
    "duration": 188,
    "start_time": "2022-11-20T15:36:15.142Z"
   },
   {
    "duration": 9,
    "start_time": "2022-11-20T15:36:15.331Z"
   },
   {
    "duration": 8,
    "start_time": "2022-11-20T15:36:38.333Z"
   },
   {
    "duration": 26,
    "start_time": "2022-11-20T15:38:00.150Z"
   },
   {
    "duration": 7,
    "start_time": "2022-11-20T15:39:12.247Z"
   },
   {
    "duration": 5,
    "start_time": "2022-11-20T15:40:07.840Z"
   },
   {
    "duration": 7,
    "start_time": "2022-11-20T15:41:19.063Z"
   },
   {
    "duration": 7,
    "start_time": "2022-11-20T15:41:39.557Z"
   },
   {
    "duration": 9,
    "start_time": "2022-11-20T16:26:44.288Z"
   },
   {
    "duration": 868,
    "start_time": "2022-11-20T16:26:51.070Z"
   },
   {
    "duration": 14,
    "start_time": "2022-11-20T16:26:51.940Z"
   },
   {
    "duration": 33,
    "start_time": "2022-11-20T16:26:51.958Z"
   },
   {
    "duration": 12,
    "start_time": "2022-11-20T16:26:51.992Z"
   },
   {
    "duration": 13,
    "start_time": "2022-11-20T16:26:52.006Z"
   },
   {
    "duration": 82,
    "start_time": "2022-11-20T16:26:52.020Z"
   },
   {
    "duration": 9,
    "start_time": "2022-11-20T16:26:52.103Z"
   },
   {
    "duration": 30,
    "start_time": "2022-11-20T16:26:52.113Z"
   },
   {
    "duration": 38,
    "start_time": "2022-11-20T16:26:52.145Z"
   },
   {
    "duration": 31,
    "start_time": "2022-11-20T16:26:52.185Z"
   },
   {
    "duration": 19,
    "start_time": "2022-11-20T16:26:52.218Z"
   },
   {
    "duration": 61,
    "start_time": "2022-11-20T16:26:52.238Z"
   },
   {
    "duration": 10,
    "start_time": "2022-11-20T16:26:52.301Z"
   },
   {
    "duration": 13,
    "start_time": "2022-11-20T16:26:52.312Z"
   },
   {
    "duration": 25,
    "start_time": "2022-11-20T16:26:52.326Z"
   },
   {
    "duration": 30,
    "start_time": "2022-11-20T16:26:52.352Z"
   },
   {
    "duration": 51,
    "start_time": "2022-11-20T16:26:52.397Z"
   },
   {
    "duration": 3,
    "start_time": "2022-11-20T16:26:52.450Z"
   },
   {
    "duration": 50,
    "start_time": "2022-11-20T16:26:52.455Z"
   },
   {
    "duration": 22,
    "start_time": "2022-11-20T16:26:52.507Z"
   },
   {
    "duration": 35,
    "start_time": "2022-11-20T16:26:52.530Z"
   },
   {
    "duration": 17,
    "start_time": "2022-11-20T16:26:52.566Z"
   },
   {
    "duration": 28,
    "start_time": "2022-11-20T16:26:52.584Z"
   },
   {
    "duration": 20,
    "start_time": "2022-11-20T16:26:52.614Z"
   },
   {
    "duration": 37,
    "start_time": "2022-11-20T16:26:52.636Z"
   },
   {
    "duration": 28,
    "start_time": "2022-11-20T16:26:52.675Z"
   },
   {
    "duration": 23,
    "start_time": "2022-11-20T16:26:52.707Z"
   },
   {
    "duration": 39,
    "start_time": "2022-11-20T16:26:52.731Z"
   },
   {
    "duration": 20,
    "start_time": "2022-11-20T16:26:52.772Z"
   },
   {
    "duration": 32,
    "start_time": "2022-11-20T16:26:52.793Z"
   },
   {
    "duration": 23,
    "start_time": "2022-11-20T16:26:52.826Z"
   },
   {
    "duration": 31,
    "start_time": "2022-11-20T16:26:52.850Z"
   },
   {
    "duration": 27,
    "start_time": "2022-11-20T16:26:52.882Z"
   },
   {
    "duration": 26,
    "start_time": "2022-11-20T16:26:52.911Z"
   },
   {
    "duration": 19,
    "start_time": "2022-11-20T16:26:52.939Z"
   },
   {
    "duration": 32,
    "start_time": "2022-11-20T16:26:52.959Z"
   },
   {
    "duration": 24,
    "start_time": "2022-11-20T16:26:52.992Z"
   },
   {
    "duration": 23,
    "start_time": "2022-11-20T16:26:53.017Z"
   },
   {
    "duration": 24,
    "start_time": "2022-11-20T16:26:53.042Z"
   },
   {
    "duration": 38,
    "start_time": "2022-11-20T16:26:53.067Z"
   },
   {
    "duration": 30,
    "start_time": "2022-11-20T16:26:53.106Z"
   },
   {
    "duration": 86,
    "start_time": "2022-11-20T16:26:53.137Z"
   },
   {
    "duration": 7,
    "start_time": "2022-11-20T16:26:53.224Z"
   },
   {
    "duration": 38,
    "start_time": "2022-11-20T16:26:53.232Z"
   },
   {
    "duration": 33,
    "start_time": "2022-11-20T16:26:53.271Z"
   },
   {
    "duration": 36,
    "start_time": "2022-11-20T16:26:53.306Z"
   },
   {
    "duration": 11,
    "start_time": "2022-11-20T16:26:53.344Z"
   },
   {
    "duration": 45,
    "start_time": "2022-11-20T16:26:53.356Z"
   },
   {
    "duration": 119,
    "start_time": "2022-11-20T16:26:53.402Z"
   },
   {
    "duration": 117,
    "start_time": "2022-11-20T16:26:53.522Z"
   },
   {
    "duration": 120,
    "start_time": "2022-11-20T16:26:53.641Z"
   },
   {
    "duration": 4,
    "start_time": "2022-11-20T16:26:53.763Z"
   },
   {
    "duration": 174,
    "start_time": "2022-11-20T16:26:53.769Z"
   },
   {
    "duration": 19,
    "start_time": "2022-11-20T16:26:53.945Z"
   },
   {
    "duration": 31,
    "start_time": "2022-11-20T16:26:53.966Z"
   },
   {
    "duration": 4,
    "start_time": "2022-11-20T16:26:53.999Z"
   },
   {
    "duration": 40,
    "start_time": "2022-11-20T16:26:54.005Z"
   },
   {
    "duration": 26,
    "start_time": "2022-11-20T16:26:54.046Z"
   },
   {
    "duration": 30,
    "start_time": "2022-11-20T16:26:54.073Z"
   },
   {
    "duration": 18,
    "start_time": "2022-11-20T16:26:54.105Z"
   },
   {
    "duration": 44,
    "start_time": "2022-11-20T16:26:54.124Z"
   },
   {
    "duration": 20,
    "start_time": "2022-11-20T16:26:54.169Z"
   },
   {
    "duration": 12,
    "start_time": "2022-11-20T16:26:54.190Z"
   },
   {
    "duration": 34,
    "start_time": "2022-11-20T16:26:54.203Z"
   },
   {
    "duration": 133,
    "start_time": "2022-11-20T16:26:54.238Z"
   },
   {
    "duration": 8,
    "start_time": "2022-11-20T16:26:54.372Z"
   },
   {
    "duration": 24,
    "start_time": "2022-11-20T16:26:54.381Z"
   },
   {
    "duration": 18,
    "start_time": "2022-11-20T16:26:54.406Z"
   },
   {
    "duration": 27,
    "start_time": "2022-11-20T16:26:54.425Z"
   },
   {
    "duration": 38,
    "start_time": "2022-11-20T16:26:54.453Z"
   },
   {
    "duration": 35,
    "start_time": "2022-11-20T16:26:54.492Z"
   },
   {
    "duration": 12,
    "start_time": "2022-11-20T16:26:54.529Z"
   },
   {
    "duration": 8,
    "start_time": "2022-11-20T16:26:54.543Z"
   },
   {
    "duration": 11,
    "start_time": "2022-11-20T16:26:54.552Z"
   },
   {
    "duration": 7,
    "start_time": "2022-11-20T16:26:54.564Z"
   },
   {
    "duration": 9,
    "start_time": "2022-11-20T16:26:54.572Z"
   },
   {
    "duration": 17,
    "start_time": "2022-11-20T16:26:54.582Z"
   },
   {
    "duration": 186,
    "start_time": "2022-11-20T16:26:54.600Z"
   },
   {
    "duration": 168,
    "start_time": "2022-11-20T16:26:54.788Z"
   },
   {
    "duration": 151,
    "start_time": "2022-11-20T16:26:54.957Z"
   },
   {
    "duration": 152,
    "start_time": "2022-11-20T16:26:55.114Z"
   },
   {
    "duration": 141,
    "start_time": "2022-11-20T16:26:55.268Z"
   },
   {
    "duration": 10,
    "start_time": "2022-11-20T16:26:55.411Z"
   },
   {
    "duration": 12,
    "start_time": "2022-11-20T16:26:55.422Z"
   },
   {
    "duration": 10,
    "start_time": "2022-11-20T16:26:55.435Z"
   },
   {
    "duration": 17,
    "start_time": "2022-11-20T16:26:55.446Z"
   },
   {
    "duration": 8,
    "start_time": "2022-11-20T16:26:55.464Z"
   },
   {
    "duration": 10,
    "start_time": "2022-11-20T16:26:55.473Z"
   },
   {
    "duration": 7,
    "start_time": "2022-11-20T16:26:55.484Z"
   },
   {
    "duration": 9,
    "start_time": "2022-11-20T16:26:55.492Z"
   },
   {
    "duration": 13,
    "start_time": "2022-11-20T16:26:55.502Z"
   },
   {
    "duration": 11,
    "start_time": "2022-11-20T16:26:55.516Z"
   },
   {
    "duration": 22,
    "start_time": "2022-11-20T16:26:55.529Z"
   },
   {
    "duration": 22,
    "start_time": "2022-11-20T16:26:55.553Z"
   },
   {
    "duration": 34,
    "start_time": "2022-11-20T16:26:55.576Z"
   },
   {
    "duration": 25,
    "start_time": "2022-11-20T16:26:55.611Z"
   },
   {
    "duration": 25,
    "start_time": "2022-11-20T16:26:55.638Z"
   },
   {
    "duration": 51,
    "start_time": "2022-11-20T16:26:55.664Z"
   },
   {
    "duration": 24,
    "start_time": "2022-11-20T16:26:55.716Z"
   },
   {
    "duration": 145,
    "start_time": "2022-11-20T16:26:55.742Z"
   },
   {
    "duration": 16,
    "start_time": "2022-11-20T16:26:55.888Z"
   },
   {
    "duration": 10,
    "start_time": "2022-11-20T16:26:55.905Z"
   },
   {
    "duration": 11,
    "start_time": "2022-11-20T16:26:55.917Z"
   },
   {
    "duration": 12,
    "start_time": "2022-11-20T16:26:55.929Z"
   },
   {
    "duration": 26,
    "start_time": "2022-11-20T16:26:55.942Z"
   },
   {
    "duration": 28,
    "start_time": "2022-11-20T16:26:55.997Z"
   },
   {
    "duration": 26,
    "start_time": "2022-11-20T16:26:56.027Z"
   },
   {
    "duration": 45,
    "start_time": "2022-11-20T16:26:56.054Z"
   },
   {
    "duration": 24,
    "start_time": "2022-11-20T16:26:56.101Z"
   },
   {
    "duration": 22,
    "start_time": "2022-11-20T16:26:56.127Z"
   },
   {
    "duration": 55,
    "start_time": "2022-11-20T16:26:56.150Z"
   },
   {
    "duration": 139,
    "start_time": "2022-11-20T16:26:56.207Z"
   },
   {
    "duration": 8,
    "start_time": "2022-11-20T16:26:56.348Z"
   },
   {
    "duration": 12,
    "start_time": "2022-11-20T16:26:56.357Z"
   },
   {
    "duration": 5,
    "start_time": "2022-11-20T16:26:56.370Z"
   },
   {
    "duration": 20,
    "start_time": "2022-11-20T16:26:56.377Z"
   },
   {
    "duration": 6,
    "start_time": "2022-11-20T16:26:56.399Z"
   },
   {
    "duration": 4,
    "start_time": "2022-11-20T16:27:49.036Z"
   },
   {
    "duration": 706,
    "start_time": "2022-11-20T16:28:32.219Z"
   },
   {
    "duration": 16,
    "start_time": "2022-11-20T16:28:33.694Z"
   },
   {
    "duration": 5,
    "start_time": "2022-11-20T16:28:40.434Z"
   },
   {
    "duration": 691,
    "start_time": "2022-11-20T16:31:00.462Z"
   },
   {
    "duration": 15,
    "start_time": "2022-11-20T16:31:01.155Z"
   },
   {
    "duration": 19,
    "start_time": "2022-11-20T16:31:01.172Z"
   },
   {
    "duration": 6,
    "start_time": "2022-11-20T16:31:01.197Z"
   },
   {
    "duration": 8,
    "start_time": "2022-11-20T16:31:01.204Z"
   },
   {
    "duration": 47,
    "start_time": "2022-11-20T16:31:01.214Z"
   },
   {
    "duration": 9,
    "start_time": "2022-11-20T16:31:01.262Z"
   },
   {
    "duration": 16,
    "start_time": "2022-11-20T16:31:01.272Z"
   },
   {
    "duration": 14,
    "start_time": "2022-11-20T16:31:01.290Z"
   },
   {
    "duration": 59,
    "start_time": "2022-11-20T16:31:01.306Z"
   },
   {
    "duration": 49,
    "start_time": "2022-11-20T16:31:01.366Z"
   },
   {
    "duration": 36,
    "start_time": "2022-11-20T16:31:01.417Z"
   },
   {
    "duration": 29,
    "start_time": "2022-11-20T16:31:01.455Z"
   },
   {
    "duration": 49,
    "start_time": "2022-11-20T16:31:01.485Z"
   },
   {
    "duration": 26,
    "start_time": "2022-11-20T16:31:01.535Z"
   },
   {
    "duration": 29,
    "start_time": "2022-11-20T16:31:01.562Z"
   },
   {
    "duration": 80,
    "start_time": "2022-11-20T16:31:01.593Z"
   },
   {
    "duration": 4,
    "start_time": "2022-11-20T16:31:01.674Z"
   },
   {
    "duration": 25,
    "start_time": "2022-11-20T16:31:01.679Z"
   },
   {
    "duration": 17,
    "start_time": "2022-11-20T16:31:01.706Z"
   },
   {
    "duration": 40,
    "start_time": "2022-11-20T16:31:01.724Z"
   },
   {
    "duration": 15,
    "start_time": "2022-11-20T16:31:01.766Z"
   },
   {
    "duration": 53,
    "start_time": "2022-11-20T16:31:01.783Z"
   },
   {
    "duration": 16,
    "start_time": "2022-11-20T16:31:01.838Z"
   },
   {
    "duration": 30,
    "start_time": "2022-11-20T16:31:01.855Z"
   },
   {
    "duration": 15,
    "start_time": "2022-11-20T16:31:01.887Z"
   },
   {
    "duration": 21,
    "start_time": "2022-11-20T16:31:01.904Z"
   },
   {
    "duration": 25,
    "start_time": "2022-11-20T16:31:01.929Z"
   },
   {
    "duration": 15,
    "start_time": "2022-11-20T16:31:01.955Z"
   },
   {
    "duration": 43,
    "start_time": "2022-11-20T16:31:01.971Z"
   },
   {
    "duration": 29,
    "start_time": "2022-11-20T16:31:02.015Z"
   },
   {
    "duration": 29,
    "start_time": "2022-11-20T16:31:02.046Z"
   },
   {
    "duration": 29,
    "start_time": "2022-11-20T16:31:02.077Z"
   },
   {
    "duration": 39,
    "start_time": "2022-11-20T16:31:02.107Z"
   },
   {
    "duration": 31,
    "start_time": "2022-11-20T16:31:02.148Z"
   },
   {
    "duration": 37,
    "start_time": "2022-11-20T16:31:02.181Z"
   },
   {
    "duration": 24,
    "start_time": "2022-11-20T16:31:02.219Z"
   },
   {
    "duration": 25,
    "start_time": "2022-11-20T16:31:02.245Z"
   },
   {
    "duration": 18,
    "start_time": "2022-11-20T16:31:02.271Z"
   },
   {
    "duration": 48,
    "start_time": "2022-11-20T16:31:02.290Z"
   },
   {
    "duration": 19,
    "start_time": "2022-11-20T16:31:02.340Z"
   },
   {
    "duration": 80,
    "start_time": "2022-11-20T16:31:02.360Z"
   },
   {
    "duration": 7,
    "start_time": "2022-11-20T16:31:02.442Z"
   },
   {
    "duration": 36,
    "start_time": "2022-11-20T16:31:02.451Z"
   },
   {
    "duration": 30,
    "start_time": "2022-11-20T16:31:02.488Z"
   },
   {
    "duration": 32,
    "start_time": "2022-11-20T16:31:02.520Z"
   },
   {
    "duration": 7,
    "start_time": "2022-11-20T16:31:02.553Z"
   },
   {
    "duration": 35,
    "start_time": "2022-11-20T16:31:02.561Z"
   },
   {
    "duration": 105,
    "start_time": "2022-11-20T16:31:02.597Z"
   },
   {
    "duration": 110,
    "start_time": "2022-11-20T16:31:02.704Z"
   },
   {
    "duration": 107,
    "start_time": "2022-11-20T16:31:02.816Z"
   },
   {
    "duration": 4,
    "start_time": "2022-11-20T16:31:02.924Z"
   },
   {
    "duration": 159,
    "start_time": "2022-11-20T16:31:02.930Z"
   },
   {
    "duration": 19,
    "start_time": "2022-11-20T16:31:03.090Z"
   },
   {
    "duration": 25,
    "start_time": "2022-11-20T16:31:03.111Z"
   },
   {
    "duration": 25,
    "start_time": "2022-11-20T16:31:03.138Z"
   },
   {
    "duration": 24,
    "start_time": "2022-11-20T16:31:03.165Z"
   },
   {
    "duration": 26,
    "start_time": "2022-11-20T16:31:03.190Z"
   },
   {
    "duration": 34,
    "start_time": "2022-11-20T16:31:03.218Z"
   },
   {
    "duration": 33,
    "start_time": "2022-11-20T16:31:03.253Z"
   },
   {
    "duration": 38,
    "start_time": "2022-11-20T16:31:03.287Z"
   },
   {
    "duration": 30,
    "start_time": "2022-11-20T16:31:03.327Z"
   },
   {
    "duration": 36,
    "start_time": "2022-11-20T16:31:03.358Z"
   },
   {
    "duration": 5,
    "start_time": "2022-11-20T16:31:03.395Z"
   },
   {
    "duration": 138,
    "start_time": "2022-11-20T16:31:03.401Z"
   },
   {
    "duration": 8,
    "start_time": "2022-11-20T16:31:03.540Z"
   },
   {
    "duration": 44,
    "start_time": "2022-11-20T16:31:03.549Z"
   },
   {
    "duration": 33,
    "start_time": "2022-11-20T16:31:03.595Z"
   },
   {
    "duration": 17,
    "start_time": "2022-11-20T16:31:03.629Z"
   },
   {
    "duration": 40,
    "start_time": "2022-11-20T16:31:03.647Z"
   },
   {
    "duration": 38,
    "start_time": "2022-11-20T16:31:03.688Z"
   },
   {
    "duration": 26,
    "start_time": "2022-11-20T16:31:03.728Z"
   },
   {
    "duration": 28,
    "start_time": "2022-11-20T16:31:03.755Z"
   },
   {
    "duration": 18,
    "start_time": "2022-11-20T16:31:03.784Z"
   },
   {
    "duration": 26,
    "start_time": "2022-11-20T16:31:03.804Z"
   },
   {
    "duration": 38,
    "start_time": "2022-11-20T16:31:03.831Z"
   },
   {
    "duration": 48,
    "start_time": "2022-11-20T16:31:03.871Z"
   },
   {
    "duration": 145,
    "start_time": "2022-11-20T16:31:03.920Z"
   },
   {
    "duration": 133,
    "start_time": "2022-11-20T16:31:04.066Z"
   },
   {
    "duration": 141,
    "start_time": "2022-11-20T16:31:04.200Z"
   },
   {
    "duration": 140,
    "start_time": "2022-11-20T16:31:04.343Z"
   },
   {
    "duration": 137,
    "start_time": "2022-11-20T16:31:04.497Z"
   },
   {
    "duration": 11,
    "start_time": "2022-11-20T16:31:04.636Z"
   },
   {
    "duration": 30,
    "start_time": "2022-11-20T16:31:04.649Z"
   },
   {
    "duration": 42,
    "start_time": "2022-11-20T16:31:04.681Z"
   },
   {
    "duration": 18,
    "start_time": "2022-11-20T16:31:04.724Z"
   },
   {
    "duration": 40,
    "start_time": "2022-11-20T16:31:04.744Z"
   },
   {
    "duration": 21,
    "start_time": "2022-11-20T16:31:04.786Z"
   },
   {
    "duration": 30,
    "start_time": "2022-11-20T16:31:04.809Z"
   },
   {
    "duration": 24,
    "start_time": "2022-11-20T16:31:04.841Z"
   },
   {
    "duration": 41,
    "start_time": "2022-11-20T16:31:04.867Z"
   },
   {
    "duration": 68,
    "start_time": "2022-11-20T16:31:04.910Z"
   },
   {
    "duration": 35,
    "start_time": "2022-11-20T16:31:04.980Z"
   },
   {
    "duration": 59,
    "start_time": "2022-11-20T16:31:05.017Z"
   },
   {
    "duration": 25,
    "start_time": "2022-11-20T16:31:05.078Z"
   },
   {
    "duration": 52,
    "start_time": "2022-11-20T16:31:05.105Z"
   },
   {
    "duration": 29,
    "start_time": "2022-11-20T16:31:05.159Z"
   },
   {
    "duration": 58,
    "start_time": "2022-11-20T16:31:05.190Z"
   },
   {
    "duration": 36,
    "start_time": "2022-11-20T16:31:05.249Z"
   },
   {
    "duration": 144,
    "start_time": "2022-11-20T16:31:05.286Z"
   },
   {
    "duration": 8,
    "start_time": "2022-11-20T16:31:05.432Z"
   },
   {
    "duration": 39,
    "start_time": "2022-11-20T16:31:05.441Z"
   },
   {
    "duration": 35,
    "start_time": "2022-11-20T16:31:05.482Z"
   },
   {
    "duration": 52,
    "start_time": "2022-11-20T16:31:05.518Z"
   },
   {
    "duration": 53,
    "start_time": "2022-11-20T16:31:05.571Z"
   },
   {
    "duration": 85,
    "start_time": "2022-11-20T16:31:05.625Z"
   },
   {
    "duration": 46,
    "start_time": "2022-11-20T16:31:05.711Z"
   },
   {
    "duration": 58,
    "start_time": "2022-11-20T16:31:05.759Z"
   },
   {
    "duration": 50,
    "start_time": "2022-11-20T16:31:05.818Z"
   },
   {
    "duration": 38,
    "start_time": "2022-11-20T16:31:05.869Z"
   },
   {
    "duration": 39,
    "start_time": "2022-11-20T16:31:05.908Z"
   },
   {
    "duration": 160,
    "start_time": "2022-11-20T16:31:05.948Z"
   },
   {
    "duration": 8,
    "start_time": "2022-11-20T16:31:06.109Z"
   },
   {
    "duration": 21,
    "start_time": "2022-11-20T16:31:06.118Z"
   },
   {
    "duration": 33,
    "start_time": "2022-11-20T16:31:06.140Z"
   },
   {
    "duration": 25,
    "start_time": "2022-11-20T16:31:06.174Z"
   },
   {
    "duration": 21,
    "start_time": "2022-11-20T16:31:06.200Z"
   },
   {
    "duration": 701,
    "start_time": "2022-11-20T16:37:40.022Z"
   },
   {
    "duration": 16,
    "start_time": "2022-11-20T16:37:40.725Z"
   },
   {
    "duration": 12,
    "start_time": "2022-11-20T16:37:40.743Z"
   },
   {
    "duration": 7,
    "start_time": "2022-11-20T16:37:40.757Z"
   },
   {
    "duration": 8,
    "start_time": "2022-11-20T16:37:40.766Z"
   },
   {
    "duration": 43,
    "start_time": "2022-11-20T16:37:40.797Z"
   },
   {
    "duration": 9,
    "start_time": "2022-11-20T16:37:40.842Z"
   },
   {
    "duration": 20,
    "start_time": "2022-11-20T16:37:40.852Z"
   },
   {
    "duration": 11,
    "start_time": "2022-11-20T16:37:40.874Z"
   },
   {
    "duration": 12,
    "start_time": "2022-11-20T16:37:40.887Z"
   },
   {
    "duration": 7,
    "start_time": "2022-11-20T16:37:40.901Z"
   },
   {
    "duration": 6,
    "start_time": "2022-11-20T16:37:40.909Z"
   },
   {
    "duration": 77,
    "start_time": "2022-11-20T16:37:40.916Z"
   },
   {
    "duration": 4,
    "start_time": "2022-11-20T16:37:40.995Z"
   },
   {
    "duration": 21,
    "start_time": "2022-11-20T16:37:41.001Z"
   },
   {
    "duration": 14,
    "start_time": "2022-11-20T16:37:41.023Z"
   },
   {
    "duration": 42,
    "start_time": "2022-11-20T16:37:41.039Z"
   },
   {
    "duration": 17,
    "start_time": "2022-11-20T16:37:41.083Z"
   },
   {
    "duration": 16,
    "start_time": "2022-11-20T16:37:41.102Z"
   },
   {
    "duration": 5,
    "start_time": "2022-11-20T16:37:41.120Z"
   },
   {
    "duration": 21,
    "start_time": "2022-11-20T16:37:41.126Z"
   },
   {
    "duration": 18,
    "start_time": "2022-11-20T16:37:41.149Z"
   },
   {
    "duration": 5,
    "start_time": "2022-11-20T16:37:41.169Z"
   },
   {
    "duration": 12,
    "start_time": "2022-11-20T16:37:41.198Z"
   },
   {
    "duration": 10,
    "start_time": "2022-11-20T16:37:41.211Z"
   },
   {
    "duration": 8,
    "start_time": "2022-11-20T16:37:41.223Z"
   },
   {
    "duration": 16,
    "start_time": "2022-11-20T16:37:41.233Z"
   },
   {
    "duration": 10,
    "start_time": "2022-11-20T16:37:41.251Z"
   },
   {
    "duration": 48,
    "start_time": "2022-11-20T16:37:41.262Z"
   },
   {
    "duration": 14,
    "start_time": "2022-11-20T16:37:41.312Z"
   },
   {
    "duration": 9,
    "start_time": "2022-11-20T16:37:41.328Z"
   },
   {
    "duration": 7,
    "start_time": "2022-11-20T16:37:41.339Z"
   },
   {
    "duration": 15,
    "start_time": "2022-11-20T16:37:41.347Z"
   },
   {
    "duration": 12,
    "start_time": "2022-11-20T16:37:41.364Z"
   },
   {
    "duration": 14,
    "start_time": "2022-11-20T16:37:41.398Z"
   },
   {
    "duration": 14,
    "start_time": "2022-11-20T16:37:41.414Z"
   },
   {
    "duration": 10,
    "start_time": "2022-11-20T16:37:41.430Z"
   },
   {
    "duration": 74,
    "start_time": "2022-11-20T16:37:41.442Z"
   },
   {
    "duration": 6,
    "start_time": "2022-11-20T16:37:41.518Z"
   },
   {
    "duration": 20,
    "start_time": "2022-11-20T16:37:41.526Z"
   },
   {
    "duration": 5,
    "start_time": "2022-11-20T16:37:41.552Z"
   },
   {
    "duration": 7,
    "start_time": "2022-11-20T16:37:41.558Z"
   },
   {
    "duration": 32,
    "start_time": "2022-11-20T16:37:41.566Z"
   },
   {
    "duration": 12,
    "start_time": "2022-11-20T16:37:41.600Z"
   },
   {
    "duration": 8,
    "start_time": "2022-11-20T16:37:41.613Z"
   },
   {
    "duration": 22,
    "start_time": "2022-11-20T16:37:41.622Z"
   },
   {
    "duration": 120,
    "start_time": "2022-11-20T16:37:41.646Z"
   },
   {
    "duration": 112,
    "start_time": "2022-11-20T16:37:41.767Z"
   },
   {
    "duration": 122,
    "start_time": "2022-11-20T16:37:41.881Z"
   },
   {
    "duration": 6,
    "start_time": "2022-11-20T16:37:42.005Z"
   },
   {
    "duration": 165,
    "start_time": "2022-11-20T16:37:42.012Z"
   },
   {
    "duration": 24,
    "start_time": "2022-11-20T16:37:42.178Z"
   },
   {
    "duration": 12,
    "start_time": "2022-11-20T16:37:42.204Z"
   },
   {
    "duration": 30,
    "start_time": "2022-11-20T16:37:42.218Z"
   },
   {
    "duration": 26,
    "start_time": "2022-11-20T16:37:42.250Z"
   },
   {
    "duration": 26,
    "start_time": "2022-11-20T16:37:42.277Z"
   },
   {
    "duration": 27,
    "start_time": "2022-11-20T16:37:42.304Z"
   },
   {
    "duration": 40,
    "start_time": "2022-11-20T16:37:42.332Z"
   },
   {
    "duration": 24,
    "start_time": "2022-11-20T16:37:42.373Z"
   },
   {
    "duration": 35,
    "start_time": "2022-11-20T16:37:42.399Z"
   },
   {
    "duration": 28,
    "start_time": "2022-11-20T16:37:42.436Z"
   },
   {
    "duration": 16,
    "start_time": "2022-11-20T16:37:42.465Z"
   },
   {
    "duration": 122,
    "start_time": "2022-11-20T16:37:42.482Z"
   },
   {
    "duration": 7,
    "start_time": "2022-11-20T16:37:42.605Z"
   },
   {
    "duration": 12,
    "start_time": "2022-11-20T16:37:42.614Z"
   },
   {
    "duration": 9,
    "start_time": "2022-11-20T16:37:42.627Z"
   },
   {
    "duration": 19,
    "start_time": "2022-11-20T16:37:42.638Z"
   },
   {
    "duration": 22,
    "start_time": "2022-11-20T16:37:42.658Z"
   },
   {
    "duration": 14,
    "start_time": "2022-11-20T16:37:42.682Z"
   },
   {
    "duration": 13,
    "start_time": "2022-11-20T16:37:42.697Z"
   },
   {
    "duration": 7,
    "start_time": "2022-11-20T16:37:42.712Z"
   },
   {
    "duration": 13,
    "start_time": "2022-11-20T16:37:42.721Z"
   },
   {
    "duration": 10,
    "start_time": "2022-11-20T16:37:42.735Z"
   },
   {
    "duration": 8,
    "start_time": "2022-11-20T16:37:42.747Z"
   },
   {
    "duration": 20,
    "start_time": "2022-11-20T16:37:42.757Z"
   },
   {
    "duration": 165,
    "start_time": "2022-11-20T16:37:42.779Z"
   },
   {
    "duration": 140,
    "start_time": "2022-11-20T16:37:42.946Z"
   },
   {
    "duration": 151,
    "start_time": "2022-11-20T16:37:43.087Z"
   },
   {
    "duration": 142,
    "start_time": "2022-11-20T16:37:43.239Z"
   },
   {
    "duration": 148,
    "start_time": "2022-11-20T16:37:43.383Z"
   },
   {
    "duration": 11,
    "start_time": "2022-11-20T16:37:43.533Z"
   },
   {
    "duration": 29,
    "start_time": "2022-11-20T16:37:43.545Z"
   },
   {
    "duration": 18,
    "start_time": "2022-11-20T16:37:43.576Z"
   },
   {
    "duration": 52,
    "start_time": "2022-11-20T16:37:43.595Z"
   },
   {
    "duration": 18,
    "start_time": "2022-11-20T16:37:43.649Z"
   },
   {
    "duration": 26,
    "start_time": "2022-11-20T16:37:43.668Z"
   },
   {
    "duration": 29,
    "start_time": "2022-11-20T16:37:43.696Z"
   },
   {
    "duration": 69,
    "start_time": "2022-11-20T16:37:43.727Z"
   },
   {
    "duration": 30,
    "start_time": "2022-11-20T16:37:43.798Z"
   },
   {
    "duration": 17,
    "start_time": "2022-11-20T16:37:43.829Z"
   },
   {
    "duration": 45,
    "start_time": "2022-11-20T16:37:43.847Z"
   },
   {
    "duration": 35,
    "start_time": "2022-11-20T16:37:43.893Z"
   },
   {
    "duration": 25,
    "start_time": "2022-11-20T16:37:43.930Z"
   },
   {
    "duration": 60,
    "start_time": "2022-11-20T16:37:43.956Z"
   },
   {
    "duration": 27,
    "start_time": "2022-11-20T16:37:44.017Z"
   },
   {
    "duration": 31,
    "start_time": "2022-11-20T16:37:44.046Z"
   },
   {
    "duration": 43,
    "start_time": "2022-11-20T16:37:44.078Z"
   },
   {
    "duration": 155,
    "start_time": "2022-11-20T16:37:44.123Z"
   },
   {
    "duration": 8,
    "start_time": "2022-11-20T16:37:44.279Z"
   },
   {
    "duration": 27,
    "start_time": "2022-11-20T16:37:44.297Z"
   },
   {
    "duration": 40,
    "start_time": "2022-11-20T16:37:44.325Z"
   },
   {
    "duration": 31,
    "start_time": "2022-11-20T16:37:44.366Z"
   },
   {
    "duration": 60,
    "start_time": "2022-11-20T16:37:44.399Z"
   },
   {
    "duration": 28,
    "start_time": "2022-11-20T16:37:44.461Z"
   },
   {
    "duration": 46,
    "start_time": "2022-11-20T16:37:44.491Z"
   },
   {
    "duration": 32,
    "start_time": "2022-11-20T16:37:44.539Z"
   },
   {
    "duration": 32,
    "start_time": "2022-11-20T16:37:44.573Z"
   },
   {
    "duration": 85,
    "start_time": "2022-11-20T16:37:44.606Z"
   },
   {
    "duration": 49,
    "start_time": "2022-11-20T16:37:44.694Z"
   },
   {
    "duration": 194,
    "start_time": "2022-11-20T16:37:44.745Z"
   },
   {
    "duration": 8,
    "start_time": "2022-11-20T16:37:44.941Z"
   },
   {
    "duration": 18,
    "start_time": "2022-11-20T16:37:44.950Z"
   },
   {
    "duration": 15,
    "start_time": "2022-11-20T16:37:44.970Z"
   },
   {
    "duration": 44,
    "start_time": "2022-11-20T16:37:44.986Z"
   },
   {
    "duration": 32,
    "start_time": "2022-11-20T16:37:45.032Z"
   },
   {
    "duration": 726,
    "start_time": "2022-11-20T16:50:25.498Z"
   },
   {
    "duration": 15,
    "start_time": "2022-11-20T16:50:26.226Z"
   },
   {
    "duration": 12,
    "start_time": "2022-11-20T16:50:26.246Z"
   },
   {
    "duration": 9,
    "start_time": "2022-11-20T16:50:26.259Z"
   },
   {
    "duration": 34,
    "start_time": "2022-11-20T16:50:26.269Z"
   },
   {
    "duration": 51,
    "start_time": "2022-11-20T16:50:26.305Z"
   },
   {
    "duration": 11,
    "start_time": "2022-11-20T16:50:26.358Z"
   },
   {
    "duration": 16,
    "start_time": "2022-11-20T16:50:26.370Z"
   },
   {
    "duration": 14,
    "start_time": "2022-11-20T16:50:26.389Z"
   },
   {
    "duration": 17,
    "start_time": "2022-11-20T16:50:26.405Z"
   },
   {
    "duration": 9,
    "start_time": "2022-11-20T16:50:26.424Z"
   },
   {
    "duration": 5,
    "start_time": "2022-11-20T16:50:26.435Z"
   },
   {
    "duration": 91,
    "start_time": "2022-11-20T16:50:26.441Z"
   },
   {
    "duration": 5,
    "start_time": "2022-11-20T16:50:26.534Z"
   },
   {
    "duration": 19,
    "start_time": "2022-11-20T16:50:26.540Z"
   },
   {
    "duration": 8,
    "start_time": "2022-11-20T16:50:26.561Z"
   },
   {
    "duration": 36,
    "start_time": "2022-11-20T16:50:26.571Z"
   },
   {
    "duration": 4,
    "start_time": "2022-11-20T16:50:26.608Z"
   },
   {
    "duration": 18,
    "start_time": "2022-11-20T16:50:26.614Z"
   },
   {
    "duration": 22,
    "start_time": "2022-11-20T16:50:26.634Z"
   },
   {
    "duration": 4,
    "start_time": "2022-11-20T16:50:26.658Z"
   },
   {
    "duration": 33,
    "start_time": "2022-11-20T16:50:26.664Z"
   },
   {
    "duration": 10,
    "start_time": "2022-11-20T16:50:26.699Z"
   },
   {
    "duration": 5,
    "start_time": "2022-11-20T16:50:26.711Z"
   },
   {
    "duration": 27,
    "start_time": "2022-11-20T16:50:26.717Z"
   },
   {
    "duration": 12,
    "start_time": "2022-11-20T16:50:26.746Z"
   },
   {
    "duration": 51,
    "start_time": "2022-11-20T16:50:26.763Z"
   },
   {
    "duration": 19,
    "start_time": "2022-11-20T16:50:26.816Z"
   },
   {
    "duration": 11,
    "start_time": "2022-11-20T16:50:26.837Z"
   },
   {
    "duration": 11,
    "start_time": "2022-11-20T16:50:26.849Z"
   },
   {
    "duration": 10,
    "start_time": "2022-11-20T16:50:26.862Z"
   },
   {
    "duration": 30,
    "start_time": "2022-11-20T16:50:26.874Z"
   },
   {
    "duration": 13,
    "start_time": "2022-11-20T16:50:26.906Z"
   },
   {
    "duration": 10,
    "start_time": "2022-11-20T16:50:26.921Z"
   },
   {
    "duration": 8,
    "start_time": "2022-11-20T16:50:26.932Z"
   },
   {
    "duration": 85,
    "start_time": "2022-11-20T16:50:26.942Z"
   },
   {
    "duration": 8,
    "start_time": "2022-11-20T16:50:27.029Z"
   },
   {
    "duration": 21,
    "start_time": "2022-11-20T16:50:27.038Z"
   },
   {
    "duration": 22,
    "start_time": "2022-11-20T16:50:27.061Z"
   },
   {
    "duration": 14,
    "start_time": "2022-11-20T16:50:27.084Z"
   },
   {
    "duration": 22,
    "start_time": "2022-11-20T16:50:27.099Z"
   },
   {
    "duration": 19,
    "start_time": "2022-11-20T16:50:27.122Z"
   },
   {
    "duration": 6,
    "start_time": "2022-11-20T16:50:27.143Z"
   },
   {
    "duration": 16,
    "start_time": "2022-11-20T16:50:27.150Z"
   },
   {
    "duration": 112,
    "start_time": "2022-11-20T16:50:27.167Z"
   },
   {
    "duration": 117,
    "start_time": "2022-11-20T16:50:27.281Z"
   },
   {
    "duration": 115,
    "start_time": "2022-11-20T16:50:27.399Z"
   },
   {
    "duration": 4,
    "start_time": "2022-11-20T16:50:27.516Z"
   },
   {
    "duration": 163,
    "start_time": "2022-11-20T16:50:27.522Z"
   },
   {
    "duration": 23,
    "start_time": "2022-11-20T16:50:27.686Z"
   },
   {
    "duration": 13,
    "start_time": "2022-11-20T16:50:27.711Z"
   },
   {
    "duration": 3,
    "start_time": "2022-11-20T16:50:27.726Z"
   },
   {
    "duration": 14,
    "start_time": "2022-11-20T16:50:27.731Z"
   },
   {
    "duration": 14,
    "start_time": "2022-11-20T16:50:27.746Z"
   },
   {
    "duration": 41,
    "start_time": "2022-11-20T16:50:27.761Z"
   },
   {
    "duration": 16,
    "start_time": "2022-11-20T16:50:27.803Z"
   },
   {
    "duration": 6,
    "start_time": "2022-11-20T16:50:27.821Z"
   },
   {
    "duration": 16,
    "start_time": "2022-11-20T16:50:27.828Z"
   },
   {
    "duration": 14,
    "start_time": "2022-11-20T16:50:27.845Z"
   },
   {
    "duration": 6,
    "start_time": "2022-11-20T16:50:27.860Z"
   },
   {
    "duration": 140,
    "start_time": "2022-11-20T16:50:27.897Z"
   },
   {
    "duration": 8,
    "start_time": "2022-11-20T16:50:28.038Z"
   },
   {
    "duration": 9,
    "start_time": "2022-11-20T16:50:28.047Z"
   },
   {
    "duration": 6,
    "start_time": "2022-11-20T16:50:28.058Z"
   },
   {
    "duration": 7,
    "start_time": "2022-11-20T16:50:28.066Z"
   },
   {
    "duration": 27,
    "start_time": "2022-11-20T16:50:28.074Z"
   },
   {
    "duration": 15,
    "start_time": "2022-11-20T16:50:28.103Z"
   },
   {
    "duration": 9,
    "start_time": "2022-11-20T16:50:28.120Z"
   },
   {
    "duration": 7,
    "start_time": "2022-11-20T16:50:28.130Z"
   },
   {
    "duration": 7,
    "start_time": "2022-11-20T16:50:28.138Z"
   },
   {
    "duration": 9,
    "start_time": "2022-11-20T16:50:28.146Z"
   },
   {
    "duration": 13,
    "start_time": "2022-11-20T16:50:28.156Z"
   },
   {
    "duration": 31,
    "start_time": "2022-11-20T16:50:28.170Z"
   },
   {
    "duration": 151,
    "start_time": "2022-11-20T16:50:28.203Z"
   },
   {
    "duration": 148,
    "start_time": "2022-11-20T16:50:28.356Z"
   },
   {
    "duration": 146,
    "start_time": "2022-11-20T16:50:28.506Z"
   },
   {
    "duration": 150,
    "start_time": "2022-11-20T16:50:28.654Z"
   },
   {
    "duration": 152,
    "start_time": "2022-11-20T16:50:28.806Z"
   },
   {
    "duration": 13,
    "start_time": "2022-11-20T16:50:28.960Z"
   },
   {
    "duration": 7,
    "start_time": "2022-11-20T16:50:28.974Z"
   },
   {
    "duration": 5,
    "start_time": "2022-11-20T16:50:28.999Z"
   },
   {
    "duration": 11,
    "start_time": "2022-11-20T16:50:29.005Z"
   },
   {
    "duration": 9,
    "start_time": "2022-11-20T16:50:29.018Z"
   },
   {
    "duration": 10,
    "start_time": "2022-11-20T16:50:29.029Z"
   },
   {
    "duration": 8,
    "start_time": "2022-11-20T16:50:29.041Z"
   },
   {
    "duration": 9,
    "start_time": "2022-11-20T16:50:29.050Z"
   },
   {
    "duration": 8,
    "start_time": "2022-11-20T16:50:29.060Z"
   },
   {
    "duration": 7,
    "start_time": "2022-11-20T16:50:29.098Z"
   },
   {
    "duration": 30,
    "start_time": "2022-11-20T16:50:29.106Z"
   },
   {
    "duration": 30,
    "start_time": "2022-11-20T16:50:29.138Z"
   },
   {
    "duration": 44,
    "start_time": "2022-11-20T16:50:29.170Z"
   },
   {
    "duration": 32,
    "start_time": "2022-11-20T16:50:29.215Z"
   },
   {
    "duration": 50,
    "start_time": "2022-11-20T16:50:29.248Z"
   },
   {
    "duration": 30,
    "start_time": "2022-11-20T16:50:29.300Z"
   },
   {
    "duration": 32,
    "start_time": "2022-11-20T16:50:29.333Z"
   },
   {
    "duration": 177,
    "start_time": "2022-11-20T16:50:29.366Z"
   },
   {
    "duration": 8,
    "start_time": "2022-11-20T16:50:29.545Z"
   },
   {
    "duration": 12,
    "start_time": "2022-11-20T16:50:29.555Z"
   },
   {
    "duration": 31,
    "start_time": "2022-11-20T16:50:29.569Z"
   },
   {
    "duration": 10,
    "start_time": "2022-11-20T16:50:29.602Z"
   },
   {
    "duration": 28,
    "start_time": "2022-11-20T16:50:29.614Z"
   },
   {
    "duration": 28,
    "start_time": "2022-11-20T16:50:29.644Z"
   },
   {
    "duration": 42,
    "start_time": "2022-11-20T16:50:29.674Z"
   },
   {
    "duration": 25,
    "start_time": "2022-11-20T16:50:29.718Z"
   },
   {
    "duration": 26,
    "start_time": "2022-11-20T16:50:29.744Z"
   },
   {
    "duration": 50,
    "start_time": "2022-11-20T16:50:29.772Z"
   },
   {
    "duration": 26,
    "start_time": "2022-11-20T16:50:29.824Z"
   },
   {
    "duration": 172,
    "start_time": "2022-11-20T16:50:29.851Z"
   },
   {
    "duration": 9,
    "start_time": "2022-11-20T16:50:30.025Z"
   },
   {
    "duration": 7,
    "start_time": "2022-11-20T16:50:30.036Z"
   },
   {
    "duration": 16,
    "start_time": "2022-11-20T16:50:30.045Z"
   },
   {
    "duration": 14,
    "start_time": "2022-11-20T16:50:30.062Z"
   },
   {
    "duration": 26,
    "start_time": "2022-11-20T16:50:30.077Z"
   },
   {
    "duration": 52,
    "start_time": "2022-11-20T16:55:34.621Z"
   },
   {
    "duration": 5,
    "start_time": "2022-11-20T16:58:25.461Z"
   },
   {
    "duration": 6,
    "start_time": "2022-11-20T16:58:47.877Z"
   },
   {
    "duration": 24,
    "start_time": "2022-11-20T16:59:15.426Z"
   },
   {
    "duration": 6,
    "start_time": "2022-11-20T16:59:41.474Z"
   },
   {
    "duration": 8,
    "start_time": "2022-11-20T17:00:24.884Z"
   },
   {
    "duration": 70,
    "start_time": "2022-11-20T17:00:39.479Z"
   },
   {
    "duration": 73,
    "start_time": "2022-11-20T17:00:43.272Z"
   },
   {
    "duration": 101,
    "start_time": "2022-11-20T17:00:47.444Z"
   },
   {
    "duration": 81,
    "start_time": "2022-11-20T17:00:50.351Z"
   },
   {
    "duration": 50,
    "start_time": "2022-11-20T17:01:11.911Z"
   },
   {
    "duration": 61,
    "start_time": "2022-11-20T17:01:16.572Z"
   },
   {
    "duration": 69,
    "start_time": "2022-11-20T17:02:02.885Z"
   },
   {
    "duration": 66,
    "start_time": "2022-11-20T17:02:09.758Z"
   },
   {
    "duration": 18,
    "start_time": "2022-11-20T17:02:14.699Z"
   },
   {
    "duration": 43,
    "start_time": "2022-11-20T17:02:19.335Z"
   },
   {
    "duration": 53,
    "start_time": "2022-11-20T17:02:24.188Z"
   },
   {
    "duration": 45,
    "start_time": "2022-11-20T17:02:30.242Z"
   },
   {
    "duration": 100,
    "start_time": "2022-11-20T17:02:36.224Z"
   },
   {
    "duration": 42,
    "start_time": "2022-11-20T17:04:05.953Z"
   },
   {
    "duration": 46,
    "start_time": "2022-11-20T17:04:39.452Z"
   },
   {
    "duration": 63,
    "start_time": "2022-11-20T17:04:42.769Z"
   },
   {
    "duration": 10,
    "start_time": "2022-11-20T17:04:55.419Z"
   },
   {
    "duration": 7,
    "start_time": "2022-11-20T17:05:10.847Z"
   },
   {
    "duration": 14,
    "start_time": "2022-11-20T17:11:07.546Z"
   },
   {
    "duration": 821,
    "start_time": "2022-11-20T17:35:29.343Z"
   },
   {
    "duration": 18,
    "start_time": "2022-11-20T17:35:30.167Z"
   },
   {
    "duration": 17,
    "start_time": "2022-11-20T17:35:30.198Z"
   },
   {
    "duration": 23,
    "start_time": "2022-11-20T17:35:30.219Z"
   },
   {
    "duration": 43,
    "start_time": "2022-11-20T17:35:30.244Z"
   },
   {
    "duration": 73,
    "start_time": "2022-11-20T17:35:30.289Z"
   },
   {
    "duration": 14,
    "start_time": "2022-11-20T17:35:30.364Z"
   },
   {
    "duration": 43,
    "start_time": "2022-11-20T17:35:30.380Z"
   },
   {
    "duration": 27,
    "start_time": "2022-11-20T17:35:30.426Z"
   },
   {
    "duration": 35,
    "start_time": "2022-11-20T17:35:30.456Z"
   },
   {
    "duration": 31,
    "start_time": "2022-11-20T17:35:30.494Z"
   },
   {
    "duration": 12,
    "start_time": "2022-11-20T17:35:30.527Z"
   },
   {
    "duration": 65,
    "start_time": "2022-11-20T17:35:30.541Z"
   },
   {
    "duration": 6,
    "start_time": "2022-11-20T17:35:30.608Z"
   },
   {
    "duration": 32,
    "start_time": "2022-11-20T17:35:30.616Z"
   },
   {
    "duration": 31,
    "start_time": "2022-11-20T17:35:30.650Z"
   },
   {
    "duration": 50,
    "start_time": "2022-11-20T17:35:30.682Z"
   },
   {
    "duration": 12,
    "start_time": "2022-11-20T17:35:30.734Z"
   },
   {
    "duration": 74,
    "start_time": "2022-11-20T17:35:30.748Z"
   },
   {
    "duration": 62,
    "start_time": "2022-11-20T17:35:30.823Z"
   },
   {
    "duration": 6,
    "start_time": "2022-11-20T17:35:30.887Z"
   },
   {
    "duration": 35,
    "start_time": "2022-11-20T17:35:30.895Z"
   },
   {
    "duration": 29,
    "start_time": "2022-11-20T17:35:30.932Z"
   },
   {
    "duration": 36,
    "start_time": "2022-11-20T17:35:30.963Z"
   },
   {
    "duration": 16,
    "start_time": "2022-11-20T17:35:31.001Z"
   },
   {
    "duration": 40,
    "start_time": "2022-11-20T17:35:31.019Z"
   },
   {
    "duration": 48,
    "start_time": "2022-11-20T17:35:31.061Z"
   },
   {
    "duration": 35,
    "start_time": "2022-11-20T17:35:31.116Z"
   },
   {
    "duration": 48,
    "start_time": "2022-11-20T17:35:31.153Z"
   },
   {
    "duration": 30,
    "start_time": "2022-11-20T17:35:31.203Z"
   },
   {
    "duration": 44,
    "start_time": "2022-11-20T17:35:31.235Z"
   },
   {
    "duration": 13,
    "start_time": "2022-11-20T17:35:31.281Z"
   },
   {
    "duration": 178,
    "start_time": "2022-11-20T17:35:31.295Z"
   },
   {
    "duration": 126,
    "start_time": "2022-11-20T17:35:31.475Z"
   },
   {
    "duration": 126,
    "start_time": "2022-11-20T17:35:31.603Z"
   },
   {
    "duration": 160,
    "start_time": "2022-11-20T17:35:31.730Z"
   },
   {
    "duration": 5,
    "start_time": "2022-11-20T17:35:31.897Z"
   },
   {
    "duration": 32,
    "start_time": "2022-11-20T17:35:31.904Z"
   },
   {
    "duration": 36,
    "start_time": "2022-11-20T17:35:31.938Z"
   },
   {
    "duration": 23,
    "start_time": "2022-11-20T17:35:31.976Z"
   },
   {
    "duration": 34,
    "start_time": "2022-11-20T17:35:32.001Z"
   },
   {
    "duration": 35,
    "start_time": "2022-11-20T17:35:32.037Z"
   },
   {
    "duration": 35,
    "start_time": "2022-11-20T17:35:32.074Z"
   },
   {
    "duration": 37,
    "start_time": "2022-11-20T17:35:32.112Z"
   },
   {
    "duration": 31,
    "start_time": "2022-11-20T17:35:32.152Z"
   },
   {
    "duration": 187,
    "start_time": "2022-11-20T17:35:32.185Z"
   },
   {
    "duration": 11,
    "start_time": "2022-11-20T17:35:32.374Z"
   },
   {
    "duration": 38,
    "start_time": "2022-11-20T17:35:32.387Z"
   },
   {
    "duration": 35,
    "start_time": "2022-11-20T17:35:32.427Z"
   },
   {
    "duration": 27,
    "start_time": "2022-11-20T17:35:32.465Z"
   },
   {
    "duration": 46,
    "start_time": "2022-11-20T17:35:32.494Z"
   },
   {
    "duration": 31,
    "start_time": "2022-11-20T17:35:32.542Z"
   },
   {
    "duration": 24,
    "start_time": "2022-11-20T17:35:32.575Z"
   },
   {
    "duration": 19,
    "start_time": "2022-11-20T17:35:32.601Z"
   },
   {
    "duration": 25,
    "start_time": "2022-11-20T17:35:32.622Z"
   },
   {
    "duration": 32,
    "start_time": "2022-11-20T17:35:32.649Z"
   },
   {
    "duration": 33,
    "start_time": "2022-11-20T17:35:32.683Z"
   },
   {
    "duration": 37,
    "start_time": "2022-11-20T17:35:32.718Z"
   },
   {
    "duration": 217,
    "start_time": "2022-11-20T17:35:32.756Z"
   },
   {
    "duration": 166,
    "start_time": "2022-11-20T17:35:32.976Z"
   },
   {
    "duration": 198,
    "start_time": "2022-11-20T17:35:33.143Z"
   },
   {
    "duration": 192,
    "start_time": "2022-11-20T17:35:33.342Z"
   },
   {
    "duration": 164,
    "start_time": "2022-11-20T17:35:33.536Z"
   },
   {
    "duration": 20,
    "start_time": "2022-11-20T17:35:33.702Z"
   },
   {
    "duration": 48,
    "start_time": "2022-11-20T17:35:33.723Z"
   },
   {
    "duration": 29,
    "start_time": "2022-11-20T17:35:33.774Z"
   },
   {
    "duration": 38,
    "start_time": "2022-11-20T17:35:33.805Z"
   },
   {
    "duration": 45,
    "start_time": "2022-11-20T17:35:33.845Z"
   },
   {
    "duration": 29,
    "start_time": "2022-11-20T17:35:33.891Z"
   },
   {
    "duration": 36,
    "start_time": "2022-11-20T17:35:33.923Z"
   },
   {
    "duration": 52,
    "start_time": "2022-11-20T17:35:33.962Z"
   },
   {
    "duration": 39,
    "start_time": "2022-11-20T17:35:34.016Z"
   },
   {
    "duration": 31,
    "start_time": "2022-11-20T17:35:34.057Z"
   },
   {
    "duration": 50,
    "start_time": "2022-11-20T17:35:34.090Z"
   },
   {
    "duration": 40,
    "start_time": "2022-11-20T17:35:34.142Z"
   },
   {
    "duration": 47,
    "start_time": "2022-11-20T17:35:34.186Z"
   },
   {
    "duration": 34,
    "start_time": "2022-11-20T17:35:34.235Z"
   },
   {
    "duration": 47,
    "start_time": "2022-11-20T17:35:34.271Z"
   },
   {
    "duration": 31,
    "start_time": "2022-11-20T17:35:34.319Z"
   },
   {
    "duration": 56,
    "start_time": "2022-11-20T17:35:34.351Z"
   },
   {
    "duration": 147,
    "start_time": "2022-11-20T17:35:34.409Z"
   },
   {
    "duration": 11,
    "start_time": "2022-11-20T17:35:34.564Z"
   },
   {
    "duration": 27,
    "start_time": "2022-11-20T17:35:34.578Z"
   },
   {
    "duration": 14,
    "start_time": "2022-11-20T17:35:34.606Z"
   },
   {
    "duration": 11,
    "start_time": "2022-11-20T17:35:34.622Z"
   },
   {
    "duration": 31,
    "start_time": "2022-11-20T17:35:34.634Z"
   },
   {
    "duration": 53,
    "start_time": "2022-11-20T17:35:34.667Z"
   },
   {
    "duration": 26,
    "start_time": "2022-11-20T17:35:34.722Z"
   },
   {
    "duration": 51,
    "start_time": "2022-11-20T17:35:34.751Z"
   },
   {
    "duration": 30,
    "start_time": "2022-11-20T17:35:34.803Z"
   },
   {
    "duration": 35,
    "start_time": "2022-11-20T17:35:34.835Z"
   },
   {
    "duration": 47,
    "start_time": "2022-11-20T17:35:34.871Z"
   },
   {
    "duration": 212,
    "start_time": "2022-11-20T17:35:34.919Z"
   },
   {
    "duration": 18,
    "start_time": "2022-11-20T17:35:35.134Z"
   },
   {
    "duration": 18,
    "start_time": "2022-11-20T17:35:35.155Z"
   },
   {
    "duration": 41,
    "start_time": "2022-11-20T17:35:35.175Z"
   },
   {
    "duration": 34,
    "start_time": "2022-11-20T17:35:35.218Z"
   },
   {
    "duration": 13,
    "start_time": "2022-11-20T17:35:35.254Z"
   },
   {
    "duration": 45,
    "start_time": "2022-11-20T17:54:24.490Z"
   },
   {
    "duration": 39,
    "start_time": "2022-11-20T17:59:25.641Z"
   },
   {
    "duration": 208,
    "start_time": "2022-11-20T17:59:35.038Z"
   },
   {
    "duration": 7,
    "start_time": "2022-11-20T18:13:30.915Z"
   },
   {
    "duration": 8,
    "start_time": "2022-11-20T18:14:24.989Z"
   },
   {
    "duration": 56,
    "start_time": "2022-11-20T18:14:42.385Z"
   },
   {
    "duration": 6,
    "start_time": "2022-11-20T18:15:07.086Z"
   },
   {
    "duration": 48,
    "start_time": "2022-11-20T18:16:30.941Z"
   },
   {
    "duration": 6,
    "start_time": "2022-11-20T18:18:01.024Z"
   },
   {
    "duration": 62,
    "start_time": "2022-11-20T18:18:57.677Z"
   },
   {
    "duration": 18,
    "start_time": "2022-11-20T18:29:37.013Z"
   },
   {
    "duration": 54,
    "start_time": "2022-11-20T18:30:09.104Z"
   },
   {
    "duration": 21,
    "start_time": "2022-11-20T18:30:15.395Z"
   },
   {
    "duration": 21,
    "start_time": "2022-11-20T18:30:47.046Z"
   },
   {
    "duration": 23,
    "start_time": "2022-11-20T18:31:10.898Z"
   },
   {
    "duration": 732,
    "start_time": "2022-11-20T18:32:30.243Z"
   },
   {
    "duration": 16,
    "start_time": "2022-11-20T18:32:30.977Z"
   },
   {
    "duration": 23,
    "start_time": "2022-11-20T18:32:30.997Z"
   },
   {
    "duration": 8,
    "start_time": "2022-11-20T18:32:31.022Z"
   },
   {
    "duration": 12,
    "start_time": "2022-11-20T18:32:31.032Z"
   },
   {
    "duration": 51,
    "start_time": "2022-11-20T18:32:31.046Z"
   },
   {
    "duration": 10,
    "start_time": "2022-11-20T18:32:31.099Z"
   },
   {
    "duration": 21,
    "start_time": "2022-11-20T18:32:31.110Z"
   },
   {
    "duration": 27,
    "start_time": "2022-11-20T18:32:31.135Z"
   },
   {
    "duration": 26,
    "start_time": "2022-11-20T18:32:31.164Z"
   },
   {
    "duration": 8,
    "start_time": "2022-11-20T18:32:31.192Z"
   },
   {
    "duration": 13,
    "start_time": "2022-11-20T18:32:31.202Z"
   },
   {
    "duration": 76,
    "start_time": "2022-11-20T18:32:31.217Z"
   },
   {
    "duration": 5,
    "start_time": "2022-11-20T18:32:31.296Z"
   },
   {
    "duration": 33,
    "start_time": "2022-11-20T18:32:31.304Z"
   },
   {
    "duration": 37,
    "start_time": "2022-11-20T18:32:31.339Z"
   },
   {
    "duration": 60,
    "start_time": "2022-11-20T18:32:31.377Z"
   },
   {
    "duration": 7,
    "start_time": "2022-11-20T18:32:31.438Z"
   },
   {
    "duration": 23,
    "start_time": "2022-11-20T18:32:31.446Z"
   },
   {
    "duration": 45,
    "start_time": "2022-11-20T18:32:31.470Z"
   },
   {
    "duration": 40,
    "start_time": "2022-11-20T18:32:31.516Z"
   },
   {
    "duration": 43,
    "start_time": "2022-11-20T18:32:31.558Z"
   },
   {
    "duration": 37,
    "start_time": "2022-11-20T18:32:31.603Z"
   },
   {
    "duration": 38,
    "start_time": "2022-11-20T18:32:31.642Z"
   },
   {
    "duration": 5,
    "start_time": "2022-11-20T18:32:31.682Z"
   },
   {
    "duration": 48,
    "start_time": "2022-11-20T18:32:31.689Z"
   },
   {
    "duration": 26,
    "start_time": "2022-11-20T18:32:31.743Z"
   },
   {
    "duration": 7,
    "start_time": "2022-11-20T18:32:31.771Z"
   },
   {
    "duration": 20,
    "start_time": "2022-11-20T18:32:31.780Z"
   },
   {
    "duration": 26,
    "start_time": "2022-11-20T18:32:31.801Z"
   },
   {
    "duration": 30,
    "start_time": "2022-11-20T18:32:31.828Z"
   },
   {
    "duration": 17,
    "start_time": "2022-11-20T18:32:31.860Z"
   },
   {
    "duration": 158,
    "start_time": "2022-11-20T18:32:31.878Z"
   },
   {
    "duration": 121,
    "start_time": "2022-11-20T18:32:32.038Z"
   },
   {
    "duration": 142,
    "start_time": "2022-11-20T18:32:32.160Z"
   },
   {
    "duration": 182,
    "start_time": "2022-11-20T18:32:32.304Z"
   },
   {
    "duration": 10,
    "start_time": "2022-11-20T18:32:32.487Z"
   },
   {
    "duration": 21,
    "start_time": "2022-11-20T18:32:32.499Z"
   },
   {
    "duration": 52,
    "start_time": "2022-11-20T18:32:32.521Z"
   },
   {
    "duration": 28,
    "start_time": "2022-11-20T18:32:32.574Z"
   },
   {
    "duration": 30,
    "start_time": "2022-11-20T18:32:32.604Z"
   },
   {
    "duration": 147,
    "start_time": "2022-11-20T18:32:32.635Z"
   },
   {
    "duration": 16,
    "start_time": "2022-11-20T18:32:32.784Z"
   },
   {
    "duration": 12,
    "start_time": "2022-11-20T18:32:32.802Z"
   },
   {
    "duration": 9,
    "start_time": "2022-11-20T18:32:32.816Z"
   },
   {
    "duration": 11,
    "start_time": "2022-11-20T18:32:32.827Z"
   },
   {
    "duration": 13,
    "start_time": "2022-11-20T18:32:32.840Z"
   },
   {
    "duration": 11,
    "start_time": "2022-11-20T18:32:32.855Z"
   },
   {
    "duration": 31,
    "start_time": "2022-11-20T18:32:32.868Z"
   },
   {
    "duration": 7,
    "start_time": "2022-11-20T18:32:32.901Z"
   },
   {
    "duration": 10,
    "start_time": "2022-11-20T18:32:32.909Z"
   },
   {
    "duration": 10,
    "start_time": "2022-11-20T18:32:32.920Z"
   },
   {
    "duration": 13,
    "start_time": "2022-11-20T18:32:32.932Z"
   },
   {
    "duration": 17,
    "start_time": "2022-11-20T18:32:32.946Z"
   },
   {
    "duration": 180,
    "start_time": "2022-11-20T18:32:32.965Z"
   },
   {
    "duration": 155,
    "start_time": "2022-11-20T18:32:33.147Z"
   },
   {
    "duration": 159,
    "start_time": "2022-11-20T18:32:33.303Z"
   },
   {
    "duration": 155,
    "start_time": "2022-11-20T18:32:33.464Z"
   },
   {
    "duration": 200,
    "start_time": "2022-11-20T18:32:33.621Z"
   },
   {
    "duration": 12,
    "start_time": "2022-11-20T18:32:33.823Z"
   },
   {
    "duration": 34,
    "start_time": "2022-11-20T18:32:33.837Z"
   },
   {
    "duration": 35,
    "start_time": "2022-11-20T18:32:33.873Z"
   },
   {
    "duration": 28,
    "start_time": "2022-11-20T18:32:33.910Z"
   },
   {
    "duration": 42,
    "start_time": "2022-11-20T18:32:33.941Z"
   },
   {
    "duration": 37,
    "start_time": "2022-11-20T18:32:33.985Z"
   },
   {
    "duration": 37,
    "start_time": "2022-11-20T18:32:34.025Z"
   },
   {
    "duration": 34,
    "start_time": "2022-11-20T18:32:34.064Z"
   },
   {
    "duration": 46,
    "start_time": "2022-11-20T18:32:34.100Z"
   },
   {
    "duration": 28,
    "start_time": "2022-11-20T18:32:34.147Z"
   },
   {
    "duration": 68,
    "start_time": "2022-11-20T18:32:34.177Z"
   },
   {
    "duration": 36,
    "start_time": "2022-11-20T18:32:34.247Z"
   },
   {
    "duration": 46,
    "start_time": "2022-11-20T18:32:34.285Z"
   },
   {
    "duration": 50,
    "start_time": "2022-11-20T18:32:34.333Z"
   },
   {
    "duration": 59,
    "start_time": "2022-11-20T18:32:34.385Z"
   },
   {
    "duration": 41,
    "start_time": "2022-11-20T18:32:34.446Z"
   },
   {
    "duration": 62,
    "start_time": "2022-11-20T18:32:34.488Z"
   },
   {
    "duration": 201,
    "start_time": "2022-11-20T18:32:34.552Z"
   },
   {
    "duration": 13,
    "start_time": "2022-11-20T18:32:34.755Z"
   },
   {
    "duration": 29,
    "start_time": "2022-11-20T18:32:34.770Z"
   },
   {
    "duration": 31,
    "start_time": "2022-11-20T18:32:34.801Z"
   },
   {
    "duration": 17,
    "start_time": "2022-11-20T18:32:34.837Z"
   },
   {
    "duration": 29,
    "start_time": "2022-11-20T18:32:34.856Z"
   },
   {
    "duration": 28,
    "start_time": "2022-11-20T18:32:34.886Z"
   },
   {
    "duration": 57,
    "start_time": "2022-11-20T18:32:34.915Z"
   },
   {
    "duration": 42,
    "start_time": "2022-11-20T18:32:34.974Z"
   },
   {
    "duration": 29,
    "start_time": "2022-11-20T18:32:35.018Z"
   },
   {
    "duration": 55,
    "start_time": "2022-11-20T18:32:35.049Z"
   },
   {
    "duration": 30,
    "start_time": "2022-11-20T18:32:35.106Z"
   },
   {
    "duration": 185,
    "start_time": "2022-11-20T18:32:35.138Z"
   },
   {
    "duration": 12,
    "start_time": "2022-11-20T18:32:35.325Z"
   },
   {
    "duration": 15,
    "start_time": "2022-11-20T18:32:35.338Z"
   },
   {
    "duration": 8,
    "start_time": "2022-11-20T18:32:35.355Z"
   },
   {
    "duration": 16,
    "start_time": "2022-11-20T18:32:35.365Z"
   },
   {
    "duration": 8,
    "start_time": "2022-11-20T18:32:35.397Z"
   },
   {
    "duration": 25,
    "start_time": "2022-11-20T18:39:17.509Z"
   },
   {
    "duration": 6,
    "start_time": "2022-11-20T18:44:51.133Z"
   },
   {
    "duration": 733,
    "start_time": "2022-11-20T18:46:03.355Z"
   },
   {
    "duration": 18,
    "start_time": "2022-11-20T18:46:04.090Z"
   },
   {
    "duration": 13,
    "start_time": "2022-11-20T18:46:04.110Z"
   },
   {
    "duration": 8,
    "start_time": "2022-11-20T18:46:04.126Z"
   },
   {
    "duration": 12,
    "start_time": "2022-11-20T18:46:04.136Z"
   },
   {
    "duration": 51,
    "start_time": "2022-11-20T18:46:04.150Z"
   },
   {
    "duration": 10,
    "start_time": "2022-11-20T18:46:04.202Z"
   },
   {
    "duration": 24,
    "start_time": "2022-11-20T18:46:04.214Z"
   },
   {
    "duration": 16,
    "start_time": "2022-11-20T18:46:04.240Z"
   },
   {
    "duration": 45,
    "start_time": "2022-11-20T18:46:04.258Z"
   },
   {
    "duration": 11,
    "start_time": "2022-11-20T18:46:04.304Z"
   },
   {
    "duration": 11,
    "start_time": "2022-11-20T18:46:04.317Z"
   },
   {
    "duration": 54,
    "start_time": "2022-11-20T18:46:04.330Z"
   },
   {
    "duration": 6,
    "start_time": "2022-11-20T18:46:04.400Z"
   },
   {
    "duration": 26,
    "start_time": "2022-11-20T18:46:04.408Z"
   },
   {
    "duration": 13,
    "start_time": "2022-11-20T18:46:04.436Z"
   },
   {
    "duration": 55,
    "start_time": "2022-11-20T18:46:04.451Z"
   },
   {
    "duration": 4,
    "start_time": "2022-11-20T18:46:04.508Z"
   },
   {
    "duration": 18,
    "start_time": "2022-11-20T18:46:04.514Z"
   },
   {
    "duration": 22,
    "start_time": "2022-11-20T18:46:04.534Z"
   },
   {
    "duration": 5,
    "start_time": "2022-11-20T18:46:04.558Z"
   },
   {
    "duration": 35,
    "start_time": "2022-11-20T18:46:04.565Z"
   },
   {
    "duration": 12,
    "start_time": "2022-11-20T18:46:04.602Z"
   },
   {
    "duration": 21,
    "start_time": "2022-11-20T18:46:04.616Z"
   },
   {
    "duration": 17,
    "start_time": "2022-11-20T18:46:04.640Z"
   },
   {
    "duration": 29,
    "start_time": "2022-11-20T18:46:04.659Z"
   },
   {
    "duration": 39,
    "start_time": "2022-11-20T18:46:04.690Z"
   },
   {
    "duration": 36,
    "start_time": "2022-11-20T18:46:04.731Z"
   },
   {
    "duration": 23,
    "start_time": "2022-11-20T18:46:04.769Z"
   },
   {
    "duration": 32,
    "start_time": "2022-11-20T18:46:04.794Z"
   },
   {
    "duration": 31,
    "start_time": "2022-11-20T18:46:04.828Z"
   },
   {
    "duration": 31,
    "start_time": "2022-11-20T18:46:04.862Z"
   },
   {
    "duration": 180,
    "start_time": "2022-11-20T18:46:04.896Z"
   },
   {
    "duration": 140,
    "start_time": "2022-11-20T18:46:05.079Z"
   },
   {
    "duration": 120,
    "start_time": "2022-11-20T18:46:05.221Z"
   },
   {
    "duration": 170,
    "start_time": "2022-11-20T18:46:05.343Z"
   },
   {
    "duration": 6,
    "start_time": "2022-11-20T18:46:05.515Z"
   },
   {
    "duration": 24,
    "start_time": "2022-11-20T18:46:05.523Z"
   },
   {
    "duration": 40,
    "start_time": "2022-11-20T18:46:05.549Z"
   },
   {
    "duration": 17,
    "start_time": "2022-11-20T18:46:05.591Z"
   },
   {
    "duration": 11,
    "start_time": "2022-11-20T18:46:05.616Z"
   },
   {
    "duration": 167,
    "start_time": "2022-11-20T18:46:05.630Z"
   },
   {
    "duration": 11,
    "start_time": "2022-11-20T18:46:05.799Z"
   },
   {
    "duration": 13,
    "start_time": "2022-11-20T18:46:05.814Z"
   },
   {
    "duration": 12,
    "start_time": "2022-11-20T18:46:05.828Z"
   },
   {
    "duration": 22,
    "start_time": "2022-11-20T18:46:05.842Z"
   },
   {
    "duration": 21,
    "start_time": "2022-11-20T18:46:05.867Z"
   },
   {
    "duration": 21,
    "start_time": "2022-11-20T18:46:05.890Z"
   },
   {
    "duration": 24,
    "start_time": "2022-11-20T18:46:05.912Z"
   },
   {
    "duration": 13,
    "start_time": "2022-11-20T18:46:05.938Z"
   },
   {
    "duration": 19,
    "start_time": "2022-11-20T18:46:05.953Z"
   },
   {
    "duration": 8,
    "start_time": "2022-11-20T18:46:05.974Z"
   },
   {
    "duration": 8,
    "start_time": "2022-11-20T18:46:05.984Z"
   },
   {
    "duration": 28,
    "start_time": "2022-11-20T18:46:05.993Z"
   },
   {
    "duration": 191,
    "start_time": "2022-11-20T18:46:06.023Z"
   },
   {
    "duration": 169,
    "start_time": "2022-11-20T18:46:06.215Z"
   },
   {
    "duration": 209,
    "start_time": "2022-11-20T18:46:06.385Z"
   },
   {
    "duration": 163,
    "start_time": "2022-11-20T18:46:06.597Z"
   },
   {
    "duration": 153,
    "start_time": "2022-11-20T18:46:06.762Z"
   },
   {
    "duration": 13,
    "start_time": "2022-11-20T18:46:06.917Z"
   },
   {
    "duration": 11,
    "start_time": "2022-11-20T18:46:06.932Z"
   },
   {
    "duration": 13,
    "start_time": "2022-11-20T18:46:06.945Z"
   },
   {
    "duration": 11,
    "start_time": "2022-11-20T18:46:06.959Z"
   },
   {
    "duration": 31,
    "start_time": "2022-11-20T18:46:06.971Z"
   },
   {
    "duration": 13,
    "start_time": "2022-11-20T18:46:07.004Z"
   },
   {
    "duration": 13,
    "start_time": "2022-11-20T18:46:07.019Z"
   },
   {
    "duration": 15,
    "start_time": "2022-11-20T18:46:07.034Z"
   },
   {
    "duration": 17,
    "start_time": "2022-11-20T18:46:07.051Z"
   },
   {
    "duration": 7,
    "start_time": "2022-11-20T18:46:07.071Z"
   },
   {
    "duration": 35,
    "start_time": "2022-11-20T18:46:07.080Z"
   },
   {
    "duration": 25,
    "start_time": "2022-11-20T18:46:07.116Z"
   },
   {
    "duration": 23,
    "start_time": "2022-11-20T18:46:07.143Z"
   },
   {
    "duration": 41,
    "start_time": "2022-11-20T18:46:07.168Z"
   },
   {
    "duration": 19,
    "start_time": "2022-11-20T18:46:07.211Z"
   },
   {
    "duration": 26,
    "start_time": "2022-11-20T18:46:07.232Z"
   },
   {
    "duration": 49,
    "start_time": "2022-11-20T18:46:07.260Z"
   },
   {
    "duration": 186,
    "start_time": "2022-11-20T18:46:07.311Z"
   },
   {
    "duration": 10,
    "start_time": "2022-11-20T18:46:07.500Z"
   },
   {
    "duration": 19,
    "start_time": "2022-11-20T18:46:07.512Z"
   },
   {
    "duration": 20,
    "start_time": "2022-11-20T18:46:07.533Z"
   },
   {
    "duration": 17,
    "start_time": "2022-11-20T18:46:07.555Z"
   },
   {
    "duration": 35,
    "start_time": "2022-11-20T18:46:07.574Z"
   },
   {
    "duration": 49,
    "start_time": "2022-11-20T18:46:07.612Z"
   },
   {
    "duration": 33,
    "start_time": "2022-11-20T18:46:07.663Z"
   },
   {
    "duration": 26,
    "start_time": "2022-11-20T18:46:07.698Z"
   },
   {
    "duration": 21,
    "start_time": "2022-11-20T18:46:07.725Z"
   },
   {
    "duration": 32,
    "start_time": "2022-11-20T18:46:07.748Z"
   },
   {
    "duration": 46,
    "start_time": "2022-11-20T18:46:07.782Z"
   },
   {
    "duration": 196,
    "start_time": "2022-11-20T18:46:07.830Z"
   },
   {
    "duration": 10,
    "start_time": "2022-11-20T18:46:08.027Z"
   },
   {
    "duration": 20,
    "start_time": "2022-11-20T18:46:08.038Z"
   },
   {
    "duration": 17,
    "start_time": "2022-11-20T18:46:08.060Z"
   },
   {
    "duration": 21,
    "start_time": "2022-11-20T18:46:08.079Z"
   },
   {
    "duration": 14,
    "start_time": "2022-11-20T18:46:08.102Z"
   },
   {
    "duration": 799,
    "start_time": "2022-11-20T18:48:01.868Z"
   },
   {
    "duration": 22,
    "start_time": "2022-11-20T18:48:02.669Z"
   },
   {
    "duration": 16,
    "start_time": "2022-11-20T18:48:02.693Z"
   },
   {
    "duration": 8,
    "start_time": "2022-11-20T18:48:02.711Z"
   },
   {
    "duration": 10,
    "start_time": "2022-11-20T18:48:02.721Z"
   },
   {
    "duration": 53,
    "start_time": "2022-11-20T18:48:02.733Z"
   },
   {
    "duration": 13,
    "start_time": "2022-11-20T18:48:02.788Z"
   },
   {
    "duration": 20,
    "start_time": "2022-11-20T18:48:02.803Z"
   },
   {
    "duration": 19,
    "start_time": "2022-11-20T18:48:02.825Z"
   },
   {
    "duration": 20,
    "start_time": "2022-11-20T18:48:02.848Z"
   },
   {
    "duration": 33,
    "start_time": "2022-11-20T18:48:02.871Z"
   },
   {
    "duration": 6,
    "start_time": "2022-11-20T18:48:02.907Z"
   },
   {
    "duration": 58,
    "start_time": "2022-11-20T18:48:02.915Z"
   },
   {
    "duration": 26,
    "start_time": "2022-11-20T18:48:02.974Z"
   },
   {
    "duration": 19,
    "start_time": "2022-11-20T18:48:03.003Z"
   },
   {
    "duration": 18,
    "start_time": "2022-11-20T18:48:03.023Z"
   },
   {
    "duration": 30,
    "start_time": "2022-11-20T18:48:03.044Z"
   },
   {
    "duration": 26,
    "start_time": "2022-11-20T18:48:03.076Z"
   },
   {
    "duration": 27,
    "start_time": "2022-11-20T18:48:03.104Z"
   },
   {
    "duration": 25,
    "start_time": "2022-11-20T18:48:03.134Z"
   },
   {
    "duration": 6,
    "start_time": "2022-11-20T18:48:03.162Z"
   },
   {
    "duration": 17,
    "start_time": "2022-11-20T18:48:03.198Z"
   },
   {
    "duration": 9,
    "start_time": "2022-11-20T18:48:03.217Z"
   },
   {
    "duration": 20,
    "start_time": "2022-11-20T18:48:03.227Z"
   },
   {
    "duration": 6,
    "start_time": "2022-11-20T18:48:03.248Z"
   },
   {
    "duration": 47,
    "start_time": "2022-11-20T18:48:03.256Z"
   },
   {
    "duration": 31,
    "start_time": "2022-11-20T18:48:03.305Z"
   },
   {
    "duration": 4,
    "start_time": "2022-11-20T18:48:03.343Z"
   },
   {
    "duration": 11,
    "start_time": "2022-11-20T18:48:03.349Z"
   },
   {
    "duration": 15,
    "start_time": "2022-11-20T18:48:03.362Z"
   },
   {
    "duration": 22,
    "start_time": "2022-11-20T18:48:03.380Z"
   },
   {
    "duration": 31,
    "start_time": "2022-11-20T18:48:03.404Z"
   },
   {
    "duration": 113,
    "start_time": "2022-11-20T18:48:03.436Z"
   },
   {
    "duration": 169,
    "start_time": "2022-11-20T18:48:03.552Z"
   },
   {
    "duration": 149,
    "start_time": "2022-11-20T18:48:03.723Z"
   },
   {
    "duration": 211,
    "start_time": "2022-11-20T18:48:03.874Z"
   },
   {
    "duration": 10,
    "start_time": "2022-11-20T18:48:04.087Z"
   },
   {
    "duration": 22,
    "start_time": "2022-11-20T18:48:04.099Z"
   },
   {
    "duration": 31,
    "start_time": "2022-11-20T18:48:04.123Z"
   },
   {
    "duration": 5,
    "start_time": "2022-11-20T18:48:04.156Z"
   },
   {
    "duration": 21,
    "start_time": "2022-11-20T18:48:04.163Z"
   },
   {
    "duration": 124,
    "start_time": "2022-11-20T18:48:04.186Z"
   },
   {
    "duration": 9,
    "start_time": "2022-11-20T18:48:04.312Z"
   },
   {
    "duration": 27,
    "start_time": "2022-11-20T18:48:04.323Z"
   },
   {
    "duration": 29,
    "start_time": "2022-11-20T18:48:04.352Z"
   },
   {
    "duration": 24,
    "start_time": "2022-11-20T18:48:04.383Z"
   },
   {
    "duration": 22,
    "start_time": "2022-11-20T18:48:04.409Z"
   },
   {
    "duration": 36,
    "start_time": "2022-11-20T18:48:04.434Z"
   },
   {
    "duration": 34,
    "start_time": "2022-11-20T18:48:04.472Z"
   },
   {
    "duration": 25,
    "start_time": "2022-11-20T18:48:04.508Z"
   },
   {
    "duration": 24,
    "start_time": "2022-11-20T18:48:04.536Z"
   },
   {
    "duration": 10,
    "start_time": "2022-11-20T18:48:04.562Z"
   },
   {
    "duration": 9,
    "start_time": "2022-11-20T18:48:04.574Z"
   },
   {
    "duration": 18,
    "start_time": "2022-11-20T18:48:04.584Z"
   },
   {
    "duration": 205,
    "start_time": "2022-11-20T18:48:04.603Z"
   },
   {
    "duration": 202,
    "start_time": "2022-11-20T18:48:04.810Z"
   },
   {
    "duration": 190,
    "start_time": "2022-11-20T18:48:05.014Z"
   },
   {
    "duration": 194,
    "start_time": "2022-11-20T18:48:05.207Z"
   },
   {
    "duration": 225,
    "start_time": "2022-11-20T18:48:05.403Z"
   },
   {
    "duration": 16,
    "start_time": "2022-11-20T18:48:05.630Z"
   },
   {
    "duration": 19,
    "start_time": "2022-11-20T18:48:05.648Z"
   },
   {
    "duration": 22,
    "start_time": "2022-11-20T18:48:05.669Z"
   },
   {
    "duration": 20,
    "start_time": "2022-11-20T18:48:05.693Z"
   },
   {
    "duration": 17,
    "start_time": "2022-11-20T18:48:05.715Z"
   },
   {
    "duration": 12,
    "start_time": "2022-11-20T18:48:05.734Z"
   },
   {
    "duration": 15,
    "start_time": "2022-11-20T18:48:05.748Z"
   },
   {
    "duration": 11,
    "start_time": "2022-11-20T18:48:05.765Z"
   },
   {
    "duration": 19,
    "start_time": "2022-11-20T18:48:05.778Z"
   },
   {
    "duration": 13,
    "start_time": "2022-11-20T18:48:05.799Z"
   },
   {
    "duration": 29,
    "start_time": "2022-11-20T18:48:05.814Z"
   },
   {
    "duration": 26,
    "start_time": "2022-11-20T18:48:05.845Z"
   },
   {
    "duration": 29,
    "start_time": "2022-11-20T18:48:05.875Z"
   },
   {
    "duration": 33,
    "start_time": "2022-11-20T18:48:05.906Z"
   },
   {
    "duration": 52,
    "start_time": "2022-11-20T18:48:05.941Z"
   },
   {
    "duration": 35,
    "start_time": "2022-11-20T18:48:05.995Z"
   },
   {
    "duration": 40,
    "start_time": "2022-11-20T18:48:06.033Z"
   },
   {
    "duration": 190,
    "start_time": "2022-11-20T18:48:06.076Z"
   },
   {
    "duration": 9,
    "start_time": "2022-11-20T18:48:06.268Z"
   },
   {
    "duration": 31,
    "start_time": "2022-11-20T18:48:06.279Z"
   },
   {
    "duration": 26,
    "start_time": "2022-11-20T18:48:06.312Z"
   },
   {
    "duration": 17,
    "start_time": "2022-11-20T18:48:06.340Z"
   },
   {
    "duration": 20,
    "start_time": "2022-11-20T18:48:06.363Z"
   },
   {
    "duration": 30,
    "start_time": "2022-11-20T18:48:06.398Z"
   },
   {
    "duration": 24,
    "start_time": "2022-11-20T18:48:06.430Z"
   },
   {
    "duration": 53,
    "start_time": "2022-11-20T18:48:06.456Z"
   },
   {
    "duration": 28,
    "start_time": "2022-11-20T18:48:06.511Z"
   },
   {
    "duration": 20,
    "start_time": "2022-11-20T18:48:06.541Z"
   },
   {
    "duration": 46,
    "start_time": "2022-11-20T18:48:06.563Z"
   },
   {
    "duration": 164,
    "start_time": "2022-11-20T18:48:06.611Z"
   },
   {
    "duration": 24,
    "start_time": "2022-11-20T18:48:06.776Z"
   },
   {
    "duration": 8,
    "start_time": "2022-11-20T18:48:06.802Z"
   },
   {
    "duration": 19,
    "start_time": "2022-11-20T18:48:06.812Z"
   },
   {
    "duration": 16,
    "start_time": "2022-11-20T18:48:06.834Z"
   },
   {
    "duration": 11,
    "start_time": "2022-11-20T18:48:06.852Z"
   },
   {
    "duration": 648,
    "start_time": "2022-11-20T19:44:35.761Z"
   },
   {
    "duration": 17,
    "start_time": "2022-11-20T19:44:36.411Z"
   },
   {
    "duration": 12,
    "start_time": "2022-11-20T19:44:36.430Z"
   },
   {
    "duration": 7,
    "start_time": "2022-11-20T19:44:36.445Z"
   },
   {
    "duration": 5,
    "start_time": "2022-11-20T19:44:36.453Z"
   },
   {
    "duration": 80,
    "start_time": "2022-11-20T19:44:36.460Z"
   },
   {
    "duration": 10,
    "start_time": "2022-11-20T19:44:36.542Z"
   },
   {
    "duration": 14,
    "start_time": "2022-11-20T19:44:36.553Z"
   },
   {
    "duration": 12,
    "start_time": "2022-11-20T19:44:36.569Z"
   },
   {
    "duration": 19,
    "start_time": "2022-11-20T19:44:36.584Z"
   },
   {
    "duration": 8,
    "start_time": "2022-11-20T19:44:36.604Z"
   },
   {
    "duration": 6,
    "start_time": "2022-11-20T19:44:36.613Z"
   },
   {
    "duration": 79,
    "start_time": "2022-11-20T19:44:36.621Z"
   },
   {
    "duration": 5,
    "start_time": "2022-11-20T19:44:36.702Z"
   },
   {
    "duration": 18,
    "start_time": "2022-11-20T19:44:36.708Z"
   },
   {
    "duration": 10,
    "start_time": "2022-11-20T19:44:36.728Z"
   },
   {
    "duration": 20,
    "start_time": "2022-11-20T19:44:36.740Z"
   },
   {
    "duration": 4,
    "start_time": "2022-11-20T19:44:36.797Z"
   },
   {
    "duration": 16,
    "start_time": "2022-11-20T19:44:36.803Z"
   },
   {
    "duration": 17,
    "start_time": "2022-11-20T19:44:36.821Z"
   },
   {
    "duration": 5,
    "start_time": "2022-11-20T19:44:36.840Z"
   },
   {
    "duration": 15,
    "start_time": "2022-11-20T19:44:36.846Z"
   },
   {
    "duration": 35,
    "start_time": "2022-11-20T19:44:36.863Z"
   },
   {
    "duration": 17,
    "start_time": "2022-11-20T19:44:36.900Z"
   },
   {
    "duration": 4,
    "start_time": "2022-11-20T19:44:36.919Z"
   },
   {
    "duration": 14,
    "start_time": "2022-11-20T19:44:36.924Z"
   },
   {
    "duration": 13,
    "start_time": "2022-11-20T19:44:36.939Z"
   },
   {
    "duration": 43,
    "start_time": "2022-11-20T19:44:36.955Z"
   },
   {
    "duration": 6,
    "start_time": "2022-11-20T19:44:36.999Z"
   },
   {
    "duration": 6,
    "start_time": "2022-11-20T19:44:37.006Z"
   },
   {
    "duration": 14,
    "start_time": "2022-11-20T19:44:37.013Z"
   },
   {
    "duration": 5,
    "start_time": "2022-11-20T19:44:37.028Z"
   },
   {
    "duration": 132,
    "start_time": "2022-11-20T19:44:37.035Z"
   },
   {
    "duration": 100,
    "start_time": "2022-11-20T19:44:37.169Z"
   },
   {
    "duration": 111,
    "start_time": "2022-11-20T19:44:37.270Z"
   },
   {
    "duration": 145,
    "start_time": "2022-11-20T19:44:37.382Z"
   },
   {
    "duration": 4,
    "start_time": "2022-11-20T19:44:37.528Z"
   },
   {
    "duration": 11,
    "start_time": "2022-11-20T19:44:37.533Z"
   },
   {
    "duration": 11,
    "start_time": "2022-11-20T19:44:37.546Z"
   },
   {
    "duration": 6,
    "start_time": "2022-11-20T19:44:37.558Z"
   },
   {
    "duration": 6,
    "start_time": "2022-11-20T19:44:37.565Z"
   },
   {
    "duration": 122,
    "start_time": "2022-11-20T19:44:37.597Z"
   },
   {
    "duration": 8,
    "start_time": "2022-11-20T19:44:37.720Z"
   },
   {
    "duration": 7,
    "start_time": "2022-11-20T19:44:37.729Z"
   },
   {
    "duration": 9,
    "start_time": "2022-11-20T19:44:37.737Z"
   },
   {
    "duration": 8,
    "start_time": "2022-11-20T19:44:37.748Z"
   },
   {
    "duration": 41,
    "start_time": "2022-11-20T19:44:37.758Z"
   },
   {
    "duration": 8,
    "start_time": "2022-11-20T19:44:37.800Z"
   },
   {
    "duration": 11,
    "start_time": "2022-11-20T19:44:37.809Z"
   },
   {
    "duration": 7,
    "start_time": "2022-11-20T19:44:37.822Z"
   },
   {
    "duration": 12,
    "start_time": "2022-11-20T19:44:37.830Z"
   },
   {
    "duration": 8,
    "start_time": "2022-11-20T19:44:37.843Z"
   },
   {
    "duration": 6,
    "start_time": "2022-11-20T19:44:37.852Z"
   },
   {
    "duration": 15,
    "start_time": "2022-11-20T19:44:37.898Z"
   },
   {
    "duration": 164,
    "start_time": "2022-11-20T19:44:37.915Z"
   },
   {
    "duration": 147,
    "start_time": "2022-11-20T19:44:38.080Z"
   },
   {
    "duration": 157,
    "start_time": "2022-11-20T19:44:38.229Z"
   },
   {
    "duration": 148,
    "start_time": "2022-11-20T19:44:38.388Z"
   },
   {
    "duration": 137,
    "start_time": "2022-11-20T19:44:38.538Z"
   },
   {
    "duration": 25,
    "start_time": "2022-11-20T19:44:38.677Z"
   },
   {
    "duration": 6,
    "start_time": "2022-11-20T19:44:38.704Z"
   },
   {
    "duration": 5,
    "start_time": "2022-11-20T19:44:38.712Z"
   },
   {
    "duration": 8,
    "start_time": "2022-11-20T19:44:38.719Z"
   },
   {
    "duration": 7,
    "start_time": "2022-11-20T19:44:38.729Z"
   },
   {
    "duration": 12,
    "start_time": "2022-11-20T19:44:38.738Z"
   },
   {
    "duration": 45,
    "start_time": "2022-11-20T19:44:38.752Z"
   },
   {
    "duration": 8,
    "start_time": "2022-11-20T19:44:38.799Z"
   },
   {
    "duration": 12,
    "start_time": "2022-11-20T19:44:38.809Z"
   },
   {
    "duration": 8,
    "start_time": "2022-11-20T19:44:38.822Z"
   },
   {
    "duration": 17,
    "start_time": "2022-11-20T19:44:38.832Z"
   },
   {
    "duration": 21,
    "start_time": "2022-11-20T19:44:38.850Z"
   },
   {
    "duration": 25,
    "start_time": "2022-11-20T19:44:38.897Z"
   },
   {
    "duration": 16,
    "start_time": "2022-11-20T19:44:38.924Z"
   },
   {
    "duration": 17,
    "start_time": "2022-11-20T19:44:38.941Z"
   },
   {
    "duration": 39,
    "start_time": "2022-11-20T19:44:38.959Z"
   },
   {
    "duration": 21,
    "start_time": "2022-11-20T19:44:38.999Z"
   },
   {
    "duration": 168,
    "start_time": "2022-11-20T19:44:39.022Z"
   },
   {
    "duration": 9,
    "start_time": "2022-11-20T19:44:39.197Z"
   },
   {
    "duration": 11,
    "start_time": "2022-11-20T19:44:39.208Z"
   },
   {
    "duration": 14,
    "start_time": "2022-11-20T19:44:39.220Z"
   },
   {
    "duration": 12,
    "start_time": "2022-11-20T19:44:39.236Z"
   },
   {
    "duration": 50,
    "start_time": "2022-11-20T19:44:39.253Z"
   },
   {
    "duration": 21,
    "start_time": "2022-11-20T19:44:39.305Z"
   },
   {
    "duration": 17,
    "start_time": "2022-11-20T19:44:39.327Z"
   },
   {
    "duration": 17,
    "start_time": "2022-11-20T19:44:39.345Z"
   },
   {
    "duration": 20,
    "start_time": "2022-11-20T19:44:39.397Z"
   },
   {
    "duration": 20,
    "start_time": "2022-11-20T19:44:39.418Z"
   },
   {
    "duration": 19,
    "start_time": "2022-11-20T19:44:39.440Z"
   },
   {
    "duration": 176,
    "start_time": "2022-11-20T19:44:39.461Z"
   },
   {
    "duration": 10,
    "start_time": "2022-11-20T19:44:39.639Z"
   },
   {
    "duration": 8,
    "start_time": "2022-11-20T19:44:39.651Z"
   },
   {
    "duration": 6,
    "start_time": "2022-11-20T19:44:39.661Z"
   },
   {
    "duration": 38,
    "start_time": "2022-11-20T19:44:39.668Z"
   },
   {
    "duration": 8,
    "start_time": "2022-11-20T19:44:39.708Z"
   },
   {
    "duration": 740,
    "start_time": "2022-11-21T08:57:09.166Z"
   },
   {
    "duration": 15,
    "start_time": "2022-11-21T08:57:09.908Z"
   },
   {
    "duration": 21,
    "start_time": "2022-11-21T08:57:32.390Z"
   },
   {
    "duration": 8,
    "start_time": "2022-11-21T08:58:32.823Z"
   },
   {
    "duration": 5,
    "start_time": "2022-11-21T08:58:33.110Z"
   },
   {
    "duration": 52,
    "start_time": "2022-11-21T08:59:11.558Z"
   },
   {
    "duration": 10,
    "start_time": "2022-11-21T08:59:15.401Z"
   },
   {
    "duration": 53,
    "start_time": "2022-11-21T09:00:16.685Z"
   },
   {
    "duration": 10,
    "start_time": "2022-11-21T09:00:29.379Z"
   },
   {
    "duration": 19,
    "start_time": "2022-11-21T09:00:31.141Z"
   },
   {
    "duration": 15,
    "start_time": "2022-11-21T09:00:32.996Z"
   },
   {
    "duration": 16,
    "start_time": "2022-11-21T09:01:34.007Z"
   },
   {
    "duration": 11,
    "start_time": "2022-11-21T09:01:40.750Z"
   },
   {
    "duration": 4,
    "start_time": "2022-11-21T09:01:40.991Z"
   },
   {
    "duration": 73,
    "start_time": "2022-11-21T09:01:47.015Z"
   },
   {
    "duration": 5,
    "start_time": "2022-11-21T09:04:12.597Z"
   },
   {
    "duration": 20,
    "start_time": "2022-11-21T09:04:12.748Z"
   },
   {
    "duration": 17,
    "start_time": "2022-11-21T09:04:17.140Z"
   },
   {
    "duration": 20,
    "start_time": "2022-11-21T09:04:29.190Z"
   },
   {
    "duration": 17,
    "start_time": "2022-11-21T09:04:42.013Z"
   },
   {
    "duration": 24,
    "start_time": "2022-11-21T09:04:42.562Z"
   },
   {
    "duration": 15,
    "start_time": "2022-11-21T09:04:50.513Z"
   },
   {
    "duration": 5,
    "start_time": "2022-11-21T09:04:51.770Z"
   },
   {
    "duration": 18,
    "start_time": "2022-11-21T09:04:52.838Z"
   },
   {
    "duration": 6,
    "start_time": "2022-11-21T09:04:59.831Z"
   },
   {
    "duration": 15,
    "start_time": "2022-11-21T09:05:00.069Z"
   },
   {
    "duration": 5,
    "start_time": "2022-11-21T09:05:04.311Z"
   },
   {
    "duration": 15,
    "start_time": "2022-11-21T09:05:04.485Z"
   },
   {
    "duration": 21,
    "start_time": "2022-11-21T09:05:06.444Z"
   },
   {
    "duration": 5,
    "start_time": "2022-11-21T09:05:52.495Z"
   },
   {
    "duration": 6,
    "start_time": "2022-11-21T09:05:52.663Z"
   },
   {
    "duration": 6,
    "start_time": "2022-11-21T09:05:53.055Z"
   },
   {
    "duration": 3,
    "start_time": "2022-11-21T09:05:56.314Z"
   },
   {
    "duration": 13,
    "start_time": "2022-11-21T09:05:57.061Z"
   },
   {
    "duration": 4,
    "start_time": "2022-11-21T09:05:57.378Z"
   },
   {
    "duration": 115,
    "start_time": "2022-11-21T09:06:06.500Z"
   },
   {
    "duration": 113,
    "start_time": "2022-11-21T09:06:08.899Z"
   },
   {
    "duration": 112,
    "start_time": "2022-11-21T09:06:09.183Z"
   },
   {
    "duration": 154,
    "start_time": "2022-11-21T09:06:09.455Z"
   },
   {
    "duration": 4,
    "start_time": "2022-11-21T09:06:56.417Z"
   },
   {
    "duration": 12,
    "start_time": "2022-11-21T09:06:56.961Z"
   },
   {
    "duration": 12,
    "start_time": "2022-11-21T09:06:57.223Z"
   },
   {
    "duration": 5,
    "start_time": "2022-11-21T09:06:57.895Z"
   },
   {
    "duration": 5,
    "start_time": "2022-11-21T09:07:29.023Z"
   },
   {
    "duration": 131,
    "start_time": "2022-11-21T09:07:29.481Z"
   },
   {
    "duration": 8,
    "start_time": "2022-11-21T09:08:33.325Z"
   },
   {
    "duration": 8,
    "start_time": "2022-11-21T09:09:34.492Z"
   },
   {
    "duration": 9,
    "start_time": "2022-11-21T09:09:34.931Z"
   },
   {
    "duration": 9,
    "start_time": "2022-11-21T09:09:35.162Z"
   },
   {
    "duration": 9,
    "start_time": "2022-11-21T09:09:35.390Z"
   },
   {
    "duration": 8,
    "start_time": "2022-11-21T09:09:35.664Z"
   },
   {
    "duration": 14,
    "start_time": "2022-11-21T09:09:36.241Z"
   },
   {
    "duration": 8,
    "start_time": "2022-11-21T09:09:36.465Z"
   },
   {
    "duration": 10,
    "start_time": "2022-11-21T09:09:36.661Z"
   },
   {
    "duration": 12,
    "start_time": "2022-11-21T09:09:36.845Z"
   },
   {
    "duration": 5,
    "start_time": "2022-11-21T09:11:41.602Z"
   },
   {
    "duration": 15,
    "start_time": "2022-11-21T09:11:49.096Z"
   },
   {
    "duration": 165,
    "start_time": "2022-11-21T09:13:03.637Z"
   },
   {
    "duration": 161,
    "start_time": "2022-11-21T09:13:06.531Z"
   },
   {
    "duration": 163,
    "start_time": "2022-11-21T09:13:07.223Z"
   },
   {
    "duration": 146,
    "start_time": "2022-11-21T09:13:07.959Z"
   },
   {
    "duration": 155,
    "start_time": "2022-11-21T09:13:08.548Z"
   },
   {
    "duration": 13,
    "start_time": "2022-11-21T09:13:23.294Z"
   },
   {
    "duration": 6,
    "start_time": "2022-11-21T09:13:23.788Z"
   },
   {
    "duration": 6,
    "start_time": "2022-11-21T09:13:24.254Z"
   },
   {
    "duration": 7,
    "start_time": "2022-11-21T09:13:24.706Z"
   },
   {
    "duration": 6,
    "start_time": "2022-11-21T09:13:25.112Z"
   },
   {
    "duration": 7,
    "start_time": "2022-11-21T09:13:25.518Z"
   },
   {
    "duration": 9,
    "start_time": "2022-11-21T09:13:25.945Z"
   },
   {
    "duration": 7,
    "start_time": "2022-11-21T09:13:26.512Z"
   },
   {
    "duration": 8,
    "start_time": "2022-11-21T09:13:26.715Z"
   },
   {
    "duration": 6,
    "start_time": "2022-11-21T09:13:26.909Z"
   },
   {
    "duration": 19,
    "start_time": "2022-11-21T09:13:27.102Z"
   },
   {
    "duration": 19,
    "start_time": "2022-11-21T09:13:27.305Z"
   },
   {
    "duration": 19,
    "start_time": "2022-11-21T09:13:27.509Z"
   },
   {
    "duration": 20,
    "start_time": "2022-11-21T09:13:27.713Z"
   },
   {
    "duration": 19,
    "start_time": "2022-11-21T09:13:28.290Z"
   },
   {
    "duration": 31,
    "start_time": "2022-11-21T09:13:28.636Z"
   },
   {
    "duration": 28,
    "start_time": "2022-11-21T09:13:29.230Z"
   },
   {
    "duration": 148,
    "start_time": "2022-11-21T09:13:29.397Z"
   },
   {
    "duration": 10,
    "start_time": "2022-11-21T09:13:32.500Z"
   },
   {
    "duration": 13,
    "start_time": "2022-11-21T09:13:36.847Z"
   },
   {
    "duration": 12,
    "start_time": "2022-11-21T09:13:36.923Z"
   },
   {
    "duration": 11,
    "start_time": "2022-11-21T09:13:37.009Z"
   },
   {
    "duration": 19,
    "start_time": "2022-11-21T09:13:37.091Z"
   },
   {
    "duration": 19,
    "start_time": "2022-11-21T09:13:37.654Z"
   },
   {
    "duration": 19,
    "start_time": "2022-11-21T09:13:37.802Z"
   },
   {
    "duration": 24,
    "start_time": "2022-11-21T09:13:37.975Z"
   },
   {
    "duration": 25,
    "start_time": "2022-11-21T09:13:38.131Z"
   },
   {
    "duration": 21,
    "start_time": "2022-11-21T09:13:38.292Z"
   },
   {
    "duration": 21,
    "start_time": "2022-11-21T09:13:38.469Z"
   },
   {
    "duration": 176,
    "start_time": "2022-11-21T09:13:39.039Z"
   },
   {
    "duration": 10,
    "start_time": "2022-11-21T09:13:40.479Z"
   },
   {
    "duration": 7,
    "start_time": "2022-11-21T09:13:42.060Z"
   },
   {
    "duration": 9,
    "start_time": "2022-11-21T09:13:42.561Z"
   },
   {
    "duration": 14,
    "start_time": "2022-11-21T09:13:42.644Z"
   },
   {
    "duration": 6,
    "start_time": "2022-11-21T09:13:42.803Z"
   },
   {
    "duration": 1057,
    "start_time": "2022-11-21T10:55:05.014Z"
   },
   {
    "duration": 16,
    "start_time": "2022-11-21T10:55:06.074Z"
   },
   {
    "duration": 20,
    "start_time": "2022-11-21T10:55:06.092Z"
   },
   {
    "duration": 7,
    "start_time": "2022-11-21T10:55:06.114Z"
   },
   {
    "duration": 29,
    "start_time": "2022-11-21T10:55:06.123Z"
   },
   {
    "duration": 99,
    "start_time": "2022-11-21T10:55:06.154Z"
   },
   {
    "duration": 11,
    "start_time": "2022-11-21T10:55:06.255Z"
   },
   {
    "duration": 22,
    "start_time": "2022-11-21T10:55:06.267Z"
   },
   {
    "duration": 15,
    "start_time": "2022-11-21T10:55:06.291Z"
   },
   {
    "duration": 23,
    "start_time": "2022-11-21T10:55:06.309Z"
   },
   {
    "duration": 14,
    "start_time": "2022-11-21T10:55:06.334Z"
   },
   {
    "duration": 9,
    "start_time": "2022-11-21T10:55:06.350Z"
   },
   {
    "duration": 26,
    "start_time": "2022-11-21T10:55:06.360Z"
   },
   {
    "duration": 55,
    "start_time": "2022-11-21T10:55:06.387Z"
   },
   {
    "duration": 5,
    "start_time": "2022-11-21T10:55:06.444Z"
   },
   {
    "duration": 32,
    "start_time": "2022-11-21T10:55:06.451Z"
   },
   {
    "duration": 9,
    "start_time": "2022-11-21T10:55:06.485Z"
   },
   {
    "duration": 26,
    "start_time": "2022-11-21T10:55:06.496Z"
   },
   {
    "duration": 4,
    "start_time": "2022-11-21T10:55:06.524Z"
   },
   {
    "duration": 18,
    "start_time": "2022-11-21T10:55:06.529Z"
   },
   {
    "duration": 36,
    "start_time": "2022-11-21T10:55:06.548Z"
   },
   {
    "duration": 6,
    "start_time": "2022-11-21T10:55:06.585Z"
   },
   {
    "duration": 16,
    "start_time": "2022-11-21T10:55:06.592Z"
   },
   {
    "duration": 7,
    "start_time": "2022-11-21T10:55:06.610Z"
   },
   {
    "duration": 17,
    "start_time": "2022-11-21T10:55:06.619Z"
   },
   {
    "duration": 6,
    "start_time": "2022-11-21T10:55:06.637Z"
   },
   {
    "duration": 44,
    "start_time": "2022-11-21T10:55:06.644Z"
   },
   {
    "duration": 19,
    "start_time": "2022-11-21T10:55:06.693Z"
   },
   {
    "duration": 5,
    "start_time": "2022-11-21T10:55:06.714Z"
   },
   {
    "duration": 8,
    "start_time": "2022-11-21T10:55:06.720Z"
   },
   {
    "duration": 8,
    "start_time": "2022-11-21T10:55:06.730Z"
   },
   {
    "duration": 15,
    "start_time": "2022-11-21T10:55:06.739Z"
   },
   {
    "duration": 25,
    "start_time": "2022-11-21T10:55:06.756Z"
   },
   {
    "duration": 137,
    "start_time": "2022-11-21T10:55:06.782Z"
   },
   {
    "duration": 129,
    "start_time": "2022-11-21T10:55:06.921Z"
   },
   {
    "duration": 143,
    "start_time": "2022-11-21T10:55:07.052Z"
   },
   {
    "duration": 169,
    "start_time": "2022-11-21T10:55:07.197Z"
   },
   {
    "duration": 10,
    "start_time": "2022-11-21T10:55:07.368Z"
   },
   {
    "duration": 11,
    "start_time": "2022-11-21T10:55:07.380Z"
   },
   {
    "duration": 12,
    "start_time": "2022-11-21T10:55:07.393Z"
   },
   {
    "duration": 7,
    "start_time": "2022-11-21T10:55:07.406Z"
   },
   {
    "duration": 5,
    "start_time": "2022-11-21T10:55:07.415Z"
   },
   {
    "duration": 158,
    "start_time": "2022-11-21T10:55:07.421Z"
   },
   {
    "duration": 10,
    "start_time": "2022-11-21T10:55:07.580Z"
   },
   {
    "duration": 8,
    "start_time": "2022-11-21T10:55:07.591Z"
   },
   {
    "duration": 11,
    "start_time": "2022-11-21T10:55:07.600Z"
   },
   {
    "duration": 9,
    "start_time": "2022-11-21T10:55:07.612Z"
   },
   {
    "duration": 7,
    "start_time": "2022-11-21T10:55:07.622Z"
   },
   {
    "duration": 7,
    "start_time": "2022-11-21T10:55:07.631Z"
   },
   {
    "duration": 38,
    "start_time": "2022-11-21T10:55:07.640Z"
   },
   {
    "duration": 8,
    "start_time": "2022-11-21T10:55:07.680Z"
   },
   {
    "duration": 9,
    "start_time": "2022-11-21T10:55:07.689Z"
   },
   {
    "duration": 12,
    "start_time": "2022-11-21T10:55:07.700Z"
   },
   {
    "duration": 9,
    "start_time": "2022-11-21T10:55:07.713Z"
   },
   {
    "duration": 19,
    "start_time": "2022-11-21T10:55:07.724Z"
   },
   {
    "duration": 183,
    "start_time": "2022-11-21T10:55:07.744Z"
   },
   {
    "duration": 159,
    "start_time": "2022-11-21T10:55:07.928Z"
   },
   {
    "duration": 160,
    "start_time": "2022-11-21T10:55:08.089Z"
   },
   {
    "duration": 153,
    "start_time": "2022-11-21T10:55:08.251Z"
   },
   {
    "duration": 162,
    "start_time": "2022-11-21T10:55:08.405Z"
   },
   {
    "duration": 16,
    "start_time": "2022-11-21T10:55:08.568Z"
   },
   {
    "duration": 28,
    "start_time": "2022-11-21T10:55:08.585Z"
   },
   {
    "duration": 30,
    "start_time": "2022-11-21T10:55:08.615Z"
   },
   {
    "duration": 12,
    "start_time": "2022-11-21T10:55:08.647Z"
   },
   {
    "duration": 25,
    "start_time": "2022-11-21T10:55:08.660Z"
   },
   {
    "duration": 28,
    "start_time": "2022-11-21T10:55:08.686Z"
   },
   {
    "duration": 10,
    "start_time": "2022-11-21T10:55:08.715Z"
   },
   {
    "duration": 27,
    "start_time": "2022-11-21T10:55:08.727Z"
   },
   {
    "duration": 30,
    "start_time": "2022-11-21T10:55:08.755Z"
   },
   {
    "duration": 24,
    "start_time": "2022-11-21T10:55:08.787Z"
   },
   {
    "duration": 25,
    "start_time": "2022-11-21T10:55:08.813Z"
   },
   {
    "duration": 37,
    "start_time": "2022-11-21T10:55:08.840Z"
   },
   {
    "duration": 43,
    "start_time": "2022-11-21T10:55:08.879Z"
   },
   {
    "duration": 34,
    "start_time": "2022-11-21T10:55:08.923Z"
   },
   {
    "duration": 37,
    "start_time": "2022-11-21T10:55:08.959Z"
   },
   {
    "duration": 35,
    "start_time": "2022-11-21T10:55:08.998Z"
   },
   {
    "duration": 35,
    "start_time": "2022-11-21T10:55:09.035Z"
   },
   {
    "duration": 163,
    "start_time": "2022-11-21T10:55:09.072Z"
   },
   {
    "duration": 9,
    "start_time": "2022-11-21T10:55:09.237Z"
   },
   {
    "duration": 14,
    "start_time": "2022-11-21T10:55:09.248Z"
   },
   {
    "duration": 10,
    "start_time": "2022-11-21T10:55:09.278Z"
   },
   {
    "duration": 11,
    "start_time": "2022-11-21T10:55:09.294Z"
   },
   {
    "duration": 24,
    "start_time": "2022-11-21T10:55:09.306Z"
   },
   {
    "duration": 25,
    "start_time": "2022-11-21T10:55:09.331Z"
   },
   {
    "duration": 37,
    "start_time": "2022-11-21T10:55:09.358Z"
   },
   {
    "duration": 20,
    "start_time": "2022-11-21T10:55:09.396Z"
   },
   {
    "duration": 19,
    "start_time": "2022-11-21T10:55:09.418Z"
   },
   {
    "duration": 49,
    "start_time": "2022-11-21T10:55:09.439Z"
   },
   {
    "duration": 21,
    "start_time": "2022-11-21T10:55:09.490Z"
   },
   {
    "duration": 218,
    "start_time": "2022-11-21T10:55:09.513Z"
   },
   {
    "duration": 9,
    "start_time": "2022-11-21T10:55:09.734Z"
   },
   {
    "duration": 11,
    "start_time": "2022-11-21T10:55:09.745Z"
   },
   {
    "duration": 23,
    "start_time": "2022-11-21T10:55:09.758Z"
   },
   {
    "duration": 23,
    "start_time": "2022-11-21T10:55:09.783Z"
   },
   {
    "duration": 13,
    "start_time": "2022-11-21T10:55:09.808Z"
   },
   {
    "duration": 28,
    "start_time": "2022-11-21T11:05:42.151Z"
   },
   {
    "duration": 19,
    "start_time": "2022-11-21T11:06:35.095Z"
   },
   {
    "duration": 20,
    "start_time": "2022-11-21T11:07:52.992Z"
   },
   {
    "duration": 25,
    "start_time": "2022-11-21T11:12:23.093Z"
   },
   {
    "duration": 407,
    "start_time": "2022-11-21T11:12:33.392Z"
   },
   {
    "duration": 827,
    "start_time": "2022-11-21T11:12:49.478Z"
   },
   {
    "duration": 17,
    "start_time": "2022-11-21T11:12:50.307Z"
   },
   {
    "duration": 25,
    "start_time": "2022-11-21T11:12:50.329Z"
   },
   {
    "duration": 22,
    "start_time": "2022-11-21T11:12:50.356Z"
   },
   {
    "duration": 7,
    "start_time": "2022-11-21T11:12:50.380Z"
   },
   {
    "duration": 48,
    "start_time": "2022-11-21T11:12:50.389Z"
   },
   {
    "duration": 12,
    "start_time": "2022-11-21T11:12:50.439Z"
   },
   {
    "duration": 31,
    "start_time": "2022-11-21T11:12:50.453Z"
   },
   {
    "duration": 14,
    "start_time": "2022-11-21T11:12:50.487Z"
   },
   {
    "duration": 28,
    "start_time": "2022-11-21T11:12:50.503Z"
   },
   {
    "duration": 15,
    "start_time": "2022-11-21T11:12:50.533Z"
   },
   {
    "duration": 21,
    "start_time": "2022-11-21T11:12:50.550Z"
   },
   {
    "duration": 20,
    "start_time": "2022-11-21T11:12:50.573Z"
   },
   {
    "duration": 72,
    "start_time": "2022-11-21T11:12:50.595Z"
   },
   {
    "duration": 6,
    "start_time": "2022-11-21T11:12:50.669Z"
   },
   {
    "duration": 22,
    "start_time": "2022-11-21T11:12:50.678Z"
   },
   {
    "duration": 16,
    "start_time": "2022-11-21T11:12:50.702Z"
   },
   {
    "duration": 35,
    "start_time": "2022-11-21T11:12:50.720Z"
   },
   {
    "duration": 9,
    "start_time": "2022-11-21T11:12:50.758Z"
   },
   {
    "duration": 30,
    "start_time": "2022-11-21T11:12:50.769Z"
   },
   {
    "duration": 34,
    "start_time": "2022-11-21T11:12:50.801Z"
   },
   {
    "duration": 7,
    "start_time": "2022-11-21T11:12:50.837Z"
   },
   {
    "duration": 38,
    "start_time": "2022-11-21T11:12:50.846Z"
   },
   {
    "duration": 6,
    "start_time": "2022-11-21T11:12:50.886Z"
   },
   {
    "duration": 21,
    "start_time": "2022-11-21T11:12:50.894Z"
   },
   {
    "duration": 9,
    "start_time": "2022-11-21T11:12:50.917Z"
   },
   {
    "duration": 47,
    "start_time": "2022-11-21T11:12:50.932Z"
   },
   {
    "duration": 19,
    "start_time": "2022-11-21T11:12:50.981Z"
   },
   {
    "duration": 8,
    "start_time": "2022-11-21T11:12:51.001Z"
   },
   {
    "duration": 11,
    "start_time": "2022-11-21T11:12:51.011Z"
   },
   {
    "duration": 15,
    "start_time": "2022-11-21T11:12:51.024Z"
   },
   {
    "duration": 39,
    "start_time": "2022-11-21T11:12:51.041Z"
   },
   {
    "duration": 8,
    "start_time": "2022-11-21T11:12:51.082Z"
   },
   {
    "duration": 133,
    "start_time": "2022-11-21T11:12:51.092Z"
   },
   {
    "duration": 136,
    "start_time": "2022-11-21T11:12:51.227Z"
   },
   {
    "duration": 155,
    "start_time": "2022-11-21T11:12:51.365Z"
   },
   {
    "duration": 185,
    "start_time": "2022-11-21T11:12:51.522Z"
   },
   {
    "duration": 17,
    "start_time": "2022-11-21T11:12:51.709Z"
   },
   {
    "duration": 1342,
    "start_time": "2022-11-21T11:12:51.727Z"
   },
   {
    "duration": 0,
    "start_time": "2022-11-21T11:12:53.071Z"
   },
   {
    "duration": 0,
    "start_time": "2022-11-21T11:12:53.073Z"
   },
   {
    "duration": 0,
    "start_time": "2022-11-21T11:12:53.074Z"
   },
   {
    "duration": 0,
    "start_time": "2022-11-21T11:12:53.075Z"
   },
   {
    "duration": 0,
    "start_time": "2022-11-21T11:12:53.076Z"
   },
   {
    "duration": 0,
    "start_time": "2022-11-21T11:12:53.077Z"
   },
   {
    "duration": 0,
    "start_time": "2022-11-21T11:12:53.078Z"
   },
   {
    "duration": 0,
    "start_time": "2022-11-21T11:12:53.080Z"
   },
   {
    "duration": 0,
    "start_time": "2022-11-21T11:12:53.081Z"
   },
   {
    "duration": 0,
    "start_time": "2022-11-21T11:12:53.083Z"
   },
   {
    "duration": 0,
    "start_time": "2022-11-21T11:12:53.084Z"
   },
   {
    "duration": 0,
    "start_time": "2022-11-21T11:12:53.085Z"
   },
   {
    "duration": 0,
    "start_time": "2022-11-21T11:12:53.087Z"
   },
   {
    "duration": 0,
    "start_time": "2022-11-21T11:12:53.089Z"
   },
   {
    "duration": 0,
    "start_time": "2022-11-21T11:12:53.089Z"
   },
   {
    "duration": 0,
    "start_time": "2022-11-21T11:12:53.090Z"
   },
   {
    "duration": 0,
    "start_time": "2022-11-21T11:12:53.092Z"
   },
   {
    "duration": 0,
    "start_time": "2022-11-21T11:12:53.093Z"
   },
   {
    "duration": 0,
    "start_time": "2022-11-21T11:12:53.094Z"
   },
   {
    "duration": 0,
    "start_time": "2022-11-21T11:12:53.096Z"
   },
   {
    "duration": 0,
    "start_time": "2022-11-21T11:12:53.097Z"
   },
   {
    "duration": 0,
    "start_time": "2022-11-21T11:12:53.098Z"
   },
   {
    "duration": 0,
    "start_time": "2022-11-21T11:12:53.099Z"
   },
   {
    "duration": 0,
    "start_time": "2022-11-21T11:12:53.101Z"
   },
   {
    "duration": 0,
    "start_time": "2022-11-21T11:12:53.102Z"
   },
   {
    "duration": 0,
    "start_time": "2022-11-21T11:12:53.103Z"
   },
   {
    "duration": 0,
    "start_time": "2022-11-21T11:12:53.105Z"
   },
   {
    "duration": 0,
    "start_time": "2022-11-21T11:12:53.106Z"
   },
   {
    "duration": 1,
    "start_time": "2022-11-21T11:12:53.106Z"
   },
   {
    "duration": 0,
    "start_time": "2022-11-21T11:12:53.107Z"
   },
   {
    "duration": 0,
    "start_time": "2022-11-21T11:12:53.110Z"
   },
   {
    "duration": 0,
    "start_time": "2022-11-21T11:12:53.111Z"
   },
   {
    "duration": 0,
    "start_time": "2022-11-21T11:12:53.113Z"
   },
   {
    "duration": 0,
    "start_time": "2022-11-21T11:12:53.114Z"
   },
   {
    "duration": 0,
    "start_time": "2022-11-21T11:12:53.115Z"
   },
   {
    "duration": 0,
    "start_time": "2022-11-21T11:12:53.117Z"
   },
   {
    "duration": 0,
    "start_time": "2022-11-21T11:12:53.119Z"
   },
   {
    "duration": 0,
    "start_time": "2022-11-21T11:12:53.120Z"
   },
   {
    "duration": 0,
    "start_time": "2022-11-21T11:12:53.121Z"
   },
   {
    "duration": 0,
    "start_time": "2022-11-21T11:12:53.181Z"
   },
   {
    "duration": 0,
    "start_time": "2022-11-21T11:12:53.182Z"
   },
   {
    "duration": 0,
    "start_time": "2022-11-21T11:12:53.184Z"
   },
   {
    "duration": 0,
    "start_time": "2022-11-21T11:12:53.185Z"
   },
   {
    "duration": 0,
    "start_time": "2022-11-21T11:12:53.187Z"
   },
   {
    "duration": 0,
    "start_time": "2022-11-21T11:12:53.188Z"
   },
   {
    "duration": 0,
    "start_time": "2022-11-21T11:12:53.190Z"
   },
   {
    "duration": 0,
    "start_time": "2022-11-21T11:12:53.191Z"
   },
   {
    "duration": 0,
    "start_time": "2022-11-21T11:12:53.192Z"
   },
   {
    "duration": 0,
    "start_time": "2022-11-21T11:12:53.194Z"
   },
   {
    "duration": 0,
    "start_time": "2022-11-21T11:12:53.195Z"
   },
   {
    "duration": 0,
    "start_time": "2022-11-21T11:12:53.196Z"
   },
   {
    "duration": 0,
    "start_time": "2022-11-21T11:12:53.198Z"
   },
   {
    "duration": 0,
    "start_time": "2022-11-21T11:12:53.199Z"
   },
   {
    "duration": 0,
    "start_time": "2022-11-21T11:12:53.201Z"
   },
   {
    "duration": 0,
    "start_time": "2022-11-21T11:12:53.202Z"
   },
   {
    "duration": 0,
    "start_time": "2022-11-21T11:12:53.203Z"
   },
   {
    "duration": 0,
    "start_time": "2022-11-21T11:12:53.205Z"
   },
   {
    "duration": 0,
    "start_time": "2022-11-21T11:12:53.206Z"
   },
   {
    "duration": 0,
    "start_time": "2022-11-21T11:12:53.208Z"
   },
   {
    "duration": 0,
    "start_time": "2022-11-21T11:12:53.209Z"
   },
   {
    "duration": 807,
    "start_time": "2022-11-21T11:14:35.747Z"
   },
   {
    "duration": 16,
    "start_time": "2022-11-21T11:14:36.556Z"
   },
   {
    "duration": 14,
    "start_time": "2022-11-21T11:14:36.573Z"
   },
   {
    "duration": 8,
    "start_time": "2022-11-21T11:14:36.589Z"
   },
   {
    "duration": 7,
    "start_time": "2022-11-21T11:14:36.599Z"
   },
   {
    "duration": 49,
    "start_time": "2022-11-21T11:14:36.608Z"
   },
   {
    "duration": 12,
    "start_time": "2022-11-21T11:14:36.658Z"
   },
   {
    "duration": 13,
    "start_time": "2022-11-21T11:14:36.672Z"
   },
   {
    "duration": 14,
    "start_time": "2022-11-21T11:14:36.687Z"
   },
   {
    "duration": 25,
    "start_time": "2022-11-21T11:14:36.704Z"
   },
   {
    "duration": 15,
    "start_time": "2022-11-21T11:14:36.731Z"
   },
   {
    "duration": 32,
    "start_time": "2022-11-21T11:14:36.748Z"
   },
   {
    "duration": 7,
    "start_time": "2022-11-21T11:14:36.782Z"
   },
   {
    "duration": 57,
    "start_time": "2022-11-21T11:14:36.790Z"
   },
   {
    "duration": 4,
    "start_time": "2022-11-21T11:14:36.849Z"
   },
   {
    "duration": 23,
    "start_time": "2022-11-21T11:14:36.878Z"
   },
   {
    "duration": 17,
    "start_time": "2022-11-21T11:14:36.903Z"
   },
   {
    "duration": 56,
    "start_time": "2022-11-21T11:14:36.923Z"
   },
   {
    "duration": 30,
    "start_time": "2022-11-21T11:14:36.981Z"
   },
   {
    "duration": 33,
    "start_time": "2022-11-21T11:14:37.013Z"
   },
   {
    "duration": 46,
    "start_time": "2022-11-21T11:14:37.047Z"
   },
   {
    "duration": 23,
    "start_time": "2022-11-21T11:14:37.095Z"
   },
   {
    "duration": 16,
    "start_time": "2022-11-21T11:14:37.119Z"
   },
   {
    "duration": 7,
    "start_time": "2022-11-21T11:14:37.136Z"
   },
   {
    "duration": 20,
    "start_time": "2022-11-21T11:14:37.145Z"
   },
   {
    "duration": 18,
    "start_time": "2022-11-21T11:14:37.166Z"
   },
   {
    "duration": 28,
    "start_time": "2022-11-21T11:14:37.186Z"
   },
   {
    "duration": 17,
    "start_time": "2022-11-21T11:14:37.218Z"
   },
   {
    "duration": 5,
    "start_time": "2022-11-21T11:14:37.237Z"
   },
   {
    "duration": 16,
    "start_time": "2022-11-21T11:14:37.244Z"
   },
   {
    "duration": 16,
    "start_time": "2022-11-21T11:14:37.261Z"
   },
   {
    "duration": 17,
    "start_time": "2022-11-21T11:14:37.280Z"
   },
   {
    "duration": 16,
    "start_time": "2022-11-21T11:14:37.299Z"
   },
   {
    "duration": 120,
    "start_time": "2022-11-21T11:14:37.317Z"
   },
   {
    "duration": 140,
    "start_time": "2022-11-21T11:14:37.438Z"
   },
   {
    "duration": 130,
    "start_time": "2022-11-21T11:14:37.580Z"
   },
   {
    "duration": 182,
    "start_time": "2022-11-21T11:14:37.712Z"
   },
   {
    "duration": 18,
    "start_time": "2022-11-21T11:14:37.896Z"
   },
   {
    "duration": 23,
    "start_time": "2022-11-21T11:14:37.916Z"
   },
   {
    "duration": 47,
    "start_time": "2022-11-21T11:14:37.941Z"
   },
   {
    "duration": 402,
    "start_time": "2022-11-21T11:14:37.990Z"
   },
   {
    "duration": 0,
    "start_time": "2022-11-21T11:14:38.394Z"
   },
   {
    "duration": 0,
    "start_time": "2022-11-21T11:14:38.396Z"
   },
   {
    "duration": 0,
    "start_time": "2022-11-21T11:14:38.397Z"
   },
   {
    "duration": 0,
    "start_time": "2022-11-21T11:14:38.398Z"
   },
   {
    "duration": 0,
    "start_time": "2022-11-21T11:14:38.399Z"
   },
   {
    "duration": 0,
    "start_time": "2022-11-21T11:14:38.401Z"
   },
   {
    "duration": 0,
    "start_time": "2022-11-21T11:14:38.402Z"
   },
   {
    "duration": 0,
    "start_time": "2022-11-21T11:14:38.403Z"
   },
   {
    "duration": 0,
    "start_time": "2022-11-21T11:14:38.404Z"
   },
   {
    "duration": 0,
    "start_time": "2022-11-21T11:14:38.406Z"
   },
   {
    "duration": 0,
    "start_time": "2022-11-21T11:14:38.407Z"
   },
   {
    "duration": 0,
    "start_time": "2022-11-21T11:14:38.408Z"
   },
   {
    "duration": 0,
    "start_time": "2022-11-21T11:14:38.410Z"
   },
   {
    "duration": 0,
    "start_time": "2022-11-21T11:14:38.411Z"
   },
   {
    "duration": 0,
    "start_time": "2022-11-21T11:14:38.412Z"
   },
   {
    "duration": 0,
    "start_time": "2022-11-21T11:14:38.413Z"
   },
   {
    "duration": 0,
    "start_time": "2022-11-21T11:14:38.415Z"
   },
   {
    "duration": 0,
    "start_time": "2022-11-21T11:14:38.415Z"
   },
   {
    "duration": 0,
    "start_time": "2022-11-21T11:14:38.417Z"
   },
   {
    "duration": 0,
    "start_time": "2022-11-21T11:14:38.418Z"
   },
   {
    "duration": 0,
    "start_time": "2022-11-21T11:14:38.419Z"
   },
   {
    "duration": 0,
    "start_time": "2022-11-21T11:14:38.420Z"
   },
   {
    "duration": 0,
    "start_time": "2022-11-21T11:14:38.421Z"
   },
   {
    "duration": 0,
    "start_time": "2022-11-21T11:14:38.422Z"
   },
   {
    "duration": 0,
    "start_time": "2022-11-21T11:14:38.423Z"
   },
   {
    "duration": 0,
    "start_time": "2022-11-21T11:14:38.424Z"
   },
   {
    "duration": 0,
    "start_time": "2022-11-21T11:14:38.425Z"
   },
   {
    "duration": 0,
    "start_time": "2022-11-21T11:14:38.426Z"
   },
   {
    "duration": 0,
    "start_time": "2022-11-21T11:14:38.427Z"
   },
   {
    "duration": 0,
    "start_time": "2022-11-21T11:14:38.428Z"
   },
   {
    "duration": 0,
    "start_time": "2022-11-21T11:14:38.429Z"
   },
   {
    "duration": 0,
    "start_time": "2022-11-21T11:14:38.431Z"
   },
   {
    "duration": 0,
    "start_time": "2022-11-21T11:14:38.478Z"
   },
   {
    "duration": 0,
    "start_time": "2022-11-21T11:14:38.480Z"
   },
   {
    "duration": 0,
    "start_time": "2022-11-21T11:14:38.481Z"
   },
   {
    "duration": 0,
    "start_time": "2022-11-21T11:14:38.482Z"
   },
   {
    "duration": 0,
    "start_time": "2022-11-21T11:14:38.483Z"
   },
   {
    "duration": 0,
    "start_time": "2022-11-21T11:14:38.484Z"
   },
   {
    "duration": 0,
    "start_time": "2022-11-21T11:14:38.485Z"
   },
   {
    "duration": 0,
    "start_time": "2022-11-21T11:14:38.486Z"
   },
   {
    "duration": 0,
    "start_time": "2022-11-21T11:14:38.487Z"
   },
   {
    "duration": 0,
    "start_time": "2022-11-21T11:14:38.488Z"
   },
   {
    "duration": 0,
    "start_time": "2022-11-21T11:14:38.490Z"
   },
   {
    "duration": 0,
    "start_time": "2022-11-21T11:14:38.491Z"
   },
   {
    "duration": 0,
    "start_time": "2022-11-21T11:14:38.492Z"
   },
   {
    "duration": 0,
    "start_time": "2022-11-21T11:14:38.493Z"
   },
   {
    "duration": 0,
    "start_time": "2022-11-21T11:14:38.495Z"
   },
   {
    "duration": 0,
    "start_time": "2022-11-21T11:14:38.496Z"
   },
   {
    "duration": 0,
    "start_time": "2022-11-21T11:14:38.497Z"
   },
   {
    "duration": 0,
    "start_time": "2022-11-21T11:14:38.499Z"
   },
   {
    "duration": 0,
    "start_time": "2022-11-21T11:14:38.500Z"
   },
   {
    "duration": 0,
    "start_time": "2022-11-21T11:14:38.501Z"
   },
   {
    "duration": 0,
    "start_time": "2022-11-21T11:14:38.502Z"
   },
   {
    "duration": 0,
    "start_time": "2022-11-21T11:14:38.503Z"
   },
   {
    "duration": 0,
    "start_time": "2022-11-21T11:14:38.504Z"
   },
   {
    "duration": 0,
    "start_time": "2022-11-21T11:14:38.505Z"
   },
   {
    "duration": 0,
    "start_time": "2022-11-21T11:14:38.506Z"
   },
   {
    "duration": 0,
    "start_time": "2022-11-21T11:14:38.507Z"
   },
   {
    "duration": 80,
    "start_time": "2022-11-21T11:15:41.362Z"
   },
   {
    "duration": 9,
    "start_time": "2022-11-21T11:15:45.100Z"
   },
   {
    "duration": 307,
    "start_time": "2022-11-21T11:16:23.467Z"
   },
   {
    "duration": 295,
    "start_time": "2022-11-21T11:16:41.150Z"
   },
   {
    "duration": 12,
    "start_time": "2022-11-21T11:19:28.306Z"
   },
   {
    "duration": 8,
    "start_time": "2022-11-21T11:21:09.910Z"
   },
   {
    "duration": 37,
    "start_time": "2022-11-21T11:28:07.946Z"
   },
   {
    "duration": 52,
    "start_time": "2022-11-21T11:28:18.885Z"
   },
   {
    "duration": 5,
    "start_time": "2022-11-21T11:33:06.861Z"
   },
   {
    "duration": 7,
    "start_time": "2022-11-21T11:33:08.958Z"
   },
   {
    "duration": 884,
    "start_time": "2022-11-21T11:33:35.357Z"
   },
   {
    "duration": 21,
    "start_time": "2022-11-21T11:33:36.243Z"
   },
   {
    "duration": 22,
    "start_time": "2022-11-21T11:33:36.278Z"
   },
   {
    "duration": 9,
    "start_time": "2022-11-21T11:33:36.303Z"
   },
   {
    "duration": 18,
    "start_time": "2022-11-21T11:33:36.314Z"
   },
   {
    "duration": 48,
    "start_time": "2022-11-21T11:33:36.334Z"
   },
   {
    "duration": 16,
    "start_time": "2022-11-21T11:33:36.384Z"
   },
   {
    "duration": 18,
    "start_time": "2022-11-21T11:33:36.403Z"
   },
   {
    "duration": 17,
    "start_time": "2022-11-21T11:33:36.423Z"
   },
   {
    "duration": 51,
    "start_time": "2022-11-21T11:33:36.444Z"
   },
   {
    "duration": 22,
    "start_time": "2022-11-21T11:33:36.499Z"
   },
   {
    "duration": 12,
    "start_time": "2022-11-21T11:33:36.523Z"
   },
   {
    "duration": 13,
    "start_time": "2022-11-21T11:33:36.537Z"
   },
   {
    "duration": 134,
    "start_time": "2022-11-21T11:33:36.552Z"
   },
   {
    "duration": 6,
    "start_time": "2022-11-21T11:33:36.688Z"
   },
   {
    "duration": 35,
    "start_time": "2022-11-21T11:33:36.696Z"
   },
   {
    "duration": 27,
    "start_time": "2022-11-21T11:33:36.735Z"
   },
   {
    "duration": 44,
    "start_time": "2022-11-21T11:33:36.764Z"
   },
   {
    "duration": 19,
    "start_time": "2022-11-21T11:33:36.810Z"
   },
   {
    "duration": 32,
    "start_time": "2022-11-21T11:33:36.831Z"
   },
   {
    "duration": 39,
    "start_time": "2022-11-21T11:33:36.866Z"
   },
   {
    "duration": 13,
    "start_time": "2022-11-21T11:33:36.907Z"
   },
   {
    "duration": 38,
    "start_time": "2022-11-21T11:33:36.922Z"
   },
   {
    "duration": 53,
    "start_time": "2022-11-21T11:33:36.962Z"
   },
   {
    "duration": 46,
    "start_time": "2022-11-21T11:33:37.017Z"
   },
   {
    "duration": 7,
    "start_time": "2022-11-21T11:33:37.066Z"
   },
   {
    "duration": 31,
    "start_time": "2022-11-21T11:33:37.076Z"
   },
   {
    "duration": 21,
    "start_time": "2022-11-21T11:33:37.114Z"
   },
   {
    "duration": 5,
    "start_time": "2022-11-21T11:33:37.137Z"
   },
   {
    "duration": 9,
    "start_time": "2022-11-21T11:33:37.145Z"
   },
   {
    "duration": 24,
    "start_time": "2022-11-21T11:33:37.156Z"
   },
   {
    "duration": 29,
    "start_time": "2022-11-21T11:33:37.181Z"
   },
   {
    "duration": 9,
    "start_time": "2022-11-21T11:33:37.213Z"
   },
   {
    "duration": 181,
    "start_time": "2022-11-21T11:33:37.225Z"
   },
   {
    "duration": 177,
    "start_time": "2022-11-21T11:33:37.408Z"
   },
   {
    "duration": 203,
    "start_time": "2022-11-21T11:33:37.587Z"
   },
   {
    "duration": 205,
    "start_time": "2022-11-21T11:33:37.792Z"
   },
   {
    "duration": 19,
    "start_time": "2022-11-21T11:33:37.999Z"
   },
   {
    "duration": 25,
    "start_time": "2022-11-21T11:33:38.020Z"
   },
   {
    "duration": 57,
    "start_time": "2022-11-21T11:33:38.049Z"
   },
   {
    "duration": 11,
    "start_time": "2022-11-21T11:33:38.108Z"
   },
   {
    "duration": 130,
    "start_time": "2022-11-21T11:33:38.122Z"
   },
   {
    "duration": 0,
    "start_time": "2022-11-21T11:33:38.256Z"
   },
   {
    "duration": 0,
    "start_time": "2022-11-21T11:33:38.257Z"
   },
   {
    "duration": 0,
    "start_time": "2022-11-21T11:33:38.258Z"
   },
   {
    "duration": 0,
    "start_time": "2022-11-21T11:33:38.259Z"
   },
   {
    "duration": 0,
    "start_time": "2022-11-21T11:33:38.261Z"
   },
   {
    "duration": 0,
    "start_time": "2022-11-21T11:33:38.263Z"
   },
   {
    "duration": 0,
    "start_time": "2022-11-21T11:33:38.278Z"
   },
   {
    "duration": 0,
    "start_time": "2022-11-21T11:33:38.280Z"
   },
   {
    "duration": 0,
    "start_time": "2022-11-21T11:33:38.282Z"
   },
   {
    "duration": 0,
    "start_time": "2022-11-21T11:33:38.285Z"
   },
   {
    "duration": 0,
    "start_time": "2022-11-21T11:33:38.288Z"
   },
   {
    "duration": 0,
    "start_time": "2022-11-21T11:33:38.290Z"
   },
   {
    "duration": 0,
    "start_time": "2022-11-21T11:33:38.292Z"
   },
   {
    "duration": 0,
    "start_time": "2022-11-21T11:33:38.293Z"
   },
   {
    "duration": 0,
    "start_time": "2022-11-21T11:33:38.295Z"
   },
   {
    "duration": 0,
    "start_time": "2022-11-21T11:33:38.297Z"
   },
   {
    "duration": 0,
    "start_time": "2022-11-21T11:33:38.298Z"
   },
   {
    "duration": 0,
    "start_time": "2022-11-21T11:33:38.300Z"
   },
   {
    "duration": 0,
    "start_time": "2022-11-21T11:33:38.302Z"
   },
   {
    "duration": 0,
    "start_time": "2022-11-21T11:33:38.303Z"
   },
   {
    "duration": 0,
    "start_time": "2022-11-21T11:33:38.305Z"
   },
   {
    "duration": 0,
    "start_time": "2022-11-21T11:33:38.307Z"
   },
   {
    "duration": 0,
    "start_time": "2022-11-21T11:33:38.308Z"
   },
   {
    "duration": 0,
    "start_time": "2022-11-21T11:33:38.310Z"
   },
   {
    "duration": 0,
    "start_time": "2022-11-21T11:33:38.312Z"
   },
   {
    "duration": 0,
    "start_time": "2022-11-21T11:33:38.313Z"
   },
   {
    "duration": 0,
    "start_time": "2022-11-21T11:33:38.315Z"
   },
   {
    "duration": 0,
    "start_time": "2022-11-21T11:33:38.317Z"
   },
   {
    "duration": 0,
    "start_time": "2022-11-21T11:33:38.318Z"
   },
   {
    "duration": 0,
    "start_time": "2022-11-21T11:33:38.379Z"
   },
   {
    "duration": 0,
    "start_time": "2022-11-21T11:33:38.382Z"
   },
   {
    "duration": 0,
    "start_time": "2022-11-21T11:33:38.384Z"
   },
   {
    "duration": 0,
    "start_time": "2022-11-21T11:33:38.386Z"
   },
   {
    "duration": 0,
    "start_time": "2022-11-21T11:33:38.387Z"
   },
   {
    "duration": 0,
    "start_time": "2022-11-21T11:33:38.389Z"
   },
   {
    "duration": 0,
    "start_time": "2022-11-21T11:33:38.391Z"
   },
   {
    "duration": 0,
    "start_time": "2022-11-21T11:33:38.393Z"
   },
   {
    "duration": 0,
    "start_time": "2022-11-21T11:33:38.394Z"
   },
   {
    "duration": 0,
    "start_time": "2022-11-21T11:33:38.396Z"
   },
   {
    "duration": 0,
    "start_time": "2022-11-21T11:33:38.398Z"
   },
   {
    "duration": 0,
    "start_time": "2022-11-21T11:33:38.399Z"
   },
   {
    "duration": 0,
    "start_time": "2022-11-21T11:33:38.401Z"
   },
   {
    "duration": 0,
    "start_time": "2022-11-21T11:33:38.402Z"
   },
   {
    "duration": 0,
    "start_time": "2022-11-21T11:33:38.404Z"
   },
   {
    "duration": 0,
    "start_time": "2022-11-21T11:33:38.405Z"
   },
   {
    "duration": 0,
    "start_time": "2022-11-21T11:33:38.408Z"
   },
   {
    "duration": 0,
    "start_time": "2022-11-21T11:33:38.409Z"
   },
   {
    "duration": 0,
    "start_time": "2022-11-21T11:33:38.411Z"
   },
   {
    "duration": 0,
    "start_time": "2022-11-21T11:33:38.412Z"
   },
   {
    "duration": 0,
    "start_time": "2022-11-21T11:33:38.414Z"
   },
   {
    "duration": 0,
    "start_time": "2022-11-21T11:33:38.416Z"
   },
   {
    "duration": 0,
    "start_time": "2022-11-21T11:33:38.417Z"
   },
   {
    "duration": 0,
    "start_time": "2022-11-21T11:33:38.419Z"
   },
   {
    "duration": 0,
    "start_time": "2022-11-21T11:33:38.478Z"
   },
   {
    "duration": 0,
    "start_time": "2022-11-21T11:33:38.480Z"
   },
   {
    "duration": 0,
    "start_time": "2022-11-21T11:33:38.482Z"
   },
   {
    "duration": 0,
    "start_time": "2022-11-21T11:33:38.484Z"
   },
   {
    "duration": 7,
    "start_time": "2022-11-21T11:34:05.949Z"
   },
   {
    "duration": 12,
    "start_time": "2022-11-21T11:34:48.184Z"
   },
   {
    "duration": 10,
    "start_time": "2022-11-21T11:34:56.492Z"
   },
   {
    "duration": 8,
    "start_time": "2022-11-21T11:35:02.208Z"
   },
   {
    "duration": 77,
    "start_time": "2022-11-21T11:35:14.134Z"
   },
   {
    "duration": 9,
    "start_time": "2022-11-21T11:35:18.453Z"
   },
   {
    "duration": 11,
    "start_time": "2022-11-21T11:36:00.556Z"
   },
   {
    "duration": 5,
    "start_time": "2022-11-21T11:36:09.778Z"
   },
   {
    "duration": 910,
    "start_time": "2022-11-21T11:36:33.473Z"
   },
   {
    "duration": 20,
    "start_time": "2022-11-21T11:36:34.386Z"
   },
   {
    "duration": 35,
    "start_time": "2022-11-21T11:36:34.408Z"
   },
   {
    "duration": 24,
    "start_time": "2022-11-21T11:36:34.446Z"
   },
   {
    "duration": 38,
    "start_time": "2022-11-21T11:36:34.472Z"
   },
   {
    "duration": 61,
    "start_time": "2022-11-21T11:36:34.512Z"
   },
   {
    "duration": 15,
    "start_time": "2022-11-21T11:36:34.575Z"
   },
   {
    "duration": 47,
    "start_time": "2022-11-21T11:36:34.592Z"
   },
   {
    "duration": 48,
    "start_time": "2022-11-21T11:36:34.641Z"
   },
   {
    "duration": 33,
    "start_time": "2022-11-21T11:36:34.693Z"
   },
   {
    "duration": 45,
    "start_time": "2022-11-21T11:36:34.728Z"
   },
   {
    "duration": 56,
    "start_time": "2022-11-21T11:36:34.776Z"
   },
   {
    "duration": 22,
    "start_time": "2022-11-21T11:36:34.834Z"
   },
   {
    "duration": 127,
    "start_time": "2022-11-21T11:36:34.858Z"
   },
   {
    "duration": 6,
    "start_time": "2022-11-21T11:36:34.986Z"
   },
   {
    "duration": 43,
    "start_time": "2022-11-21T11:36:34.994Z"
   },
   {
    "duration": 46,
    "start_time": "2022-11-21T11:36:35.039Z"
   },
   {
    "duration": 72,
    "start_time": "2022-11-21T11:36:35.088Z"
   },
   {
    "duration": 31,
    "start_time": "2022-11-21T11:36:35.162Z"
   },
   {
    "duration": 58,
    "start_time": "2022-11-21T11:36:35.196Z"
   },
   {
    "duration": 67,
    "start_time": "2022-11-21T11:36:35.257Z"
   },
   {
    "duration": 21,
    "start_time": "2022-11-21T11:36:35.326Z"
   },
   {
    "duration": 35,
    "start_time": "2022-11-21T11:36:35.348Z"
   },
   {
    "duration": 50,
    "start_time": "2022-11-21T11:36:35.386Z"
   },
   {
    "duration": 52,
    "start_time": "2022-11-21T11:36:35.439Z"
   },
   {
    "duration": 58,
    "start_time": "2022-11-21T11:36:35.493Z"
   },
   {
    "duration": 50,
    "start_time": "2022-11-21T11:36:35.553Z"
   },
   {
    "duration": 47,
    "start_time": "2022-11-21T11:36:35.607Z"
   },
   {
    "duration": 15,
    "start_time": "2022-11-21T11:36:35.662Z"
   },
   {
    "duration": 37,
    "start_time": "2022-11-21T11:36:35.680Z"
   },
   {
    "duration": 65,
    "start_time": "2022-11-21T11:36:35.720Z"
   },
   {
    "duration": 54,
    "start_time": "2022-11-21T11:36:35.786Z"
   },
   {
    "duration": 35,
    "start_time": "2022-11-21T11:36:35.842Z"
   },
   {
    "duration": 208,
    "start_time": "2022-11-21T11:36:35.879Z"
   },
   {
    "duration": 165,
    "start_time": "2022-11-21T11:36:36.090Z"
   },
   {
    "duration": 171,
    "start_time": "2022-11-21T11:36:36.257Z"
   },
   {
    "duration": 213,
    "start_time": "2022-11-21T11:36:36.430Z"
   },
   {
    "duration": 17,
    "start_time": "2022-11-21T11:36:36.646Z"
   },
   {
    "duration": 37,
    "start_time": "2022-11-21T11:36:36.679Z"
   },
   {
    "duration": 27,
    "start_time": "2022-11-21T11:36:36.717Z"
   },
   {
    "duration": 63,
    "start_time": "2022-11-21T11:36:36.746Z"
   },
   {
    "duration": 4,
    "start_time": "2022-11-21T11:36:36.811Z"
   },
   {
    "duration": 113,
    "start_time": "2022-11-21T11:36:36.816Z"
   },
   {
    "duration": 0,
    "start_time": "2022-11-21T11:36:36.932Z"
   },
   {
    "duration": 0,
    "start_time": "2022-11-21T11:36:36.933Z"
   },
   {
    "duration": 0,
    "start_time": "2022-11-21T11:36:36.935Z"
   },
   {
    "duration": 0,
    "start_time": "2022-11-21T11:36:36.936Z"
   },
   {
    "duration": 0,
    "start_time": "2022-11-21T11:36:36.937Z"
   },
   {
    "duration": 0,
    "start_time": "2022-11-21T11:36:36.939Z"
   },
   {
    "duration": 0,
    "start_time": "2022-11-21T11:36:36.940Z"
   },
   {
    "duration": 0,
    "start_time": "2022-11-21T11:36:36.942Z"
   },
   {
    "duration": 0,
    "start_time": "2022-11-21T11:36:36.944Z"
   },
   {
    "duration": 0,
    "start_time": "2022-11-21T11:36:36.945Z"
   },
   {
    "duration": 0,
    "start_time": "2022-11-21T11:36:36.946Z"
   },
   {
    "duration": 0,
    "start_time": "2022-11-21T11:36:36.948Z"
   },
   {
    "duration": 0,
    "start_time": "2022-11-21T11:36:36.979Z"
   },
   {
    "duration": 0,
    "start_time": "2022-11-21T11:36:36.981Z"
   },
   {
    "duration": 0,
    "start_time": "2022-11-21T11:36:36.987Z"
   },
   {
    "duration": 1,
    "start_time": "2022-11-21T11:36:36.988Z"
   },
   {
    "duration": 0,
    "start_time": "2022-11-21T11:36:36.990Z"
   },
   {
    "duration": 0,
    "start_time": "2022-11-21T11:36:36.991Z"
   },
   {
    "duration": 0,
    "start_time": "2022-11-21T11:36:36.992Z"
   },
   {
    "duration": 0,
    "start_time": "2022-11-21T11:36:36.994Z"
   },
   {
    "duration": 0,
    "start_time": "2022-11-21T11:36:36.995Z"
   },
   {
    "duration": 0,
    "start_time": "2022-11-21T11:36:36.997Z"
   },
   {
    "duration": 0,
    "start_time": "2022-11-21T11:36:36.998Z"
   },
   {
    "duration": 0,
    "start_time": "2022-11-21T11:36:37.001Z"
   },
   {
    "duration": 0,
    "start_time": "2022-11-21T11:36:37.003Z"
   },
   {
    "duration": 0,
    "start_time": "2022-11-21T11:36:37.004Z"
   },
   {
    "duration": 0,
    "start_time": "2022-11-21T11:36:37.005Z"
   },
   {
    "duration": 0,
    "start_time": "2022-11-21T11:36:37.007Z"
   },
   {
    "duration": 0,
    "start_time": "2022-11-21T11:36:37.008Z"
   },
   {
    "duration": 0,
    "start_time": "2022-11-21T11:36:37.008Z"
   },
   {
    "duration": 0,
    "start_time": "2022-11-21T11:36:37.009Z"
   },
   {
    "duration": 0,
    "start_time": "2022-11-21T11:36:37.010Z"
   },
   {
    "duration": 0,
    "start_time": "2022-11-21T11:36:37.011Z"
   },
   {
    "duration": 0,
    "start_time": "2022-11-21T11:36:37.012Z"
   },
   {
    "duration": 0,
    "start_time": "2022-11-21T11:36:37.014Z"
   },
   {
    "duration": 0,
    "start_time": "2022-11-21T11:36:37.015Z"
   },
   {
    "duration": 1,
    "start_time": "2022-11-21T11:36:37.017Z"
   },
   {
    "duration": 0,
    "start_time": "2022-11-21T11:36:37.019Z"
   },
   {
    "duration": 0,
    "start_time": "2022-11-21T11:36:37.020Z"
   },
   {
    "duration": 0,
    "start_time": "2022-11-21T11:36:37.021Z"
   },
   {
    "duration": 0,
    "start_time": "2022-11-21T11:36:37.022Z"
   },
   {
    "duration": 0,
    "start_time": "2022-11-21T11:36:37.023Z"
   },
   {
    "duration": 0,
    "start_time": "2022-11-21T11:36:37.025Z"
   },
   {
    "duration": 1,
    "start_time": "2022-11-21T11:36:37.025Z"
   },
   {
    "duration": 0,
    "start_time": "2022-11-21T11:36:37.026Z"
   },
   {
    "duration": 0,
    "start_time": "2022-11-21T11:36:37.027Z"
   },
   {
    "duration": 0,
    "start_time": "2022-11-21T11:36:37.028Z"
   },
   {
    "duration": 0,
    "start_time": "2022-11-21T11:36:37.028Z"
   },
   {
    "duration": 0,
    "start_time": "2022-11-21T11:36:37.029Z"
   },
   {
    "duration": 0,
    "start_time": "2022-11-21T11:36:37.030Z"
   },
   {
    "duration": 0,
    "start_time": "2022-11-21T11:36:37.077Z"
   },
   {
    "duration": 0,
    "start_time": "2022-11-21T11:36:37.079Z"
   },
   {
    "duration": 0,
    "start_time": "2022-11-21T11:36:37.080Z"
   },
   {
    "duration": 0,
    "start_time": "2022-11-21T11:36:37.081Z"
   },
   {
    "duration": 0,
    "start_time": "2022-11-21T11:36:37.082Z"
   },
   {
    "duration": 0,
    "start_time": "2022-11-21T11:36:37.084Z"
   },
   {
    "duration": 0,
    "start_time": "2022-11-21T11:36:37.085Z"
   },
   {
    "duration": 8,
    "start_time": "2022-11-21T11:36:59.716Z"
   },
   {
    "duration": 847,
    "start_time": "2022-11-21T11:37:15.564Z"
   },
   {
    "duration": 18,
    "start_time": "2022-11-21T11:37:16.413Z"
   },
   {
    "duration": 34,
    "start_time": "2022-11-21T11:37:16.433Z"
   },
   {
    "duration": 21,
    "start_time": "2022-11-21T11:37:16.470Z"
   },
   {
    "duration": 20,
    "start_time": "2022-11-21T11:37:16.493Z"
   },
   {
    "duration": 70,
    "start_time": "2022-11-21T11:37:16.515Z"
   },
   {
    "duration": 10,
    "start_time": "2022-11-21T11:37:16.587Z"
   },
   {
    "duration": 33,
    "start_time": "2022-11-21T11:37:16.599Z"
   },
   {
    "duration": 15,
    "start_time": "2022-11-21T11:37:16.634Z"
   },
   {
    "duration": 27,
    "start_time": "2022-11-21T11:37:16.651Z"
   },
   {
    "duration": 20,
    "start_time": "2022-11-21T11:37:16.679Z"
   },
   {
    "duration": 24,
    "start_time": "2022-11-21T11:37:16.700Z"
   },
   {
    "duration": 25,
    "start_time": "2022-11-21T11:37:16.726Z"
   },
   {
    "duration": 79,
    "start_time": "2022-11-21T11:37:16.753Z"
   },
   {
    "duration": 5,
    "start_time": "2022-11-21T11:37:16.834Z"
   },
   {
    "duration": 42,
    "start_time": "2022-11-21T11:37:16.841Z"
   },
   {
    "duration": 18,
    "start_time": "2022-11-21T11:37:16.885Z"
   },
   {
    "duration": 45,
    "start_time": "2022-11-21T11:37:16.905Z"
   },
   {
    "duration": 18,
    "start_time": "2022-11-21T11:37:16.953Z"
   },
   {
    "duration": 59,
    "start_time": "2022-11-21T11:37:16.974Z"
   },
   {
    "duration": 39,
    "start_time": "2022-11-21T11:37:17.035Z"
   },
   {
    "duration": 15,
    "start_time": "2022-11-21T11:37:17.076Z"
   },
   {
    "duration": 22,
    "start_time": "2022-11-21T11:37:17.093Z"
   },
   {
    "duration": 5,
    "start_time": "2022-11-21T11:37:17.117Z"
   },
   {
    "duration": 46,
    "start_time": "2022-11-21T11:37:17.124Z"
   },
   {
    "duration": 13,
    "start_time": "2022-11-21T11:37:17.172Z"
   },
   {
    "duration": 52,
    "start_time": "2022-11-21T11:37:17.187Z"
   },
   {
    "duration": 19,
    "start_time": "2022-11-21T11:37:17.244Z"
   },
   {
    "duration": 19,
    "start_time": "2022-11-21T11:37:17.265Z"
   },
   {
    "duration": 16,
    "start_time": "2022-11-21T11:37:17.286Z"
   },
   {
    "duration": 32,
    "start_time": "2022-11-21T11:37:17.304Z"
   },
   {
    "duration": 33,
    "start_time": "2022-11-21T11:37:17.339Z"
   },
   {
    "duration": 17,
    "start_time": "2022-11-21T11:37:17.375Z"
   },
   {
    "duration": 212,
    "start_time": "2022-11-21T11:37:17.395Z"
   },
   {
    "duration": 131,
    "start_time": "2022-11-21T11:37:17.609Z"
   },
   {
    "duration": 142,
    "start_time": "2022-11-21T11:37:17.741Z"
   },
   {
    "duration": 200,
    "start_time": "2022-11-21T11:37:17.885Z"
   },
   {
    "duration": 15,
    "start_time": "2022-11-21T11:37:18.087Z"
   },
   {
    "duration": 32,
    "start_time": "2022-11-21T11:37:18.104Z"
   },
   {
    "duration": 7,
    "start_time": "2022-11-21T11:37:18.138Z"
   },
   {
    "duration": 53,
    "start_time": "2022-11-21T11:37:18.147Z"
   },
   {
    "duration": 9,
    "start_time": "2022-11-21T11:37:18.202Z"
   },
   {
    "duration": 94,
    "start_time": "2022-11-21T11:37:18.213Z"
   },
   {
    "duration": 0,
    "start_time": "2022-11-21T11:37:18.309Z"
   },
   {
    "duration": 0,
    "start_time": "2022-11-21T11:37:18.311Z"
   },
   {
    "duration": 0,
    "start_time": "2022-11-21T11:37:18.312Z"
   },
   {
    "duration": 0,
    "start_time": "2022-11-21T11:37:18.313Z"
   },
   {
    "duration": 0,
    "start_time": "2022-11-21T11:37:18.314Z"
   },
   {
    "duration": 0,
    "start_time": "2022-11-21T11:37:18.315Z"
   },
   {
    "duration": 0,
    "start_time": "2022-11-21T11:37:18.316Z"
   },
   {
    "duration": 0,
    "start_time": "2022-11-21T11:37:18.317Z"
   },
   {
    "duration": 0,
    "start_time": "2022-11-21T11:37:18.319Z"
   },
   {
    "duration": 0,
    "start_time": "2022-11-21T11:37:18.320Z"
   },
   {
    "duration": 0,
    "start_time": "2022-11-21T11:37:18.321Z"
   },
   {
    "duration": 0,
    "start_time": "2022-11-21T11:37:18.322Z"
   },
   {
    "duration": 0,
    "start_time": "2022-11-21T11:37:18.323Z"
   },
   {
    "duration": 0,
    "start_time": "2022-11-21T11:37:18.325Z"
   },
   {
    "duration": 0,
    "start_time": "2022-11-21T11:37:18.327Z"
   },
   {
    "duration": 0,
    "start_time": "2022-11-21T11:37:18.328Z"
   },
   {
    "duration": 0,
    "start_time": "2022-11-21T11:37:18.329Z"
   },
   {
    "duration": 0,
    "start_time": "2022-11-21T11:37:18.330Z"
   },
   {
    "duration": 0,
    "start_time": "2022-11-21T11:37:18.331Z"
   },
   {
    "duration": 0,
    "start_time": "2022-11-21T11:37:18.332Z"
   },
   {
    "duration": 0,
    "start_time": "2022-11-21T11:37:18.333Z"
   },
   {
    "duration": 0,
    "start_time": "2022-11-21T11:37:18.335Z"
   },
   {
    "duration": 0,
    "start_time": "2022-11-21T11:37:18.335Z"
   },
   {
    "duration": 0,
    "start_time": "2022-11-21T11:37:18.336Z"
   },
   {
    "duration": 0,
    "start_time": "2022-11-21T11:37:18.337Z"
   },
   {
    "duration": 0,
    "start_time": "2022-11-21T11:37:18.337Z"
   },
   {
    "duration": 0,
    "start_time": "2022-11-21T11:37:18.338Z"
   },
   {
    "duration": 0,
    "start_time": "2022-11-21T11:37:18.338Z"
   },
   {
    "duration": 0,
    "start_time": "2022-11-21T11:37:18.379Z"
   },
   {
    "duration": 0,
    "start_time": "2022-11-21T11:37:18.380Z"
   },
   {
    "duration": 0,
    "start_time": "2022-11-21T11:37:18.380Z"
   },
   {
    "duration": 0,
    "start_time": "2022-11-21T11:37:18.382Z"
   },
   {
    "duration": 0,
    "start_time": "2022-11-21T11:37:18.383Z"
   },
   {
    "duration": 0,
    "start_time": "2022-11-21T11:37:18.383Z"
   },
   {
    "duration": 0,
    "start_time": "2022-11-21T11:37:18.385Z"
   },
   {
    "duration": 0,
    "start_time": "2022-11-21T11:37:18.386Z"
   },
   {
    "duration": 0,
    "start_time": "2022-11-21T11:37:18.387Z"
   },
   {
    "duration": 0,
    "start_time": "2022-11-21T11:37:18.388Z"
   },
   {
    "duration": 0,
    "start_time": "2022-11-21T11:37:18.389Z"
   },
   {
    "duration": 0,
    "start_time": "2022-11-21T11:37:18.390Z"
   },
   {
    "duration": 0,
    "start_time": "2022-11-21T11:37:18.392Z"
   },
   {
    "duration": 0,
    "start_time": "2022-11-21T11:37:18.393Z"
   },
   {
    "duration": 0,
    "start_time": "2022-11-21T11:37:18.394Z"
   },
   {
    "duration": 0,
    "start_time": "2022-11-21T11:37:18.395Z"
   },
   {
    "duration": 0,
    "start_time": "2022-11-21T11:37:18.396Z"
   },
   {
    "duration": 0,
    "start_time": "2022-11-21T11:37:18.397Z"
   },
   {
    "duration": 0,
    "start_time": "2022-11-21T11:37:18.399Z"
   },
   {
    "duration": 0,
    "start_time": "2022-11-21T11:37:18.400Z"
   },
   {
    "duration": 0,
    "start_time": "2022-11-21T11:37:18.402Z"
   },
   {
    "duration": 0,
    "start_time": "2022-11-21T11:37:18.403Z"
   },
   {
    "duration": 0,
    "start_time": "2022-11-21T11:37:18.404Z"
   },
   {
    "duration": 0,
    "start_time": "2022-11-21T11:37:18.405Z"
   },
   {
    "duration": 0,
    "start_time": "2022-11-21T11:37:18.406Z"
   },
   {
    "duration": 0,
    "start_time": "2022-11-21T11:37:18.408Z"
   },
   {
    "duration": 0,
    "start_time": "2022-11-21T11:37:18.409Z"
   },
   {
    "duration": 0,
    "start_time": "2022-11-21T11:37:18.410Z"
   },
   {
    "duration": 0,
    "start_time": "2022-11-21T11:37:18.411Z"
   },
   {
    "duration": 22,
    "start_time": "2022-11-21T11:38:09.785Z"
   },
   {
    "duration": 93,
    "start_time": "2022-11-21T11:39:30.679Z"
   },
   {
    "duration": 752,
    "start_time": "2022-11-21T11:40:34.834Z"
   },
   {
    "duration": 637,
    "start_time": "2022-11-21T11:40:52.965Z"
   },
   {
    "duration": 818,
    "start_time": "2022-11-21T11:41:10.159Z"
   },
   {
    "duration": 21,
    "start_time": "2022-11-21T11:41:10.980Z"
   },
   {
    "duration": 17,
    "start_time": "2022-11-21T11:41:11.003Z"
   },
   {
    "duration": 9,
    "start_time": "2022-11-21T11:41:11.023Z"
   },
   {
    "duration": 7,
    "start_time": "2022-11-21T11:41:11.034Z"
   },
   {
    "duration": 45,
    "start_time": "2022-11-21T11:41:11.043Z"
   },
   {
    "duration": 11,
    "start_time": "2022-11-21T11:41:11.090Z"
   },
   {
    "duration": 16,
    "start_time": "2022-11-21T11:41:11.103Z"
   },
   {
    "duration": 14,
    "start_time": "2022-11-21T11:41:11.121Z"
   },
   {
    "duration": 46,
    "start_time": "2022-11-21T11:41:11.138Z"
   },
   {
    "duration": 17,
    "start_time": "2022-11-21T11:41:11.186Z"
   },
   {
    "duration": 8,
    "start_time": "2022-11-21T11:41:11.205Z"
   },
   {
    "duration": 21,
    "start_time": "2022-11-21T11:41:11.215Z"
   },
   {
    "duration": 82,
    "start_time": "2022-11-21T11:41:11.238Z"
   },
   {
    "duration": 5,
    "start_time": "2022-11-21T11:41:11.321Z"
   },
   {
    "duration": 20,
    "start_time": "2022-11-21T11:41:11.328Z"
   },
   {
    "duration": 30,
    "start_time": "2022-11-21T11:41:11.350Z"
   },
   {
    "duration": 24,
    "start_time": "2022-11-21T11:41:11.381Z"
   },
   {
    "duration": 10,
    "start_time": "2022-11-21T11:41:11.407Z"
   },
   {
    "duration": 21,
    "start_time": "2022-11-21T11:41:11.419Z"
   },
   {
    "duration": 48,
    "start_time": "2022-11-21T11:41:11.442Z"
   },
   {
    "duration": 6,
    "start_time": "2022-11-21T11:41:11.492Z"
   },
   {
    "duration": 16,
    "start_time": "2022-11-21T11:41:11.500Z"
   },
   {
    "duration": 8,
    "start_time": "2022-11-21T11:41:11.519Z"
   },
   {
    "duration": 22,
    "start_time": "2022-11-21T11:41:11.530Z"
   },
   {
    "duration": 7,
    "start_time": "2022-11-21T11:41:11.579Z"
   },
   {
    "duration": 32,
    "start_time": "2022-11-21T11:41:11.588Z"
   },
   {
    "duration": 26,
    "start_time": "2022-11-21T11:41:11.627Z"
   },
   {
    "duration": 24,
    "start_time": "2022-11-21T11:41:11.655Z"
   },
   {
    "duration": 9,
    "start_time": "2022-11-21T11:41:11.681Z"
   },
   {
    "duration": 7,
    "start_time": "2022-11-21T11:41:11.692Z"
   },
   {
    "duration": 15,
    "start_time": "2022-11-21T11:41:11.701Z"
   },
   {
    "duration": 21,
    "start_time": "2022-11-21T11:41:11.718Z"
   },
   {
    "duration": 139,
    "start_time": "2022-11-21T11:41:11.741Z"
   },
   {
    "duration": 133,
    "start_time": "2022-11-21T11:41:11.882Z"
   },
   {
    "duration": 145,
    "start_time": "2022-11-21T11:41:12.017Z"
   },
   {
    "duration": 214,
    "start_time": "2022-11-21T11:41:12.164Z"
   },
   {
    "duration": 17,
    "start_time": "2022-11-21T11:41:12.379Z"
   },
   {
    "duration": 22,
    "start_time": "2022-11-21T11:41:12.398Z"
   },
   {
    "duration": 11,
    "start_time": "2022-11-21T11:41:12.422Z"
   },
   {
    "duration": 20,
    "start_time": "2022-11-21T11:41:12.435Z"
   },
   {
    "duration": 5,
    "start_time": "2022-11-21T11:41:12.479Z"
   },
   {
    "duration": 18,
    "start_time": "2022-11-21T11:41:12.487Z"
   },
   {
    "duration": 16,
    "start_time": "2022-11-21T11:41:12.506Z"
   },
   {
    "duration": 12,
    "start_time": "2022-11-21T11:41:12.524Z"
   },
   {
    "duration": 7,
    "start_time": "2022-11-21T11:41:12.538Z"
   },
   {
    "duration": 201,
    "start_time": "2022-11-21T11:41:12.548Z"
   },
   {
    "duration": 10,
    "start_time": "2022-11-21T11:41:12.751Z"
   },
   {
    "duration": 9,
    "start_time": "2022-11-21T11:41:12.777Z"
   },
   {
    "duration": 11,
    "start_time": "2022-11-21T11:41:12.788Z"
   },
   {
    "duration": 9,
    "start_time": "2022-11-21T11:41:12.801Z"
   },
   {
    "duration": 15,
    "start_time": "2022-11-21T11:41:12.812Z"
   },
   {
    "duration": 15,
    "start_time": "2022-11-21T11:41:12.828Z"
   },
   {
    "duration": 36,
    "start_time": "2022-11-21T11:41:12.845Z"
   },
   {
    "duration": 12,
    "start_time": "2022-11-21T11:41:12.883Z"
   },
   {
    "duration": 15,
    "start_time": "2022-11-21T11:41:12.897Z"
   },
   {
    "duration": 13,
    "start_time": "2022-11-21T11:41:12.914Z"
   },
   {
    "duration": 21,
    "start_time": "2022-11-21T11:41:12.929Z"
   },
   {
    "duration": 37,
    "start_time": "2022-11-21T11:41:12.953Z"
   },
   {
    "duration": 187,
    "start_time": "2022-11-21T11:41:12.991Z"
   },
   {
    "duration": 178,
    "start_time": "2022-11-21T11:41:13.180Z"
   },
   {
    "duration": 184,
    "start_time": "2022-11-21T11:41:13.360Z"
   },
   {
    "duration": 187,
    "start_time": "2022-11-21T11:41:13.546Z"
   },
   {
    "duration": 203,
    "start_time": "2022-11-21T11:41:13.735Z"
   },
   {
    "duration": 12,
    "start_time": "2022-11-21T11:41:13.940Z"
   },
   {
    "duration": 38,
    "start_time": "2022-11-21T11:41:13.954Z"
   },
   {
    "duration": 45,
    "start_time": "2022-11-21T11:41:13.995Z"
   },
   {
    "duration": 21,
    "start_time": "2022-11-21T11:41:14.042Z"
   },
   {
    "duration": 25,
    "start_time": "2022-11-21T11:41:14.067Z"
   },
   {
    "duration": 25,
    "start_time": "2022-11-21T11:41:14.094Z"
   },
   {
    "duration": 19,
    "start_time": "2022-11-21T11:41:14.121Z"
   },
   {
    "duration": 31,
    "start_time": "2022-11-21T11:41:14.142Z"
   },
   {
    "duration": 18,
    "start_time": "2022-11-21T11:41:14.175Z"
   },
   {
    "duration": 24,
    "start_time": "2022-11-21T11:41:14.195Z"
   },
   {
    "duration": 36,
    "start_time": "2022-11-21T11:41:14.221Z"
   },
   {
    "duration": 33,
    "start_time": "2022-11-21T11:41:14.258Z"
   },
   {
    "duration": 36,
    "start_time": "2022-11-21T11:41:14.292Z"
   },
   {
    "duration": 27,
    "start_time": "2022-11-21T11:41:14.330Z"
   },
   {
    "duration": 27,
    "start_time": "2022-11-21T11:41:14.359Z"
   },
   {
    "duration": 41,
    "start_time": "2022-11-21T11:41:14.389Z"
   },
   {
    "duration": 40,
    "start_time": "2022-11-21T11:41:14.432Z"
   },
   {
    "duration": 153,
    "start_time": "2022-11-21T11:41:14.478Z"
   },
   {
    "duration": 9,
    "start_time": "2022-11-21T11:41:14.632Z"
   },
   {
    "duration": 48,
    "start_time": "2022-11-21T11:41:14.643Z"
   },
   {
    "duration": 34,
    "start_time": "2022-11-21T11:41:14.693Z"
   },
   {
    "duration": 27,
    "start_time": "2022-11-21T11:41:14.729Z"
   },
   {
    "duration": 45,
    "start_time": "2022-11-21T11:41:14.758Z"
   },
   {
    "duration": 66,
    "start_time": "2022-11-21T11:41:14.805Z"
   },
   {
    "duration": 33,
    "start_time": "2022-11-21T11:41:14.872Z"
   },
   {
    "duration": 57,
    "start_time": "2022-11-21T11:41:14.907Z"
   },
   {
    "duration": 72,
    "start_time": "2022-11-21T11:41:14.965Z"
   },
   {
    "duration": 45,
    "start_time": "2022-11-21T11:41:15.039Z"
   },
   {
    "duration": 43,
    "start_time": "2022-11-21T11:41:15.086Z"
   },
   {
    "duration": 199,
    "start_time": "2022-11-21T11:41:15.131Z"
   },
   {
    "duration": 9,
    "start_time": "2022-11-21T11:41:15.333Z"
   },
   {
    "duration": 18,
    "start_time": "2022-11-21T11:41:15.344Z"
   },
   {
    "duration": 33,
    "start_time": "2022-11-21T11:41:15.364Z"
   },
   {
    "duration": 37,
    "start_time": "2022-11-21T11:41:15.399Z"
   },
   {
    "duration": 22,
    "start_time": "2022-11-21T11:41:15.438Z"
   },
   {
    "duration": 84,
    "start_time": "2022-11-21T11:42:01.750Z"
   },
   {
    "duration": 4,
    "start_time": "2022-11-21T11:42:05.936Z"
   },
   {
    "duration": 88,
    "start_time": "2022-11-21T11:42:27.347Z"
   },
   {
    "duration": 85,
    "start_time": "2022-11-21T11:43:01.185Z"
   },
   {
    "duration": 102,
    "start_time": "2022-11-21T11:47:11.537Z"
   },
   {
    "duration": 10,
    "start_time": "2022-11-21T11:48:46.351Z"
   },
   {
    "duration": 707,
    "start_time": "2022-11-21T11:49:27.737Z"
   },
   {
    "duration": 16,
    "start_time": "2022-11-21T11:49:28.446Z"
   },
   {
    "duration": 20,
    "start_time": "2022-11-21T11:49:28.464Z"
   },
   {
    "duration": 8,
    "start_time": "2022-11-21T11:49:28.486Z"
   },
   {
    "duration": 9,
    "start_time": "2022-11-21T11:49:28.497Z"
   },
   {
    "duration": 42,
    "start_time": "2022-11-21T11:49:28.508Z"
   },
   {
    "duration": 14,
    "start_time": "2022-11-21T11:49:28.552Z"
   },
   {
    "duration": 15,
    "start_time": "2022-11-21T11:49:28.568Z"
   },
   {
    "duration": 14,
    "start_time": "2022-11-21T11:49:28.585Z"
   },
   {
    "duration": 15,
    "start_time": "2022-11-21T11:49:28.601Z"
   },
   {
    "duration": 14,
    "start_time": "2022-11-21T11:49:28.617Z"
   },
   {
    "duration": 9,
    "start_time": "2022-11-21T11:49:28.632Z"
   },
   {
    "duration": 36,
    "start_time": "2022-11-21T11:49:28.643Z"
   },
   {
    "duration": 55,
    "start_time": "2022-11-21T11:49:28.682Z"
   },
   {
    "duration": 4,
    "start_time": "2022-11-21T11:49:28.739Z"
   },
   {
    "duration": 34,
    "start_time": "2022-11-21T11:49:28.744Z"
   },
   {
    "duration": 10,
    "start_time": "2022-11-21T11:49:28.780Z"
   },
   {
    "duration": 26,
    "start_time": "2022-11-21T11:49:28.792Z"
   },
   {
    "duration": 9,
    "start_time": "2022-11-21T11:49:28.819Z"
   },
   {
    "duration": 17,
    "start_time": "2022-11-21T11:49:28.829Z"
   },
   {
    "duration": 48,
    "start_time": "2022-11-21T11:49:28.848Z"
   },
   {
    "duration": 6,
    "start_time": "2022-11-21T11:49:28.897Z"
   },
   {
    "duration": 16,
    "start_time": "2022-11-21T11:49:28.904Z"
   },
   {
    "duration": 9,
    "start_time": "2022-11-21T11:49:28.922Z"
   },
   {
    "duration": 21,
    "start_time": "2022-11-21T11:49:28.933Z"
   },
   {
    "duration": 26,
    "start_time": "2022-11-21T11:49:28.956Z"
   },
   {
    "duration": 21,
    "start_time": "2022-11-21T11:49:28.984Z"
   },
   {
    "duration": 16,
    "start_time": "2022-11-21T11:49:29.007Z"
   },
   {
    "duration": 3,
    "start_time": "2022-11-21T11:49:29.025Z"
   },
   {
    "duration": 7,
    "start_time": "2022-11-21T11:49:29.030Z"
   },
   {
    "duration": 6,
    "start_time": "2022-11-21T11:49:29.038Z"
   },
   {
    "duration": 35,
    "start_time": "2022-11-21T11:49:29.046Z"
   },
   {
    "duration": 4,
    "start_time": "2022-11-21T11:49:29.083Z"
   },
   {
    "duration": 135,
    "start_time": "2022-11-21T11:49:29.088Z"
   },
   {
    "duration": 124,
    "start_time": "2022-11-21T11:49:29.225Z"
   },
   {
    "duration": 134,
    "start_time": "2022-11-21T11:49:29.351Z"
   },
   {
    "duration": 174,
    "start_time": "2022-11-21T11:49:29.487Z"
   },
   {
    "duration": 23,
    "start_time": "2022-11-21T11:49:29.663Z"
   },
   {
    "duration": 22,
    "start_time": "2022-11-21T11:49:29.687Z"
   },
   {
    "duration": 6,
    "start_time": "2022-11-21T11:49:29.711Z"
   },
   {
    "duration": 99,
    "start_time": "2022-11-21T11:49:29.722Z"
   },
   {
    "duration": 14,
    "start_time": "2022-11-21T11:49:29.823Z"
   },
   {
    "duration": 6,
    "start_time": "2022-11-21T11:49:29.839Z"
   },
   {
    "duration": 11,
    "start_time": "2022-11-21T11:49:29.847Z"
   },
   {
    "duration": 28,
    "start_time": "2022-11-21T11:49:29.859Z"
   },
   {
    "duration": 5,
    "start_time": "2022-11-21T11:49:29.888Z"
   },
   {
    "duration": 6,
    "start_time": "2022-11-21T11:49:29.895Z"
   },
   {
    "duration": 149,
    "start_time": "2022-11-21T11:49:29.903Z"
   },
   {
    "duration": 10,
    "start_time": "2022-11-21T11:49:30.054Z"
   },
   {
    "duration": 19,
    "start_time": "2022-11-21T11:49:30.065Z"
   },
   {
    "duration": 11,
    "start_time": "2022-11-21T11:49:30.086Z"
   },
   {
    "duration": 14,
    "start_time": "2022-11-21T11:49:30.099Z"
   },
   {
    "duration": 8,
    "start_time": "2022-11-21T11:49:30.115Z"
   },
   {
    "duration": 13,
    "start_time": "2022-11-21T11:49:30.124Z"
   },
   {
    "duration": 10,
    "start_time": "2022-11-21T11:49:30.138Z"
   },
   {
    "duration": 33,
    "start_time": "2022-11-21T11:49:30.149Z"
   },
   {
    "duration": 10,
    "start_time": "2022-11-21T11:49:30.183Z"
   },
   {
    "duration": 15,
    "start_time": "2022-11-21T11:49:30.195Z"
   },
   {
    "duration": 8,
    "start_time": "2022-11-21T11:49:30.212Z"
   },
   {
    "duration": 19,
    "start_time": "2022-11-21T11:49:30.223Z"
   },
   {
    "duration": 189,
    "start_time": "2022-11-21T11:49:30.244Z"
   },
   {
    "duration": 165,
    "start_time": "2022-11-21T11:49:30.435Z"
   },
   {
    "duration": 185,
    "start_time": "2022-11-21T11:49:30.603Z"
   },
   {
    "duration": 182,
    "start_time": "2022-11-21T11:49:30.791Z"
   },
   {
    "duration": 178,
    "start_time": "2022-11-21T11:49:30.978Z"
   },
   {
    "duration": 11,
    "start_time": "2022-11-21T11:49:31.158Z"
   },
   {
    "duration": 9,
    "start_time": "2022-11-21T11:49:31.178Z"
   },
   {
    "duration": 7,
    "start_time": "2022-11-21T11:49:31.189Z"
   },
   {
    "duration": 11,
    "start_time": "2022-11-21T11:49:31.197Z"
   },
   {
    "duration": 15,
    "start_time": "2022-11-21T11:49:31.209Z"
   },
   {
    "duration": 15,
    "start_time": "2022-11-21T11:49:31.226Z"
   },
   {
    "duration": 14,
    "start_time": "2022-11-21T11:49:31.243Z"
   },
   {
    "duration": 23,
    "start_time": "2022-11-21T11:49:31.259Z"
   },
   {
    "duration": 9,
    "start_time": "2022-11-21T11:49:31.284Z"
   },
   {
    "duration": 13,
    "start_time": "2022-11-21T11:49:31.295Z"
   },
   {
    "duration": 26,
    "start_time": "2022-11-21T11:49:31.310Z"
   },
   {
    "duration": 40,
    "start_time": "2022-11-21T11:49:31.338Z"
   },
   {
    "duration": 25,
    "start_time": "2022-11-21T11:49:31.380Z"
   },
   {
    "duration": 24,
    "start_time": "2022-11-21T11:49:31.407Z"
   },
   {
    "duration": 46,
    "start_time": "2022-11-21T11:49:31.434Z"
   },
   {
    "duration": 23,
    "start_time": "2022-11-21T11:49:31.483Z"
   },
   {
    "duration": 33,
    "start_time": "2022-11-21T11:49:31.508Z"
   },
   {
    "duration": 192,
    "start_time": "2022-11-21T11:49:31.543Z"
   },
   {
    "duration": 8,
    "start_time": "2022-11-21T11:49:31.737Z"
   },
   {
    "duration": 14,
    "start_time": "2022-11-21T11:49:31.747Z"
   },
   {
    "duration": 26,
    "start_time": "2022-11-21T11:49:31.763Z"
   },
   {
    "duration": 16,
    "start_time": "2022-11-21T11:49:31.792Z"
   },
   {
    "duration": 95,
    "start_time": "2022-11-21T11:49:31.809Z"
   },
   {
    "duration": 28,
    "start_time": "2022-11-21T11:49:31.906Z"
   },
   {
    "duration": 30,
    "start_time": "2022-11-21T11:49:31.936Z"
   },
   {
    "duration": 25,
    "start_time": "2022-11-21T11:49:31.978Z"
   },
   {
    "duration": 23,
    "start_time": "2022-11-21T11:49:32.005Z"
   },
   {
    "duration": 49,
    "start_time": "2022-11-21T11:49:32.030Z"
   },
   {
    "duration": 23,
    "start_time": "2022-11-21T11:49:32.081Z"
   },
   {
    "duration": 184,
    "start_time": "2022-11-21T11:49:32.106Z"
   },
   {
    "duration": 9,
    "start_time": "2022-11-21T11:49:32.293Z"
   },
   {
    "duration": 8,
    "start_time": "2022-11-21T11:49:32.304Z"
   },
   {
    "duration": 9,
    "start_time": "2022-11-21T11:49:32.313Z"
   },
   {
    "duration": 10,
    "start_time": "2022-11-21T11:49:32.325Z"
   },
   {
    "duration": 11,
    "start_time": "2022-11-21T11:49:32.337Z"
   },
   {
    "duration": 10,
    "start_time": "2022-11-21T11:50:49.840Z"
   },
   {
    "duration": 759,
    "start_time": "2022-11-21T11:51:32.481Z"
   },
   {
    "duration": 16,
    "start_time": "2022-11-21T11:51:33.241Z"
   },
   {
    "duration": 27,
    "start_time": "2022-11-21T11:51:33.258Z"
   },
   {
    "duration": 8,
    "start_time": "2022-11-21T11:51:33.287Z"
   },
   {
    "duration": 6,
    "start_time": "2022-11-21T11:51:33.297Z"
   },
   {
    "duration": 56,
    "start_time": "2022-11-21T11:51:33.305Z"
   },
   {
    "duration": 11,
    "start_time": "2022-11-21T11:51:33.363Z"
   },
   {
    "duration": 19,
    "start_time": "2022-11-21T11:51:33.377Z"
   },
   {
    "duration": 14,
    "start_time": "2022-11-21T11:51:33.398Z"
   },
   {
    "duration": 23,
    "start_time": "2022-11-21T11:51:33.414Z"
   },
   {
    "duration": 15,
    "start_time": "2022-11-21T11:51:33.439Z"
   },
   {
    "duration": 26,
    "start_time": "2022-11-21T11:51:33.456Z"
   },
   {
    "duration": 4,
    "start_time": "2022-11-21T11:51:33.484Z"
   },
   {
    "duration": 58,
    "start_time": "2022-11-21T11:51:33.489Z"
   },
   {
    "duration": 30,
    "start_time": "2022-11-21T11:51:33.549Z"
   },
   {
    "duration": 17,
    "start_time": "2022-11-21T11:51:33.581Z"
   },
   {
    "duration": 9,
    "start_time": "2022-11-21T11:51:33.600Z"
   },
   {
    "duration": 24,
    "start_time": "2022-11-21T11:51:33.611Z"
   },
   {
    "duration": 11,
    "start_time": "2022-11-21T11:51:33.636Z"
   },
   {
    "duration": 14,
    "start_time": "2022-11-21T11:51:33.679Z"
   },
   {
    "duration": 22,
    "start_time": "2022-11-21T11:51:33.695Z"
   },
   {
    "duration": 5,
    "start_time": "2022-11-21T11:51:33.719Z"
   },
   {
    "duration": 15,
    "start_time": "2022-11-21T11:51:33.726Z"
   },
   {
    "duration": 7,
    "start_time": "2022-11-21T11:51:33.742Z"
   },
   {
    "duration": 20,
    "start_time": "2022-11-21T11:51:33.779Z"
   },
   {
    "duration": 6,
    "start_time": "2022-11-21T11:51:33.801Z"
   },
   {
    "duration": 28,
    "start_time": "2022-11-21T11:51:33.809Z"
   },
   {
    "duration": 37,
    "start_time": "2022-11-21T11:51:33.842Z"
   },
   {
    "duration": 16,
    "start_time": "2022-11-21T11:51:33.880Z"
   },
   {
    "duration": 14,
    "start_time": "2022-11-21T11:51:33.898Z"
   },
   {
    "duration": 9,
    "start_time": "2022-11-21T11:51:33.914Z"
   },
   {
    "duration": 21,
    "start_time": "2022-11-21T11:51:33.925Z"
   },
   {
    "duration": 7,
    "start_time": "2022-11-21T11:51:33.948Z"
   },
   {
    "duration": 160,
    "start_time": "2022-11-21T11:51:33.958Z"
   },
   {
    "duration": 132,
    "start_time": "2022-11-21T11:51:34.121Z"
   },
   {
    "duration": 136,
    "start_time": "2022-11-21T11:51:34.255Z"
   },
   {
    "duration": 181,
    "start_time": "2022-11-21T11:51:34.393Z"
   },
   {
    "duration": 15,
    "start_time": "2022-11-21T11:51:34.579Z"
   },
   {
    "duration": 18,
    "start_time": "2022-11-21T11:51:34.596Z"
   },
   {
    "duration": 99,
    "start_time": "2022-11-21T11:51:34.616Z"
   },
   {
    "duration": 7,
    "start_time": "2022-11-21T11:51:34.717Z"
   },
   {
    "duration": 8,
    "start_time": "2022-11-21T11:51:34.725Z"
   },
   {
    "duration": 7,
    "start_time": "2022-11-21T11:51:34.734Z"
   },
   {
    "duration": 11,
    "start_time": "2022-11-21T11:51:34.742Z"
   },
   {
    "duration": 30,
    "start_time": "2022-11-21T11:51:34.755Z"
   },
   {
    "duration": 5,
    "start_time": "2022-11-21T11:51:34.786Z"
   },
   {
    "duration": 8,
    "start_time": "2022-11-21T11:51:34.792Z"
   },
   {
    "duration": 158,
    "start_time": "2022-11-21T11:51:34.802Z"
   },
   {
    "duration": 11,
    "start_time": "2022-11-21T11:51:34.968Z"
   },
   {
    "duration": 13,
    "start_time": "2022-11-21T11:51:34.981Z"
   },
   {
    "duration": 12,
    "start_time": "2022-11-21T11:51:34.995Z"
   },
   {
    "duration": 10,
    "start_time": "2022-11-21T11:51:35.009Z"
   },
   {
    "duration": 9,
    "start_time": "2022-11-21T11:51:35.020Z"
   },
   {
    "duration": 9,
    "start_time": "2022-11-21T11:51:35.031Z"
   },
   {
    "duration": 10,
    "start_time": "2022-11-21T11:51:35.042Z"
   },
   {
    "duration": 9,
    "start_time": "2022-11-21T11:51:35.079Z"
   },
   {
    "duration": 10,
    "start_time": "2022-11-21T11:51:35.090Z"
   },
   {
    "duration": 9,
    "start_time": "2022-11-21T11:51:35.102Z"
   },
   {
    "duration": 9,
    "start_time": "2022-11-21T11:51:35.112Z"
   },
   {
    "duration": 18,
    "start_time": "2022-11-21T11:51:35.123Z"
   },
   {
    "duration": 199,
    "start_time": "2022-11-21T11:51:35.142Z"
   },
   {
    "duration": 167,
    "start_time": "2022-11-21T11:51:35.343Z"
   },
   {
    "duration": 167,
    "start_time": "2022-11-21T11:51:35.511Z"
   },
   {
    "duration": 175,
    "start_time": "2022-11-21T11:51:35.680Z"
   },
   {
    "duration": 164,
    "start_time": "2022-11-21T11:51:35.857Z"
   },
   {
    "duration": 10,
    "start_time": "2022-11-21T11:51:36.024Z"
   },
   {
    "duration": 18,
    "start_time": "2022-11-21T11:51:36.036Z"
   },
   {
    "duration": 11,
    "start_time": "2022-11-21T11:51:36.056Z"
   },
   {
    "duration": 6,
    "start_time": "2022-11-21T11:51:36.078Z"
   },
   {
    "duration": 11,
    "start_time": "2022-11-21T11:51:36.087Z"
   },
   {
    "duration": 9,
    "start_time": "2022-11-21T11:51:36.101Z"
   },
   {
    "duration": 16,
    "start_time": "2022-11-21T11:51:36.112Z"
   },
   {
    "duration": 16,
    "start_time": "2022-11-21T11:51:36.130Z"
   },
   {
    "duration": 14,
    "start_time": "2022-11-21T11:51:36.148Z"
   },
   {
    "duration": 7,
    "start_time": "2022-11-21T11:51:36.179Z"
   },
   {
    "duration": 25,
    "start_time": "2022-11-21T11:51:36.188Z"
   },
   {
    "duration": 27,
    "start_time": "2022-11-21T11:51:36.215Z"
   },
   {
    "duration": 49,
    "start_time": "2022-11-21T11:51:36.244Z"
   },
   {
    "duration": 26,
    "start_time": "2022-11-21T11:51:36.295Z"
   },
   {
    "duration": 23,
    "start_time": "2022-11-21T11:51:36.323Z"
   },
   {
    "duration": 48,
    "start_time": "2022-11-21T11:51:36.348Z"
   },
   {
    "duration": 22,
    "start_time": "2022-11-21T11:51:36.404Z"
   },
   {
    "duration": 167,
    "start_time": "2022-11-21T11:51:36.428Z"
   },
   {
    "duration": 9,
    "start_time": "2022-11-21T11:51:36.597Z"
   },
   {
    "duration": 11,
    "start_time": "2022-11-21T11:51:36.607Z"
   },
   {
    "duration": 14,
    "start_time": "2022-11-21T11:51:36.620Z"
   },
   {
    "duration": 12,
    "start_time": "2022-11-21T11:51:36.636Z"
   },
   {
    "duration": 109,
    "start_time": "2022-11-21T11:51:36.650Z"
   },
   {
    "duration": 33,
    "start_time": "2022-11-21T11:51:36.761Z"
   },
   {
    "duration": 24,
    "start_time": "2022-11-21T11:51:36.796Z"
   },
   {
    "duration": 20,
    "start_time": "2022-11-21T11:51:36.822Z"
   },
   {
    "duration": 49,
    "start_time": "2022-11-21T11:51:36.844Z"
   },
   {
    "duration": 20,
    "start_time": "2022-11-21T11:51:36.895Z"
   },
   {
    "duration": 34,
    "start_time": "2022-11-21T11:51:36.917Z"
   },
   {
    "duration": 183,
    "start_time": "2022-11-21T11:51:36.953Z"
   },
   {
    "duration": 9,
    "start_time": "2022-11-21T11:51:37.138Z"
   },
   {
    "duration": 8,
    "start_time": "2022-11-21T11:51:37.149Z"
   },
   {
    "duration": 24,
    "start_time": "2022-11-21T11:51:37.158Z"
   },
   {
    "duration": 14,
    "start_time": "2022-11-21T11:51:37.183Z"
   },
   {
    "duration": 9,
    "start_time": "2022-11-21T11:51:37.199Z"
   },
   {
    "duration": 4,
    "start_time": "2022-11-21T11:52:26.117Z"
   },
   {
    "duration": 751,
    "start_time": "2022-11-21T11:52:31.889Z"
   },
   {
    "duration": 17,
    "start_time": "2022-11-21T11:52:32.642Z"
   },
   {
    "duration": 20,
    "start_time": "2022-11-21T11:52:32.661Z"
   },
   {
    "duration": 8,
    "start_time": "2022-11-21T11:52:32.683Z"
   },
   {
    "duration": 6,
    "start_time": "2022-11-21T11:52:32.692Z"
   },
   {
    "duration": 52,
    "start_time": "2022-11-21T11:52:32.700Z"
   },
   {
    "duration": 11,
    "start_time": "2022-11-21T11:52:32.754Z"
   },
   {
    "duration": 14,
    "start_time": "2022-11-21T11:52:32.767Z"
   },
   {
    "duration": 13,
    "start_time": "2022-11-21T11:52:32.783Z"
   },
   {
    "duration": 17,
    "start_time": "2022-11-21T11:52:32.799Z"
   },
   {
    "duration": 16,
    "start_time": "2022-11-21T11:52:32.818Z"
   },
   {
    "duration": 8,
    "start_time": "2022-11-21T11:52:32.836Z"
   },
   {
    "duration": 33,
    "start_time": "2022-11-21T11:52:32.845Z"
   },
   {
    "duration": 67,
    "start_time": "2022-11-21T11:52:32.880Z"
   },
   {
    "duration": 5,
    "start_time": "2022-11-21T11:52:32.949Z"
   },
   {
    "duration": 43,
    "start_time": "2022-11-21T11:52:32.956Z"
   },
   {
    "duration": 8,
    "start_time": "2022-11-21T11:52:33.001Z"
   },
   {
    "duration": 25,
    "start_time": "2022-11-21T11:52:33.011Z"
   },
   {
    "duration": 9,
    "start_time": "2022-11-21T11:52:33.038Z"
   },
   {
    "duration": 31,
    "start_time": "2022-11-21T11:52:33.048Z"
   },
   {
    "duration": 23,
    "start_time": "2022-11-21T11:52:33.081Z"
   },
   {
    "duration": 5,
    "start_time": "2022-11-21T11:52:33.106Z"
   },
   {
    "duration": 18,
    "start_time": "2022-11-21T11:52:33.113Z"
   },
   {
    "duration": 7,
    "start_time": "2022-11-21T11:52:33.132Z"
   },
   {
    "duration": 45,
    "start_time": "2022-11-21T11:52:33.141Z"
   },
   {
    "duration": 5,
    "start_time": "2022-11-21T11:52:33.188Z"
   },
   {
    "duration": 20,
    "start_time": "2022-11-21T11:52:33.195Z"
   },
   {
    "duration": 18,
    "start_time": "2022-11-21T11:52:33.220Z"
   },
   {
    "duration": 5,
    "start_time": "2022-11-21T11:52:33.239Z"
   },
   {
    "duration": 7,
    "start_time": "2022-11-21T11:52:33.277Z"
   },
   {
    "duration": 7,
    "start_time": "2022-11-21T11:52:33.285Z"
   },
   {
    "duration": 16,
    "start_time": "2022-11-21T11:52:33.293Z"
   },
   {
    "duration": 19,
    "start_time": "2022-11-21T11:52:33.311Z"
   },
   {
    "duration": 133,
    "start_time": "2022-11-21T11:52:33.332Z"
   },
   {
    "duration": 145,
    "start_time": "2022-11-21T11:52:33.467Z"
   },
   {
    "duration": 126,
    "start_time": "2022-11-21T11:52:33.614Z"
   },
   {
    "duration": 179,
    "start_time": "2022-11-21T11:52:33.741Z"
   },
   {
    "duration": 22,
    "start_time": "2022-11-21T11:52:33.923Z"
   },
   {
    "duration": 28,
    "start_time": "2022-11-21T11:52:33.947Z"
   },
   {
    "duration": 122,
    "start_time": "2022-11-21T11:52:33.977Z"
   },
   {
    "duration": 5,
    "start_time": "2022-11-21T11:52:34.101Z"
   },
   {
    "duration": 21,
    "start_time": "2022-11-21T11:52:34.109Z"
   },
   {
    "duration": 20,
    "start_time": "2022-11-21T11:52:34.132Z"
   },
   {
    "duration": 36,
    "start_time": "2022-11-21T11:52:34.154Z"
   },
   {
    "duration": 32,
    "start_time": "2022-11-21T11:52:34.192Z"
   },
   {
    "duration": 13,
    "start_time": "2022-11-21T11:52:34.225Z"
   },
   {
    "duration": 8,
    "start_time": "2022-11-21T11:52:34.240Z"
   },
   {
    "duration": 143,
    "start_time": "2022-11-21T11:52:34.250Z"
   },
   {
    "duration": 8,
    "start_time": "2022-11-21T11:52:34.395Z"
   },
   {
    "duration": 21,
    "start_time": "2022-11-21T11:52:34.404Z"
   },
   {
    "duration": 23,
    "start_time": "2022-11-21T11:52:34.427Z"
   },
   {
    "duration": 42,
    "start_time": "2022-11-21T11:52:34.452Z"
   },
   {
    "duration": 9,
    "start_time": "2022-11-21T11:52:34.495Z"
   },
   {
    "duration": 18,
    "start_time": "2022-11-21T11:52:34.506Z"
   },
   {
    "duration": 12,
    "start_time": "2022-11-21T11:52:34.526Z"
   },
   {
    "duration": 33,
    "start_time": "2022-11-21T11:52:34.540Z"
   },
   {
    "duration": 30,
    "start_time": "2022-11-21T11:52:34.575Z"
   },
   {
    "duration": 30,
    "start_time": "2022-11-21T11:52:34.607Z"
   },
   {
    "duration": 12,
    "start_time": "2022-11-21T11:52:34.638Z"
   },
   {
    "duration": 42,
    "start_time": "2022-11-21T11:52:34.652Z"
   },
   {
    "duration": 170,
    "start_time": "2022-11-21T11:52:34.696Z"
   },
   {
    "duration": 167,
    "start_time": "2022-11-21T11:52:34.868Z"
   },
   {
    "duration": 165,
    "start_time": "2022-11-21T11:52:35.037Z"
   },
   {
    "duration": 166,
    "start_time": "2022-11-21T11:52:35.204Z"
   },
   {
    "duration": 178,
    "start_time": "2022-11-21T11:52:35.371Z"
   },
   {
    "duration": 11,
    "start_time": "2022-11-21T11:52:35.550Z"
   },
   {
    "duration": 32,
    "start_time": "2022-11-21T11:52:35.562Z"
   },
   {
    "duration": 49,
    "start_time": "2022-11-21T11:52:35.595Z"
   },
   {
    "duration": 18,
    "start_time": "2022-11-21T11:52:35.646Z"
   },
   {
    "duration": 28,
    "start_time": "2022-11-21T11:52:35.665Z"
   },
   {
    "duration": 21,
    "start_time": "2022-11-21T11:52:35.695Z"
   },
   {
    "duration": 19,
    "start_time": "2022-11-21T11:52:35.718Z"
   },
   {
    "duration": 16,
    "start_time": "2022-11-21T11:52:35.739Z"
   },
   {
    "duration": 9,
    "start_time": "2022-11-21T11:52:35.757Z"
   },
   {
    "duration": 11,
    "start_time": "2022-11-21T11:52:35.767Z"
   },
   {
    "duration": 21,
    "start_time": "2022-11-21T11:52:35.780Z"
   },
   {
    "duration": 23,
    "start_time": "2022-11-21T11:52:35.803Z"
   },
   {
    "duration": 24,
    "start_time": "2022-11-21T11:52:35.828Z"
   },
   {
    "duration": 44,
    "start_time": "2022-11-21T11:52:35.853Z"
   },
   {
    "duration": 21,
    "start_time": "2022-11-21T11:52:35.899Z"
   },
   {
    "duration": 21,
    "start_time": "2022-11-21T11:52:35.923Z"
   },
   {
    "duration": 22,
    "start_time": "2022-11-21T11:52:35.978Z"
   },
   {
    "duration": 184,
    "start_time": "2022-11-21T11:52:36.001Z"
   },
   {
    "duration": 7,
    "start_time": "2022-11-21T11:52:36.187Z"
   },
   {
    "duration": 14,
    "start_time": "2022-11-21T11:52:36.196Z"
   },
   {
    "duration": 28,
    "start_time": "2022-11-21T11:52:36.212Z"
   },
   {
    "duration": 14,
    "start_time": "2022-11-21T11:52:36.242Z"
   },
   {
    "duration": 92,
    "start_time": "2022-11-21T11:52:36.258Z"
   },
   {
    "duration": 31,
    "start_time": "2022-11-21T11:52:36.352Z"
   },
   {
    "duration": 29,
    "start_time": "2022-11-21T11:52:36.385Z"
   },
   {
    "duration": 21,
    "start_time": "2022-11-21T11:52:36.416Z"
   },
   {
    "duration": 43,
    "start_time": "2022-11-21T11:52:36.439Z"
   },
   {
    "duration": 20,
    "start_time": "2022-11-21T11:52:36.484Z"
   },
   {
    "duration": 22,
    "start_time": "2022-11-21T11:52:36.506Z"
   },
   {
    "duration": 182,
    "start_time": "2022-11-21T11:52:36.530Z"
   },
   {
    "duration": 8,
    "start_time": "2022-11-21T11:52:36.714Z"
   },
   {
    "duration": 11,
    "start_time": "2022-11-21T11:52:36.724Z"
   },
   {
    "duration": 10,
    "start_time": "2022-11-21T11:52:36.736Z"
   },
   {
    "duration": 15,
    "start_time": "2022-11-21T11:52:36.747Z"
   },
   {
    "duration": 24,
    "start_time": "2022-11-21T11:52:36.764Z"
   },
   {
    "duration": 95,
    "start_time": "2022-11-21T11:58:42.960Z"
   },
   {
    "duration": 99,
    "start_time": "2022-11-21T11:59:43.582Z"
   },
   {
    "duration": 109,
    "start_time": "2022-11-21T11:59:51.748Z"
   },
   {
    "duration": 113,
    "start_time": "2022-11-21T12:00:15.084Z"
   },
   {
    "duration": 117,
    "start_time": "2022-11-21T12:01:49.377Z"
   },
   {
    "duration": 126,
    "start_time": "2022-11-21T12:03:06.014Z"
   },
   {
    "duration": 187,
    "start_time": "2022-11-21T12:03:36.954Z"
   },
   {
    "duration": 119,
    "start_time": "2022-11-21T12:03:47.408Z"
   },
   {
    "duration": 119,
    "start_time": "2022-11-21T12:04:01.206Z"
   },
   {
    "duration": 122,
    "start_time": "2022-11-21T12:04:06.935Z"
   },
   {
    "duration": 200,
    "start_time": "2022-11-21T12:04:45.006Z"
   },
   {
    "duration": 118,
    "start_time": "2022-11-21T12:06:12.187Z"
   },
   {
    "duration": 773,
    "start_time": "2022-11-21T12:11:47.322Z"
   },
   {
    "duration": 18,
    "start_time": "2022-11-21T12:11:48.098Z"
   },
   {
    "duration": 14,
    "start_time": "2022-11-21T12:11:48.121Z"
   },
   {
    "duration": 8,
    "start_time": "2022-11-21T12:11:48.137Z"
   },
   {
    "duration": 32,
    "start_time": "2022-11-21T12:11:48.147Z"
   },
   {
    "duration": 49,
    "start_time": "2022-11-21T12:11:48.181Z"
   },
   {
    "duration": 13,
    "start_time": "2022-11-21T12:11:48.232Z"
   },
   {
    "duration": 20,
    "start_time": "2022-11-21T12:11:48.247Z"
   },
   {
    "duration": 14,
    "start_time": "2022-11-21T12:11:48.271Z"
   },
   {
    "duration": 22,
    "start_time": "2022-11-21T12:11:48.287Z"
   },
   {
    "duration": 16,
    "start_time": "2022-11-21T12:11:48.311Z"
   },
   {
    "duration": 8,
    "start_time": "2022-11-21T12:11:48.329Z"
   },
   {
    "duration": 6,
    "start_time": "2022-11-21T12:11:48.339Z"
   },
   {
    "duration": 91,
    "start_time": "2022-11-21T12:11:48.347Z"
   },
   {
    "duration": 4,
    "start_time": "2022-11-21T12:11:48.441Z"
   },
   {
    "duration": 20,
    "start_time": "2022-11-21T12:11:48.447Z"
   },
   {
    "duration": 17,
    "start_time": "2022-11-21T12:11:48.469Z"
   },
   {
    "duration": 22,
    "start_time": "2022-11-21T12:11:48.488Z"
   },
   {
    "duration": 10,
    "start_time": "2022-11-21T12:11:48.512Z"
   },
   {
    "duration": 16,
    "start_time": "2022-11-21T12:11:48.524Z"
   },
   {
    "duration": 55,
    "start_time": "2022-11-21T12:11:48.542Z"
   },
   {
    "duration": 6,
    "start_time": "2022-11-21T12:11:48.599Z"
   },
   {
    "duration": 14,
    "start_time": "2022-11-21T12:11:48.606Z"
   },
   {
    "duration": 6,
    "start_time": "2022-11-21T12:11:48.622Z"
   },
   {
    "duration": 48,
    "start_time": "2022-11-21T12:11:48.629Z"
   },
   {
    "duration": 6,
    "start_time": "2022-11-21T12:11:48.680Z"
   },
   {
    "duration": 21,
    "start_time": "2022-11-21T12:11:48.691Z"
   },
   {
    "duration": 20,
    "start_time": "2022-11-21T12:11:48.714Z"
   },
   {
    "duration": 4,
    "start_time": "2022-11-21T12:11:48.736Z"
   },
   {
    "duration": 9,
    "start_time": "2022-11-21T12:11:48.741Z"
   },
   {
    "duration": 5,
    "start_time": "2022-11-21T12:11:48.778Z"
   },
   {
    "duration": 22,
    "start_time": "2022-11-21T12:11:48.785Z"
   },
   {
    "duration": 9,
    "start_time": "2022-11-21T12:11:48.809Z"
   },
   {
    "duration": 139,
    "start_time": "2022-11-21T12:11:48.820Z"
   },
   {
    "duration": 146,
    "start_time": "2022-11-21T12:11:48.961Z"
   },
   {
    "duration": 148,
    "start_time": "2022-11-21T12:11:49.109Z"
   },
   {
    "duration": 178,
    "start_time": "2022-11-21T12:11:49.259Z"
   },
   {
    "duration": 16,
    "start_time": "2022-11-21T12:11:49.439Z"
   },
   {
    "duration": 102,
    "start_time": "2022-11-21T12:11:49.457Z"
   },
   {
    "duration": 5,
    "start_time": "2022-11-21T12:11:49.561Z"
   },
   {
    "duration": 102,
    "start_time": "2022-11-21T12:11:49.578Z"
   },
   {
    "duration": 126,
    "start_time": "2022-11-21T12:11:49.682Z"
   },
   {
    "duration": 139,
    "start_time": "2022-11-21T12:11:49.809Z"
   },
   {
    "duration": 139,
    "start_time": "2022-11-21T12:11:49.950Z"
   },
   {
    "duration": 5,
    "start_time": "2022-11-21T12:11:50.090Z"
   },
   {
    "duration": 15,
    "start_time": "2022-11-21T12:11:50.097Z"
   },
   {
    "duration": 16,
    "start_time": "2022-11-21T12:11:50.114Z"
   },
   {
    "duration": 11,
    "start_time": "2022-11-21T12:11:50.132Z"
   },
   {
    "duration": 7,
    "start_time": "2022-11-21T12:11:50.145Z"
   },
   {
    "duration": 169,
    "start_time": "2022-11-21T12:11:50.154Z"
   },
   {
    "duration": 9,
    "start_time": "2022-11-21T12:11:50.325Z"
   },
   {
    "duration": 11,
    "start_time": "2022-11-21T12:11:50.335Z"
   },
   {
    "duration": 30,
    "start_time": "2022-11-21T12:11:50.348Z"
   },
   {
    "duration": 10,
    "start_time": "2022-11-21T12:11:50.380Z"
   },
   {
    "duration": 9,
    "start_time": "2022-11-21T12:11:50.392Z"
   },
   {
    "duration": 9,
    "start_time": "2022-11-21T12:11:50.403Z"
   },
   {
    "duration": 10,
    "start_time": "2022-11-21T12:11:50.414Z"
   },
   {
    "duration": 12,
    "start_time": "2022-11-21T12:11:50.426Z"
   },
   {
    "duration": 47,
    "start_time": "2022-11-21T12:11:50.439Z"
   },
   {
    "duration": 12,
    "start_time": "2022-11-21T12:11:50.487Z"
   },
   {
    "duration": 7,
    "start_time": "2022-11-21T12:11:50.501Z"
   },
   {
    "duration": 23,
    "start_time": "2022-11-21T12:11:50.509Z"
   },
   {
    "duration": 211,
    "start_time": "2022-11-21T12:11:50.534Z"
   },
   {
    "duration": 238,
    "start_time": "2022-11-21T12:11:50.747Z"
   },
   {
    "duration": 208,
    "start_time": "2022-11-21T12:11:50.987Z"
   },
   {
    "duration": 245,
    "start_time": "2022-11-21T12:11:51.197Z"
   },
   {
    "duration": 258,
    "start_time": "2022-11-21T12:11:51.444Z"
   },
   {
    "duration": 10,
    "start_time": "2022-11-21T12:11:51.704Z"
   },
   {
    "duration": 66,
    "start_time": "2022-11-21T12:11:51.716Z"
   },
   {
    "duration": 9,
    "start_time": "2022-11-21T12:11:51.784Z"
   },
   {
    "duration": 37,
    "start_time": "2022-11-21T12:11:51.796Z"
   },
   {
    "duration": 43,
    "start_time": "2022-11-21T12:11:51.835Z"
   },
   {
    "duration": 7,
    "start_time": "2022-11-21T12:11:51.881Z"
   },
   {
    "duration": 17,
    "start_time": "2022-11-21T12:11:51.890Z"
   },
   {
    "duration": 22,
    "start_time": "2022-11-21T12:11:51.909Z"
   },
   {
    "duration": 21,
    "start_time": "2022-11-21T12:11:51.933Z"
   },
   {
    "duration": 44,
    "start_time": "2022-11-21T12:11:51.955Z"
   },
   {
    "duration": 84,
    "start_time": "2022-11-21T12:11:52.001Z"
   },
   {
    "duration": 33,
    "start_time": "2022-11-21T12:11:52.087Z"
   },
   {
    "duration": 47,
    "start_time": "2022-11-21T12:11:52.122Z"
   },
   {
    "duration": 32,
    "start_time": "2022-11-21T12:11:52.174Z"
   },
   {
    "duration": 31,
    "start_time": "2022-11-21T12:11:52.208Z"
   },
   {
    "duration": 23,
    "start_time": "2022-11-21T12:11:52.241Z"
   },
   {
    "duration": 32,
    "start_time": "2022-11-21T12:11:52.265Z"
   },
   {
    "duration": 177,
    "start_time": "2022-11-21T12:11:52.299Z"
   },
   {
    "duration": 10,
    "start_time": "2022-11-21T12:11:52.478Z"
   },
   {
    "duration": 23,
    "start_time": "2022-11-21T12:11:52.489Z"
   },
   {
    "duration": 20,
    "start_time": "2022-11-21T12:11:52.514Z"
   },
   {
    "duration": 26,
    "start_time": "2022-11-21T12:11:52.535Z"
   },
   {
    "duration": 34,
    "start_time": "2022-11-21T12:11:52.563Z"
   },
   {
    "duration": 32,
    "start_time": "2022-11-21T12:11:52.599Z"
   },
   {
    "duration": 30,
    "start_time": "2022-11-21T12:11:52.633Z"
   },
   {
    "duration": 24,
    "start_time": "2022-11-21T12:11:52.665Z"
   },
   {
    "duration": 35,
    "start_time": "2022-11-21T12:11:52.691Z"
   },
   {
    "duration": 42,
    "start_time": "2022-11-21T12:11:52.728Z"
   },
   {
    "duration": 42,
    "start_time": "2022-11-21T12:11:52.772Z"
   },
   {
    "duration": 177,
    "start_time": "2022-11-21T12:11:52.816Z"
   },
   {
    "duration": 10,
    "start_time": "2022-11-21T12:11:52.994Z"
   },
   {
    "duration": 13,
    "start_time": "2022-11-21T12:11:53.006Z"
   },
   {
    "duration": 30,
    "start_time": "2022-11-21T12:11:53.021Z"
   },
   {
    "duration": 34,
    "start_time": "2022-11-21T12:11:53.053Z"
   },
   {
    "duration": 17,
    "start_time": "2022-11-21T12:11:53.089Z"
   }
  ],
  "colab": {
   "name": "DA+. Сборный проект 1. Шаблон (1).ipynb",
   "provenance": []
  },
  "kernelspec": {
   "display_name": "Python 3 (ipykernel)",
   "language": "python",
   "name": "python3"
  },
  "language_info": {
   "codemirror_mode": {
    "name": "ipython",
    "version": 3
   },
   "file_extension": ".py",
   "mimetype": "text/x-python",
   "name": "python",
   "nbconvert_exporter": "python",
   "pygments_lexer": "ipython3",
   "version": "3.9.5"
  },
  "toc": {
   "base_numbering": 1,
   "nav_menu": {},
   "number_sections": true,
   "sideBar": true,
   "skip_h1_title": true,
   "title_cell": "Table of Contents",
   "title_sidebar": "Contents",
   "toc_cell": false,
   "toc_position": {
    "height": "calc(100% - 180px)",
    "left": "10px",
    "top": "150px",
    "width": "375.391px"
   },
   "toc_section_display": true,
   "toc_window_display": false
  }
 },
 "nbformat": 4,
 "nbformat_minor": 1
}
