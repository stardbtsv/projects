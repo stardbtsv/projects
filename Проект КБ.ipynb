{
 "cells": [
  {
   "cell_type": "markdown",
   "metadata": {},
   "source": [
    "# Игры — Формирование модели монетизации"
   ]
  },
  {
   "cell_type": "markdown",
   "metadata": {},
   "source": [
    "<div style=\"border:solid black 2px; padding: 20px\">\n",
    "\n",
    "**Задача:** Cформировать модель монетизации игрового приложения.\n",
    "\n",
    "**Описание:**\n",
    "Многие игры зарабатывают с помощью рекламы. И все они сталкиваются с противоречием; Пользователь разозлится и уйдёт, если начать показывать ему рекламу раньше, чем игра его затянет. Но чем позже создатели игры включат рекламу, тем меньше они заработают. Аналитик должен помочь бизнесу выбрать оптимальное время для запуска рекламы. Зная расходы на продвижение игры, надо рассчитать её окупаемость при разных сценариях. \n",
    "\n",
    "**Ход исследования:**\n",
    "\n",
    "\n",
    "1. Предобработка данных:\n",
    "\n",
    "- Загрузка данных.\n",
    "- Изучение структуры данных.\n",
    "- Исследование пропущенных значений.\n",
    "- Приведение типов данных к соответствующим.\n",
    "- Обработка дубликатов.\n",
    "- Проверка корректности наименований столбцов и значений.\n",
    "\n",
    "2. Исследовательский анализ данных:\n",
    "\n",
    "- Анализ распредления регистрируемых событий по времени.\n",
    "- Анализ прохождения уровня пользователями.\n",
    "- Распределение строительства зданий по времени.\n",
    "- Анализ рекламных источников привлечения.\n",
    "- Вычисление \"лайфтайма\" игроков и их кластеризация по времени прохождения уровня\n",
    "\n",
    "3. Проверка статистических гипотез:\n",
    "\n",
    "a) **Нулевая гипотеза (H0):** Среднее время прохождения уровня для группы игроков, завершивших первый уровень через победу над врагом и проект, равно.\n",
    "\n",
    "**Альтернативная гипотеза (H1):** Среднее время прохождения уровня для группы игроков, завершивших первый уровень через победу над врагом и проект, не равно.\n",
    "\n",
    "б) **Нулевая гипотеза (H0):** Распределение игроков, начинающих игру в определенный день недели, не влияет на их шансы успешно завершить первый уровень.\n",
    "\n",
    "**Альтернативная гипотеза (H1):** Игроки, начинающие игру в определенный день недели, имеют больше (или меньше) шансов успешно завершить первый уровень.\n",
    "\n",
    "4. Формирование рекомендаций по улучшении модели монетизации игрового приложения.\n",
    "\n",
    "**Описание датасетов:**\n",
    "Основной датасет содержит данные о событиях, совершенных в мобильной игре «Космические братья». В ней пользователи строят свою космическую программу и пытаются преуспеть в нелёгком деле колонизации галактики. Основная монетизация игры — только планируется. Но предполагается, что в приложении будет происходить показ рекламы на экране с выбором типа объекта для постройки. В датасете представлены данные по игре пользователей на первом уровне. Завершение первого уровня требует от игрока выполнения одного из двух условий:\n",
    "\n",
    "- Победа над первым врагом\n",
    "- Реализация проекта - разработка орбитальной сборки спутников\n",
    "\n",
    "В датасете содержатся данные первых пользователей приложения — когорты\n",
    "пользователей, которые начали пользоваться приложением в период с 4 по 10 мая\n",
    "включительно.\n",
    "\n",
    "**Датасет game_actions.csv:**\n",
    "1. event_datetime — время события;\n",
    "2. event — одно из трёх событий:\n",
    "- building — объект построен,\n",
    "- finished_stage_1 — первый уровень завершён,\n",
    "- project — проект завершён;\n",
    "3. building_type — один из трёх типов здания:\n",
    "- assembly_shop — сборочный цех,\n",
    "- spaceport — космопорт,\n",
    "- research_center — исследовательский центр;\n",
    "4. user_id — идентификатор пользователя;\n",
    "5. project_type — тип реализованного проекта;\n",
    "\n",
    "Помимо основного датасета есть два датасета с информацией о рекламных активностях. Они также помогут в решении задачи.\n",
    "\n",
    "**Датасет ad_costs.csv** содержит колонки:\n",
    "1. day - день, в который был совершен клик по объявлению\n",
    "2. source - источник трафика\n",
    "3. cost - стоимость кликов\n",
    "\n",
    "**Датасет user_source.csv** содержит колонки:\n",
    "1. user_id - идентификатор пользователя\n",
    "2. source - источников, с которого пришёл пользователь, установивший приложение\n",
    "\n",
    "По итогам исследования подготовьте презентацию. Для создания презентации используйте любой удобный инструмент, но отправить презентацию нужно обязательно в формате pdf, прикрепив ссылку на файл в основном проекте."
   ]
  },
  {
   "cell_type": "markdown",
   "metadata": {},
   "source": [
    "## Предобработка данных"
   ]
  },
  {
   "cell_type": "markdown",
   "metadata": {},
   "source": [
    "### Загрузка данных"
   ]
  },
  {
   "cell_type": "code",
   "execution_count": 1,
   "metadata": {},
   "outputs": [],
   "source": [
    "import pandas as pd\n",
    "import matplotlib.pyplot as plt\n",
    "import seaborn as sns\n",
    "import numpy as np\n",
    "from sklearn.preprocessing import StandardScaler\n",
    "from sklearn.cluster import KMeans\n",
    "from scipy.stats import mannwhitneyu\n",
    "from scipy.stats import chi2_contingency\n",
    "from itertools import combinations\n",
    "\n",
    "game_actions = pd.read_csv('https://code.s3.yandex.net/datasets/game_actions.csv')\n",
    "ad_costs = pd.read_csv('https://code.s3.yandex.net/datasets/ad_costs.csv')\n",
    "user_source = pd.read_csv('https://code.s3.yandex.net/datasets/user_source.csv')"
   ]
  },
  {
   "cell_type": "markdown",
   "metadata": {},
   "source": [
    "### Изучение структуры данных"
   ]
  },
  {
   "cell_type": "code",
   "execution_count": 2,
   "metadata": {
    "scrolled": true
   },
   "outputs": [
    {
     "name": "stdout",
     "output_type": "stream",
     "text": [
      "<class 'pandas.core.frame.DataFrame'>\n",
      "RangeIndex: 135640 entries, 0 to 135639\n",
      "Data columns (total 5 columns):\n",
      " #   Column          Non-Null Count   Dtype \n",
      "---  ------          --------------   ----- \n",
      " 0   event_datetime  135640 non-null  object\n",
      " 1   event           135640 non-null  object\n",
      " 2   building_type   127957 non-null  object\n",
      " 3   user_id         135640 non-null  object\n",
      " 4   project_type    1866 non-null    object\n",
      "dtypes: object(5)\n",
      "memory usage: 5.2+ MB\n",
      "None\n",
      "<class 'pandas.core.frame.DataFrame'>\n",
      "RangeIndex: 28 entries, 0 to 27\n",
      "Data columns (total 3 columns):\n",
      " #   Column  Non-Null Count  Dtype  \n",
      "---  ------  --------------  -----  \n",
      " 0   source  28 non-null     object \n",
      " 1   day     28 non-null     object \n",
      " 2   cost    28 non-null     float64\n",
      "dtypes: float64(1), object(2)\n",
      "memory usage: 800.0+ bytes\n",
      "None\n",
      "<class 'pandas.core.frame.DataFrame'>\n",
      "RangeIndex: 13576 entries, 0 to 13575\n",
      "Data columns (total 2 columns):\n",
      " #   Column   Non-Null Count  Dtype \n",
      "---  ------   --------------  ----- \n",
      " 0   user_id  13576 non-null  object\n",
      " 1   source   13576 non-null  object\n",
      "dtypes: object(2)\n",
      "memory usage: 212.2+ KB\n",
      "None\n"
     ]
    }
   ],
   "source": [
    "print(game_actions.info())\n",
    "print(ad_costs.info())\n",
    "print(user_source.info())"
   ]
  },
  {
   "cell_type": "markdown",
   "metadata": {},
   "source": [
    "**Датасет game_actions:**\n",
    "\n",
    "- **event_datetime:** Сейчас данное поле имеет тип object и следует привести его к типу datetime для дальнейшего удобства анализа и работы с данными.\n",
    "- **building_type:** Есть пропущенные значения. Пустые значения в типе постройки связаны с произошедшими событиями: finished_stage_1 или project. Логично оставить незаполненные значения.\n",
    "- **project_type:** Это поле также содержит много пропущенных значений. Это связано с тем, что не все пользователи завершили проект при фиксации определенного события.\n",
    "\n",
    "**Датасет ad_costs:**\n",
    "\n",
    "Все поля в этом датасете кажутся нормальными.\n",
    "\n",
    "**Датасет user_source:**\n",
    "\n",
    "Нет пропущенных значений в данном датасете."
   ]
  },
  {
   "cell_type": "markdown",
   "metadata": {},
   "source": [
    "### Исследование пропущенных значений."
   ]
  },
  {
   "cell_type": "code",
   "execution_count": 3,
   "metadata": {},
   "outputs": [
    {
     "name": "stdout",
     "output_type": "stream",
     "text": [
      "event_datetime         0\n",
      "event                  0\n",
      "building_type       7683\n",
      "user_id                0\n",
      "project_type      133774\n",
      "dtype: int64\n",
      "source    0\n",
      "day       0\n",
      "cost      0\n",
      "dtype: int64\n",
      "user_id    0\n",
      "source     0\n",
      "dtype: int64\n"
     ]
    }
   ],
   "source": [
    "print(game_actions.isnull().sum())\n",
    "print(ad_costs.isnull().sum())\n",
    "print(user_source.isnull().sum())"
   ]
  },
  {
   "cell_type": "code",
   "execution_count": 4,
   "metadata": {
    "scrolled": true
   },
   "outputs": [
    {
     "name": "stdout",
     "output_type": "stream",
     "text": [
      "Тип постройки не указан в событиях: ['finished_stage_1' 'project']\n",
      "Количество строк с событием 'finished_stage_1': 5817\n",
      "Количество строк с событием 'project': 1866\n"
     ]
    }
   ],
   "source": [
    "nan_building_rows = game_actions[game_actions['building_type'].isna()]\n",
    "print(f'Тип постройки не указан в событиях:',nan_building_rows['event'].unique())\n",
    "\n",
    "count_finished_stage_1 = len(game_actions[game_actions['event'] == 'finished_stage_1'])\n",
    "count_project = len(game_actions[game_actions['event'] == 'project'])\n",
    "\n",
    "print(\"Количество строк с событием 'finished_stage_1':\", count_finished_stage_1)\n",
    "print(\"Количество строк с событием 'project':\", count_project)"
   ]
  },
  {
   "cell_type": "markdown",
   "metadata": {},
   "source": [
    "**Вывод**: Тип постройки не указывается при завершении первого уровня/проекта."
   ]
  },
  {
   "cell_type": "code",
   "execution_count": 5,
   "metadata": {},
   "outputs": [
    {
     "name": "stdout",
     "output_type": "stream",
     "text": [
      "Тип проекта не указан в событиях: ['building' 'finished_stage_1']\n"
     ]
    }
   ],
   "source": [
    "nan_project_rows = game_actions[game_actions['project_type'].isna()]\n",
    "print(f'Тип проекта не указан в событиях:',nan_project_rows['event'].unique())\n",
    "\n",
    "# Можно заменить пустые значения на \"нет проекта\"\n",
    "game_actions['project_type'].fillna('no_project', inplace=True)"
   ]
  },
  {
   "cell_type": "markdown",
   "metadata": {},
   "source": [
    "**Вывод**: Тип проекта не указывается при постройки здания/завершении первого уровня."
   ]
  },
  {
   "cell_type": "markdown",
   "metadata": {},
   "source": [
    "### Приведение типов данных к соответствующим."
   ]
  },
  {
   "cell_type": "code",
   "execution_count": 6,
   "metadata": {},
   "outputs": [
    {
     "name": "stdout",
     "output_type": "stream",
     "text": [
      "<class 'pandas.core.frame.DataFrame'>\n",
      "RangeIndex: 135640 entries, 0 to 135639\n",
      "Data columns (total 5 columns):\n",
      " #   Column          Non-Null Count   Dtype         \n",
      "---  ------          --------------   -----         \n",
      " 0   event_datetime  135640 non-null  datetime64[ns]\n",
      " 1   event           135640 non-null  object        \n",
      " 2   building_type   127957 non-null  object        \n",
      " 3   user_id         135640 non-null  object        \n",
      " 4   project_type    135640 non-null  object        \n",
      "dtypes: datetime64[ns](1), object(4)\n",
      "memory usage: 5.2+ MB\n",
      "None\n"
     ]
    }
   ],
   "source": [
    "# Приведение event_datetime к типу datetime\n",
    "game_actions['event_datetime'] = pd.to_datetime(game_actions['event_datetime'])\n",
    "print(game_actions.info())"
   ]
  },
  {
   "cell_type": "markdown",
   "metadata": {},
   "source": [
    "### Обработка дубликатов."
   ]
  },
  {
   "cell_type": "code",
   "execution_count": 7,
   "metadata": {
    "scrolled": true
   },
   "outputs": [
    {
     "name": "stdout",
     "output_type": "stream",
     "text": [
      "Количество явных дубликатов в датасете game_actions: 1\n",
      "Количество явных дубликатов в датасете ad_costs: 0\n",
      "Количество явных дубликатов в датасете user_source: 0\n"
     ]
    }
   ],
   "source": [
    "print(\"Количество явных дубликатов в датасете game_actions:\", game_actions.duplicated().sum())\n",
    "print(\"Количество явных дубликатов в датасете ad_costs:\", ad_costs.duplicated().sum())\n",
    "print(\"Количество явных дубликатов в датасете user_source:\", user_source.duplicated().sum())"
   ]
  },
  {
   "cell_type": "markdown",
   "metadata": {},
   "source": [
    "**Вывод**: Обнаружен один явный дубликат в game_actions"
   ]
  },
  {
   "cell_type": "code",
   "execution_count": 8,
   "metadata": {},
   "outputs": [
    {
     "name": "stdout",
     "output_type": "stream",
     "text": [
      "Количество явных дубликатов в датасете game_actions: 0\n"
     ]
    }
   ],
   "source": [
    "game_actions.drop_duplicates(inplace=True)\n",
    "print(\"Количество явных дубликатов в датасете game_actions:\", game_actions.duplicated().sum())"
   ]
  },
  {
   "cell_type": "markdown",
   "metadata": {},
   "source": [
    "#### Дубликаты по столбцам 'event', 'building_type', 'user_id'"
   ]
  },
  {
   "cell_type": "code",
   "execution_count": 9,
   "metadata": {},
   "outputs": [
    {
     "name": "stdout",
     "output_type": "stream",
     "text": [
      "Количество дубликатов: 93478\n",
      "Уникальные значения в столбце 'event' для дубликатов: ['building']\n"
     ]
    }
   ],
   "source": [
    "duplicate_rows = game_actions[game_actions.duplicated(subset=['event', 'building_type', 'user_id'])]\n",
    "print(\"Количество дубликатов:\", len(duplicate_rows))\n",
    "print(\"Уникальные значения в столбце 'event' для дубликатов:\", duplicate_rows['event'].unique())"
   ]
  },
  {
   "cell_type": "markdown",
   "metadata": {},
   "source": [
    "**Вывод**: Наличие таких дубликатов можно связать с наличием возможности у пользователя строить здания одного и того же типа несколько раз."
   ]
  },
  {
   "cell_type": "markdown",
   "metadata": {},
   "source": [
    "### Проверка корректности наименований столбцов и значений."
   ]
  },
  {
   "cell_type": "code",
   "execution_count": 10,
   "metadata": {},
   "outputs": [
    {
     "name": "stdout",
     "output_type": "stream",
     "text": [
      "Датасет game_actions:\n",
      "Index(['event_datetime', 'event', 'building_type', 'user_id', 'project_type'], dtype='object')\n",
      "Уникальные значения в столбце 'event_datetime': ['2020-05-04T00:00:01.000000000' '2020-05-04T00:00:03.000000000'\n",
      " '2020-05-04T00:00:16.000000000' ... '2020-06-05T08:57:52.000000000'\n",
      " '2020-06-05T12:12:27.000000000' '2020-06-05T12:32:49.000000000']\n",
      "Уникальные значения в столбце 'event': ['building' 'finished_stage_1' 'project']\n",
      "Уникальные значения в столбце 'building_type': ['assembly_shop' 'spaceport' nan 'research_center']\n",
      "Уникальные значения в столбце 'user_id': ['55e92310-cb8e-4754-b622-597e124b03de'\n",
      " 'c07b1c10-f477-44dc-81dc-ec82254b1347'\n",
      " '6edd42cc-e753-4ff6-a947-2107cd560710' ...\n",
      " '7b225969-375a-455e-a14a-ed1ab373fb65'\n",
      " 'cafd1b8b-507b-49ae-abf0-89fe863a8b03'\n",
      " 'bdc53e19-462a-4dc3-8b55-b4a34278af6a']\n",
      "Уникальные значения в столбце 'project_type': ['no_project' 'satellite_orbital_assembly']\n",
      "\n",
      "Датасет ad_costs:\n",
      "Index(['source', 'day', 'cost'], dtype='object')\n",
      "Уникальные значения в столбце 'source': ['facebook_ads' 'instagram_new_adverts' 'yandex_direct'\n",
      " 'youtube_channel_reklama']\n",
      "Уникальные значения в столбце 'day': ['2020-05-03' '2020-05-04' '2020-05-05' '2020-05-06' '2020-05-07'\n",
      " '2020-05-08' '2020-05-09']\n",
      "Уникальные значения в столбце 'cost': [935.88278612 548.35447985 260.18575416 177.98220002 111.76679631\n",
      "  68.00927645  38.72335021 943.2047174  502.92545098 313.97098369\n",
      " 173.07114531 109.91525421  71.57873946  46.7753997  969.13939394\n",
      " 554.65149408 308.23298964 180.91709941 114.42933758  62.96162991\n",
      "  42.77950457 454.22494283 259.07322428 147.0417414   88.50607423\n",
      "  55.74064467  40.21790712  23.31466927]\n",
      "\n",
      "Датасет user_source:\n",
      "Index(['user_id', 'source'], dtype='object')\n",
      "Уникальные значения в столбце 'user_id': ['0001f83c-c6ac-4621-b7f0-8a28b283ac30'\n",
      " '00151b4f-ba38-44a8-a650-d7cf130a0105'\n",
      " '001aaea6-3d14-43f1-8ca8-7f48820f17aa' ...\n",
      " 'fffb626c-5ab6-47c9-8113-2062a2f18494'\n",
      " 'ffff194a-56b7-4c12-860d-3485242ae7f5'\n",
      " 'ffff69cc-fec1-4fd3-9f98-93be1112a6b8']\n",
      "Уникальные значения в столбце 'source': ['facebook_ads' 'yandex_direct' 'youtube_channel_reklama'\n",
      " 'instagram_new_adverts']\n"
     ]
    }
   ],
   "source": [
    "print(\"Датасет game_actions:\")\n",
    "print(game_actions.columns)\n",
    "for col in game_actions.columns:\n",
    "    unique_values = game_actions[col].unique()\n",
    "    print(f\"Уникальные значения в столбце '{col}': {unique_values}\")\n",
    "\n",
    "print(\"\\nДатасет ad_costs:\")\n",
    "print(ad_costs.columns)\n",
    "for col in ad_costs.columns:\n",
    "    unique_values = ad_costs[col].unique()\n",
    "    print(f\"Уникальные значения в столбце '{col}': {unique_values}\")\n",
    "\n",
    "print(\"\\nДатасет user_source:\")\n",
    "print(user_source.columns)\n",
    "for col in user_source.columns:\n",
    "    unique_values = user_source[col].unique()\n",
    "    print(f\"Уникальные значения в столбце '{col}': {unique_values}\")\n"
   ]
  },
  {
   "cell_type": "markdown",
   "metadata": {},
   "source": [
    "**Вывод**: Все наименования столбцов и значения корректны"
   ]
  },
  {
   "cell_type": "markdown",
   "metadata": {},
   "source": [
    "## Исследовательский анализ данных:"
   ]
  },
  {
   "cell_type": "markdown",
   "metadata": {},
   "source": [
    "<a id=\"section_1\"></a>\n",
    "### Распредление регистрируемых событий по времени"
   ]
  },
  {
   "cell_type": "code",
   "execution_count": 11,
   "metadata": {
    "scrolled": true
   },
   "outputs": [
    {
     "name": "stdout",
     "output_type": "stream",
     "text": [
      "event  event_date  building  finished_stage_1  project\n",
      "0      2020-05-04    8170.0               1.0      0.0\n",
      "1      2020-05-05    9052.0               3.0      0.0\n",
      "2      2020-05-06    9921.0               4.0      0.0\n",
      "3      2020-05-07   10847.0              11.0      0.0\n",
      "4      2020-05-08   12030.0              28.0      1.0\n",
      "5      2020-05-09   13066.0              60.0      3.0\n",
      "6      2020-05-10   15022.0             151.0     34.0\n",
      "7      2020-05-11    7876.0             233.0     76.0\n",
      "8      2020-05-12    7509.0             313.0     96.0\n",
      "9      2020-05-13    7060.0             389.0    175.0\n",
      "10     2020-05-14    6140.0             516.0    174.0\n",
      "11     2020-05-15    5155.0             560.0    237.0\n",
      "12     2020-05-16    4243.0             649.0    207.0\n",
      "13     2020-05-17    3180.0             587.0    188.0\n",
      "14     2020-05-18    2236.0             473.0    138.0\n",
      "15     2020-05-19    1787.0             397.0    135.0\n",
      "16     2020-05-20    1349.0             379.0    109.0\n",
      "17     2020-05-21     988.0             305.0     77.0\n",
      "18     2020-05-22     695.0             199.0     52.0\n",
      "19     2020-05-23     509.0             151.0     47.0\n",
      "20     2020-05-24     349.0             111.0     31.0\n",
      "21     2020-05-25     255.0             100.0     27.0\n",
      "22     2020-05-26     184.0              63.0     15.0\n",
      "23     2020-05-27     120.0              45.0     15.0\n",
      "24     2020-05-28      81.0              26.0     11.0\n",
      "25     2020-05-29      49.0              24.0      6.0\n",
      "26     2020-05-30      33.0              10.0      1.0\n",
      "27     2020-05-31      19.0               6.0      4.0\n",
      "28     2020-06-01      12.0               7.0      1.0\n",
      "29     2020-06-02       6.0               5.0      4.0\n",
      "30     2020-06-03       7.0               3.0      1.0\n",
      "31     2020-06-04       4.0               5.0      1.0\n",
      "32     2020-06-05       2.0               3.0      0.0\n"
     ]
    }
   ],
   "source": [
    "# Извлечение даты из datetime\n",
    "game_actions['event_date'] = game_actions['event_datetime'].dt.date\n",
    "\n",
    "events_by_date = game_actions.groupby(['event_date', 'event']).size().reset_index(name='count')\n",
    "\n",
    "pivot_events_by_date = events_by_date.pivot(index='event_date', columns='event', values='count').reset_index()\n",
    "pivot_events_by_date.fillna(0, inplace=True)\n",
    "\n",
    "print(pivot_events_by_date)"
   ]
  },
  {
   "cell_type": "code",
   "execution_count": 12,
   "metadata": {},
   "outputs": [
    {
     "data": {
      "image/png": "[encoded data removed]",
      "text/plain": [
       "<Figure size 720x432 with 1 Axes>"
      ]
     },
     "metadata": {
      "needs_background": "light"
     },
     "output_type": "display_data"
    }
   ],
   "source": [
    "# Анализ распределения ключевых показателей\n",
    "plt.figure(figsize=(10, 6))\n",
    "sns.histplot(data=game_actions, x='event_datetime', bins=30, hue='event', multiple='stack')\n",
    "plt.title('Распределение событий по времени')\n",
    "plt.xticks(rotation=45)\n",
    "plt.legend(title='Событие', labels=['project', 'finished_stage_1', 'building'])\n",
    "plt.show()"
   ]
  },
  {
   "cell_type": "markdown",
   "metadata": {},
   "source": [
    "**Вывод:** Данные отражают активность игроков, начавших играть в период с 4 по 10 мая. Большинство пользователей было наиболее активным в середине мая: пик строительства приходится на 10 мая, завершение первого уровня — на 16 мая, и реализация проектов достигла максимума 15 мая. После этого активность резко снижается. Это указывает на возможное угасание интереса к игре после первой недели использования."
   ]
  },
  {
   "cell_type": "markdown",
   "metadata": {},
   "source": [
    "### Анализ прохождения уровня пользователями"
   ]
  },
  {
   "cell_type": "code",
   "execution_count": 13,
   "metadata": {},
   "outputs": [
    {
     "name": "stdout",
     "output_type": "stream",
     "text": [
      "Всего уникальных игроков: 13576\n",
      "Количество игроков, завершивших первый уровень путем победы над врагом: 5817\n",
      "Количество игроков, завершивших первый уровень путем реализации проекта: 1866\n",
      "Количество игроков, не завершивших первый уровень: 7759\n"
     ]
    }
   ],
   "source": [
    "# Всего уникальных игроков\n",
    "total_users = game_actions['user_id'].unique()\n",
    "\n",
    "# Уникальные игроки для каждого события: победа над игроком / завершение проекта \n",
    "victory_users = game_actions[game_actions['event'] == 'finished_stage_1']['user_id'].unique()\n",
    "project_users = game_actions[game_actions['event'] == 'project']['user_id'].unique()\n",
    "\n",
    "# Игроки, которые не завершили первый уровень\n",
    "not_finished_users = game_actions[~game_actions['user_id'].isin(np.concatenate([victory_users, project_users]))]['user_id'].unique()\n",
    "\n",
    "print(f'Всего уникальных игроков:', len(total_users))\n",
    "print(f'Количество игроков, завершивших первый уровень путем победы над врагом:', len(victory_users))\n",
    "print(f'Количество игроков, завершивших первый уровень путем реализации проекта:', len(project_users))\n",
    "print(f'Количество игроков, не завершивших первый уровень:', len(not_finished_users))"
   ]
  },
  {
   "cell_type": "code",
   "execution_count": 14,
   "metadata": {},
   "outputs": [
    {
     "data": {
      "image/png": "[encoded data removed]",
      "text/plain": [
       "<Figure size 720x504 with 1 Axes>"
      ]
     },
     "metadata": {},
     "output_type": "display_data"
    }
   ],
   "source": [
    "labels = ['Завершили уровень', 'Не завершили первый уровень']\n",
    "sizes = [len(victory_users), len(not_finished_users)]\n",
    "colors = ['#ff9999', '#99ff99']\n",
    "explode = (0.1, 0.1) \n",
    "\n",
    "plt.figure(figsize=(10, 7))\n",
    "plt.pie(sizes, explode=explode, labels=labels, colors=colors, autopct='%1.1f%%', shadow=True, startangle=140)\n",
    "plt.axis('equal') \n",
    "plt.title('Распределение игроков по завершению уровня и тем, кто не завершил')\n",
    "plt.show()"
   ]
  },
  {
   "cell_type": "code",
   "execution_count": 15,
   "metadata": {},
   "outputs": [
    {
     "name": "stdout",
     "output_type": "stream",
     "text": [
      "Количество пользователей, которые завершили уровень и победой, и реализацией проекта: 1866\n",
      "Количество пользователей, которые не завершили уровень, но победили врага: 0\n",
      "Количество пользователей, которые не завершили уровень, но реализовали проект: 0\n"
     ]
    }
   ],
   "source": [
    "# Пересечение пользователей между победой над врагом и реализацией проекта\n",
    "intersection_victory_project = np.intersect1d(victory_users, project_users)\n",
    "print(f\"Количество пользователей, которые завершили уровень и победой, и реализацией проекта: {len(intersection_victory_project)}\")\n",
    "\n",
    "# Пересечение пользователей между не завершившими и победившими врага\n",
    "intersection_not_finished_victory = np.intersect1d(not_finished_users, victory_users)\n",
    "print(f\"Количество пользователей, которые не завершили уровень, но победили врага: {len(intersection_not_finished_victory)}\")\n",
    "\n",
    "# Пересечение пользователей между не завершившими и реализовавшими проекти\n",
    "intersection_not_finished_project = np.intersect1d(not_finished_users, project_users)\n",
    "print(f\"Количество пользователей, которые не завершили уровень, но реализовали проект: {len(intersection_not_finished_project)}\")"
   ]
  },
  {
   "cell_type": "markdown",
   "metadata": {},
   "source": [
    "**Вывод:** 1866 пользователей завершили уровень и победой над врагом, и реализацией проекта, что указывает на двойственность в данных. Остальные игроки между группами не пересекаются. "
   ]
  },
  {
   "cell_type": "code",
   "execution_count": 16,
   "metadata": {},
   "outputs": [
    {
     "name": "stdout",
     "output_type": "stream",
     "text": [
      "Среднее время, проведенное игроками до завершения первого уровня: 11.36 дней\n",
      "Медианное время, проведенное игроками до завершения первого уровня: 10.99 дней\n"
     ]
    }
   ],
   "source": [
    "game_actions_sorted = game_actions.sort_values(by='event_datetime')\n",
    "\n",
    "start_time = game_actions_sorted.groupby('user_id')['event_datetime'].first()\n",
    "\n",
    "# Определяем время завершения для каждого пользователя\n",
    "end_time_stage = game_actions_sorted[(game_actions_sorted['event'] == 'finished_stage_1') | (game_actions_sorted['event'] == 'project')].groupby('user_id')['event_datetime'].first()\n",
    "\n",
    "# Вычисление времени, проведенного игроками до завершения первого уровня\n",
    "time_spent = (end_time_stage - start_time).dt.total_seconds()\n",
    "\n",
    "# Переводим секунды в дни\n",
    "time_spent_days = time_spent / (3600 * 24)\n",
    "\n",
    "print(\"Среднее время, проведенное игроками до завершения первого уровня:\", round(time_spent_days.mean(), 2), \"дней\")\n",
    "print(\"Медианное время, проведенное игроками до завершения первого уровня:\", round(time_spent_days.median(), 2), \"дней\")"
   ]
  },
  {
   "cell_type": "markdown",
   "metadata": {},
   "source": [
    "**Вывод:** Примерно 11 дней уходит среднестатистическому игроку на прохождение первого уровня игры."
   ]
  },
  {
   "cell_type": "markdown",
   "metadata": {},
   "source": [
    "### Распределение строительства зданий по времени"
   ]
  },
  {
   "cell_type": "code",
   "execution_count": 17,
   "metadata": {},
   "outputs": [
    {
     "name": "stdout",
     "output_type": "stream",
     "text": [
      "Количество построек разных типов:\n",
      "spaceport          59325\n",
      "assembly_shop      54494\n",
      "research_center    14137\n",
      "Name: building_type, dtype: int64\n"
     ]
    },
    {
     "data": {
      "image/png": "[encoded data removed]",
      "text/plain": [
       "<Figure size 720x432 with 1 Axes>"
      ]
     },
     "metadata": {
      "needs_background": "light"
     },
     "output_type": "display_data"
    }
   ],
   "source": [
    "buildings = game_actions['building_type'].value_counts()\n",
    "\n",
    "print(\"Количество построек разных типов:\")\n",
    "print(buildings)\n",
    "\n",
    "plt.figure(figsize=(10,6))\n",
    "sns.barplot(x=buildings.index, y=buildings.values, edgecolor='black')\n",
    "plt.title(\"Распределение по типам строений\")\n",
    "plt.ylabel(\"Количество построек\")\n",
    "plt.xlabel(\"Тип строения\")\n",
    "plt.show()"
   ]
  },
  {
   "cell_type": "code",
   "execution_count": 18,
   "metadata": {
    "scrolled": true
   },
   "outputs": [
    {
     "data": {
      "image/png": "[encoded data removed]",
      "text/plain": [
       "<Figure size 1008x504 with 1 Axes>"
      ]
     },
     "metadata": {
      "needs_background": "light"
     },
     "output_type": "display_data"
    }
   ],
   "source": [
    "# Группировка данных по дате и типу здания\n",
    "buildings_by_date = game_actions.groupby(['event_date', 'building_type']).size().reset_index(name='count')\n",
    "\n",
    "pivot_buildings_by_date = buildings_by_date.pivot(index='event_date', columns='building_type', values='count').reset_index()\n",
    "pivot_buildings_by_date.fillna(0, inplace=True)\n",
    "\n",
    "# Визуализация\n",
    "plt.figure(figsize=(14,7))\n",
    "for column in pivot_buildings_by_date.columns[1:]:\n",
    "    plt.plot(pivot_buildings_by_date['event_date'], pivot_buildings_by_date[column], label=column)\n",
    "\n",
    "plt.title(\"Распределение строительства по дням и типам зданий\")\n",
    "plt.ylabel(\"Количество построек\")\n",
    "plt.xlabel(\"Дата\")\n",
    "plt.legend(title=\"Тип строения\")\n",
    "plt.xticks(rotation=45)\n",
    "plt.tight_layout()\n",
    "plt.show()"
   ]
  },
  {
   "cell_type": "markdown",
   "metadata": {},
   "source": [
    "**Вывод:** В первые дни после регистрации, начиная с 4 мая, игроки активно строили объекты типа \"assembly_shop\". Это может быть связано с начальной стадией игры, где строительство таких объектов является обязательным. Однако начиная с 11 мая, строительство этого объекта полностью прекратилось. Вероятно, игроки перешли к следующим этапам уровня, где требовалось строительство более продвинутых объектов.\n",
    "\n",
    "В этот же период наблюдается рост количества строительства объектов \"spaceport\" и \"research_center\". Это указывает на то, что игроки, продвигаясь уровню, начинают строить более сложные объекты. По распредлению можно видеть, что для прохождения уровня игры требовалось наличие постройки \"spaceport\". Объект \"research_center\", возможно, является \"финальным\" и наиболее ключевым для перехода на следующий уровень."
   ]
  },
  {
   "cell_type": "code",
   "execution_count": 19,
   "metadata": {
    "scrolled": false
   },
   "outputs": [
    {
     "data": {
      "image/png": "[encoded data removed]",
      "text/plain": [
       "<Figure size 864x432 with 1 Axes>"
      ]
     },
     "metadata": {
      "needs_background": "light"
     },
     "output_type": "display_data"
    }
   ],
   "source": [
    "first_launch = game_actions.groupby('user_id')['event_datetime'].min().reset_index()\n",
    "\n",
    "first_launch['date'] = first_launch['event_datetime'].dt.date\n",
    "first_launch = first_launch.sort_values('date')\n",
    "\n",
    "plt.figure(figsize=(12, 6))\n",
    "sns.countplot(data=first_launch, x='date', edgecolor='black')\n",
    "plt.title('Количество новых игроков каждый день')\n",
    "plt.xlabel('Дата')\n",
    "plt.ylabel('Количество новых игроков')\n",
    "plt.xticks(rotation=45)\n",
    "plt.tight_layout()\n",
    "\n",
    "plt.show()"
   ]
  },
  {
   "cell_type": "markdown",
   "metadata": {},
   "source": [
    "#### Стратегии строительства зданий игроками, прошедшими уровень"
   ]
  },
  {
   "cell_type": "code",
   "execution_count": 20,
   "metadata": {
    "scrolled": false
   },
   "outputs": [
    {
     "data": {
      "image/png": "[encoded data removed]",
      "text/plain": [
       "<Figure size 1008x504 with 1 Axes>"
      ]
     },
     "metadata": {
      "needs_background": "light"
     },
     "output_type": "display_data"
    }
   ],
   "source": [
    "# Фильтруем данные для пользователей, которые завершили первый уровень\n",
    "finished_users_data = game_actions[game_actions['user_id'].isin(np.concatenate([victory_users, project_users]))]\n",
    "\n",
    "# Группировка данных по дате и типу здания для завершивших первый уровень\n",
    "buildings_by_date_finished = finished_users_data.groupby(['event_date', 'building_type']).size().reset_index(name='count')\n",
    "\n",
    "pivot_buildings_by_date_finished = buildings_by_date_finished.pivot(index='event_date', columns='building_type', values='count').reset_index()\n",
    "pivot_buildings_by_date_finished.fillna(0, inplace=True)\n",
    "\n",
    "# Визуализация\n",
    "plt.figure(figsize=(14,7))\n",
    "for column in pivot_buildings_by_date_finished.columns[1:]:\n",
    "    plt.plot(pivot_buildings_by_date_finished['event_date'], pivot_buildings_by_date_finished[column], label=column)\n",
    "\n",
    "plt.title(\"Распределение строительства по дням и типам зданий для пользователей, завершивших первый уровень\")\n",
    "plt.ylabel(\"Количество построек\")\n",
    "plt.xlabel(\"Дата\")\n",
    "plt.legend(title=\"Тип строения\")\n",
    "plt.xticks(rotation=45)\n",
    "plt.tight_layout()\n",
    "plt.show()"
   ]
  },
  {
   "cell_type": "markdown",
   "metadata": {},
   "source": [
    "#### Стратегии строительства зданий игроками, не прошедшими уровень"
   ]
  },
  {
   "cell_type": "code",
   "execution_count": 21,
   "metadata": {},
   "outputs": [
    {
     "data": {
      "image/png": "[encoded data removed]",
      "text/plain": [
       "<Figure size 1008x504 with 1 Axes>"
      ]
     },
     "metadata": {
      "needs_background": "light"
     },
     "output_type": "display_data"
    }
   ],
   "source": [
    "# Фильтруем данные для пользователей, которые не завершили первый уровень\n",
    "not_finished_users_data = game_actions[game_actions['user_id'].isin(not_finished_users)]\n",
    "\n",
    "# Группировка данных по дате и типу здания для не завершивших первый уровень\n",
    "buildings_by_date_not_finished = not_finished_users_data.groupby(['event_date', 'building_type']).size().reset_index(name='count')\n",
    "pivot_buildings_by_date_not_finished = buildings_by_date_not_finished.pivot(index='event_date', columns='building_type', values='count').reset_index()\n",
    "pivot_buildings_by_date_not_finished.fillna(0, inplace=True)\n",
    "\n",
    "# Визуализация\n",
    "plt.figure(figsize=(14,7))\n",
    "for column in pivot_buildings_by_date_not_finished.columns[1:]:\n",
    "    plt.plot(pivot_buildings_by_date_not_finished['event_date'], pivot_buildings_by_date_not_finished[column], label=column)\n",
    "\n",
    "plt.title(\"Распределение строительства по дням и типам зданий для пользователей, не завершивших первый уровень\")\n",
    "plt.ylabel(\"Количество построек\")\n",
    "plt.xlabel(\"Дата\")\n",
    "plt.legend(title=\"Тип строения\")\n",
    "plt.xticks(rotation=45)\n",
    "plt.tight_layout()\n",
    "plt.show()"
   ]
  },
  {
   "cell_type": "markdown",
   "metadata": {},
   "source": [
    "**Вывод:** Стратегии игроков обеих групп по строительству зданий не отличаются, что подтверждает последовательность строительства: \n",
    "1. assembly_shop — сборочный цех,\n",
    "2. spaceport — космопорт,\n",
    "3. research_center — исследовательский центр;"
   ]
  },
  {
   "cell_type": "code",
   "execution_count": 22,
   "metadata": {},
   "outputs": [
    {
     "name": "stdout",
     "output_type": "stream",
     "text": [
      "Среднее время, проведенное игроками до постройки космопорта: 3.45 дней\n",
      "Медианное время, проведенное игроками до постройки космопорта: 3.09 дней\n",
      "Среднее время, проведенное игроками до постройки исследовательского центра: 9.28 дней\n",
      "Медианное время, проведенное игроками до постройки исследовательского центра: 8.61 дней\n"
     ]
    }
   ],
   "source": [
    "# Определяем время постройки космопорта для каждого пользователя\n",
    "end_time_spaceport = game_actions_sorted[game_actions_sorted['building_type'] == 'spaceport'].groupby('user_id')['event_datetime'].first()\n",
    "\n",
    "# Определяем время постройки исследовательского центра для каждого пользователя\n",
    "end_time_research_center = game_actions_sorted[game_actions_sorted['building_type'] == 'research_center'].groupby('user_id')['event_datetime'].first()\n",
    "\n",
    "# Вычисляем время, проведенное игроками до постройки космопорта\n",
    "time_spent_spaceport = (end_time_spaceport - start_time).dt.total_seconds() / 3600 / 24\n",
    "\n",
    "# Вычисляем время, проведенное игроками до постройки исследовательского центра\n",
    "time_spent_research_center = (end_time_research_center - start_time).dt.total_seconds() / 3600 / 24\n",
    "\n",
    "print(\"Среднее время, проведенное игроками до постройки космопорта:\", round(time_spent_spaceport.mean(), 2), \"дней\")\n",
    "print(\"Медианное время, проведенное игроками до постройки космопорта:\", round(time_spent_spaceport.median(), 2), \"дней\")\n",
    "print(\"Среднее время, проведенное игроками до постройки исследовательского центра:\", round(time_spent_research_center.mean(), 2), \"дней\")\n",
    "print(\"Медианное время, проведенное игроками до постройки исследовательского центра:\", round(time_spent_research_center.median(), 2), \"дней\")"
   ]
  },
  {
   "cell_type": "markdown",
   "metadata": {},
   "source": [
    "#### На строительстве какого здания происходит \"отвал\" игроков"
   ]
  },
  {
   "cell_type": "code",
   "execution_count": 23,
   "metadata": {},
   "outputs": [
    {
     "name": "stdout",
     "output_type": "stream",
     "text": [
      "building    7759\n",
      "Name: event, dtype: int64\n",
      "spaceport          5004\n",
      "research_center    2136\n",
      "assembly_shop       619\n",
      "Name: building_type, dtype: int64\n"
     ]
    }
   ],
   "source": [
    "# Фильтруем данные только для пользователей, которые не завершили первый уровень\n",
    "not_finished_users_data = game_actions[game_actions['user_id'].isin(not_finished_users)]\n",
    "\n",
    "# Группируем данные по user_id и находим дату последнего события для каждого пользователя\n",
    "last_event_dates = not_finished_users_data.groupby('user_id').agg({'event_datetime': 'max'})\n",
    "\n",
    "# Объединяем и подсчитываем количество пользователей для каждого последнего события\n",
    "merged_data = last_event_dates.merge(not_finished_users_data, on=['user_id', 'event_datetime'])\n",
    "\n",
    "dropoff_counts = merged_data['event'].value_counts()\n",
    "dropoff_building_counts = merged_data['building_type'].value_counts()\n",
    "\n",
    "print(dropoff_counts)\n",
    "print(dropoff_building_counts)"
   ]
  },
  {
   "cell_type": "code",
   "execution_count": 24,
   "metadata": {},
   "outputs": [
    {
     "data": {
      "image/png": "[encoded data removed]",
      "text/plain": [
       "<Figure size 720x432 with 1 Axes>"
      ]
     },
     "metadata": {
      "needs_background": "light"
     },
     "output_type": "display_data"
    }
   ],
   "source": [
    "plt.figure(figsize=(10, 6))\n",
    "sns.barplot(x=dropoff_building_counts.index, y=dropoff_building_counts.values, edgecolor='black')\n",
    "plt.title('Отвал пользователей по типу здания')\n",
    "plt.ylabel('Количество пользователей')\n",
    "plt.xlabel('Тип здания')\n",
    "plt.xticks(rotation=45)\n",
    "plt.grid(axis='y')\n",
    "plt.tight_layout()\n",
    "plt.show()"
   ]
  },
  {
   "cell_type": "markdown",
   "metadata": {},
   "source": [
    "**Вывод:** Большинство пользователей, которые не завершили первый уровень, отвалились после постройки здания: из них 5004 пользователей построили \"spaceport\", 2136 — \"research_center\", и только 619 — \"assembly_shop\". Это говорит о том, что многие пользователи продолжают играть и строить более сложные здания, но по каким-то причинам останавливаются на строительстве \"промежуточной\" для завершения уровня постройки - \"spaceport\"."
   ]
  },
  {
   "cell_type": "markdown",
   "metadata": {},
   "source": [
    "### Анализ рекламных источников привлечения"
   ]
  },
  {
   "cell_type": "code",
   "execution_count": 25,
   "metadata": {
    "scrolled": true
   },
   "outputs": [
    {
     "name": "stdout",
     "output_type": "stream",
     "text": [
      "                    source         cost  user_id  cost_per_user\n",
      "3  youtube_channel_reklama  1068.119204     2686       0.397662\n",
      "2            yandex_direct  2233.111449     4817       0.463590\n",
      "1    instagram_new_adverts  2161.441691     3347       0.645785\n",
      "0             facebook_ads  2140.904643     2726       0.785365\n"
     ]
    }
   ],
   "source": [
    "# Группируем данные по рекламным источникам\n",
    "total_costs = ad_costs.groupby('source')['cost'].sum().reset_index()\n",
    "users_per_source = user_source.groupby('source')['user_id'].count().reset_index()\n",
    "\n",
    "merged_data = pd.merge(total_costs, users_per_source, on='source')\n",
    "merged_data['cost_per_user'] = merged_data['cost'] / merged_data['user_id']\n",
    "merged_data = merged_data.sort_values(by='cost_per_user')\n",
    "\n",
    "print(merged_data)"
   ]
  },
  {
   "cell_type": "code",
   "execution_count": 26,
   "metadata": {},
   "outputs": [
    {
     "data": {
      "image/png": "[encoded data removed]",
      "text/plain": [
       "<Figure size 864x1080 with 3 Axes>"
      ]
     },
     "metadata": {},
     "output_type": "display_data"
    }
   ],
   "source": [
    "sns.set_style(\"whitegrid\")\n",
    "\n",
    "color_dict = {\n",
    "    'youtube_channel_reklama': 'red',\n",
    "    'yandex_direct': 'yellow',\n",
    "    'instagram_new_adverts': 'purple',\n",
    "    'facebook_ads': 'blue'\n",
    "}\n",
    "\n",
    "fig, axes = plt.subplots(nrows=3, ncols=1, figsize=(12, 15))\n",
    "\n",
    "sns.barplot(data=merged_data.sort_values(by='cost', ascending=False), x='source', y='cost', ax=axes[0], palette=color_dict).set_title('Общие затраты по источникам')\n",
    "sns.barplot(data=merged_data.sort_values(by='user_id', ascending=False), x='source', y='user_id', ax=axes[1], palette=color_dict).set_title('Общее число пользователей по источникам')\n",
    "sns.barplot(data=merged_data.sort_values(by='cost_per_user', ascending=False), x='source', y='cost_per_user', ax=axes[2], palette=color_dict).set_title('Затраты на одного пользователя по источникам')\n",
    "\n",
    "plt.tight_layout()\n",
    "plt.show()"
   ]
  },
  {
   "cell_type": "markdown",
   "metadata": {},
   "source": [
    "**Вывод:** Yandex Direct выделяется как наиболее ценный источник, привлекая наибольшее количество пользователей при относительно невысокой стоимости на одного пользователя. В то время как YouTube Channel Reklama демонстрирует наивысшую экономическую эффективность, обеспечивая самую низкую стоимость привлечения одного пользователя. Facebook Ads требует дополнительного внимания и анализа, так как он имеет наивысшую стоимость привлечения при наименьшем количестве привлеченных пользователей."
   ]
  },
  {
   "cell_type": "code",
   "execution_count": 27,
   "metadata": {
    "scrolled": false
   },
   "outputs": [
    {
     "data": {
      "image/png": "[encoded data removed]",
      "text/plain": [
       "<Figure size 720x720 with 2 Axes>"
      ]
     },
     "metadata": {},
     "output_type": "display_data"
    }
   ],
   "source": [
    "# Создаем функцию\n",
    "def source_distribution(users_segment):\n",
    "    return user_source[user_source['user_id'].isin(users_segment)]['source'].value_counts(normalize=True) * 100\n",
    "\n",
    "victory_source_dist = source_distribution(victory_users)\n",
    "not_finished_source_dist = source_distribution(not_finished_users)\n",
    "\n",
    "fig, axs = plt.subplots(2, 1, figsize=(10, 10))\n",
    "\n",
    "victory_source_dist.plot(kind='bar', ax=axs[0], color=[color_dict[source] for source in victory_source_dist.index], title='Источники для игроков, завершивших путем победы над врагом')\n",
    "not_finished_source_dist.plot(kind='bar', ax=axs[1], color=[color_dict[source] for source in not_finished_source_dist.index], title='Источники для игроков, не завершивших первый уровень')\n",
    "\n",
    "for ax in axs:\n",
    "    ax.set_ylabel('% пользователей')\n",
    "    ax.set_xlabel('Источник')\n",
    "\n",
    "plt.tight_layout()\n",
    "plt.show()"
   ]
  },
  {
   "cell_type": "markdown",
   "metadata": {},
   "source": [
    "**Вывод:** Yandex Direct является самым популярным источником привлечения игроков для обеих категорий пользователей. Instagram New Adverts следует за ним, имея чуть большую долю среди игроков, завершивших уровень путем победы. Facebook Ads и YouTube Channel Reklama меняются местами в зависимости от категории игроков, но их доли в целом схожи. "
   ]
  },
  {
   "cell_type": "markdown",
   "metadata": {},
   "source": [
    "### Вычисление \"лайфтайма\" игроков"
   ]
  },
  {
   "cell_type": "code",
   "execution_count": 28,
   "metadata": {},
   "outputs": [],
   "source": [
    "full_data = pd.merge(game_actions, user_source, on='user_id')\n",
    "\n",
    "# Находим дату первого события для каждого пользователя\n",
    "first_event_date = full_data.groupby('user_id')['event_datetime'].min().reset_index()\n",
    "first_event_date.columns = ['user_id', 'first_event_datetime']\n",
    "\n",
    "# Добавляем информацию о дате первого события в новый датасет\n",
    "full_data = pd.merge(full_data, first_event_date, on='user_id')\n",
    "\n",
    "full_data['days_since_first_event'] = (full_data['event_datetime'] - full_data['first_event_datetime']).dt.days\n",
    "\n",
    "# Вычисляем дату последнего события для каждого пользователя\n",
    "last_event_date = full_data.groupby('user_id')['event_datetime'].max().reset_index()\n",
    "last_event_date.columns = ['user_id', 'last_event_datetime']\n",
    "\n",
    "full_data = pd.merge(full_data, last_event_date, on='user_id')"
   ]
  },
  {
   "cell_type": "code",
   "execution_count": 29,
   "metadata": {},
   "outputs": [
    {
     "name": "stdout",
     "output_type": "stream",
     "text": [
      "Общая средняя продолжительность жизни пользователя: 10.18 дней\n",
      "Средняя продолжительность жизни по источникам:\n",
      "                    source  user_lifetime\n",
      "0             facebook_ads      10.223404\n",
      "1    instagram_new_adverts      10.289812\n",
      "2            yandex_direct      10.121652\n",
      "3  youtube_channel_reklama      10.080045\n"
     ]
    }
   ],
   "source": [
    "user_lifetime_data = full_data.groupby(['user_id', 'source']).agg({\n",
    "    'first_event_datetime': 'min',\n",
    "    'last_event_datetime': 'max'\n",
    "}).reset_index()\n",
    "\n",
    "user_lifetime_data['user_lifetime'] = (user_lifetime_data['last_event_datetime'] - user_lifetime_data['first_event_datetime']).dt.days\n",
    "\n",
    "overall_avg_lifetime = user_lifetime_data['user_lifetime'].mean()\n",
    "avg_lifetime_by_source = user_lifetime_data.groupby('source')['user_lifetime'].mean().reset_index()\n",
    "\n",
    "print(f\"Общая средняя продолжительность жизни пользователя: {overall_avg_lifetime:.2f} дней\")\n",
    "print(\"Средняя продолжительность жизни по источникам:\")\n",
    "print(avg_lifetime_by_source)"
   ]
  },
  {
   "cell_type": "markdown",
   "metadata": {},
   "source": [
    "### Кластеризация пользователей"
   ]
  },
  {
   "cell_type": "code",
   "execution_count": 30,
   "metadata": {},
   "outputs": [],
   "source": [
    "# Фильтруем только тех пользователей, которые смогли пройти уровень\n",
    "filtered_data = full_data[full_data['user_id'].isin(np.concatenate([victory_users, project_users]))].copy()\n",
    "\n",
    "# Рассчитываем время прохождения\n",
    "filtered_data.loc[:, 'completion_time'] = (filtered_data['last_event_datetime'] - filtered_data['first_event_datetime']).dt.total_seconds()\n",
    "completion_times = filtered_data.groupby('user_id')['completion_time'].max().reset_index()\n",
    "\n",
    "scaler = StandardScaler()\n",
    "completion_times_scaled = scaler.fit_transform(completion_times[['completion_time']])"
   ]
  },
  {
   "cell_type": "code",
   "execution_count": 31,
   "metadata": {
    "scrolled": false
   },
   "outputs": [
    {
     "data": {
      "image/png": "[encoded data removed]",
      "text/plain": [
       "<Figure size 720x432 with 1 Axes>"
      ]
     },
     "metadata": {},
     "output_type": "display_data"
    }
   ],
   "source": [
    "# Определяем оптимальное количество кластеров\n",
    "inertia = []\n",
    "for k in range(1, 10):\n",
    "    kmeans = KMeans(n_clusters=k, random_state=42).fit(completion_times_scaled)\n",
    "    inertia.append(kmeans.inertia_)\n",
    "\n",
    "plt.figure(figsize=(10, 6))\n",
    "plt.plot(range(1, 10), inertia, marker='s')\n",
    "plt.xlabel('Число кластеров')\n",
    "plt.ylabel('Инерция')\n",
    "plt.show()"
   ]
  },
  {
   "cell_type": "markdown",
   "metadata": {},
   "source": [
    "**Вывод:** Уменьшение инерции становится менее выраженным после 3 кластеров. Поэтому будем использовать 3 кластера."
   ]
  },
  {
   "cell_type": "code",
   "execution_count": 32,
   "metadata": {
    "scrolled": false
   },
   "outputs": [
    {
     "data": {
      "image/png": "[encoded data removed]",
      "text/plain": [
       "<Figure size 1080x504 with 1 Axes>"
      ]
     },
     "metadata": {},
     "output_type": "display_data"
    }
   ],
   "source": [
    "kmeans = KMeans(n_clusters=3, random_state=42).fit(completion_times_scaled)\n",
    "completion_times['cluster'] = kmeans.labels_\n",
    "completion_times['completion_time_days'] = completion_times['completion_time'] / 86400\n",
    "\n",
    "plt.figure(figsize=(15, 7))\n",
    "completion_times.groupby('cluster')['completion_time_days'].hist(alpha=0.6, bins=50, legend=True)\n",
    "plt.xlabel('Время прохождения (дни)')\n",
    "plt.ylabel('Количество пользователей')\n",
    "plt.title('Кластеры по времени прохождения')\n",
    "plt.show()"
   ]
  },
  {
   "cell_type": "code",
   "execution_count": 33,
   "metadata": {},
   "outputs": [
    {
     "name": "stdout",
     "output_type": "stream",
     "text": [
      "   cluster               range\n",
      "0        0   9.92 - 15.06 дней\n",
      "1        1    0.40 - 9.91 дней\n",
      "2        2  15.06 - 30.92 дней\n",
      "\n",
      "    cluster  size\n",
      "0        0  2786\n",
      "1        1  1870\n",
      "2        2  1161\n"
     ]
    }
   ],
   "source": [
    "cluster_ranges = completion_times.groupby('cluster')['completion_time_days'].agg(['min', 'max']).reset_index()\n",
    "cluster_ranges['range'] = cluster_ranges.apply(lambda row: f\"{row['min']:.2f} - {row['max']:.2f} дней\", axis=1)\n",
    "\n",
    "print(cluster_ranges[['cluster', 'range']])\n",
    "\n",
    "cluster_sizes = completion_times['cluster'].value_counts().reset_index()\n",
    "cluster_sizes.columns = ['cluster', 'size']\n",
    "\n",
    "print('\\n', cluster_sizes)"
   ]
  },
  {
   "cell_type": "markdown",
   "metadata": {},
   "source": [
    "**Вывод:**\n",
    "- **Кластер 1** – это группа из 1870 пользователей, которые завершают уровень в пределах 0.40-9.91 дней. Этот кластер представляет собой игроков, проходящих уровень относительно быстро.\n",
    "\n",
    "- **Кластер 0** – самый большой кластер, включающий 2786 пользователей. Эти игроки завершают уровень за 9.92-15.06 дней, что можно считать средним темпом прохождения.\n",
    "\n",
    "- **Кластер 2** представляет собой наименьшую группу из 1161 пользователя. Эти игроки тратят на прохождение уровня наибольшее количество времени: от 15.06 до 30.92 дней."
   ]
  },
  {
   "cell_type": "markdown",
   "metadata": {},
   "source": [
    "## Проверка статистических гипотез"
   ]
  },
  {
   "cell_type": "markdown",
   "metadata": {},
   "source": [
    "**Нулевая гипотеза (H0):** Среднее время прохождения уровня для группы игроков, завершивших первый уровень через победу над врагом и проект, равно.\n",
    "\n",
    "**Альтернативная гипотеза (H1):** Среднее время прохождения уровня для группы игроков, завершивших первый уровень через победу над врагом и проект, не равно.\n",
    "\n",
    "Для проверки гипотез будем использовать тест Манна-Уитни, который используется для сравнения двух независимых выборок по их рангам. "
   ]
  },
  {
   "cell_type": "code",
   "execution_count": 34,
   "metadata": {
    "scrolled": true
   },
   "outputs": [
    {
     "name": "stdout",
     "output_type": "stream",
     "text": [
      "P-value: 2.3480301414939028e-12\n",
      "Различие статистически значимо\n"
     ]
    }
   ],
   "source": [
    "# Разделим данные на две группы (победы над врагами и проекты)\n",
    "group_project = game_actions[game_actions['event'] == 'project']\n",
    "project_users = group_project['user_id'].unique()\n",
    "\n",
    "# Исключаем пользователей, выполнивших проект, из группы победителей над врагом\n",
    "group_victory = game_actions[(game_actions['event'] == 'finished_stage_1') & (~game_actions['user_id'].isin(project_users))]\n",
    "\n",
    "# Для каждого пользователя найдем время начала игры\n",
    "start_times = game_actions.groupby('user_id')['event_datetime'].min()\n",
    "\n",
    "# Добавляем столбец продолжительности для каждой группы\n",
    "group_project = group_project.copy()\n",
    "group_project['duration'] = group_project['user_id'].apply(lambda user: (group_project[group_project['user_id'] == user]['event_datetime'].iloc[0] - start_times[user]).total_seconds())\n",
    "\n",
    "group_victory = group_victory.copy()\n",
    "group_victory['duration'] = group_victory['user_id'].apply(lambda user: (group_victory[group_victory['user_id'] == user]['event_datetime'].iloc[0] - start_times[user]).total_seconds())\n",
    "\n",
    "stat, p_value = mannwhitneyu(group_victory['duration'], group_project['duration'])\n",
    "\n",
    "print(\"P-value:\", p_value)\n",
    "\n",
    "if p_value < 0.05:\n",
    "    print(\"Различие статистически значимо\")\n",
    "else:\n",
    "    print(\"Различие не статистически значимо\")"
   ]
  },
  {
   "cell_type": "code",
   "execution_count": 35,
   "metadata": {},
   "outputs": [
    {
     "name": "stdout",
     "output_type": "stream",
     "text": [
      "Стратегия победы над врагом позволяет быстрее пройти уровень\n"
     ]
    }
   ],
   "source": [
    "mean_victory_duration = group_victory['duration'].mean()\n",
    "mean_project_duration = group_project['duration'].mean()\n",
    "\n",
    "if mean_victory_duration < mean_project_duration:\n",
    "    print(\"Стратегия победы над врагом позволяет быстрее пройти уровень\")\n",
    "else:\n",
    "    print(\"Стратегия завершения проекта позволяет быстрее пройти уровень\")"
   ]
  },
  {
   "cell_type": "markdown",
   "metadata": {},
   "source": [
    "**Вывод:** На основе проведенного теста, мы можем сделать вывод о статистически значимом различии во времени прохождения уровня между группами побед и проектов. Стратегия победы над врагом позволяет быстрее пройти уровень."
   ]
  },
  {
   "cell_type": "markdown",
   "metadata": {},
   "source": [
    "**Нулевая гипотеза (H0):** Распределение игроков, начинающих игру в определенный день недели, не влияет на их шансы успешно завершить первый уровень.\n",
    "\n",
    "**Альтернативная гипотеза (H1):** Игроки, начинающие игру в определенный день недели, имеют больше (или меньше) шансов успешно завершить первый уровень."
   ]
  },
  {
   "cell_type": "code",
   "execution_count": 36,
   "metadata": {
    "scrolled": false
   },
   "outputs": [],
   "source": [
    "# Определим дни недели начала игры для каждого пользователя\n",
    "game_actions_sorted['weekday'] = game_actions_sorted['event_datetime'].dt.weekday\n",
    "start_weekday = game_actions_sorted.groupby('user_id')['weekday'].first()\n",
    "\n",
    "# Фильтруем игроков, которые завершили уровень\n",
    "completed_users = game_actions_sorted[game_actions_sorted['event'].isin(['finished_stage_1', 'project'])]['user_id'].unique()\n",
    "\n",
    "# Формируем таблицы завершивших и не завершивших первый уровень по дням недели\n",
    "weekday_tab = pd.crosstab(start_weekday, start_weekday.index.isin(completed_users), rownames=['weekday'], colnames=['completed'])\n",
    "weekday_tab.columns = ['Не завершили', 'Завершили']"
   ]
  },
  {
   "cell_type": "code",
   "execution_count": 37,
   "metadata": {},
   "outputs": [
    {
     "name": "stdout",
     "output_type": "stream",
     "text": [
      "Дни: 0 и 1. P-value: 0.6271. Различие не статистически значимо\n",
      "Дни: 0 и 2. P-value: 0.0043. Различие не статистически значимо\n",
      "Дни: 0 и 3. P-value: 0.0000. Различие статистически значимо\n",
      "Дни: 0 и 4. P-value: 0.0000. Различие статистически значимо\n",
      "Дни: 0 и 5. P-value: 0.0000. Различие статистически значимо\n",
      "Дни: 0 и 6. P-value: 0.0000. Различие статистически значимо\n",
      "Дни: 1 и 2. P-value: 0.0246. Различие не статистически значимо\n",
      "Дни: 1 и 3. P-value: 0.0000. Различие статистически значимо\n",
      "Дни: 1 и 4. P-value: 0.0000. Различие статистически значимо\n",
      "Дни: 1 и 5. P-value: 0.0000. Различие статистически значимо\n",
      "Дни: 1 и 6. P-value: 0.0000. Различие статистически значимо\n",
      "Дни: 2 и 3. P-value: 0.0151. Различие не статистически значимо\n",
      "Дни: 2 и 4. P-value: 0.0006. Различие статистически значимо\n",
      "Дни: 2 и 5. P-value: 0.0000. Различие статистически значимо\n",
      "Дни: 2 и 6. P-value: 0.0004. Различие статистически значимо\n",
      "Дни: 3 и 4. P-value: 0.2170. Различие не статистически значимо\n",
      "Дни: 3 и 5. P-value: 0.0152. Различие не статистически значимо\n",
      "Дни: 3 и 6. P-value: 0.0403. Различие не статистически значимо\n",
      "Дни: 4 и 5. P-value: 0.2195. Различие не статистически значимо\n",
      "Дни: 4 и 6. P-value: 0.2804. Различие не статистически значимо\n",
      "Дни: 5 и 6. P-value: 1.0000. Различие не статистически значимо\n"
     ]
    }
   ],
   "source": [
    "# Поправка Бонферрони\n",
    "alpha = 0.05 / 21\n",
    "\n",
    "# Проводим попарные сравнения для каждой пары дней недели\n",
    "for day1, day2 in combinations(range(7), 2):\n",
    "    subtable = weekday_tab.loc[[day1, day2]]\n",
    "    \n",
    "    chi2_statistic, p_value = chi2_contingency(subtable)[:2]\n",
    "    \n",
    "    if p_value < alpha:\n",
    "        print(f\"Дни: {day1} и {day2}. P-value: {p_value:.4f}. Различие статистически значимо\")\n",
    "    else:\n",
    "        print(f\"Дни: {day1} и {day2}. P-value: {p_value:.4f}. Различие не статистически значимо\")"
   ]
  },
  {
   "cell_type": "markdown",
   "metadata": {},
   "source": [
    "**Вывод:** Исходя из результатов попарных сравнений, можно утверждать, что вероятность завершения первого уровня игры варьируется в зависимости от дня начала игры. Существуют различия между начальными днями (Понедельник, Вторник, Среда) и более поздними днями (Четверг, Пятница, Суббота, Воскресенье) являются статистически значимыми в большинстве случаев."
   ]
  },
  {
   "cell_type": "markdown",
   "metadata": {},
   "source": [
    "## Формирование модели монетизации игрового приложения."
   ]
  },
  {
   "cell_type": "markdown",
   "metadata": {},
   "source": [
    "**1. Стратегия размещения рекламы:**\n",
    "\n",
    "Поскольку у пользователя уходит в среднем 11 дней на прохождение первого уровня, оптимальное время для включения рекламы - после 7-8 дней игры. Это позволит избежать недовольства новых игроков и, в то же время, максимизировать прибыль от рекламы для игроков, которые уже вовлечены в процесс. Однако, кластеризация показала, что есть группы пользователей, которые завершают уровень быстрее или медленнее этого среднего значения. \n",
    "\n",
    "Учитывая кластеризацию пользователей по длительности прохождения уровня, рекламу следует показывать персонализированно. Это предполагает разработку модели предсказания, определяющей, в какой кластер попадет пользователь на основе его первых игровых действий. Например, для пользователей, которые быстро начинают стройку космопорта, рекламу можно показывать раньше.\n",
    "\n",
    "**2. Оптимизация привлечения игроков:**\n",
    "\n",
    "\"Yandex Direct\" и \"YouTube Channel Reklama\" выглядят наиболее перспективно для привлечения игроков из-за своей эффективности и низкой стоимости привлечения. Привлекать новых игроков желательно в начале недели, так как это увеличивает шансы на успешное прохождение игроком уровня.\n",
    "\n",
    "**3. Геймплейные изменения:**\n",
    "\n",
    "Многие пользователи прекращают игру после постройки космпорта. Возможно, стоит улучшить геймплей или предоставить дополнительные стимулы и награды после этой стадии, чтобы стимулировать дальнейшую игру.\n",
    "\n",
    "**4.  Введение дополнительных источников монетизации:**\n",
    "\n",
    "Учитывая, что у пользователя уходит в среднем 11 дней на прохождение первого уровня, можно рассмотреть вариант продажи игровых предметов или валюты, позволяющей ускорить процесс прохождения уровней.\n",
    "\n",
    "**Заключение:**\n",
    "Монетизация игрового приложения требует тщательного балансирования между удержанием игроков и максимизацией дохода. На основе вышеуказанных результатов и рекомендаций можно разработать эффективную стратегию монетизации, которая будет учитывать интересы игроков и интересы разработчиков."
   ]
  },
  {
   "cell_type": "markdown",
   "metadata": {},
   "source": [
    "## Презентация и дашборд"
   ]
  },
  {
   "cell_type": "markdown",
   "metadata": {},
   "source": [
    "**Дашборд**: https://public.tableau.com/views/_16933340036120/Dashboard1?:language=en-US&publish=yes&:display_count=n&:origin=viz_share_link\n",
    "**Презентация**: https://disk.yandex.ru/i/lMsklLMAxW_0jQ"
   ]
  }
 ],
 "metadata": {
  "ExecuteTimeLog": [
   {
    "duration": 606,
    "start_time": "2023-08-25T20:18:31.567Z"
   },
   {
    "duration": 51,
    "start_time": "2023-08-25T20:22:54.894Z"
   },
   {
    "duration": 592,
    "start_time": "2023-08-25T20:23:01.966Z"
   },
   {
    "duration": 1086,
    "start_time": "2023-08-25T20:28:53.882Z"
   },
   {
    "duration": 18,
    "start_time": "2023-08-25T20:29:00.993Z"
   },
   {
    "duration": 52,
    "start_time": "2023-08-25T20:31:33.646Z"
   },
   {
    "duration": 12,
    "start_time": "2023-08-25T20:38:07.458Z"
   },
   {
    "duration": 11,
    "start_time": "2023-08-25T20:40:44.253Z"
   },
   {
    "duration": 68,
    "start_time": "2023-08-25T20:44:03.533Z"
   },
   {
    "duration": 6,
    "start_time": "2023-08-25T20:44:08.311Z"
   },
   {
    "duration": 12,
    "start_time": "2023-08-25T20:44:12.410Z"
   },
   {
    "duration": 949,
    "start_time": "2023-08-25T20:45:37.314Z"
   },
   {
    "duration": 19,
    "start_time": "2023-08-25T20:45:38.265Z"
   },
   {
    "duration": 16,
    "start_time": "2023-08-25T20:45:38.285Z"
   },
   {
    "duration": 51,
    "start_time": "2023-08-25T20:45:38.302Z"
   },
   {
    "duration": 81,
    "start_time": "2023-08-25T20:46:14.196Z"
   },
   {
    "duration": 15,
    "start_time": "2023-08-25T20:46:25.134Z"
   },
   {
    "duration": 1061,
    "start_time": "2023-08-25T20:51:12.289Z"
   },
   {
    "duration": 18,
    "start_time": "2023-08-25T20:51:13.353Z"
   },
   {
    "duration": 17,
    "start_time": "2023-08-25T20:51:13.373Z"
   },
   {
    "duration": 51,
    "start_time": "2023-08-25T20:51:13.392Z"
   },
   {
    "duration": 15,
    "start_time": "2023-08-25T20:52:22.952Z"
   },
   {
    "duration": 33,
    "start_time": "2023-08-25T20:52:43.027Z"
   },
   {
    "duration": 17,
    "start_time": "2023-08-25T20:53:36.825Z"
   },
   {
    "duration": 107,
    "start_time": "2023-08-25T20:55:10.153Z"
   },
   {
    "duration": 18,
    "start_time": "2023-08-25T20:55:15.399Z"
   },
   {
    "duration": 11,
    "start_time": "2023-08-25T20:56:36.281Z"
   },
   {
    "duration": 14,
    "start_time": "2023-08-25T20:56:59.326Z"
   },
   {
    "duration": 15,
    "start_time": "2023-08-25T20:58:54.812Z"
   },
   {
    "duration": 34,
    "start_time": "2023-08-25T21:01:45.491Z"
   },
   {
    "duration": 31,
    "start_time": "2023-08-25T21:05:11.460Z"
   },
   {
    "duration": 14,
    "start_time": "2023-08-25T21:06:20.808Z"
   },
   {
    "duration": 23,
    "start_time": "2023-08-25T21:09:07.707Z"
   },
   {
    "duration": 27,
    "start_time": "2023-08-25T21:09:50.419Z"
   },
   {
    "duration": 33,
    "start_time": "2023-08-25T21:12:06.794Z"
   },
   {
    "duration": 34,
    "start_time": "2023-08-25T21:12:52.641Z"
   },
   {
    "duration": 81,
    "start_time": "2023-08-25T21:14:02.574Z"
   },
   {
    "duration": 66,
    "start_time": "2023-08-25T21:17:32.879Z"
   },
   {
    "duration": 56,
    "start_time": "2023-08-25T21:17:49.437Z"
   },
   {
    "duration": 63,
    "start_time": "2023-08-25T21:19:05.942Z"
   },
   {
    "duration": 116,
    "start_time": "2023-08-25T21:19:17.411Z"
   },
   {
    "duration": 109,
    "start_time": "2023-08-25T21:19:31.369Z"
   },
   {
    "duration": 39,
    "start_time": "2023-08-25T21:21:38.031Z"
   },
   {
    "duration": 40,
    "start_time": "2023-08-25T21:23:05.590Z"
   },
   {
    "duration": 49,
    "start_time": "2023-08-25T21:23:26.658Z"
   },
   {
    "duration": 4,
    "start_time": "2023-08-25T21:24:06.891Z"
   },
   {
    "duration": 1143,
    "start_time": "2023-08-25T21:30:12.103Z"
   },
   {
    "duration": 19,
    "start_time": "2023-08-25T21:30:13.248Z"
   },
   {
    "duration": 16,
    "start_time": "2023-08-25T21:30:13.269Z"
   },
   {
    "duration": 59,
    "start_time": "2023-08-25T21:30:13.287Z"
   },
   {
    "duration": 37,
    "start_time": "2023-08-25T21:30:13.348Z"
   },
   {
    "duration": 32,
    "start_time": "2023-08-25T21:30:13.387Z"
   },
   {
    "duration": 36,
    "start_time": "2023-08-25T21:30:13.421Z"
   },
   {
    "duration": 76,
    "start_time": "2023-08-25T21:30:13.458Z"
   },
   {
    "duration": 81,
    "start_time": "2023-08-25T21:30:13.536Z"
   },
   {
    "duration": 117,
    "start_time": "2023-08-25T21:30:13.619Z"
   },
   {
    "duration": 65,
    "start_time": "2023-08-25T21:30:13.737Z"
   },
   {
    "duration": 87,
    "start_time": "2023-08-25T21:30:13.804Z"
   },
   {
    "duration": 48,
    "start_time": "2023-08-25T21:31:18.083Z"
   },
   {
    "duration": 50,
    "start_time": "2023-08-25T21:32:28.731Z"
   },
   {
    "duration": 60,
    "start_time": "2023-08-25T21:34:17.127Z"
   },
   {
    "duration": 54,
    "start_time": "2023-08-25T21:35:03.041Z"
   },
   {
    "duration": 45,
    "start_time": "2023-08-25T21:35:42.930Z"
   },
   {
    "duration": 12,
    "start_time": "2023-08-25T21:37:41.753Z"
   },
   {
    "duration": 75,
    "start_time": "2023-08-25T21:42:01.462Z"
   },
   {
    "duration": 1050,
    "start_time": "2023-08-25T21:42:11.963Z"
   },
   {
    "duration": 48,
    "start_time": "2023-08-25T21:42:13.015Z"
   },
   {
    "duration": 132,
    "start_time": "2023-08-25T21:42:13.064Z"
   },
   {
    "duration": 30,
    "start_time": "2023-08-25T21:42:13.197Z"
   },
   {
    "duration": 32,
    "start_time": "2023-08-25T21:42:13.229Z"
   },
   {
    "duration": 68,
    "start_time": "2023-08-25T21:42:13.281Z"
   },
   {
    "duration": 85,
    "start_time": "2023-08-25T21:42:13.351Z"
   },
   {
    "duration": 121,
    "start_time": "2023-08-25T21:42:13.437Z"
   },
   {
    "duration": 53,
    "start_time": "2023-08-25T21:42:13.560Z"
   },
   {
    "duration": 52,
    "start_time": "2023-08-25T21:42:13.615Z"
   },
   {
    "duration": 83,
    "start_time": "2023-08-25T21:42:13.669Z"
   },
   {
    "duration": 64,
    "start_time": "2023-08-25T21:43:31.236Z"
   },
   {
    "duration": 19,
    "start_time": "2023-08-25T21:46:49.080Z"
   },
   {
    "duration": 1384,
    "start_time": "2023-08-25T21:48:08.992Z"
   },
   {
    "duration": 21,
    "start_time": "2023-08-25T21:48:18.596Z"
   },
   {
    "duration": 26,
    "start_time": "2023-08-25T21:50:21.439Z"
   },
   {
    "duration": 76,
    "start_time": "2023-08-25T21:52:31.669Z"
   },
   {
    "duration": 21,
    "start_time": "2023-08-25T21:52:37.087Z"
   },
   {
    "duration": 22,
    "start_time": "2023-08-25T21:53:29.826Z"
   },
   {
    "duration": 12,
    "start_time": "2023-08-25T21:55:57.408Z"
   },
   {
    "duration": 9,
    "start_time": "2023-08-25T21:56:40.268Z"
   },
   {
    "duration": 18,
    "start_time": "2023-08-25T21:57:43.979Z"
   },
   {
    "duration": 19,
    "start_time": "2023-08-25T21:58:26.764Z"
   },
   {
    "duration": 39,
    "start_time": "2023-08-25T22:00:08.667Z"
   },
   {
    "duration": 13,
    "start_time": "2023-08-25T22:00:18.946Z"
   },
   {
    "duration": 64,
    "start_time": "2023-08-25T22:00:38.560Z"
   },
   {
    "duration": 1070,
    "start_time": "2023-08-25T22:19:19.581Z"
   },
   {
    "duration": 52,
    "start_time": "2023-08-25T22:19:20.653Z"
   },
   {
    "duration": 36,
    "start_time": "2023-08-25T22:19:20.708Z"
   },
   {
    "duration": 49,
    "start_time": "2023-08-25T22:19:20.745Z"
   },
   {
    "duration": 47,
    "start_time": "2023-08-25T22:19:20.797Z"
   },
   {
    "duration": 86,
    "start_time": "2023-08-25T22:19:20.846Z"
   },
   {
    "duration": 80,
    "start_time": "2023-08-25T22:19:20.934Z"
   },
   {
    "duration": 124,
    "start_time": "2023-08-25T22:19:21.016Z"
   },
   {
    "duration": 62,
    "start_time": "2023-08-25T22:19:21.142Z"
   },
   {
    "duration": 97,
    "start_time": "2023-08-25T22:19:21.206Z"
   },
   {
    "duration": 36,
    "start_time": "2023-08-25T22:19:21.305Z"
   },
   {
    "duration": 78,
    "start_time": "2023-08-25T22:19:21.343Z"
   },
   {
    "duration": 793,
    "start_time": "2023-08-27T16:00:26.926Z"
   },
   {
    "duration": 1508,
    "start_time": "2023-08-27T16:00:34.930Z"
   },
   {
    "duration": 66,
    "start_time": "2023-08-27T16:00:36.441Z"
   },
   {
    "duration": 59,
    "start_time": "2023-08-27T16:00:36.518Z"
   },
   {
    "duration": 171,
    "start_time": "2023-08-27T16:00:36.579Z"
   },
   {
    "duration": 62,
    "start_time": "2023-08-27T16:00:36.752Z"
   },
   {
    "duration": 85,
    "start_time": "2023-08-27T16:00:36.818Z"
   },
   {
    "duration": 104,
    "start_time": "2023-08-27T16:00:36.905Z"
   },
   {
    "duration": 164,
    "start_time": "2023-08-27T16:00:37.011Z"
   },
   {
    "duration": 97,
    "start_time": "2023-08-27T16:00:37.177Z"
   },
   {
    "duration": 100,
    "start_time": "2023-08-27T16:00:37.287Z"
   },
   {
    "duration": 713,
    "start_time": "2023-08-27T16:00:37.395Z"
   },
   {
    "duration": 14,
    "start_time": "2023-08-27T16:01:35.612Z"
   },
   {
    "duration": 11,
    "start_time": "2023-08-27T16:02:03.925Z"
   },
   {
    "duration": 40,
    "start_time": "2023-08-27T16:03:21.808Z"
   },
   {
    "duration": 1611,
    "start_time": "2023-08-27T16:03:27.965Z"
   },
   {
    "duration": 104,
    "start_time": "2023-08-27T16:03:29.579Z"
   },
   {
    "duration": 74,
    "start_time": "2023-08-27T16:03:29.700Z"
   },
   {
    "duration": 57,
    "start_time": "2023-08-27T16:03:29.776Z"
   },
   {
    "duration": 68,
    "start_time": "2023-08-27T16:03:29.836Z"
   },
   {
    "duration": 131,
    "start_time": "2023-08-27T16:03:29.908Z"
   },
   {
    "duration": 119,
    "start_time": "2023-08-27T16:03:30.042Z"
   },
   {
    "duration": 174,
    "start_time": "2023-08-27T16:03:30.162Z"
   },
   {
    "duration": 77,
    "start_time": "2023-08-27T16:03:30.338Z"
   },
   {
    "duration": 104,
    "start_time": "2023-08-27T16:03:30.417Z"
   },
   {
    "duration": 612,
    "start_time": "2023-08-27T16:03:30.524Z"
   },
   {
    "duration": 24,
    "start_time": "2023-08-27T16:13:52.146Z"
   },
   {
    "duration": 175,
    "start_time": "2023-08-27T16:16:52.618Z"
   },
   {
    "duration": 1726,
    "start_time": "2023-08-27T16:17:32.733Z"
   },
   {
    "duration": 142,
    "start_time": "2023-08-27T16:26:10.582Z"
   },
   {
    "duration": 712,
    "start_time": "2023-08-27T16:27:48.710Z"
   },
   {
    "duration": 709,
    "start_time": "2023-08-27T16:28:49.351Z"
   },
   {
    "duration": 1190,
    "start_time": "2023-08-27T16:30:41.380Z"
   },
   {
    "duration": 63,
    "start_time": "2023-08-27T16:30:42.572Z"
   },
   {
    "duration": 54,
    "start_time": "2023-08-27T16:30:42.637Z"
   },
   {
    "duration": 37,
    "start_time": "2023-08-27T16:30:42.704Z"
   },
   {
    "duration": 56,
    "start_time": "2023-08-27T16:30:42.743Z"
   },
   {
    "duration": 96,
    "start_time": "2023-08-27T16:30:42.814Z"
   },
   {
    "duration": 93,
    "start_time": "2023-08-27T16:30:42.913Z"
   },
   {
    "duration": 165,
    "start_time": "2023-08-27T16:30:43.009Z"
   },
   {
    "duration": 67,
    "start_time": "2023-08-27T16:30:43.182Z"
   },
   {
    "duration": 87,
    "start_time": "2023-08-27T16:30:43.251Z"
   },
   {
    "duration": 1694,
    "start_time": "2023-08-27T16:30:43.340Z"
   },
   {
    "duration": 143,
    "start_time": "2023-08-27T16:30:45.036Z"
   },
   {
    "duration": 40,
    "start_time": "2023-08-27T16:30:45.185Z"
   },
   {
    "duration": 13,
    "start_time": "2023-08-27T16:30:45.228Z"
   },
   {
    "duration": 26,
    "start_time": "2023-08-27T16:30:45.243Z"
   },
   {
    "duration": 726,
    "start_time": "2023-08-27T16:31:49.749Z"
   },
   {
    "duration": 41,
    "start_time": "2023-08-27T16:33:22.382Z"
   },
   {
    "duration": 182,
    "start_time": "2023-08-27T16:33:56.338Z"
   },
   {
    "duration": 98,
    "start_time": "2023-08-27T16:34:32.861Z"
   },
   {
    "duration": 36,
    "start_time": "2023-08-27T16:37:02.237Z"
   },
   {
    "duration": 48,
    "start_time": "2023-08-27T16:37:35.678Z"
   },
   {
    "duration": 65,
    "start_time": "2023-08-27T16:37:51.950Z"
   },
   {
    "duration": 3176,
    "start_time": "2023-08-27T16:44:02.643Z"
   },
   {
    "duration": 3359,
    "start_time": "2023-08-27T16:44:38.281Z"
   },
   {
    "duration": 7,
    "start_time": "2023-08-27T16:46:49.438Z"
   },
   {
    "duration": 3387,
    "start_time": "2023-08-27T16:46:53.478Z"
   },
   {
    "duration": 3359,
    "start_time": "2023-08-27T16:47:08.925Z"
   },
   {
    "duration": 56,
    "start_time": "2023-08-27T16:48:06.235Z"
   },
   {
    "duration": 50,
    "start_time": "2023-08-27T16:48:45.280Z"
   },
   {
    "duration": 40,
    "start_time": "2023-08-27T16:50:16.806Z"
   },
   {
    "duration": 11,
    "start_time": "2023-08-27T16:54:29.192Z"
   },
   {
    "duration": 23,
    "start_time": "2023-08-27T16:54:36.787Z"
   },
   {
    "duration": 8,
    "start_time": "2023-08-27T16:55:14.514Z"
   },
   {
    "duration": 186,
    "start_time": "2023-08-27T16:59:04.142Z"
   },
   {
    "duration": 2570,
    "start_time": "2023-08-27T17:00:26.915Z"
   },
   {
    "duration": 20,
    "start_time": "2023-08-27T17:03:30.108Z"
   },
   {
    "duration": 253,
    "start_time": "2023-08-27T17:03:48.577Z"
   },
   {
    "duration": 1989,
    "start_time": "2023-08-27T17:18:29.021Z"
   },
   {
    "duration": 248,
    "start_time": "2023-08-27T17:19:32.396Z"
   },
   {
    "duration": 59,
    "start_time": "2023-08-27T20:18:37.340Z"
   },
   {
    "duration": 1158,
    "start_time": "2023-08-27T20:18:46.029Z"
   },
   {
    "duration": 47,
    "start_time": "2023-08-27T20:18:47.192Z"
   },
   {
    "duration": 40,
    "start_time": "2023-08-27T20:18:47.241Z"
   },
   {
    "duration": 30,
    "start_time": "2023-08-27T20:18:47.283Z"
   },
   {
    "duration": 47,
    "start_time": "2023-08-27T20:18:47.314Z"
   },
   {
    "duration": 65,
    "start_time": "2023-08-27T20:18:47.370Z"
   },
   {
    "duration": 80,
    "start_time": "2023-08-27T20:18:47.437Z"
   },
   {
    "duration": 123,
    "start_time": "2023-08-27T20:18:47.519Z"
   },
   {
    "duration": 60,
    "start_time": "2023-08-27T20:18:47.644Z"
   },
   {
    "duration": 79,
    "start_time": "2023-08-27T20:18:47.707Z"
   },
   {
    "duration": 22,
    "start_time": "2023-08-27T20:18:47.789Z"
   },
   {
    "duration": 103,
    "start_time": "2023-08-27T20:18:47.812Z"
   },
   {
    "duration": 1752,
    "start_time": "2023-08-27T20:18:47.917Z"
   },
   {
    "duration": 170,
    "start_time": "2023-08-27T20:18:49.672Z"
   },
   {
    "duration": 114,
    "start_time": "2023-08-27T20:18:49.843Z"
   },
   {
    "duration": 0,
    "start_time": "2023-08-27T20:18:49.960Z"
   },
   {
    "duration": 0,
    "start_time": "2023-08-27T20:18:49.961Z"
   },
   {
    "duration": 0,
    "start_time": "2023-08-27T20:18:49.962Z"
   },
   {
    "duration": 0,
    "start_time": "2023-08-27T20:18:49.962Z"
   },
   {
    "duration": 0,
    "start_time": "2023-08-27T20:18:49.963Z"
   },
   {
    "duration": 0,
    "start_time": "2023-08-27T20:18:49.964Z"
   },
   {
    "duration": 158,
    "start_time": "2023-08-27T20:21:55.423Z"
   },
   {
    "duration": 978,
    "start_time": "2023-08-27T20:23:27.930Z"
   },
   {
    "duration": 64,
    "start_time": "2023-08-27T20:23:28.911Z"
   },
   {
    "duration": 48,
    "start_time": "2023-08-27T20:23:28.978Z"
   },
   {
    "duration": 57,
    "start_time": "2023-08-27T20:23:29.029Z"
   },
   {
    "duration": 47,
    "start_time": "2023-08-27T20:23:29.088Z"
   },
   {
    "duration": 98,
    "start_time": "2023-08-27T20:23:29.137Z"
   },
   {
    "duration": 91,
    "start_time": "2023-08-27T20:23:29.237Z"
   },
   {
    "duration": 117,
    "start_time": "2023-08-27T20:23:29.329Z"
   },
   {
    "duration": 55,
    "start_time": "2023-08-27T20:23:29.457Z"
   },
   {
    "duration": 73,
    "start_time": "2023-08-27T20:23:29.515Z"
   },
   {
    "duration": 149,
    "start_time": "2023-08-27T20:23:29.590Z"
   },
   {
    "duration": 0,
    "start_time": "2023-08-27T20:23:29.741Z"
   },
   {
    "duration": 0,
    "start_time": "2023-08-27T20:23:29.743Z"
   },
   {
    "duration": 0,
    "start_time": "2023-08-27T20:23:29.744Z"
   },
   {
    "duration": 0,
    "start_time": "2023-08-27T20:23:29.745Z"
   },
   {
    "duration": 0,
    "start_time": "2023-08-27T20:23:29.746Z"
   },
   {
    "duration": 0,
    "start_time": "2023-08-27T20:23:29.747Z"
   },
   {
    "duration": 0,
    "start_time": "2023-08-27T20:23:29.748Z"
   },
   {
    "duration": 0,
    "start_time": "2023-08-27T20:23:29.750Z"
   },
   {
    "duration": 0,
    "start_time": "2023-08-27T20:23:29.774Z"
   },
   {
    "duration": 0,
    "start_time": "2023-08-27T20:23:29.776Z"
   },
   {
    "duration": 1856,
    "start_time": "2023-08-27T20:24:31.137Z"
   },
   {
    "duration": 46,
    "start_time": "2023-08-27T20:24:32.996Z"
   },
   {
    "duration": 34,
    "start_time": "2023-08-27T20:24:33.044Z"
   },
   {
    "duration": 44,
    "start_time": "2023-08-27T20:24:33.080Z"
   },
   {
    "duration": 59,
    "start_time": "2023-08-27T20:24:33.127Z"
   },
   {
    "duration": 56,
    "start_time": "2023-08-27T20:24:33.187Z"
   },
   {
    "duration": 76,
    "start_time": "2023-08-27T20:24:33.244Z"
   },
   {
    "duration": 128,
    "start_time": "2023-08-27T20:24:33.322Z"
   },
   {
    "duration": 53,
    "start_time": "2023-08-27T20:24:33.464Z"
   },
   {
    "duration": 68,
    "start_time": "2023-08-27T20:24:33.519Z"
   },
   {
    "duration": 206,
    "start_time": "2023-08-27T20:24:33.589Z"
   },
   {
    "duration": 102,
    "start_time": "2023-08-27T20:24:33.797Z"
   },
   {
    "duration": 633,
    "start_time": "2023-08-27T20:24:33.901Z"
   },
   {
    "duration": 171,
    "start_time": "2023-08-27T20:24:34.537Z"
   },
   {
    "duration": 119,
    "start_time": "2023-08-27T20:24:34.710Z"
   },
   {
    "duration": 0,
    "start_time": "2023-08-27T20:24:34.831Z"
   },
   {
    "duration": 0,
    "start_time": "2023-08-27T20:24:34.833Z"
   },
   {
    "duration": 0,
    "start_time": "2023-08-27T20:24:34.834Z"
   },
   {
    "duration": 0,
    "start_time": "2023-08-27T20:24:34.835Z"
   },
   {
    "duration": 0,
    "start_time": "2023-08-27T20:24:34.837Z"
   },
   {
    "duration": 0,
    "start_time": "2023-08-27T20:24:34.838Z"
   },
   {
    "duration": 187,
    "start_time": "2023-08-27T20:25:06.729Z"
   },
   {
    "duration": 272,
    "start_time": "2023-08-27T20:25:43.469Z"
   },
   {
    "duration": 604,
    "start_time": "2023-08-27T20:37:15.000Z"
   },
   {
    "duration": 117,
    "start_time": "2023-08-27T20:38:48.788Z"
   },
   {
    "duration": 660,
    "start_time": "2023-08-27T20:38:55.076Z"
   },
   {
    "duration": 1923,
    "start_time": "2023-08-27T21:38:36.282Z"
   },
   {
    "duration": 63,
    "start_time": "2023-08-27T21:38:38.208Z"
   },
   {
    "duration": 30,
    "start_time": "2023-08-27T21:38:38.279Z"
   },
   {
    "duration": 28,
    "start_time": "2023-08-27T21:38:38.311Z"
   },
   {
    "duration": 47,
    "start_time": "2023-08-27T21:38:38.343Z"
   },
   {
    "duration": 76,
    "start_time": "2023-08-27T21:38:38.391Z"
   },
   {
    "duration": 72,
    "start_time": "2023-08-27T21:38:38.471Z"
   },
   {
    "duration": 133,
    "start_time": "2023-08-27T21:38:38.546Z"
   },
   {
    "duration": 48,
    "start_time": "2023-08-27T21:38:38.681Z"
   },
   {
    "duration": 82,
    "start_time": "2023-08-27T21:38:38.730Z"
   },
   {
    "duration": 82,
    "start_time": "2023-08-27T21:38:38.815Z"
   },
   {
    "duration": 169,
    "start_time": "2023-08-27T21:38:38.899Z"
   },
   {
    "duration": 0,
    "start_time": "2023-08-27T21:38:39.076Z"
   },
   {
    "duration": 0,
    "start_time": "2023-08-27T21:38:39.077Z"
   },
   {
    "duration": 0,
    "start_time": "2023-08-27T21:38:39.077Z"
   },
   {
    "duration": 0,
    "start_time": "2023-08-27T21:38:39.079Z"
   },
   {
    "duration": 0,
    "start_time": "2023-08-27T21:38:39.080Z"
   },
   {
    "duration": 1,
    "start_time": "2023-08-27T21:38:39.080Z"
   },
   {
    "duration": 0,
    "start_time": "2023-08-27T21:38:39.081Z"
   },
   {
    "duration": 0,
    "start_time": "2023-08-27T21:38:39.082Z"
   },
   {
    "duration": 0,
    "start_time": "2023-08-27T21:38:39.082Z"
   },
   {
    "duration": 0,
    "start_time": "2023-08-27T21:38:39.083Z"
   },
   {
    "duration": 0,
    "start_time": "2023-08-27T21:38:39.085Z"
   },
   {
    "duration": 56,
    "start_time": "2023-08-27T21:41:30.516Z"
   },
   {
    "duration": 1745,
    "start_time": "2023-08-27T21:41:52.597Z"
   },
   {
    "duration": 63,
    "start_time": "2023-08-27T21:41:54.344Z"
   },
   {
    "duration": 29,
    "start_time": "2023-08-27T21:41:54.408Z"
   },
   {
    "duration": 51,
    "start_time": "2023-08-27T21:41:54.439Z"
   },
   {
    "duration": 29,
    "start_time": "2023-08-27T21:41:54.492Z"
   },
   {
    "duration": 78,
    "start_time": "2023-08-27T21:41:54.523Z"
   },
   {
    "duration": 77,
    "start_time": "2023-08-27T21:41:54.603Z"
   },
   {
    "duration": 123,
    "start_time": "2023-08-27T21:41:54.682Z"
   },
   {
    "duration": 63,
    "start_time": "2023-08-27T21:41:54.807Z"
   },
   {
    "duration": 53,
    "start_time": "2023-08-27T21:41:54.874Z"
   },
   {
    "duration": 82,
    "start_time": "2023-08-27T21:41:54.929Z"
   },
   {
    "duration": 160,
    "start_time": "2023-08-27T21:41:55.012Z"
   },
   {
    "duration": 0,
    "start_time": "2023-08-27T21:41:55.174Z"
   },
   {
    "duration": 0,
    "start_time": "2023-08-27T21:41:55.175Z"
   },
   {
    "duration": 0,
    "start_time": "2023-08-27T21:41:55.176Z"
   },
   {
    "duration": 0,
    "start_time": "2023-08-27T21:41:55.177Z"
   },
   {
    "duration": 0,
    "start_time": "2023-08-27T21:41:55.178Z"
   },
   {
    "duration": 0,
    "start_time": "2023-08-27T21:41:55.179Z"
   },
   {
    "duration": 0,
    "start_time": "2023-08-27T21:41:55.181Z"
   },
   {
    "duration": 0,
    "start_time": "2023-08-27T21:41:55.182Z"
   },
   {
    "duration": 0,
    "start_time": "2023-08-27T21:41:55.183Z"
   },
   {
    "duration": 0,
    "start_time": "2023-08-27T21:41:55.184Z"
   },
   {
    "duration": 0,
    "start_time": "2023-08-27T21:41:55.185Z"
   },
   {
    "duration": 1935,
    "start_time": "2023-08-27T21:44:13.753Z"
   },
   {
    "duration": 89,
    "start_time": "2023-08-27T21:45:00.180Z"
   },
   {
    "duration": 36,
    "start_time": "2023-08-27T21:46:51.565Z"
   },
   {
    "duration": 134,
    "start_time": "2023-08-27T21:56:39.506Z"
   },
   {
    "duration": 556,
    "start_time": "2023-08-27T21:59:44.476Z"
   },
   {
    "duration": 433,
    "start_time": "2023-08-27T22:00:51.437Z"
   },
   {
    "duration": 5,
    "start_time": "2023-08-27T22:01:16.720Z"
   },
   {
    "duration": 6,
    "start_time": "2023-08-27T22:01:27.790Z"
   },
   {
    "duration": 11,
    "start_time": "2023-08-27T22:01:31.953Z"
   },
   {
    "duration": 1771,
    "start_time": "2023-08-27T22:04:49.183Z"
   },
   {
    "duration": 55,
    "start_time": "2023-08-27T22:04:50.957Z"
   },
   {
    "duration": 30,
    "start_time": "2023-08-27T22:04:51.013Z"
   },
   {
    "duration": 46,
    "start_time": "2023-08-27T22:04:51.058Z"
   },
   {
    "duration": 37,
    "start_time": "2023-08-27T22:04:51.106Z"
   },
   {
    "duration": 73,
    "start_time": "2023-08-27T22:04:51.145Z"
   },
   {
    "duration": 210,
    "start_time": "2023-08-27T22:04:51.220Z"
   },
   {
    "duration": 168,
    "start_time": "2023-08-27T22:04:51.432Z"
   },
   {
    "duration": 65,
    "start_time": "2023-08-27T22:04:51.602Z"
   },
   {
    "duration": 62,
    "start_time": "2023-08-27T22:04:51.669Z"
   },
   {
    "duration": 107,
    "start_time": "2023-08-27T22:04:51.732Z"
   },
   {
    "duration": 58,
    "start_time": "2023-08-27T22:04:51.841Z"
   },
   {
    "duration": 144,
    "start_time": "2023-08-27T22:04:51.900Z"
   },
   {
    "duration": 464,
    "start_time": "2023-08-27T22:04:52.046Z"
   },
   {
    "duration": 91,
    "start_time": "2023-08-27T22:04:52.511Z"
   },
   {
    "duration": 606,
    "start_time": "2023-08-27T22:04:52.604Z"
   },
   {
    "duration": 251,
    "start_time": "2023-08-27T22:04:53.211Z"
   },
   {
    "duration": 117,
    "start_time": "2023-08-27T22:04:53.472Z"
   },
   {
    "duration": 0,
    "start_time": "2023-08-27T22:04:53.591Z"
   },
   {
    "duration": 0,
    "start_time": "2023-08-27T22:04:53.592Z"
   },
   {
    "duration": 0,
    "start_time": "2023-08-27T22:04:53.593Z"
   },
   {
    "duration": 0,
    "start_time": "2023-08-27T22:04:53.594Z"
   },
   {
    "duration": 0,
    "start_time": "2023-08-27T22:04:53.595Z"
   },
   {
    "duration": 0,
    "start_time": "2023-08-27T22:04:53.596Z"
   },
   {
    "duration": 75,
    "start_time": "2023-08-27T22:07:29.891Z"
   },
   {
    "duration": 595,
    "start_time": "2023-08-27T22:07:44.951Z"
   },
   {
    "duration": 74,
    "start_time": "2023-08-27T22:07:53.890Z"
   },
   {
    "duration": 590,
    "start_time": "2023-08-27T22:07:58.917Z"
   },
   {
    "duration": 399,
    "start_time": "2023-08-27T22:15:24.402Z"
   },
   {
    "duration": 1761,
    "start_time": "2023-08-27T22:18:42.111Z"
   },
   {
    "duration": 44,
    "start_time": "2023-08-27T22:18:43.874Z"
   },
   {
    "duration": 48,
    "start_time": "2023-08-27T22:18:43.920Z"
   },
   {
    "duration": 25,
    "start_time": "2023-08-27T22:18:43.971Z"
   },
   {
    "duration": 28,
    "start_time": "2023-08-27T22:18:43.998Z"
   },
   {
    "duration": 77,
    "start_time": "2023-08-27T22:18:44.027Z"
   },
   {
    "duration": 83,
    "start_time": "2023-08-27T22:18:44.106Z"
   },
   {
    "duration": 117,
    "start_time": "2023-08-27T22:18:44.191Z"
   },
   {
    "duration": 62,
    "start_time": "2023-08-27T22:18:44.309Z"
   },
   {
    "duration": 51,
    "start_time": "2023-08-27T22:18:44.373Z"
   },
   {
    "duration": 97,
    "start_time": "2023-08-27T22:18:44.425Z"
   },
   {
    "duration": 583,
    "start_time": "2023-08-27T22:18:44.524Z"
   },
   {
    "duration": 161,
    "start_time": "2023-08-27T22:18:45.109Z"
   },
   {
    "duration": 419,
    "start_time": "2023-08-27T22:18:45.273Z"
   },
   {
    "duration": 17,
    "start_time": "2023-08-27T22:18:45.694Z"
   },
   {
    "duration": 206,
    "start_time": "2023-08-27T22:18:45.713Z"
   },
   {
    "duration": 77,
    "start_time": "2023-08-27T22:18:45.921Z"
   },
   {
    "duration": 115,
    "start_time": "2023-08-27T22:18:46.000Z"
   },
   {
    "duration": 489,
    "start_time": "2023-08-27T22:18:46.117Z"
   },
   {
    "duration": 150,
    "start_time": "2023-08-27T22:18:46.608Z"
   },
   {
    "duration": 436,
    "start_time": "2023-08-27T22:18:46.760Z"
   },
   {
    "duration": 101,
    "start_time": "2023-08-27T22:18:47.197Z"
   },
   {
    "duration": 0,
    "start_time": "2023-08-27T22:18:47.300Z"
   },
   {
    "duration": 0,
    "start_time": "2023-08-27T22:18:47.301Z"
   },
   {
    "duration": 0,
    "start_time": "2023-08-27T22:18:47.302Z"
   },
   {
    "duration": 0,
    "start_time": "2023-08-27T22:18:47.303Z"
   },
   {
    "duration": 0,
    "start_time": "2023-08-27T22:18:47.304Z"
   },
   {
    "duration": 0,
    "start_time": "2023-08-27T22:18:47.305Z"
   },
   {
    "duration": 60,
    "start_time": "2023-08-27T22:27:00.990Z"
   },
   {
    "duration": 65,
    "start_time": "2023-08-27T22:28:38.642Z"
   },
   {
    "duration": 59,
    "start_time": "2023-08-27T22:29:26.669Z"
   },
   {
    "duration": 62,
    "start_time": "2023-08-27T22:30:02.604Z"
   },
   {
    "duration": 525,
    "start_time": "2023-08-27T22:33:07.069Z"
   },
   {
    "duration": 254,
    "start_time": "2023-08-27T22:33:16.039Z"
   },
   {
    "duration": 1960,
    "start_time": "2023-08-27T22:35:50.044Z"
   },
   {
    "duration": 43,
    "start_time": "2023-08-27T22:35:52.007Z"
   },
   {
    "duration": 34,
    "start_time": "2023-08-27T22:35:52.051Z"
   },
   {
    "duration": 26,
    "start_time": "2023-08-27T22:35:52.087Z"
   },
   {
    "duration": 56,
    "start_time": "2023-08-27T22:35:52.115Z"
   },
   {
    "duration": 64,
    "start_time": "2023-08-27T22:35:52.174Z"
   },
   {
    "duration": 80,
    "start_time": "2023-08-27T22:35:52.240Z"
   },
   {
    "duration": 113,
    "start_time": "2023-08-27T22:35:52.322Z"
   },
   {
    "duration": 62,
    "start_time": "2023-08-27T22:35:52.437Z"
   },
   {
    "duration": 49,
    "start_time": "2023-08-27T22:35:52.500Z"
   },
   {
    "duration": 72,
    "start_time": "2023-08-27T22:35:52.556Z"
   },
   {
    "duration": 594,
    "start_time": "2023-08-27T22:35:52.630Z"
   },
   {
    "duration": 107,
    "start_time": "2023-08-27T22:35:53.225Z"
   },
   {
    "duration": 45,
    "start_time": "2023-08-27T22:35:53.334Z"
   },
   {
    "duration": 114,
    "start_time": "2023-08-27T22:35:53.381Z"
   },
   {
    "duration": 154,
    "start_time": "2023-08-27T22:35:53.497Z"
   },
   {
    "duration": 419,
    "start_time": "2023-08-27T22:35:53.653Z"
   },
   {
    "duration": 59,
    "start_time": "2023-08-27T22:35:54.074Z"
   },
   {
    "duration": 369,
    "start_time": "2023-08-27T22:35:54.134Z"
   },
   {
    "duration": 400,
    "start_time": "2023-08-27T22:35:54.505Z"
   },
   {
    "duration": 161,
    "start_time": "2023-08-27T22:35:54.907Z"
   },
   {
    "duration": 410,
    "start_time": "2023-08-27T22:35:55.070Z"
   },
   {
    "duration": 104,
    "start_time": "2023-08-27T22:35:55.482Z"
   },
   {
    "duration": 0,
    "start_time": "2023-08-27T22:35:55.587Z"
   },
   {
    "duration": 0,
    "start_time": "2023-08-27T22:35:55.589Z"
   },
   {
    "duration": 0,
    "start_time": "2023-08-27T22:35:55.590Z"
   },
   {
    "duration": 0,
    "start_time": "2023-08-27T22:35:55.591Z"
   },
   {
    "duration": 0,
    "start_time": "2023-08-27T22:35:55.593Z"
   },
   {
    "duration": 0,
    "start_time": "2023-08-27T22:35:55.594Z"
   },
   {
    "duration": 448,
    "start_time": "2023-08-27T22:41:30.244Z"
   },
   {
    "duration": 12,
    "start_time": "2023-08-27T22:42:48.133Z"
   },
   {
    "duration": 18,
    "start_time": "2023-08-27T22:42:57.348Z"
   },
   {
    "duration": 382,
    "start_time": "2023-08-27T22:51:39.617Z"
   },
   {
    "duration": 252,
    "start_time": "2023-08-27T22:57:13.656Z"
   },
   {
    "duration": 83,
    "start_time": "2023-08-27T23:00:12.420Z"
   },
   {
    "duration": 6,
    "start_time": "2023-08-27T23:01:25.244Z"
   },
   {
    "duration": 84,
    "start_time": "2023-08-27T23:02:26.910Z"
   },
   {
    "duration": 71,
    "start_time": "2023-08-27T23:04:01.046Z"
   },
   {
    "duration": 39,
    "start_time": "2023-08-27T23:04:51.854Z"
   },
   {
    "duration": 108,
    "start_time": "2023-08-27T23:04:54.770Z"
   },
   {
    "duration": 86,
    "start_time": "2023-08-27T23:06:48.740Z"
   },
   {
    "duration": 74,
    "start_time": "2023-08-27T23:08:00.770Z"
   },
   {
    "duration": 1979,
    "start_time": "2023-08-27T23:10:44.033Z"
   },
   {
    "duration": 46,
    "start_time": "2023-08-27T23:10:46.014Z"
   },
   {
    "duration": 28,
    "start_time": "2023-08-27T23:10:46.069Z"
   },
   {
    "duration": 25,
    "start_time": "2023-08-27T23:10:46.098Z"
   },
   {
    "duration": 53,
    "start_time": "2023-08-27T23:10:46.125Z"
   },
   {
    "duration": 55,
    "start_time": "2023-08-27T23:10:46.180Z"
   },
   {
    "duration": 69,
    "start_time": "2023-08-27T23:10:46.237Z"
   },
   {
    "duration": 116,
    "start_time": "2023-08-27T23:10:46.307Z"
   },
   {
    "duration": 56,
    "start_time": "2023-08-27T23:10:46.425Z"
   },
   {
    "duration": 48,
    "start_time": "2023-08-27T23:10:46.483Z"
   },
   {
    "duration": 90,
    "start_time": "2023-08-27T23:10:46.532Z"
   },
   {
    "duration": 595,
    "start_time": "2023-08-27T23:10:46.624Z"
   },
   {
    "duration": 105,
    "start_time": "2023-08-27T23:10:47.221Z"
   },
   {
    "duration": 46,
    "start_time": "2023-08-27T23:10:47.330Z"
   },
   {
    "duration": 119,
    "start_time": "2023-08-27T23:10:47.377Z"
   },
   {
    "duration": 184,
    "start_time": "2023-08-27T23:10:47.498Z"
   },
   {
    "duration": 0,
    "start_time": "2023-08-27T23:10:47.683Z"
   },
   {
    "duration": 0,
    "start_time": "2023-08-27T23:10:47.685Z"
   },
   {
    "duration": 0,
    "start_time": "2023-08-27T23:10:47.686Z"
   },
   {
    "duration": 0,
    "start_time": "2023-08-27T23:10:47.687Z"
   },
   {
    "duration": 1,
    "start_time": "2023-08-27T23:10:47.688Z"
   },
   {
    "duration": 0,
    "start_time": "2023-08-27T23:10:47.690Z"
   },
   {
    "duration": 0,
    "start_time": "2023-08-27T23:10:47.691Z"
   },
   {
    "duration": 0,
    "start_time": "2023-08-27T23:10:47.693Z"
   },
   {
    "duration": 0,
    "start_time": "2023-08-27T23:10:47.694Z"
   },
   {
    "duration": 0,
    "start_time": "2023-08-27T23:10:47.695Z"
   },
   {
    "duration": 0,
    "start_time": "2023-08-27T23:10:47.696Z"
   },
   {
    "duration": 0,
    "start_time": "2023-08-27T23:10:47.697Z"
   },
   {
    "duration": 0,
    "start_time": "2023-08-27T23:10:47.699Z"
   },
   {
    "duration": 0,
    "start_time": "2023-08-27T23:10:47.700Z"
   },
   {
    "duration": 74,
    "start_time": "2023-08-27T23:13:41.967Z"
   },
   {
    "duration": 1647,
    "start_time": "2023-08-27T23:13:48.271Z"
   },
   {
    "duration": 44,
    "start_time": "2023-08-27T23:13:49.920Z"
   },
   {
    "duration": 46,
    "start_time": "2023-08-27T23:13:49.966Z"
   },
   {
    "duration": 24,
    "start_time": "2023-08-27T23:13:50.014Z"
   },
   {
    "duration": 34,
    "start_time": "2023-08-27T23:13:50.040Z"
   },
   {
    "duration": 54,
    "start_time": "2023-08-27T23:13:50.076Z"
   },
   {
    "duration": 86,
    "start_time": "2023-08-27T23:13:50.132Z"
   },
   {
    "duration": 111,
    "start_time": "2023-08-27T23:13:50.219Z"
   },
   {
    "duration": 55,
    "start_time": "2023-08-27T23:13:50.332Z"
   },
   {
    "duration": 47,
    "start_time": "2023-08-27T23:13:50.389Z"
   },
   {
    "duration": 91,
    "start_time": "2023-08-27T23:13:50.438Z"
   },
   {
    "duration": 563,
    "start_time": "2023-08-27T23:13:50.530Z"
   },
   {
    "duration": 113,
    "start_time": "2023-08-27T23:13:51.095Z"
   },
   {
    "duration": 31,
    "start_time": "2023-08-27T23:13:51.212Z"
   },
   {
    "duration": 123,
    "start_time": "2023-08-27T23:13:51.257Z"
   },
   {
    "duration": 79,
    "start_time": "2023-08-27T23:13:51.382Z"
   },
   {
    "duration": 150,
    "start_time": "2023-08-27T23:13:51.462Z"
   },
   {
    "duration": 391,
    "start_time": "2023-08-27T23:13:51.613Z"
   },
   {
    "duration": 495,
    "start_time": "2023-08-27T23:13:52.006Z"
   },
   {
    "duration": 382,
    "start_time": "2023-08-27T23:13:52.503Z"
   },
   {
    "duration": 72,
    "start_time": "2023-08-27T23:13:52.887Z"
   },
   {
    "duration": 60,
    "start_time": "2023-08-27T23:13:52.971Z"
   },
   {
    "duration": 264,
    "start_time": "2023-08-27T23:13:53.033Z"
   },
   {
    "duration": 405,
    "start_time": "2023-08-27T23:13:53.299Z"
   },
   {
    "duration": 2619,
    "start_time": "2023-08-27T23:13:53.706Z"
   },
   {
    "duration": 42,
    "start_time": "2023-08-27T23:13:56.327Z"
   },
   {
    "duration": 26,
    "start_time": "2023-08-27T23:13:56.371Z"
   },
   {
    "duration": 15,
    "start_time": "2023-08-27T23:13:56.398Z"
   },
   {
    "duration": 169,
    "start_time": "2023-08-27T23:13:56.414Z"
   },
   {
    "duration": 22,
    "start_time": "2023-08-27T23:13:56.585Z"
   },
   {
    "duration": 99,
    "start_time": "2023-08-27T23:25:07.919Z"
   },
   {
    "duration": 65,
    "start_time": "2023-08-27T23:28:13.197Z"
   },
   {
    "duration": 63,
    "start_time": "2023-08-27T23:40:01.231Z"
   },
   {
    "duration": 1650,
    "start_time": "2023-08-27T23:50:01.709Z"
   },
   {
    "duration": 41,
    "start_time": "2023-08-27T23:50:03.361Z"
   },
   {
    "duration": 97,
    "start_time": "2023-08-27T23:50:03.404Z"
   },
   {
    "duration": 24,
    "start_time": "2023-08-27T23:50:03.503Z"
   },
   {
    "duration": 27,
    "start_time": "2023-08-27T23:50:03.529Z"
   },
   {
    "duration": 54,
    "start_time": "2023-08-27T23:50:03.558Z"
   },
   {
    "duration": 78,
    "start_time": "2023-08-27T23:50:03.614Z"
   },
   {
    "duration": 113,
    "start_time": "2023-08-27T23:50:03.694Z"
   },
   {
    "duration": 51,
    "start_time": "2023-08-27T23:50:03.809Z"
   },
   {
    "duration": 51,
    "start_time": "2023-08-27T23:50:03.861Z"
   },
   {
    "duration": 89,
    "start_time": "2023-08-27T23:50:03.913Z"
   },
   {
    "duration": 534,
    "start_time": "2023-08-27T23:50:04.004Z"
   },
   {
    "duration": 91,
    "start_time": "2023-08-27T23:50:04.540Z"
   },
   {
    "duration": 40,
    "start_time": "2023-08-27T23:50:04.634Z"
   },
   {
    "duration": 112,
    "start_time": "2023-08-27T23:50:04.675Z"
   },
   {
    "duration": 85,
    "start_time": "2023-08-27T23:50:04.789Z"
   },
   {
    "duration": 143,
    "start_time": "2023-08-27T23:50:04.875Z"
   },
   {
    "duration": 373,
    "start_time": "2023-08-27T23:50:05.020Z"
   },
   {
    "duration": 474,
    "start_time": "2023-08-27T23:50:05.396Z"
   },
   {
    "duration": 390,
    "start_time": "2023-08-27T23:50:05.872Z"
   },
   {
    "duration": 62,
    "start_time": "2023-08-27T23:50:06.264Z"
   },
   {
    "duration": 72,
    "start_time": "2023-08-27T23:50:06.327Z"
   },
   {
    "duration": 282,
    "start_time": "2023-08-27T23:50:06.400Z"
   },
   {
    "duration": 16,
    "start_time": "2023-08-27T23:50:06.684Z"
   },
   {
    "duration": 159,
    "start_time": "2023-08-27T23:50:06.701Z"
   },
   {
    "duration": 401,
    "start_time": "2023-08-27T23:50:06.862Z"
   },
   {
    "duration": 2569,
    "start_time": "2023-08-27T23:50:07.264Z"
   },
   {
    "duration": 37,
    "start_time": "2023-08-27T23:50:09.835Z"
   },
   {
    "duration": 25,
    "start_time": "2023-08-27T23:50:09.873Z"
   },
   {
    "duration": 14,
    "start_time": "2023-08-27T23:50:09.899Z"
   },
   {
    "duration": 157,
    "start_time": "2023-08-27T23:50:09.914Z"
   },
   {
    "duration": 24,
    "start_time": "2023-08-27T23:50:10.072Z"
   },
   {
    "duration": 107,
    "start_time": "2023-08-27T23:50:10.098Z"
   },
   {
    "duration": 561,
    "start_time": "2023-08-27T23:52:13.970Z"
   },
   {
    "duration": 677,
    "start_time": "2023-08-27T23:52:43.849Z"
   },
   {
    "duration": 549,
    "start_time": "2023-08-27T23:52:52.774Z"
   },
   {
    "duration": 507,
    "start_time": "2023-08-27T23:55:05.922Z"
   },
   {
    "duration": 405,
    "start_time": "2023-08-27T23:56:46.109Z"
   },
   {
    "duration": 167,
    "start_time": "2023-08-28T00:02:33.141Z"
   },
   {
    "duration": 18,
    "start_time": "2023-08-28T00:03:44.206Z"
   },
   {
    "duration": 32,
    "start_time": "2023-08-28T00:04:51.369Z"
   },
   {
    "duration": 55,
    "start_time": "2023-08-28T00:04:56.744Z"
   },
   {
    "duration": 20,
    "start_time": "2023-08-28T00:05:34.046Z"
   },
   {
    "duration": 1640,
    "start_time": "2023-08-28T00:05:39.587Z"
   },
   {
    "duration": 41,
    "start_time": "2023-08-28T00:05:41.229Z"
   },
   {
    "duration": 27,
    "start_time": "2023-08-28T00:05:41.271Z"
   },
   {
    "duration": 35,
    "start_time": "2023-08-28T00:05:41.300Z"
   },
   {
    "duration": 39,
    "start_time": "2023-08-28T00:05:41.337Z"
   },
   {
    "duration": 54,
    "start_time": "2023-08-28T00:05:41.378Z"
   },
   {
    "duration": 79,
    "start_time": "2023-08-28T00:05:41.434Z"
   },
   {
    "duration": 112,
    "start_time": "2023-08-28T00:05:41.514Z"
   },
   {
    "duration": 54,
    "start_time": "2023-08-28T00:05:41.628Z"
   },
   {
    "duration": 49,
    "start_time": "2023-08-28T00:05:41.684Z"
   },
   {
    "duration": 86,
    "start_time": "2023-08-28T00:05:41.735Z"
   },
   {
    "duration": 545,
    "start_time": "2023-08-28T00:05:41.823Z"
   },
   {
    "duration": 96,
    "start_time": "2023-08-28T00:05:42.370Z"
   },
   {
    "duration": 32,
    "start_time": "2023-08-28T00:05:42.469Z"
   },
   {
    "duration": 133,
    "start_time": "2023-08-28T00:05:42.502Z"
   },
   {
    "duration": 71,
    "start_time": "2023-08-28T00:05:42.637Z"
   },
   {
    "duration": 139,
    "start_time": "2023-08-28T00:05:42.710Z"
   },
   {
    "duration": 400,
    "start_time": "2023-08-28T00:05:42.856Z"
   },
   {
    "duration": 447,
    "start_time": "2023-08-28T00:05:43.258Z"
   },
   {
    "duration": 393,
    "start_time": "2023-08-28T00:05:43.707Z"
   },
   {
    "duration": 77,
    "start_time": "2023-08-28T00:05:44.101Z"
   },
   {
    "duration": 61,
    "start_time": "2023-08-28T00:05:44.180Z"
   },
   {
    "duration": 258,
    "start_time": "2023-08-28T00:05:44.243Z"
   },
   {
    "duration": 16,
    "start_time": "2023-08-28T00:05:44.502Z"
   },
   {
    "duration": 589,
    "start_time": "2023-08-28T00:05:44.519Z"
   },
   {
    "duration": 419,
    "start_time": "2023-08-28T00:05:45.109Z"
   },
   {
    "duration": 14,
    "start_time": "2023-08-28T00:05:45.530Z"
   },
   {
    "duration": 2637,
    "start_time": "2023-08-28T00:05:45.556Z"
   },
   {
    "duration": 36,
    "start_time": "2023-08-28T00:05:48.195Z"
   },
   {
    "duration": 25,
    "start_time": "2023-08-28T00:05:48.232Z"
   },
   {
    "duration": 21,
    "start_time": "2023-08-28T00:05:48.258Z"
   },
   {
    "duration": 159,
    "start_time": "2023-08-28T00:05:48.281Z"
   },
   {
    "duration": 30,
    "start_time": "2023-08-28T00:05:48.442Z"
   },
   {
    "duration": 88,
    "start_time": "2023-08-28T00:05:48.474Z"
   },
   {
    "duration": 1240,
    "start_time": "2023-08-28T00:06:08.842Z"
   },
   {
    "duration": 1437,
    "start_time": "2023-08-28T00:06:31.471Z"
   },
   {
    "duration": 1385,
    "start_time": "2023-08-28T00:08:30.780Z"
   },
   {
    "duration": 1903,
    "start_time": "2023-08-28T00:15:16.747Z"
   },
   {
    "duration": 43,
    "start_time": "2023-08-28T00:15:18.652Z"
   },
   {
    "duration": 28,
    "start_time": "2023-08-28T00:15:18.697Z"
   },
   {
    "duration": 47,
    "start_time": "2023-08-28T00:15:18.727Z"
   },
   {
    "duration": 33,
    "start_time": "2023-08-28T00:15:18.776Z"
   },
   {
    "duration": 84,
    "start_time": "2023-08-28T00:15:18.811Z"
   },
   {
    "duration": 91,
    "start_time": "2023-08-28T00:15:18.897Z"
   },
   {
    "duration": 117,
    "start_time": "2023-08-28T00:15:18.990Z"
   },
   {
    "duration": 53,
    "start_time": "2023-08-28T00:15:19.108Z"
   },
   {
    "duration": 48,
    "start_time": "2023-08-28T00:15:19.163Z"
   },
   {
    "duration": 81,
    "start_time": "2023-08-28T00:15:19.213Z"
   },
   {
    "duration": 532,
    "start_time": "2023-08-28T00:15:19.296Z"
   },
   {
    "duration": 101,
    "start_time": "2023-08-28T00:15:19.829Z"
   },
   {
    "duration": 34,
    "start_time": "2023-08-28T00:15:19.933Z"
   },
   {
    "duration": 117,
    "start_time": "2023-08-28T00:15:19.969Z"
   },
   {
    "duration": 82,
    "start_time": "2023-08-28T00:15:20.088Z"
   },
   {
    "duration": 148,
    "start_time": "2023-08-28T00:15:20.172Z"
   },
   {
    "duration": 387,
    "start_time": "2023-08-28T00:15:20.321Z"
   },
   {
    "duration": 477,
    "start_time": "2023-08-28T00:15:20.710Z"
   },
   {
    "duration": 381,
    "start_time": "2023-08-28T00:15:21.188Z"
   },
   {
    "duration": 60,
    "start_time": "2023-08-28T00:15:21.571Z"
   },
   {
    "duration": 71,
    "start_time": "2023-08-28T00:15:21.632Z"
   },
   {
    "duration": 272,
    "start_time": "2023-08-28T00:15:21.704Z"
   },
   {
    "duration": 17,
    "start_time": "2023-08-28T00:15:21.978Z"
   },
   {
    "duration": 535,
    "start_time": "2023-08-28T00:15:21.997Z"
   },
   {
    "duration": 423,
    "start_time": "2023-08-28T00:15:22.534Z"
   },
   {
    "duration": 1471,
    "start_time": "2023-08-28T00:15:22.958Z"
   },
   {
    "duration": 22,
    "start_time": "2023-08-28T00:15:24.431Z"
   },
   {
    "duration": 2680,
    "start_time": "2023-08-28T00:15:24.455Z"
   },
   {
    "duration": 48,
    "start_time": "2023-08-28T00:15:27.137Z"
   },
   {
    "duration": 28,
    "start_time": "2023-08-28T00:15:27.186Z"
   },
   {
    "duration": 40,
    "start_time": "2023-08-28T00:15:27.216Z"
   },
   {
    "duration": 170,
    "start_time": "2023-08-28T00:15:27.258Z"
   },
   {
    "duration": 38,
    "start_time": "2023-08-28T00:15:27.430Z"
   },
   {
    "duration": 76,
    "start_time": "2023-08-28T00:15:27.470Z"
   },
   {
    "duration": 76,
    "start_time": "2023-08-28T00:24:04.326Z"
   },
   {
    "duration": 1568,
    "start_time": "2023-08-28T00:25:42.635Z"
   },
   {
    "duration": 76,
    "start_time": "2023-08-28T00:26:07.749Z"
   },
   {
    "duration": 2099,
    "start_time": "2023-08-28T00:26:51.271Z"
   },
   {
    "duration": 1554,
    "start_time": "2023-08-28T00:28:11.801Z"
   },
   {
    "duration": 42,
    "start_time": "2023-08-28T00:28:13.357Z"
   },
   {
    "duration": 27,
    "start_time": "2023-08-28T00:28:13.400Z"
   },
   {
    "duration": 37,
    "start_time": "2023-08-28T00:28:13.429Z"
   },
   {
    "duration": 29,
    "start_time": "2023-08-28T00:28:13.468Z"
   },
   {
    "duration": 79,
    "start_time": "2023-08-28T00:28:13.499Z"
   },
   {
    "duration": 59,
    "start_time": "2023-08-28T00:28:13.580Z"
   },
   {
    "duration": 115,
    "start_time": "2023-08-28T00:28:13.641Z"
   },
   {
    "duration": 43,
    "start_time": "2023-08-28T00:28:13.758Z"
   },
   {
    "duration": 65,
    "start_time": "2023-08-28T00:28:13.803Z"
   },
   {
    "duration": 67,
    "start_time": "2023-08-28T00:28:13.869Z"
   },
   {
    "duration": 565,
    "start_time": "2023-08-28T00:28:13.938Z"
   },
   {
    "duration": 104,
    "start_time": "2023-08-28T00:28:14.505Z"
   },
   {
    "duration": 29,
    "start_time": "2023-08-28T00:28:14.612Z"
   },
   {
    "duration": 118,
    "start_time": "2023-08-28T00:28:14.643Z"
   },
   {
    "duration": 71,
    "start_time": "2023-08-28T00:28:14.763Z"
   },
   {
    "duration": 152,
    "start_time": "2023-08-28T00:28:14.836Z"
   },
   {
    "duration": 400,
    "start_time": "2023-08-28T00:28:14.990Z"
   },
   {
    "duration": 488,
    "start_time": "2023-08-28T00:28:15.391Z"
   },
   {
    "duration": 392,
    "start_time": "2023-08-28T00:28:15.881Z"
   },
   {
    "duration": 61,
    "start_time": "2023-08-28T00:28:16.275Z"
   },
   {
    "duration": 65,
    "start_time": "2023-08-28T00:28:16.337Z"
   },
   {
    "duration": 273,
    "start_time": "2023-08-28T00:28:16.404Z"
   },
   {
    "duration": 18,
    "start_time": "2023-08-28T00:28:16.679Z"
   },
   {
    "duration": 543,
    "start_time": "2023-08-28T00:28:16.699Z"
   },
   {
    "duration": 417,
    "start_time": "2023-08-28T00:28:17.244Z"
   },
   {
    "duration": 1463,
    "start_time": "2023-08-28T00:28:17.662Z"
   },
   {
    "duration": 77,
    "start_time": "2023-08-28T00:28:19.127Z"
   },
   {
    "duration": 24,
    "start_time": "2023-08-28T00:28:19.206Z"
   },
   {
    "duration": 74,
    "start_time": "2023-08-28T00:28:19.231Z"
   },
   {
    "duration": 46,
    "start_time": "2023-08-28T00:55:33.228Z"
   },
   {
    "duration": 87,
    "start_time": "2023-08-28T00:58:50.012Z"
   },
   {
    "duration": 60,
    "start_time": "2023-08-28T00:59:52.419Z"
   },
   {
    "duration": 103,
    "start_time": "2023-08-28T01:00:29.122Z"
   },
   {
    "duration": 104,
    "start_time": "2023-08-28T01:00:50.940Z"
   },
   {
    "duration": 1642,
    "start_time": "2023-08-28T01:01:59.143Z"
   },
   {
    "duration": 1601,
    "start_time": "2023-08-28T01:02:11.214Z"
   },
   {
    "duration": 43,
    "start_time": "2023-08-28T01:02:12.817Z"
   },
   {
    "duration": 27,
    "start_time": "2023-08-28T01:02:12.861Z"
   },
   {
    "duration": 44,
    "start_time": "2023-08-28T01:02:12.890Z"
   },
   {
    "duration": 28,
    "start_time": "2023-08-28T01:02:12.937Z"
   },
   {
    "duration": 52,
    "start_time": "2023-08-28T01:02:12.967Z"
   },
   {
    "duration": 76,
    "start_time": "2023-08-28T01:02:13.021Z"
   },
   {
    "duration": 106,
    "start_time": "2023-08-28T01:02:13.099Z"
   },
   {
    "duration": 51,
    "start_time": "2023-08-28T01:02:13.206Z"
   },
   {
    "duration": 47,
    "start_time": "2023-08-28T01:02:13.259Z"
   },
   {
    "duration": 81,
    "start_time": "2023-08-28T01:02:13.308Z"
   },
   {
    "duration": 538,
    "start_time": "2023-08-28T01:02:13.390Z"
   },
   {
    "duration": 75,
    "start_time": "2023-08-28T01:02:13.929Z"
   },
   {
    "duration": 125,
    "start_time": "2023-08-28T01:02:14.007Z"
   },
   {
    "duration": 42,
    "start_time": "2023-08-28T01:02:14.133Z"
   },
   {
    "duration": 81,
    "start_time": "2023-08-28T01:02:14.177Z"
   },
   {
    "duration": 157,
    "start_time": "2023-08-28T01:02:14.260Z"
   },
   {
    "duration": 377,
    "start_time": "2023-08-28T01:02:14.418Z"
   },
   {
    "duration": 483,
    "start_time": "2023-08-28T01:02:14.796Z"
   },
   {
    "duration": 391,
    "start_time": "2023-08-28T01:02:15.280Z"
   },
   {
    "duration": 68,
    "start_time": "2023-08-28T01:02:15.673Z"
   },
   {
    "duration": 72,
    "start_time": "2023-08-28T01:02:15.742Z"
   },
   {
    "duration": 268,
    "start_time": "2023-08-28T01:02:15.816Z"
   },
   {
    "duration": 17,
    "start_time": "2023-08-28T01:02:16.086Z"
   },
   {
    "duration": 530,
    "start_time": "2023-08-28T01:02:16.105Z"
   },
   {
    "duration": 416,
    "start_time": "2023-08-28T01:02:16.636Z"
   },
   {
    "duration": 1355,
    "start_time": "2023-08-28T01:02:17.055Z"
   },
   {
    "duration": 90,
    "start_time": "2023-08-28T01:02:18.411Z"
   },
   {
    "duration": 27,
    "start_time": "2023-08-28T01:02:18.502Z"
   },
   {
    "duration": 86,
    "start_time": "2023-08-28T01:02:18.530Z"
   },
   {
    "duration": 171,
    "start_time": "2023-08-28T01:02:30.728Z"
   },
   {
    "duration": 476,
    "start_time": "2023-08-28T01:04:04.131Z"
   },
   {
    "duration": 1568,
    "start_time": "2023-08-28T01:10:06.612Z"
   },
   {
    "duration": 40,
    "start_time": "2023-08-28T01:10:08.182Z"
   },
   {
    "duration": 37,
    "start_time": "2023-08-28T01:10:08.224Z"
   },
   {
    "duration": 26,
    "start_time": "2023-08-28T01:10:08.262Z"
   },
   {
    "duration": 32,
    "start_time": "2023-08-28T01:10:08.290Z"
   },
   {
    "duration": 74,
    "start_time": "2023-08-28T01:10:08.324Z"
   },
   {
    "duration": 84,
    "start_time": "2023-08-28T01:10:08.400Z"
   },
   {
    "duration": 133,
    "start_time": "2023-08-28T01:10:08.485Z"
   },
   {
    "duration": 55,
    "start_time": "2023-08-28T01:10:08.620Z"
   },
   {
    "duration": 49,
    "start_time": "2023-08-28T01:10:08.677Z"
   },
   {
    "duration": 86,
    "start_time": "2023-08-28T01:10:08.728Z"
   },
   {
    "duration": 547,
    "start_time": "2023-08-28T01:10:08.817Z"
   },
   {
    "duration": 67,
    "start_time": "2023-08-28T01:10:09.366Z"
   },
   {
    "duration": 117,
    "start_time": "2023-08-28T01:10:09.455Z"
   },
   {
    "duration": 31,
    "start_time": "2023-08-28T01:10:09.574Z"
   },
   {
    "duration": 86,
    "start_time": "2023-08-28T01:10:09.607Z"
   },
   {
    "duration": 149,
    "start_time": "2023-08-28T01:10:09.694Z"
   },
   {
    "duration": 360,
    "start_time": "2023-08-28T01:10:09.844Z"
   },
   {
    "duration": 472,
    "start_time": "2023-08-28T01:10:10.206Z"
   },
   {
    "duration": 391,
    "start_time": "2023-08-28T01:10:10.680Z"
   },
   {
    "duration": 60,
    "start_time": "2023-08-28T01:10:11.073Z"
   },
   {
    "duration": 76,
    "start_time": "2023-08-28T01:10:11.135Z"
   },
   {
    "duration": 269,
    "start_time": "2023-08-28T01:10:11.213Z"
   },
   {
    "duration": 16,
    "start_time": "2023-08-28T01:10:11.484Z"
   },
   {
    "duration": 537,
    "start_time": "2023-08-28T01:10:11.502Z"
   },
   {
    "duration": 394,
    "start_time": "2023-08-28T01:10:12.040Z"
   },
   {
    "duration": 1360,
    "start_time": "2023-08-28T01:10:12.436Z"
   },
   {
    "duration": 18,
    "start_time": "2023-08-28T01:10:13.798Z"
   },
   {
    "duration": 97,
    "start_time": "2023-08-28T01:10:13.817Z"
   },
   {
    "duration": 23,
    "start_time": "2023-08-28T01:10:13.916Z"
   },
   {
    "duration": 64,
    "start_time": "2023-08-28T01:10:13.956Z"
   },
   {
    "duration": 148,
    "start_time": "2023-08-28T01:11:04.831Z"
   },
   {
    "duration": 60,
    "start_time": "2023-08-28T01:13:29.960Z"
   },
   {
    "duration": 24,
    "start_time": "2023-08-28T01:14:11.894Z"
   },
   {
    "duration": 294,
    "start_time": "2023-08-28T01:18:07.114Z"
   },
   {
    "duration": 15,
    "start_time": "2023-08-28T01:18:35.071Z"
   },
   {
    "duration": 424,
    "start_time": "2023-08-28T01:19:24.290Z"
   },
   {
    "duration": 156,
    "start_time": "2023-08-28T01:21:39.130Z"
   },
   {
    "duration": 52,
    "start_time": "2023-08-28T01:22:40.160Z"
   },
   {
    "duration": 52,
    "start_time": "2023-08-28T01:22:52.444Z"
   },
   {
    "duration": 52,
    "start_time": "2023-08-28T10:51:13.508Z"
   },
   {
    "duration": 7,
    "start_time": "2023-08-28T10:51:24.710Z"
   },
   {
    "duration": 2212,
    "start_time": "2023-08-28T10:51:31.203Z"
   },
   {
    "duration": 49,
    "start_time": "2023-08-28T10:51:33.417Z"
   },
   {
    "duration": 46,
    "start_time": "2023-08-28T10:51:33.468Z"
   },
   {
    "duration": 47,
    "start_time": "2023-08-28T10:51:33.516Z"
   },
   {
    "duration": 57,
    "start_time": "2023-08-28T10:51:33.565Z"
   },
   {
    "duration": 66,
    "start_time": "2023-08-28T10:51:33.624Z"
   },
   {
    "duration": 71,
    "start_time": "2023-08-28T10:51:33.692Z"
   },
   {
    "duration": 151,
    "start_time": "2023-08-28T10:51:33.764Z"
   },
   {
    "duration": 46,
    "start_time": "2023-08-28T10:51:33.917Z"
   },
   {
    "duration": 78,
    "start_time": "2023-08-28T10:51:33.965Z"
   },
   {
    "duration": 91,
    "start_time": "2023-08-28T10:51:34.045Z"
   },
   {
    "duration": 637,
    "start_time": "2023-08-28T10:51:34.138Z"
   },
   {
    "duration": 80,
    "start_time": "2023-08-28T10:51:34.777Z"
   },
   {
    "duration": 132,
    "start_time": "2023-08-28T10:51:34.860Z"
   },
   {
    "duration": 0,
    "start_time": "2023-08-28T10:51:34.993Z"
   },
   {
    "duration": 0,
    "start_time": "2023-08-28T10:51:34.994Z"
   },
   {
    "duration": 0,
    "start_time": "2023-08-28T10:51:34.996Z"
   },
   {
    "duration": 0,
    "start_time": "2023-08-28T10:51:34.998Z"
   },
   {
    "duration": 0,
    "start_time": "2023-08-28T10:51:34.999Z"
   },
   {
    "duration": 0,
    "start_time": "2023-08-28T10:51:35.001Z"
   },
   {
    "duration": 0,
    "start_time": "2023-08-28T10:51:35.003Z"
   },
   {
    "duration": 0,
    "start_time": "2023-08-28T10:51:35.005Z"
   },
   {
    "duration": 0,
    "start_time": "2023-08-28T10:51:35.007Z"
   },
   {
    "duration": 0,
    "start_time": "2023-08-28T10:51:35.008Z"
   },
   {
    "duration": 0,
    "start_time": "2023-08-28T10:51:35.009Z"
   },
   {
    "duration": 0,
    "start_time": "2023-08-28T10:51:35.011Z"
   },
   {
    "duration": 1,
    "start_time": "2023-08-28T10:51:35.012Z"
   },
   {
    "duration": 0,
    "start_time": "2023-08-28T10:51:35.014Z"
   },
   {
    "duration": 0,
    "start_time": "2023-08-28T10:51:35.016Z"
   },
   {
    "duration": 0,
    "start_time": "2023-08-28T10:51:35.017Z"
   },
   {
    "duration": 0,
    "start_time": "2023-08-28T10:51:35.019Z"
   },
   {
    "duration": 1818,
    "start_time": "2023-08-28T10:51:48.365Z"
   },
   {
    "duration": 49,
    "start_time": "2023-08-28T10:51:50.185Z"
   },
   {
    "duration": 49,
    "start_time": "2023-08-28T10:51:50.236Z"
   },
   {
    "duration": 43,
    "start_time": "2023-08-28T10:51:50.287Z"
   },
   {
    "duration": 33,
    "start_time": "2023-08-28T10:51:50.332Z"
   },
   {
    "duration": 87,
    "start_time": "2023-08-28T10:51:50.367Z"
   },
   {
    "duration": 94,
    "start_time": "2023-08-28T10:51:50.456Z"
   },
   {
    "duration": 131,
    "start_time": "2023-08-28T10:51:50.552Z"
   },
   {
    "duration": 53,
    "start_time": "2023-08-28T10:51:50.685Z"
   },
   {
    "duration": 74,
    "start_time": "2023-08-28T10:51:50.740Z"
   },
   {
    "duration": 111,
    "start_time": "2023-08-28T10:51:50.817Z"
   },
   {
    "duration": 817,
    "start_time": "2023-08-28T10:51:50.930Z"
   },
   {
    "duration": 98,
    "start_time": "2023-08-28T10:51:51.749Z"
   },
   {
    "duration": 161,
    "start_time": "2023-08-28T10:51:51.850Z"
   },
   {
    "duration": 40,
    "start_time": "2023-08-28T10:51:52.013Z"
   },
   {
    "duration": 105,
    "start_time": "2023-08-28T10:51:52.055Z"
   },
   {
    "duration": 198,
    "start_time": "2023-08-28T10:51:52.161Z"
   },
   {
    "duration": 488,
    "start_time": "2023-08-28T10:51:52.361Z"
   },
   {
    "duration": 557,
    "start_time": "2023-08-28T10:51:52.851Z"
   },
   {
    "duration": 431,
    "start_time": "2023-08-28T10:51:53.410Z"
   },
   {
    "duration": 80,
    "start_time": "2023-08-28T10:51:53.843Z"
   },
   {
    "duration": 69,
    "start_time": "2023-08-28T10:51:53.925Z"
   },
   {
    "duration": 265,
    "start_time": "2023-08-28T10:51:53.997Z"
   },
   {
    "duration": 42,
    "start_time": "2023-08-28T10:51:54.264Z"
   },
   {
    "duration": 660,
    "start_time": "2023-08-28T10:51:54.308Z"
   },
   {
    "duration": 547,
    "start_time": "2023-08-28T10:51:54.969Z"
   },
   {
    "duration": 1831,
    "start_time": "2023-08-28T10:51:55.518Z"
   },
   {
    "duration": 99,
    "start_time": "2023-08-28T10:51:57.351Z"
   },
   {
    "duration": 33,
    "start_time": "2023-08-28T10:51:57.452Z"
   },
   {
    "duration": 71,
    "start_time": "2023-08-28T10:51:57.488Z"
   },
   {
    "duration": 1666,
    "start_time": "2023-08-28T10:59:01.376Z"
   },
   {
    "duration": 49,
    "start_time": "2023-08-28T10:59:03.045Z"
   },
   {
    "duration": 58,
    "start_time": "2023-08-28T10:59:03.095Z"
   },
   {
    "duration": 34,
    "start_time": "2023-08-28T10:59:03.154Z"
   },
   {
    "duration": 36,
    "start_time": "2023-08-28T10:59:03.191Z"
   },
   {
    "duration": 65,
    "start_time": "2023-08-28T10:59:03.229Z"
   },
   {
    "duration": 67,
    "start_time": "2023-08-28T10:59:03.296Z"
   },
   {
    "duration": 124,
    "start_time": "2023-08-28T10:59:03.364Z"
   },
   {
    "duration": 45,
    "start_time": "2023-08-28T10:59:03.490Z"
   },
   {
    "duration": 68,
    "start_time": "2023-08-28T10:59:03.537Z"
   },
   {
    "duration": 87,
    "start_time": "2023-08-28T10:59:03.607Z"
   },
   {
    "duration": 609,
    "start_time": "2023-08-28T10:59:03.696Z"
   },
   {
    "duration": 79,
    "start_time": "2023-08-28T10:59:04.307Z"
   },
   {
    "duration": 128,
    "start_time": "2023-08-28T10:59:04.389Z"
   },
   {
    "duration": 39,
    "start_time": "2023-08-28T10:59:04.518Z"
   },
   {
    "duration": 86,
    "start_time": "2023-08-28T10:59:04.558Z"
   },
   {
    "duration": 167,
    "start_time": "2023-08-28T10:59:04.646Z"
   },
   {
    "duration": 1660,
    "start_time": "2023-08-28T11:02:25.064Z"
   },
   {
    "duration": 48,
    "start_time": "2023-08-28T11:02:26.726Z"
   },
   {
    "duration": 47,
    "start_time": "2023-08-28T11:02:26.778Z"
   },
   {
    "duration": 40,
    "start_time": "2023-08-28T11:02:26.827Z"
   },
   {
    "duration": 34,
    "start_time": "2023-08-28T11:02:26.882Z"
   },
   {
    "duration": 79,
    "start_time": "2023-08-28T11:02:26.918Z"
   },
   {
    "duration": 63,
    "start_time": "2023-08-28T11:02:26.999Z"
   },
   {
    "duration": 127,
    "start_time": "2023-08-28T11:02:27.081Z"
   },
   {
    "duration": 62,
    "start_time": "2023-08-28T11:02:27.211Z"
   },
   {
    "duration": 53,
    "start_time": "2023-08-28T11:02:27.281Z"
   },
   {
    "duration": 90,
    "start_time": "2023-08-28T11:02:27.336Z"
   },
   {
    "duration": 605,
    "start_time": "2023-08-28T11:02:27.428Z"
   },
   {
    "duration": 85,
    "start_time": "2023-08-28T11:02:28.034Z"
   },
   {
    "duration": 136,
    "start_time": "2023-08-28T11:02:28.120Z"
   },
   {
    "duration": 48,
    "start_time": "2023-08-28T11:02:28.257Z"
   },
   {
    "duration": 79,
    "start_time": "2023-08-28T11:02:28.307Z"
   },
   {
    "duration": 170,
    "start_time": "2023-08-28T11:02:28.387Z"
   },
   {
    "duration": 430,
    "start_time": "2023-08-28T11:02:28.559Z"
   },
   {
    "duration": 530,
    "start_time": "2023-08-28T11:02:28.990Z"
   },
   {
    "duration": 409,
    "start_time": "2023-08-28T11:02:29.522Z"
   },
   {
    "duration": 79,
    "start_time": "2023-08-28T11:02:29.933Z"
   },
   {
    "duration": 71,
    "start_time": "2023-08-28T11:02:30.014Z"
   },
   {
    "duration": 254,
    "start_time": "2023-08-28T11:02:30.087Z"
   },
   {
    "duration": 18,
    "start_time": "2023-08-28T11:02:30.343Z"
   },
   {
    "duration": 629,
    "start_time": "2023-08-28T11:02:30.362Z"
   },
   {
    "duration": 479,
    "start_time": "2023-08-28T11:02:30.993Z"
   },
   {
    "duration": 1538,
    "start_time": "2023-08-28T11:02:31.475Z"
   },
   {
    "duration": 79,
    "start_time": "2023-08-28T11:02:33.015Z"
   },
   {
    "duration": 26,
    "start_time": "2023-08-28T11:02:33.096Z"
   },
   {
    "duration": 91,
    "start_time": "2023-08-28T11:02:33.124Z"
   },
   {
    "duration": 15,
    "start_time": "2023-08-28T11:04:06.006Z"
   },
   {
    "duration": 14,
    "start_time": "2023-08-28T11:12:59.448Z"
   },
   {
    "duration": 20,
    "start_time": "2023-08-28T11:13:15.088Z"
   },
   {
    "duration": 21,
    "start_time": "2023-08-28T11:16:33.350Z"
   },
   {
    "duration": 1729,
    "start_time": "2023-08-28T11:17:04.382Z"
   },
   {
    "duration": 49,
    "start_time": "2023-08-28T11:17:06.113Z"
   },
   {
    "duration": 36,
    "start_time": "2023-08-28T11:17:06.163Z"
   },
   {
    "duration": 44,
    "start_time": "2023-08-28T11:17:06.201Z"
   },
   {
    "duration": 47,
    "start_time": "2023-08-28T11:17:06.248Z"
   },
   {
    "duration": 68,
    "start_time": "2023-08-28T11:17:06.297Z"
   },
   {
    "duration": 88,
    "start_time": "2023-08-28T11:17:06.367Z"
   },
   {
    "duration": 136,
    "start_time": "2023-08-28T11:17:06.457Z"
   },
   {
    "duration": 62,
    "start_time": "2023-08-28T11:17:06.595Z"
   },
   {
    "duration": 77,
    "start_time": "2023-08-28T11:17:06.659Z"
   },
   {
    "duration": 91,
    "start_time": "2023-08-28T11:17:06.738Z"
   },
   {
    "duration": 656,
    "start_time": "2023-08-28T11:17:06.831Z"
   },
   {
    "duration": 74,
    "start_time": "2023-08-28T11:17:07.489Z"
   },
   {
    "duration": 130,
    "start_time": "2023-08-28T11:17:07.580Z"
   },
   {
    "duration": 41,
    "start_time": "2023-08-28T11:17:07.712Z"
   },
   {
    "duration": 99,
    "start_time": "2023-08-28T11:17:07.755Z"
   },
   {
    "duration": 172,
    "start_time": "2023-08-28T11:17:07.856Z"
   },
   {
    "duration": 420,
    "start_time": "2023-08-28T11:17:08.030Z"
   },
   {
    "duration": 492,
    "start_time": "2023-08-28T11:17:08.452Z"
   },
   {
    "duration": 390,
    "start_time": "2023-08-28T11:17:08.945Z"
   },
   {
    "duration": 85,
    "start_time": "2023-08-28T11:17:09.337Z"
   },
   {
    "duration": 73,
    "start_time": "2023-08-28T11:17:09.424Z"
   },
   {
    "duration": 237,
    "start_time": "2023-08-28T11:17:09.498Z"
   },
   {
    "duration": 15,
    "start_time": "2023-08-28T11:17:09.737Z"
   },
   {
    "duration": 628,
    "start_time": "2023-08-28T11:17:09.753Z"
   },
   {
    "duration": 465,
    "start_time": "2023-08-28T11:17:10.383Z"
   },
   {
    "duration": 1566,
    "start_time": "2023-08-28T11:17:10.850Z"
   },
   {
    "duration": 93,
    "start_time": "2023-08-28T11:17:12.418Z"
   },
   {
    "duration": 21,
    "start_time": "2023-08-28T11:17:12.512Z"
   },
   {
    "duration": 156,
    "start_time": "2023-08-28T11:17:12.535Z"
   },
   {
    "duration": 22,
    "start_time": "2023-08-28T11:17:12.693Z"
   },
   {
    "duration": 27,
    "start_time": "2023-08-28T11:17:12.717Z"
   },
   {
    "duration": 88,
    "start_time": "2023-08-28T11:17:12.745Z"
   },
   {
    "duration": 21,
    "start_time": "2023-08-28T11:17:12.835Z"
   },
   {
    "duration": 167,
    "start_time": "2023-08-28T11:18:33.070Z"
   },
   {
    "duration": 110,
    "start_time": "2023-08-28T11:19:12.638Z"
   },
   {
    "duration": 1637,
    "start_time": "2023-08-28T11:19:39.223Z"
   },
   {
    "duration": 47,
    "start_time": "2023-08-28T11:19:40.862Z"
   },
   {
    "duration": 33,
    "start_time": "2023-08-28T11:19:40.911Z"
   },
   {
    "duration": 48,
    "start_time": "2023-08-28T11:19:40.946Z"
   },
   {
    "duration": 46,
    "start_time": "2023-08-28T11:19:40.996Z"
   },
   {
    "duration": 72,
    "start_time": "2023-08-28T11:19:41.044Z"
   },
   {
    "duration": 84,
    "start_time": "2023-08-28T11:19:41.118Z"
   },
   {
    "duration": 108,
    "start_time": "2023-08-28T11:19:41.204Z"
   },
   {
    "duration": 44,
    "start_time": "2023-08-28T11:19:41.313Z"
   },
   {
    "duration": 70,
    "start_time": "2023-08-28T11:19:41.359Z"
   },
   {
    "duration": 98,
    "start_time": "2023-08-28T11:19:41.431Z"
   },
   {
    "duration": 624,
    "start_time": "2023-08-28T11:19:41.531Z"
   },
   {
    "duration": 74,
    "start_time": "2023-08-28T11:19:42.157Z"
   },
   {
    "duration": 140,
    "start_time": "2023-08-28T11:19:42.234Z"
   },
   {
    "duration": 38,
    "start_time": "2023-08-28T11:19:42.381Z"
   },
   {
    "duration": 112,
    "start_time": "2023-08-28T11:19:42.421Z"
   },
   {
    "duration": 171,
    "start_time": "2023-08-28T11:19:42.535Z"
   },
   {
    "duration": 424,
    "start_time": "2023-08-28T11:19:42.708Z"
   },
   {
    "duration": 492,
    "start_time": "2023-08-28T11:19:43.134Z"
   },
   {
    "duration": 408,
    "start_time": "2023-08-28T11:19:43.628Z"
   },
   {
    "duration": 86,
    "start_time": "2023-08-28T11:19:44.037Z"
   },
   {
    "duration": 79,
    "start_time": "2023-08-28T11:19:44.125Z"
   },
   {
    "duration": 235,
    "start_time": "2023-08-28T11:19:44.207Z"
   },
   {
    "duration": 52,
    "start_time": "2023-08-28T11:19:44.444Z"
   },
   {
    "duration": 618,
    "start_time": "2023-08-28T11:19:44.498Z"
   },
   {
    "duration": 457,
    "start_time": "2023-08-28T11:19:45.118Z"
   },
   {
    "duration": 1608,
    "start_time": "2023-08-28T11:19:45.577Z"
   },
   {
    "duration": 113,
    "start_time": "2023-08-28T11:19:47.188Z"
   },
   {
    "duration": 32,
    "start_time": "2023-08-28T11:19:47.302Z"
   },
   {
    "duration": 25,
    "start_time": "2023-08-28T11:19:47.336Z"
   },
   {
    "duration": 30,
    "start_time": "2023-08-28T11:19:47.381Z"
   },
   {
    "duration": 91,
    "start_time": "2023-08-28T11:19:47.413Z"
   },
   {
    "duration": 21,
    "start_time": "2023-08-28T11:19:47.505Z"
   },
   {
    "duration": 1162,
    "start_time": "2023-08-28T11:20:27.067Z"
   },
   {
    "duration": 1687,
    "start_time": "2023-08-28T11:20:45.583Z"
   },
   {
    "duration": 51,
    "start_time": "2023-08-28T11:20:47.272Z"
   },
   {
    "duration": 56,
    "start_time": "2023-08-28T11:20:47.325Z"
   },
   {
    "duration": 29,
    "start_time": "2023-08-28T11:20:47.383Z"
   },
   {
    "duration": 33,
    "start_time": "2023-08-28T11:20:47.414Z"
   },
   {
    "duration": 88,
    "start_time": "2023-08-28T11:20:47.450Z"
   },
   {
    "duration": 89,
    "start_time": "2023-08-28T11:20:47.541Z"
   },
   {
    "duration": 116,
    "start_time": "2023-08-28T11:20:47.632Z"
   },
   {
    "duration": 59,
    "start_time": "2023-08-28T11:20:47.750Z"
   },
   {
    "duration": 70,
    "start_time": "2023-08-28T11:20:47.811Z"
   },
   {
    "duration": 76,
    "start_time": "2023-08-28T11:20:47.883Z"
   },
   {
    "duration": 620,
    "start_time": "2023-08-28T11:20:47.961Z"
   },
   {
    "duration": 73,
    "start_time": "2023-08-28T11:20:48.583Z"
   },
   {
    "duration": 147,
    "start_time": "2023-08-28T11:20:48.660Z"
   },
   {
    "duration": 40,
    "start_time": "2023-08-28T11:20:48.809Z"
   },
   {
    "duration": 96,
    "start_time": "2023-08-28T11:20:48.852Z"
   },
   {
    "duration": 177,
    "start_time": "2023-08-28T11:20:48.950Z"
   },
   {
    "duration": 429,
    "start_time": "2023-08-28T11:20:49.129Z"
   },
   {
    "duration": 500,
    "start_time": "2023-08-28T11:20:49.560Z"
   },
   {
    "duration": 424,
    "start_time": "2023-08-28T11:20:50.062Z"
   },
   {
    "duration": 68,
    "start_time": "2023-08-28T11:20:50.488Z"
   },
   {
    "duration": 74,
    "start_time": "2023-08-28T11:20:50.557Z"
   },
   {
    "duration": 290,
    "start_time": "2023-08-28T11:20:50.633Z"
   },
   {
    "duration": 16,
    "start_time": "2023-08-28T11:20:50.924Z"
   },
   {
    "duration": 643,
    "start_time": "2023-08-28T11:20:50.942Z"
   },
   {
    "duration": 476,
    "start_time": "2023-08-28T11:20:51.587Z"
   },
   {
    "duration": 1562,
    "start_time": "2023-08-28T11:20:52.064Z"
   },
   {
    "duration": 98,
    "start_time": "2023-08-28T11:20:53.628Z"
   },
   {
    "duration": 2616,
    "start_time": "2023-08-28T11:20:53.728Z"
   },
   {
    "duration": 0,
    "start_time": "2023-08-28T11:20:56.346Z"
   },
   {
    "duration": 0,
    "start_time": "2023-08-28T11:20:56.347Z"
   },
   {
    "duration": 0,
    "start_time": "2023-08-28T11:20:56.348Z"
   },
   {
    "duration": 0,
    "start_time": "2023-08-28T11:20:56.349Z"
   },
   {
    "duration": 0,
    "start_time": "2023-08-28T11:20:56.350Z"
   },
   {
    "duration": 1643,
    "start_time": "2023-08-28T11:21:41.138Z"
   },
   {
    "duration": 48,
    "start_time": "2023-08-28T11:21:42.783Z"
   },
   {
    "duration": 51,
    "start_time": "2023-08-28T11:21:42.833Z"
   },
   {
    "duration": 29,
    "start_time": "2023-08-28T11:21:42.885Z"
   },
   {
    "duration": 32,
    "start_time": "2023-08-28T11:21:42.916Z"
   },
   {
    "duration": 80,
    "start_time": "2023-08-28T11:21:42.950Z"
   },
   {
    "duration": 84,
    "start_time": "2023-08-28T11:21:43.031Z"
   },
   {
    "duration": 127,
    "start_time": "2023-08-28T11:21:43.116Z"
   },
   {
    "duration": 58,
    "start_time": "2023-08-28T11:21:43.245Z"
   },
   {
    "duration": 64,
    "start_time": "2023-08-28T11:21:43.305Z"
   },
   {
    "duration": 85,
    "start_time": "2023-08-28T11:21:43.370Z"
   },
   {
    "duration": 637,
    "start_time": "2023-08-28T11:21:43.458Z"
   },
   {
    "duration": 72,
    "start_time": "2023-08-28T11:21:44.097Z"
   },
   {
    "duration": 129,
    "start_time": "2023-08-28T11:21:44.183Z"
   },
   {
    "duration": 39,
    "start_time": "2023-08-28T11:21:44.314Z"
   },
   {
    "duration": 98,
    "start_time": "2023-08-28T11:21:44.354Z"
   },
   {
    "duration": 177,
    "start_time": "2023-08-28T11:21:44.454Z"
   },
   {
    "duration": 412,
    "start_time": "2023-08-28T11:21:44.633Z"
   },
   {
    "duration": 511,
    "start_time": "2023-08-28T11:21:45.046Z"
   },
   {
    "duration": 423,
    "start_time": "2023-08-28T11:21:45.558Z"
   },
   {
    "duration": 71,
    "start_time": "2023-08-28T11:21:45.983Z"
   },
   {
    "duration": 78,
    "start_time": "2023-08-28T11:21:46.056Z"
   },
   {
    "duration": 284,
    "start_time": "2023-08-28T11:21:46.135Z"
   },
   {
    "duration": 17,
    "start_time": "2023-08-28T11:21:46.421Z"
   },
   {
    "duration": 655,
    "start_time": "2023-08-28T11:21:46.439Z"
   },
   {
    "duration": 463,
    "start_time": "2023-08-28T11:21:47.096Z"
   },
   {
    "duration": 1556,
    "start_time": "2023-08-28T11:21:47.561Z"
   },
   {
    "duration": 94,
    "start_time": "2023-08-28T11:21:49.119Z"
   },
   {
    "duration": 93,
    "start_time": "2023-08-28T11:21:49.215Z"
   },
   {
    "duration": 101,
    "start_time": "2023-08-28T11:21:49.309Z"
   },
   {
    "duration": 32,
    "start_time": "2023-08-28T11:21:49.411Z"
   },
   {
    "duration": 44,
    "start_time": "2023-08-28T11:21:49.445Z"
   },
   {
    "duration": 26,
    "start_time": "2023-08-28T11:21:49.491Z"
   },
   {
    "duration": 89,
    "start_time": "2023-08-28T11:21:49.520Z"
   },
   {
    "duration": 28,
    "start_time": "2023-08-28T11:21:49.611Z"
   },
   {
    "duration": 58,
    "start_time": "2023-08-28T11:24:29.902Z"
   },
   {
    "duration": 87,
    "start_time": "2023-08-28T11:26:58.136Z"
   },
   {
    "duration": 1651,
    "start_time": "2023-08-28T11:27:24.022Z"
   },
   {
    "duration": 64,
    "start_time": "2023-08-28T11:27:25.675Z"
   },
   {
    "duration": 41,
    "start_time": "2023-08-28T11:27:25.741Z"
   },
   {
    "duration": 29,
    "start_time": "2023-08-28T11:27:25.785Z"
   },
   {
    "duration": 35,
    "start_time": "2023-08-28T11:27:25.816Z"
   },
   {
    "duration": 93,
    "start_time": "2023-08-28T11:27:25.853Z"
   },
   {
    "duration": 84,
    "start_time": "2023-08-28T11:27:25.947Z"
   },
   {
    "duration": 132,
    "start_time": "2023-08-28T11:27:26.033Z"
   },
   {
    "duration": 53,
    "start_time": "2023-08-28T11:27:26.167Z"
   },
   {
    "duration": 78,
    "start_time": "2023-08-28T11:27:26.223Z"
   },
   {
    "duration": 102,
    "start_time": "2023-08-28T11:27:26.303Z"
   },
   {
    "duration": 662,
    "start_time": "2023-08-28T11:27:26.407Z"
   },
   {
    "duration": 86,
    "start_time": "2023-08-28T11:27:27.071Z"
   },
   {
    "duration": 165,
    "start_time": "2023-08-28T11:27:27.159Z"
   },
   {
    "duration": 76,
    "start_time": "2023-08-28T11:27:27.327Z"
   },
   {
    "duration": 84,
    "start_time": "2023-08-28T11:27:27.404Z"
   },
   {
    "duration": 169,
    "start_time": "2023-08-28T11:27:27.490Z"
   },
   {
    "duration": 488,
    "start_time": "2023-08-28T11:27:27.661Z"
   },
   {
    "duration": 520,
    "start_time": "2023-08-28T11:27:28.151Z"
   },
   {
    "duration": 472,
    "start_time": "2023-08-28T11:27:28.673Z"
   },
   {
    "duration": 88,
    "start_time": "2023-08-28T11:27:29.147Z"
   },
   {
    "duration": 84,
    "start_time": "2023-08-28T11:27:29.237Z"
   },
   {
    "duration": 308,
    "start_time": "2023-08-28T11:27:29.324Z"
   },
   {
    "duration": 16,
    "start_time": "2023-08-28T11:27:29.634Z"
   },
   {
    "duration": 705,
    "start_time": "2023-08-28T11:27:29.652Z"
   },
   {
    "duration": 473,
    "start_time": "2023-08-28T11:27:30.359Z"
   },
   {
    "duration": 1620,
    "start_time": "2023-08-28T11:27:30.833Z"
   },
   {
    "duration": 85,
    "start_time": "2023-08-28T11:27:32.456Z"
   },
   {
    "duration": 71,
    "start_time": "2023-08-28T11:27:32.543Z"
   },
   {
    "duration": 35,
    "start_time": "2023-08-28T11:27:32.615Z"
   },
   {
    "duration": 43,
    "start_time": "2023-08-28T11:27:32.652Z"
   },
   {
    "duration": 25,
    "start_time": "2023-08-28T11:27:32.697Z"
   },
   {
    "duration": 90,
    "start_time": "2023-08-28T11:27:32.724Z"
   },
   {
    "duration": 20,
    "start_time": "2023-08-28T11:27:32.816Z"
   },
   {
    "duration": 80,
    "start_time": "2023-08-28T11:28:34.816Z"
   },
   {
    "duration": 88,
    "start_time": "2023-08-28T11:30:09.769Z"
   },
   {
    "duration": 1630,
    "start_time": "2023-08-28T11:30:24.539Z"
   },
   {
    "duration": 51,
    "start_time": "2023-08-28T11:30:26.171Z"
   },
   {
    "duration": 36,
    "start_time": "2023-08-28T11:30:26.224Z"
   },
   {
    "duration": 48,
    "start_time": "2023-08-28T11:30:26.262Z"
   },
   {
    "duration": 39,
    "start_time": "2023-08-28T11:30:26.313Z"
   },
   {
    "duration": 87,
    "start_time": "2023-08-28T11:30:26.354Z"
   },
   {
    "duration": 86,
    "start_time": "2023-08-28T11:30:26.443Z"
   },
   {
    "duration": 152,
    "start_time": "2023-08-28T11:30:26.531Z"
   },
   {
    "duration": 48,
    "start_time": "2023-08-28T11:30:26.685Z"
   },
   {
    "duration": 80,
    "start_time": "2023-08-28T11:30:26.734Z"
   },
   {
    "duration": 91,
    "start_time": "2023-08-28T11:30:26.815Z"
   },
   {
    "duration": 659,
    "start_time": "2023-08-28T11:30:26.908Z"
   },
   {
    "duration": 77,
    "start_time": "2023-08-28T11:30:27.569Z"
   },
   {
    "duration": 155,
    "start_time": "2023-08-28T11:30:27.649Z"
   },
   {
    "duration": 40,
    "start_time": "2023-08-28T11:30:27.805Z"
   },
   {
    "duration": 98,
    "start_time": "2023-08-28T11:30:27.847Z"
   },
   {
    "duration": 175,
    "start_time": "2023-08-28T11:30:27.947Z"
   },
   {
    "duration": 420,
    "start_time": "2023-08-28T11:30:28.124Z"
   },
   {
    "duration": 502,
    "start_time": "2023-08-28T11:30:28.546Z"
   },
   {
    "duration": 426,
    "start_time": "2023-08-28T11:30:29.049Z"
   },
   {
    "duration": 78,
    "start_time": "2023-08-28T11:30:29.476Z"
   },
   {
    "duration": 81,
    "start_time": "2023-08-28T11:30:29.555Z"
   },
   {
    "duration": 301,
    "start_time": "2023-08-28T11:30:29.637Z"
   },
   {
    "duration": 16,
    "start_time": "2023-08-28T11:30:29.940Z"
   },
   {
    "duration": 650,
    "start_time": "2023-08-28T11:30:29.958Z"
   },
   {
    "duration": 461,
    "start_time": "2023-08-28T11:30:30.609Z"
   },
   {
    "duration": 1590,
    "start_time": "2023-08-28T11:30:31.071Z"
   },
   {
    "duration": 87,
    "start_time": "2023-08-28T11:30:32.663Z"
   },
   {
    "duration": 74,
    "start_time": "2023-08-28T11:30:32.752Z"
   },
   {
    "duration": 31,
    "start_time": "2023-08-28T11:30:32.828Z"
   },
   {
    "duration": 33,
    "start_time": "2023-08-28T11:30:32.860Z"
   },
   {
    "duration": 29,
    "start_time": "2023-08-28T11:30:32.894Z"
   },
   {
    "duration": 91,
    "start_time": "2023-08-28T11:30:32.925Z"
   },
   {
    "duration": 20,
    "start_time": "2023-08-28T11:30:33.017Z"
   },
   {
    "duration": 21,
    "start_time": "2023-08-28T11:30:47.076Z"
   },
   {
    "duration": 31,
    "start_time": "2023-08-28T11:32:52.177Z"
   },
   {
    "duration": 21,
    "start_time": "2023-08-28T11:32:52.901Z"
   },
   {
    "duration": 116,
    "start_time": "2023-08-28T11:37:04.660Z"
   },
   {
    "duration": 2149,
    "start_time": "2023-08-28T11:37:44.510Z"
   },
   {
    "duration": 62,
    "start_time": "2023-08-28T11:37:46.663Z"
   },
   {
    "duration": 35,
    "start_time": "2023-08-28T11:37:46.727Z"
   },
   {
    "duration": 48,
    "start_time": "2023-08-28T11:37:46.764Z"
   },
   {
    "duration": 35,
    "start_time": "2023-08-28T11:37:46.814Z"
   },
   {
    "duration": 99,
    "start_time": "2023-08-28T11:37:46.851Z"
   },
   {
    "duration": 94,
    "start_time": "2023-08-28T11:37:46.953Z"
   },
   {
    "duration": 142,
    "start_time": "2023-08-28T11:37:47.049Z"
   },
   {
    "duration": 66,
    "start_time": "2023-08-28T11:37:47.193Z"
   },
   {
    "duration": 70,
    "start_time": "2023-08-28T11:37:47.261Z"
   },
   {
    "duration": 90,
    "start_time": "2023-08-28T11:37:47.332Z"
   },
   {
    "duration": 718,
    "start_time": "2023-08-28T11:37:47.423Z"
   },
   {
    "duration": 97,
    "start_time": "2023-08-28T11:37:48.143Z"
   },
   {
    "duration": 137,
    "start_time": "2023-08-28T11:37:48.244Z"
   },
   {
    "duration": 39,
    "start_time": "2023-08-28T11:37:48.382Z"
   },
   {
    "duration": 98,
    "start_time": "2023-08-28T11:37:48.422Z"
   },
   {
    "duration": 172,
    "start_time": "2023-08-28T11:37:48.522Z"
   },
   {
    "duration": 463,
    "start_time": "2023-08-28T11:37:48.695Z"
   },
   {
    "duration": 474,
    "start_time": "2023-08-28T11:37:49.160Z"
   },
   {
    "duration": 400,
    "start_time": "2023-08-28T11:37:49.636Z"
   },
   {
    "duration": 104,
    "start_time": "2023-08-28T11:37:50.038Z"
   },
   {
    "duration": 85,
    "start_time": "2023-08-28T11:37:50.144Z"
   },
   {
    "duration": 284,
    "start_time": "2023-08-28T11:37:50.231Z"
   },
   {
    "duration": 19,
    "start_time": "2023-08-28T11:37:50.517Z"
   },
   {
    "duration": 620,
    "start_time": "2023-08-28T11:37:50.538Z"
   },
   {
    "duration": 467,
    "start_time": "2023-08-28T11:37:51.160Z"
   },
   {
    "duration": 1652,
    "start_time": "2023-08-28T11:37:51.629Z"
   },
   {
    "duration": 75,
    "start_time": "2023-08-28T11:37:53.282Z"
   },
   {
    "duration": 73,
    "start_time": "2023-08-28T11:37:53.358Z"
   },
   {
    "duration": 51,
    "start_time": "2023-08-28T11:37:53.433Z"
   },
   {
    "duration": 1965,
    "start_time": "2023-08-28T11:37:53.486Z"
   },
   {
    "duration": 113,
    "start_time": "2023-08-28T11:37:55.453Z"
   },
   {
    "duration": 440,
    "start_time": "2023-08-28T11:37:55.568Z"
   },
   {
    "duration": 28,
    "start_time": "2023-08-28T11:37:56.009Z"
   },
   {
    "duration": 106,
    "start_time": "2023-08-28T11:37:56.038Z"
   },
   {
    "duration": 35,
    "start_time": "2023-08-28T11:37:56.147Z"
   },
   {
    "duration": 4,
    "start_time": "2023-08-28T11:39:02.161Z"
   },
   {
    "duration": 6,
    "start_time": "2023-08-28T11:41:14.353Z"
   },
   {
    "duration": 445,
    "start_time": "2023-08-28T11:44:33.780Z"
   },
   {
    "duration": 17,
    "start_time": "2023-08-28T11:45:19.541Z"
   },
   {
    "duration": 723,
    "start_time": "2023-08-28T11:48:07.245Z"
   },
   {
    "duration": 128,
    "start_time": "2023-08-28T11:48:30.489Z"
   },
   {
    "duration": 16,
    "start_time": "2023-08-28T11:48:37.059Z"
   },
   {
    "duration": 11,
    "start_time": "2023-08-28T11:50:33.045Z"
   },
   {
    "duration": 14,
    "start_time": "2023-08-28T11:51:18.581Z"
   },
   {
    "duration": 297,
    "start_time": "2023-08-28T11:52:27.076Z"
   },
   {
    "duration": 19,
    "start_time": "2023-08-28T11:52:31.711Z"
   },
   {
    "duration": 72,
    "start_time": "2023-08-28T11:53:13.595Z"
   },
   {
    "duration": 77,
    "start_time": "2023-08-28T11:53:19.990Z"
   },
   {
    "duration": 16,
    "start_time": "2023-08-28T11:53:23.960Z"
   },
   {
    "duration": 14,
    "start_time": "2023-08-28T11:55:10.483Z"
   },
   {
    "duration": 560,
    "start_time": "2023-08-28T11:55:50.189Z"
   },
   {
    "duration": 2212,
    "start_time": "2023-08-28T12:09:49.452Z"
   },
   {
    "duration": 57,
    "start_time": "2023-08-28T12:09:51.665Z"
   },
   {
    "duration": 33,
    "start_time": "2023-08-28T12:09:51.724Z"
   },
   {
    "duration": 52,
    "start_time": "2023-08-28T12:09:51.759Z"
   },
   {
    "duration": 41,
    "start_time": "2023-08-28T12:09:51.813Z"
   },
   {
    "duration": 83,
    "start_time": "2023-08-28T12:09:51.856Z"
   },
   {
    "duration": 90,
    "start_time": "2023-08-28T12:09:51.941Z"
   },
   {
    "duration": 121,
    "start_time": "2023-08-28T12:09:52.033Z"
   },
   {
    "duration": 56,
    "start_time": "2023-08-28T12:09:52.155Z"
   },
   {
    "duration": 73,
    "start_time": "2023-08-28T12:09:52.214Z"
   },
   {
    "duration": 76,
    "start_time": "2023-08-28T12:09:52.289Z"
   },
   {
    "duration": 720,
    "start_time": "2023-08-28T12:09:52.368Z"
   },
   {
    "duration": 69,
    "start_time": "2023-08-28T12:09:53.090Z"
   },
   {
    "duration": 143,
    "start_time": "2023-08-28T12:09:53.160Z"
   },
   {
    "duration": 38,
    "start_time": "2023-08-28T12:09:53.305Z"
   },
   {
    "duration": 101,
    "start_time": "2023-08-28T12:09:53.345Z"
   },
   {
    "duration": 169,
    "start_time": "2023-08-28T12:09:53.448Z"
   },
   {
    "duration": 418,
    "start_time": "2023-08-28T12:09:53.619Z"
   },
   {
    "duration": 425,
    "start_time": "2023-08-28T12:09:54.039Z"
   },
   {
    "duration": 451,
    "start_time": "2023-08-28T12:09:54.465Z"
   },
   {
    "duration": 83,
    "start_time": "2023-08-28T12:09:54.918Z"
   },
   {
    "duration": 62,
    "start_time": "2023-08-28T12:09:55.003Z"
   },
   {
    "duration": 288,
    "start_time": "2023-08-28T12:09:55.067Z"
   },
   {
    "duration": 25,
    "start_time": "2023-08-28T12:09:55.357Z"
   },
   {
    "duration": 630,
    "start_time": "2023-08-28T12:09:55.384Z"
   },
   {
    "duration": 476,
    "start_time": "2023-08-28T12:09:56.016Z"
   },
   {
    "duration": 1736,
    "start_time": "2023-08-28T12:09:56.495Z"
   },
   {
    "duration": 72,
    "start_time": "2023-08-28T12:09:58.234Z"
   },
   {
    "duration": 57,
    "start_time": "2023-08-28T12:09:58.308Z"
   },
   {
    "duration": 47,
    "start_time": "2023-08-28T12:09:58.367Z"
   },
   {
    "duration": 1973,
    "start_time": "2023-08-28T12:09:58.416Z"
   },
   {
    "duration": 580,
    "start_time": "2023-08-28T12:10:00.392Z"
   },
   {
    "duration": 16,
    "start_time": "2023-08-28T12:10:00.974Z"
   },
   {
    "duration": 94,
    "start_time": "2023-08-28T12:10:00.993Z"
   },
   {
    "duration": 81,
    "start_time": "2023-08-28T12:10:01.088Z"
   },
   {
    "duration": 148,
    "start_time": "2023-08-28T12:20:45.258Z"
   },
   {
    "duration": 2275,
    "start_time": "2023-08-28T12:21:27.712Z"
   },
   {
    "duration": 51,
    "start_time": "2023-08-28T12:21:29.991Z"
   },
   {
    "duration": 56,
    "start_time": "2023-08-28T12:21:30.044Z"
   },
   {
    "duration": 64,
    "start_time": "2023-08-28T12:21:30.102Z"
   },
   {
    "duration": 34,
    "start_time": "2023-08-28T12:21:30.169Z"
   },
   {
    "duration": 79,
    "start_time": "2023-08-28T12:21:30.205Z"
   },
   {
    "duration": 69,
    "start_time": "2023-08-28T12:21:30.286Z"
   },
   {
    "duration": 136,
    "start_time": "2023-08-28T12:21:30.357Z"
   },
   {
    "duration": 49,
    "start_time": "2023-08-28T12:21:30.495Z"
   },
   {
    "duration": 78,
    "start_time": "2023-08-28T12:21:30.546Z"
   },
   {
    "duration": 92,
    "start_time": "2023-08-28T12:21:30.626Z"
   },
   {
    "duration": 727,
    "start_time": "2023-08-28T12:21:30.720Z"
   },
   {
    "duration": 86,
    "start_time": "2023-08-28T12:21:31.450Z"
   },
   {
    "duration": 214,
    "start_time": "2023-08-28T12:21:31.539Z"
   },
   {
    "duration": 45,
    "start_time": "2023-08-28T12:21:31.755Z"
   },
   {
    "duration": 112,
    "start_time": "2023-08-28T12:21:31.802Z"
   },
   {
    "duration": 180,
    "start_time": "2023-08-28T12:21:31.916Z"
   },
   {
    "duration": 494,
    "start_time": "2023-08-28T12:21:32.098Z"
   },
   {
    "duration": 438,
    "start_time": "2023-08-28T12:21:32.594Z"
   },
   {
    "duration": 426,
    "start_time": "2023-08-28T12:21:33.033Z"
   },
   {
    "duration": 79,
    "start_time": "2023-08-28T12:21:33.461Z"
   },
   {
    "duration": 72,
    "start_time": "2023-08-28T12:21:33.542Z"
   },
   {
    "duration": 296,
    "start_time": "2023-08-28T12:21:33.616Z"
   },
   {
    "duration": 15,
    "start_time": "2023-08-28T12:21:33.913Z"
   },
   {
    "duration": 607,
    "start_time": "2023-08-28T12:21:33.930Z"
   },
   {
    "duration": 447,
    "start_time": "2023-08-28T12:21:34.539Z"
   },
   {
    "duration": 1766,
    "start_time": "2023-08-28T12:21:34.988Z"
   },
   {
    "duration": 72,
    "start_time": "2023-08-28T12:21:36.756Z"
   },
   {
    "duration": 81,
    "start_time": "2023-08-28T12:21:36.830Z"
   },
   {
    "duration": 48,
    "start_time": "2023-08-28T12:21:36.913Z"
   },
   {
    "duration": 2022,
    "start_time": "2023-08-28T12:21:36.963Z"
   },
   {
    "duration": 613,
    "start_time": "2023-08-28T12:21:38.988Z"
   },
   {
    "duration": 15,
    "start_time": "2023-08-28T12:21:39.603Z"
   },
   {
    "duration": 32,
    "start_time": "2023-08-28T12:21:39.620Z"
   },
   {
    "duration": 95,
    "start_time": "2023-08-28T12:21:39.654Z"
   },
   {
    "duration": 262,
    "start_time": "2023-08-28T12:22:41.273Z"
   },
   {
    "duration": 291,
    "start_time": "2023-08-28T12:23:07.324Z"
   },
   {
    "duration": 233,
    "start_time": "2023-08-28T12:23:27.181Z"
   },
   {
    "duration": 259,
    "start_time": "2023-08-28T12:23:37.381Z"
   },
   {
    "duration": 730,
    "start_time": "2023-08-28T12:25:43.510Z"
   },
   {
    "duration": 70,
    "start_time": "2023-08-28T12:28:48.691Z"
   },
   {
    "duration": 24,
    "start_time": "2023-08-28T12:30:14.252Z"
   },
   {
    "duration": 13,
    "start_time": "2023-08-28T12:35:44.815Z"
   },
   {
    "duration": 2325,
    "start_time": "2023-08-28T12:37:25.395Z"
   },
   {
    "duration": 53,
    "start_time": "2023-08-28T12:37:27.722Z"
   },
   {
    "duration": 91,
    "start_time": "2023-08-28T12:37:27.777Z"
   },
   {
    "duration": 45,
    "start_time": "2023-08-28T12:37:27.871Z"
   },
   {
    "duration": 34,
    "start_time": "2023-08-28T12:37:27.919Z"
   },
   {
    "duration": 90,
    "start_time": "2023-08-28T12:37:27.956Z"
   },
   {
    "duration": 94,
    "start_time": "2023-08-28T12:37:28.049Z"
   },
   {
    "duration": 128,
    "start_time": "2023-08-28T12:37:28.144Z"
   },
   {
    "duration": 58,
    "start_time": "2023-08-28T12:37:28.274Z"
   },
   {
    "duration": 88,
    "start_time": "2023-08-28T12:37:28.334Z"
   },
   {
    "duration": 94,
    "start_time": "2023-08-28T12:37:28.424Z"
   },
   {
    "duration": 761,
    "start_time": "2023-08-28T12:37:28.520Z"
   },
   {
    "duration": 78,
    "start_time": "2023-08-28T12:37:29.287Z"
   },
   {
    "duration": 159,
    "start_time": "2023-08-28T12:37:29.368Z"
   },
   {
    "duration": 52,
    "start_time": "2023-08-28T12:37:29.529Z"
   },
   {
    "duration": 98,
    "start_time": "2023-08-28T12:37:29.583Z"
   },
   {
    "duration": 177,
    "start_time": "2023-08-28T12:37:29.685Z"
   },
   {
    "duration": 481,
    "start_time": "2023-08-28T12:37:29.864Z"
   },
   {
    "duration": 489,
    "start_time": "2023-08-28T12:37:30.347Z"
   },
   {
    "duration": 456,
    "start_time": "2023-08-28T12:37:30.838Z"
   },
   {
    "duration": 89,
    "start_time": "2023-08-28T12:37:31.296Z"
   },
   {
    "duration": 67,
    "start_time": "2023-08-28T12:37:31.387Z"
   },
   {
    "duration": 284,
    "start_time": "2023-08-28T12:37:31.456Z"
   },
   {
    "duration": 19,
    "start_time": "2023-08-28T12:37:31.742Z"
   },
   {
    "duration": 693,
    "start_time": "2023-08-28T12:37:31.762Z"
   },
   {
    "duration": 645,
    "start_time": "2023-08-28T12:37:32.457Z"
   },
   {
    "duration": 1709,
    "start_time": "2023-08-28T12:37:33.104Z"
   },
   {
    "duration": 79,
    "start_time": "2023-08-28T12:37:34.814Z"
   },
   {
    "duration": 57,
    "start_time": "2023-08-28T12:37:34.895Z"
   },
   {
    "duration": 93,
    "start_time": "2023-08-28T12:37:34.954Z"
   },
   {
    "duration": 1387,
    "start_time": "2023-08-28T12:37:35.049Z"
   },
   {
    "duration": 631,
    "start_time": "2023-08-28T12:37:36.438Z"
   },
   {
    "duration": 27,
    "start_time": "2023-08-28T12:37:37.071Z"
   },
   {
    "duration": 29,
    "start_time": "2023-08-28T12:37:37.100Z"
   },
   {
    "duration": 109,
    "start_time": "2023-08-28T12:37:37.131Z"
   },
   {
    "duration": 6,
    "start_time": "2023-08-28T12:38:33.979Z"
   },
   {
    "duration": 85,
    "start_time": "2023-08-28T12:44:53.594Z"
   },
   {
    "duration": 2125,
    "start_time": "2023-08-28T12:45:18.221Z"
   },
   {
    "duration": 49,
    "start_time": "2023-08-28T12:45:20.349Z"
   },
   {
    "duration": 33,
    "start_time": "2023-08-28T12:45:20.400Z"
   },
   {
    "duration": 54,
    "start_time": "2023-08-28T12:45:20.435Z"
   },
   {
    "duration": 34,
    "start_time": "2023-08-28T12:45:20.492Z"
   },
   {
    "duration": 90,
    "start_time": "2023-08-28T12:45:20.529Z"
   },
   {
    "duration": 92,
    "start_time": "2023-08-28T12:45:20.621Z"
   },
   {
    "duration": 122,
    "start_time": "2023-08-28T12:45:20.715Z"
   },
   {
    "duration": 62,
    "start_time": "2023-08-28T12:45:20.840Z"
   },
   {
    "duration": 54,
    "start_time": "2023-08-28T12:45:20.904Z"
   },
   {
    "duration": 83,
    "start_time": "2023-08-28T12:45:20.980Z"
   },
   {
    "duration": 719,
    "start_time": "2023-08-28T12:45:21.065Z"
   },
   {
    "duration": 74,
    "start_time": "2023-08-28T12:45:21.786Z"
   },
   {
    "duration": 150,
    "start_time": "2023-08-28T12:45:21.864Z"
   },
   {
    "duration": 42,
    "start_time": "2023-08-28T12:45:22.015Z"
   },
   {
    "duration": 97,
    "start_time": "2023-08-28T12:45:22.059Z"
   },
   {
    "duration": 175,
    "start_time": "2023-08-28T12:45:22.158Z"
   },
   {
    "duration": 427,
    "start_time": "2023-08-28T12:45:22.336Z"
   },
   {
    "duration": 479,
    "start_time": "2023-08-28T12:45:22.766Z"
   },
   {
    "duration": 443,
    "start_time": "2023-08-28T12:45:23.247Z"
   },
   {
    "duration": 71,
    "start_time": "2023-08-28T12:45:23.692Z"
   },
   {
    "duration": 63,
    "start_time": "2023-08-28T12:45:23.782Z"
   },
   {
    "duration": 280,
    "start_time": "2023-08-28T12:45:23.846Z"
   },
   {
    "duration": 17,
    "start_time": "2023-08-28T12:45:24.127Z"
   },
   {
    "duration": 775,
    "start_time": "2023-08-28T12:45:24.146Z"
   },
   {
    "duration": 638,
    "start_time": "2023-08-28T12:45:24.923Z"
   },
   {
    "duration": 1704,
    "start_time": "2023-08-28T12:45:25.563Z"
   },
   {
    "duration": 71,
    "start_time": "2023-08-28T12:45:27.269Z"
   },
   {
    "duration": 78,
    "start_time": "2023-08-28T12:45:27.342Z"
   },
   {
    "duration": 172,
    "start_time": "2023-08-28T12:45:27.421Z"
   },
   {
    "duration": 0,
    "start_time": "2023-08-28T12:45:27.595Z"
   },
   {
    "duration": 0,
    "start_time": "2023-08-28T12:45:27.597Z"
   },
   {
    "duration": 0,
    "start_time": "2023-08-28T12:45:27.598Z"
   },
   {
    "duration": 0,
    "start_time": "2023-08-28T12:45:27.600Z"
   },
   {
    "duration": 0,
    "start_time": "2023-08-28T12:45:27.602Z"
   },
   {
    "duration": 74,
    "start_time": "2023-08-28T12:48:24.067Z"
   },
   {
    "duration": 2288,
    "start_time": "2023-08-28T12:48:34.615Z"
   },
   {
    "duration": 74,
    "start_time": "2023-08-28T12:48:36.908Z"
   },
   {
    "duration": 46,
    "start_time": "2023-08-28T12:48:36.985Z"
   },
   {
    "duration": 69,
    "start_time": "2023-08-28T12:48:37.033Z"
   },
   {
    "duration": 35,
    "start_time": "2023-08-28T12:48:37.105Z"
   },
   {
    "duration": 105,
    "start_time": "2023-08-28T12:48:37.142Z"
   },
   {
    "duration": 91,
    "start_time": "2023-08-28T12:48:37.250Z"
   },
   {
    "duration": 127,
    "start_time": "2023-08-28T12:48:37.344Z"
   },
   {
    "duration": 48,
    "start_time": "2023-08-28T12:48:37.481Z"
   },
   {
    "duration": 82,
    "start_time": "2023-08-28T12:48:37.531Z"
   },
   {
    "duration": 97,
    "start_time": "2023-08-28T12:48:37.615Z"
   },
   {
    "duration": 760,
    "start_time": "2023-08-28T12:48:37.713Z"
   },
   {
    "duration": 85,
    "start_time": "2023-08-28T12:48:38.474Z"
   },
   {
    "duration": 166,
    "start_time": "2023-08-28T12:48:38.562Z"
   },
   {
    "duration": 61,
    "start_time": "2023-08-28T12:48:38.729Z"
   },
   {
    "duration": 96,
    "start_time": "2023-08-28T12:48:38.792Z"
   },
   {
    "duration": 201,
    "start_time": "2023-08-28T12:48:38.891Z"
   },
   {
    "duration": 458,
    "start_time": "2023-08-28T12:48:39.095Z"
   },
   {
    "duration": 472,
    "start_time": "2023-08-28T12:48:39.555Z"
   },
   {
    "duration": 430,
    "start_time": "2023-08-28T12:48:40.029Z"
   },
   {
    "duration": 81,
    "start_time": "2023-08-28T12:48:40.461Z"
   },
   {
    "duration": 86,
    "start_time": "2023-08-28T12:48:40.544Z"
   },
   {
    "duration": 284,
    "start_time": "2023-08-28T12:48:40.632Z"
   },
   {
    "duration": 26,
    "start_time": "2023-08-28T12:48:40.919Z"
   },
   {
    "duration": 693,
    "start_time": "2023-08-28T12:48:40.947Z"
   },
   {
    "duration": 663,
    "start_time": "2023-08-28T12:48:41.643Z"
   },
   {
    "duration": 1761,
    "start_time": "2023-08-28T12:48:42.308Z"
   },
   {
    "duration": 70,
    "start_time": "2023-08-28T12:48:44.071Z"
   },
   {
    "duration": 84,
    "start_time": "2023-08-28T12:48:44.143Z"
   },
   {
    "duration": 92,
    "start_time": "2023-08-28T12:48:44.229Z"
   },
   {
    "duration": 1365,
    "start_time": "2023-08-28T12:48:44.323Z"
   },
   {
    "duration": 597,
    "start_time": "2023-08-28T12:48:45.691Z"
   },
   {
    "duration": 24,
    "start_time": "2023-08-28T12:48:46.290Z"
   },
   {
    "duration": 77,
    "start_time": "2023-08-28T12:48:46.317Z"
   },
   {
    "duration": 86,
    "start_time": "2023-08-28T12:48:46.396Z"
   },
   {
    "duration": 2102,
    "start_time": "2023-08-28T12:50:23.326Z"
   },
   {
    "duration": 52,
    "start_time": "2023-08-28T12:50:25.430Z"
   },
   {
    "duration": 34,
    "start_time": "2023-08-28T12:50:25.484Z"
   },
   {
    "duration": 30,
    "start_time": "2023-08-28T12:50:25.520Z"
   },
   {
    "duration": 55,
    "start_time": "2023-08-28T12:50:25.552Z"
   },
   {
    "duration": 81,
    "start_time": "2023-08-28T12:50:25.609Z"
   },
   {
    "duration": 68,
    "start_time": "2023-08-28T12:50:25.692Z"
   },
   {
    "duration": 136,
    "start_time": "2023-08-28T12:50:25.762Z"
   },
   {
    "duration": 49,
    "start_time": "2023-08-28T12:50:25.900Z"
   },
   {
    "duration": 73,
    "start_time": "2023-08-28T12:50:25.951Z"
   },
   {
    "duration": 89,
    "start_time": "2023-08-28T12:50:26.026Z"
   },
   {
    "duration": 805,
    "start_time": "2023-08-28T12:50:26.117Z"
   },
   {
    "duration": 94,
    "start_time": "2023-08-28T12:50:26.924Z"
   },
   {
    "duration": 134,
    "start_time": "2023-08-28T12:50:27.021Z"
   },
   {
    "duration": 65,
    "start_time": "2023-08-28T12:50:27.157Z"
   },
   {
    "duration": 101,
    "start_time": "2023-08-28T12:50:27.225Z"
   },
   {
    "duration": 172,
    "start_time": "2023-08-28T12:50:27.327Z"
   },
   {
    "duration": 443,
    "start_time": "2023-08-28T12:50:27.501Z"
   },
   {
    "duration": 454,
    "start_time": "2023-08-28T12:50:27.947Z"
   },
   {
    "duration": 433,
    "start_time": "2023-08-28T12:50:28.403Z"
   },
   {
    "duration": 86,
    "start_time": "2023-08-28T12:50:28.838Z"
   },
   {
    "duration": 76,
    "start_time": "2023-08-28T12:50:28.926Z"
   },
   {
    "duration": 281,
    "start_time": "2023-08-28T12:50:29.004Z"
   },
   {
    "duration": 17,
    "start_time": "2023-08-28T12:50:29.287Z"
   },
   {
    "duration": 623,
    "start_time": "2023-08-28T12:50:29.306Z"
   },
   {
    "duration": 618,
    "start_time": "2023-08-28T12:50:29.931Z"
   },
   {
    "duration": 1571,
    "start_time": "2023-08-28T12:50:30.551Z"
   },
   {
    "duration": 73,
    "start_time": "2023-08-28T12:50:32.124Z"
   },
   {
    "duration": 67,
    "start_time": "2023-08-28T12:50:32.200Z"
   },
   {
    "duration": 77,
    "start_time": "2023-08-28T12:50:32.283Z"
   },
   {
    "duration": 1419,
    "start_time": "2023-08-28T12:50:32.363Z"
   },
   {
    "duration": 549,
    "start_time": "2023-08-28T12:50:33.784Z"
   },
   {
    "duration": 16,
    "start_time": "2023-08-28T12:50:34.335Z"
   },
   {
    "duration": 49,
    "start_time": "2023-08-28T12:50:34.352Z"
   },
   {
    "duration": 87,
    "start_time": "2023-08-28T12:50:34.403Z"
   },
   {
    "duration": 584,
    "start_time": "2023-08-28T12:51:23.906Z"
   },
   {
    "duration": 2161,
    "start_time": "2023-08-28T12:53:23.344Z"
   },
   {
    "duration": 54,
    "start_time": "2023-08-28T12:53:25.507Z"
   },
   {
    "duration": 41,
    "start_time": "2023-08-28T12:53:25.562Z"
   },
   {
    "duration": 34,
    "start_time": "2023-08-28T12:53:25.604Z"
   },
   {
    "duration": 59,
    "start_time": "2023-08-28T12:53:25.640Z"
   },
   {
    "duration": 63,
    "start_time": "2023-08-28T12:53:25.701Z"
   },
   {
    "duration": 83,
    "start_time": "2023-08-28T12:53:25.766Z"
   },
   {
    "duration": 133,
    "start_time": "2023-08-28T12:53:25.851Z"
   },
   {
    "duration": 49,
    "start_time": "2023-08-28T12:53:25.986Z"
   },
   {
    "duration": 87,
    "start_time": "2023-08-28T12:53:26.037Z"
   },
   {
    "duration": 93,
    "start_time": "2023-08-28T12:53:26.126Z"
   },
   {
    "duration": 839,
    "start_time": "2023-08-28T12:53:26.221Z"
   },
   {
    "duration": 88,
    "start_time": "2023-08-28T12:53:27.062Z"
   },
   {
    "duration": 153,
    "start_time": "2023-08-28T12:53:27.153Z"
   },
   {
    "duration": 41,
    "start_time": "2023-08-28T12:53:27.308Z"
   },
   {
    "duration": 124,
    "start_time": "2023-08-28T12:53:27.351Z"
   },
   {
    "duration": 159,
    "start_time": "2023-08-28T12:53:27.477Z"
   },
   {
    "duration": 399,
    "start_time": "2023-08-28T12:53:27.638Z"
   },
   {
    "duration": 419,
    "start_time": "2023-08-28T12:53:28.039Z"
   },
   {
    "duration": 435,
    "start_time": "2023-08-28T12:53:28.460Z"
   },
   {
    "duration": 84,
    "start_time": "2023-08-28T12:53:28.897Z"
   },
   {
    "duration": 62,
    "start_time": "2023-08-28T12:53:28.983Z"
   },
   {
    "duration": 295,
    "start_time": "2023-08-28T12:53:29.046Z"
   },
   {
    "duration": 19,
    "start_time": "2023-08-28T12:53:29.343Z"
   },
   {
    "duration": 616,
    "start_time": "2023-08-28T12:53:29.381Z"
   },
   {
    "duration": 574,
    "start_time": "2023-08-28T12:53:29.998Z"
   },
   {
    "duration": 1643,
    "start_time": "2023-08-28T12:53:30.574Z"
   },
   {
    "duration": 102,
    "start_time": "2023-08-28T12:53:32.219Z"
   },
   {
    "duration": 67,
    "start_time": "2023-08-28T12:53:32.323Z"
   },
   {
    "duration": 74,
    "start_time": "2023-08-28T12:53:32.392Z"
   },
   {
    "duration": 1368,
    "start_time": "2023-08-28T12:53:32.481Z"
   },
   {
    "duration": 545,
    "start_time": "2023-08-28T12:53:33.852Z"
   },
   {
    "duration": 18,
    "start_time": "2023-08-28T12:53:34.399Z"
   },
   {
    "duration": 31,
    "start_time": "2023-08-28T12:53:34.418Z"
   },
   {
    "duration": 98,
    "start_time": "2023-08-28T12:53:34.451Z"
   },
   {
    "duration": 534,
    "start_time": "2023-08-28T12:54:49.088Z"
   },
   {
    "duration": 194,
    "start_time": "2023-08-28T12:55:16.142Z"
   },
   {
    "duration": 52,
    "start_time": "2023-08-28T22:31:20.479Z"
   },
   {
    "duration": 2539,
    "start_time": "2023-08-28T22:31:42.118Z"
   },
   {
    "duration": 73,
    "start_time": "2023-08-28T22:31:44.660Z"
   },
   {
    "duration": 67,
    "start_time": "2023-08-28T22:31:44.736Z"
   },
   {
    "duration": 40,
    "start_time": "2023-08-28T22:31:44.805Z"
   },
   {
    "duration": 34,
    "start_time": "2023-08-28T22:31:44.847Z"
   },
   {
    "duration": 58,
    "start_time": "2023-08-28T22:31:44.901Z"
   },
   {
    "duration": 80,
    "start_time": "2023-08-28T22:31:44.961Z"
   },
   {
    "duration": 117,
    "start_time": "2023-08-28T22:31:45.043Z"
   },
   {
    "duration": 59,
    "start_time": "2023-08-28T22:31:45.162Z"
   },
   {
    "duration": 85,
    "start_time": "2023-08-28T22:31:45.222Z"
   },
   {
    "duration": 73,
    "start_time": "2023-08-28T22:31:45.308Z"
   },
   {
    "duration": 710,
    "start_time": "2023-08-28T22:31:45.383Z"
   },
   {
    "duration": 77,
    "start_time": "2023-08-28T22:31:46.095Z"
   },
   {
    "duration": 138,
    "start_time": "2023-08-28T22:31:46.176Z"
   },
   {
    "duration": 40,
    "start_time": "2023-08-28T22:31:46.316Z"
   },
   {
    "duration": 97,
    "start_time": "2023-08-28T22:31:46.358Z"
   },
   {
    "duration": 158,
    "start_time": "2023-08-28T22:31:46.457Z"
   },
   {
    "duration": 477,
    "start_time": "2023-08-28T22:31:46.616Z"
   },
   {
    "duration": 444,
    "start_time": "2023-08-28T22:31:47.095Z"
   },
   {
    "duration": 401,
    "start_time": "2023-08-28T22:31:47.541Z"
   },
   {
    "duration": 84,
    "start_time": "2023-08-28T22:31:47.944Z"
   },
   {
    "duration": 74,
    "start_time": "2023-08-28T22:31:48.030Z"
   },
   {
    "duration": 245,
    "start_time": "2023-08-28T22:31:48.106Z"
   },
   {
    "duration": 16,
    "start_time": "2023-08-28T22:31:48.353Z"
   },
   {
    "duration": 626,
    "start_time": "2023-08-28T22:31:48.371Z"
   },
   {
    "duration": 562,
    "start_time": "2023-08-28T22:31:49.000Z"
   },
   {
    "duration": 259,
    "start_time": "2023-08-28T22:31:49.564Z"
   },
   {
    "duration": 0,
    "start_time": "2023-08-28T22:31:49.825Z"
   },
   {
    "duration": 0,
    "start_time": "2023-08-28T22:31:49.826Z"
   },
   {
    "duration": 0,
    "start_time": "2023-08-28T22:31:49.827Z"
   },
   {
    "duration": 0,
    "start_time": "2023-08-28T22:31:49.829Z"
   },
   {
    "duration": 0,
    "start_time": "2023-08-28T22:31:49.830Z"
   },
   {
    "duration": 0,
    "start_time": "2023-08-28T22:31:49.831Z"
   },
   {
    "duration": 0,
    "start_time": "2023-08-28T22:31:49.832Z"
   },
   {
    "duration": 0,
    "start_time": "2023-08-28T22:31:49.833Z"
   },
   {
    "duration": 1618,
    "start_time": "2023-08-28T22:33:00.044Z"
   },
   {
    "duration": 11,
    "start_time": "2023-08-28T22:41:23.297Z"
   },
   {
    "duration": 2028,
    "start_time": "2023-08-28T22:41:41.633Z"
   },
   {
    "duration": 48,
    "start_time": "2023-08-28T22:41:43.663Z"
   },
   {
    "duration": 32,
    "start_time": "2023-08-28T22:41:43.713Z"
   },
   {
    "duration": 28,
    "start_time": "2023-08-28T22:41:43.747Z"
   },
   {
    "duration": 52,
    "start_time": "2023-08-28T22:41:43.778Z"
   },
   {
    "duration": 73,
    "start_time": "2023-08-28T22:41:43.832Z"
   },
   {
    "duration": 69,
    "start_time": "2023-08-28T22:41:43.907Z"
   },
   {
    "duration": 127,
    "start_time": "2023-08-28T22:41:43.978Z"
   },
   {
    "duration": 45,
    "start_time": "2023-08-28T22:41:44.106Z"
   },
   {
    "duration": 74,
    "start_time": "2023-08-28T22:41:44.152Z"
   },
   {
    "duration": 114,
    "start_time": "2023-08-28T22:41:44.228Z"
   },
   {
    "duration": 734,
    "start_time": "2023-08-28T22:41:44.344Z"
   },
   {
    "duration": 83,
    "start_time": "2023-08-28T22:41:45.081Z"
   },
   {
    "duration": 128,
    "start_time": "2023-08-28T22:41:45.167Z"
   },
   {
    "duration": 35,
    "start_time": "2023-08-28T22:41:45.297Z"
   },
   {
    "duration": 84,
    "start_time": "2023-08-28T22:41:45.333Z"
   },
   {
    "duration": 158,
    "start_time": "2023-08-28T22:41:45.419Z"
   },
   {
    "duration": 424,
    "start_time": "2023-08-28T22:41:45.580Z"
   },
   {
    "duration": 436,
    "start_time": "2023-08-28T22:41:46.006Z"
   },
   {
    "duration": 416,
    "start_time": "2023-08-28T22:41:46.444Z"
   },
   {
    "duration": 77,
    "start_time": "2023-08-28T22:41:46.863Z"
   },
   {
    "duration": 74,
    "start_time": "2023-08-28T22:41:46.942Z"
   },
   {
    "duration": 241,
    "start_time": "2023-08-28T22:41:47.018Z"
   },
   {
    "duration": 17,
    "start_time": "2023-08-28T22:41:47.261Z"
   },
   {
    "duration": 630,
    "start_time": "2023-08-28T22:41:47.281Z"
   },
   {
    "duration": 562,
    "start_time": "2023-08-28T22:41:47.913Z"
   },
   {
    "duration": 121,
    "start_time": "2023-08-28T22:41:48.477Z"
   },
   {
    "duration": 0,
    "start_time": "2023-08-28T22:41:48.602Z"
   },
   {
    "duration": 0,
    "start_time": "2023-08-28T22:41:48.603Z"
   },
   {
    "duration": 0,
    "start_time": "2023-08-28T22:41:48.604Z"
   },
   {
    "duration": 0,
    "start_time": "2023-08-28T22:41:48.605Z"
   },
   {
    "duration": 0,
    "start_time": "2023-08-28T22:41:48.607Z"
   },
   {
    "duration": 0,
    "start_time": "2023-08-28T22:41:48.608Z"
   },
   {
    "duration": 0,
    "start_time": "2023-08-28T22:41:48.609Z"
   },
   {
    "duration": 0,
    "start_time": "2023-08-28T22:41:48.610Z"
   },
   {
    "duration": 2006,
    "start_time": "2023-08-28T22:42:47.501Z"
   },
   {
    "duration": 52,
    "start_time": "2023-08-28T22:42:49.509Z"
   },
   {
    "duration": 46,
    "start_time": "2023-08-28T22:42:49.563Z"
   },
   {
    "duration": 32,
    "start_time": "2023-08-28T22:42:49.611Z"
   },
   {
    "duration": 32,
    "start_time": "2023-08-28T22:42:49.645Z"
   },
   {
    "duration": 61,
    "start_time": "2023-08-28T22:42:49.701Z"
   },
   {
    "duration": 84,
    "start_time": "2023-08-28T22:42:49.765Z"
   },
   {
    "duration": 117,
    "start_time": "2023-08-28T22:42:49.851Z"
   },
   {
    "duration": 66,
    "start_time": "2023-08-28T22:42:49.970Z"
   },
   {
    "duration": 85,
    "start_time": "2023-08-28T22:42:50.038Z"
   },
   {
    "duration": 104,
    "start_time": "2023-08-28T22:42:50.125Z"
   },
   {
    "duration": 702,
    "start_time": "2023-08-28T22:42:50.230Z"
   },
   {
    "duration": 78,
    "start_time": "2023-08-28T22:42:50.933Z"
   },
   {
    "duration": 131,
    "start_time": "2023-08-28T22:42:51.014Z"
   },
   {
    "duration": 37,
    "start_time": "2023-08-28T22:42:51.147Z"
   },
   {
    "duration": 70,
    "start_time": "2023-08-28T22:42:51.201Z"
   },
   {
    "duration": 150,
    "start_time": "2023-08-28T22:42:51.273Z"
   },
   {
    "duration": 423,
    "start_time": "2023-08-28T22:42:51.425Z"
   },
   {
    "duration": 407,
    "start_time": "2023-08-28T22:42:51.850Z"
   },
   {
    "duration": 399,
    "start_time": "2023-08-28T22:42:52.259Z"
   },
   {
    "duration": 78,
    "start_time": "2023-08-28T22:42:52.660Z"
   },
   {
    "duration": 74,
    "start_time": "2023-08-28T22:42:52.740Z"
   },
   {
    "duration": 242,
    "start_time": "2023-08-28T22:42:52.816Z"
   },
   {
    "duration": 15,
    "start_time": "2023-08-28T22:42:53.060Z"
   },
   {
    "duration": 634,
    "start_time": "2023-08-28T22:42:53.077Z"
   },
   {
    "duration": 605,
    "start_time": "2023-08-28T22:42:53.713Z"
   },
   {
    "duration": 174,
    "start_time": "2023-08-28T22:42:54.320Z"
   },
   {
    "duration": 75,
    "start_time": "2023-08-28T22:42:54.500Z"
   },
   {
    "duration": 98,
    "start_time": "2023-08-28T22:42:54.577Z"
   },
   {
    "duration": 1356,
    "start_time": "2023-08-28T22:42:54.677Z"
   },
   {
    "duration": 531,
    "start_time": "2023-08-28T22:42:56.035Z"
   },
   {
    "duration": 15,
    "start_time": "2023-08-28T22:42:56.568Z"
   },
   {
    "duration": 43,
    "start_time": "2023-08-28T22:42:56.585Z"
   },
   {
    "duration": 81,
    "start_time": "2023-08-28T22:42:56.629Z"
   },
   {
    "duration": 26,
    "start_time": "2023-08-28T22:42:56.712Z"
   },
   {
    "duration": 25,
    "start_time": "2023-08-28T22:50:33.661Z"
   },
   {
    "duration": 2239,
    "start_time": "2023-08-28T22:58:34.042Z"
   },
   {
    "duration": 55,
    "start_time": "2023-08-28T22:58:36.284Z"
   },
   {
    "duration": 37,
    "start_time": "2023-08-28T22:58:36.342Z"
   },
   {
    "duration": 42,
    "start_time": "2023-08-28T22:58:36.381Z"
   },
   {
    "duration": 38,
    "start_time": "2023-08-28T22:58:36.426Z"
   },
   {
    "duration": 105,
    "start_time": "2023-08-28T22:58:36.465Z"
   },
   {
    "duration": 77,
    "start_time": "2023-08-28T22:58:36.572Z"
   },
   {
    "duration": 123,
    "start_time": "2023-08-28T22:58:36.651Z"
   },
   {
    "duration": 62,
    "start_time": "2023-08-28T22:58:36.776Z"
   },
   {
    "duration": 72,
    "start_time": "2023-08-28T22:58:36.839Z"
   },
   {
    "duration": 74,
    "start_time": "2023-08-28T22:58:36.913Z"
   },
   {
    "duration": 731,
    "start_time": "2023-08-28T22:58:37.001Z"
   },
   {
    "duration": 97,
    "start_time": "2023-08-28T22:58:37.734Z"
   },
   {
    "duration": 145,
    "start_time": "2023-08-28T22:58:37.835Z"
   },
   {
    "duration": 66,
    "start_time": "2023-08-28T22:58:37.983Z"
   },
   {
    "duration": 90,
    "start_time": "2023-08-28T22:58:38.051Z"
   },
   {
    "duration": 196,
    "start_time": "2023-08-28T22:58:38.142Z"
   },
   {
    "duration": 431,
    "start_time": "2023-08-28T22:58:38.339Z"
   },
   {
    "duration": 475,
    "start_time": "2023-08-28T22:58:38.771Z"
   },
   {
    "duration": 402,
    "start_time": "2023-08-28T22:58:39.248Z"
   },
   {
    "duration": 77,
    "start_time": "2023-08-28T22:58:39.651Z"
   },
   {
    "duration": 71,
    "start_time": "2023-08-28T22:58:39.730Z"
   },
   {
    "duration": 249,
    "start_time": "2023-08-28T22:58:39.803Z"
   },
   {
    "duration": 125,
    "start_time": "2023-08-28T22:58:40.054Z"
   },
   {
    "duration": 735,
    "start_time": "2023-08-28T22:58:40.181Z"
   },
   {
    "duration": 573,
    "start_time": "2023-08-28T22:58:40.918Z"
   },
   {
    "duration": 193,
    "start_time": "2023-08-28T22:58:41.493Z"
   },
   {
    "duration": 63,
    "start_time": "2023-08-28T22:58:41.687Z"
   },
   {
    "duration": 89,
    "start_time": "2023-08-28T22:58:41.752Z"
   },
   {
    "duration": 1303,
    "start_time": "2023-08-28T22:58:41.843Z"
   },
   {
    "duration": 526,
    "start_time": "2023-08-28T22:58:43.149Z"
   },
   {
    "duration": 23,
    "start_time": "2023-08-28T22:58:43.678Z"
   },
   {
    "duration": 48,
    "start_time": "2023-08-28T22:58:43.703Z"
   },
   {
    "duration": 86,
    "start_time": "2023-08-28T22:58:43.752Z"
   },
   {
    "duration": 125,
    "start_time": "2023-08-28T22:58:43.840Z"
   },
   {
    "duration": 2044,
    "start_time": "2023-08-28T22:59:57.316Z"
   },
   {
    "duration": 51,
    "start_time": "2023-08-28T22:59:59.362Z"
   },
   {
    "duration": 34,
    "start_time": "2023-08-28T22:59:59.415Z"
   },
   {
    "duration": 51,
    "start_time": "2023-08-28T22:59:59.451Z"
   },
   {
    "duration": 32,
    "start_time": "2023-08-28T22:59:59.504Z"
   },
   {
    "duration": 79,
    "start_time": "2023-08-28T22:59:59.538Z"
   },
   {
    "duration": 83,
    "start_time": "2023-08-28T22:59:59.619Z"
   },
   {
    "duration": 120,
    "start_time": "2023-08-28T22:59:59.704Z"
   },
   {
    "duration": 48,
    "start_time": "2023-08-28T22:59:59.826Z"
   },
   {
    "duration": 71,
    "start_time": "2023-08-28T22:59:59.876Z"
   },
   {
    "duration": 96,
    "start_time": "2023-08-28T22:59:59.949Z"
   },
   {
    "duration": 730,
    "start_time": "2023-08-28T23:00:00.047Z"
   },
   {
    "duration": 86,
    "start_time": "2023-08-28T23:00:00.780Z"
   },
   {
    "duration": 233,
    "start_time": "2023-08-28T23:00:00.869Z"
   },
   {
    "duration": 41,
    "start_time": "2023-08-28T23:00:01.104Z"
   },
   {
    "duration": 198,
    "start_time": "2023-08-28T23:00:01.147Z"
   },
   {
    "duration": 200,
    "start_time": "2023-08-28T23:00:01.346Z"
   },
   {
    "duration": 428,
    "start_time": "2023-08-28T23:00:01.548Z"
   },
   {
    "duration": 480,
    "start_time": "2023-08-28T23:00:01.978Z"
   },
   {
    "duration": 448,
    "start_time": "2023-08-28T23:00:02.460Z"
   },
   {
    "duration": 75,
    "start_time": "2023-08-28T23:00:02.909Z"
   },
   {
    "duration": 81,
    "start_time": "2023-08-28T23:00:02.986Z"
   },
   {
    "duration": 291,
    "start_time": "2023-08-28T23:00:03.068Z"
   },
   {
    "duration": 16,
    "start_time": "2023-08-28T23:00:03.362Z"
   },
   {
    "duration": 871,
    "start_time": "2023-08-28T23:00:03.380Z"
   },
   {
    "duration": 625,
    "start_time": "2023-08-28T23:00:04.253Z"
   },
   {
    "duration": 188,
    "start_time": "2023-08-28T23:00:04.880Z"
   },
   {
    "duration": 70,
    "start_time": "2023-08-28T23:00:05.070Z"
   },
   {
    "duration": 101,
    "start_time": "2023-08-28T23:00:05.142Z"
   },
   {
    "duration": 1325,
    "start_time": "2023-08-28T23:00:05.245Z"
   },
   {
    "duration": 545,
    "start_time": "2023-08-28T23:00:06.572Z"
   },
   {
    "duration": 17,
    "start_time": "2023-08-28T23:00:07.119Z"
   },
   {
    "duration": 88,
    "start_time": "2023-08-28T23:00:07.139Z"
   },
   {
    "duration": 100,
    "start_time": "2023-08-28T23:00:07.230Z"
   },
   {
    "duration": 28,
    "start_time": "2023-08-28T23:00:07.331Z"
   },
   {
    "duration": 63,
    "start_time": "2023-08-29T13:51:34.988Z"
   },
   {
    "duration": 2421,
    "start_time": "2023-08-29T13:51:40.202Z"
   },
   {
    "duration": 53,
    "start_time": "2023-08-29T13:51:42.625Z"
   },
   {
    "duration": 49,
    "start_time": "2023-08-29T13:51:42.680Z"
   },
   {
    "duration": 46,
    "start_time": "2023-08-29T13:51:42.731Z"
   },
   {
    "duration": 67,
    "start_time": "2023-08-29T13:51:42.780Z"
   },
   {
    "duration": 65,
    "start_time": "2023-08-29T13:51:42.849Z"
   },
   {
    "duration": 85,
    "start_time": "2023-08-29T13:51:42.916Z"
   },
   {
    "duration": 133,
    "start_time": "2023-08-29T13:51:43.003Z"
   },
   {
    "duration": 50,
    "start_time": "2023-08-29T13:51:43.138Z"
   },
   {
    "duration": 65,
    "start_time": "2023-08-29T13:51:43.201Z"
   },
   {
    "duration": 107,
    "start_time": "2023-08-29T13:51:43.267Z"
   },
   {
    "duration": 806,
    "start_time": "2023-08-29T13:51:43.376Z"
   },
   {
    "duration": 101,
    "start_time": "2023-08-29T13:51:44.184Z"
   },
   {
    "duration": 160,
    "start_time": "2023-08-29T13:51:44.301Z"
   },
   {
    "duration": 71,
    "start_time": "2023-08-29T13:51:44.463Z"
   },
   {
    "duration": 116,
    "start_time": "2023-08-29T13:51:44.537Z"
   },
   {
    "duration": 215,
    "start_time": "2023-08-29T13:51:44.654Z"
   },
   {
    "duration": 550,
    "start_time": "2023-08-29T13:51:44.871Z"
   },
   {
    "duration": 18,
    "start_time": "2023-08-29T13:51:45.424Z"
   },
   {
    "duration": 511,
    "start_time": "2023-08-29T13:51:45.444Z"
   },
   {
    "duration": 521,
    "start_time": "2023-08-29T13:51:45.957Z"
   },
   {
    "duration": 96,
    "start_time": "2023-08-29T13:51:46.480Z"
   },
   {
    "duration": 82,
    "start_time": "2023-08-29T13:51:46.579Z"
   },
   {
    "duration": 304,
    "start_time": "2023-08-29T13:51:46.663Z"
   },
   {
    "duration": 36,
    "start_time": "2023-08-29T13:51:46.969Z"
   },
   {
    "duration": 766,
    "start_time": "2023-08-29T13:51:47.008Z"
   },
   {
    "duration": 649,
    "start_time": "2023-08-29T13:51:47.776Z"
   },
   {
    "duration": 191,
    "start_time": "2023-08-29T13:51:48.428Z"
   },
   {
    "duration": 65,
    "start_time": "2023-08-29T13:51:48.622Z"
   },
   {
    "duration": 83,
    "start_time": "2023-08-29T13:51:48.704Z"
   },
   {
    "duration": 1512,
    "start_time": "2023-08-29T13:51:48.789Z"
   },
   {
    "duration": 632,
    "start_time": "2023-08-29T13:51:50.304Z"
   },
   {
    "duration": 17,
    "start_time": "2023-08-29T13:51:50.939Z"
   },
   {
    "duration": 61,
    "start_time": "2023-08-29T13:51:50.957Z"
   },
   {
    "duration": 82,
    "start_time": "2023-08-29T13:51:51.021Z"
   },
   {
    "duration": 32,
    "start_time": "2023-08-29T13:51:51.105Z"
   },
   {
    "duration": 54,
    "start_time": "2023-08-29T15:06:22.198Z"
   },
   {
    "duration": 406,
    "start_time": "2023-08-29T15:07:26.241Z"
   },
   {
    "duration": 179,
    "start_time": "2023-08-29T15:09:22.584Z"
   },
   {
    "duration": 50,
    "start_time": "2023-08-29T15:09:34.432Z"
   },
   {
    "duration": 392,
    "start_time": "2023-08-29T15:09:40.122Z"
   },
   {
    "duration": 387,
    "start_time": "2023-08-29T15:10:37.034Z"
   },
   {
    "duration": 489,
    "start_time": "2023-08-29T15:11:09.556Z"
   },
   {
    "duration": 13,
    "start_time": "2023-08-29T15:12:19.519Z"
   },
   {
    "duration": 238,
    "start_time": "2023-08-29T15:19:09.634Z"
   },
   {
    "duration": 552,
    "start_time": "2023-08-29T15:21:21.312Z"
   },
   {
    "duration": 90,
    "start_time": "2023-08-29T15:25:19.144Z"
   },
   {
    "duration": 95,
    "start_time": "2023-08-29T15:26:21.826Z"
   },
   {
    "duration": 37,
    "start_time": "2023-08-29T15:29:03.437Z"
   },
   {
    "duration": 60,
    "start_time": "2023-08-29T15:31:12.495Z"
   },
   {
    "duration": 41,
    "start_time": "2023-08-29T15:31:30.257Z"
   },
   {
    "duration": 2845,
    "start_time": "2023-08-29T15:32:03.428Z"
   },
   {
    "duration": 90,
    "start_time": "2023-08-29T15:32:06.276Z"
   },
   {
    "duration": 63,
    "start_time": "2023-08-29T15:32:06.369Z"
   },
   {
    "duration": 67,
    "start_time": "2023-08-29T15:32:06.435Z"
   },
   {
    "duration": 85,
    "start_time": "2023-08-29T15:32:06.505Z"
   },
   {
    "duration": 88,
    "start_time": "2023-08-29T15:32:06.591Z"
   },
   {
    "duration": 97,
    "start_time": "2023-08-29T15:32:06.681Z"
   },
   {
    "duration": 140,
    "start_time": "2023-08-29T15:32:06.780Z"
   },
   {
    "duration": 56,
    "start_time": "2023-08-29T15:32:06.924Z"
   },
   {
    "duration": 83,
    "start_time": "2023-08-29T15:32:06.982Z"
   },
   {
    "duration": 105,
    "start_time": "2023-08-29T15:32:07.067Z"
   },
   {
    "duration": 817,
    "start_time": "2023-08-29T15:32:07.174Z"
   },
   {
    "duration": 95,
    "start_time": "2023-08-29T15:32:07.992Z"
   },
   {
    "duration": 154,
    "start_time": "2023-08-29T15:32:08.101Z"
   },
   {
    "duration": 56,
    "start_time": "2023-08-29T15:32:08.257Z"
   },
   {
    "duration": 176,
    "start_time": "2023-08-29T15:32:08.315Z"
   },
   {
    "duration": 254,
    "start_time": "2023-08-29T15:32:08.493Z"
   },
   {
    "duration": 509,
    "start_time": "2023-08-29T15:32:08.749Z"
   },
   {
    "duration": 123,
    "start_time": "2023-08-29T15:32:09.260Z"
   },
   {
    "duration": 63,
    "start_time": "2023-08-29T15:32:09.385Z"
   },
   {
    "duration": 63,
    "start_time": "2023-08-29T15:32:09.450Z"
   },
   {
    "duration": 491,
    "start_time": "2023-08-29T15:32:09.515Z"
   },
   {
    "duration": 397,
    "start_time": "2023-08-29T15:32:10.009Z"
   },
   {
    "duration": 507,
    "start_time": "2023-08-29T15:32:10.409Z"
   },
   {
    "duration": 452,
    "start_time": "2023-08-29T15:32:10.923Z"
   },
   {
    "duration": 94,
    "start_time": "2023-08-29T15:32:11.377Z"
   },
   {
    "duration": 83,
    "start_time": "2023-08-29T15:32:11.473Z"
   },
   {
    "duration": 335,
    "start_time": "2023-08-29T15:32:11.557Z"
   },
   {
    "duration": 22,
    "start_time": "2023-08-29T15:32:11.901Z"
   },
   {
    "duration": 781,
    "start_time": "2023-08-29T15:32:11.925Z"
   },
   {
    "duration": 529,
    "start_time": "2023-08-29T15:32:12.708Z"
   },
   {
    "duration": 222,
    "start_time": "2023-08-29T15:32:13.239Z"
   },
   {
    "duration": 83,
    "start_time": "2023-08-29T15:32:13.464Z"
   },
   {
    "duration": 93,
    "start_time": "2023-08-29T15:32:13.549Z"
   },
   {
    "duration": 1517,
    "start_time": "2023-08-29T15:32:13.644Z"
   },
   {
    "duration": 673,
    "start_time": "2023-08-29T15:32:15.163Z"
   },
   {
    "duration": 18,
    "start_time": "2023-08-29T15:32:15.838Z"
   },
   {
    "duration": 73,
    "start_time": "2023-08-29T15:32:15.858Z"
   },
   {
    "duration": 86,
    "start_time": "2023-08-29T15:32:15.934Z"
   },
   {
    "duration": 31,
    "start_time": "2023-08-29T15:32:16.027Z"
   },
   {
    "duration": 41,
    "start_time": "2023-08-29T15:32:30.447Z"
   },
   {
    "duration": 48,
    "start_time": "2023-08-29T15:32:44.422Z"
   },
   {
    "duration": 253,
    "start_time": "2023-08-29T15:33:10.342Z"
   },
   {
    "duration": 104,
    "start_time": "2023-08-29T15:33:18.741Z"
   },
   {
    "duration": 89,
    "start_time": "2023-08-29T15:33:33.152Z"
   },
   {
    "duration": 75,
    "start_time": "2023-08-29T15:33:44.366Z"
   },
   {
    "duration": 67,
    "start_time": "2023-08-29T15:36:59.442Z"
   },
   {
    "duration": 471,
    "start_time": "2023-08-29T15:39:11.605Z"
   },
   {
    "duration": 11,
    "start_time": "2023-08-29T15:39:30.751Z"
   },
   {
    "duration": 456,
    "start_time": "2023-08-29T15:39:46.394Z"
   },
   {
    "duration": 6,
    "start_time": "2023-08-29T15:42:44.526Z"
   },
   {
    "duration": 5,
    "start_time": "2023-08-29T15:42:53.093Z"
   },
   {
    "duration": 5,
    "start_time": "2023-08-29T15:43:07.595Z"
   },
   {
    "duration": 5,
    "start_time": "2023-08-29T15:43:11.647Z"
   },
   {
    "duration": 10,
    "start_time": "2023-08-29T15:50:57.182Z"
   },
   {
    "duration": 16,
    "start_time": "2023-08-29T15:51:05.112Z"
   },
   {
    "duration": 84,
    "start_time": "2023-08-29T15:58:39.205Z"
   },
   {
    "duration": 2381,
    "start_time": "2023-08-29T16:01:53.353Z"
   },
   {
    "duration": 58,
    "start_time": "2023-08-29T16:01:55.736Z"
   },
   {
    "duration": 55,
    "start_time": "2023-08-29T16:01:55.796Z"
   },
   {
    "duration": 61,
    "start_time": "2023-08-29T16:01:55.853Z"
   },
   {
    "duration": 38,
    "start_time": "2023-08-29T16:01:55.917Z"
   },
   {
    "duration": 99,
    "start_time": "2023-08-29T16:01:55.958Z"
   },
   {
    "duration": 92,
    "start_time": "2023-08-29T16:01:56.059Z"
   },
   {
    "duration": 134,
    "start_time": "2023-08-29T16:01:56.153Z"
   },
   {
    "duration": 67,
    "start_time": "2023-08-29T16:01:56.289Z"
   },
   {
    "duration": 83,
    "start_time": "2023-08-29T16:01:56.358Z"
   },
   {
    "duration": 124,
    "start_time": "2023-08-29T16:01:56.442Z"
   },
   {
    "duration": 820,
    "start_time": "2023-08-29T16:01:56.568Z"
   },
   {
    "duration": 95,
    "start_time": "2023-08-29T16:01:57.390Z"
   },
   {
    "duration": 158,
    "start_time": "2023-08-29T16:01:57.502Z"
   },
   {
    "duration": 66,
    "start_time": "2023-08-29T16:01:57.662Z"
   },
   {
    "duration": 99,
    "start_time": "2023-08-29T16:01:57.730Z"
   },
   {
    "duration": 199,
    "start_time": "2023-08-29T16:01:57.831Z"
   },
   {
    "duration": 485,
    "start_time": "2023-08-29T16:01:58.032Z"
   },
   {
    "duration": 190,
    "start_time": "2023-08-29T16:01:58.520Z"
   },
   {
    "duration": 0,
    "start_time": "2023-08-29T16:01:58.712Z"
   },
   {
    "duration": 0,
    "start_time": "2023-08-29T16:01:58.713Z"
   },
   {
    "duration": 0,
    "start_time": "2023-08-29T16:01:58.716Z"
   },
   {
    "duration": 0,
    "start_time": "2023-08-29T16:01:58.718Z"
   },
   {
    "duration": 0,
    "start_time": "2023-08-29T16:01:58.720Z"
   },
   {
    "duration": 0,
    "start_time": "2023-08-29T16:01:58.725Z"
   },
   {
    "duration": 0,
    "start_time": "2023-08-29T16:01:58.726Z"
   },
   {
    "duration": 0,
    "start_time": "2023-08-29T16:01:58.729Z"
   },
   {
    "duration": 1,
    "start_time": "2023-08-29T16:01:58.730Z"
   },
   {
    "duration": 0,
    "start_time": "2023-08-29T16:01:58.732Z"
   },
   {
    "duration": 0,
    "start_time": "2023-08-29T16:01:58.734Z"
   },
   {
    "duration": 0,
    "start_time": "2023-08-29T16:01:58.735Z"
   },
   {
    "duration": 0,
    "start_time": "2023-08-29T16:01:58.736Z"
   },
   {
    "duration": 0,
    "start_time": "2023-08-29T16:01:58.738Z"
   },
   {
    "duration": 0,
    "start_time": "2023-08-29T16:01:58.740Z"
   },
   {
    "duration": 0,
    "start_time": "2023-08-29T16:01:58.741Z"
   },
   {
    "duration": 0,
    "start_time": "2023-08-29T16:01:58.742Z"
   },
   {
    "duration": 0,
    "start_time": "2023-08-29T16:01:58.743Z"
   },
   {
    "duration": 0,
    "start_time": "2023-08-29T16:01:58.744Z"
   },
   {
    "duration": 0,
    "start_time": "2023-08-29T16:01:58.745Z"
   },
   {
    "duration": 0,
    "start_time": "2023-08-29T16:01:58.746Z"
   },
   {
    "duration": 0,
    "start_time": "2023-08-29T16:01:58.747Z"
   },
   {
    "duration": 0,
    "start_time": "2023-08-29T16:01:58.748Z"
   },
   {
    "duration": 0,
    "start_time": "2023-08-29T16:01:58.749Z"
   },
   {
    "duration": 0,
    "start_time": "2023-08-29T16:01:58.750Z"
   },
   {
    "duration": 0,
    "start_time": "2023-08-29T16:01:58.751Z"
   },
   {
    "duration": 0,
    "start_time": "2023-08-29T16:01:58.752Z"
   },
   {
    "duration": 3517,
    "start_time": "2023-08-29T16:02:26.062Z"
   },
   {
    "duration": 66,
    "start_time": "2023-08-29T16:02:29.582Z"
   },
   {
    "duration": 65,
    "start_time": "2023-08-29T16:02:29.650Z"
   },
   {
    "duration": 54,
    "start_time": "2023-08-29T16:02:29.720Z"
   },
   {
    "duration": 43,
    "start_time": "2023-08-29T16:02:29.776Z"
   },
   {
    "duration": 80,
    "start_time": "2023-08-29T16:02:29.823Z"
   },
   {
    "duration": 80,
    "start_time": "2023-08-29T16:02:29.905Z"
   },
   {
    "duration": 155,
    "start_time": "2023-08-29T16:02:29.987Z"
   },
   {
    "duration": 68,
    "start_time": "2023-08-29T16:02:30.144Z"
   },
   {
    "duration": 61,
    "start_time": "2023-08-29T16:02:30.217Z"
   },
   {
    "duration": 445,
    "start_time": "2023-08-29T16:02:30.280Z"
   },
   {
    "duration": 922,
    "start_time": "2023-08-29T16:02:30.727Z"
   },
   {
    "duration": 103,
    "start_time": "2023-08-29T16:02:31.652Z"
   },
   {
    "duration": 155,
    "start_time": "2023-08-29T16:02:31.756Z"
   },
   {
    "duration": 46,
    "start_time": "2023-08-29T16:02:31.915Z"
   },
   {
    "duration": 334,
    "start_time": "2023-08-29T16:02:31.963Z"
   },
   {
    "duration": 267,
    "start_time": "2023-08-29T16:02:32.300Z"
   },
   {
    "duration": 497,
    "start_time": "2023-08-29T16:02:32.569Z"
   },
   {
    "duration": 434,
    "start_time": "2023-08-29T16:02:33.067Z"
   },
   {
    "duration": 2195,
    "start_time": "2023-08-29T16:03:38.860Z"
   },
   {
    "duration": 62,
    "start_time": "2023-08-29T16:03:41.057Z"
   },
   {
    "duration": 36,
    "start_time": "2023-08-29T16:03:41.122Z"
   },
   {
    "duration": 50,
    "start_time": "2023-08-29T16:03:41.160Z"
   },
   {
    "duration": 38,
    "start_time": "2023-08-29T16:03:41.213Z"
   },
   {
    "duration": 94,
    "start_time": "2023-08-29T16:03:41.253Z"
   },
   {
    "duration": 88,
    "start_time": "2023-08-29T16:03:41.349Z"
   },
   {
    "duration": 134,
    "start_time": "2023-08-29T16:03:41.440Z"
   },
   {
    "duration": 73,
    "start_time": "2023-08-29T16:03:41.577Z"
   },
   {
    "duration": 71,
    "start_time": "2023-08-29T16:03:41.651Z"
   },
   {
    "duration": 102,
    "start_time": "2023-08-29T16:03:41.724Z"
   },
   {
    "duration": 818,
    "start_time": "2023-08-29T16:03:41.828Z"
   },
   {
    "duration": 91,
    "start_time": "2023-08-29T16:03:42.648Z"
   },
   {
    "duration": 142,
    "start_time": "2023-08-29T16:03:42.743Z"
   },
   {
    "duration": 59,
    "start_time": "2023-08-29T16:03:42.887Z"
   },
   {
    "duration": 100,
    "start_time": "2023-08-29T16:03:42.948Z"
   },
   {
    "duration": 168,
    "start_time": "2023-08-29T16:03:43.050Z"
   },
   {
    "duration": 463,
    "start_time": "2023-08-29T16:03:43.221Z"
   },
   {
    "duration": 462,
    "start_time": "2023-08-29T16:03:43.686Z"
   },
   {
    "duration": 2336,
    "start_time": "2023-08-29T16:04:22.463Z"
   },
   {
    "duration": 103,
    "start_time": "2023-08-29T16:04:24.802Z"
   },
   {
    "duration": 50,
    "start_time": "2023-08-29T16:04:24.915Z"
   },
   {
    "duration": 96,
    "start_time": "2023-08-29T16:04:24.967Z"
   },
   {
    "duration": 90,
    "start_time": "2023-08-29T16:04:25.066Z"
   },
   {
    "duration": 162,
    "start_time": "2023-08-29T16:04:25.158Z"
   },
   {
    "duration": 122,
    "start_time": "2023-08-29T16:04:25.322Z"
   },
   {
    "duration": 132,
    "start_time": "2023-08-29T16:04:25.446Z"
   },
   {
    "duration": 74,
    "start_time": "2023-08-29T16:04:25.580Z"
   },
   {
    "duration": 82,
    "start_time": "2023-08-29T16:04:25.655Z"
   },
   {
    "duration": 107,
    "start_time": "2023-08-29T16:04:25.740Z"
   },
   {
    "duration": 931,
    "start_time": "2023-08-29T16:04:25.850Z"
   },
   {
    "duration": 87,
    "start_time": "2023-08-29T16:04:26.782Z"
   },
   {
    "duration": 340,
    "start_time": "2023-08-29T16:04:26.873Z"
   },
   {
    "duration": 54,
    "start_time": "2023-08-29T16:04:27.215Z"
   },
   {
    "duration": 119,
    "start_time": "2023-08-29T16:04:27.272Z"
   },
   {
    "duration": 194,
    "start_time": "2023-08-29T16:04:27.393Z"
   },
   {
    "duration": 497,
    "start_time": "2023-08-29T16:04:27.589Z"
   },
   {
    "duration": 477,
    "start_time": "2023-08-29T16:04:28.088Z"
   },
   {
    "duration": 2202,
    "start_time": "2023-08-29T16:05:27.614Z"
   },
   {
    "duration": 55,
    "start_time": "2023-08-29T16:05:29.819Z"
   },
   {
    "duration": 63,
    "start_time": "2023-08-29T16:05:29.876Z"
   },
   {
    "duration": 34,
    "start_time": "2023-08-29T16:05:29.942Z"
   },
   {
    "duration": 56,
    "start_time": "2023-08-29T16:05:29.979Z"
   },
   {
    "duration": 140,
    "start_time": "2023-08-29T16:05:30.037Z"
   },
   {
    "duration": 110,
    "start_time": "2023-08-29T16:05:30.180Z"
   },
   {
    "duration": 155,
    "start_time": "2023-08-29T16:05:30.291Z"
   },
   {
    "duration": 69,
    "start_time": "2023-08-29T16:05:30.448Z"
   },
   {
    "duration": 92,
    "start_time": "2023-08-29T16:05:30.520Z"
   },
   {
    "duration": 172,
    "start_time": "2023-08-29T16:05:30.615Z"
   },
   {
    "duration": 997,
    "start_time": "2023-08-29T16:05:30.790Z"
   },
   {
    "duration": 95,
    "start_time": "2023-08-29T16:05:31.790Z"
   },
   {
    "duration": 228,
    "start_time": "2023-08-29T16:05:31.901Z"
   },
   {
    "duration": 114,
    "start_time": "2023-08-29T16:05:32.131Z"
   },
   {
    "duration": 200,
    "start_time": "2023-08-29T16:05:32.248Z"
   },
   {
    "duration": 204,
    "start_time": "2023-08-29T16:05:32.450Z"
   },
   {
    "duration": 510,
    "start_time": "2023-08-29T16:05:32.656Z"
   },
   {
    "duration": 455,
    "start_time": "2023-08-29T16:05:33.169Z"
   },
   {
    "duration": 467,
    "start_time": "2023-08-29T16:05:33.627Z"
   },
   {
    "duration": 21,
    "start_time": "2023-08-29T16:05:34.100Z"
   },
   {
    "duration": 20,
    "start_time": "2023-08-29T16:05:34.122Z"
   },
   {
    "duration": 113,
    "start_time": "2023-08-29T16:05:34.144Z"
   },
   {
    "duration": 69,
    "start_time": "2023-08-29T16:05:34.259Z"
   },
   {
    "duration": 39,
    "start_time": "2023-08-29T16:05:34.330Z"
   },
   {
    "duration": 514,
    "start_time": "2023-08-29T16:05:34.371Z"
   },
   {
    "duration": 5,
    "start_time": "2023-08-29T16:05:34.886Z"
   },
   {
    "duration": 87,
    "start_time": "2023-08-29T16:05:34.893Z"
   },
   {
    "duration": 441,
    "start_time": "2023-08-29T16:05:34.982Z"
   },
   {
    "duration": 483,
    "start_time": "2023-08-29T16:05:35.426Z"
   },
   {
    "duration": 476,
    "start_time": "2023-08-29T16:05:35.912Z"
   },
   {
    "duration": 89,
    "start_time": "2023-08-29T16:05:36.390Z"
   },
   {
    "duration": 86,
    "start_time": "2023-08-29T16:05:36.481Z"
   },
   {
    "duration": 300,
    "start_time": "2023-08-29T16:05:36.569Z"
   },
   {
    "duration": 35,
    "start_time": "2023-08-29T16:05:36.871Z"
   },
   {
    "duration": 793,
    "start_time": "2023-08-29T16:05:36.908Z"
   },
   {
    "duration": 549,
    "start_time": "2023-08-29T16:05:37.704Z"
   },
   {
    "duration": 208,
    "start_time": "2023-08-29T16:05:38.255Z"
   },
   {
    "duration": 89,
    "start_time": "2023-08-29T16:05:38.464Z"
   },
   {
    "duration": 110,
    "start_time": "2023-08-29T16:05:38.556Z"
   },
   {
    "duration": 1524,
    "start_time": "2023-08-29T16:05:38.671Z"
   },
   {
    "duration": 622,
    "start_time": "2023-08-29T16:05:40.198Z"
   },
   {
    "duration": 20,
    "start_time": "2023-08-29T16:05:40.822Z"
   },
   {
    "duration": 51,
    "start_time": "2023-08-29T16:05:40.845Z"
   },
   {
    "duration": 81,
    "start_time": "2023-08-29T16:05:40.903Z"
   },
   {
    "duration": 43,
    "start_time": "2023-08-29T16:05:40.986Z"
   },
   {
    "duration": 2198,
    "start_time": "2023-08-29T16:07:14.149Z"
   },
   {
    "duration": 54,
    "start_time": "2023-08-29T16:07:16.349Z"
   },
   {
    "duration": 45,
    "start_time": "2023-08-29T16:07:16.406Z"
   },
   {
    "duration": 60,
    "start_time": "2023-08-29T16:07:16.453Z"
   },
   {
    "duration": 45,
    "start_time": "2023-08-29T16:07:16.515Z"
   },
   {
    "duration": 104,
    "start_time": "2023-08-29T16:07:16.562Z"
   },
   {
    "duration": 91,
    "start_time": "2023-08-29T16:07:16.668Z"
   },
   {
    "duration": 148,
    "start_time": "2023-08-29T16:07:16.761Z"
   },
   {
    "duration": 56,
    "start_time": "2023-08-29T16:07:16.912Z"
   },
   {
    "duration": 87,
    "start_time": "2023-08-29T16:07:16.971Z"
   },
   {
    "duration": 99,
    "start_time": "2023-08-29T16:07:17.060Z"
   },
   {
    "duration": 849,
    "start_time": "2023-08-29T16:07:17.161Z"
   },
   {
    "duration": 94,
    "start_time": "2023-08-29T16:07:18.012Z"
   },
   {
    "duration": 151,
    "start_time": "2023-08-29T16:07:18.108Z"
   },
   {
    "duration": 68,
    "start_time": "2023-08-29T16:07:18.262Z"
   },
   {
    "duration": 105,
    "start_time": "2023-08-29T16:07:18.332Z"
   },
   {
    "duration": 201,
    "start_time": "2023-08-29T16:07:18.439Z"
   },
   {
    "duration": 506,
    "start_time": "2023-08-29T16:07:18.642Z"
   },
   {
    "duration": 461,
    "start_time": "2023-08-29T16:07:19.150Z"
   },
   {
    "duration": 2288,
    "start_time": "2023-08-29T16:07:47.451Z"
   },
   {
    "duration": 52,
    "start_time": "2023-08-29T16:07:49.741Z"
   },
   {
    "duration": 51,
    "start_time": "2023-08-29T16:07:49.794Z"
   },
   {
    "duration": 74,
    "start_time": "2023-08-29T16:07:49.847Z"
   },
   {
    "duration": 35,
    "start_time": "2023-08-29T16:07:49.925Z"
   },
   {
    "duration": 98,
    "start_time": "2023-08-29T16:07:49.963Z"
   },
   {
    "duration": 101,
    "start_time": "2023-08-29T16:07:50.063Z"
   },
   {
    "duration": 140,
    "start_time": "2023-08-29T16:07:50.166Z"
   },
   {
    "duration": 59,
    "start_time": "2023-08-29T16:07:50.309Z"
   },
   {
    "duration": 89,
    "start_time": "2023-08-29T16:07:50.370Z"
   },
   {
    "duration": 98,
    "start_time": "2023-08-29T16:07:50.461Z"
   },
   {
    "duration": 816,
    "start_time": "2023-08-29T16:07:50.562Z"
   },
   {
    "duration": 100,
    "start_time": "2023-08-29T16:07:51.380Z"
   },
   {
    "duration": 174,
    "start_time": "2023-08-29T16:07:51.484Z"
   },
   {
    "duration": 52,
    "start_time": "2023-08-29T16:07:51.660Z"
   },
   {
    "duration": 89,
    "start_time": "2023-08-29T16:07:51.713Z"
   },
   {
    "duration": 177,
    "start_time": "2023-08-29T16:07:51.804Z"
   },
   {
    "duration": 508,
    "start_time": "2023-08-29T16:07:51.983Z"
   },
   {
    "duration": 457,
    "start_time": "2023-08-29T16:07:52.493Z"
   },
   {
    "duration": 438,
    "start_time": "2023-08-29T16:07:52.952Z"
   },
   {
    "duration": 12,
    "start_time": "2023-08-29T16:07:53.392Z"
   },
   {
    "duration": 67,
    "start_time": "2023-08-29T16:07:53.407Z"
   },
   {
    "duration": 144,
    "start_time": "2023-08-29T16:07:53.476Z"
   },
   {
    "duration": 42,
    "start_time": "2023-08-29T16:07:53.622Z"
   },
   {
    "duration": 80,
    "start_time": "2023-08-29T16:07:53.666Z"
   },
   {
    "duration": 486,
    "start_time": "2023-08-29T16:07:53.748Z"
   },
   {
    "duration": 5,
    "start_time": "2023-08-29T16:07:54.236Z"
   },
   {
    "duration": 17,
    "start_time": "2023-08-29T16:07:54.243Z"
   },
   {
    "duration": 2217,
    "start_time": "2023-08-29T16:08:45.255Z"
   },
   {
    "duration": 62,
    "start_time": "2023-08-29T16:08:47.474Z"
   },
   {
    "duration": 36,
    "start_time": "2023-08-29T16:08:47.539Z"
   },
   {
    "duration": 71,
    "start_time": "2023-08-29T16:08:47.577Z"
   },
   {
    "duration": 35,
    "start_time": "2023-08-29T16:08:47.651Z"
   },
   {
    "duration": 83,
    "start_time": "2023-08-29T16:08:47.688Z"
   },
   {
    "duration": 105,
    "start_time": "2023-08-29T16:08:47.772Z"
   },
   {
    "duration": 151,
    "start_time": "2023-08-29T16:08:47.879Z"
   },
   {
    "duration": 85,
    "start_time": "2023-08-29T16:08:48.033Z"
   },
   {
    "duration": 56,
    "start_time": "2023-08-29T16:08:48.121Z"
   },
   {
    "duration": 106,
    "start_time": "2023-08-29T16:08:48.180Z"
   },
   {
    "duration": 850,
    "start_time": "2023-08-29T16:08:48.288Z"
   },
   {
    "duration": 100,
    "start_time": "2023-08-29T16:08:49.139Z"
   },
   {
    "duration": 152,
    "start_time": "2023-08-29T16:08:49.243Z"
   },
   {
    "duration": 73,
    "start_time": "2023-08-29T16:08:49.397Z"
   },
   {
    "duration": 113,
    "start_time": "2023-08-29T16:08:49.472Z"
   },
   {
    "duration": 186,
    "start_time": "2023-08-29T16:08:49.587Z"
   },
   {
    "duration": 518,
    "start_time": "2023-08-29T16:08:49.775Z"
   },
   {
    "duration": 513,
    "start_time": "2023-08-29T16:08:50.295Z"
   },
   {
    "duration": 470,
    "start_time": "2023-08-29T16:08:50.815Z"
   },
   {
    "duration": 23,
    "start_time": "2023-08-29T16:08:51.286Z"
   },
   {
    "duration": 19,
    "start_time": "2023-08-29T16:08:51.312Z"
   },
   {
    "duration": 153,
    "start_time": "2023-08-29T16:08:51.334Z"
   },
   {
    "duration": 63,
    "start_time": "2023-08-29T16:08:51.489Z"
   },
   {
    "duration": 57,
    "start_time": "2023-08-29T16:08:51.554Z"
   },
   {
    "duration": 473,
    "start_time": "2023-08-29T16:08:51.621Z"
   },
   {
    "duration": 17,
    "start_time": "2023-08-29T16:08:52.097Z"
   },
   {
    "duration": 102,
    "start_time": "2023-08-29T16:08:52.118Z"
   },
   {
    "duration": 47,
    "start_time": "2023-08-29T16:08:52.222Z"
   },
   {
    "duration": 371,
    "start_time": "2023-08-29T16:08:52.271Z"
   },
   {
    "duration": 512,
    "start_time": "2023-08-29T16:08:52.644Z"
   },
   {
    "duration": 514,
    "start_time": "2023-08-29T16:08:53.158Z"
   },
   {
    "duration": 104,
    "start_time": "2023-08-29T16:08:53.674Z"
   },
   {
    "duration": 88,
    "start_time": "2023-08-29T16:08:53.780Z"
   },
   {
    "duration": 294,
    "start_time": "2023-08-29T16:08:53.870Z"
   },
   {
    "duration": 17,
    "start_time": "2023-08-29T16:08:54.166Z"
   },
   {
    "duration": 926,
    "start_time": "2023-08-29T16:08:54.185Z"
   },
   {
    "duration": 536,
    "start_time": "2023-08-29T16:08:55.117Z"
   },
   {
    "duration": 208,
    "start_time": "2023-08-29T16:08:55.665Z"
   },
   {
    "duration": 89,
    "start_time": "2023-08-29T16:08:55.874Z"
   },
   {
    "duration": 110,
    "start_time": "2023-08-29T16:08:55.966Z"
   },
   {
    "duration": 1578,
    "start_time": "2023-08-29T16:08:56.079Z"
   },
   {
    "duration": 647,
    "start_time": "2023-08-29T16:08:57.660Z"
   },
   {
    "duration": 26,
    "start_time": "2023-08-29T16:08:58.310Z"
   },
   {
    "duration": 52,
    "start_time": "2023-08-29T16:08:58.339Z"
   },
   {
    "duration": 83,
    "start_time": "2023-08-29T16:08:58.392Z"
   },
   {
    "duration": 48,
    "start_time": "2023-08-29T16:08:58.477Z"
   },
   {
    "duration": 2333,
    "start_time": "2023-08-29T16:10:02.538Z"
   },
   {
    "duration": 73,
    "start_time": "2023-08-29T16:10:04.874Z"
   },
   {
    "duration": 173,
    "start_time": "2023-08-29T16:10:04.951Z"
   },
   {
    "duration": 54,
    "start_time": "2023-08-29T16:10:05.127Z"
   },
   {
    "duration": 205,
    "start_time": "2023-08-29T16:10:05.182Z"
   },
   {
    "duration": 239,
    "start_time": "2023-08-29T16:10:05.389Z"
   },
   {
    "duration": 272,
    "start_time": "2023-08-29T16:10:05.630Z"
   },
   {
    "duration": 147,
    "start_time": "2023-08-29T16:10:05.904Z"
   },
   {
    "duration": 79,
    "start_time": "2023-08-29T16:10:06.054Z"
   },
   {
    "duration": 103,
    "start_time": "2023-08-29T16:10:06.136Z"
   },
   {
    "duration": 109,
    "start_time": "2023-08-29T16:10:06.241Z"
   },
   {
    "duration": 831,
    "start_time": "2023-08-29T16:10:06.352Z"
   },
   {
    "duration": 93,
    "start_time": "2023-08-29T16:10:07.186Z"
   },
   {
    "duration": 161,
    "start_time": "2023-08-29T16:10:07.281Z"
   },
   {
    "duration": 40,
    "start_time": "2023-08-29T16:10:07.444Z"
   },
   {
    "duration": 150,
    "start_time": "2023-08-29T16:10:07.503Z"
   },
   {
    "duration": 183,
    "start_time": "2023-08-29T16:10:07.654Z"
   },
   {
    "duration": 452,
    "start_time": "2023-08-29T16:10:07.840Z"
   },
   {
    "duration": 467,
    "start_time": "2023-08-29T16:10:08.302Z"
   },
   {
    "duration": 484,
    "start_time": "2023-08-29T16:10:08.771Z"
   },
   {
    "duration": 14,
    "start_time": "2023-08-29T16:10:09.257Z"
   },
   {
    "duration": 33,
    "start_time": "2023-08-29T16:10:09.273Z"
   },
   {
    "duration": 102,
    "start_time": "2023-08-29T16:10:09.309Z"
   },
   {
    "duration": 45,
    "start_time": "2023-08-29T16:10:09.413Z"
   },
   {
    "duration": 71,
    "start_time": "2023-08-29T16:10:09.460Z"
   },
   {
    "duration": 450,
    "start_time": "2023-08-29T16:10:09.533Z"
   },
   {
    "duration": 5,
    "start_time": "2023-08-29T16:10:09.984Z"
   },
   {
    "duration": 74,
    "start_time": "2023-08-29T16:10:10.010Z"
   },
   {
    "duration": 2433,
    "start_time": "2023-08-29T16:11:47.525Z"
   },
   {
    "duration": 76,
    "start_time": "2023-08-29T16:11:49.961Z"
   },
   {
    "duration": 36,
    "start_time": "2023-08-29T16:11:50.039Z"
   },
   {
    "duration": 74,
    "start_time": "2023-08-29T16:11:50.078Z"
   },
   {
    "duration": 35,
    "start_time": "2023-08-29T16:11:50.154Z"
   },
   {
    "duration": 94,
    "start_time": "2023-08-29T16:11:50.191Z"
   },
   {
    "duration": 138,
    "start_time": "2023-08-29T16:11:50.287Z"
   },
   {
    "duration": 167,
    "start_time": "2023-08-29T16:11:50.430Z"
   },
   {
    "duration": 72,
    "start_time": "2023-08-29T16:11:50.599Z"
   },
   {
    "duration": 88,
    "start_time": "2023-08-29T16:11:50.675Z"
   },
   {
    "duration": 106,
    "start_time": "2023-08-29T16:11:50.765Z"
   },
   {
    "duration": 932,
    "start_time": "2023-08-29T16:11:50.873Z"
   },
   {
    "duration": 142,
    "start_time": "2023-08-29T16:11:51.807Z"
   },
   {
    "duration": 195,
    "start_time": "2023-08-29T16:11:51.952Z"
   },
   {
    "duration": 45,
    "start_time": "2023-08-29T16:11:52.150Z"
   },
   {
    "duration": 117,
    "start_time": "2023-08-29T16:11:52.202Z"
   },
   {
    "duration": 184,
    "start_time": "2023-08-29T16:11:52.321Z"
   },
   {
    "duration": 537,
    "start_time": "2023-08-29T16:11:52.511Z"
   },
   {
    "duration": 511,
    "start_time": "2023-08-29T16:11:53.050Z"
   },
   {
    "duration": 510,
    "start_time": "2023-08-29T16:11:53.564Z"
   },
   {
    "duration": 25,
    "start_time": "2023-08-29T16:11:54.076Z"
   },
   {
    "duration": 262,
    "start_time": "2023-08-29T16:11:54.104Z"
   },
   {
    "duration": 132,
    "start_time": "2023-08-29T16:11:54.368Z"
   },
   {
    "duration": 51,
    "start_time": "2023-08-29T16:11:54.507Z"
   },
   {
    "duration": 71,
    "start_time": "2023-08-29T16:11:54.560Z"
   },
   {
    "duration": 536,
    "start_time": "2023-08-29T16:11:54.633Z"
   },
   {
    "duration": 5,
    "start_time": "2023-08-29T16:11:55.171Z"
   },
   {
    "duration": 46,
    "start_time": "2023-08-29T16:11:55.181Z"
   },
   {
    "duration": 167,
    "start_time": "2023-08-29T16:11:55.229Z"
   },
   {
    "duration": 404,
    "start_time": "2023-08-29T16:11:55.400Z"
   },
   {
    "duration": 509,
    "start_time": "2023-08-29T16:11:55.806Z"
   },
   {
    "duration": 503,
    "start_time": "2023-08-29T16:11:56.318Z"
   },
   {
    "duration": 99,
    "start_time": "2023-08-29T16:11:56.823Z"
   },
   {
    "duration": 175,
    "start_time": "2023-08-29T16:11:56.929Z"
   },
   {
    "duration": 321,
    "start_time": "2023-08-29T16:11:57.110Z"
   },
   {
    "duration": 21,
    "start_time": "2023-08-29T16:11:57.433Z"
   },
   {
    "duration": 873,
    "start_time": "2023-08-29T16:11:57.456Z"
   },
   {
    "duration": 577,
    "start_time": "2023-08-29T16:11:58.332Z"
   },
   {
    "duration": 225,
    "start_time": "2023-08-29T16:11:58.916Z"
   },
   {
    "duration": 85,
    "start_time": "2023-08-29T16:11:59.145Z"
   },
   {
    "duration": 104,
    "start_time": "2023-08-29T16:11:59.232Z"
   },
   {
    "duration": 1487,
    "start_time": "2023-08-29T16:11:59.338Z"
   },
   {
    "duration": 590,
    "start_time": "2023-08-29T16:12:00.827Z"
   },
   {
    "duration": 19,
    "start_time": "2023-08-29T16:12:01.420Z"
   },
   {
    "duration": 326,
    "start_time": "2023-08-29T16:12:01.442Z"
   },
   {
    "duration": 560,
    "start_time": "2023-08-29T16:12:01.771Z"
   },
   {
    "duration": 310,
    "start_time": "2023-08-29T16:12:02.333Z"
   },
   {
    "duration": 150,
    "start_time": "2023-08-29T16:12:04.342Z"
   },
   {
    "duration": 212,
    "start_time": "2023-08-29T16:13:44.821Z"
   },
   {
    "duration": 105,
    "start_time": "2023-08-29T16:14:03.630Z"
   },
   {
    "duration": 120,
    "start_time": "2023-08-29T16:14:58.195Z"
   },
   {
    "duration": 2482,
    "start_time": "2023-08-29T16:42:17.529Z"
   },
   {
    "duration": 61,
    "start_time": "2023-08-29T16:42:20.013Z"
   },
   {
    "duration": 62,
    "start_time": "2023-08-29T16:42:20.076Z"
   },
   {
    "duration": 53,
    "start_time": "2023-08-29T16:42:20.140Z"
   },
   {
    "duration": 46,
    "start_time": "2023-08-29T16:42:20.195Z"
   },
   {
    "duration": 81,
    "start_time": "2023-08-29T16:42:20.243Z"
   },
   {
    "duration": 93,
    "start_time": "2023-08-29T16:42:20.326Z"
   },
   {
    "duration": 156,
    "start_time": "2023-08-29T16:42:20.422Z"
   },
   {
    "duration": 74,
    "start_time": "2023-08-29T16:42:20.580Z"
   },
   {
    "duration": 82,
    "start_time": "2023-08-29T16:42:20.657Z"
   },
   {
    "duration": 108,
    "start_time": "2023-08-29T16:42:20.742Z"
   },
   {
    "duration": 782,
    "start_time": "2023-08-29T16:42:20.853Z"
   },
   {
    "duration": 98,
    "start_time": "2023-08-29T16:42:21.638Z"
   },
   {
    "duration": 151,
    "start_time": "2023-08-29T16:42:21.739Z"
   },
   {
    "duration": 56,
    "start_time": "2023-08-29T16:42:21.893Z"
   },
   {
    "duration": 109,
    "start_time": "2023-08-29T16:42:21.951Z"
   },
   {
    "duration": 187,
    "start_time": "2023-08-29T16:42:22.062Z"
   },
   {
    "duration": 497,
    "start_time": "2023-08-29T16:42:22.251Z"
   },
   {
    "duration": 89,
    "start_time": "2023-08-29T16:42:22.750Z"
   },
   {
    "duration": 147,
    "start_time": "2023-08-29T16:42:22.841Z"
   },
   {
    "duration": 461,
    "start_time": "2023-08-29T16:42:22.990Z"
   },
   {
    "duration": 440,
    "start_time": "2023-08-29T16:42:23.452Z"
   },
   {
    "duration": 20,
    "start_time": "2023-08-29T16:42:23.893Z"
   },
   {
    "duration": 34,
    "start_time": "2023-08-29T16:42:23.916Z"
   },
   {
    "duration": 95,
    "start_time": "2023-08-29T16:42:23.952Z"
   },
   {
    "duration": 38,
    "start_time": "2023-08-29T16:42:24.049Z"
   },
   {
    "duration": 53,
    "start_time": "2023-08-29T16:42:24.088Z"
   },
   {
    "duration": 421,
    "start_time": "2023-08-29T16:42:24.144Z"
   },
   {
    "duration": 6,
    "start_time": "2023-08-29T16:42:24.567Z"
   },
   {
    "duration": 31,
    "start_time": "2023-08-29T16:42:24.574Z"
   },
   {
    "duration": 177,
    "start_time": "2023-08-29T16:42:24.607Z"
   },
   {
    "duration": 398,
    "start_time": "2023-08-29T16:42:24.791Z"
   },
   {
    "duration": 484,
    "start_time": "2023-08-29T16:42:25.191Z"
   },
   {
    "duration": 480,
    "start_time": "2023-08-29T16:42:25.676Z"
   },
   {
    "duration": 85,
    "start_time": "2023-08-29T16:42:26.158Z"
   },
   {
    "duration": 85,
    "start_time": "2023-08-29T16:42:26.244Z"
   },
   {
    "duration": 283,
    "start_time": "2023-08-29T16:42:26.331Z"
   },
   {
    "duration": 17,
    "start_time": "2023-08-29T16:42:26.616Z"
   },
   {
    "duration": 754,
    "start_time": "2023-08-29T16:42:26.636Z"
   },
   {
    "duration": 532,
    "start_time": "2023-08-29T16:42:27.392Z"
   },
   {
    "duration": 210,
    "start_time": "2023-08-29T16:42:27.927Z"
   },
   {
    "duration": 65,
    "start_time": "2023-08-29T16:42:28.139Z"
   },
   {
    "duration": 81,
    "start_time": "2023-08-29T16:42:28.206Z"
   },
   {
    "duration": 1267,
    "start_time": "2023-08-29T16:46:55.255Z"
   },
   {
    "duration": 119,
    "start_time": "2023-08-29T16:53:23.123Z"
   },
   {
    "duration": 2130,
    "start_time": "2023-08-29T17:01:54.729Z"
   },
   {
    "duration": 56,
    "start_time": "2023-08-29T17:01:56.861Z"
   },
   {
    "duration": 36,
    "start_time": "2023-08-29T17:01:56.919Z"
   },
   {
    "duration": 52,
    "start_time": "2023-08-29T17:01:56.958Z"
   },
   {
    "duration": 35,
    "start_time": "2023-08-29T17:01:57.012Z"
   },
   {
    "duration": 82,
    "start_time": "2023-08-29T17:01:57.049Z"
   },
   {
    "duration": 76,
    "start_time": "2023-08-29T17:01:57.133Z"
   },
   {
    "duration": 135,
    "start_time": "2023-08-29T17:01:57.211Z"
   },
   {
    "duration": 56,
    "start_time": "2023-08-29T17:01:57.348Z"
   },
   {
    "duration": 53,
    "start_time": "2023-08-29T17:01:57.408Z"
   },
   {
    "duration": 108,
    "start_time": "2023-08-29T17:01:57.463Z"
   },
   {
    "duration": 747,
    "start_time": "2023-08-29T17:01:57.573Z"
   },
   {
    "duration": 107,
    "start_time": "2023-08-29T17:01:58.322Z"
   },
   {
    "duration": 142,
    "start_time": "2023-08-29T17:01:58.430Z"
   },
   {
    "duration": 63,
    "start_time": "2023-08-29T17:01:58.574Z"
   },
   {
    "duration": 101,
    "start_time": "2023-08-29T17:01:58.640Z"
   },
   {
    "duration": 184,
    "start_time": "2023-08-29T17:01:58.743Z"
   },
   {
    "duration": 468,
    "start_time": "2023-08-29T17:01:58.928Z"
   },
   {
    "duration": 378,
    "start_time": "2023-08-29T17:01:59.402Z"
   },
   {
    "duration": 472,
    "start_time": "2023-08-29T17:01:59.782Z"
   },
   {
    "duration": 480,
    "start_time": "2023-08-29T17:02:00.257Z"
   },
   {
    "duration": 95,
    "start_time": "2023-08-29T17:02:00.738Z"
   },
   {
    "duration": 81,
    "start_time": "2023-08-29T17:02:00.835Z"
   },
   {
    "duration": 344,
    "start_time": "2023-08-29T17:02:00.920Z"
   },
   {
    "duration": 17,
    "start_time": "2023-08-29T17:02:01.267Z"
   },
   {
    "duration": 698,
    "start_time": "2023-08-29T17:02:01.287Z"
   },
   {
    "duration": 672,
    "start_time": "2023-08-29T17:02:01.987Z"
   },
   {
    "duration": 207,
    "start_time": "2023-08-29T17:02:02.662Z"
   },
   {
    "duration": 80,
    "start_time": "2023-08-29T17:02:02.871Z"
   },
   {
    "duration": 97,
    "start_time": "2023-08-29T17:02:02.953Z"
   },
   {
    "duration": 1443,
    "start_time": "2023-08-29T17:02:03.052Z"
   },
   {
    "duration": 650,
    "start_time": "2023-08-29T17:02:04.501Z"
   },
   {
    "duration": 15,
    "start_time": "2023-08-29T17:02:05.153Z"
   },
   {
    "duration": 57,
    "start_time": "2023-08-29T17:02:05.170Z"
   },
   {
    "duration": 612,
    "start_time": "2023-08-29T17:02:05.229Z"
   },
   {
    "duration": 95,
    "start_time": "2023-08-29T17:02:05.843Z"
   },
   {
    "duration": 30,
    "start_time": "2023-08-29T17:02:05.940Z"
   },
   {
    "duration": 34,
    "start_time": "2023-08-29T17:08:07.782Z"
   },
   {
    "duration": 2272,
    "start_time": "2023-08-29T17:13:13.013Z"
   },
   {
    "duration": 64,
    "start_time": "2023-08-29T17:13:15.287Z"
   },
   {
    "duration": 37,
    "start_time": "2023-08-29T17:13:15.353Z"
   },
   {
    "duration": 44,
    "start_time": "2023-08-29T17:13:15.402Z"
   },
   {
    "duration": 43,
    "start_time": "2023-08-29T17:13:15.447Z"
   },
   {
    "duration": 85,
    "start_time": "2023-08-29T17:13:15.491Z"
   },
   {
    "duration": 97,
    "start_time": "2023-08-29T17:13:15.579Z"
   },
   {
    "duration": 146,
    "start_time": "2023-08-29T17:13:15.678Z"
   },
   {
    "duration": 51,
    "start_time": "2023-08-29T17:13:15.827Z"
   },
   {
    "duration": 75,
    "start_time": "2023-08-29T17:13:15.881Z"
   },
   {
    "duration": 96,
    "start_time": "2023-08-29T17:13:15.958Z"
   },
   {
    "duration": 819,
    "start_time": "2023-08-29T17:13:16.056Z"
   },
   {
    "duration": 103,
    "start_time": "2023-08-29T17:13:16.877Z"
   },
   {
    "duration": 155,
    "start_time": "2023-08-29T17:13:16.982Z"
   },
   {
    "duration": 39,
    "start_time": "2023-08-29T17:13:17.139Z"
   },
   {
    "duration": 106,
    "start_time": "2023-08-29T17:13:17.179Z"
   },
   {
    "duration": 197,
    "start_time": "2023-08-29T17:13:17.287Z"
   },
   {
    "duration": 496,
    "start_time": "2023-08-29T17:13:17.486Z"
   },
   {
    "duration": 390,
    "start_time": "2023-08-29T17:13:17.984Z"
   },
   {
    "duration": 491,
    "start_time": "2023-08-29T17:13:18.376Z"
   },
   {
    "duration": 461,
    "start_time": "2023-08-29T17:13:18.869Z"
   },
   {
    "duration": 87,
    "start_time": "2023-08-29T17:13:19.332Z"
   },
   {
    "duration": 84,
    "start_time": "2023-08-29T17:13:19.421Z"
   },
   {
    "duration": 266,
    "start_time": "2023-08-29T17:13:19.507Z"
   },
   {
    "duration": 29,
    "start_time": "2023-08-29T17:13:19.774Z"
   },
   {
    "duration": 668,
    "start_time": "2023-08-29T17:13:19.805Z"
   },
   {
    "duration": 629,
    "start_time": "2023-08-29T17:13:20.474Z"
   },
   {
    "duration": 187,
    "start_time": "2023-08-29T17:13:21.107Z"
   },
   {
    "duration": 65,
    "start_time": "2023-08-29T17:13:21.296Z"
   },
   {
    "duration": 91,
    "start_time": "2023-08-29T17:13:21.363Z"
   },
   {
    "duration": 1495,
    "start_time": "2023-08-29T17:13:21.456Z"
   },
   {
    "duration": 615,
    "start_time": "2023-08-29T17:13:22.953Z"
   },
   {
    "duration": 15,
    "start_time": "2023-08-29T17:13:23.570Z"
   },
   {
    "duration": 45,
    "start_time": "2023-08-29T17:13:23.601Z"
   },
   {
    "duration": 5,
    "start_time": "2023-08-29T17:13:23.648Z"
   },
   {
    "duration": 105,
    "start_time": "2023-08-29T17:13:23.656Z"
   },
   {
    "duration": 39,
    "start_time": "2023-08-29T17:13:23.763Z"
   },
   {
    "duration": 5158,
    "start_time": "2023-08-29T17:20:42.364Z"
   },
   {
    "duration": 5431,
    "start_time": "2023-08-29T17:22:02.514Z"
   },
   {
    "duration": 5,
    "start_time": "2023-08-29T17:23:09.798Z"
   },
   {
    "duration": 4,
    "start_time": "2023-08-29T17:23:34.163Z"
   },
   {
    "duration": 5,
    "start_time": "2023-08-29T17:24:06.323Z"
   },
   {
    "duration": 2216,
    "start_time": "2023-08-29T17:32:14.675Z"
   },
   {
    "duration": 62,
    "start_time": "2023-08-29T17:32:16.892Z"
   },
   {
    "duration": 47,
    "start_time": "2023-08-29T17:32:16.956Z"
   },
   {
    "duration": 145,
    "start_time": "2023-08-29T17:32:17.006Z"
   },
   {
    "duration": 35,
    "start_time": "2023-08-29T17:32:17.154Z"
   },
   {
    "duration": 72,
    "start_time": "2023-08-29T17:32:17.191Z"
   },
   {
    "duration": 92,
    "start_time": "2023-08-29T17:32:17.266Z"
   },
   {
    "duration": 134,
    "start_time": "2023-08-29T17:32:17.360Z"
   },
   {
    "duration": 60,
    "start_time": "2023-08-29T17:32:17.496Z"
   },
   {
    "duration": 79,
    "start_time": "2023-08-29T17:32:17.558Z"
   },
   {
    "duration": 101,
    "start_time": "2023-08-29T17:32:17.639Z"
   },
   {
    "duration": 805,
    "start_time": "2023-08-29T17:32:17.742Z"
   },
   {
    "duration": 103,
    "start_time": "2023-08-29T17:32:18.549Z"
   },
   {
    "duration": 136,
    "start_time": "2023-08-29T17:32:18.655Z"
   },
   {
    "duration": 64,
    "start_time": "2023-08-29T17:32:18.793Z"
   },
   {
    "duration": 101,
    "start_time": "2023-08-29T17:32:18.858Z"
   },
   {
    "duration": 182,
    "start_time": "2023-08-29T17:32:18.961Z"
   },
   {
    "duration": 450,
    "start_time": "2023-08-29T17:32:19.144Z"
   },
   {
    "duration": 397,
    "start_time": "2023-08-29T17:32:19.595Z"
   },
   {
    "duration": 478,
    "start_time": "2023-08-29T17:32:20.001Z"
   },
   {
    "duration": 465,
    "start_time": "2023-08-29T17:32:20.481Z"
   },
   {
    "duration": 108,
    "start_time": "2023-08-29T17:32:20.948Z"
   },
   {
    "duration": 80,
    "start_time": "2023-08-29T17:32:21.058Z"
   },
   {
    "duration": 316,
    "start_time": "2023-08-29T17:32:21.140Z"
   },
   {
    "duration": 16,
    "start_time": "2023-08-29T17:32:21.458Z"
   },
   {
    "duration": 690,
    "start_time": "2023-08-29T17:32:21.476Z"
   },
   {
    "duration": 616,
    "start_time": "2023-08-29T17:32:22.168Z"
   },
   {
    "duration": 188,
    "start_time": "2023-08-29T17:32:22.786Z"
   },
   {
    "duration": 85,
    "start_time": "2023-08-29T17:32:22.976Z"
   },
   {
    "duration": 100,
    "start_time": "2023-08-29T17:32:23.064Z"
   },
   {
    "duration": 1460,
    "start_time": "2023-08-29T17:32:23.167Z"
   },
   {
    "duration": 655,
    "start_time": "2023-08-29T17:32:24.629Z"
   },
   {
    "duration": 27,
    "start_time": "2023-08-29T17:32:25.286Z"
   },
   {
    "duration": 5000,
    "start_time": "2023-08-29T17:32:25.315Z"
   },
   {
    "duration": 6,
    "start_time": "2023-08-29T17:32:30.318Z"
   },
   {
    "duration": 188,
    "start_time": "2023-08-29T17:32:30.326Z"
   },
   {
    "duration": 140,
    "start_time": "2023-08-29T17:32:30.517Z"
   }
  ],
  "kernelspec": {
   "display_name": "Python 3 (ipykernel)",
   "language": "python",
   "name": "python3"
  },
  "language_info": {
   "codemirror_mode": {
    "name": "ipython",
    "version": 3
   },
   "file_extension": ".py",
   "mimetype": "text/x-python",
   "name": "python",
   "nbconvert_exporter": "python",
   "pygments_lexer": "ipython3",
   "version": "3.9.5"
  },
  "toc": {
   "base_numbering": 1,
   "nav_menu": {},
   "number_sections": true,
   "sideBar": true,
   "skip_h1_title": true,
   "title_cell": "Table of Contents",
   "title_sidebar": "Contents",
   "toc_cell": false,
   "toc_position": {},
   "toc_section_display": true,
   "toc_window_display": false
  }
 },
 "nbformat": 4,
 "nbformat_minor": 2
}
